{
  "nbformat": 4,
  "nbformat_minor": 2,
  "metadata": {
    "colab": {
      "name": "scratchpad",
      "provenance": [],
      "include_colab_link": true
    },
    "kernelspec": {
      "name": "python3",
      "display_name": "Python 3.8.10 64-bit"
    },
    "language_info": {
      "name": "python",
      "version": "3.8.10",
      "mimetype": "text/x-python",
      "codemirror_mode": {
        "name": "ipython",
        "version": 3
      },
      "pygments_lexer": "ipython3",
      "nbconvert_exporter": "python",
      "file_extension": ".py"
    },
    "interpreter": {
      "hash": "916dbcbb3f70747c44a77c7bcd40155683ae19c65e1c03b4aa3499c5328201f1"
    }
  },
  "cells": [
    {
      "cell_type": "code",
      "execution_count": 23,
      "source": [
        "import jax\n",
        "import jax.numpy as jnp\n",
        "import numpy as np\n",
        "jax.devices()"
      ],
      "outputs": [
        {
          "output_type": "execute_result",
          "data": {
            "text/plain": [
              "[TpuDevice(id=0, process_index=0, coords=(0,0,0), core_on_chip=0),\n",
              " TpuDevice(id=1, process_index=0, coords=(0,0,0), core_on_chip=1),\n",
              " TpuDevice(id=2, process_index=0, coords=(1,0,0), core_on_chip=0),\n",
              " TpuDevice(id=3, process_index=0, coords=(1,0,0), core_on_chip=1),\n",
              " TpuDevice(id=4, process_index=0, coords=(0,1,0), core_on_chip=0),\n",
              " TpuDevice(id=5, process_index=0, coords=(0,1,0), core_on_chip=1),\n",
              " TpuDevice(id=6, process_index=0, coords=(1,1,0), core_on_chip=0),\n",
              " TpuDevice(id=7, process_index=0, coords=(1,1,0), core_on_chip=1)]"
            ]
          },
          "metadata": {},
          "execution_count": 23
        }
      ],
      "metadata": {
        "id": "lIYdn1woOS1n"
      }
    },
    {
      "cell_type": "markdown",
      "source": [
        "# Sample MCMC chains in parallel\n",
        "\n",
        "https://github.com/blackjax-devs/blackjax/blob/main/notebooks/Introduction.ipynb\n"
      ],
      "metadata": {}
    },
    {
      "cell_type": "markdown",
      "source": [
        "## Setup"
      ],
      "metadata": {}
    },
    {
      "cell_type": "code",
      "execution_count": 37,
      "source": [
        "pip install blackjax"
      ],
      "outputs": [
        {
          "output_type": "stream",
          "name": "stdout",
          "text": [
            "Defaulting to user installation because normal site-packages is not writeable\n",
            "Collecting blackjax\n",
            "  Downloading blackjax-0.2.1-py3-none-any.whl (48 kB)\n",
            "\u001b[K     |████████████████████████████████| 48 kB 3.5 MB/s \n",
            "\u001b[?25hInstalling collected packages: blackjax\n",
            "Successfully installed blackjax-0.2.1\n",
            "Note: you may need to restart the kernel to use updated packages.\n"
          ]
        }
      ],
      "metadata": {}
    },
    {
      "cell_type": "code",
      "execution_count": 38,
      "source": [
        "import jax\n",
        "import jax.numpy as jnp\n",
        "import jax.scipy.stats as stats\n",
        "import matplotlib.pyplot as plt\n",
        "import numpy as np\n",
        "\n",
        "import blackjax.hmc as hmc\n",
        "import blackjax.nuts as nuts\n",
        "import blackjax.stan_warmup as stan_warmup"
      ],
      "outputs": [],
      "metadata": {}
    },
    {
      "cell_type": "markdown",
      "source": [
        "## Model"
      ],
      "metadata": {}
    },
    {
      "cell_type": "code",
      "execution_count": 43,
      "source": [
        "loc, scale = 10, 20\n",
        "observed = np.random.normal(loc, scale, size=1_000)\n",
        "\n",
        "def potential_fn(loc, scale, observed=observed):\n",
        "    \"\"\"Univariate Normal\"\"\"\n",
        "    logpdf = stats.norm.logpdf(observed, loc, scale)\n",
        "    return -jnp.sum(logpdf)\n",
        "\n",
        "\n",
        "potential = lambda x: potential_fn(**x)\n",
        "\n",
        "initial_position = {\"loc\": 1.0, \"scale\": 2.0}\n",
        "initial_state = hmc.new_state(initial_position, potential)\n",
        "print(initial_state)\n",
        "\n",
        "inv_mass_matrix = np.array([0.5, 0.5])\n",
        "num_integration_steps = 60\n",
        "step_size = 1e-3\n",
        "\n",
        "\n",
        "\n"
      ],
      "outputs": [
        {
          "output_type": "stream",
          "name": "stdout",
          "text": [
            "HMCState(position={'loc': 1.0, 'scale': 2.0}, potential_energy=DeviceArray(63537.625, dtype=float32), potential_energy_grad={'loc': DeviceArray(-2262.4763, dtype=float32, weak_type=True), 'scale': DeviceArray(-61425.547, dtype=float32, weak_type=True)})\n"
          ]
        }
      ],
      "metadata": {}
    },
    {
      "cell_type": "markdown",
      "source": [
        "## Single chain"
      ],
      "metadata": {}
    },
    {
      "cell_type": "code",
      "execution_count": null,
      "source": [
        "hmc_kernel = hmc.kernel(potential, step_size, inv_mass_matrix, num_integration_steps)\n",
        "hmc_kernel = jax.jit(hmc_kernel)\n",
        "\n",
        "def inference_loop(rng_key, kernel, initial_state, num_samples):\n",
        "    def one_step(state, rng_key):\n",
        "        state, _ = kernel(rng_key, state)\n",
        "        return state, state\n",
        "\n",
        "    keys = jax.random.split(rng_key, num_samples)\n",
        "    _, states = jax.lax.scan(one_step, initial_state, keys)\n",
        "\n",
        "    return states"
      ],
      "outputs": [],
      "metadata": {}
    },
    {
      "cell_type": "code",
      "execution_count": 41,
      "source": [
        "%%time\n",
        "rng_key = jax.random.PRNGKey(0)\n",
        "states = inference_loop(rng_key, hmc_kernel, initial_state, 10_000)\n",
        "\n",
        "loc_samples = states.position[\"loc\"].block_until_ready()\n",
        "scale_samples = states.position[\"scale\"]"
      ],
      "outputs": [
        {
          "output_type": "stream",
          "name": "stdout",
          "text": [
            "CPU times: user 989 ms, sys: 0 ns, total: 989 ms\n",
            "Wall time: 4.34 s\n"
          ]
        }
      ],
      "metadata": {}
    },
    {
      "cell_type": "code",
      "execution_count": 42,
      "source": [
        "\n",
        "print(loc_samples.shape)\n",
        "\n",
        "fig, (ax, ax1) = plt.subplots(ncols=2, figsize=(15, 6))\n",
        "ax.plot(loc_samples)\n",
        "ax.set_xlabel(\"Samples\")\n",
        "ax.set_ylabel(\"loc\")\n",
        "\n",
        "ax1.plot(scale_samples)\n",
        "ax1.set_xlabel(\"Samples\")\n",
        "ax.set_ylabel(\"scale\")"
      ],
      "outputs": [
        {
          "output_type": "stream",
          "name": "stdout",
          "text": [
            "(10000,)\n"
          ]
        },
        {
          "output_type": "execute_result",
          "data": {
            "text/plain": [
              "Text(0, 0.5, 'scale')"
            ]
          },
          "metadata": {},
          "execution_count": 42
        },
        {
          "output_type": "display_data",
          "data": {
            "image/png": "[encoded data removed]",
            "text/plain": [
              "<Figure size 1080x432 with 2 Axes>"
            ]
          },
          "metadata": {
            "needs_background": "light"
          }
        }
      ],
      "metadata": {}
    },
    {
      "cell_type": "code",
      "execution_count": null,
      "source": [],
      "outputs": [],
      "metadata": {}
    },
    {
      "cell_type": "markdown",
      "source": [
        "## Multiple chains (VMAP)"
      ],
      "metadata": {}
    },
    {
      "cell_type": "code",
      "execution_count": 45,
      "source": [
        "\n",
        "\n",
        "def inference_loop_multiple_chains(\n",
        "    rng_key, kernel, initial_state, num_samples, num_chains):\n",
        "    def one_step(states, rng_key):\n",
        "        keys = jax.random.split(rng_key, num_chains)\n",
        "        states, _ = jax.vmap(kernel)(keys, states)\n",
        "        return states, states\n",
        "\n",
        "    keys = jax.random.split(rng_key, num_samples)\n",
        "    _, states = jax.lax.scan(one_step, initial_state, keys)\n",
        "\n",
        "    return states"
      ],
      "outputs": [],
      "metadata": {}
    },
    {
      "cell_type": "code",
      "execution_count": 46,
      "source": [
        "\n",
        "%%time\n",
        "\n",
        "num_chains = 40\n",
        "initial_positions = {\"loc\": np.ones(num_chains), \"scale\": 2.0 * np.ones(num_chains)}\n",
        "initial_states = jax.vmap(hmc.new_state, in_axes=(0, None))(\n",
        "    initial_positions, potential\n",
        ")\n",
        "\n",
        "states = inference_loop_multiple_chains(rng_key, hmc_kernel, initial_states, 2_000, num_chains)\n",
        "states.position[\"loc\"].block_until_ready()\n",
        "\n",
        "print(states.position[\"loc\"].shape)"
      ],
      "outputs": [
        {
          "output_type": "stream",
          "name": "stdout",
          "text": [
            "(2000, 40)\n",
            "CPU times: user 1.5 s, sys: 0 ns, total: 1.5 s\n",
            "Wall time: 2.17 s\n"
          ]
        }
      ],
      "metadata": {}
    },
    {
      "cell_type": "markdown",
      "source": [
        "## Multiple chains (PMAP)"
      ],
      "metadata": {}
    },
    {
      "cell_type": "code",
      "execution_count": 48,
      "source": [
        "def inference_loop_pmap(\n",
        "    rng_key, kernel, initial_state, num_samples, num_chains):\n",
        "    def one_step(states, rng_key):\n",
        "        keys = jax.random.split(rng_key, num_chains)\n",
        "        states, _ = jax.pmap(kernel)(keys, states)\n",
        "        return states, states\n",
        "\n",
        "    keys = jax.random.split(rng_key, num_samples)\n",
        "    _, states = jax.lax.scan(one_step, initial_state, keys)\n",
        "\n",
        "    return states"
      ],
      "outputs": [],
      "metadata": {}
    },
    {
      "cell_type": "code",
      "execution_count": 49,
      "source": [
        "%%time\n",
        "\n",
        "num_chains = 40\n",
        "initial_positions = {\"loc\": np.ones(num_chains), \"scale\": 2.0 * np.ones(num_chains)}\n",
        "initial_states = jax.vmap(hmc.new_state, in_axes=(0, None))(\n",
        "    initial_positions, potential\n",
        ")\n",
        "\n",
        "states = inference_loop_pmap(rng_key, hmc_kernel, initial_states, 2_000, num_chains)\n",
        "states.position[\"loc\"].block_until_ready()\n",
        "\n",
        "print(states.position[\"loc\"].shape)"
      ],
      "outputs": [
        {
          "output_type": "error",
          "ename": "ValueError",
          "evalue": "compiling a primitive computation `scan` that requires 40 replicas, but only 8 XLA devices are available on backend tpu.",
          "traceback": [
            "\u001b[0;31m---------------------------------------------------------------------------\u001b[0m",
            "\u001b[0;31mValueError\u001b[0m                                Traceback (most recent call last)",
            "\u001b[0;32m<timed exec>\u001b[0m in \u001b[0;36m<module>\u001b[0;34m\u001b[0m\n",
            "\u001b[0;32m/tmp/ipykernel_9742/3062495998.py\u001b[0m in \u001b[0;36minference_loop_pmap\u001b[0;34m(rng_key, kernel, initial_state, num_samples, num_chains)\u001b[0m\n\u001b[1;32m      7\u001b[0m \u001b[0;34m\u001b[0m\u001b[0m\n\u001b[1;32m      8\u001b[0m     \u001b[0mkeys\u001b[0m \u001b[0;34m=\u001b[0m \u001b[0mjax\u001b[0m\u001b[0;34m.\u001b[0m\u001b[0mrandom\u001b[0m\u001b[0;34m.\u001b[0m\u001b[0msplit\u001b[0m\u001b[0;34m(\u001b[0m\u001b[0mrng_key\u001b[0m\u001b[0;34m,\u001b[0m \u001b[0mnum_samples\u001b[0m\u001b[0;34m)\u001b[0m\u001b[0;34m\u001b[0m\u001b[0;34m\u001b[0m\u001b[0m\n\u001b[0;32m----> 9\u001b[0;31m     \u001b[0m_\u001b[0m\u001b[0;34m,\u001b[0m \u001b[0mstates\u001b[0m \u001b[0;34m=\u001b[0m \u001b[0mjax\u001b[0m\u001b[0;34m.\u001b[0m\u001b[0mlax\u001b[0m\u001b[0;34m.\u001b[0m\u001b[0mscan\u001b[0m\u001b[0;34m(\u001b[0m\u001b[0mone_step\u001b[0m\u001b[0;34m,\u001b[0m \u001b[0minitial_state\u001b[0m\u001b[0;34m,\u001b[0m \u001b[0mkeys\u001b[0m\u001b[0;34m)\u001b[0m\u001b[0;34m\u001b[0m\u001b[0;34m\u001b[0m\u001b[0m\n\u001b[0m\u001b[1;32m     10\u001b[0m \u001b[0;34m\u001b[0m\u001b[0m\n\u001b[1;32m     11\u001b[0m     \u001b[0;32mreturn\u001b[0m \u001b[0mstates\u001b[0m\u001b[0;34m\u001b[0m\u001b[0;34m\u001b[0m\u001b[0m\n",
            "    \u001b[0;31m[... skipping hidden 8 frame]\u001b[0m\n",
            "\u001b[0;32m/usr/local/lib/python3.8/dist-packages/jax/interpreters/xla.py\u001b[0m in \u001b[0;36mxla_primitive_callable\u001b[0;34m(prim, *arg_specs, **params)\u001b[0m\n\u001b[1;32m    310\u001b[0m \u001b[0;34m\u001b[0m\u001b[0m\n\u001b[1;32m    311\u001b[0m   \u001b[0;32mif\u001b[0m \u001b[0mnreps\u001b[0m \u001b[0;34m>\u001b[0m \u001b[0mxb\u001b[0m\u001b[0;34m.\u001b[0m\u001b[0mdevice_count\u001b[0m\u001b[0;34m(\u001b[0m\u001b[0mbackend\u001b[0m\u001b[0;34m)\u001b[0m\u001b[0;34m:\u001b[0m\u001b[0;34m\u001b[0m\u001b[0;34m\u001b[0m\u001b[0m\n\u001b[0;32m--> 312\u001b[0;31m     raise ValueError(\n\u001b[0m\u001b[1;32m    313\u001b[0m         \u001b[0;34mf\"compiling a primitive computation `{prim}` that requires {nreps} \"\u001b[0m\u001b[0;34m\u001b[0m\u001b[0;34m\u001b[0m\u001b[0m\n\u001b[1;32m    314\u001b[0m         \u001b[0;34mf\"replicas, but only {xb.device_count(backend)} XLA devices are \"\u001b[0m\u001b[0;34m\u001b[0m\u001b[0;34m\u001b[0m\u001b[0m\n",
            "\u001b[0;31mValueError\u001b[0m: compiling a primitive computation `scan` that requires 40 replicas, but only 8 XLA devices are available on backend tpu."
          ]
        }
      ],
      "metadata": {}
    }
  ]
}