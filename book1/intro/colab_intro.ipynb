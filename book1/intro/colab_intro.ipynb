{
  "nbformat": 4,
  "nbformat_minor": 0,
  "metadata": {
    "colab": {
      "name": " colab_intro.ipynb",
      "provenance": [],
      "toc_visible": true,
      "machine_shape": "hm",
      "include_colab_link": true
    },
    "kernelspec": {
      "name": "python3",
      "display_name": "Python 3"
    },
    "accelerator": "GPU"
  },
  "cells": [
    {
      "cell_type": "markdown",
      "metadata": {
        "id": "view-in-github",
        "colab_type": "text"
      },
      "source": [
        "<a href=\"https://colab.research.google.com/github/probml/pyprobml/blob/master/book1/intro/colab_intro.ipynb\" target=\"_parent\"><img src=\"https://colab.research.google.com/assets/colab-badge.svg\" alt=\"Open In Colab\"/></a>"
      ]
    },
    {
      "cell_type": "markdown",
      "metadata": {
        "id": "24_OboyL7tqe"
      },
      "source": [
        "# Introduction to colab\n",
        "\n",
        "Colab is Google's version of Jupyter notebooks, but has the following advantages:\n",
        "- it runs in the cloud, not locally, so you can use it from a cheap laptop, such as a Chromebook\n",
        "- it has nearly all of the packages you need for doing ML pre-installed\n",
        "- it gives you free access to GPUs\n",
        "- it has various other useful features, such as ways to hide your code and have it be controlled via [a simple GUI](https://colab.research.google.com/notebooks/forms.ipynb) for use by non-programmers\n",
        "\n",
        "More details can be found in the [official introduction](https://colab.research.google.com/notebooks/intro.ipynb). Below we describe a few more tips and tricks, focusing on methods that I have found useful when developing the book. (More advanced tricks can be found in [this blog post](https://medium.com/@robertbracco1/configuring-google-colab-like-a-pro-d61c253f7573#4cf4).)\n"
      ]
    },
    {
      "cell_type": "code",
      "metadata": {
        "colab": {
          "base_uri": "https://localhost:8080/"
        },
        "id": "ZjFsGQJ41k32",
        "outputId": "fe9e76a3-ee97-41ca-ad44-144cdff8d06e"
      },
      "source": [
        "IS_COLAB = ('google.colab' in str(get_ipython()))\n",
        "print(IS_COLAB)\n"
      ],
      "execution_count": 4,
      "outputs": [
        {
          "output_type": "stream",
          "text": [
            "True\n"
          ],
          "name": "stdout"
        }
      ]
    },
    {
      "cell_type": "code",
      "metadata": {
        "id": "B4KQOCig_xf1"
      },
      "source": [
        "# Standard Python libraries\n",
        "from __future__ import absolute_import, division, print_function, unicode_literals\n",
        "\n",
        "import os\n",
        "import time\n",
        "import glob\n",
        "\n",
        "from typing import Any, Callable, Dict, Iterator, Mapping, Optional, Sequence, Tuple"
      ],
      "execution_count": 5,
      "outputs": []
    },
    {
      "cell_type": "markdown",
      "metadata": {
        "id": "8lAbDqny-vDq"
      },
      "source": [
        "# How to import and use standard libraries"
      ]
    },
    {
      "cell_type": "markdown",
      "metadata": {
        "id": "XHO2_uKXMbD4"
      },
      "source": [
        "Colab comes with most of the packages we need pre-installed. \n",
        "You can see them all using this command.\n",
        "\n",
        "\n",
        "\n"
      ]
    },
    {
      "cell_type": "code",
      "metadata": {
        "colab": {
          "base_uri": "https://localhost:8080/"
        },
        "id": "0C54AJx40vJq",
        "outputId": "accb047b-6ac3-4e3c-97c5-6f3e1ccf7823"
      },
      "source": [
        "!pip list -v "
      ],
      "execution_count": 3,
      "outputs": [
        {
          "output_type": "stream",
          "text": [
            "Package                       Version         Location                               Installer\n",
            "----------------------------- --------------- -------------------------------------- ---------\n",
            "absl-py                       0.10.0          /usr/local/lib/python3.6/dist-packages pip      \n",
            "alabaster                     0.7.12          /usr/local/lib/python3.6/dist-packages pip      \n",
            "albumentations                0.1.12          /usr/local/lib/python3.6/dist-packages pip      \n",
            "altair                        4.1.0           /usr/local/lib/python3.6/dist-packages pip      \n",
            "argon2-cffi                   20.1.0          /usr/local/lib/python3.6/dist-packages pip      \n",
            "asgiref                       3.3.1           /usr/local/lib/python3.6/dist-packages pip      \n",
            "astor                         0.8.1           /usr/local/lib/python3.6/dist-packages pip      \n",
            "astropy                       4.1             /usr/local/lib/python3.6/dist-packages pip      \n",
            "astunparse                    1.6.3           /usr/local/lib/python3.6/dist-packages pip      \n",
            "async-generator               1.10            /usr/local/lib/python3.6/dist-packages pip      \n",
            "atari-py                      0.2.6           /usr/local/lib/python3.6/dist-packages pip      \n",
            "atomicwrites                  1.4.0           /usr/local/lib/python3.6/dist-packages pip      \n",
            "attrs                         20.3.0          /usr/local/lib/python3.6/dist-packages pip      \n",
            "audioread                     2.1.9           /usr/local/lib/python3.6/dist-packages pip      \n",
            "autograd                      1.3             /usr/local/lib/python3.6/dist-packages pip      \n",
            "Babel                         2.9.0           /usr/local/lib/python3.6/dist-packages pip      \n",
            "backcall                      0.2.0           /usr/local/lib/python3.6/dist-packages pip      \n",
            "beautifulsoup4                4.6.3           /usr/local/lib/python3.6/dist-packages pip      \n",
            "bleach                        3.2.1           /usr/local/lib/python3.6/dist-packages pip      \n",
            "blis                          0.4.1           /usr/local/lib/python3.6/dist-packages pip      \n",
            "bokeh                         2.1.1           /usr/local/lib/python3.6/dist-packages pip      \n",
            "Bottleneck                    1.3.2           /usr/local/lib/python3.6/dist-packages pip      \n",
            "branca                        0.4.2           /usr/local/lib/python3.6/dist-packages pip      \n",
            "bs4                           0.0.1           /usr/local/lib/python3.6/dist-packages pip      \n",
            "CacheControl                  0.12.6          /usr/local/lib/python3.6/dist-packages pip      \n",
            "cachetools                    4.2.0           /usr/local/lib/python3.6/dist-packages pip      \n",
            "catalogue                     1.0.0           /usr/local/lib/python3.6/dist-packages pip      \n",
            "certifi                       2020.12.5       /usr/local/lib/python3.6/dist-packages pip      \n",
            "cffi                          1.14.4          /usr/local/lib/python3.6/dist-packages pip      \n",
            "chainer                       7.4.0           /usr/local/lib/python3.6/dist-packages pip      \n",
            "chardet                       3.0.4           /usr/local/lib/python3.6/dist-packages pip      \n",
            "click                         7.1.2           /usr/local/lib/python3.6/dist-packages pip      \n",
            "cloudpickle                   1.3.0           /usr/local/lib/python3.6/dist-packages pip      \n",
            "cmake                         3.12.0          /usr/local/lib/python3.6/dist-packages pip      \n",
            "cmdstanpy                     0.9.5           /usr/local/lib/python3.6/dist-packages pip      \n",
            "colorlover                    0.3.0           /usr/local/lib/python3.6/dist-packages pip      \n",
            "community                     1.0.0b1         /usr/local/lib/python3.6/dist-packages pip      \n",
            "conda                         4.3.16          /usr/local/lib/python3.6/dist-packages pip      \n",
            "contextlib2                   0.5.5           /usr/local/lib/python3.6/dist-packages pip      \n",
            "convertdate                   2.2.0           /usr/local/lib/python3.6/dist-packages pip      \n",
            "coverage                      3.7.1           /usr/local/lib/python3.6/dist-packages pip      \n",
            "coveralls                     0.5             /usr/local/lib/python3.6/dist-packages pip      \n",
            "crcmod                        1.7             /usr/local/lib/python3.6/dist-packages pip      \n",
            "cufflinks                     0.17.3          /usr/local/lib/python3.6/dist-packages pip      \n",
            "cupy-cuda101                  7.4.0           /usr/local/lib/python3.6/dist-packages pip      \n",
            "cvxopt                        1.2.5           /usr/local/lib/python3.6/dist-packages pip      \n",
            "cvxpy                         1.0.31          /usr/local/lib/python3.6/dist-packages pip      \n",
            "cycler                        0.10.0          /usr/local/lib/python3.6/dist-packages pip      \n",
            "cymem                         2.0.5           /usr/local/lib/python3.6/dist-packages pip      \n",
            "Cython                        0.29.21         /usr/local/lib/python3.6/dist-packages pip      \n",
            "daft                          0.0.4           /usr/local/lib/python3.6/dist-packages pip      \n",
            "dask                          2.12.0          /usr/local/lib/python3.6/dist-packages pip      \n",
            "dataclasses                   0.8             /usr/local/lib/python3.6/dist-packages pip      \n",
            "datascience                   0.10.6          /usr/local/lib/python3.6/dist-packages pip      \n",
            "debugpy                       1.0.0           /usr/local/lib/python3.6/dist-packages pip      \n",
            "decorator                     4.4.2           /usr/local/lib/python3.6/dist-packages pip      \n",
            "defusedxml                    0.6.0           /usr/local/lib/python3.6/dist-packages pip      \n",
            "descartes                     1.1.0           /usr/local/lib/python3.6/dist-packages pip      \n",
            "dill                          0.3.3           /usr/local/lib/python3.6/dist-packages pip      \n",
            "distributed                   1.25.3          /usr/local/lib/python3.6/dist-packages pip      \n",
            "Django                        3.1.5           /usr/local/lib/python3.6/dist-packages pip      \n",
            "dlib                          19.18.0         /usr/local/lib/python3.6/dist-packages pip      \n",
            "dm-tree                       0.1.5           /usr/local/lib/python3.6/dist-packages pip      \n",
            "docopt                        0.6.2           /usr/local/lib/python3.6/dist-packages pip      \n",
            "docutils                      0.16            /usr/local/lib/python3.6/dist-packages pip      \n",
            "dopamine-rl                   1.0.5           /usr/local/lib/python3.6/dist-packages pip      \n",
            "earthengine-api               0.1.238         /usr/local/lib/python3.6/dist-packages pip      \n",
            "easydict                      1.9             /usr/local/lib/python3.6/dist-packages pip      \n",
            "ecos                          2.0.7.post1     /usr/local/lib/python3.6/dist-packages pip      \n",
            "editdistance                  0.5.3           /usr/local/lib/python3.6/dist-packages pip      \n",
            "en-core-web-sm                2.2.5           /usr/local/lib/python3.6/dist-packages pip      \n",
            "entrypoints                   0.3             /usr/local/lib/python3.6/dist-packages pip      \n",
            "ephem                         3.7.7.1         /usr/local/lib/python3.6/dist-packages pip      \n",
            "et-xmlfile                    1.0.1           /usr/local/lib/python3.6/dist-packages pip      \n",
            "fa2                           0.3.5           /usr/local/lib/python3.6/dist-packages pip      \n",
            "fancyimpute                   0.4.3           /usr/local/lib/python3.6/dist-packages pip      \n",
            "fastai                        1.0.61          /usr/local/lib/python3.6/dist-packages pip      \n",
            "fastdtw                       0.3.4           /usr/local/lib/python3.6/dist-packages pip      \n",
            "fastprogress                  1.0.0           /usr/local/lib/python3.6/dist-packages pip      \n",
            "fastrlock                     0.5             /usr/local/lib/python3.6/dist-packages pip      \n",
            "fbprophet                     0.7.1           /usr/local/lib/python3.6/dist-packages          \n",
            "feather-format                0.4.1           /usr/local/lib/python3.6/dist-packages pip      \n",
            "filelock                      3.0.12          /usr/local/lib/python3.6/dist-packages pip      \n",
            "firebase-admin                4.4.0           /usr/local/lib/python3.6/dist-packages pip      \n",
            "fix-yahoo-finance             0.0.22          /usr/local/lib/python3.6/dist-packages pip      \n",
            "Flask                         1.1.2           /usr/local/lib/python3.6/dist-packages pip      \n",
            "flatbuffers                   1.12            /usr/local/lib/python3.6/dist-packages pip      \n",
            "folium                        0.8.3           /usr/local/lib/python3.6/dist-packages pip      \n",
            "future                        0.16.0          /usr/local/lib/python3.6/dist-packages pip      \n",
            "gast                          0.3.3           /usr/local/lib/python3.6/dist-packages pip      \n",
            "GDAL                          2.2.2           /usr/lib/python3/dist-packages                  \n",
            "gdown                         3.6.4           /usr/local/lib/python3.6/dist-packages pip      \n",
            "gensim                        3.6.0           /usr/local/lib/python3.6/dist-packages pip      \n",
            "geographiclib                 1.50            /usr/local/lib/python3.6/dist-packages pip      \n",
            "geopy                         1.17.0          /usr/local/lib/python3.6/dist-packages pip      \n",
            "gin-config                    0.4.0           /usr/local/lib/python3.6/dist-packages pip      \n",
            "glob2                         0.7             /usr/local/lib/python3.6/dist-packages pip      \n",
            "google                        2.0.3           /usr/local/lib/python3.6/dist-packages pip      \n",
            "google-api-core               1.16.0          /usr/local/lib/python3.6/dist-packages pip      \n",
            "google-api-python-client      1.7.12          /usr/local/lib/python3.6/dist-packages pip      \n",
            "google-auth                   1.17.2          /usr/local/lib/python3.6/dist-packages pip      \n",
            "google-auth-httplib2          0.0.4           /usr/local/lib/python3.6/dist-packages pip      \n",
            "google-auth-oauthlib          0.4.2           /usr/local/lib/python3.6/dist-packages pip      \n",
            "google-cloud-bigquery         1.21.0          /usr/local/lib/python3.6/dist-packages pip      \n",
            "google-cloud-bigquery-storage 1.1.0           /usr/local/lib/python3.6/dist-packages pip      \n",
            "google-cloud-core             1.0.3           /usr/local/lib/python3.6/dist-packages pip      \n",
            "google-cloud-datastore        1.8.0           /usr/local/lib/python3.6/dist-packages pip      \n",
            "google-cloud-firestore        1.7.0           /usr/local/lib/python3.6/dist-packages pip      \n",
            "google-cloud-language         1.2.0           /usr/local/lib/python3.6/dist-packages pip      \n",
            "google-cloud-storage          1.18.1          /usr/local/lib/python3.6/dist-packages pip      \n",
            "google-cloud-translate        1.5.0           /usr/local/lib/python3.6/dist-packages pip      \n",
            "google-colab                  1.0.0           /usr/local/lib/python3.6/dist-packages pip      \n",
            "google-pasta                  0.2.0           /usr/local/lib/python3.6/dist-packages pip      \n",
            "google-resumable-media        0.4.1           /usr/local/lib/python3.6/dist-packages pip      \n",
            "googleapis-common-protos      1.52.0          /usr/local/lib/python3.6/dist-packages pip      \n",
            "googledrivedownloader         0.4             /usr/local/lib/python3.6/dist-packages pip      \n",
            "graphviz                      0.10.1          /usr/local/lib/python3.6/dist-packages pip      \n",
            "grpcio                        1.32.0          /usr/local/lib/python3.6/dist-packages pip      \n",
            "gspread                       3.0.1           /usr/local/lib/python3.6/dist-packages pip      \n",
            "gspread-dataframe             3.0.8           /usr/local/lib/python3.6/dist-packages pip      \n",
            "gym                           0.17.3          /usr/local/lib/python3.6/dist-packages pip      \n",
            "h5py                          2.10.0          /usr/local/lib/python3.6/dist-packages pip      \n",
            "HeapDict                      1.0.1           /usr/local/lib/python3.6/dist-packages pip      \n",
            "holidays                      0.10.4          /usr/local/lib/python3.6/dist-packages pip      \n",
            "holoviews                     1.13.5          /usr/local/lib/python3.6/dist-packages pip      \n",
            "html5lib                      1.0.1           /usr/local/lib/python3.6/dist-packages pip      \n",
            "httpimport                    0.5.18          /usr/local/lib/python3.6/dist-packages pip      \n",
            "httplib2                      0.17.4          /usr/local/lib/python3.6/dist-packages pip      \n",
            "httplib2shim                  0.0.3           /usr/local/lib/python3.6/dist-packages pip      \n",
            "humanize                      0.5.1           /usr/local/lib/python3.6/dist-packages pip      \n",
            "hyperopt                      0.1.2           /usr/local/lib/python3.6/dist-packages pip      \n",
            "ideep4py                      2.0.0.post3     /usr/local/lib/python3.6/dist-packages pip      \n",
            "idna                          2.10            /usr/local/lib/python3.6/dist-packages pip      \n",
            "image                         1.5.33          /usr/local/lib/python3.6/dist-packages pip      \n",
            "imageio                       2.4.1           /usr/local/lib/python3.6/dist-packages pip      \n",
            "imagesize                     1.2.0           /usr/local/lib/python3.6/dist-packages pip      \n",
            "imbalanced-learn              0.4.3           /usr/local/lib/python3.6/dist-packages pip      \n",
            "imblearn                      0.0             /usr/local/lib/python3.6/dist-packages pip      \n",
            "imgaug                        0.2.9           /usr/local/lib/python3.6/dist-packages pip      \n",
            "importlib-metadata            3.3.0           /usr/local/lib/python3.6/dist-packages pip      \n",
            "importlib-resources           4.1.1           /usr/local/lib/python3.6/dist-packages pip      \n",
            "imutils                       0.5.3           /usr/local/lib/python3.6/dist-packages pip      \n",
            "inflect                       2.1.0           /usr/local/lib/python3.6/dist-packages pip      \n",
            "iniconfig                     1.1.1           /usr/local/lib/python3.6/dist-packages pip      \n",
            "intel-openmp                  2021.1.2        /usr/local/lib/python3.6/dist-packages pip      \n",
            "intervaltree                  2.1.0           /usr/local/lib/python3.6/dist-packages pip      \n",
            "ipykernel                     4.10.1          /usr/local/lib/python3.6/dist-packages pip      \n",
            "ipython                       5.5.0           /usr/local/lib/python3.6/dist-packages pip      \n",
            "ipython-genutils              0.2.0           /usr/local/lib/python3.6/dist-packages pip      \n",
            "ipython-sql                   0.3.9           /usr/local/lib/python3.6/dist-packages pip      \n",
            "ipywidgets                    7.6.3           /usr/local/lib/python3.6/dist-packages pip      \n",
            "itsdangerous                  1.1.0           /usr/local/lib/python3.6/dist-packages pip      \n",
            "jax                           0.2.7           /usr/local/lib/python3.6/dist-packages pip      \n",
            "jaxlib                        0.1.57+cuda101  /usr/local/lib/python3.6/dist-packages pip      \n",
            "jdcal                         1.4.1           /usr/local/lib/python3.6/dist-packages pip      \n",
            "jedi                          0.18.0          /usr/local/lib/python3.6/dist-packages pip      \n",
            "jieba                         0.42.1          /usr/local/lib/python3.6/dist-packages pip      \n",
            "Jinja2                        2.11.2          /usr/local/lib/python3.6/dist-packages pip      \n",
            "joblib                        1.0.0           /usr/local/lib/python3.6/dist-packages pip      \n",
            "jpeg4py                       0.1.4           /usr/local/lib/python3.6/dist-packages pip      \n",
            "jsonschema                    2.6.0           /usr/local/lib/python3.6/dist-packages pip      \n",
            "jupyter                       1.0.0           /usr/local/lib/python3.6/dist-packages pip      \n",
            "jupyter-client                5.3.5           /usr/local/lib/python3.6/dist-packages pip      \n",
            "jupyter-console               5.2.0           /usr/local/lib/python3.6/dist-packages pip      \n",
            "jupyter-core                  4.7.0           /usr/local/lib/python3.6/dist-packages pip      \n",
            "jupyterlab-pygments           0.1.2           /usr/local/lib/python3.6/dist-packages pip      \n",
            "jupyterlab-widgets            1.0.0           /usr/local/lib/python3.6/dist-packages pip      \n",
            "kaggle                        1.5.10          /usr/local/lib/python3.6/dist-packages pip      \n",
            "kapre                         0.1.3.1         /usr/local/lib/python3.6/dist-packages pip      \n",
            "Keras                         2.4.3           /usr/local/lib/python3.6/dist-packages pip      \n",
            "Keras-Preprocessing           1.1.2           /usr/local/lib/python3.6/dist-packages pip      \n",
            "keras-vis                     0.4.1           /usr/local/lib/python3.6/dist-packages pip      \n",
            "kiwisolver                    1.3.1           /usr/local/lib/python3.6/dist-packages pip      \n",
            "knnimpute                     0.1.0           /usr/local/lib/python3.6/dist-packages pip      \n",
            "korean-lunar-calendar         0.2.1           /usr/local/lib/python3.6/dist-packages pip      \n",
            "librosa                       0.6.3           /usr/local/lib/python3.6/dist-packages pip      \n",
            "lightgbm                      2.2.3           /usr/local/lib/python3.6/dist-packages pip      \n",
            "llvmlite                      0.31.0          /usr/local/lib/python3.6/dist-packages pip      \n",
            "lmdb                          0.99            /usr/local/lib/python3.6/dist-packages pip      \n",
            "lucid                         0.3.8           /usr/local/lib/python3.6/dist-packages pip      \n",
            "LunarCalendar                 0.0.9           /usr/local/lib/python3.6/dist-packages pip      \n",
            "lxml                          4.2.6           /usr/local/lib/python3.6/dist-packages pip      \n",
            "Markdown                      3.3.3           /usr/local/lib/python3.6/dist-packages pip      \n",
            "MarkupSafe                    1.1.1           /usr/local/lib/python3.6/dist-packages pip      \n",
            "matplotlib                    3.2.2           /usr/local/lib/python3.6/dist-packages pip      \n",
            "matplotlib-venn               0.11.6          /usr/local/lib/python3.6/dist-packages pip      \n",
            "missingno                     0.4.2           /usr/local/lib/python3.6/dist-packages pip      \n",
            "mistune                       0.8.4           /usr/local/lib/python3.6/dist-packages pip      \n",
            "mizani                        0.6.0           /usr/local/lib/python3.6/dist-packages pip      \n",
            "mkl                           2019.0          /usr/local/lib/python3.6/dist-packages pip      \n",
            "mlxtend                       0.14.0          /usr/local/lib/python3.6/dist-packages pip      \n",
            "more-itertools                8.6.0           /usr/local/lib/python3.6/dist-packages pip      \n",
            "moviepy                       0.2.3.5         /usr/local/lib/python3.6/dist-packages pip      \n",
            "mpmath                        1.1.0           /usr/local/lib/python3.6/dist-packages pip      \n",
            "msgpack                       1.0.2           /usr/local/lib/python3.6/dist-packages pip      \n",
            "multiprocess                  0.70.11.1       /usr/local/lib/python3.6/dist-packages pip      \n",
            "multitasking                  0.0.9           /usr/local/lib/python3.6/dist-packages pip      \n",
            "murmurhash                    1.0.5           /usr/local/lib/python3.6/dist-packages pip      \n",
            "music21                       5.5.0           /usr/local/lib/python3.6/dist-packages pip      \n",
            "natsort                       5.5.0           /usr/local/lib/python3.6/dist-packages pip      \n",
            "nbclient                      0.5.1           /usr/local/lib/python3.6/dist-packages pip      \n",
            "nbconvert                     5.6.1           /usr/local/lib/python3.6/dist-packages pip      \n",
            "nbformat                      5.0.8           /usr/local/lib/python3.6/dist-packages pip      \n",
            "nest-asyncio                  1.4.3           /usr/local/lib/python3.6/dist-packages pip      \n",
            "networkx                      2.5             /usr/local/lib/python3.6/dist-packages pip      \n",
            "nibabel                       3.0.2           /usr/local/lib/python3.6/dist-packages pip      \n",
            "nltk                          3.2.5           /usr/local/lib/python3.6/dist-packages pip      \n",
            "notebook                      5.3.1           /usr/local/lib/python3.6/dist-packages pip      \n",
            "np-utils                      0.5.12.1        /usr/local/lib/python3.6/dist-packages pip      \n",
            "numba                         0.48.0          /usr/local/lib/python3.6/dist-packages pip      \n",
            "numexpr                       2.7.2           /usr/local/lib/python3.6/dist-packages pip      \n",
            "numpy                         1.19.5          /usr/local/lib/python3.6/dist-packages pip      \n",
            "nvidia-ml-py3                 7.352.0         /usr/local/lib/python3.6/dist-packages pip      \n",
            "oauth2client                  4.1.3           /usr/local/lib/python3.6/dist-packages pip      \n",
            "oauthlib                      3.1.0           /usr/local/lib/python3.6/dist-packages pip      \n",
            "okgrade                       0.4.3           /usr/local/lib/python3.6/dist-packages pip      \n",
            "opencv-contrib-python         4.1.2.30        /usr/local/lib/python3.6/dist-packages pip      \n",
            "opencv-python                 4.1.2.30        /usr/local/lib/python3.6/dist-packages pip      \n",
            "openpyxl                      2.5.9           /usr/local/lib/python3.6/dist-packages pip      \n",
            "opt-einsum                    3.3.0           /usr/local/lib/python3.6/dist-packages pip      \n",
            "osqp                          0.6.2           /usr/local/lib/python3.6/dist-packages pip      \n",
            "packaging                     20.8            /usr/local/lib/python3.6/dist-packages pip      \n",
            "palettable                    3.3.0           /usr/local/lib/python3.6/dist-packages pip      \n",
            "pandas                        1.1.5           /usr/local/lib/python3.6/dist-packages pip      \n",
            "pandas-datareader             0.9.0           /usr/local/lib/python3.6/dist-packages pip      \n",
            "pandas-gbq                    0.13.3          /usr/local/lib/python3.6/dist-packages pip      \n",
            "pandas-profiling              1.4.1           /usr/local/lib/python3.6/dist-packages pip      \n",
            "pandocfilters                 1.4.3           /usr/local/lib/python3.6/dist-packages pip      \n",
            "panel                         0.9.7           /usr/local/lib/python3.6/dist-packages pip      \n",
            "param                         1.10.1          /usr/local/lib/python3.6/dist-packages pip      \n",
            "parso                         0.8.1           /usr/local/lib/python3.6/dist-packages pip      \n",
            "pathlib                       1.0.1           /usr/local/lib/python3.6/dist-packages pip      \n",
            "patsy                         0.5.1           /usr/local/lib/python3.6/dist-packages pip      \n",
            "pexpect                       4.8.0           /usr/local/lib/python3.6/dist-packages pip      \n",
            "pickleshare                   0.7.5           /usr/local/lib/python3.6/dist-packages pip      \n",
            "Pillow                        7.0.0           /usr/local/lib/python3.6/dist-packages pip      \n",
            "pip                           19.3.1          /usr/local/lib/python3.6/dist-packages pip      \n",
            "pip-tools                     4.5.1           /usr/local/lib/python3.6/dist-packages pip      \n",
            "plac                          1.1.3           /usr/local/lib/python3.6/dist-packages pip      \n",
            "plotly                        4.4.1           /usr/local/lib/python3.6/dist-packages pip      \n",
            "plotnine                      0.6.0           /usr/local/lib/python3.6/dist-packages pip      \n",
            "pluggy                        0.7.1           /usr/local/lib/python3.6/dist-packages pip      \n",
            "portpicker                    1.3.1           /usr/local/lib/python3.6/dist-packages pip      \n",
            "prefetch-generator            1.0.1           /usr/local/lib/python3.6/dist-packages pip      \n",
            "preshed                       3.0.5           /usr/local/lib/python3.6/dist-packages pip      \n",
            "prettytable                   2.0.0           /usr/local/lib/python3.6/dist-packages pip      \n",
            "progressbar2                  3.38.0          /usr/local/lib/python3.6/dist-packages pip      \n",
            "prometheus-client             0.9.0           /usr/local/lib/python3.6/dist-packages pip      \n",
            "promise                       2.3             /usr/local/lib/python3.6/dist-packages pip      \n",
            "prompt-toolkit                1.0.18          /usr/local/lib/python3.6/dist-packages pip      \n",
            "protobuf                      3.12.4          /usr/local/lib/python3.6/dist-packages pip      \n",
            "psutil                        5.4.8           /usr/local/lib/python3.6/dist-packages pip      \n",
            "psycopg2                      2.7.6.1         /usr/local/lib/python3.6/dist-packages pip      \n",
            "ptyprocess                    0.7.0           /usr/local/lib/python3.6/dist-packages pip      \n",
            "py                            1.10.0          /usr/local/lib/python3.6/dist-packages pip      \n",
            "pyarrow                       0.14.1          /usr/local/lib/python3.6/dist-packages pip      \n",
            "pyasn1                        0.4.8           /usr/local/lib/python3.6/dist-packages pip      \n",
            "pyasn1-modules                0.2.8           /usr/local/lib/python3.6/dist-packages pip      \n",
            "pycocotools                   2.0.2           /usr/local/lib/python3.6/dist-packages pip      \n",
            "pycosat                       0.6.3           /usr/local/lib/python3.6/dist-packages pip      \n",
            "pycparser                     2.20            /usr/local/lib/python3.6/dist-packages pip      \n",
            "pyct                          0.4.8           /usr/local/lib/python3.6/dist-packages pip      \n",
            "pydata-google-auth            1.1.0           /usr/local/lib/python3.6/dist-packages pip      \n",
            "pydot                         1.3.0           /usr/local/lib/python3.6/dist-packages pip      \n",
            "pydot-ng                      2.0.0           /usr/local/lib/python3.6/dist-packages pip      \n",
            "pydotplus                     2.0.2           /usr/local/lib/python3.6/dist-packages pip      \n",
            "PyDrive                       1.3.1           /usr/local/lib/python3.6/dist-packages pip      \n",
            "pyemd                         0.5.1           /usr/local/lib/python3.6/dist-packages pip      \n",
            "pyglet                        1.5.0           /usr/local/lib/python3.6/dist-packages pip      \n",
            "Pygments                      2.6.1           /usr/local/lib/python3.6/dist-packages pip      \n",
            "pygobject                     3.26.1          /usr/lib/python3/dist-packages                  \n",
            "pymc3                         3.7             /usr/local/lib/python3.6/dist-packages pip      \n",
            "PyMeeus                       0.3.7           /usr/local/lib/python3.6/dist-packages pip      \n",
            "pymongo                       3.11.2          /usr/local/lib/python3.6/dist-packages pip      \n",
            "pymystem3                     0.2.0           /usr/local/lib/python3.6/dist-packages pip      \n",
            "PyOpenGL                      3.1.5           /usr/local/lib/python3.6/dist-packages pip      \n",
            "pyparsing                     2.4.7           /usr/local/lib/python3.6/dist-packages pip      \n",
            "pyrsistent                    0.17.3          /usr/local/lib/python3.6/dist-packages pip      \n",
            "pysndfile                     1.3.8           /usr/local/lib/python3.6/dist-packages pip      \n",
            "PySocks                       1.7.1           /usr/local/lib/python3.6/dist-packages pip      \n",
            "pystan                        2.19.1.1        /usr/local/lib/python3.6/dist-packages pip      \n",
            "pytest                        3.6.4           /usr/local/lib/python3.6/dist-packages pip      \n",
            "python-apt                    1.6.5+ubuntu0.5 /usr/lib/python3/dist-packages                  \n",
            "python-chess                  0.23.11         /usr/local/lib/python3.6/dist-packages pip      \n",
            "python-dateutil               2.8.1           /usr/local/lib/python3.6/dist-packages pip      \n",
            "python-louvain                0.15            /usr/local/lib/python3.6/dist-packages pip      \n",
            "python-slugify                4.0.1           /usr/local/lib/python3.6/dist-packages pip      \n",
            "python-utils                  2.4.0           /usr/local/lib/python3.6/dist-packages pip      \n",
            "pytz                          2018.9          /usr/local/lib/python3.6/dist-packages pip      \n",
            "pyviz-comms                   2.0.1           /usr/local/lib/python3.6/dist-packages pip      \n",
            "PyWavelets                    1.1.1           /usr/local/lib/python3.6/dist-packages pip      \n",
            "PyYAML                        3.13            /usr/local/lib/python3.6/dist-packages pip      \n",
            "pyzmq                         20.0.0          /usr/local/lib/python3.6/dist-packages pip      \n",
            "qdldl                         0.1.5.post0     /usr/local/lib/python3.6/dist-packages pip      \n",
            "qtconsole                     5.0.1           /usr/local/lib/python3.6/dist-packages pip      \n",
            "QtPy                          1.9.0           /usr/local/lib/python3.6/dist-packages pip      \n",
            "regex                         2019.12.20      /usr/local/lib/python3.6/dist-packages pip      \n",
            "requests                      2.23.0          /usr/local/lib/python3.6/dist-packages pip      \n",
            "requests-oauthlib             1.3.0           /usr/local/lib/python3.6/dist-packages pip      \n",
            "resampy                       0.2.2           /usr/local/lib/python3.6/dist-packages pip      \n",
            "retrying                      1.3.3           /usr/local/lib/python3.6/dist-packages pip      \n",
            "rpy2                          3.2.7           /usr/local/lib/python3.6/dist-packages pip      \n",
            "rsa                           4.6             /usr/local/lib/python3.6/dist-packages pip      \n",
            "ruamel.yaml                   0.16.12         /usr/local/lib/python3.6/dist-packages pip      \n",
            "ruamel.yaml.clib              0.2.2           /usr/local/lib/python3.6/dist-packages pip      \n",
            "scikit-image                  0.16.2          /usr/local/lib/python3.6/dist-packages pip      \n",
            "scikit-learn                  0.22.2.post1    /usr/local/lib/python3.6/dist-packages pip      \n",
            "scipy                         1.4.1           /usr/local/lib/python3.6/dist-packages pip      \n",
            "screen-resolution-extra       0.0.0           /usr/lib/python3/dist-packages                  \n",
            "scs                           2.1.2           /usr/local/lib/python3.6/dist-packages pip      \n",
            "seaborn                       0.11.1          /usr/local/lib/python3.6/dist-packages pip      \n",
            "Send2Trash                    1.5.0           /usr/local/lib/python3.6/dist-packages pip      \n",
            "setuptools                    51.1.2          /usr/local/lib/python3.6/dist-packages pip      \n",
            "setuptools-git                1.2             /usr/local/lib/python3.6/dist-packages pip      \n",
            "Shapely                       1.7.1           /usr/local/lib/python3.6/dist-packages pip      \n",
            "simplegeneric                 0.8.1           /usr/local/lib/python3.6/dist-packages pip      \n",
            "six                           1.15.0          /usr/local/lib/python3.6/dist-packages pip      \n",
            "sklearn                       0.0             /usr/local/lib/python3.6/dist-packages pip      \n",
            "sklearn-pandas                1.8.0           /usr/local/lib/python3.6/dist-packages pip      \n",
            "smart-open                    4.1.0           /usr/local/lib/python3.6/dist-packages pip      \n",
            "snowballstemmer               2.0.0           /usr/local/lib/python3.6/dist-packages pip      \n",
            "sortedcontainers              2.3.0           /usr/local/lib/python3.6/dist-packages pip      \n",
            "spacy                         2.2.4           /usr/local/lib/python3.6/dist-packages pip      \n",
            "Sphinx                        1.8.5           /usr/local/lib/python3.6/dist-packages pip      \n",
            "sphinxcontrib-serializinghtml 1.1.4           /usr/local/lib/python3.6/dist-packages pip      \n",
            "sphinxcontrib-websupport      1.2.4           /usr/local/lib/python3.6/dist-packages pip      \n",
            "SQLAlchemy                    1.3.22          /usr/local/lib/python3.6/dist-packages pip      \n",
            "sqlparse                      0.4.1           /usr/local/lib/python3.6/dist-packages pip      \n",
            "srsly                         1.0.5           /usr/local/lib/python3.6/dist-packages pip      \n",
            "statsmodels                   0.10.2          /usr/local/lib/python3.6/dist-packages pip      \n",
            "sympy                         1.1.1           /usr/local/lib/python3.6/dist-packages pip      \n",
            "tables                        3.4.4           /usr/local/lib/python3.6/dist-packages pip      \n",
            "tabulate                      0.8.7           /usr/local/lib/python3.6/dist-packages pip      \n",
            "tblib                         1.7.0           /usr/local/lib/python3.6/dist-packages pip      \n",
            "tensorboard                   2.4.0           /usr/local/lib/python3.6/dist-packages pip      \n",
            "tensorboard-plugin-wit        1.7.0           /usr/local/lib/python3.6/dist-packages pip      \n",
            "tensorboardcolab              0.0.22          /usr/local/lib/python3.6/dist-packages pip      \n",
            "tensorflow                    2.4.0           /usr/local/lib/python3.6/dist-packages pip      \n",
            "tensorflow-addons             0.8.3           /usr/local/lib/python3.6/dist-packages pip      \n",
            "tensorflow-datasets           4.0.1           /usr/local/lib/python3.6/dist-packages pip      \n",
            "tensorflow-estimator          2.4.0           /usr/local/lib/python3.6/dist-packages pip      \n",
            "tensorflow-gcs-config         2.4.0           /usr/local/lib/python3.6/dist-packages pip      \n",
            "tensorflow-hub                0.11.0          /usr/local/lib/python3.6/dist-packages pip      \n",
            "tensorflow-metadata           0.26.0          /usr/local/lib/python3.6/dist-packages pip      \n",
            "tensorflow-privacy            0.2.2           /usr/local/lib/python3.6/dist-packages pip      \n",
            "tensorflow-probability        0.12.1          /usr/local/lib/python3.6/dist-packages pip      \n",
            "termcolor                     1.1.0           /usr/local/lib/python3.6/dist-packages pip      \n",
            "terminado                     0.9.2           /usr/local/lib/python3.6/dist-packages pip      \n",
            "testpath                      0.4.4           /usr/local/lib/python3.6/dist-packages pip      \n",
            "text-unidecode                1.3             /usr/local/lib/python3.6/dist-packages pip      \n",
            "textblob                      0.15.3          /usr/local/lib/python3.6/dist-packages pip      \n",
            "textgenrnn                    1.4.1           /usr/local/lib/python3.6/dist-packages pip      \n",
            "Theano                        1.0.5           /usr/local/lib/python3.6/dist-packages pip      \n",
            "thinc                         7.4.0           /usr/local/lib/python3.6/dist-packages pip      \n",
            "tifffile                      2020.9.3        /usr/local/lib/python3.6/dist-packages pip      \n",
            "toml                          0.10.2          /usr/local/lib/python3.6/dist-packages pip      \n",
            "toolz                         0.11.1          /usr/local/lib/python3.6/dist-packages pip      \n",
            "torch                         1.7.0+cu101     /usr/local/lib/python3.6/dist-packages pip      \n",
            "torchsummary                  1.5.1           /usr/local/lib/python3.6/dist-packages pip      \n",
            "torchtext                     0.3.1           /usr/local/lib/python3.6/dist-packages pip      \n",
            "torchvision                   0.8.1+cu101     /usr/local/lib/python3.6/dist-packages pip      \n",
            "tornado                       5.1.1           /usr/local/lib/python3.6/dist-packages pip      \n",
            "tqdm                          4.41.1          /usr/local/lib/python3.6/dist-packages pip      \n",
            "traitlets                     4.3.3           /usr/local/lib/python3.6/dist-packages pip      \n",
            "tweepy                        3.6.0           /usr/local/lib/python3.6/dist-packages pip      \n",
            "typeguard                     2.7.1           /usr/local/lib/python3.6/dist-packages pip      \n",
            "typing-extensions             3.7.4.3         /usr/local/lib/python3.6/dist-packages pip      \n",
            "tzlocal                       1.5.1           /usr/local/lib/python3.6/dist-packages pip      \n",
            "umap-learn                    0.4.6           /usr/local/lib/python3.6/dist-packages pip      \n",
            "uritemplate                   3.0.1           /usr/local/lib/python3.6/dist-packages pip      \n",
            "urllib3                       1.24.3          /usr/local/lib/python3.6/dist-packages pip      \n",
            "vega-datasets                 0.9.0           /usr/local/lib/python3.6/dist-packages pip      \n",
            "wasabi                        0.8.0           /usr/local/lib/python3.6/dist-packages pip      \n",
            "wcwidth                       0.2.5           /usr/local/lib/python3.6/dist-packages pip      \n",
            "webencodings                  0.5.1           /usr/local/lib/python3.6/dist-packages pip      \n",
            "Werkzeug                      1.0.1           /usr/local/lib/python3.6/dist-packages pip      \n",
            "wheel                         0.36.2          /usr/local/lib/python3.6/dist-packages pip      \n",
            "widgetsnbextension            3.5.1           /usr/local/lib/python3.6/dist-packages pip      \n",
            "wordcloud                     1.5.0           /usr/local/lib/python3.6/dist-packages pip      \n",
            "wrapt                         1.12.1          /usr/local/lib/python3.6/dist-packages pip      \n",
            "xarray                        0.15.1          /usr/local/lib/python3.6/dist-packages pip      \n",
            "xgboost                       0.90            /usr/local/lib/python3.6/dist-packages pip      \n",
            "xkit                          0.0.0           /usr/lib/python3/dist-packages                  \n",
            "xlrd                          1.1.0           /usr/local/lib/python3.6/dist-packages pip      \n",
            "xlwt                          1.3.0           /usr/local/lib/python3.6/dist-packages pip      \n",
            "yellowbrick                   0.9.1           /usr/local/lib/python3.6/dist-packages pip      \n",
            "zict                          2.0.0           /usr/local/lib/python3.6/dist-packages pip      \n",
            "zipp                          3.4.0           /usr/local/lib/python3.6/dist-packages pip      \n"
          ],
          "name": "stdout"
        }
      ]
    },
    {
      "cell_type": "markdown",
      "metadata": {
        "id": "U9PghW_NT1HY"
      },
      "source": [
        "To install a new package called 'foo', use the following (see [this page](https://colab.research.google.com/notebooks/snippets/importing_libraries.ipynb) for details):\n",
        "\n",
        "```\n",
        "!pip install foo\n",
        "```\n",
        "\n"
      ]
    },
    {
      "cell_type": "markdown",
      "metadata": {
        "id": "fOBdg02-_Jws"
      },
      "source": [
        "## Numpy"
      ]
    },
    {
      "cell_type": "code",
      "metadata": {
        "id": "AzP2LAtN_L1m",
        "colab": {
          "base_uri": "https://localhost:8080/"
        },
        "outputId": "775ab507-3a70-4816-d76e-e2d463aa571d"
      },
      "source": [
        "import numpy as np\n",
        "np.set_printoptions(precision=3)\n",
        "\n",
        "A = np.random.randn(2,3)\n",
        "print(A)"
      ],
      "execution_count": null,
      "outputs": [
        {
          "output_type": "stream",
          "text": [
            "[[0.414 1.496 0.64 ]\n",
            " [0.953 1.708 0.251]]\n"
          ],
          "name": "stdout"
        }
      ]
    },
    {
      "cell_type": "markdown",
      "metadata": {
        "id": "76jPgsuk_1IP"
      },
      "source": [
        "## Pandas"
      ]
    },
    {
      "cell_type": "code",
      "metadata": {
        "id": "GimloDqo_4No",
        "colab": {
          "base_uri": "https://localhost:8080/",
          "height": 197
        },
        "outputId": "1ddca722-d652-4b44-c4e0-982c722dabeb"
      },
      "source": [
        "import pandas as pd\n",
        "pd.set_option('precision', 2) # 2 decimal places\n",
        "pd.set_option('display.max_rows', 20)\n",
        "pd.set_option('display.max_columns', 30)\n",
        "pd.set_option('display.width', 100) # wide windows\n",
        "\n",
        "url = 'https://archive.ics.uci.edu/ml/machine-learning-databases/auto-mpg/auto-mpg.data'\n",
        "column_names = ['MPG','Cylinders','Displacement','Horsepower','Weight',\n",
        "                'Acceleration', 'Year', 'Origin', 'Name']\n",
        "df = pd.read_csv(url, names=column_names, sep='\\s+', na_values=\"?\")\n",
        "\n",
        "df.head()"
      ],
      "execution_count": null,
      "outputs": [
        {
          "output_type": "execute_result",
          "data": {
            "text/html": [
              "<div>\n",
              "<style scoped>\n",
              "    .dataframe tbody tr th:only-of-type {\n",
              "        vertical-align: middle;\n",
              "    }\n",
              "\n",
              "    .dataframe tbody tr th {\n",
              "        vertical-align: top;\n",
              "    }\n",
              "\n",
              "    .dataframe thead th {\n",
              "        text-align: right;\n",
              "    }\n",
              "</style>\n",
              "<table border=\"1\" class=\"dataframe\">\n",
              "  <thead>\n",
              "    <tr style=\"text-align: right;\">\n",
              "      <th></th>\n",
              "      <th>MPG</th>\n",
              "      <th>Cylinders</th>\n",
              "      <th>Displacement</th>\n",
              "      <th>Horsepower</th>\n",
              "      <th>Weight</th>\n",
              "      <th>Acceleration</th>\n",
              "      <th>Year</th>\n",
              "      <th>Origin</th>\n",
              "      <th>Name</th>\n",
              "    </tr>\n",
              "  </thead>\n",
              "  <tbody>\n",
              "    <tr>\n",
              "      <th>0</th>\n",
              "      <td>18.0</td>\n",
              "      <td>8</td>\n",
              "      <td>307.0</td>\n",
              "      <td>130.0</td>\n",
              "      <td>3504.0</td>\n",
              "      <td>12.0</td>\n",
              "      <td>70</td>\n",
              "      <td>1</td>\n",
              "      <td>chevrolet chevelle malibu</td>\n",
              "    </tr>\n",
              "    <tr>\n",
              "      <th>1</th>\n",
              "      <td>15.0</td>\n",
              "      <td>8</td>\n",
              "      <td>350.0</td>\n",
              "      <td>165.0</td>\n",
              "      <td>3693.0</td>\n",
              "      <td>11.5</td>\n",
              "      <td>70</td>\n",
              "      <td>1</td>\n",
              "      <td>buick skylark 320</td>\n",
              "    </tr>\n",
              "    <tr>\n",
              "      <th>2</th>\n",
              "      <td>18.0</td>\n",
              "      <td>8</td>\n",
              "      <td>318.0</td>\n",
              "      <td>150.0</td>\n",
              "      <td>3436.0</td>\n",
              "      <td>11.0</td>\n",
              "      <td>70</td>\n",
              "      <td>1</td>\n",
              "      <td>plymouth satellite</td>\n",
              "    </tr>\n",
              "    <tr>\n",
              "      <th>3</th>\n",
              "      <td>16.0</td>\n",
              "      <td>8</td>\n",
              "      <td>304.0</td>\n",
              "      <td>150.0</td>\n",
              "      <td>3433.0</td>\n",
              "      <td>12.0</td>\n",
              "      <td>70</td>\n",
              "      <td>1</td>\n",
              "      <td>amc rebel sst</td>\n",
              "    </tr>\n",
              "    <tr>\n",
              "      <th>4</th>\n",
              "      <td>17.0</td>\n",
              "      <td>8</td>\n",
              "      <td>302.0</td>\n",
              "      <td>140.0</td>\n",
              "      <td>3449.0</td>\n",
              "      <td>10.5</td>\n",
              "      <td>70</td>\n",
              "      <td>1</td>\n",
              "      <td>ford torino</td>\n",
              "    </tr>\n",
              "  </tbody>\n",
              "</table>\n",
              "</div>"
            ],
            "text/plain": [
              "    MPG  Cylinders  Displacement  Horsepower  Weight  Acceleration  Year  Origin  \\\n",
              "0  18.0          8         307.0       130.0  3504.0          12.0    70       1   \n",
              "1  15.0          8         350.0       165.0  3693.0          11.5    70       1   \n",
              "2  18.0          8         318.0       150.0  3436.0          11.0    70       1   \n",
              "3  16.0          8         304.0       150.0  3433.0          12.0    70       1   \n",
              "4  17.0          8         302.0       140.0  3449.0          10.5    70       1   \n",
              "\n",
              "                        Name  \n",
              "0  chevrolet chevelle malibu  \n",
              "1          buick skylark 320  \n",
              "2         plymouth satellite  \n",
              "3              amc rebel sst  \n",
              "4                ford torino  "
            ]
          },
          "metadata": {
            "tags": []
          },
          "execution_count": 1
        }
      ]
    },
    {
      "cell_type": "markdown",
      "metadata": {
        "id": "hUCC261x_7zZ"
      },
      "source": [
        "## Sklearn"
      ]
    },
    {
      "cell_type": "code",
      "metadata": {
        "id": "RCSwx_lE_7Jn",
        "colab": {
          "base_uri": "https://localhost:8080/",
          "height": 285
        },
        "outputId": "4036c988-bb39-4ad4-d9af-f45bc6330231"
      },
      "source": [
        "import sklearn\n",
        "\n",
        "from sklearn.datasets import load_iris\n",
        "iris = load_iris()\n",
        "# Extract numpy arrays\n",
        "X = iris.data \n",
        "y = iris.target\n",
        "\n",
        "import matplotlib.pyplot as plt\n",
        "plt.scatter(X[:,0], X[:,1])"
      ],
      "execution_count": null,
      "outputs": [
        {
          "output_type": "execute_result",
          "data": {
            "text/plain": [
              "<matplotlib.collections.PathCollection at 0x7f2d91bb3c18>"
            ]
          },
          "metadata": {
            "tags": []
          },
          "execution_count": 5
        },
        {
          "output_type": "display_data",
          "data": {
            "image/png": "[encoded data removed]",
            "text/plain": [
              "<Figure size 432x288 with 1 Axes>"
            ]
          },
          "metadata": {
            "tags": [],
            "needs_background": "light"
          }
        }
      ]
    },
    {
      "cell_type": "markdown",
      "metadata": {
        "id": "PJXF4csdBhsN"
      },
      "source": [
        "## JAX"
      ]
    },
    {
      "cell_type": "code",
      "metadata": {
        "id": "8JiSxcJJ79Bv",
        "colab": {
          "base_uri": "https://localhost:8080/"
        },
        "outputId": "97f3ebb7-93b8-4255-bccb-781d01ccb4cc"
      },
      "source": [
        "# JAX (https://github.com/google/jax)\n",
        "\n",
        "import jax\n",
        "import jax.numpy as jnp\n",
        "A = jnp.zeros((3,3))\n",
        "\n",
        "# Check if JAX is using GPU\n",
        "print(\"jax backend {}\".format(jax.lib.xla_bridge.get_backend().platform))"
      ],
      "execution_count": null,
      "outputs": [
        {
          "output_type": "stream",
          "text": [
            "jax backend gpu\n"
          ],
          "name": "stdout"
        }
      ]
    },
    {
      "cell_type": "markdown",
      "metadata": {
        "id": "l99YLyorBdYE"
      },
      "source": [
        "## Tensorflow"
      ]
    },
    {
      "cell_type": "code",
      "metadata": {
        "colab": {
          "base_uri": "https://localhost:8080/"
        },
        "id": "StpReaSICLUm",
        "outputId": "5dfac104-8e5a-49cd-8400-eadb56650acd"
      },
      "source": [
        "\n",
        "import tensorflow as tf\n",
        "from tensorflow import keras\n",
        "assert tf.__version__ >= \"2.0\"\n",
        "\n",
        "print(\"tf version {}\".format(tf.__version__))\n",
        "print([d for d in tf.config.list_physical_devices()])\n",
        "\n",
        "if not tf.config.list_physical_devices('GPU'):\n",
        "    print(\"No GPU was detected. DNNs can be very slow without a GPU.\")\n",
        "    if IS_COLAB:\n",
        "        print(\"Go to Runtime > Change runtime and select a GPU hardware accelerator.\")"
      ],
      "execution_count": null,
      "outputs": [
        {
          "output_type": "stream",
          "text": [
            "tf version 2.4.0\n",
            "[PhysicalDevice(name='/physical_device:CPU:0', device_type='CPU'), PhysicalDevice(name='/physical_device:GPU:0', device_type='GPU')]\n"
          ],
          "name": "stdout"
        }
      ]
    },
    {
      "cell_type": "markdown",
      "metadata": {
        "id": "grUUK1GrBfIY"
      },
      "source": [
        "## PyTorch"
      ]
    },
    {
      "cell_type": "code",
      "metadata": {
        "id": "Oi4Zmzla73A_",
        "colab": {
          "base_uri": "https://localhost:8080/"
        },
        "outputId": "558ed73a-5dfe-491a-be1c-64c949283e48"
      },
      "source": [
        "\n",
        "import torch\n",
        "import torchvision\n",
        "print(\"torch version {}\".format(torch.__version__))\n",
        "if torch.cuda.is_available():\n",
        "    print(torch.cuda.get_device_name(0))\n",
        "else:\n",
        "    print(\"Torch cannot find GPU\")"
      ],
      "execution_count": null,
      "outputs": [
        {
          "output_type": "stream",
          "text": [
            "torch version 1.7.0+cu101\n",
            "Tesla T4\n"
          ],
          "name": "stdout"
        }
      ]
    },
    {
      "cell_type": "markdown",
      "metadata": {
        "id": "M4ayVFuc0FD9"
      },
      "source": [
        "# Plotting\n",
        "\n",
        "Colab has excellent support for plotting. We give some examples below."
      ]
    },
    {
      "cell_type": "markdown",
      "metadata": {
        "id": "ENCT0EqifCDO"
      },
      "source": [
        "## Static plots\n",
        "\n",
        "Colab lets you make static plots using matplotlib, as shown below."
      ]
    },
    {
      "cell_type": "code",
      "metadata": {
        "colab": {
          "base_uri": "https://localhost:8080/",
          "height": 267
        },
        "id": "j_k4tv4D1VaC",
        "outputId": "dda6cc16-8351-4aff-9c09-ab7ad5dc968f"
      },
      "source": [
        "import matplotlib.pyplot as plt\n",
        "import PIL\n",
        "import imageio\n",
        "import seaborn as sns;\n",
        "sns.set(style=\"ticks\", color_codes=True)\n",
        "\n",
        "from IPython import display\n",
        "\n",
        "plt.figure()\n",
        "plt.plot(range(10))\n",
        "plt.savefig('myplot.png')"
      ],
      "execution_count": null,
      "outputs": [
        {
          "output_type": "display_data",
          "data": {
            "image/png": "[encoded data removed]",
            "text/plain": [
              "<Figure size 432x288 with 1 Axes>"
            ]
          },
          "metadata": {
            "tags": []
          }
        }
      ]
    },
    {
      "cell_type": "markdown",
      "metadata": {
        "id": "iFwo8LA4fIh9"
      },
      "source": [
        "## Interactive plots\n",
        "\n",
        "Colab also lets you create interactive plots using various javascript libraries - see [here](https://colab.research.google.com/notebooks/charts.ipynb#scrollTo=QSMmdrrVLZ-N) for details.\n"
      ]
    },
    {
      "cell_type": "markdown",
      "metadata": {
        "id": "qLh3fxl63IHW"
      },
      "source": [
        "## Graphviz\n",
        "\n",
        "You can use graphviz to layout nodes of a graph and draw the structure."
      ]
    },
    {
      "cell_type": "code",
      "metadata": {
        "colab": {
          "base_uri": "https://localhost:8080/"
        },
        "id": "33v9WeNjfb2k",
        "outputId": "2567027c-8c11-4517-94b8-3ae984b1d328"
      },
      "source": [
        "!apt-get -y install python-pydot\n",
        "!apt-get -y install python-pydot-ng\n",
        "!apt-get -y install graphviz"
      ],
      "execution_count": 14,
      "outputs": [
        {
          "output_type": "stream",
          "text": [
            "Reading package lists... Done\n",
            "Building dependency tree       \n",
            "Reading state information... Done\n",
            "The following additional packages will be installed:\n",
            "  python-pyparsing\n",
            "Suggested packages:\n",
            "  python-pyparsing-doc\n",
            "The following NEW packages will be installed:\n",
            "  python-pydot python-pyparsing\n",
            "0 upgraded, 2 newly installed, 0 to remove and 13 not upgraded.\n",
            "Need to get 71.7 kB of archives.\n",
            "After this operation, 347 kB of additional disk space will be used.\n",
            "Get:1 http://archive.ubuntu.com/ubuntu bionic/main amd64 python-pyparsing all 2.2.0+dfsg1-2 [52.1 kB]\n",
            "Get:2 http://archive.ubuntu.com/ubuntu bionic/universe amd64 python-pydot all 1.2.3-1 [19.6 kB]\n",
            "Fetched 71.7 kB in 0s (891 kB/s)\n",
            "Selecting previously unselected package python-pyparsing.\n",
            "(Reading database ... 146374 files and directories currently installed.)\n",
            "Preparing to unpack .../python-pyparsing_2.2.0+dfsg1-2_all.deb ...\n",
            "Unpacking python-pyparsing (2.2.0+dfsg1-2) ...\n",
            "Selecting previously unselected package python-pydot.\n",
            "Preparing to unpack .../python-pydot_1.2.3-1_all.deb ...\n",
            "Unpacking python-pydot (1.2.3-1) ...\n",
            "Setting up python-pyparsing (2.2.0+dfsg1-2) ...\n",
            "Setting up python-pydot (1.2.3-1) ...\n",
            "Reading package lists... Done\n",
            "Building dependency tree       \n",
            "Reading state information... Done\n",
            "The following NEW packages will be installed:\n",
            "  python-pydot-ng\n",
            "0 upgraded, 1 newly installed, 0 to remove and 13 not upgraded.\n",
            "Need to get 19.8 kB of archives.\n",
            "After this operation, 96.3 kB of additional disk space will be used.\n",
            "Get:1 http://archive.ubuntu.com/ubuntu bionic/universe amd64 python-pydot-ng all 1.0.0-3 [19.8 kB]\n",
            "Fetched 19.8 kB in 0s (541 kB/s)\n",
            "Selecting previously unselected package python-pydot-ng.\n",
            "(Reading database ... 146392 files and directories currently installed.)\n",
            "Preparing to unpack .../python-pydot-ng_1.0.0-3_all.deb ...\n",
            "Unpacking python-pydot-ng (1.0.0-3) ...\n",
            "Setting up python-pydot-ng (1.0.0-3) ...\n",
            "Reading package lists... Done\n",
            "Building dependency tree       \n",
            "Reading state information... Done\n",
            "graphviz is already the newest version (2.40.1-2).\n",
            "0 upgraded, 0 newly installed, 0 to remove and 13 not upgraded.\n"
          ],
          "name": "stdout"
        }
      ]
    },
    {
      "cell_type": "code",
      "metadata": {
        "colab": {
          "base_uri": "https://localhost:8080/",
          "height": 498
        },
        "id": "ZXTgGVkaffjf",
        "outputId": "2037bb22-88c1-4013-cf8e-03c8ebe349d5"
      },
      "source": [
        "from graphviz import Digraph\n",
        "dot = Digraph(comment='Bayes net')\n",
        "print(dot)\n",
        "dot.node('C', 'Cloudy')\n",
        "dot.node('R', 'Rain')\n",
        "dot.node('S', 'Sprinkler')\n",
        "dot.node('W', 'Wet grass')\n",
        "dot.edge('C', 'R')\n",
        "dot.edge('C', 'S')\n",
        "dot.edge('R', 'W')\n",
        "dot.edge('S', 'W')\n",
        "print(dot.source) \n",
        "dot.render('test-output/graph.jpg', view=True)\n",
        "dot"
      ],
      "execution_count": 16,
      "outputs": [
        {
          "output_type": "stream",
          "text": [
            "// Bayes net\n",
            "digraph {\n",
            "}\n",
            "// Bayes net\n",
            "digraph {\n",
            "\tC [label=Cloudy]\n",
            "\tR [label=Rain]\n",
            "\tS [label=Sprinkler]\n",
            "\tW [label=\"Wet grass\"]\n",
            "\tC -> R\n",
            "\tC -> S\n",
            "\tR -> W\n",
            "\tS -> W\n",
            "}\n"
          ],
          "name": "stdout"
        },
        {
          "output_type": "execute_result",
          "data": {
            "text/plain": [
              "<graphviz.dot.Digraph at 0x7f75992c2240>"
            ],
            "image/svg+xml": "<?xml version=\"1.0\" encoding=\"UTF-8\" standalone=\"no\"?>\n<!DOCTYPE svg PUBLIC \"-//W3C//DTD SVG 1.1//EN\"\n \"http://www.w3.org/Graphics/SVG/1.1/DTD/svg11.dtd\">\n<!-- Generated by graphviz version 2.40.1 (20161225.0304)\n -->\n<!-- Title: %3 Pages: 1 -->\n<svg width=\"174pt\" height=\"188pt\"\n viewBox=\"0.00 0.00 174.09 188.00\" xmlns=\"http://www.w3.org/2000/svg\" xmlns:xlink=\"http://www.w3.org/1999/xlink\">\n<g id=\"graph0\" class=\"graph\" transform=\"scale(1 1) rotate(0) translate(4 184)\">\n<title>%3</title>\n<polygon fill=\"#ffffff\" stroke=\"transparent\" points=\"-4,4 -4,-184 170.0934,-184 170.0934,4 -4,4\"/>\n<!-- C -->\n<g id=\"node1\" class=\"node\">\n<title>C</title>\n<ellipse fill=\"none\" stroke=\"#000000\" cx=\"74.5975\" cy=\"-162\" rx=\"38.9931\" ry=\"18\"/>\n<text text-anchor=\"middle\" x=\"74.5975\" y=\"-158.3\" font-family=\"Times,serif\" font-size=\"14.00\" fill=\"#000000\">Cloudy</text>\n</g>\n<!-- R -->\n<g id=\"node2\" class=\"node\">\n<title>R</title>\n<ellipse fill=\"none\" stroke=\"#000000\" cx=\"28.5975\" cy=\"-90\" rx=\"28.6953\" ry=\"18\"/>\n<text text-anchor=\"middle\" x=\"28.5975\" y=\"-86.3\" font-family=\"Times,serif\" font-size=\"14.00\" fill=\"#000000\">Rain</text>\n</g>\n<!-- C&#45;&gt;R -->\n<g id=\"edge1\" class=\"edge\">\n<title>C&#45;&gt;R</title>\n<path fill=\"none\" stroke=\"#000000\" d=\"M63.4621,-144.5708C57.8435,-135.7763 50.9239,-124.9457 44.7343,-115.2577\"/>\n<polygon fill=\"#000000\" stroke=\"#000000\" points=\"47.6469,-113.3155 39.3135,-106.7729 41.748,-117.0843 47.6469,-113.3155\"/>\n</g>\n<!-- S -->\n<g id=\"node3\" class=\"node\">\n<title>S</title>\n<ellipse fill=\"none\" stroke=\"#000000\" cx=\"120.5975\" cy=\"-90\" rx=\"45.4919\" ry=\"18\"/>\n<text text-anchor=\"middle\" x=\"120.5975\" y=\"-86.3\" font-family=\"Times,serif\" font-size=\"14.00\" fill=\"#000000\">Sprinkler</text>\n</g>\n<!-- C&#45;&gt;S -->\n<g id=\"edge2\" class=\"edge\">\n<title>C&#45;&gt;S</title>\n<path fill=\"none\" stroke=\"#000000\" d=\"M85.7328,-144.5708C91.1732,-136.0553 97.8334,-125.6308 103.8695,-116.183\"/>\n<polygon fill=\"#000000\" stroke=\"#000000\" points=\"106.9708,-117.8296 109.4053,-107.5182 101.0719,-114.0608 106.9708,-117.8296\"/>\n</g>\n<!-- W -->\n<g id=\"node4\" class=\"node\">\n<title>W</title>\n<ellipse fill=\"none\" stroke=\"#000000\" cx=\"74.5975\" cy=\"-18\" rx=\"46.2923\" ry=\"18\"/>\n<text text-anchor=\"middle\" x=\"74.5975\" y=\"-14.3\" font-family=\"Times,serif\" font-size=\"14.00\" fill=\"#000000\">Wet grass</text>\n</g>\n<!-- R&#45;&gt;W -->\n<g id=\"edge3\" class=\"edge\">\n<title>R&#45;&gt;W</title>\n<path fill=\"none\" stroke=\"#000000\" d=\"M39.4988,-72.937C44.9909,-64.3407 51.7697,-53.7304 57.9009,-44.1338\"/>\n<polygon fill=\"#000000\" stroke=\"#000000\" points=\"60.8595,-46.0038 63.294,-35.6924 54.9606,-42.235 60.8595,-46.0038\"/>\n</g>\n<!-- S&#45;&gt;W -->\n<g id=\"edge4\" class=\"edge\">\n<title>S&#45;&gt;W</title>\n<path fill=\"none\" stroke=\"#000000\" d=\"M109.2267,-72.2022C103.8233,-63.7448 97.2579,-53.4685 91.3025,-44.147\"/>\n<polygon fill=\"#000000\" stroke=\"#000000\" points=\"94.1708,-42.1356 85.8375,-35.593 88.2719,-45.9044 94.1708,-42.1356\"/>\n</g>\n</g>\n</svg>\n"
          },
          "metadata": {
            "tags": []
          },
          "execution_count": 16
        }
      ]
    },
    {
      "cell_type": "markdown",
      "metadata": {
        "id": "DaSY50JzpWnC"
      },
      "source": [
        "## Progress bar\n"
      ]
    },
    {
      "cell_type": "code",
      "metadata": {
        "colab": {
          "base_uri": "https://localhost:8080/"
        },
        "id": "CqcNHigZpYPO",
        "outputId": "b924fe64-137a-4342-e829-9d39d5fb52c8"
      },
      "source": [
        "! pip install fastprogress\n",
        "from fastprogress import master_bar, progress_bar"
      ],
      "execution_count": 36,
      "outputs": [
        {
          "output_type": "stream",
          "text": [
            "Requirement already satisfied: fastprogress in /usr/local/lib/python3.6/dist-packages (1.0.0)\n",
            "Requirement already satisfied: numpy in /usr/local/lib/python3.6/dist-packages (from fastprogress) (1.19.5)\n"
          ],
          "name": "stdout"
        }
      ]
    },
    {
      "cell_type": "code",
      "metadata": {
        "colab": {
          "base_uri": "https://localhost:8080/",
          "height": 37
        },
        "id": "kN9YYBcBpfQy",
        "outputId": "a14d72a5-2b4c-44aa-9ccd-26a9d0a41dbf"
      },
      "source": [
        "my_list = np.arange(0,100)\n",
        "N = 1000\n",
        "for item in progress_bar(my_list):\n",
        "    np.dot(np.ones((N,N)), np.ones((N,N))) \n"
      ],
      "execution_count": 41,
      "outputs": [
        {
          "output_type": "display_data",
          "data": {
            "text/html": [
              "\n",
              "    <div>\n",
              "        <style>\n",
              "            /* Turns off some styling */\n",
              "            progress {\n",
              "                /* gets rid of default border in Firefox and Opera. */\n",
              "                border: none;\n",
              "                /* Needs to be in here for Safari polyfill so background images work as expected. */\n",
              "                background-size: auto;\n",
              "            }\n",
              "            .progress-bar-interrupted, .progress-bar-interrupted::-webkit-progress-bar {\n",
              "                background: #F44336;\n",
              "            }\n",
              "        </style>\n",
              "      <progress value='100' class='' max='100' style='width:300px; height:20px; vertical-align: middle;'></progress>\n",
              "      100.00% [100/100 00:01<00:00]\n",
              "    </div>\n",
              "    "
            ],
            "text/plain": [
              "<IPython.core.display.HTML object>"
            ]
          },
          "metadata": {
            "tags": []
          }
        }
      ]
    },
    {
      "cell_type": "markdown",
      "metadata": {
        "id": "lyWwltzKlAHS"
      },
      "source": [
        "# Filing system issues\n"
      ]
    },
    {
      "cell_type": "markdown",
      "metadata": {
        "id": "7aCgO-moU2WA"
      },
      "source": [
        "## Accessing local files\n",
        "\n",
        "Clicking on the file folder icon on the left hand side of colab lets you browse local files. Right clicking on a filename lets you download it to your local machine. Double clicking on a file will open it in the file viewer/ editor, which appears on the right hand side. \n",
        "\n",
        "The result should look something like this:\n",
        "\n",
        "<img src=\"https://github.com/probml/pyprobml/blob/\n",
        "master/book1/intro/figures/colab-image-viewer.png?raw=true\">\n",
        "\n",
        "\n",
        "You can also use standard unix commands to manipulate files, as we show below."
      ]
    },
    {
      "cell_type": "code",
      "metadata": {
        "colab": {
          "base_uri": "https://localhost:8080/"
        },
        "id": "dRh4BOIxHpEX",
        "outputId": "104c8f4f-9eff-4b9b-fc81-c084740e475b"
      },
      "source": [
        "!pwd"
      ],
      "execution_count": null,
      "outputs": [
        {
          "output_type": "stream",
          "text": [
            "/content\n"
          ],
          "name": "stdout"
        }
      ]
    },
    {
      "cell_type": "code",
      "metadata": {
        "colab": {
          "base_uri": "https://localhost:8080/"
        },
        "id": "T7i8bvaghwy7",
        "outputId": "bb0012d2-bc82-4d5d-dfe3-acf2ba3e77a7"
      },
      "source": [
        "!ls"
      ],
      "execution_count": null,
      "outputs": [
        {
          "output_type": "stream",
          "text": [
            "myplot.png  sample_data\n"
          ],
          "name": "stdout"
        }
      ]
    },
    {
      "cell_type": "code",
      "metadata": {
        "colab": {
          "base_uri": "https://localhost:8080/"
        },
        "id": "HDNijfMPjPsE",
        "outputId": "d2bb4d90-86fc-44b2-9900-6050507e082b"
      },
      "source": [
        "!echo 'foo bar' > foo.txt\n",
        "!cat foo.txt"
      ],
      "execution_count": null,
      "outputs": [
        {
          "output_type": "stream",
          "text": [
            "foo bar\n"
          ],
          "name": "stdout"
        }
      ]
    },
    {
      "cell_type": "markdown",
      "metadata": {
        "id": "Ell60Ff4UE-P"
      },
      "source": [
        "You can open text files in the editor by clicking on their filename in the file browser, or programmatically as shown below."
      ]
    },
    {
      "cell_type": "code",
      "metadata": {
        "colab": {
          "base_uri": "https://localhost:8080/",
          "height": 16
        },
        "id": "CcxDCpyYjhfU",
        "outputId": "d521b728-16e6-43d7-f8e9-2c2d3c0b8eef"
      },
      "source": [
        "from google.colab import files\n",
        "files.view('foo.txt')"
      ],
      "execution_count": null,
      "outputs": [
        {
          "output_type": "display_data",
          "data": {
            "application/javascript": [
              "\n",
              "      ((filepath) => {{\n",
              "        if (!google.colab.kernel.accessAllowed) {{\n",
              "          return;\n",
              "        }}\n",
              "        google.colab.files.view(filepath);\n",
              "      }})(\"/content/foo.txt\")"
            ],
            "text/plain": [
              "<IPython.core.display.Javascript object>"
            ]
          },
          "metadata": {
            "tags": []
          }
        }
      ]
    },
    {
      "cell_type": "markdown",
      "metadata": {
        "id": "PMet3XdcVF9O"
      },
      "source": [
        "If you make changes to a file containing code, the new version of the file will not be noticed unless you use the magic below."
      ]
    },
    {
      "cell_type": "code",
      "metadata": {
        "colab": {
          "base_uri": "https://localhost:8080/"
        },
        "id": "0ufY8AO1VEUh",
        "outputId": "13aeca9f-992b-4881-98d4-89508b0ad23a"
      },
      "source": [
        "%load_ext autoreload\n",
        "%autoreload 2"
      ],
      "execution_count": null,
      "outputs": [
        {
          "output_type": "stream",
          "text": [
            "The autoreload extension is already loaded. To reload it, use:\n",
            "  %reload_ext autoreload\n"
          ],
          "name": "stdout"
        }
      ]
    },
    {
      "cell_type": "markdown",
      "metadata": {
        "id": "6a6nkLsKWQpu"
      },
      "source": [
        "## Syncing with Google drive\n",
        "\n",
        "Files that you generate in, or upload to, colab are ephemeral, since colab is a temporary environment with an idle timeout of 90 minutes and an absolute timeout of 12 hours (24 hours for Colab pro). To save any files permanently, you need to mount your google drive folder as we show below. (Executing this command will open a new window in your browser - you need cut and paste the password that is shown into the prompt box.)\n",
        "\n"
      ]
    },
    {
      "cell_type": "code",
      "metadata": {
        "colab": {
          "base_uri": "https://localhost:8080/"
        },
        "id": "cYZpcMiQkl15",
        "outputId": "b9e259a1-c252-48c0-cdd8-72f97531c2f0"
      },
      "source": [
        "from google.colab import drive\n",
        "drive.mount('/content/gdrive')\n",
        "!pwd\n",
        "\n",
        "with open('/content/gdrive/MyDrive/foo.txt', 'w') as f:\n",
        "  f.write('Hello Google Drive!')\n",
        "!cat /content/gdrive/MyDrive/foo.txt"
      ],
      "execution_count": null,
      "outputs": [
        {
          "output_type": "stream",
          "text": [
            "Mounted at /content/gdrive\n",
            "/content\n",
            "Hello Google Drive!"
          ],
          "name": "stdout"
        }
      ]
    },
    {
      "cell_type": "markdown",
      "metadata": {
        "id": "CeGz5P_RUyzG"
      },
      "source": [
        "To ensure that local changes are detected by colab, use this piece of magic."
      ]
    },
    {
      "cell_type": "code",
      "metadata": {
        "id": "K6RR9dfoUyMG"
      },
      "source": [
        "%load_ext autoreload\n",
        "%autoreload 2"
      ],
      "execution_count": null,
      "outputs": []
    },
    {
      "cell_type": "markdown",
      "metadata": {
        "id": "bIqJtkFnlF8I"
      },
      "source": [
        "## Downloading data\n",
        "\n",
        "You can use [wget](https://www.pair.com/support/kb/paircloud-downloading-files-with-wget/) \n",
        "\n"
      ]
    },
    {
      "cell_type": "code",
      "metadata": {
        "colab": {
          "base_uri": "https://localhost:8080/"
        },
        "id": "LjaBDSSQltez",
        "outputId": "b57a7fe9-3545-43ad-d9fc-2565f94d81df"
      },
      "source": [
        "!pwd"
      ],
      "execution_count": 17,
      "outputs": [
        {
          "output_type": "stream",
          "text": [
            "/content\n"
          ],
          "name": "stdout"
        }
      ]
    },
    {
      "cell_type": "code",
      "metadata": {
        "id": "3oypH8Vclu86"
      },
      "source": [
        "!rm timemachine.*"
      ],
      "execution_count": 32,
      "outputs": []
    },
    {
      "cell_type": "code",
      "metadata": {
        "colab": {
          "base_uri": "https://localhost:8080/"
        },
        "id": "H0dvvsUclgdu",
        "outputId": "d13d67f5-861d-4cab-a856-a719a4d2d503"
      },
      "source": [
        "\n",
        "#!wget  https://github.com/probml/pyprobml/blob/master/data/timemachine.txt\n",
        "\n",
        "!wget https://raw.githubusercontent.com/probml/pyprobml/master/data/timemachine.txt"
      ],
      "execution_count": 34,
      "outputs": [
        {
          "output_type": "stream",
          "text": [
            "--2021-01-22 05:41:58--  https://raw.githubusercontent.com/probml/pyprobml/master/data/timemachine.txt\n",
            "Resolving raw.githubusercontent.com (raw.githubusercontent.com)... 151.101.0.133, 151.101.64.133, 151.101.128.133, ...\n",
            "Connecting to raw.githubusercontent.com (raw.githubusercontent.com)|151.101.0.133|:443... connected.\n",
            "HTTP request sent, awaiting response... 200 OK\n",
            "Length: 178887 (175K) [text/plain]\n",
            "Saving to: ‘timemachine.txt’\n",
            "\n",
            "timemachine.txt     100%[===================>] 174.69K  --.-KB/s    in 0.009s  \n",
            "\n",
            "2021-01-22 05:41:58 (18.4 MB/s) - ‘timemachine.txt’ saved [178887/178887]\n",
            "\n"
          ],
          "name": "stdout"
        }
      ]
    },
    {
      "cell_type": "code",
      "metadata": {
        "colab": {
          "base_uri": "https://localhost:8080/"
        },
        "id": "kj3fMYuwlyNR",
        "outputId": "632cf687-d2d9-4e75-da37-07b096736521"
      },
      "source": [
        "!head timemachine.txt"
      ],
      "execution_count": 35,
      "outputs": [
        {
          "output_type": "stream",
          "text": [
            "The Time Machine, by H. G. Wells [1898]\n",
            "\n",
            "I\n",
            "\n",
            "The Time Traveller (for so it will be convenient to speak of him) was expounding a recondite matter to us. His grey eyes shone and twinkled, and his usually pale face was flushed and animated. The fire burned brightly, and the soft radiance of the incandescent lights in the lilies of silver caught the bubbles that flashed and passed in our glasses. Our chairs, being his patents, embraced and caressed us rather than submitted to be sat upon, and there was that luxurious after-dinner atmosphere when thought roams gracefully free of the trammels of precision. And he put it to us in this way--marking the points with a lean forefinger--as we sat and lazily admired his earnestness over this new paradox (as we thought it) and his fecundity.\n",
            "\n",
            "'You must follow me carefully. I shall have to controvert one or two ideas that are almost universally accepted. The geometry, for instance, they taught you at school is founded on a misconception.'\n",
            "\n",
            "'Is not that rather a large thing to expect us to begin upon?' said Filby, an argumentative person with red hair.\n",
            "\n"
          ],
          "name": "stdout"
        }
      ]
    },
    {
      "cell_type": "markdown",
      "metadata": {
        "id": "buZsxpmUS37n"
      },
      "source": [
        "# Working with github\n",
        "\n",
        "It is possible to download code (or data) from githib into a local directory on this virtual machine.  It is also possible to upload local files back to github, although that is more complex. See details below."
      ]
    },
    {
      "cell_type": "code",
      "metadata": {
        "id": "6Bq2xwA7lHlA"
      },
      "source": [
        ""
      ],
      "execution_count": null,
      "outputs": []
    },
    {
      "cell_type": "markdown",
      "metadata": {
        "id": "rVvGT6GUBg2Q"
      },
      "source": [
        "## Cloning a repo from github\n",
        "\n",
        "Below we show how to clone the repo for this book, so you can access its code and data."
      ]
    },
    {
      "cell_type": "code",
      "metadata": {
        "id": "uVZWqzdW7_ZG",
        "colab": {
          "base_uri": "https://localhost:8080/"
        },
        "outputId": "4d1f7699-0b5a-4bea-c241-508fbc081f29"
      },
      "source": [
        "\n",
        "!rm -rf pyprobml # Remove any old local directory to ensure fresh install\n",
        "!git clone https://github.com/probml/pyprobml\n"
      ],
      "execution_count": 6,
      "outputs": [
        {
          "output_type": "stream",
          "text": [
            "Cloning into 'pyprobml'...\n",
            "remote: Enumerating objects: 190, done.\u001b[K\n",
            "remote: Counting objects: 100% (190/190), done.\u001b[K\n",
            "remote: Compressing objects: 100% (134/134), done.\u001b[K\n",
            "remote: Total 5905 (delta 114), reused 100 (delta 55), pack-reused 5715\u001b[K\n",
            "Receiving objects: 100% (5905/5905), 201.01 MiB | 24.86 MiB/s, done.\n",
            "Resolving deltas: 100% (3362/3362), done.\n"
          ],
          "name": "stdout"
        }
      ]
    },
    {
      "cell_type": "code",
      "metadata": {
        "colab": {
          "base_uri": "https://localhost:8080/"
        },
        "id": "XdC34HzKT8L8",
        "outputId": "ab286059-fa43-4a1a-881b-c777987a5e99"
      },
      "source": [
        "!ls"
      ],
      "execution_count": 7,
      "outputs": [
        {
          "output_type": "stream",
          "text": [
            "pyprobml  sample_data\n"
          ],
          "name": "stdout"
        }
      ]
    },
    {
      "cell_type": "markdown",
      "metadata": {
        "id": "HuplkSqtkDuR"
      },
      "source": [
        "We can access data as shown below."
      ]
    },
    {
      "cell_type": "code",
      "metadata": {
        "colab": {
          "base_uri": "https://localhost:8080/"
        },
        "id": "_8m9VQ-3kFcq",
        "outputId": "4f078099-482d-4f09-c1b1-a950cd703d33"
      },
      "source": [
        "\n",
        "datadir = 'pyprobml/data'\n",
        "import re\n",
        "fname = os.path.join(datadir, 'timemachine.txt')\n",
        "with open(fname, 'r') as f:\n",
        "    lines = f.readlines()\n",
        "    sentences = [re.sub('[^A-Za-z]+', ' ', st).lower().split()\n",
        "                   for st in lines]\n",
        "for  i in range(5):\n",
        "  words = sentences[i]\n",
        "  print(words)"
      ],
      "execution_count": null,
      "outputs": [
        {
          "output_type": "stream",
          "text": [
            "['the', 'time', 'machine', 'by', 'h', 'g', 'wells']\n",
            "[]\n",
            "['i']\n",
            "[]\n",
            "['the', 'time', 'traveller', 'for', 'so', 'it', 'will', 'be', 'convenient', 'to', 'speak', 'of', 'him', 'was', 'expounding', 'a', 'recondite', 'matter', 'to', 'us', 'his', 'grey', 'eyes', 'shone', 'and', 'twinkled', 'and', 'his', 'usually', 'pale', 'face', 'was', 'flushed', 'and', 'animated', 'the', 'fire', 'burned', 'brightly', 'and', 'the', 'soft', 'radiance', 'of', 'the', 'incandescent', 'lights', 'in', 'the', 'lilies', 'of', 'silver', 'caught', 'the', 'bubbles', 'that', 'flashed', 'and', 'passed', 'in', 'our', 'glasses', 'our', 'chairs', 'being', 'his', 'patents', 'embraced', 'and', 'caressed', 'us', 'rather', 'than', 'submitted', 'to', 'be', 'sat', 'upon', 'and', 'there', 'was', 'that', 'luxurious', 'after', 'dinner', 'atmosphere', 'when', 'thought', 'roams', 'gracefully', 'free', 'of', 'the', 'trammels', 'of', 'precision', 'and', 'he', 'put', 'it', 'to', 'us', 'in', 'this', 'way', 'marking', 'the', 'points', 'with', 'a', 'lean', 'forefinger', 'as', 'we', 'sat', 'and', 'lazily', 'admired', 'his', 'earnestness', 'over', 'this', 'new', 'paradox', 'as', 'we', 'thought', 'it', 'and', 'his', 'fecundity']\n"
          ],
          "name": "stdout"
        }
      ]
    },
    {
      "cell_type": "markdown",
      "metadata": {
        "id": "MNWWINngc5rn"
      },
      "source": [
        "We can run any script as shown below.\n",
        "(Note we first have to define the environment variable for where the figures will be stored.)"
      ]
    },
    {
      "cell_type": "code",
      "metadata": {
        "colab": {
          "base_uri": "https://localhost:8080/",
          "height": 828
        },
        "id": "aYXkQP-DdApw",
        "outputId": "26f86c97-6732-4fe3-a33d-a8f60f613fce"
      },
      "source": [
        "import os\n",
        "os.environ['PYPROBML']='pyprobml'\n",
        "\n",
        "%run pyprobml/scripts/activation_fun_plot.py"
      ],
      "execution_count": 8,
      "outputs": [
        {
          "output_type": "stream",
          "text": [
            "plot some activation functions\n"
          ],
          "name": "stdout"
        },
        {
          "output_type": "display_data",
          "data": {
            "image/png": "[encoded data removed]",
            "text/plain": [
              "<Figure size 432x288 with 1 Axes>"
            ]
          },
          "metadata": {
            "tags": [],
            "needs_background": "light"
          }
        },
        {
          "output_type": "display_data",
          "data": {
            "image/png": "[encoded data removed]",
            "text/plain": [
              "<Figure size 432x288 with 1 Axes>"
            ]
          },
          "metadata": {
            "tags": [],
            "needs_background": "light"
          }
        },
        {
          "output_type": "display_data",
          "data": {
            "image/png": "[encoded data removed]",
            "text/plain": [
              "<Figure size 432x288 with 1 Axes>"
            ]
          },
          "metadata": {
            "tags": [],
            "needs_background": "light"
          }
        }
      ]
    },
    {
      "cell_type": "markdown",
      "metadata": {
        "id": "YTT5eJ_qUDFe"
      },
      "source": [
        "We can also import code, as we show below."
      ]
    },
    {
      "cell_type": "code",
      "metadata": {
        "colab": {
          "base_uri": "https://localhost:8080/"
        },
        "id": "0jUdrHWLd95C",
        "outputId": "a6ba93bc-118c-42e7-c894-34eeef80c95b"
      },
      "source": [
        "!ls"
      ],
      "execution_count": 13,
      "outputs": [
        {
          "output_type": "stream",
          "text": [
            "pyprobml  sample_data\n"
          ],
          "name": "stdout"
        }
      ]
    },
    {
      "cell_type": "code",
      "metadata": {
        "colab": {
          "base_uri": "https://localhost:8080/"
        },
        "id": "-NkBCWPdePFj",
        "outputId": "dcfd1fef-7797-46fa-b0ba-dc7b1692c989"
      },
      "source": [
        "\n",
        "import pyprobml.scripts.pyprobml_utils as pml\n",
        "pml.pyprobml_test()"
      ],
      "execution_count": 11,
      "outputs": [
        {
          "output_type": "stream",
          "text": [
            "welcome to python probabilistic ML library\n"
          ],
          "name": "stdout"
        }
      ]
    },
    {
      "cell_type": "markdown",
      "metadata": {
        "id": "yaISmcnNmnS7"
      },
      "source": [
        "## Pushing local files back to github\n",
        "\n",
        "You can easily save your entire colab notebook to github by choosing 'Save a copy in github' under the File menu in the top left. But if you want to save individual files (eg code that you edited in the colab file editor, or a bunch of images or data files you created), the process is more complex.\n",
        "\n",
        "You first need to do some setup to create SSH keys on your current colab VM (virtual machine), manually add the keys to your github account, and then copy the keys to your mounted google drive so you can reuse the same keys in the future. This only has to be done once.\n",
        "\n",
        "After setup, you can use the `git_command` function we define below to securely execute git commands. This works by copying your SSH keys from your google drive to the current colab VM, executing the git command, and then deleting the keys from the VM for safety. \n"
      ]
    },
    {
      "cell_type": "markdown",
      "metadata": {
        "id": "0gOzFmcKoUuO"
      },
      "source": [
        "### Setup\n",
        "\n",
        "Follow these steps. (These instructions are text, not code, since they require user interaction.)\n",
        "\n",
        "```\n",
        "!ssh-keygen -t rsa -b 4096\n",
        "!ssh-keyscan -t rsa github.com >> ~/.ssh/known_hosts\n",
        "!cat /root/.ssh/id_rsa.pub\n",
        "```\n",
        "The cat command will display your public key in the colab window.\n",
        "Cut and paste this and manually add to your github account following [these instructions](https://github.com/settings/keys).\n",
        "\n",
        "Test it worked\n",
        "```\n",
        "!ssh -T git@github.com\n",
        "```\n",
        "\n",
        "Finally, save the generated keys to your Google drive\n",
        "\n",
        "```\n",
        "from google.colab import drive\n",
        "drive.mount('/content/drive')\n",
        "!mkdir /content/drive/MyDrive/ssh/\n",
        "!cp  -r  ~/.ssh/* /content/drive/MyDrive/ssh/\n",
        "!ls /content/drive/MyDrive/ssh/\n",
        "```\n"
      ]
    },
    {
      "cell_type": "markdown",
      "metadata": {
        "id": "oSiVyBG1xm44"
      },
      "source": [
        "### Test previous setup\n",
        "\n",
        "Let us check that we can see our SSH keys in our mounted google drive."
      ]
    },
    {
      "cell_type": "code",
      "metadata": {
        "colab": {
          "base_uri": "https://localhost:8080/"
        },
        "id": "cCUxHiHAxcY2",
        "outputId": "a60a0325-da4d-41d5-8f57-43ec0d119497"
      },
      "source": [
        "from google.colab import drive\n",
        "drive.mount('/content/drive')\n",
        "\n",
        "!ls /content/drive/MyDrive/ssh/\n",
        "\n"
      ],
      "execution_count": 3,
      "outputs": [
        {
          "output_type": "stream",
          "text": [
            "Mounted at /content/drive\n",
            "id_rsa\tid_rsa.pub  known_hosts\n"
          ],
          "name": "stdout"
        }
      ]
    },
    {
      "cell_type": "markdown",
      "metadata": {
        "id": "C-lPchgDpD7t"
      },
      "source": [
        "### Executing git commands from colab via SSH\n",
        "\n",
        "The following function lets you securely doing a git command via SSH.\n",
        "It copies the keys from your google drive to the local VM, excecutes the command, then removes the keys.\n",
        "\n"
      ]
    },
    {
      "cell_type": "code",
      "metadata": {
        "colab": {
          "base_uri": "https://localhost:8080/"
        },
        "id": "8Vsx7hE0SCpA",
        "outputId": "7c7ed95f-2c3c-4866-f147-cb40a078acb7"
      },
      "source": [
        "!rm -rf git_colab.py # remove any old copies of this file\n",
        "!wget https://raw.githubusercontent.com/probml/pyprobml/master/scripts/git_colab.py  \n"
      ],
      "execution_count": 6,
      "outputs": [
        {
          "output_type": "stream",
          "text": [
            "--2021-01-20 19:38:41--  https://raw.githubusercontent.com/probml/pyprobml/master/scripts/git_colab.py\n",
            "Resolving raw.githubusercontent.com (raw.githubusercontent.com)... 151.101.0.133, 151.101.64.133, 151.101.128.133, ...\n",
            "Connecting to raw.githubusercontent.com (raw.githubusercontent.com)|151.101.0.133|:443... connected.\n",
            "HTTP request sent, awaiting response... 200 OK\n",
            "Length: 1243 (1.2K) [text/plain]\n",
            "Saving to: ‘git_colab.py’\n",
            "\n",
            "git_colab.py        100%[===================>]   1.21K  --.-KB/s    in 0s      \n",
            "\n",
            "2021-01-20 19:38:42 (48.8 MB/s) - ‘git_colab.py’ saved [1243/1243]\n",
            "\n"
          ],
          "name": "stdout"
        }
      ]
    },
    {
      "cell_type": "markdown",
      "metadata": {
        "id": "umvOwzMfvpmU"
      },
      "source": [
        "Below we show how to use this. We first clone the repo to this colab VM."
      ]
    },
    {
      "cell_type": "code",
      "metadata": {
        "colab": {
          "base_uri": "https://localhost:8080/"
        },
        "id": "B-o1fImxucGz",
        "outputId": "06372b1d-e1c6-4a68-c5f7-e250cfb1c89c"
      },
      "source": [
        "from google.colab import drive\n",
        "drive.mount('/content/drive') # must do this before running git_colab\n",
        "\n",
        "import git_colab as gc\n",
        "\n",
        "!rm -rf pyprobml # remove any old copies of this directory\n",
        "#!git clone https://github.com/probml/pyprobml.git # clones using wrong credentials\n",
        "gc.git_ssh(\"git clone https://github.com/probml/pyprobml.git\") # clone using your credentials\n",
        "\n"
      ],
      "execution_count": 8,
      "outputs": [
        {
          "output_type": "stream",
          "text": [
            "Mounted at /content/drive\n",
            "executing command via ssh: git clone git@github.com:probml/pyprobml.git\n"
          ],
          "name": "stdout"
        }
      ]
    },
    {
      "cell_type": "markdown",
      "metadata": {
        "id": "ft_pJJ4ZTLdl"
      },
      "source": [
        "Next we add a file and push it to github.\n"
      ]
    },
    {
      "cell_type": "code",
      "metadata": {
        "colab": {
          "base_uri": "https://localhost:8080/"
        },
        "id": "3hfluZVYTSNd",
        "outputId": "0a64118d-d176-4101-db77-2029f573aef8"
      },
      "source": [
        "!pwd\n",
        "!ls\n",
        "\n",
        "# To add stuff to github, you must be inside the git directory\n",
        "%cd /content/pyprobml\n",
        "!echo 'this is a test' > scripts/foo.txt\n",
        "gc.git_ssh(\"git add scripts; git commit -m 'push from colab'; git push\")\n",
        "%cd /content"
      ],
      "execution_count": 9,
      "outputs": [
        {
          "output_type": "stream",
          "text": [
            "/content\n",
            "drive  git_colab.py  __pycache__  pyprobml  sample_data\n",
            "/content/pyprobml\n",
            "executing command via ssh: git add scripts; git commit -m 'push from colab'; git push\n",
            "/content\n"
          ],
          "name": "stdout"
        }
      ]
    },
    {
      "cell_type": "markdown",
      "metadata": {
        "id": "DAqqAhzzTS7F"
      },
      "source": [
        "[Here](https://github.com/probml/pyprobml/blob/master/scripts/foo.txt) is a link to the file we just pushed.\n",
        "\n",
        "Finally we clean up our mess."
      ]
    },
    {
      "cell_type": "code",
      "metadata": {
        "colab": {
          "base_uri": "https://localhost:8080/"
        },
        "id": "r16zYiNTu_Mz",
        "outputId": "0fc340b5-4550-4466-b554-b746914ec706"
      },
      "source": [
        "\n",
        "%cd /content/pyprobml\n",
        "gc.git_ssh(\"git rm scripts/foo*.txt; git commit -m 'colab cleanup'; git push\")\n",
        "%cd /content"
      ],
      "execution_count": 10,
      "outputs": [
        {
          "output_type": "stream",
          "text": [
            "/content/pyprobml\n",
            "executing command via ssh: git rm scripts/foo*.txt; git commit -m 'colab cleanup'; git push\n",
            "/content\n"
          ],
          "name": "stdout"
        }
      ]
    },
    {
      "cell_type": "markdown",
      "metadata": {
        "id": "q-kRtmdm5d7X"
      },
      "source": [
        "# Software engineering tools\n",
        "\n",
        " [Joel Grus has argued](https://docs.google.com/presentation/d/1n2RlMdmv1p25Xy5thJUhkKGvjtV-dkAIsUXP-AL4ffI/edit) that notebooks are bad for developing complex software, because they encourage creating monolithic notebooks instead of factoring out code into separate, well-tested files. \n",
        " \n",
        "[Jeremy Howard has responded to Joel's critiques here](https://www.youtube.com/watch?v=9Q6sLbz37gk&feature=youtu.be). In particular, the FastAI organization has created [nbdev](https://github.com/fastai/nbdev) which has various tools that make notebooks more useful.\n",
        "\n"
      ]
    },
    {
      "cell_type": "markdown",
      "metadata": {
        "id": "PuSsmj_fZ106"
      },
      "source": [
        "## Avoiding problems with global state\n",
        "\n",
        "One of the main drawbacks of colab is that all variables are globally visible, so you may accidently write a function that depends on the current state of the notebook, but which is not passed in as an argument. Such a function may fail if used in a different context.\n",
        "\n",
        "One solution to this is to put most of your code in files, and then have the notebook simply import the code and run it, like you would from the command line. Then you can always run the notebook from scratch, to ensure consistency.\n",
        "\n",
        "Another solution is to use the [localscope](https://localscope.readthedocs.io/en/latest/README.html) package can catch some of these errors.\n",
        "\n",
        "\n"
      ]
    },
    {
      "cell_type": "code",
      "metadata": {
        "colab": {
          "base_uri": "https://localhost:8080/"
        },
        "id": "Q0FmEeIgc0YI",
        "outputId": "0d71c4a8-a4fb-45bd-e137-c391e408c83f"
      },
      "source": [
        "!pip install localscope\n"
      ],
      "execution_count": null,
      "outputs": [
        {
          "output_type": "stream",
          "text": [
            "Collecting localscope\n",
            "  Downloading https://files.pythonhosted.org/packages/71/29/c3010c332c7175fe48060b1113e32f2831bab2202428d2cc29686685302f/localscope-0.1.3.tar.gz\n",
            "Building wheels for collected packages: localscope\n",
            "  Building wheel for localscope (setup.py) ... \u001b[?25l\u001b[?25hdone\n",
            "  Created wheel for localscope: filename=localscope-0.1.3-cp36-none-any.whl size=4068 sha256=7a5d6718e16dbff82fe94e1229d233a19ef52280ff0d4fc48ef62a2ba41d5855\n",
            "  Stored in directory: /root/.cache/pip/wheels/89/57/33/ce153d31de05d74323324df0f45a08ea99e92300e549da5154\n",
            "Successfully built localscope\n",
            "Installing collected packages: localscope\n",
            "Successfully installed localscope-0.1.3\n"
          ],
          "name": "stdout"
        }
      ]
    },
    {
      "cell_type": "code",
      "metadata": {
        "id": "9zfUiUB8d-jh"
      },
      "source": [
        "from localscope import localscope"
      ],
      "execution_count": null,
      "outputs": []
    },
    {
      "cell_type": "code",
      "metadata": {
        "colab": {
          "base_uri": "https://localhost:8080/"
        },
        "id": "wI5wXzUPdlOS",
        "outputId": "500dfc1f-1cbc-4fa6-a30e-02f32258fa31"
      },
      "source": [
        "a = 'hello world'\n",
        "def myfun():\n",
        "   print(a) # silently accesses global variable\n",
        "\n",
        "myfun()"
      ],
      "execution_count": null,
      "outputs": [
        {
          "output_type": "stream",
          "text": [
            "hello world\n"
          ],
          "name": "stdout"
        }
      ]
    },
    {
      "cell_type": "code",
      "metadata": {
        "colab": {
          "base_uri": "https://localhost:8080/",
          "height": 337
        },
        "id": "T3V1iV32czq8",
        "outputId": "b346cb7a-f252-41bc-992b-dd72e5aec825"
      },
      "source": [
        "a = 'hello world'\n",
        "@localscope\n",
        "def myfun():\n",
        "  print(a)\n",
        "\n",
        "myfun()"
      ],
      "execution_count": null,
      "outputs": [
        {
          "output_type": "error",
          "ename": "ValueError",
          "evalue": "ignored",
          "traceback": [
            "\u001b[0;31m---------------------------------------------------------------------------\u001b[0m",
            "\u001b[0;31mValueError\u001b[0m                                Traceback (most recent call last)",
            "\u001b[0;32m<ipython-input-8-549f0808922e>\u001b[0m in \u001b[0;36m<module>\u001b[0;34m()\u001b[0m\n\u001b[1;32m      1\u001b[0m \u001b[0ma\u001b[0m \u001b[0;34m=\u001b[0m \u001b[0;34m'hello world'\u001b[0m\u001b[0;34m\u001b[0m\u001b[0;34m\u001b[0m\u001b[0m\n\u001b[0;32m----> 2\u001b[0;31m \u001b[0;34m@\u001b[0m\u001b[0mlocalscope\u001b[0m\u001b[0;34m\u001b[0m\u001b[0;34m\u001b[0m\u001b[0m\n\u001b[0m\u001b[1;32m      3\u001b[0m \u001b[0;32mdef\u001b[0m \u001b[0mmyfun\u001b[0m\u001b[0;34m(\u001b[0m\u001b[0;34m)\u001b[0m\u001b[0;34m:\u001b[0m\u001b[0;34m\u001b[0m\u001b[0;34m\u001b[0m\u001b[0m\n\u001b[1;32m      4\u001b[0m   \u001b[0mprint\u001b[0m\u001b[0;34m(\u001b[0m\u001b[0ma\u001b[0m\u001b[0;34m)\u001b[0m\u001b[0;34m\u001b[0m\u001b[0;34m\u001b[0m\u001b[0m\n\u001b[1;32m      5\u001b[0m \u001b[0;34m\u001b[0m\u001b[0m\n",
            "\u001b[0;32m/usr/local/lib/python3.6/dist-packages/localscope/__init__.py\u001b[0m in \u001b[0;36mlocalscope\u001b[0;34m(func, predicate, allowed, allow_closure, _globals)\u001b[0m\n\u001b[1;32m    115\u001b[0m             \u001b[0mvalue\u001b[0m \u001b[0;34m=\u001b[0m \u001b[0m_globals\u001b[0m\u001b[0;34m[\u001b[0m\u001b[0mname\u001b[0m\u001b[0;34m]\u001b[0m\u001b[0;34m\u001b[0m\u001b[0;34m\u001b[0m\u001b[0m\n\u001b[1;32m    116\u001b[0m             \u001b[0;32mif\u001b[0m \u001b[0;32mnot\u001b[0m \u001b[0mpredicate\u001b[0m\u001b[0;34m(\u001b[0m\u001b[0mvalue\u001b[0m\u001b[0;34m)\u001b[0m\u001b[0;34m:\u001b[0m\u001b[0;34m\u001b[0m\u001b[0;34m\u001b[0m\u001b[0m\n\u001b[0;32m--> 117\u001b[0;31m                 \u001b[0;32mraise\u001b[0m \u001b[0mValueError\u001b[0m\u001b[0;34m(\u001b[0m\u001b[0;34mf'`{name}` is not a permitted global'\u001b[0m\u001b[0;34m)\u001b[0m\u001b[0;34m\u001b[0m\u001b[0;34m\u001b[0m\u001b[0m\n\u001b[0m\u001b[1;32m    118\u001b[0m         \u001b[0;32melif\u001b[0m \u001b[0minstruction\u001b[0m\u001b[0;34m.\u001b[0m\u001b[0mopname\u001b[0m \u001b[0;34m==\u001b[0m \u001b[0;34m'STORE_DEREF'\u001b[0m\u001b[0;34m:\u001b[0m\u001b[0;34m\u001b[0m\u001b[0;34m\u001b[0m\u001b[0m\n\u001b[1;32m    119\u001b[0m             \u001b[0mallowed\u001b[0m\u001b[0;34m.\u001b[0m\u001b[0mappend\u001b[0m\u001b[0;34m(\u001b[0m\u001b[0mname\u001b[0m\u001b[0;34m)\u001b[0m\u001b[0;34m\u001b[0m\u001b[0;34m\u001b[0m\u001b[0m\n",
            "\u001b[0;31mValueError\u001b[0m: `a` is not a permitted global"
          ]
        }
      ]
    },
    {
      "cell_type": "code",
      "metadata": {
        "colab": {
          "base_uri": "https://localhost:8080/",
          "height": 337
        },
        "id": "5t48_AMbAN8V",
        "outputId": "71fdaacf-4650-4a52-9fb5-da5873c33e73"
      },
      "source": [
        "def myfun2():\n",
        "  return 42\n",
        "\n",
        "@localscope\n",
        "def myfun3():\n",
        "  return myfun2()\n",
        "\n",
        "  "
      ],
      "execution_count": null,
      "outputs": [
        {
          "output_type": "error",
          "ename": "ValueError",
          "evalue": "ignored",
          "traceback": [
            "\u001b[0;31m---------------------------------------------------------------------------\u001b[0m",
            "\u001b[0;31mValueError\u001b[0m                                Traceback (most recent call last)",
            "\u001b[0;32m<ipython-input-9-5cfa07ed9c85>\u001b[0m in \u001b[0;36m<module>\u001b[0;34m()\u001b[0m\n\u001b[1;32m      2\u001b[0m   \u001b[0;32mreturn\u001b[0m \u001b[0;36m42\u001b[0m\u001b[0;34m\u001b[0m\u001b[0;34m\u001b[0m\u001b[0m\n\u001b[1;32m      3\u001b[0m \u001b[0;34m\u001b[0m\u001b[0m\n\u001b[0;32m----> 4\u001b[0;31m \u001b[0;34m@\u001b[0m\u001b[0mlocalscope\u001b[0m\u001b[0;34m\u001b[0m\u001b[0;34m\u001b[0m\u001b[0m\n\u001b[0m\u001b[1;32m      5\u001b[0m \u001b[0;32mdef\u001b[0m \u001b[0mmyfun3\u001b[0m\u001b[0;34m(\u001b[0m\u001b[0;34m)\u001b[0m\u001b[0;34m:\u001b[0m\u001b[0;34m\u001b[0m\u001b[0;34m\u001b[0m\u001b[0m\n\u001b[1;32m      6\u001b[0m   \u001b[0;32mreturn\u001b[0m \u001b[0mmyfun2\u001b[0m\u001b[0;34m(\u001b[0m\u001b[0;34m)\u001b[0m\u001b[0;34m\u001b[0m\u001b[0;34m\u001b[0m\u001b[0m\n",
            "\u001b[0;32m/usr/local/lib/python3.6/dist-packages/localscope/__init__.py\u001b[0m in \u001b[0;36mlocalscope\u001b[0;34m(func, predicate, allowed, allow_closure, _globals)\u001b[0m\n\u001b[1;32m    115\u001b[0m             \u001b[0mvalue\u001b[0m \u001b[0;34m=\u001b[0m \u001b[0m_globals\u001b[0m\u001b[0;34m[\u001b[0m\u001b[0mname\u001b[0m\u001b[0;34m]\u001b[0m\u001b[0;34m\u001b[0m\u001b[0;34m\u001b[0m\u001b[0m\n\u001b[1;32m    116\u001b[0m             \u001b[0;32mif\u001b[0m \u001b[0;32mnot\u001b[0m \u001b[0mpredicate\u001b[0m\u001b[0;34m(\u001b[0m\u001b[0mvalue\u001b[0m\u001b[0;34m)\u001b[0m\u001b[0;34m:\u001b[0m\u001b[0;34m\u001b[0m\u001b[0;34m\u001b[0m\u001b[0m\n\u001b[0;32m--> 117\u001b[0;31m                 \u001b[0;32mraise\u001b[0m \u001b[0mValueError\u001b[0m\u001b[0;34m(\u001b[0m\u001b[0;34mf'`{name}` is not a permitted global'\u001b[0m\u001b[0;34m)\u001b[0m\u001b[0;34m\u001b[0m\u001b[0;34m\u001b[0m\u001b[0m\n\u001b[0m\u001b[1;32m    118\u001b[0m         \u001b[0;32melif\u001b[0m \u001b[0minstruction\u001b[0m\u001b[0;34m.\u001b[0m\u001b[0mopname\u001b[0m \u001b[0;34m==\u001b[0m \u001b[0;34m'STORE_DEREF'\u001b[0m\u001b[0;34m:\u001b[0m\u001b[0;34m\u001b[0m\u001b[0;34m\u001b[0m\u001b[0m\n\u001b[1;32m    119\u001b[0m             \u001b[0mallowed\u001b[0m\u001b[0;34m.\u001b[0m\u001b[0mappend\u001b[0m\u001b[0;34m(\u001b[0m\u001b[0mname\u001b[0m\u001b[0;34m)\u001b[0m\u001b[0;34m\u001b[0m\u001b[0;34m\u001b[0m\u001b[0m\n",
            "\u001b[0;31mValueError\u001b[0m: `myfun2` is not a permitted global"
          ]
        }
      ]
    },
    {
      "cell_type": "code",
      "metadata": {
        "colab": {
          "base_uri": "https://localhost:8080/"
        },
        "id": "DAqLZ8PdAquy",
        "outputId": "021e8282-a283-414c-ef1d-46521da89e49"
      },
      "source": [
        "@localscope.mfc # allow for global methods, functions, classes\n",
        "def myfun4():\n",
        "  return myfun2()\n",
        "\n",
        "myfun4()"
      ],
      "execution_count": null,
      "outputs": [
        {
          "output_type": "execute_result",
          "data": {
            "text/plain": [
              "42"
            ]
          },
          "metadata": {
            "tags": []
          },
          "execution_count": 11
        }
      ]
    },
    {
      "cell_type": "markdown",
      "metadata": {
        "id": "iZaeVouoAhXP"
      },
      "source": [
        "## Factoring out functionality into files stored on github\n",
        "\n",
        "The recommended workflow is to  develop your code in the colab in the usual way, and when it is working, to factor out the core code into separate files. You can  edit these files locally in the colab editor, and then push the code to github when ready (see details above). To run functions defined in a local file, just import them. For example, suppose we have created the file /content/pyprobml/scripts/fit_flax.py; we  can use this idiom to run its test suite:\n",
        "```\n",
        "import pyprobml.scripts.fit_flax as ff\n",
        "ff.test()\n",
        "```\n",
        "If you make local edits, you want to be sure\n",
        " that you always import the latest version of the file (not a cached version). So you need to use this piece of colab magic first:\n",
        "```\n",
        "%load_ext autoreload\n",
        "%autoreload 2\n",
        "```\n"
      ]
    },
    {
      "cell_type": "markdown",
      "metadata": {
        "id": "DdXlYCe1AlJa"
      },
      "source": [
        "\n",
        "## File editors\n",
        "\n",
        "Colab has a simple file editor, illustrated below for an example file.\n",
        "\n",
        "<img src=\"https://github.com/probml/pyprobml/blob/\n",
        "master/book1/intro/figures/colab-file-editor.png?raw=true\">\n"
      ]
    },
    {
      "cell_type": "markdown",
      "metadata": {
        "id": "4qi2xKMbAnlj"
      },
      "source": [
        "\n",
        "## VScode\n",
        "The default colab file editor is very primitive.\n",
        "See [this article](https://amitness.com/vscode-on-colab/) for how to run VScode\n",
        "from inside your Colab browser. Unfortunately this is a bit slow. It is also possible to run VScode locally on your laptop, and have it connect to colab via SSH, but this is more complex (see [this medium post](https://medium.com/@robertbracco1/configuring-google-colab-like-a-pro-d61c253f7573#4cf4) for details).\n"
      ]
    },
    {
      "cell_type": "markdown",
      "metadata": {
        "id": "7KrRcbQ71ZyZ"
      },
      "source": [
        "# Hardware accelerators\n",
        "\n",
        "By default, Colab runs on a CPU, but you can select GPU or TPU for extra speed, as we show below. To get access to more powerful machines (with faster processors, more memory, and longer idle timeouts), you can subscript to [Colab Pro](https://colab.research.google.com/signup). At the time of writing (Jan 2021), the cost is $10/month (USD). This is a good deal if you use GPUs a lot. \n"
      ]
    },
    {
      "cell_type": "markdown",
      "metadata": {
        "id": "Qpb9N-c-3RSf"
      },
      "source": [
        "## CPUs\n",
        "\n",
        "To see what devices you have, use this command.\n"
      ]
    },
    {
      "cell_type": "code",
      "metadata": {
        "colab": {
          "base_uri": "https://localhost:8080/"
        },
        "id": "SZYIR1Kk1ktp",
        "outputId": "04ab4999-74d4-47d6-f9cb-004ca13b590b"
      },
      "source": [
        "from tensorflow.python.client import device_lib\n",
        "device_lib.list_local_devices()"
      ],
      "execution_count": 4,
      "outputs": [
        {
          "output_type": "execute_result",
          "data": {
            "text/plain": [
              "[name: \"/device:CPU:0\"\n",
              " device_type: \"CPU\"\n",
              " memory_limit: 268435456\n",
              " locality {\n",
              " }\n",
              " incarnation: 12564556295328712695, name: \"/device:GPU:0\"\n",
              " device_type: \"GPU\"\n",
              " memory_limit: 15692777408\n",
              " locality {\n",
              "   bus_id: 1\n",
              "   links {\n",
              "   }\n",
              " }\n",
              " incarnation: 6192511611231741902\n",
              " physical_device_desc: \"device: 0, name: Tesla P100-PCIE-16GB, pci bus id: 0000:00:04.0, compute capability: 6.0\"]"
            ]
          },
          "metadata": {
            "tags": []
          },
          "execution_count": 4
        }
      ]
    },
    {
      "cell_type": "code",
      "metadata": {
        "colab": {
          "base_uri": "https://localhost:8080/"
        },
        "id": "hs_l1zUY3UuQ",
        "outputId": "99a7db7f-6325-452e-ca69-ab7439070d67"
      },
      "source": [
        "!cat /proc/version"
      ],
      "execution_count": 5,
      "outputs": [
        {
          "output_type": "stream",
          "text": [
            "Linux version 4.19.112+ (builder@a12462ca91c8) (Chromium OS 10.0_pre377782_p20200113-r10 clang version 10.0.0 (/var/cache/chromeos-cache/distfiles/host/egit-src/llvm-project 4e8231b5cf0f5f62c7a51a857e29f5be5cb55734)) #1 SMP Thu Jul 23 08:00:38 PDT 2020\n"
          ],
          "name": "stdout"
        }
      ]
    },
    {
      "cell_type": "code",
      "metadata": {
        "colab": {
          "base_uri": "https://localhost:8080/"
        },
        "id": "WHG13Iwa3Z5k",
        "outputId": "ebc74028-163e-48e2-a0c6-56667e4e0c0d"
      },
      "source": [
        "from psutil import cpu_count\n",
        "\n",
        "print('num cores', cpu_count())\n",
        "\n",
        "!cat /proc/cpuinfo\n"
      ],
      "execution_count": 7,
      "outputs": [
        {
          "output_type": "stream",
          "text": [
            "num cores 4\n",
            "processor\t: 0\n",
            "vendor_id\t: GenuineIntel\n",
            "cpu family\t: 6\n",
            "model\t\t: 79\n",
            "model name\t: Intel(R) Xeon(R) CPU @ 2.20GHz\n",
            "stepping\t: 0\n",
            "microcode\t: 0x1\n",
            "cpu MHz\t\t: 2200.000\n",
            "cache size\t: 56320 KB\n",
            "physical id\t: 0\n",
            "siblings\t: 4\n",
            "core id\t\t: 0\n",
            "cpu cores\t: 2\n",
            "apicid\t\t: 0\n",
            "initial apicid\t: 0\n",
            "fpu\t\t: yes\n",
            "fpu_exception\t: yes\n",
            "cpuid level\t: 13\n",
            "wp\t\t: yes\n",
            "flags\t\t: fpu vme de pse tsc msr pae mce cx8 apic sep mtrr pge mca cmov pat pse36 clflush mmx fxsr sse sse2 ss ht syscall nx pdpe1gb rdtscp lm constant_tsc rep_good nopl xtopology nonstop_tsc cpuid tsc_known_freq pni pclmulqdq ssse3 fma cx16 pcid sse4_1 sse4_2 x2apic movbe popcnt aes xsave avx f16c rdrand hypervisor lahf_lm abm 3dnowprefetch invpcid_single ssbd ibrs ibpb stibp fsgsbase tsc_adjust bmi1 hle avx2 smep bmi2 erms invpcid rtm rdseed adx smap xsaveopt arat md_clear arch_capabilities\n",
            "bugs\t\t: cpu_meltdown spectre_v1 spectre_v2 spec_store_bypass l1tf mds swapgs taa\n",
            "bogomips\t: 4400.00\n",
            "clflush size\t: 64\n",
            "cache_alignment\t: 64\n",
            "address sizes\t: 46 bits physical, 48 bits virtual\n",
            "power management:\n",
            "\n",
            "processor\t: 1\n",
            "vendor_id\t: GenuineIntel\n",
            "cpu family\t: 6\n",
            "model\t\t: 79\n",
            "model name\t: Intel(R) Xeon(R) CPU @ 2.20GHz\n",
            "stepping\t: 0\n",
            "microcode\t: 0x1\n",
            "cpu MHz\t\t: 2200.000\n",
            "cache size\t: 56320 KB\n",
            "physical id\t: 0\n",
            "siblings\t: 4\n",
            "core id\t\t: 1\n",
            "cpu cores\t: 2\n",
            "apicid\t\t: 2\n",
            "initial apicid\t: 2\n",
            "fpu\t\t: yes\n",
            "fpu_exception\t: yes\n",
            "cpuid level\t: 13\n",
            "wp\t\t: yes\n",
            "flags\t\t: fpu vme de pse tsc msr pae mce cx8 apic sep mtrr pge mca cmov pat pse36 clflush mmx fxsr sse sse2 ss ht syscall nx pdpe1gb rdtscp lm constant_tsc rep_good nopl xtopology nonstop_tsc cpuid tsc_known_freq pni pclmulqdq ssse3 fma cx16 pcid sse4_1 sse4_2 x2apic movbe popcnt aes xsave avx f16c rdrand hypervisor lahf_lm abm 3dnowprefetch invpcid_single ssbd ibrs ibpb stibp fsgsbase tsc_adjust bmi1 hle avx2 smep bmi2 erms invpcid rtm rdseed adx smap xsaveopt arat md_clear arch_capabilities\n",
            "bugs\t\t: cpu_meltdown spectre_v1 spectre_v2 spec_store_bypass l1tf mds swapgs taa\n",
            "bogomips\t: 4400.00\n",
            "clflush size\t: 64\n",
            "cache_alignment\t: 64\n",
            "address sizes\t: 46 bits physical, 48 bits virtual\n",
            "power management:\n",
            "\n",
            "processor\t: 2\n",
            "vendor_id\t: GenuineIntel\n",
            "cpu family\t: 6\n",
            "model\t\t: 79\n",
            "model name\t: Intel(R) Xeon(R) CPU @ 2.20GHz\n",
            "stepping\t: 0\n",
            "microcode\t: 0x1\n",
            "cpu MHz\t\t: 2200.000\n",
            "cache size\t: 56320 KB\n",
            "physical id\t: 0\n",
            "siblings\t: 4\n",
            "core id\t\t: 0\n",
            "cpu cores\t: 2\n",
            "apicid\t\t: 1\n",
            "initial apicid\t: 1\n",
            "fpu\t\t: yes\n",
            "fpu_exception\t: yes\n",
            "cpuid level\t: 13\n",
            "wp\t\t: yes\n",
            "flags\t\t: fpu vme de pse tsc msr pae mce cx8 apic sep mtrr pge mca cmov pat pse36 clflush mmx fxsr sse sse2 ss ht syscall nx pdpe1gb rdtscp lm constant_tsc rep_good nopl xtopology nonstop_tsc cpuid tsc_known_freq pni pclmulqdq ssse3 fma cx16 pcid sse4_1 sse4_2 x2apic movbe popcnt aes xsave avx f16c rdrand hypervisor lahf_lm abm 3dnowprefetch invpcid_single ssbd ibrs ibpb stibp fsgsbase tsc_adjust bmi1 hle avx2 smep bmi2 erms invpcid rtm rdseed adx smap xsaveopt arat md_clear arch_capabilities\n",
            "bugs\t\t: cpu_meltdown spectre_v1 spectre_v2 spec_store_bypass l1tf mds swapgs taa\n",
            "bogomips\t: 4400.00\n",
            "clflush size\t: 64\n",
            "cache_alignment\t: 64\n",
            "address sizes\t: 46 bits physical, 48 bits virtual\n",
            "power management:\n",
            "\n",
            "processor\t: 3\n",
            "vendor_id\t: GenuineIntel\n",
            "cpu family\t: 6\n",
            "model\t\t: 79\n",
            "model name\t: Intel(R) Xeon(R) CPU @ 2.20GHz\n",
            "stepping\t: 0\n",
            "microcode\t: 0x1\n",
            "cpu MHz\t\t: 2200.000\n",
            "cache size\t: 56320 KB\n",
            "physical id\t: 0\n",
            "siblings\t: 4\n",
            "core id\t\t: 1\n",
            "cpu cores\t: 2\n",
            "apicid\t\t: 3\n",
            "initial apicid\t: 3\n",
            "fpu\t\t: yes\n",
            "fpu_exception\t: yes\n",
            "cpuid level\t: 13\n",
            "wp\t\t: yes\n",
            "flags\t\t: fpu vme de pse tsc msr pae mce cx8 apic sep mtrr pge mca cmov pat pse36 clflush mmx fxsr sse sse2 ss ht syscall nx pdpe1gb rdtscp lm constant_tsc rep_good nopl xtopology nonstop_tsc cpuid tsc_known_freq pni pclmulqdq ssse3 fma cx16 pcid sse4_1 sse4_2 x2apic movbe popcnt aes xsave avx f16c rdrand hypervisor lahf_lm abm 3dnowprefetch invpcid_single ssbd ibrs ibpb stibp fsgsbase tsc_adjust bmi1 hle avx2 smep bmi2 erms invpcid rtm rdseed adx smap xsaveopt arat md_clear arch_capabilities\n",
            "bugs\t\t: cpu_meltdown spectre_v1 spectre_v2 spec_store_bypass l1tf mds swapgs taa\n",
            "bogomips\t: 4400.00\n",
            "clflush size\t: 64\n",
            "cache_alignment\t: 64\n",
            "address sizes\t: 46 bits physical, 48 bits virtual\n",
            "power management:\n",
            "\n"
          ],
          "name": "stdout"
        }
      ]
    },
    {
      "cell_type": "markdown",
      "metadata": {
        "id": "PivaBI5za45p"
      },
      "source": [
        "## Memory\n"
      ]
    },
    {
      "cell_type": "code",
      "metadata": {
        "colab": {
          "base_uri": "https://localhost:8080/"
        },
        "id": "xg3C0Yrq3job",
        "outputId": "0b480191-8489-4b6c-fc26-c6f3b51aecc2"
      },
      "source": [
        "from psutil import virtual_memory\n",
        "ram_gb = virtual_memory().total / 1e9\n",
        "print('RAM (GB)', ram_gb)\n"
      ],
      "execution_count": 1,
      "outputs": [
        {
          "output_type": "stream",
          "text": [
            "RAM (GB) 27.393818624\n"
          ],
          "name": "stdout"
        }
      ]
    },
    {
      "cell_type": "code",
      "metadata": {
        "colab": {
          "base_uri": "https://localhost:8080/"
        },
        "id": "W_I7m_hUbBpu",
        "outputId": "b688a7d0-1c53-4864-c79f-fde42cda4db6"
      },
      "source": [
        "\n",
        "!cat /proc/meminfo"
      ],
      "execution_count": 2,
      "outputs": [
        {
          "output_type": "stream",
          "text": [
            "MemTotal:       26751776 kB\n",
            "MemFree:        23653276 kB\n",
            "MemAvailable:   25773356 kB\n",
            "Buffers:          109276 kB\n",
            "Cached:          2230616 kB\n",
            "SwapCached:            0 kB\n",
            "Active:           756592 kB\n",
            "Inactive:        1980036 kB\n",
            "Active(anon):     363548 kB\n",
            "Inactive(anon):      416 kB\n",
            "Active(file):     393044 kB\n",
            "Inactive(file):  1979620 kB\n",
            "Unevictable:           0 kB\n",
            "Mlocked:               0 kB\n",
            "SwapTotal:             0 kB\n",
            "SwapFree:              0 kB\n",
            "Dirty:               392 kB\n",
            "Writeback:             0 kB\n",
            "AnonPages:        396824 kB\n",
            "Mapped:           212400 kB\n",
            "Shmem:              1032 kB\n",
            "Slab:             201364 kB\n",
            "SReclaimable:     140252 kB\n",
            "SUnreclaim:        61112 kB\n",
            "KernelStack:        4528 kB\n",
            "PageTables:         5336 kB\n",
            "NFS_Unstable:          0 kB\n",
            "Bounce:                0 kB\n",
            "WritebackTmp:          0 kB\n",
            "CommitLimit:    13375888 kB\n",
            "Committed_AS:    3257684 kB\n",
            "VmallocTotal:   34359738367 kB\n",
            "VmallocUsed:           0 kB\n",
            "VmallocChunk:          0 kB\n",
            "Percpu:             2096 kB\n",
            "AnonHugePages:         0 kB\n",
            "ShmemHugePages:        0 kB\n",
            "ShmemPmdMapped:        0 kB\n",
            "HugePages_Total:       0\n",
            "HugePages_Free:        0\n",
            "HugePages_Rsvd:        0\n",
            "HugePages_Surp:        0\n",
            "Hugepagesize:       2048 kB\n",
            "Hugetlb:               0 kB\n",
            "DirectMap4k:      134376 kB\n",
            "DirectMap2M:     4059136 kB\n",
            "DirectMap1G:    25165824 kB\n"
          ],
          "name": "stdout"
        }
      ]
    },
    {
      "cell_type": "markdown",
      "metadata": {
        "id": "v0G2d13kIEz5"
      },
      "source": [
        "## GPUs\n",
        "\n",
        "If you select the 'Runtime' menu at top left, and then select 'Change runtime type' and then select 'GPU', you can get free access to a GPU. \n",
        "\n",
        "\n",
        "<img src=\"https://github.com/probml/pyprobml/blob/\n",
        "master/book1/intro/figures/colab-change-runtime.png?raw=true\" height=300>\n",
        "<img src=\"https://github.com/probml/pyprobml/blob/\n",
        "master/book1/intro/figures/colab-select-gpu.png?raw=true\" height=200>\n",
        "\n"
      ]
    },
    {
      "cell_type": "markdown",
      "metadata": {
        "id": "MGVZB0esI0QG"
      },
      "source": [
        "\n",
        "To see what kind of GPU you are using, see below.\n"
      ]
    },
    {
      "cell_type": "code",
      "metadata": {
        "id": "FikkXWQqBU9O",
        "colab": {
          "base_uri": "https://localhost:8080/"
        },
        "outputId": "655ec017-3552-4390-bd7e-21e48ebc4ea9"
      },
      "source": [
        "gpu_info = !nvidia-smi\n",
        "gpu_info = '\\n'.join(gpu_info)\n",
        "print(gpu_info)"
      ],
      "execution_count": 80,
      "outputs": [
        {
          "output_type": "stream",
          "text": [
            "Tue Jan 19 23:05:41 2021       \n",
            "+-----------------------------------------------------------------------------+\n",
            "| NVIDIA-SMI 460.32.03    Driver Version: 418.67       CUDA Version: 10.1     |\n",
            "|-------------------------------+----------------------+----------------------+\n",
            "| GPU  Name        Persistence-M| Bus-Id        Disp.A | Volatile Uncorr. ECC |\n",
            "| Fan  Temp  Perf  Pwr:Usage/Cap|         Memory-Usage | GPU-Util  Compute M. |\n",
            "|                               |                      |               MIG M. |\n",
            "|===============================+======================+======================|\n",
            "|   0  Tesla P100-PCIE...  Off  | 00000000:00:04.0 Off |                    0 |\n",
            "| N/A   32C    P0    25W / 250W |      0MiB / 16280MiB |      0%      Default |\n",
            "|                               |                      |                 ERR! |\n",
            "+-------------------------------+----------------------+----------------------+\n",
            "                                                                               \n",
            "+-----------------------------------------------------------------------------+\n",
            "| Processes:                                                                  |\n",
            "|  GPU   GI   CI        PID   Type   Process name                  GPU Memory |\n",
            "|        ID   ID                                                   Usage      |\n",
            "|=============================================================================|\n",
            "|  No running processes found                                                 |\n",
            "+-----------------------------------------------------------------------------+\n"
          ],
          "name": "stdout"
        }
      ]
    },
    {
      "cell_type": "code",
      "metadata": {
        "colab": {
          "base_uri": "https://localhost:8080/"
        },
        "id": "GU6nII1F5S2S",
        "outputId": "d220a1a6-cc83-4718-c77e-2df38f13bf9c"
      },
      "source": [
        "!grep Model: /proc/driver/nvidia/gpus/*/information | awk '{$1=\"\";print$0}'"
      ],
      "execution_count": 79,
      "outputs": [
        {
          "output_type": "stream",
          "text": [
            " Tesla P100-PCIE-16GB\n"
          ],
          "name": "stdout"
        }
      ]
    },
    {
      "cell_type": "markdown",
      "metadata": {
        "id": "8hYLvG1KgM6K"
      },
      "source": [
        "# Using Julia in colab\n",
        "\n",
        "See [this colab](https://colab.research.google.com/github/ageron/julia_notebooks/blob/master/Julia_Colab_Notebook_Template.ipynb)"
      ]
    },
    {
      "cell_type": "code",
      "metadata": {
        "id": "hzi1OpMaZlAc"
      },
      "source": [
        ""
      ],
      "execution_count": null,
      "outputs": []
    }
  ]
}