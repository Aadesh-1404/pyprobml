{
  "nbformat": 4,
  "nbformat_minor": 0,
  "metadata": {
    "colab": {
      "name": " colab_intro.ipynb",
      "provenance": [],
      "toc_visible": true,
      "machine_shape": "hm",
      "include_colab_link": true
    },
    "kernelspec": {
      "name": "python3",
      "display_name": "Python 3"
    }
  },
  "cells": [
    {
      "cell_type": "markdown",
      "metadata": {
        "id": "view-in-github",
        "colab_type": "text"
      },
      "source": [
        "<a href=\"https://colab.research.google.com/github/probml/pyprobml/blob/master/book1/intro/colab_intro.ipynb\" target=\"_parent\"><img src=\"https://colab.research.google.com/assets/colab-badge.svg\" alt=\"Open In Colab\"/></a>"
      ]
    },
    {
      "cell_type": "markdown",
      "metadata": {
        "id": "24_OboyL7tqe"
      },
      "source": [
        "# Introduction to colab\n",
        "\n",
        "Colab is Google's version of Jupyter notebooks, but has the following advantages:\n",
        "- it runs in the cloud, not locally, so you can use it from a cheap laptop, such as a Chromebook. \n",
        "- The notebook is saved in your Google drive, so you can share your notebook with someone else and work on it collaboratively.\n",
        "- it has nearly all of the packages you need for doing ML pre-installed\n",
        "- it gives you free access to GPUs\n",
        "- it has a [file editor](https://colab.research.google.com/drive/1lW1mdgXVqQ5TMjIDi7PCnAYJv5Tmcp5x#scrollTo=DdXlYCe1AlJa&uniqifier=2), so you can separate your code from the output of your code, as with other IDEs, such as [Jupyter lab](https://jupyterlab.readthedocs.io/en/stable/).\n",
        "- it has various other useful features, such as collapsible sections (cf. code folding), and ways to specify parameters to your functions via [various GUI widgets](https://colab.research.google.com/notebooks/forms.ipynb) for use by non-programmers. (You can automatically execute  parameterized notebooks with different parameters using [papermill](https://papermill.readthedocs.io/en/latest/).)\n",
        "\n",
        "More details can be found in the [official introduction](https://colab.research.google.com/notebooks/intro.ipynb). Below we describe a few more tips and tricks, focusing on methods that I have found useful when developing the book. (More advanced tricks can be found in [this blog post](https://medium.com/@robertbracco1/configuring-google-colab-like-a-pro-d61c253f7573#4cf4).)\n"
      ]
    },
    {
      "cell_type": "code",
      "metadata": {
        "colab": {
          "base_uri": "https://localhost:8080/"
        },
        "id": "ZjFsGQJ41k32",
        "outputId": "dc17eb63-8abc-44b0-a829-c069a2fb9f80"
      },
      "source": [
        "IS_COLAB = ('google.colab' in str(get_ipython()))\n",
        "print(IS_COLAB)\n"
      ],
      "execution_count": 1,
      "outputs": [
        {
          "output_type": "stream",
          "text": [
            "True\n"
          ],
          "name": "stdout"
        }
      ]
    },
    {
      "cell_type": "code",
      "metadata": {
        "id": "B4KQOCig_xf1"
      },
      "source": [
        "# Standard Python libraries\n",
        "from __future__ import absolute_import, division, print_function, unicode_literals\n",
        "\n",
        "import os\n",
        "import time\n",
        "import glob\n",
        "\n",
        "from typing import Any, Callable, Dict, Iterator, Mapping, Optional, Sequence, Tuple"
      ],
      "execution_count": 2,
      "outputs": []
    },
    {
      "cell_type": "markdown",
      "metadata": {
        "id": "8lAbDqny-vDq"
      },
      "source": [
        "# How to import and use standard libraries"
      ]
    },
    {
      "cell_type": "markdown",
      "metadata": {
        "id": "XHO2_uKXMbD4"
      },
      "source": [
        "Colab comes with most of the packages we need pre-installed. \n",
        "You can see them all using this command.\n",
        "\n",
        "\n",
        "\n"
      ]
    },
    {
      "cell_type": "code",
      "metadata": {
        "colab": {
          "base_uri": "https://localhost:8080/"
        },
        "id": "0C54AJx40vJq",
        "outputId": "accb047b-6ac3-4e3c-97c5-6f3e1ccf7823"
      },
      "source": [
        "!pip list -v "
      ],
      "execution_count": null,
      "outputs": [
        {
          "output_type": "stream",
          "text": [
            "Package                       Version         Location                               Installer\n",
            "----------------------------- --------------- -------------------------------------- ---------\n",
            "absl-py                       0.10.0          /usr/local/lib/python3.6/dist-packages pip      \n",
            "alabaster                     0.7.12          /usr/local/lib/python3.6/dist-packages pip      \n",
            "albumentations                0.1.12          /usr/local/lib/python3.6/dist-packages pip      \n",
            "altair                        4.1.0           /usr/local/lib/python3.6/dist-packages pip      \n",
            "argon2-cffi                   20.1.0          /usr/local/lib/python3.6/dist-packages pip      \n",
            "asgiref                       3.3.1           /usr/local/lib/python3.6/dist-packages pip      \n",
            "astor                         0.8.1           /usr/local/lib/python3.6/dist-packages pip      \n",
            "astropy                       4.1             /usr/local/lib/python3.6/dist-packages pip      \n",
            "astunparse                    1.6.3           /usr/local/lib/python3.6/dist-packages pip      \n",
            "async-generator               1.10            /usr/local/lib/python3.6/dist-packages pip      \n",
            "atari-py                      0.2.6           /usr/local/lib/python3.6/dist-packages pip      \n",
            "atomicwrites                  1.4.0           /usr/local/lib/python3.6/dist-packages pip      \n",
            "attrs                         20.3.0          /usr/local/lib/python3.6/dist-packages pip      \n",
            "audioread                     2.1.9           /usr/local/lib/python3.6/dist-packages pip      \n",
            "autograd                      1.3             /usr/local/lib/python3.6/dist-packages pip      \n",
            "Babel                         2.9.0           /usr/local/lib/python3.6/dist-packages pip      \n",
            "backcall                      0.2.0           /usr/local/lib/python3.6/dist-packages pip      \n",
            "beautifulsoup4                4.6.3           /usr/local/lib/python3.6/dist-packages pip      \n",
            "bleach                        3.2.1           /usr/local/lib/python3.6/dist-packages pip      \n",
            "blis                          0.4.1           /usr/local/lib/python3.6/dist-packages pip      \n",
            "bokeh                         2.1.1           /usr/local/lib/python3.6/dist-packages pip      \n",
            "Bottleneck                    1.3.2           /usr/local/lib/python3.6/dist-packages pip      \n",
            "branca                        0.4.2           /usr/local/lib/python3.6/dist-packages pip      \n",
            "bs4                           0.0.1           /usr/local/lib/python3.6/dist-packages pip      \n",
            "CacheControl                  0.12.6          /usr/local/lib/python3.6/dist-packages pip      \n",
            "cachetools                    4.2.0           /usr/local/lib/python3.6/dist-packages pip      \n",
            "catalogue                     1.0.0           /usr/local/lib/python3.6/dist-packages pip      \n",
            "certifi                       2020.12.5       /usr/local/lib/python3.6/dist-packages pip      \n",
            "cffi                          1.14.4          /usr/local/lib/python3.6/dist-packages pip      \n",
            "chainer                       7.4.0           /usr/local/lib/python3.6/dist-packages pip      \n",
            "chardet                       3.0.4           /usr/local/lib/python3.6/dist-packages pip      \n",
            "click                         7.1.2           /usr/local/lib/python3.6/dist-packages pip      \n",
            "cloudpickle                   1.3.0           /usr/local/lib/python3.6/dist-packages pip      \n",
            "cmake                         3.12.0          /usr/local/lib/python3.6/dist-packages pip      \n",
            "cmdstanpy                     0.9.5           /usr/local/lib/python3.6/dist-packages pip      \n",
            "colorlover                    0.3.0           /usr/local/lib/python3.6/dist-packages pip      \n",
            "community                     1.0.0b1         /usr/local/lib/python3.6/dist-packages pip      \n",
            "conda                         4.3.16          /usr/local/lib/python3.6/dist-packages pip      \n",
            "contextlib2                   0.5.5           /usr/local/lib/python3.6/dist-packages pip      \n",
            "convertdate                   2.2.0           /usr/local/lib/python3.6/dist-packages pip      \n",
            "coverage                      3.7.1           /usr/local/lib/python3.6/dist-packages pip      \n",
            "coveralls                     0.5             /usr/local/lib/python3.6/dist-packages pip      \n",
            "crcmod                        1.7             /usr/local/lib/python3.6/dist-packages pip      \n",
            "cufflinks                     0.17.3          /usr/local/lib/python3.6/dist-packages pip      \n",
            "cupy-cuda101                  7.4.0           /usr/local/lib/python3.6/dist-packages pip      \n",
            "cvxopt                        1.2.5           /usr/local/lib/python3.6/dist-packages pip      \n",
            "cvxpy                         1.0.31          /usr/local/lib/python3.6/dist-packages pip      \n",
            "cycler                        0.10.0          /usr/local/lib/python3.6/dist-packages pip      \n",
            "cymem                         2.0.5           /usr/local/lib/python3.6/dist-packages pip      \n",
            "Cython                        0.29.21         /usr/local/lib/python3.6/dist-packages pip      \n",
            "daft                          0.0.4           /usr/local/lib/python3.6/dist-packages pip      \n",
            "dask                          2.12.0          /usr/local/lib/python3.6/dist-packages pip      \n",
            "dataclasses                   0.8             /usr/local/lib/python3.6/dist-packages pip      \n",
            "datascience                   0.10.6          /usr/local/lib/python3.6/dist-packages pip      \n",
            "debugpy                       1.0.0           /usr/local/lib/python3.6/dist-packages pip      \n",
            "decorator                     4.4.2           /usr/local/lib/python3.6/dist-packages pip      \n",
            "defusedxml                    0.6.0           /usr/local/lib/python3.6/dist-packages pip      \n",
            "descartes                     1.1.0           /usr/local/lib/python3.6/dist-packages pip      \n",
            "dill                          0.3.3           /usr/local/lib/python3.6/dist-packages pip      \n",
            "distributed                   1.25.3          /usr/local/lib/python3.6/dist-packages pip      \n",
            "Django                        3.1.5           /usr/local/lib/python3.6/dist-packages pip      \n",
            "dlib                          19.18.0         /usr/local/lib/python3.6/dist-packages pip      \n",
            "dm-tree                       0.1.5           /usr/local/lib/python3.6/dist-packages pip      \n",
            "docopt                        0.6.2           /usr/local/lib/python3.6/dist-packages pip      \n",
            "docutils                      0.16            /usr/local/lib/python3.6/dist-packages pip      \n",
            "dopamine-rl                   1.0.5           /usr/local/lib/python3.6/dist-packages pip      \n",
            "earthengine-api               0.1.238         /usr/local/lib/python3.6/dist-packages pip      \n",
            "easydict                      1.9             /usr/local/lib/python3.6/dist-packages pip      \n",
            "ecos                          2.0.7.post1     /usr/local/lib/python3.6/dist-packages pip      \n",
            "editdistance                  0.5.3           /usr/local/lib/python3.6/dist-packages pip      \n",
            "en-core-web-sm                2.2.5           /usr/local/lib/python3.6/dist-packages pip      \n",
            "entrypoints                   0.3             /usr/local/lib/python3.6/dist-packages pip      \n",
            "ephem                         3.7.7.1         /usr/local/lib/python3.6/dist-packages pip      \n",
            "et-xmlfile                    1.0.1           /usr/local/lib/python3.6/dist-packages pip      \n",
            "fa2                           0.3.5           /usr/local/lib/python3.6/dist-packages pip      \n",
            "fancyimpute                   0.4.3           /usr/local/lib/python3.6/dist-packages pip      \n",
            "fastai                        1.0.61          /usr/local/lib/python3.6/dist-packages pip      \n",
            "fastdtw                       0.3.4           /usr/local/lib/python3.6/dist-packages pip      \n",
            "fastprogress                  1.0.0           /usr/local/lib/python3.6/dist-packages pip      \n",
            "fastrlock                     0.5             /usr/local/lib/python3.6/dist-packages pip      \n",
            "fbprophet                     0.7.1           /usr/local/lib/python3.6/dist-packages          \n",
            "feather-format                0.4.1           /usr/local/lib/python3.6/dist-packages pip      \n",
            "filelock                      3.0.12          /usr/local/lib/python3.6/dist-packages pip      \n",
            "firebase-admin                4.4.0           /usr/local/lib/python3.6/dist-packages pip      \n",
            "fix-yahoo-finance             0.0.22          /usr/local/lib/python3.6/dist-packages pip      \n",
            "Flask                         1.1.2           /usr/local/lib/python3.6/dist-packages pip      \n",
            "flatbuffers                   1.12            /usr/local/lib/python3.6/dist-packages pip      \n",
            "folium                        0.8.3           /usr/local/lib/python3.6/dist-packages pip      \n",
            "future                        0.16.0          /usr/local/lib/python3.6/dist-packages pip      \n",
            "gast                          0.3.3           /usr/local/lib/python3.6/dist-packages pip      \n",
            "GDAL                          2.2.2           /usr/lib/python3/dist-packages                  \n",
            "gdown                         3.6.4           /usr/local/lib/python3.6/dist-packages pip      \n",
            "gensim                        3.6.0           /usr/local/lib/python3.6/dist-packages pip      \n",
            "geographiclib                 1.50            /usr/local/lib/python3.6/dist-packages pip      \n",
            "geopy                         1.17.0          /usr/local/lib/python3.6/dist-packages pip      \n",
            "gin-config                    0.4.0           /usr/local/lib/python3.6/dist-packages pip      \n",
            "glob2                         0.7             /usr/local/lib/python3.6/dist-packages pip      \n",
            "google                        2.0.3           /usr/local/lib/python3.6/dist-packages pip      \n",
            "google-api-core               1.16.0          /usr/local/lib/python3.6/dist-packages pip      \n",
            "google-api-python-client      1.7.12          /usr/local/lib/python3.6/dist-packages pip      \n",
            "google-auth                   1.17.2          /usr/local/lib/python3.6/dist-packages pip      \n",
            "google-auth-httplib2          0.0.4           /usr/local/lib/python3.6/dist-packages pip      \n",
            "google-auth-oauthlib          0.4.2           /usr/local/lib/python3.6/dist-packages pip      \n",
            "google-cloud-bigquery         1.21.0          /usr/local/lib/python3.6/dist-packages pip      \n",
            "google-cloud-bigquery-storage 1.1.0           /usr/local/lib/python3.6/dist-packages pip      \n",
            "google-cloud-core             1.0.3           /usr/local/lib/python3.6/dist-packages pip      \n",
            "google-cloud-datastore        1.8.0           /usr/local/lib/python3.6/dist-packages pip      \n",
            "google-cloud-firestore        1.7.0           /usr/local/lib/python3.6/dist-packages pip      \n",
            "google-cloud-language         1.2.0           /usr/local/lib/python3.6/dist-packages pip      \n",
            "google-cloud-storage          1.18.1          /usr/local/lib/python3.6/dist-packages pip      \n",
            "google-cloud-translate        1.5.0           /usr/local/lib/python3.6/dist-packages pip      \n",
            "google-colab                  1.0.0           /usr/local/lib/python3.6/dist-packages pip      \n",
            "google-pasta                  0.2.0           /usr/local/lib/python3.6/dist-packages pip      \n",
            "google-resumable-media        0.4.1           /usr/local/lib/python3.6/dist-packages pip      \n",
            "googleapis-common-protos      1.52.0          /usr/local/lib/python3.6/dist-packages pip      \n",
            "googledrivedownloader         0.4             /usr/local/lib/python3.6/dist-packages pip      \n",
            "graphviz                      0.10.1          /usr/local/lib/python3.6/dist-packages pip      \n",
            "grpcio                        1.32.0          /usr/local/lib/python3.6/dist-packages pip      \n",
            "gspread                       3.0.1           /usr/local/lib/python3.6/dist-packages pip      \n",
            "gspread-dataframe             3.0.8           /usr/local/lib/python3.6/dist-packages pip      \n",
            "gym                           0.17.3          /usr/local/lib/python3.6/dist-packages pip      \n",
            "h5py                          2.10.0          /usr/local/lib/python3.6/dist-packages pip      \n",
            "HeapDict                      1.0.1           /usr/local/lib/python3.6/dist-packages pip      \n",
            "holidays                      0.10.4          /usr/local/lib/python3.6/dist-packages pip      \n",
            "holoviews                     1.13.5          /usr/local/lib/python3.6/dist-packages pip      \n",
            "html5lib                      1.0.1           /usr/local/lib/python3.6/dist-packages pip      \n",
            "httpimport                    0.5.18          /usr/local/lib/python3.6/dist-packages pip      \n",
            "httplib2                      0.17.4          /usr/local/lib/python3.6/dist-packages pip      \n",
            "httplib2shim                  0.0.3           /usr/local/lib/python3.6/dist-packages pip      \n",
            "humanize                      0.5.1           /usr/local/lib/python3.6/dist-packages pip      \n",
            "hyperopt                      0.1.2           /usr/local/lib/python3.6/dist-packages pip      \n",
            "ideep4py                      2.0.0.post3     /usr/local/lib/python3.6/dist-packages pip      \n",
            "idna                          2.10            /usr/local/lib/python3.6/dist-packages pip      \n",
            "image                         1.5.33          /usr/local/lib/python3.6/dist-packages pip      \n",
            "imageio                       2.4.1           /usr/local/lib/python3.6/dist-packages pip      \n",
            "imagesize                     1.2.0           /usr/local/lib/python3.6/dist-packages pip      \n",
            "imbalanced-learn              0.4.3           /usr/local/lib/python3.6/dist-packages pip      \n",
            "imblearn                      0.0             /usr/local/lib/python3.6/dist-packages pip      \n",
            "imgaug                        0.2.9           /usr/local/lib/python3.6/dist-packages pip      \n",
            "importlib-metadata            3.3.0           /usr/local/lib/python3.6/dist-packages pip      \n",
            "importlib-resources           4.1.1           /usr/local/lib/python3.6/dist-packages pip      \n",
            "imutils                       0.5.3           /usr/local/lib/python3.6/dist-packages pip      \n",
            "inflect                       2.1.0           /usr/local/lib/python3.6/dist-packages pip      \n",
            "iniconfig                     1.1.1           /usr/local/lib/python3.6/dist-packages pip      \n",
            "intel-openmp                  2021.1.2        /usr/local/lib/python3.6/dist-packages pip      \n",
            "intervaltree                  2.1.0           /usr/local/lib/python3.6/dist-packages pip      \n",
            "ipykernel                     4.10.1          /usr/local/lib/python3.6/dist-packages pip      \n",
            "ipython                       5.5.0           /usr/local/lib/python3.6/dist-packages pip      \n",
            "ipython-genutils              0.2.0           /usr/local/lib/python3.6/dist-packages pip      \n",
            "ipython-sql                   0.3.9           /usr/local/lib/python3.6/dist-packages pip      \n",
            "ipywidgets                    7.6.3           /usr/local/lib/python3.6/dist-packages pip      \n",
            "itsdangerous                  1.1.0           /usr/local/lib/python3.6/dist-packages pip      \n",
            "jax                           0.2.7           /usr/local/lib/python3.6/dist-packages pip      \n",
            "jaxlib                        0.1.57+cuda101  /usr/local/lib/python3.6/dist-packages pip      \n",
            "jdcal                         1.4.1           /usr/local/lib/python3.6/dist-packages pip      \n",
            "jedi                          0.18.0          /usr/local/lib/python3.6/dist-packages pip      \n",
            "jieba                         0.42.1          /usr/local/lib/python3.6/dist-packages pip      \n",
            "Jinja2                        2.11.2          /usr/local/lib/python3.6/dist-packages pip      \n",
            "joblib                        1.0.0           /usr/local/lib/python3.6/dist-packages pip      \n",
            "jpeg4py                       0.1.4           /usr/local/lib/python3.6/dist-packages pip      \n",
            "jsonschema                    2.6.0           /usr/local/lib/python3.6/dist-packages pip      \n",
            "jupyter                       1.0.0           /usr/local/lib/python3.6/dist-packages pip      \n",
            "jupyter-client                5.3.5           /usr/local/lib/python3.6/dist-packages pip      \n",
            "jupyter-console               5.2.0           /usr/local/lib/python3.6/dist-packages pip      \n",
            "jupyter-core                  4.7.0           /usr/local/lib/python3.6/dist-packages pip      \n",
            "jupyterlab-pygments           0.1.2           /usr/local/lib/python3.6/dist-packages pip      \n",
            "jupyterlab-widgets            1.0.0           /usr/local/lib/python3.6/dist-packages pip      \n",
            "kaggle                        1.5.10          /usr/local/lib/python3.6/dist-packages pip      \n",
            "kapre                         0.1.3.1         /usr/local/lib/python3.6/dist-packages pip      \n",
            "Keras                         2.4.3           /usr/local/lib/python3.6/dist-packages pip      \n",
            "Keras-Preprocessing           1.1.2           /usr/local/lib/python3.6/dist-packages pip      \n",
            "keras-vis                     0.4.1           /usr/local/lib/python3.6/dist-packages pip      \n",
            "kiwisolver                    1.3.1           /usr/local/lib/python3.6/dist-packages pip      \n",
            "knnimpute                     0.1.0           /usr/local/lib/python3.6/dist-packages pip      \n",
            "korean-lunar-calendar         0.2.1           /usr/local/lib/python3.6/dist-packages pip      \n",
            "librosa                       0.6.3           /usr/local/lib/python3.6/dist-packages pip      \n",
            "lightgbm                      2.2.3           /usr/local/lib/python3.6/dist-packages pip      \n",
            "llvmlite                      0.31.0          /usr/local/lib/python3.6/dist-packages pip      \n",
            "lmdb                          0.99            /usr/local/lib/python3.6/dist-packages pip      \n",
            "lucid                         0.3.8           /usr/local/lib/python3.6/dist-packages pip      \n",
            "LunarCalendar                 0.0.9           /usr/local/lib/python3.6/dist-packages pip      \n",
            "lxml                          4.2.6           /usr/local/lib/python3.6/dist-packages pip      \n",
            "Markdown                      3.3.3           /usr/local/lib/python3.6/dist-packages pip      \n",
            "MarkupSafe                    1.1.1           /usr/local/lib/python3.6/dist-packages pip      \n",
            "matplotlib                    3.2.2           /usr/local/lib/python3.6/dist-packages pip      \n",
            "matplotlib-venn               0.11.6          /usr/local/lib/python3.6/dist-packages pip      \n",
            "missingno                     0.4.2           /usr/local/lib/python3.6/dist-packages pip      \n",
            "mistune                       0.8.4           /usr/local/lib/python3.6/dist-packages pip      \n",
            "mizani                        0.6.0           /usr/local/lib/python3.6/dist-packages pip      \n",
            "mkl                           2019.0          /usr/local/lib/python3.6/dist-packages pip      \n",
            "mlxtend                       0.14.0          /usr/local/lib/python3.6/dist-packages pip      \n",
            "more-itertools                8.6.0           /usr/local/lib/python3.6/dist-packages pip      \n",
            "moviepy                       0.2.3.5         /usr/local/lib/python3.6/dist-packages pip      \n",
            "mpmath                        1.1.0           /usr/local/lib/python3.6/dist-packages pip      \n",
            "msgpack                       1.0.2           /usr/local/lib/python3.6/dist-packages pip      \n",
            "multiprocess                  0.70.11.1       /usr/local/lib/python3.6/dist-packages pip      \n",
            "multitasking                  0.0.9           /usr/local/lib/python3.6/dist-packages pip      \n",
            "murmurhash                    1.0.5           /usr/local/lib/python3.6/dist-packages pip      \n",
            "music21                       5.5.0           /usr/local/lib/python3.6/dist-packages pip      \n",
            "natsort                       5.5.0           /usr/local/lib/python3.6/dist-packages pip      \n",
            "nbclient                      0.5.1           /usr/local/lib/python3.6/dist-packages pip      \n",
            "nbconvert                     5.6.1           /usr/local/lib/python3.6/dist-packages pip      \n",
            "nbformat                      5.0.8           /usr/local/lib/python3.6/dist-packages pip      \n",
            "nest-asyncio                  1.4.3           /usr/local/lib/python3.6/dist-packages pip      \n",
            "networkx                      2.5             /usr/local/lib/python3.6/dist-packages pip      \n",
            "nibabel                       3.0.2           /usr/local/lib/python3.6/dist-packages pip      \n",
            "nltk                          3.2.5           /usr/local/lib/python3.6/dist-packages pip      \n",
            "notebook                      5.3.1           /usr/local/lib/python3.6/dist-packages pip      \n",
            "np-utils                      0.5.12.1        /usr/local/lib/python3.6/dist-packages pip      \n",
            "numba                         0.48.0          /usr/local/lib/python3.6/dist-packages pip      \n",
            "numexpr                       2.7.2           /usr/local/lib/python3.6/dist-packages pip      \n",
            "numpy                         1.19.5          /usr/local/lib/python3.6/dist-packages pip      \n",
            "nvidia-ml-py3                 7.352.0         /usr/local/lib/python3.6/dist-packages pip      \n",
            "oauth2client                  4.1.3           /usr/local/lib/python3.6/dist-packages pip      \n",
            "oauthlib                      3.1.0           /usr/local/lib/python3.6/dist-packages pip      \n",
            "okgrade                       0.4.3           /usr/local/lib/python3.6/dist-packages pip      \n",
            "opencv-contrib-python         4.1.2.30        /usr/local/lib/python3.6/dist-packages pip      \n",
            "opencv-python                 4.1.2.30        /usr/local/lib/python3.6/dist-packages pip      \n",
            "openpyxl                      2.5.9           /usr/local/lib/python3.6/dist-packages pip      \n",
            "opt-einsum                    3.3.0           /usr/local/lib/python3.6/dist-packages pip      \n",
            "osqp                          0.6.2           /usr/local/lib/python3.6/dist-packages pip      \n",
            "packaging                     20.8            /usr/local/lib/python3.6/dist-packages pip      \n",
            "palettable                    3.3.0           /usr/local/lib/python3.6/dist-packages pip      \n",
            "pandas                        1.1.5           /usr/local/lib/python3.6/dist-packages pip      \n",
            "pandas-datareader             0.9.0           /usr/local/lib/python3.6/dist-packages pip      \n",
            "pandas-gbq                    0.13.3          /usr/local/lib/python3.6/dist-packages pip      \n",
            "pandas-profiling              1.4.1           /usr/local/lib/python3.6/dist-packages pip      \n",
            "pandocfilters                 1.4.3           /usr/local/lib/python3.6/dist-packages pip      \n",
            "panel                         0.9.7           /usr/local/lib/python3.6/dist-packages pip      \n",
            "param                         1.10.1          /usr/local/lib/python3.6/dist-packages pip      \n",
            "parso                         0.8.1           /usr/local/lib/python3.6/dist-packages pip      \n",
            "pathlib                       1.0.1           /usr/local/lib/python3.6/dist-packages pip      \n",
            "patsy                         0.5.1           /usr/local/lib/python3.6/dist-packages pip      \n",
            "pexpect                       4.8.0           /usr/local/lib/python3.6/dist-packages pip      \n",
            "pickleshare                   0.7.5           /usr/local/lib/python3.6/dist-packages pip      \n",
            "Pillow                        7.0.0           /usr/local/lib/python3.6/dist-packages pip      \n",
            "pip                           19.3.1          /usr/local/lib/python3.6/dist-packages pip      \n",
            "pip-tools                     4.5.1           /usr/local/lib/python3.6/dist-packages pip      \n",
            "plac                          1.1.3           /usr/local/lib/python3.6/dist-packages pip      \n",
            "plotly                        4.4.1           /usr/local/lib/python3.6/dist-packages pip      \n",
            "plotnine                      0.6.0           /usr/local/lib/python3.6/dist-packages pip      \n",
            "pluggy                        0.7.1           /usr/local/lib/python3.6/dist-packages pip      \n",
            "portpicker                    1.3.1           /usr/local/lib/python3.6/dist-packages pip      \n",
            "prefetch-generator            1.0.1           /usr/local/lib/python3.6/dist-packages pip      \n",
            "preshed                       3.0.5           /usr/local/lib/python3.6/dist-packages pip      \n",
            "prettytable                   2.0.0           /usr/local/lib/python3.6/dist-packages pip      \n",
            "progressbar2                  3.38.0          /usr/local/lib/python3.6/dist-packages pip      \n",
            "prometheus-client             0.9.0           /usr/local/lib/python3.6/dist-packages pip      \n",
            "promise                       2.3             /usr/local/lib/python3.6/dist-packages pip      \n",
            "prompt-toolkit                1.0.18          /usr/local/lib/python3.6/dist-packages pip      \n",
            "protobuf                      3.12.4          /usr/local/lib/python3.6/dist-packages pip      \n",
            "psutil                        5.4.8           /usr/local/lib/python3.6/dist-packages pip      \n",
            "psycopg2                      2.7.6.1         /usr/local/lib/python3.6/dist-packages pip      \n",
            "ptyprocess                    0.7.0           /usr/local/lib/python3.6/dist-packages pip      \n",
            "py                            1.10.0          /usr/local/lib/python3.6/dist-packages pip      \n",
            "pyarrow                       0.14.1          /usr/local/lib/python3.6/dist-packages pip      \n",
            "pyasn1                        0.4.8           /usr/local/lib/python3.6/dist-packages pip      \n",
            "pyasn1-modules                0.2.8           /usr/local/lib/python3.6/dist-packages pip      \n",
            "pycocotools                   2.0.2           /usr/local/lib/python3.6/dist-packages pip      \n",
            "pycosat                       0.6.3           /usr/local/lib/python3.6/dist-packages pip      \n",
            "pycparser                     2.20            /usr/local/lib/python3.6/dist-packages pip      \n",
            "pyct                          0.4.8           /usr/local/lib/python3.6/dist-packages pip      \n",
            "pydata-google-auth            1.1.0           /usr/local/lib/python3.6/dist-packages pip      \n",
            "pydot                         1.3.0           /usr/local/lib/python3.6/dist-packages pip      \n",
            "pydot-ng                      2.0.0           /usr/local/lib/python3.6/dist-packages pip      \n",
            "pydotplus                     2.0.2           /usr/local/lib/python3.6/dist-packages pip      \n",
            "PyDrive                       1.3.1           /usr/local/lib/python3.6/dist-packages pip      \n",
            "pyemd                         0.5.1           /usr/local/lib/python3.6/dist-packages pip      \n",
            "pyglet                        1.5.0           /usr/local/lib/python3.6/dist-packages pip      \n",
            "Pygments                      2.6.1           /usr/local/lib/python3.6/dist-packages pip      \n",
            "pygobject                     3.26.1          /usr/lib/python3/dist-packages                  \n",
            "pymc3                         3.7             /usr/local/lib/python3.6/dist-packages pip      \n",
            "PyMeeus                       0.3.7           /usr/local/lib/python3.6/dist-packages pip      \n",
            "pymongo                       3.11.2          /usr/local/lib/python3.6/dist-packages pip      \n",
            "pymystem3                     0.2.0           /usr/local/lib/python3.6/dist-packages pip      \n",
            "PyOpenGL                      3.1.5           /usr/local/lib/python3.6/dist-packages pip      \n",
            "pyparsing                     2.4.7           /usr/local/lib/python3.6/dist-packages pip      \n",
            "pyrsistent                    0.17.3          /usr/local/lib/python3.6/dist-packages pip      \n",
            "pysndfile                     1.3.8           /usr/local/lib/python3.6/dist-packages pip      \n",
            "PySocks                       1.7.1           /usr/local/lib/python3.6/dist-packages pip      \n",
            "pystan                        2.19.1.1        /usr/local/lib/python3.6/dist-packages pip      \n",
            "pytest                        3.6.4           /usr/local/lib/python3.6/dist-packages pip      \n",
            "python-apt                    1.6.5+ubuntu0.5 /usr/lib/python3/dist-packages                  \n",
            "python-chess                  0.23.11         /usr/local/lib/python3.6/dist-packages pip      \n",
            "python-dateutil               2.8.1           /usr/local/lib/python3.6/dist-packages pip      \n",
            "python-louvain                0.15            /usr/local/lib/python3.6/dist-packages pip      \n",
            "python-slugify                4.0.1           /usr/local/lib/python3.6/dist-packages pip      \n",
            "python-utils                  2.4.0           /usr/local/lib/python3.6/dist-packages pip      \n",
            "pytz                          2018.9          /usr/local/lib/python3.6/dist-packages pip      \n",
            "pyviz-comms                   2.0.1           /usr/local/lib/python3.6/dist-packages pip      \n",
            "PyWavelets                    1.1.1           /usr/local/lib/python3.6/dist-packages pip      \n",
            "PyYAML                        3.13            /usr/local/lib/python3.6/dist-packages pip      \n",
            "pyzmq                         20.0.0          /usr/local/lib/python3.6/dist-packages pip      \n",
            "qdldl                         0.1.5.post0     /usr/local/lib/python3.6/dist-packages pip      \n",
            "qtconsole                     5.0.1           /usr/local/lib/python3.6/dist-packages pip      \n",
            "QtPy                          1.9.0           /usr/local/lib/python3.6/dist-packages pip      \n",
            "regex                         2019.12.20      /usr/local/lib/python3.6/dist-packages pip      \n",
            "requests                      2.23.0          /usr/local/lib/python3.6/dist-packages pip      \n",
            "requests-oauthlib             1.3.0           /usr/local/lib/python3.6/dist-packages pip      \n",
            "resampy                       0.2.2           /usr/local/lib/python3.6/dist-packages pip      \n",
            "retrying                      1.3.3           /usr/local/lib/python3.6/dist-packages pip      \n",
            "rpy2                          3.2.7           /usr/local/lib/python3.6/dist-packages pip      \n",
            "rsa                           4.6             /usr/local/lib/python3.6/dist-packages pip      \n",
            "ruamel.yaml                   0.16.12         /usr/local/lib/python3.6/dist-packages pip      \n",
            "ruamel.yaml.clib              0.2.2           /usr/local/lib/python3.6/dist-packages pip      \n",
            "scikit-image                  0.16.2          /usr/local/lib/python3.6/dist-packages pip      \n",
            "scikit-learn                  0.22.2.post1    /usr/local/lib/python3.6/dist-packages pip      \n",
            "scipy                         1.4.1           /usr/local/lib/python3.6/dist-packages pip      \n",
            "screen-resolution-extra       0.0.0           /usr/lib/python3/dist-packages                  \n",
            "scs                           2.1.2           /usr/local/lib/python3.6/dist-packages pip      \n",
            "seaborn                       0.11.1          /usr/local/lib/python3.6/dist-packages pip      \n",
            "Send2Trash                    1.5.0           /usr/local/lib/python3.6/dist-packages pip      \n",
            "setuptools                    51.1.2          /usr/local/lib/python3.6/dist-packages pip      \n",
            "setuptools-git                1.2             /usr/local/lib/python3.6/dist-packages pip      \n",
            "Shapely                       1.7.1           /usr/local/lib/python3.6/dist-packages pip      \n",
            "simplegeneric                 0.8.1           /usr/local/lib/python3.6/dist-packages pip      \n",
            "six                           1.15.0          /usr/local/lib/python3.6/dist-packages pip      \n",
            "sklearn                       0.0             /usr/local/lib/python3.6/dist-packages pip      \n",
            "sklearn-pandas                1.8.0           /usr/local/lib/python3.6/dist-packages pip      \n",
            "smart-open                    4.1.0           /usr/local/lib/python3.6/dist-packages pip      \n",
            "snowballstemmer               2.0.0           /usr/local/lib/python3.6/dist-packages pip      \n",
            "sortedcontainers              2.3.0           /usr/local/lib/python3.6/dist-packages pip      \n",
            "spacy                         2.2.4           /usr/local/lib/python3.6/dist-packages pip      \n",
            "Sphinx                        1.8.5           /usr/local/lib/python3.6/dist-packages pip      \n",
            "sphinxcontrib-serializinghtml 1.1.4           /usr/local/lib/python3.6/dist-packages pip      \n",
            "sphinxcontrib-websupport      1.2.4           /usr/local/lib/python3.6/dist-packages pip      \n",
            "SQLAlchemy                    1.3.22          /usr/local/lib/python3.6/dist-packages pip      \n",
            "sqlparse                      0.4.1           /usr/local/lib/python3.6/dist-packages pip      \n",
            "srsly                         1.0.5           /usr/local/lib/python3.6/dist-packages pip      \n",
            "statsmodels                   0.10.2          /usr/local/lib/python3.6/dist-packages pip      \n",
            "sympy                         1.1.1           /usr/local/lib/python3.6/dist-packages pip      \n",
            "tables                        3.4.4           /usr/local/lib/python3.6/dist-packages pip      \n",
            "tabulate                      0.8.7           /usr/local/lib/python3.6/dist-packages pip      \n",
            "tblib                         1.7.0           /usr/local/lib/python3.6/dist-packages pip      \n",
            "tensorboard                   2.4.0           /usr/local/lib/python3.6/dist-packages pip      \n",
            "tensorboard-plugin-wit        1.7.0           /usr/local/lib/python3.6/dist-packages pip      \n",
            "tensorboardcolab              0.0.22          /usr/local/lib/python3.6/dist-packages pip      \n",
            "tensorflow                    2.4.0           /usr/local/lib/python3.6/dist-packages pip      \n",
            "tensorflow-addons             0.8.3           /usr/local/lib/python3.6/dist-packages pip      \n",
            "tensorflow-datasets           4.0.1           /usr/local/lib/python3.6/dist-packages pip      \n",
            "tensorflow-estimator          2.4.0           /usr/local/lib/python3.6/dist-packages pip      \n",
            "tensorflow-gcs-config         2.4.0           /usr/local/lib/python3.6/dist-packages pip      \n",
            "tensorflow-hub                0.11.0          /usr/local/lib/python3.6/dist-packages pip      \n",
            "tensorflow-metadata           0.26.0          /usr/local/lib/python3.6/dist-packages pip      \n",
            "tensorflow-privacy            0.2.2           /usr/local/lib/python3.6/dist-packages pip      \n",
            "tensorflow-probability        0.12.1          /usr/local/lib/python3.6/dist-packages pip      \n",
            "termcolor                     1.1.0           /usr/local/lib/python3.6/dist-packages pip      \n",
            "terminado                     0.9.2           /usr/local/lib/python3.6/dist-packages pip      \n",
            "testpath                      0.4.4           /usr/local/lib/python3.6/dist-packages pip      \n",
            "text-unidecode                1.3             /usr/local/lib/python3.6/dist-packages pip      \n",
            "textblob                      0.15.3          /usr/local/lib/python3.6/dist-packages pip      \n",
            "textgenrnn                    1.4.1           /usr/local/lib/python3.6/dist-packages pip      \n",
            "Theano                        1.0.5           /usr/local/lib/python3.6/dist-packages pip      \n",
            "thinc                         7.4.0           /usr/local/lib/python3.6/dist-packages pip      \n",
            "tifffile                      2020.9.3        /usr/local/lib/python3.6/dist-packages pip      \n",
            "toml                          0.10.2          /usr/local/lib/python3.6/dist-packages pip      \n",
            "toolz                         0.11.1          /usr/local/lib/python3.6/dist-packages pip      \n",
            "torch                         1.7.0+cu101     /usr/local/lib/python3.6/dist-packages pip      \n",
            "torchsummary                  1.5.1           /usr/local/lib/python3.6/dist-packages pip      \n",
            "torchtext                     0.3.1           /usr/local/lib/python3.6/dist-packages pip      \n",
            "torchvision                   0.8.1+cu101     /usr/local/lib/python3.6/dist-packages pip      \n",
            "tornado                       5.1.1           /usr/local/lib/python3.6/dist-packages pip      \n",
            "tqdm                          4.41.1          /usr/local/lib/python3.6/dist-packages pip      \n",
            "traitlets                     4.3.3           /usr/local/lib/python3.6/dist-packages pip      \n",
            "tweepy                        3.6.0           /usr/local/lib/python3.6/dist-packages pip      \n",
            "typeguard                     2.7.1           /usr/local/lib/python3.6/dist-packages pip      \n",
            "typing-extensions             3.7.4.3         /usr/local/lib/python3.6/dist-packages pip      \n",
            "tzlocal                       1.5.1           /usr/local/lib/python3.6/dist-packages pip      \n",
            "umap-learn                    0.4.6           /usr/local/lib/python3.6/dist-packages pip      \n",
            "uritemplate                   3.0.1           /usr/local/lib/python3.6/dist-packages pip      \n",
            "urllib3                       1.24.3          /usr/local/lib/python3.6/dist-packages pip      \n",
            "vega-datasets                 0.9.0           /usr/local/lib/python3.6/dist-packages pip      \n",
            "wasabi                        0.8.0           /usr/local/lib/python3.6/dist-packages pip      \n",
            "wcwidth                       0.2.5           /usr/local/lib/python3.6/dist-packages pip      \n",
            "webencodings                  0.5.1           /usr/local/lib/python3.6/dist-packages pip      \n",
            "Werkzeug                      1.0.1           /usr/local/lib/python3.6/dist-packages pip      \n",
            "wheel                         0.36.2          /usr/local/lib/python3.6/dist-packages pip      \n",
            "widgetsnbextension            3.5.1           /usr/local/lib/python3.6/dist-packages pip      \n",
            "wordcloud                     1.5.0           /usr/local/lib/python3.6/dist-packages pip      \n",
            "wrapt                         1.12.1          /usr/local/lib/python3.6/dist-packages pip      \n",
            "xarray                        0.15.1          /usr/local/lib/python3.6/dist-packages pip      \n",
            "xgboost                       0.90            /usr/local/lib/python3.6/dist-packages pip      \n",
            "xkit                          0.0.0           /usr/lib/python3/dist-packages                  \n",
            "xlrd                          1.1.0           /usr/local/lib/python3.6/dist-packages pip      \n",
            "xlwt                          1.3.0           /usr/local/lib/python3.6/dist-packages pip      \n",
            "yellowbrick                   0.9.1           /usr/local/lib/python3.6/dist-packages pip      \n",
            "zict                          2.0.0           /usr/local/lib/python3.6/dist-packages pip      \n",
            "zipp                          3.4.0           /usr/local/lib/python3.6/dist-packages pip      \n"
          ],
          "name": "stdout"
        }
      ]
    },
    {
      "cell_type": "markdown",
      "metadata": {
        "id": "U9PghW_NT1HY"
      },
      "source": [
        "To install a new package called 'foo', use the following (see [this page](https://colab.research.google.com/notebooks/snippets/importing_libraries.ipynb) for details):\n",
        "\n",
        "```\n",
        "!pip install foo\n",
        "```\n",
        "\n"
      ]
    },
    {
      "cell_type": "markdown",
      "metadata": {
        "id": "fOBdg02-_Jws"
      },
      "source": [
        "## Numpy"
      ]
    },
    {
      "cell_type": "code",
      "metadata": {
        "id": "AzP2LAtN_L1m",
        "colab": {
          "base_uri": "https://localhost:8080/"
        },
        "outputId": "775ab507-3a70-4816-d76e-e2d463aa571d"
      },
      "source": [
        "import numpy as np\n",
        "np.set_printoptions(precision=3)\n",
        "\n",
        "A = np.random.randn(2,3)\n",
        "print(A)"
      ],
      "execution_count": null,
      "outputs": [
        {
          "output_type": "stream",
          "text": [
            "[[0.414 1.496 0.64 ]\n",
            " [0.953 1.708 0.251]]\n"
          ],
          "name": "stdout"
        }
      ]
    },
    {
      "cell_type": "markdown",
      "metadata": {
        "id": "76jPgsuk_1IP"
      },
      "source": [
        "## Pandas"
      ]
    },
    {
      "cell_type": "code",
      "metadata": {
        "id": "GimloDqo_4No",
        "colab": {
          "base_uri": "https://localhost:8080/",
          "height": 197
        },
        "outputId": "1ddca722-d652-4b44-c4e0-982c722dabeb"
      },
      "source": [
        "import pandas as pd\n",
        "pd.set_option('precision', 2) # 2 decimal places\n",
        "pd.set_option('display.max_rows', 20)\n",
        "pd.set_option('display.max_columns', 30)\n",
        "pd.set_option('display.width', 100) # wide windows\n",
        "\n",
        "url = 'https://archive.ics.uci.edu/ml/machine-learning-databases/auto-mpg/auto-mpg.data'\n",
        "column_names = ['MPG','Cylinders','Displacement','Horsepower','Weight',\n",
        "                'Acceleration', 'Year', 'Origin', 'Name']\n",
        "df = pd.read_csv(url, names=column_names, sep='\\s+', na_values=\"?\")\n",
        "\n",
        "df.head()"
      ],
      "execution_count": null,
      "outputs": [
        {
          "output_type": "execute_result",
          "data": {
            "text/html": [
              "<div>\n",
              "<style scoped>\n",
              "    .dataframe tbody tr th:only-of-type {\n",
              "        vertical-align: middle;\n",
              "    }\n",
              "\n",
              "    .dataframe tbody tr th {\n",
              "        vertical-align: top;\n",
              "    }\n",
              "\n",
              "    .dataframe thead th {\n",
              "        text-align: right;\n",
              "    }\n",
              "</style>\n",
              "<table border=\"1\" class=\"dataframe\">\n",
              "  <thead>\n",
              "    <tr style=\"text-align: right;\">\n",
              "      <th></th>\n",
              "      <th>MPG</th>\n",
              "      <th>Cylinders</th>\n",
              "      <th>Displacement</th>\n",
              "      <th>Horsepower</th>\n",
              "      <th>Weight</th>\n",
              "      <th>Acceleration</th>\n",
              "      <th>Year</th>\n",
              "      <th>Origin</th>\n",
              "      <th>Name</th>\n",
              "    </tr>\n",
              "  </thead>\n",
              "  <tbody>\n",
              "    <tr>\n",
              "      <th>0</th>\n",
              "      <td>18.0</td>\n",
              "      <td>8</td>\n",
              "      <td>307.0</td>\n",
              "      <td>130.0</td>\n",
              "      <td>3504.0</td>\n",
              "      <td>12.0</td>\n",
              "      <td>70</td>\n",
              "      <td>1</td>\n",
              "      <td>chevrolet chevelle malibu</td>\n",
              "    </tr>\n",
              "    <tr>\n",
              "      <th>1</th>\n",
              "      <td>15.0</td>\n",
              "      <td>8</td>\n",
              "      <td>350.0</td>\n",
              "      <td>165.0</td>\n",
              "      <td>3693.0</td>\n",
              "      <td>11.5</td>\n",
              "      <td>70</td>\n",
              "      <td>1</td>\n",
              "      <td>buick skylark 320</td>\n",
              "    </tr>\n",
              "    <tr>\n",
              "      <th>2</th>\n",
              "      <td>18.0</td>\n",
              "      <td>8</td>\n",
              "      <td>318.0</td>\n",
              "      <td>150.0</td>\n",
              "      <td>3436.0</td>\n",
              "      <td>11.0</td>\n",
              "      <td>70</td>\n",
              "      <td>1</td>\n",
              "      <td>plymouth satellite</td>\n",
              "    </tr>\n",
              "    <tr>\n",
              "      <th>3</th>\n",
              "      <td>16.0</td>\n",
              "      <td>8</td>\n",
              "      <td>304.0</td>\n",
              "      <td>150.0</td>\n",
              "      <td>3433.0</td>\n",
              "      <td>12.0</td>\n",
              "      <td>70</td>\n",
              "      <td>1</td>\n",
              "      <td>amc rebel sst</td>\n",
              "    </tr>\n",
              "    <tr>\n",
              "      <th>4</th>\n",
              "      <td>17.0</td>\n",
              "      <td>8</td>\n",
              "      <td>302.0</td>\n",
              "      <td>140.0</td>\n",
              "      <td>3449.0</td>\n",
              "      <td>10.5</td>\n",
              "      <td>70</td>\n",
              "      <td>1</td>\n",
              "      <td>ford torino</td>\n",
              "    </tr>\n",
              "  </tbody>\n",
              "</table>\n",
              "</div>"
            ],
            "text/plain": [
              "    MPG  Cylinders  Displacement  Horsepower  Weight  Acceleration  Year  Origin  \\\n",
              "0  18.0          8         307.0       130.0  3504.0          12.0    70       1   \n",
              "1  15.0          8         350.0       165.0  3693.0          11.5    70       1   \n",
              "2  18.0          8         318.0       150.0  3436.0          11.0    70       1   \n",
              "3  16.0          8         304.0       150.0  3433.0          12.0    70       1   \n",
              "4  17.0          8         302.0       140.0  3449.0          10.5    70       1   \n",
              "\n",
              "                        Name  \n",
              "0  chevrolet chevelle malibu  \n",
              "1          buick skylark 320  \n",
              "2         plymouth satellite  \n",
              "3              amc rebel sst  \n",
              "4                ford torino  "
            ]
          },
          "metadata": {
            "tags": []
          },
          "execution_count": 1
        }
      ]
    },
    {
      "cell_type": "markdown",
      "metadata": {
        "id": "hUCC261x_7zZ"
      },
      "source": [
        "## Sklearn"
      ]
    },
    {
      "cell_type": "code",
      "metadata": {
        "id": "RCSwx_lE_7Jn",
        "colab": {
          "base_uri": "https://localhost:8080/",
          "height": 285
        },
        "outputId": "4036c988-bb39-4ad4-d9af-f45bc6330231"
      },
      "source": [
        "import sklearn\n",
        "\n",
        "from sklearn.datasets import load_iris\n",
        "iris = load_iris()\n",
        "# Extract numpy arrays\n",
        "X = iris.data \n",
        "y = iris.target\n",
        "\n",
        "import matplotlib.pyplot as plt\n",
        "plt.scatter(X[:,0], X[:,1])"
      ],
      "execution_count": null,
      "outputs": [
        {
          "output_type": "execute_result",
          "data": {
            "text/plain": [
              "<matplotlib.collections.PathCollection at 0x7f2d91bb3c18>"
            ]
          },
          "metadata": {
            "tags": []
          },
          "execution_count": 5
        },
        {
          "output_type": "display_data",
          "data": {
            "image/png": "[encoded data removed]",
            "text/plain": [
              "<Figure size 432x288 with 1 Axes>"
            ]
          },
          "metadata": {
            "tags": [],
            "needs_background": "light"
          }
        }
      ]
    },
    {
      "cell_type": "markdown",
      "metadata": {
        "id": "PJXF4csdBhsN"
      },
      "source": [
        "## JAX"
      ]
    },
    {
      "cell_type": "code",
      "metadata": {
        "id": "8JiSxcJJ79Bv",
        "colab": {
          "base_uri": "https://localhost:8080/"
        },
        "outputId": "97f3ebb7-93b8-4255-bccb-781d01ccb4cc"
      },
      "source": [
        "# JAX (https://github.com/google/jax)\n",
        "\n",
        "import jax\n",
        "import jax.numpy as jnp\n",
        "A = jnp.zeros((3,3))\n",
        "\n",
        "# Check if JAX is using GPU\n",
        "print(\"jax backend {}\".format(jax.lib.xla_bridge.get_backend().platform))"
      ],
      "execution_count": null,
      "outputs": [
        {
          "output_type": "stream",
          "text": [
            "jax backend gpu\n"
          ],
          "name": "stdout"
        }
      ]
    },
    {
      "cell_type": "markdown",
      "metadata": {
        "id": "l99YLyorBdYE"
      },
      "source": [
        "## Tensorflow"
      ]
    },
    {
      "cell_type": "code",
      "metadata": {
        "colab": {
          "base_uri": "https://localhost:8080/"
        },
        "id": "StpReaSICLUm",
        "outputId": "5dfac104-8e5a-49cd-8400-eadb56650acd"
      },
      "source": [
        "\n",
        "import tensorflow as tf\n",
        "from tensorflow import keras\n",
        "assert tf.__version__ >= \"2.0\"\n",
        "\n",
        "print(\"tf version {}\".format(tf.__version__))\n",
        "print([d for d in tf.config.list_physical_devices()])\n",
        "\n",
        "if not tf.config.list_physical_devices('GPU'):\n",
        "    print(\"No GPU was detected. DNNs can be very slow without a GPU.\")\n",
        "    if IS_COLAB:\n",
        "        print(\"Go to Runtime > Change runtime and select a GPU hardware accelerator.\")"
      ],
      "execution_count": null,
      "outputs": [
        {
          "output_type": "stream",
          "text": [
            "tf version 2.4.0\n",
            "[PhysicalDevice(name='/physical_device:CPU:0', device_type='CPU'), PhysicalDevice(name='/physical_device:GPU:0', device_type='GPU')]\n"
          ],
          "name": "stdout"
        }
      ]
    },
    {
      "cell_type": "markdown",
      "metadata": {
        "id": "grUUK1GrBfIY"
      },
      "source": [
        "## PyTorch"
      ]
    },
    {
      "cell_type": "code",
      "metadata": {
        "id": "Oi4Zmzla73A_",
        "colab": {
          "base_uri": "https://localhost:8080/"
        },
        "outputId": "558ed73a-5dfe-491a-be1c-64c949283e48"
      },
      "source": [
        "\n",
        "import torch\n",
        "import torchvision\n",
        "print(\"torch version {}\".format(torch.__version__))\n",
        "if torch.cuda.is_available():\n",
        "    print(torch.cuda.get_device_name(0))\n",
        "else:\n",
        "    print(\"Torch cannot find GPU\")"
      ],
      "execution_count": null,
      "outputs": [
        {
          "output_type": "stream",
          "text": [
            "torch version 1.7.0+cu101\n",
            "Tesla T4\n"
          ],
          "name": "stdout"
        }
      ]
    },
    {
      "cell_type": "markdown",
      "metadata": {
        "id": "M4ayVFuc0FD9"
      },
      "source": [
        "# Plotting\n",
        "\n",
        "Colab has excellent support for plotting. We give some examples below."
      ]
    },
    {
      "cell_type": "markdown",
      "metadata": {
        "id": "ENCT0EqifCDO"
      },
      "source": [
        "## Static plots\n",
        "\n",
        "Colab lets you make static plots using matplotlib, as shown below.\n",
        "Note that plots are displayed inline by default, so\n",
        "```\n",
        "%matplotlib inline\n",
        "```\n",
        "is not needed.\n"
      ]
    },
    {
      "cell_type": "code",
      "metadata": {
        "colab": {
          "base_uri": "https://localhost:8080/",
          "height": 267
        },
        "id": "j_k4tv4D1VaC",
        "outputId": "dda6cc16-8351-4aff-9c09-ab7ad5dc968f"
      },
      "source": [
        "import matplotlib.pyplot as plt\n",
        "import PIL\n",
        "import imageio\n",
        "import seaborn as sns;\n",
        "sns.set(style=\"ticks\", color_codes=True)\n",
        "\n",
        "from IPython import display\n",
        "\n",
        "plt.figure()\n",
        "plt.plot(range(10))\n",
        "plt.savefig('myplot.png')"
      ],
      "execution_count": null,
      "outputs": [
        {
          "output_type": "display_data",
          "data": {
            "image/png": "[encoded data removed]",
            "text/plain": [
              "<Figure size 432x288 with 1 Axes>"
            ]
          },
          "metadata": {
            "tags": []
          }
        }
      ]
    },
    {
      "cell_type": "markdown",
      "metadata": {
        "id": "iFwo8LA4fIh9"
      },
      "source": [
        "## Interactive plots\n",
        "\n",
        "Colab also lets you create interactive plots using various javascript libraries - see [here](https://colab.research.google.com/notebooks/charts.ipynb#scrollTo=QSMmdrrVLZ-N) for details.\n",
        "\n",
        "Below we illustrate how to use the [bokeh library](https://docs.bokeh.org/en/latest/index.html) to create an interactive plot of a  pandas time series, where if you mouse over the plot, it shows the corresponding (x,y) coordinates. (Another option is [plotly](https://plotly.com/graphing-libraries/).)"
      ]
    },
    {
      "cell_type": "code",
      "metadata": {
        "id": "SiKRxZyo3Fa1"
      },
      "source": [
        "import pandas as pd\n",
        "import numpy as np\n",
        "from bokeh.plotting import figure, show\n",
        "from bokeh.io import output_notebook\n",
        "from bokeh.models import ColumnDataSource, HoverTool\n",
        "\n",
        "# Call once to configure Bokeh to display plots inline in the notebook.\n",
        "output_notebook()\n"
      ],
      "execution_count": 3,
      "outputs": []
    },
    {
      "cell_type": "code",
      "metadata": {
        "id": "7_4CJ3mQhLNa",
        "colab": {
          "base_uri": "https://localhost:8080/",
          "height": 616
        },
        "outputId": "88eb0172-352f-46bd-8303-1baf898e0a79"
      },
      "source": [
        "\n",
        "\n",
        "\n",
        "np.random.seed(0)\n",
        "dates = pd.date_range(start='2018-04-24', end='2018-08-27')\n",
        "N = len(dates)\n",
        "vals = np.random.standard_t(1, size=N)\n",
        "dd = pd.DataFrame({'vals': vals, 'dates': dates}, index=dates)\n",
        "dd['days'] = dd.dates.dt.strftime(\"%Y-%m-%d\")\n",
        "\n",
        "\n",
        "source = ColumnDataSource(dd)\n",
        "hover = HoverTool(tooltips=[(\"Date\", \"@days\"),\n",
        "                            (\"vals\", \"@vals\")],\n",
        ")\n",
        "p = figure( x_axis_type=\"datetime\")\n",
        "p.line(x='dates', y='vals', source=source)\n",
        "p.add_tools(hover)\n",
        "show(p)"
      ],
      "execution_count": null,
      "outputs": [
        {
          "output_type": "display_data",
          "data": {
            "application/javascript": [
              "\n",
              "(function(root) {\n",
              "  function now() {\n",
              "    return new Date();\n",
              "  }\n",
              "\n",
              "  var force = true;\n",
              "\n",
              "  if (typeof root._bokeh_onload_callbacks === \"undefined\" || force === true) {\n",
              "    root._bokeh_onload_callbacks = [];\n",
              "    root._bokeh_is_loading = undefined;\n",
              "  }\n",
              "\n",
              "  var JS_MIME_TYPE = 'application/javascript';\n",
              "  var HTML_MIME_TYPE = 'text/html';\n",
              "  var EXEC_MIME_TYPE = 'application/vnd.bokehjs_exec.v0+json';\n",
              "  var CLASS_NAME = 'output_bokeh rendered_html';\n",
              "\n",
              "  /**\n",
              "   * Render data to the DOM node\n",
              "   */\n",
              "  function render(props, node) {\n",
              "    var script = document.createElement(\"script\");\n",
              "    node.appendChild(script);\n",
              "  }\n",
              "\n",
              "  /**\n",
              "   * Handle when an output is cleared or removed\n",
              "   */\n",
              "  function handleClearOutput(event, handle) {\n",
              "    var cell = handle.cell;\n",
              "\n",
              "    var id = cell.output_area._bokeh_element_id;\n",
              "    var server_id = cell.output_area._bokeh_server_id;\n",
              "    // Clean up Bokeh references\n",
              "    if (id != null && id in Bokeh.index) {\n",
              "      Bokeh.index[id].model.document.clear();\n",
              "      delete Bokeh.index[id];\n",
              "    }\n",
              "\n",
              "    if (server_id !== undefined) {\n",
              "      // Clean up Bokeh references\n",
              "      var cmd = \"from bokeh.io.state import curstate; print(curstate().uuid_to_server['\" + server_id + \"'].get_sessions()[0].document.roots[0]._id)\";\n",
              "      cell.notebook.kernel.execute(cmd, {\n",
              "        iopub: {\n",
              "          output: function(msg) {\n",
              "            var id = msg.content.text.trim();\n",
              "            if (id in Bokeh.index) {\n",
              "              Bokeh.index[id].model.document.clear();\n",
              "              delete Bokeh.index[id];\n",
              "            }\n",
              "          }\n",
              "        }\n",
              "      });\n",
              "      // Destroy server and session\n",
              "      var cmd = \"import bokeh.io.notebook as ion; ion.destroy_server('\" + server_id + \"')\";\n",
              "      cell.notebook.kernel.execute(cmd);\n",
              "    }\n",
              "  }\n",
              "\n",
              "  /**\n",
              "   * Handle when a new output is added\n",
              "   */\n",
              "  function handleAddOutput(event, handle) {\n",
              "    var output_area = handle.output_area;\n",
              "    var output = handle.output;\n",
              "\n",
              "    // limit handleAddOutput to display_data with EXEC_MIME_TYPE content only\n",
              "    if ((output.output_type != \"display_data\") || (!output.data.hasOwnProperty(EXEC_MIME_TYPE))) {\n",
              "      return\n",
              "    }\n",
              "\n",
              "    var toinsert = output_area.element.find(\".\" + CLASS_NAME.split(' ')[0]);\n",
              "\n",
              "    if (output.metadata[EXEC_MIME_TYPE][\"id\"] !== undefined) {\n",
              "      toinsert[toinsert.length - 1].firstChild.textContent = output.data[JS_MIME_TYPE];\n",
              "      // store reference to embed id on output_area\n",
              "      output_area._bokeh_element_id = output.metadata[EXEC_MIME_TYPE][\"id\"];\n",
              "    }\n",
              "    if (output.metadata[EXEC_MIME_TYPE][\"server_id\"] !== undefined) {\n",
              "      var bk_div = document.createElement(\"div\");\n",
              "      bk_div.innerHTML = output.data[HTML_MIME_TYPE];\n",
              "      var script_attrs = bk_div.children[0].attributes;\n",
              "      for (var i = 0; i < script_attrs.length; i++) {\n",
              "        toinsert[toinsert.length - 1].firstChild.setAttribute(script_attrs[i].name, script_attrs[i].value);\n",
              "        toinsert[toinsert.length - 1].firstChild.textContent = bk_div.children[0].textContent\n",
              "      }\n",
              "      // store reference to server id on output_area\n",
              "      output_area._bokeh_server_id = output.metadata[EXEC_MIME_TYPE][\"server_id\"];\n",
              "    }\n",
              "  }\n",
              "\n",
              "  function register_renderer(events, OutputArea) {\n",
              "\n",
              "    function append_mime(data, metadata, element) {\n",
              "      // create a DOM node to render to\n",
              "      var toinsert = this.create_output_subarea(\n",
              "        metadata,\n",
              "        CLASS_NAME,\n",
              "        EXEC_MIME_TYPE\n",
              "      );\n",
              "      this.keyboard_manager.register_events(toinsert);\n",
              "      // Render to node\n",
              "      var props = {data: data, metadata: metadata[EXEC_MIME_TYPE]};\n",
              "      render(props, toinsert[toinsert.length - 1]);\n",
              "      element.append(toinsert);\n",
              "      return toinsert\n",
              "    }\n",
              "\n",
              "    /* Handle when an output is cleared or removed */\n",
              "    events.on('clear_output.CodeCell', handleClearOutput);\n",
              "    events.on('delete.Cell', handleClearOutput);\n",
              "\n",
              "    /* Handle when a new output is added */\n",
              "    events.on('output_added.OutputArea', handleAddOutput);\n",
              "\n",
              "    /**\n",
              "     * Register the mime type and append_mime function with output_area\n",
              "     */\n",
              "    OutputArea.prototype.register_mime_type(EXEC_MIME_TYPE, append_mime, {\n",
              "      /* Is output safe? */\n",
              "      safe: true,\n",
              "      /* Index of renderer in `output_area.display_order` */\n",
              "      index: 0\n",
              "    });\n",
              "  }\n",
              "\n",
              "  // register the mime type if in Jupyter Notebook environment and previously unregistered\n",
              "  if (root.Jupyter !== undefined) {\n",
              "    var events = require('base/js/events');\n",
              "    var OutputArea = require('notebook/js/outputarea').OutputArea;\n",
              "\n",
              "    if (OutputArea.prototype.mime_types().indexOf(EXEC_MIME_TYPE) == -1) {\n",
              "      register_renderer(events, OutputArea);\n",
              "    }\n",
              "  }\n",
              "\n",
              "  \n",
              "  if (typeof (root._bokeh_timeout) === \"undefined\" || force === true) {\n",
              "    root._bokeh_timeout = Date.now() + 5000;\n",
              "    root._bokeh_failed_load = false;\n",
              "  }\n",
              "\n",
              "  var NB_LOAD_WARNING = {'data': {'text/html':\n",
              "     \"<div style='background-color: #fdd'>\\n\"+\n",
              "     \"<p>\\n\"+\n",
              "     \"BokehJS does not appear to have successfully loaded. If loading BokehJS from CDN, this \\n\"+\n",
              "     \"may be due to a slow or bad network connection. Possible fixes:\\n\"+\n",
              "     \"</p>\\n\"+\n",
              "     \"<ul>\\n\"+\n",
              "     \"<li>re-rerun `output_notebook()` to attempt to load from CDN again, or</li>\\n\"+\n",
              "     \"<li>use INLINE resources instead, as so:</li>\\n\"+\n",
              "     \"</ul>\\n\"+\n",
              "     \"<code>\\n\"+\n",
              "     \"from bokeh.resources import INLINE\\n\"+\n",
              "     \"output_notebook(resources=INLINE)\\n\"+\n",
              "     \"</code>\\n\"+\n",
              "     \"</div>\"}};\n",
              "\n",
              "  function display_loaded() {\n",
              "    var el = document.getElementById(null);\n",
              "    if (el != null) {\n",
              "      el.textContent = \"BokehJS is loading...\";\n",
              "    }\n",
              "    if (root.Bokeh !== undefined) {\n",
              "      if (el != null) {\n",
              "        el.textContent = \"BokehJS \" + root.Bokeh.version + \" successfully loaded.\";\n",
              "      }\n",
              "    } else if (Date.now() < root._bokeh_timeout) {\n",
              "      setTimeout(display_loaded, 100)\n",
              "    }\n",
              "  }\n",
              "\n",
              "\n",
              "  function run_callbacks() {\n",
              "    try {\n",
              "      root._bokeh_onload_callbacks.forEach(function(callback) {\n",
              "        if (callback != null)\n",
              "          callback();\n",
              "      });\n",
              "    } finally {\n",
              "      delete root._bokeh_onload_callbacks\n",
              "    }\n",
              "    console.debug(\"Bokeh: all callbacks have finished\");\n",
              "  }\n",
              "\n",
              "  function load_libs(css_urls, js_urls, callback) {\n",
              "    if (css_urls == null) css_urls = [];\n",
              "    if (js_urls == null) js_urls = [];\n",
              "\n",
              "    root._bokeh_onload_callbacks.push(callback);\n",
              "    if (root._bokeh_is_loading > 0) {\n",
              "      console.debug(\"Bokeh: BokehJS is being loaded, scheduling callback at\", now());\n",
              "      return null;\n",
              "    }\n",
              "    if (js_urls == null || js_urls.length === 0) {\n",
              "      run_callbacks();\n",
              "      return null;\n",
              "    }\n",
              "    console.debug(\"Bokeh: BokehJS not loaded, scheduling load and callback at\", now());\n",
              "    root._bokeh_is_loading = css_urls.length + js_urls.length;\n",
              "\n",
              "    function on_load() {\n",
              "      root._bokeh_is_loading--;\n",
              "      if (root._bokeh_is_loading === 0) {\n",
              "        console.debug(\"Bokeh: all BokehJS libraries/stylesheets loaded\");\n",
              "        run_callbacks()\n",
              "      }\n",
              "    }\n",
              "\n",
              "    function on_error() {\n",
              "      console.error(\"failed to load \" + url);\n",
              "    }\n",
              "\n",
              "    for (var i = 0; i < css_urls.length; i++) {\n",
              "      var url = css_urls[i];\n",
              "      const element = document.createElement(\"link\");\n",
              "      element.onload = on_load;\n",
              "      element.onerror = on_error;\n",
              "      element.rel = \"stylesheet\";\n",
              "      element.type = \"text/css\";\n",
              "      element.href = url;\n",
              "      console.debug(\"Bokeh: injecting link tag for BokehJS stylesheet: \", url);\n",
              "      document.body.appendChild(element);\n",
              "    }\n",
              "\n",
              "    const hashes = {\"https://cdn.bokeh.org/bokeh/release/bokeh-2.1.1.min.js\": \"kLr4fYcqcSpbuI95brIH3vnnYCquzzSxHPU6XGQCIkQRGJwhg0StNbj1eegrHs12\", \"https://cdn.bokeh.org/bokeh/release/bokeh-widgets-2.1.1.min.js\": \"xIGPmVtaOm+z0BqfSOMn4lOR6ciex448GIKG4eE61LsAvmGj48XcMQZtKcE/UXZe\", \"https://cdn.bokeh.org/bokeh/release/bokeh-tables-2.1.1.min.js\": \"Dc9u1wF/0zApGIWoBbH77iWEHtdmkuYWG839Uzmv8y8yBLXebjO9ZnERsde5Ln/P\", \"https://cdn.bokeh.org/bokeh/release/bokeh-gl-2.1.1.min.js\": \"cT9JaBz7GiRXdENrJLZNSC6eMNF3nh3fa5fTF51Svp+ukxPdwcU5kGXGPBgDCa2j\"};\n",
              "\n",
              "    for (var i = 0; i < js_urls.length; i++) {\n",
              "      var url = js_urls[i];\n",
              "      var element = document.createElement('script');\n",
              "      element.onload = on_load;\n",
              "      element.onerror = on_error;\n",
              "      element.async = false;\n",
              "      element.src = url;\n",
              "      if (url in hashes) {\n",
              "        element.crossOrigin = \"anonymous\";\n",
              "        element.integrity = \"sha384-\" + hashes[url];\n",
              "      }\n",
              "      console.debug(\"Bokeh: injecting script tag for BokehJS library: \", url);\n",
              "      document.head.appendChild(element);\n",
              "    }\n",
              "  };\n",
              "\n",
              "  function inject_raw_css(css) {\n",
              "    const element = document.createElement(\"style\");\n",
              "    element.appendChild(document.createTextNode(css));\n",
              "    document.body.appendChild(element);\n",
              "  }\n",
              "\n",
              "  \n",
              "  var js_urls = [\"https://cdn.bokeh.org/bokeh/release/bokeh-2.1.1.min.js\", \"https://cdn.bokeh.org/bokeh/release/bokeh-widgets-2.1.1.min.js\", \"https://cdn.bokeh.org/bokeh/release/bokeh-tables-2.1.1.min.js\", \"https://cdn.bokeh.org/bokeh/release/bokeh-gl-2.1.1.min.js\"];\n",
              "  var css_urls = [];\n",
              "  \n",
              "\n",
              "  var inline_js = [\n",
              "    function(Bokeh) {\n",
              "      Bokeh.set_log_level(\"info\");\n",
              "    },\n",
              "    function(Bokeh) {\n",
              "    \n",
              "    \n",
              "    }\n",
              "  ];\n",
              "\n",
              "  function run_inline_js() {\n",
              "    \n",
              "    if (root.Bokeh !== undefined || force === true) {\n",
              "      \n",
              "    for (var i = 0; i < inline_js.length; i++) {\n",
              "      inline_js[i].call(root, root.Bokeh);\n",
              "    }\n",
              "    } else if (Date.now() < root._bokeh_timeout) {\n",
              "      setTimeout(run_inline_js, 100);\n",
              "    } else if (!root._bokeh_failed_load) {\n",
              "      console.log(\"Bokeh: BokehJS failed to load within specified timeout.\");\n",
              "      root._bokeh_failed_load = true;\n",
              "    } else if (force !== true) {\n",
              "      var cell = $(document.getElementById(null)).parents('.cell').data().cell;\n",
              "      cell.output_area.append_execute_result(NB_LOAD_WARNING)\n",
              "    }\n",
              "\n",
              "  }\n",
              "\n",
              "  if (root._bokeh_is_loading === 0) {\n",
              "    console.debug(\"Bokeh: BokehJS loaded, going straight to plotting\");\n",
              "    run_inline_js();\n",
              "  } else {\n",
              "    load_libs(css_urls, js_urls, function() {\n",
              "      console.debug(\"Bokeh: BokehJS plotting callback run at\", now());\n",
              "      run_inline_js();\n",
              "    });\n",
              "  }\n",
              "}(window));"
            ],
            "application/vnd.bokehjs_load.v0+json": "\n(function(root) {\n  function now() {\n    return new Date();\n  }\n\n  var force = true;\n\n  if (typeof root._bokeh_onload_callbacks === \"undefined\" || force === true) {\n    root._bokeh_onload_callbacks = [];\n    root._bokeh_is_loading = undefined;\n  }\n\n  \n\n  \n  if (typeof (root._bokeh_timeout) === \"undefined\" || force === true) {\n    root._bokeh_timeout = Date.now() + 5000;\n    root._bokeh_failed_load = false;\n  }\n\n  var NB_LOAD_WARNING = {'data': {'text/html':\n     \"<div style='background-color: #fdd'>\\n\"+\n     \"<p>\\n\"+\n     \"BokehJS does not appear to have successfully loaded. If loading BokehJS from CDN, this \\n\"+\n     \"may be due to a slow or bad network connection. Possible fixes:\\n\"+\n     \"</p>\\n\"+\n     \"<ul>\\n\"+\n     \"<li>re-rerun `output_notebook()` to attempt to load from CDN again, or</li>\\n\"+\n     \"<li>use INLINE resources instead, as so:</li>\\n\"+\n     \"</ul>\\n\"+\n     \"<code>\\n\"+\n     \"from bokeh.resources import INLINE\\n\"+\n     \"output_notebook(resources=INLINE)\\n\"+\n     \"</code>\\n\"+\n     \"</div>\"}};\n\n  function display_loaded() {\n    var el = document.getElementById(null);\n    if (el != null) {\n      el.textContent = \"BokehJS is loading...\";\n    }\n    if (root.Bokeh !== undefined) {\n      if (el != null) {\n        el.textContent = \"BokehJS \" + root.Bokeh.version + \" successfully loaded.\";\n      }\n    } else if (Date.now() < root._bokeh_timeout) {\n      setTimeout(display_loaded, 100)\n    }\n  }\n\n\n  function run_callbacks() {\n    try {\n      root._bokeh_onload_callbacks.forEach(function(callback) {\n        if (callback != null)\n          callback();\n      });\n    } finally {\n      delete root._bokeh_onload_callbacks\n    }\n    console.debug(\"Bokeh: all callbacks have finished\");\n  }\n\n  function load_libs(css_urls, js_urls, callback) {\n    if (css_urls == null) css_urls = [];\n    if (js_urls == null) js_urls = [];\n\n    root._bokeh_onload_callbacks.push(callback);\n    if (root._bokeh_is_loading > 0) {\n      console.debug(\"Bokeh: BokehJS is being loaded, scheduling callback at\", now());\n      return null;\n    }\n    if (js_urls == null || js_urls.length === 0) {\n      run_callbacks();\n      return null;\n    }\n    console.debug(\"Bokeh: BokehJS not loaded, scheduling load and callback at\", now());\n    root._bokeh_is_loading = css_urls.length + js_urls.length;\n\n    function on_load() {\n      root._bokeh_is_loading--;\n      if (root._bokeh_is_loading === 0) {\n        console.debug(\"Bokeh: all BokehJS libraries/stylesheets loaded\");\n        run_callbacks()\n      }\n    }\n\n    function on_error() {\n      console.error(\"failed to load \" + url);\n    }\n\n    for (var i = 0; i < css_urls.length; i++) {\n      var url = css_urls[i];\n      const element = document.createElement(\"link\");\n      element.onload = on_load;\n      element.onerror = on_error;\n      element.rel = \"stylesheet\";\n      element.type = \"text/css\";\n      element.href = url;\n      console.debug(\"Bokeh: injecting link tag for BokehJS stylesheet: \", url);\n      document.body.appendChild(element);\n    }\n\n    const hashes = {\"https://cdn.bokeh.org/bokeh/release/bokeh-2.1.1.min.js\": \"kLr4fYcqcSpbuI95brIH3vnnYCquzzSxHPU6XGQCIkQRGJwhg0StNbj1eegrHs12\", \"https://cdn.bokeh.org/bokeh/release/bokeh-widgets-2.1.1.min.js\": \"xIGPmVtaOm+z0BqfSOMn4lOR6ciex448GIKG4eE61LsAvmGj48XcMQZtKcE/UXZe\", \"https://cdn.bokeh.org/bokeh/release/bokeh-tables-2.1.1.min.js\": \"Dc9u1wF/0zApGIWoBbH77iWEHtdmkuYWG839Uzmv8y8yBLXebjO9ZnERsde5Ln/P\", \"https://cdn.bokeh.org/bokeh/release/bokeh-gl-2.1.1.min.js\": \"cT9JaBz7GiRXdENrJLZNSC6eMNF3nh3fa5fTF51Svp+ukxPdwcU5kGXGPBgDCa2j\"};\n\n    for (var i = 0; i < js_urls.length; i++) {\n      var url = js_urls[i];\n      var element = document.createElement('script');\n      element.onload = on_load;\n      element.onerror = on_error;\n      element.async = false;\n      element.src = url;\n      if (url in hashes) {\n        element.crossOrigin = \"anonymous\";\n        element.integrity = \"sha384-\" + hashes[url];\n      }\n      console.debug(\"Bokeh: injecting script tag for BokehJS library: \", url);\n      document.head.appendChild(element);\n    }\n  };\n\n  function inject_raw_css(css) {\n    const element = document.createElement(\"style\");\n    element.appendChild(document.createTextNode(css));\n    document.body.appendChild(element);\n  }\n\n  \n  var js_urls = [\"https://cdn.bokeh.org/bokeh/release/bokeh-2.1.1.min.js\", \"https://cdn.bokeh.org/bokeh/release/bokeh-widgets-2.1.1.min.js\", \"https://cdn.bokeh.org/bokeh/release/bokeh-tables-2.1.1.min.js\", \"https://cdn.bokeh.org/bokeh/release/bokeh-gl-2.1.1.min.js\"];\n  var css_urls = [];\n  \n\n  var inline_js = [\n    function(Bokeh) {\n      Bokeh.set_log_level(\"info\");\n    },\n    function(Bokeh) {\n    \n    \n    }\n  ];\n\n  function run_inline_js() {\n    \n    if (root.Bokeh !== undefined || force === true) {\n      \n    for (var i = 0; i < inline_js.length; i++) {\n      inline_js[i].call(root, root.Bokeh);\n    }\n    } else if (Date.now() < root._bokeh_timeout) {\n      setTimeout(run_inline_js, 100);\n    } else if (!root._bokeh_failed_load) {\n      console.log(\"Bokeh: BokehJS failed to load within specified timeout.\");\n      root._bokeh_failed_load = true;\n    } else if (force !== true) {\n      var cell = $(document.getElementById(null)).parents('.cell').data().cell;\n      cell.output_area.append_execute_result(NB_LOAD_WARNING)\n    }\n\n  }\n\n  if (root._bokeh_is_loading === 0) {\n    console.debug(\"Bokeh: BokehJS loaded, going straight to plotting\");\n    run_inline_js();\n  } else {\n    load_libs(css_urls, js_urls, function() {\n      console.debug(\"Bokeh: BokehJS plotting callback run at\", now());\n      run_inline_js();\n    });\n  }\n}(window));"
          },
          "metadata": {
            "tags": []
          }
        },
        {
          "output_type": "display_data",
          "data": {
            "text/html": [
              "\n",
              "\n",
              "\n",
              "\n",
              "\n",
              "\n",
              "  <div class=\"bk-root\" id=\"cda42fc9-7afa-45dd-b436-85368f36d25f\" data-root-id=\"1003\"></div>\n"
            ]
          },
          "metadata": {
            "tags": []
          }
        },
        {
          "output_type": "display_data",
          "data": {
            "application/javascript": [
              "(function(root) {\n",
              "  function embed_document(root) {\n",
              "    \n",
              "  var docs_json = {\"afd130d0-6934-426f-a481-1bd2caf8cab8\":{\"roots\":{\"references\":[{\"attributes\":{\"below\":[{\"id\":\"1012\"}],\"center\":[{\"id\":\"1015\"},{\"id\":\"1019\"}],\"left\":[{\"id\":\"1016\"}],\"renderers\":[{\"id\":\"1037\"}],\"title\":{\"id\":\"1040\"},\"toolbar\":{\"id\":\"1027\"},\"x_range\":{\"id\":\"1004\"},\"x_scale\":{\"id\":\"1008\"},\"y_range\":{\"id\":\"1006\"},\"y_scale\":{\"id\":\"1010\"}},\"id\":\"1003\",\"subtype\":\"Figure\",\"type\":\"Plot\"},{\"attributes\":{\"overlay\":{\"id\":\"1026\"}},\"id\":\"1022\",\"type\":\"BoxZoomTool\"},{\"attributes\":{},\"id\":\"1004\",\"type\":\"DataRange1d\"},{\"attributes\":{},\"id\":\"1023\",\"type\":\"SaveTool\"},{\"attributes\":{\"days\":[1,2,3,4,5,6,7,8,9,10,11,12,13,14,15,16,17,18,19,20,21,22,23,24,25,26,27,28,29,30,31]},\"id\":\"1050\",\"type\":\"DaysTicker\"},{\"attributes\":{\"days\":[1,4,7,10,13,16,19,22,25,28]},\"id\":\"1051\",\"type\":\"DaysTicker\"},{\"attributes\":{},\"id\":\"1024\",\"type\":\"ResetTool\"},{\"attributes\":{\"days\":[1,8,15,22]},\"id\":\"1052\",\"type\":\"DaysTicker\"},{\"attributes\":{},\"id\":\"1025\",\"type\":\"HelpTool\"},{\"attributes\":{\"days\":[1,15]},\"id\":\"1053\",\"type\":\"DaysTicker\"},{\"attributes\":{\"active_drag\":\"auto\",\"active_inspect\":\"auto\",\"active_multi\":null,\"active_scroll\":\"auto\",\"active_tap\":\"auto\",\"tools\":[{\"id\":\"1020\"},{\"id\":\"1021\"},{\"id\":\"1022\"},{\"id\":\"1023\"},{\"id\":\"1024\"},{\"id\":\"1025\"},{\"id\":\"1002\"}]},\"id\":\"1027\",\"type\":\"Toolbar\"},{\"attributes\":{},\"id\":\"1006\",\"type\":\"DataRange1d\"},{\"attributes\":{\"months\":[0,1,2,3,4,5,6,7,8,9,10,11]},\"id\":\"1054\",\"type\":\"MonthsTicker\"},{\"attributes\":{\"line_color\":\"#1f77b4\",\"x\":{\"field\":\"dates\"},\"y\":{\"field\":\"vals\"}},\"id\":\"1035\",\"type\":\"Line\"},{\"attributes\":{},\"id\":\"1008\",\"type\":\"LinearScale\"},{\"attributes\":{\"mantissas\":[1,2,5],\"max_interval\":500.0,\"num_minor_ticks\":0},\"id\":\"1047\",\"type\":\"AdaptiveTicker\"},{\"attributes\":{\"months\":[0,2,4,6,8,10]},\"id\":\"1055\",\"type\":\"MonthsTicker\"},{\"attributes\":{},\"id\":\"1042\",\"type\":\"BasicTickFormatter\"},{\"attributes\":{},\"id\":\"1010\",\"type\":\"LinearScale\"},{\"attributes\":{\"months\":[0,4,8]},\"id\":\"1056\",\"type\":\"MonthsTicker\"},{\"attributes\":{\"formatter\":{\"id\":\"1044\"},\"ticker\":{\"id\":\"1013\"}},\"id\":\"1012\",\"type\":\"DatetimeAxis\"},{\"attributes\":{},\"id\":\"1044\",\"type\":\"DatetimeTickFormatter\"},{\"attributes\":{\"months\":[0,6]},\"id\":\"1057\",\"type\":\"MonthsTicker\"},{\"attributes\":{\"bottom_units\":\"screen\",\"fill_alpha\":0.5,\"fill_color\":\"lightgrey\",\"left_units\":\"screen\",\"level\":\"overlay\",\"line_alpha\":1.0,\"line_color\":\"black\",\"line_dash\":[4,4],\"line_width\":2,\"right_units\":\"screen\",\"top_units\":\"screen\"},\"id\":\"1026\",\"type\":\"BoxAnnotation\"},{\"attributes\":{\"num_minor_ticks\":5,\"tickers\":[{\"id\":\"1047\"},{\"id\":\"1048\"},{\"id\":\"1049\"},{\"id\":\"1050\"},{\"id\":\"1051\"},{\"id\":\"1052\"},{\"id\":\"1053\"},{\"id\":\"1054\"},{\"id\":\"1055\"},{\"id\":\"1056\"},{\"id\":\"1057\"},{\"id\":\"1058\"}]},\"id\":\"1013\",\"type\":\"DatetimeTicker\"},{\"attributes\":{},\"id\":\"1058\",\"type\":\"YearsTicker\"},{\"attributes\":{\"axis\":{\"id\":\"1012\"},\"ticker\":null},\"id\":\"1015\",\"type\":\"Grid\"},{\"attributes\":{},\"id\":\"1059\",\"type\":\"Selection\"},{\"attributes\":{\"data_source\":{\"id\":\"1001\"},\"glyph\":{\"id\":\"1035\"},\"hover_glyph\":null,\"muted_glyph\":null,\"nonselection_glyph\":{\"id\":\"1036\"},\"selection_glyph\":null,\"view\":{\"id\":\"1038\"}},\"id\":\"1037\",\"type\":\"GlyphRenderer\"},{\"attributes\":{\"formatter\":{\"id\":\"1042\"},\"ticker\":{\"id\":\"1017\"}},\"id\":\"1016\",\"type\":\"LinearAxis\"},{\"attributes\":{\"text\":\"\"},\"id\":\"1040\",\"type\":\"Title\"},{\"attributes\":{},\"id\":\"1060\",\"type\":\"UnionRenderers\"},{\"attributes\":{},\"id\":\"1017\",\"type\":\"BasicTicker\"},{\"attributes\":{\"axis\":{\"id\":\"1016\"},\"dimension\":1,\"ticker\":null},\"id\":\"1019\",\"type\":\"Grid\"},{\"attributes\":{\"callback\":null,\"tooltips\":[[\"Date\",\"@days\"],[\"vals\",\"@vals\"]]},\"id\":\"1002\",\"type\":\"HoverTool\"},{\"attributes\":{\"source\":{\"id\":\"1001\"}},\"id\":\"1038\",\"type\":\"CDSView\"},{\"attributes\":{\"line_alpha\":0.1,\"line_color\":\"#1f77b4\",\"x\":{\"field\":\"dates\"},\"y\":{\"field\":\"vals\"}},\"id\":\"1036\",\"type\":\"Line\"},{\"attributes\":{\"base\":60,\"mantissas\":[1,2,5,10,15,20,30],\"max_interval\":1800000.0,\"min_interval\":1000.0,\"num_minor_ticks\":0},\"id\":\"1048\",\"type\":\"AdaptiveTicker\"},{\"attributes\":{},\"id\":\"1020\",\"type\":\"PanTool\"},{\"attributes\":{\"data\":{\"dates\":{\"__ndarray__\":\"AADAMk8vdkIAAICYoS92QgAAQP7zL3ZCAAAAZEYwdkIAAMDJmDB2QgAAgC/rMHZCAABAlT0xdkIAAAD7jzF2QgAAwGDiMXZCAACAxjQydkIAAEAshzJ2QgAAAJLZMnZCAADA9yszdkIAAIBdfjN2QgAAQMPQM3ZCAAAAKSM0dkIAAMCOdTR2QgAAgPTHNHZCAABAWho1dkIAAADAbDV2QgAAwCW/NXZCAACAixE2dkIAAEDxYzZ2QgAAAFe2NnZCAADAvAg3dkIAAIAiWzd2QgAAQIitN3ZCAAAA7v83dkIAAMBTUjh2QgAAgLmkOHZCAABAH/c4dkIAAACFSTl2QgAAwOqbOXZCAACAUO45dkIAAEC2QDp2QgAAAByTOnZCAADAgeU6dkIAAIDnNzt2QgAAQE2KO3ZCAAAAs9w7dkIAAMAYLzx2QgAAgH6BPHZCAABA5NM8dkIAAABKJj12QgAAwK94PXZCAACAFcs9dkIAAEB7HT52QgAAAOFvPnZCAADARsI+dkIAAICsFD92QgAAQBJnP3ZCAAAAeLk/dkIAAMDdC0B2QgAAgENeQHZCAABAqbBAdkIAAAAPA0F2QgAAwHRVQXZCAACA2qdBdkIAAEBA+kF2QgAAAKZMQnZCAADAC59CdkIAAIBx8UJ2QgAAQNdDQ3ZCAAAAPZZDdkIAAMCi6EN2QgAAgAg7RHZCAABAbo1EdkIAAADU30R2QgAAwDkyRXZCAACAn4RFdkIAAEAF10V2QgAAAGspRnZCAADA0HtGdkIAAIA2zkZ2QgAAQJwgR3ZCAAAAAnNHdkIAAMBnxUd2QgAAgM0XSHZCAABAM2pIdkIAAACZvEh2QgAAwP4OSXZCAACAZGFJdkIAAEDKs0l2QgAAADAGSnZCAADAlVhKdkIAAID7qkp2QgAAQGH9SnZCAAAAx09LdkIAAMAsokt2QgAAgJL0S3ZCAABA+EZMdkIAAABemUx2QgAAwMPrTHZCAACAKT5NdkIAAECPkE12QgAAAPXiTXZCAADAWjVOdkIAAIDAh052QgAAQCbaTnZCAAAAjCxPdkIAAMDxfk92QgAAgFfRT3ZCAABAvSNQdkIAAAAjdlB2QgAAwIjIUHZCAACA7hpRdkIAAEBUbVF2QgAAALq/UXZCAADAHxJSdkIAAICFZFJ2QgAAQOu2UnZCAAAAUQlTdkIAAMC2W1N2QgAAgByuU3ZCAABAggBUdkIAAADoUlR2QgAAwE2lVHZCAACAs/dUdkIAAEAZSlV2QgAAAH+cVXZCAADA5O5VdkIAAIBKQVZ2QgAAQLCTVnZCAAAAFuZWdkIAAMB7OFd2QgAAgOGKV3ZC\",\"dtype\":\"float64\",\"order\":\"little\",\"shape\":[126]},\"days\":[\"2018-04-24\",\"2018-04-25\",\"2018-04-26\",\"2018-04-27\",\"2018-04-28\",\"2018-04-29\",\"2018-04-30\",\"2018-05-01\",\"2018-05-02\",\"2018-05-03\",\"2018-05-04\",\"2018-05-05\",\"2018-05-06\",\"2018-05-07\",\"2018-05-08\",\"2018-05-09\",\"2018-05-10\",\"2018-05-11\",\"2018-05-12\",\"2018-05-13\",\"2018-05-14\",\"2018-05-15\",\"2018-05-16\",\"2018-05-17\",\"2018-05-18\",\"2018-05-19\",\"2018-05-20\",\"2018-05-21\",\"2018-05-22\",\"2018-05-23\",\"2018-05-24\",\"2018-05-25\",\"2018-05-26\",\"2018-05-27\",\"2018-05-28\",\"2018-05-29\",\"2018-05-30\",\"2018-05-31\",\"2018-06-01\",\"2018-06-02\",\"2018-06-03\",\"2018-06-04\",\"2018-06-05\",\"2018-06-06\",\"2018-06-07\",\"2018-06-08\",\"2018-06-09\",\"2018-06-10\",\"2018-06-11\",\"2018-06-12\",\"2018-06-13\",\"2018-06-14\",\"2018-06-15\",\"2018-06-16\",\"2018-06-17\",\"2018-06-18\",\"2018-06-19\",\"2018-06-20\",\"2018-06-21\",\"2018-06-22\",\"2018-06-23\",\"2018-06-24\",\"2018-06-25\",\"2018-06-26\",\"2018-06-27\",\"2018-06-28\",\"2018-06-29\",\"2018-06-30\",\"2018-07-01\",\"2018-07-02\",\"2018-07-03\",\"2018-07-04\",\"2018-07-05\",\"2018-07-06\",\"2018-07-07\",\"2018-07-08\",\"2018-07-09\",\"2018-07-10\",\"2018-07-11\",\"2018-07-12\",\"2018-07-13\",\"2018-07-14\",\"2018-07-15\",\"2018-07-16\",\"2018-07-17\",\"2018-07-18\",\"2018-07-19\",\"2018-07-20\",\"2018-07-21\",\"2018-07-22\",\"2018-07-23\",\"2018-07-24\",\"2018-07-25\",\"2018-07-26\",\"2018-07-27\",\"2018-07-28\",\"2018-07-29\",\"2018-07-30\",\"2018-07-31\",\"2018-08-01\",\"2018-08-02\",\"2018-08-03\",\"2018-08-04\",\"2018-08-05\",\"2018-08-06\",\"2018-08-07\",\"2018-08-08\",\"2018-08-09\",\"2018-08-10\",\"2018-08-11\",\"2018-08-12\",\"2018-08-13\",\"2018-08-14\",\"2018-08-15\",\"2018-08-16\",\"2018-08-17\",\"2018-08-18\",\"2018-08-19\",\"2018-08-20\",\"2018-08-21\",\"2018-08-22\",\"2018-08-23\",\"2018-08-24\",\"2018-08-25\",\"2018-08-26\",\"2018-08-27\"],\"index\":{\"__ndarray__\":\"AADAMk8vdkIAAICYoS92QgAAQP7zL3ZCAAAAZEYwdkIAAMDJmDB2QgAAgC/rMHZCAABAlT0xdkIAAAD7jzF2QgAAwGDiMXZCAACAxjQydkIAAEAshzJ2QgAAAJLZMnZCAADA9yszdkIAAIBdfjN2QgAAQMPQM3ZCAAAAKSM0dkIAAMCOdTR2QgAAgPTHNHZCAABAWho1dkIAAADAbDV2QgAAwCW/NXZCAACAixE2dkIAAEDxYzZ2QgAAAFe2NnZCAADAvAg3dkIAAIAiWzd2QgAAQIitN3ZCAAAA7v83dkIAAMBTUjh2QgAAgLmkOHZCAABAH/c4dkIAAACFSTl2QgAAwOqbOXZCAACAUO45dkIAAEC2QDp2QgAAAByTOnZCAADAgeU6dkIAAIDnNzt2QgAAQE2KO3ZCAAAAs9w7dkIAAMAYLzx2QgAAgH6BPHZCAABA5NM8dkIAAABKJj12QgAAwK94PXZCAACAFcs9dkIAAEB7HT52QgAAAOFvPnZCAADARsI+dkIAAICsFD92QgAAQBJnP3ZCAAAAeLk/dkIAAMDdC0B2QgAAgENeQHZCAABAqbBAdkIAAAAPA0F2QgAAwHRVQXZCAACA2qdBdkIAAEBA+kF2QgAAAKZMQnZCAADAC59CdkIAAIBx8UJ2QgAAQNdDQ3ZCAAAAPZZDdkIAAMCi6EN2QgAAgAg7RHZCAABAbo1EdkIAAADU30R2QgAAwDkyRXZCAACAn4RFdkIAAEAF10V2QgAAAGspRnZCAADA0HtGdkIAAIA2zkZ2QgAAQJwgR3ZCAAAAAnNHdkIAAMBnxUd2QgAAgM0XSHZCAABAM2pIdkIAAACZvEh2QgAAwP4OSXZCAACAZGFJdkIAAEDKs0l2QgAAADAGSnZCAADAlVhKdkIAAID7qkp2QgAAQGH9SnZCAAAAx09LdkIAAMAsokt2QgAAgJL0S3ZCAABA+EZMdkIAAABemUx2QgAAwMPrTHZCAACAKT5NdkIAAECPkE12QgAAAPXiTXZCAADAWjVOdkIAAIDAh052QgAAQCbaTnZCAAAAjCxPdkIAAMDxfk92QgAAgFfRT3ZCAABAvSNQdkIAAAAjdlB2QgAAwIjIUHZCAACA7hpRdkIAAEBUbVF2QgAAALq/UXZCAADAHxJSdkIAAICFZFJ2QgAAQOu2UnZCAAAAUQlTdkIAAMC2W1N2QgAAgByuU3ZCAABAggBUdkIAAADoUlR2QgAAwE2lVHZCAACAs/dUdkIAAEAZSlV2QgAAAH+cVXZCAADA5O5VdkIAAIBKQVZ2QgAAQLCTVnZCAAAAFuZWdkIAAMB7OFd2QgAAgOGKV3ZC\",\"dtype\":\"float64\",\"order\":\"little\",\"shape\":[126]},\"vals\":{\"__ndarray__\":\"iOdvJZk5AEBC5/hAVl/lP048EVcO7OY/jljA+uzmx7/q9Jho61nDP4yJ7L5fXOA/j+NKCDi1+D92mF9G2n/yv4N0QYO0cPU/LNqZXfTtO8DdxHJiy8flP63T3D3PHgdAoMa2AXNm1r/fHDcz39DgP07wvcO/m/S/kiJkj4g6E8CJqqQ7QWX+v/zr3QOnqgtAr7oBKJjECcBBg3/DP0bRPx3PWBPet5i/hR8fPawi8T+vN/xABe33v+12eXENtQ/AE5jRRm6r/78dvg9PcW/wPzGu7qQVde8/yKBcIM7n3b/srTOtcx7wv70sB8pMfARA0Ixp6o/eEkAUsE1XbfwHQB2sUXubYOi/OScnaxWW4z/uuc6NuyzUP+Khng7YodI/DkoOpDNYUUB4GwGjFwD2v/Sxw1ISfhjA+heAK+obA0CUZyLTrQL/P10ZMdBE198/UPUieUMC5j8uTEOdaH/xvzoVti2KMgFAbzV0dsJ36b+T2i6MTuzkv3GGRZrdEMG/6VBKuT974r80iDLQcKrxP64nLlNhsd4/KWAEtNBV4L/A+y/lja0AQBkUFutP1fo/SoxzjOUoy79sPxvqseA0QAJHf0sW3wBAlfkG3FXxPsBs9Ws1bfLkv/AiFLGcTf8/vLgcAQvz8r/Pt8eZ/uv6v78ac/osHApA58Y01+wK5L923cIa2ucFwEsCcceL2fS//5WD4zaY2D/c3lAX7Rv3vwUhZ+7XPhnAf1LJFwb+4D/H2fAZhXXvP2PCENrnVwNAAour+n0UBkD2X0/ypfocQH4O4ZU1Vus/Bygj4q2bpr/EjawvQZIBQDAj1sHlq+Q/wMmFzQfHmL8zExSssEbnP34X+ryjguS/PD8U9DPWC0CQpTxJUGTRP8yQAGi00/M/KjirQfNOE8CLeE4henzaP0l1KUsltO0/WJHsY3yoFcCXUOpiIPHWv18M9i8MgdK/QxISpC9mCcC/r1HKez0ywKrvb8GlKP4/TGGCcOdc6j8Xvr6OQxfsv87vYXp3Fua/eC8SXtiK6z8i3ZEMn8a9P3HdDiwOzPK/IAZ+Sfai979dvAOUdszyv+ZBM0OQSv0/i97thR0r0T/c8XURagPgP5YhD2Hw8d2/B+ejjQPC578WpRfbKHetv5j7inJQZek/+HH2x8zZ27/lmdekoLAQQHLlx4/uSyxARmbp4d5V7b8u3I9v37ITQBXn9xnXp7i/3b6dMDGHScAMGUcX71sewPlny7jcnxHABShmBTyN0r/V+QVUccPzv+OOAx00y86/rebfrmwtAUDG2owDuvz5v+6dU8vm6vm/dlvQkdRM7D/9abCQdDjfvyI8VzuSEt2/\",\"dtype\":\"float64\",\"order\":\"little\",\"shape\":[126]}},\"selected\":{\"id\":\"1059\"},\"selection_policy\":{\"id\":\"1060\"}},\"id\":\"1001\",\"type\":\"ColumnDataSource\"},{\"attributes\":{},\"id\":\"1021\",\"type\":\"WheelZoomTool\"},{\"attributes\":{\"base\":24,\"mantissas\":[1,2,4,6,8,12],\"max_interval\":43200000.0,\"min_interval\":3600000.0,\"num_minor_ticks\":0},\"id\":\"1049\",\"type\":\"AdaptiveTicker\"}],\"root_ids\":[\"1003\"]},\"title\":\"Bokeh Application\",\"version\":\"2.1.1\"}};\n",
              "  var render_items = [{\"docid\":\"afd130d0-6934-426f-a481-1bd2caf8cab8\",\"root_ids\":[\"1003\"],\"roots\":{\"1003\":\"cda42fc9-7afa-45dd-b436-85368f36d25f\"}}];\n",
              "  root.Bokeh.embed.embed_items_notebook(docs_json, render_items);\n",
              "\n",
              "  }\n",
              "  if (root.Bokeh !== undefined) {\n",
              "    embed_document(root);\n",
              "  } else {\n",
              "    var attempts = 0;\n",
              "    var timer = setInterval(function(root) {\n",
              "      if (root.Bokeh !== undefined) {\n",
              "        clearInterval(timer);\n",
              "        embed_document(root);\n",
              "      } else {\n",
              "        attempts++;\n",
              "        if (attempts > 100) {\n",
              "          clearInterval(timer);\n",
              "          console.log(\"Bokeh: ERROR: Unable to run BokehJS code because BokehJS library is missing\");\n",
              "        }\n",
              "      }\n",
              "    }, 10, root)\n",
              "  }\n",
              "})(window);"
            ],
            "application/vnd.bokehjs_exec.v0+json": ""
          },
          "metadata": {
            "tags": [],
            "application/vnd.bokehjs_exec.v0+json": {
              "id": "1003"
            }
          }
        }
      ]
    },
    {
      "cell_type": "markdown",
      "metadata": {
        "id": "do80zEzsil6O"
      },
      "source": [
        "When you mouse over a point, you should see something like the screenshot below.\n",
        "\n",
        "\n",
        "<img height=\"500\" src=\"\n",
        "https://github.com/probml/pyprobml/blob/master/book1/intro/figures/bokeh-timeseries.png?raw=true\">\n"
      ]
    },
    {
      "cell_type": "markdown",
      "metadata": {
        "id": "nHGH3o_R28G9"
      },
      "source": [
        "We can also make plots that can you pan and zoom into."
      ]
    },
    {
      "cell_type": "code",
      "metadata": {
        "id": "q1jy_cQl3AYc",
        "outputId": "ae8fc2f4-a7e5-48e9-f8f0-f9fd32331ded",
        "colab": {
          "base_uri": "https://localhost:8080/",
          "height": 616
        }
      },
      "source": [
        "N = 4000\n",
        "np.random.seed(0)\n",
        "x = np.random.random(size=N) * 100\n",
        "y = np.random.random(size=N) * 100\n",
        "radii = np.random.random(size=N) * 1.5\n",
        "colors = [\"#%02x%02x%02x\" % (r, g, 150) for r, g in zip(np.floor(50+2*x).astype(int), np.floor(30+2*y).astype(int))]\n",
        "\n",
        "p = figure()\n",
        "p.circle(x, y, radius=radii, fill_color=colors, fill_alpha=0.6, line_color=None)\n",
        "show(p)"
      ],
      "execution_count": 4,
      "outputs": [
        {
          "output_type": "display_data",
          "data": {
            "application/javascript": [
              "\n",
              "(function(root) {\n",
              "  function now() {\n",
              "    return new Date();\n",
              "  }\n",
              "\n",
              "  var force = true;\n",
              "\n",
              "  if (typeof root._bokeh_onload_callbacks === \"undefined\" || force === true) {\n",
              "    root._bokeh_onload_callbacks = [];\n",
              "    root._bokeh_is_loading = undefined;\n",
              "  }\n",
              "\n",
              "  var JS_MIME_TYPE = 'application/javascript';\n",
              "  var HTML_MIME_TYPE = 'text/html';\n",
              "  var EXEC_MIME_TYPE = 'application/vnd.bokehjs_exec.v0+json';\n",
              "  var CLASS_NAME = 'output_bokeh rendered_html';\n",
              "\n",
              "  /**\n",
              "   * Render data to the DOM node\n",
              "   */\n",
              "  function render(props, node) {\n",
              "    var script = document.createElement(\"script\");\n",
              "    node.appendChild(script);\n",
              "  }\n",
              "\n",
              "  /**\n",
              "   * Handle when an output is cleared or removed\n",
              "   */\n",
              "  function handleClearOutput(event, handle) {\n",
              "    var cell = handle.cell;\n",
              "\n",
              "    var id = cell.output_area._bokeh_element_id;\n",
              "    var server_id = cell.output_area._bokeh_server_id;\n",
              "    // Clean up Bokeh references\n",
              "    if (id != null && id in Bokeh.index) {\n",
              "      Bokeh.index[id].model.document.clear();\n",
              "      delete Bokeh.index[id];\n",
              "    }\n",
              "\n",
              "    if (server_id !== undefined) {\n",
              "      // Clean up Bokeh references\n",
              "      var cmd = \"from bokeh.io.state import curstate; print(curstate().uuid_to_server['\" + server_id + \"'].get_sessions()[0].document.roots[0]._id)\";\n",
              "      cell.notebook.kernel.execute(cmd, {\n",
              "        iopub: {\n",
              "          output: function(msg) {\n",
              "            var id = msg.content.text.trim();\n",
              "            if (id in Bokeh.index) {\n",
              "              Bokeh.index[id].model.document.clear();\n",
              "              delete Bokeh.index[id];\n",
              "            }\n",
              "          }\n",
              "        }\n",
              "      });\n",
              "      // Destroy server and session\n",
              "      var cmd = \"import bokeh.io.notebook as ion; ion.destroy_server('\" + server_id + \"')\";\n",
              "      cell.notebook.kernel.execute(cmd);\n",
              "    }\n",
              "  }\n",
              "\n",
              "  /**\n",
              "   * Handle when a new output is added\n",
              "   */\n",
              "  function handleAddOutput(event, handle) {\n",
              "    var output_area = handle.output_area;\n",
              "    var output = handle.output;\n",
              "\n",
              "    // limit handleAddOutput to display_data with EXEC_MIME_TYPE content only\n",
              "    if ((output.output_type != \"display_data\") || (!output.data.hasOwnProperty(EXEC_MIME_TYPE))) {\n",
              "      return\n",
              "    }\n",
              "\n",
              "    var toinsert = output_area.element.find(\".\" + CLASS_NAME.split(' ')[0]);\n",
              "\n",
              "    if (output.metadata[EXEC_MIME_TYPE][\"id\"] !== undefined) {\n",
              "      toinsert[toinsert.length - 1].firstChild.textContent = output.data[JS_MIME_TYPE];\n",
              "      // store reference to embed id on output_area\n",
              "      output_area._bokeh_element_id = output.metadata[EXEC_MIME_TYPE][\"id\"];\n",
              "    }\n",
              "    if (output.metadata[EXEC_MIME_TYPE][\"server_id\"] !== undefined) {\n",
              "      var bk_div = document.createElement(\"div\");\n",
              "      bk_div.innerHTML = output.data[HTML_MIME_TYPE];\n",
              "      var script_attrs = bk_div.children[0].attributes;\n",
              "      for (var i = 0; i < script_attrs.length; i++) {\n",
              "        toinsert[toinsert.length - 1].firstChild.setAttribute(script_attrs[i].name, script_attrs[i].value);\n",
              "        toinsert[toinsert.length - 1].firstChild.textContent = bk_div.children[0].textContent\n",
              "      }\n",
              "      // store reference to server id on output_area\n",
              "      output_area._bokeh_server_id = output.metadata[EXEC_MIME_TYPE][\"server_id\"];\n",
              "    }\n",
              "  }\n",
              "\n",
              "  function register_renderer(events, OutputArea) {\n",
              "\n",
              "    function append_mime(data, metadata, element) {\n",
              "      // create a DOM node to render to\n",
              "      var toinsert = this.create_output_subarea(\n",
              "        metadata,\n",
              "        CLASS_NAME,\n",
              "        EXEC_MIME_TYPE\n",
              "      );\n",
              "      this.keyboard_manager.register_events(toinsert);\n",
              "      // Render to node\n",
              "      var props = {data: data, metadata: metadata[EXEC_MIME_TYPE]};\n",
              "      render(props, toinsert[toinsert.length - 1]);\n",
              "      element.append(toinsert);\n",
              "      return toinsert\n",
              "    }\n",
              "\n",
              "    /* Handle when an output is cleared or removed */\n",
              "    events.on('clear_output.CodeCell', handleClearOutput);\n",
              "    events.on('delete.Cell', handleClearOutput);\n",
              "\n",
              "    /* Handle when a new output is added */\n",
              "    events.on('output_added.OutputArea', handleAddOutput);\n",
              "\n",
              "    /**\n",
              "     * Register the mime type and append_mime function with output_area\n",
              "     */\n",
              "    OutputArea.prototype.register_mime_type(EXEC_MIME_TYPE, append_mime, {\n",
              "      /* Is output safe? */\n",
              "      safe: true,\n",
              "      /* Index of renderer in `output_area.display_order` */\n",
              "      index: 0\n",
              "    });\n",
              "  }\n",
              "\n",
              "  // register the mime type if in Jupyter Notebook environment and previously unregistered\n",
              "  if (root.Jupyter !== undefined) {\n",
              "    var events = require('base/js/events');\n",
              "    var OutputArea = require('notebook/js/outputarea').OutputArea;\n",
              "\n",
              "    if (OutputArea.prototype.mime_types().indexOf(EXEC_MIME_TYPE) == -1) {\n",
              "      register_renderer(events, OutputArea);\n",
              "    }\n",
              "  }\n",
              "\n",
              "  \n",
              "  if (typeof (root._bokeh_timeout) === \"undefined\" || force === true) {\n",
              "    root._bokeh_timeout = Date.now() + 5000;\n",
              "    root._bokeh_failed_load = false;\n",
              "  }\n",
              "\n",
              "  var NB_LOAD_WARNING = {'data': {'text/html':\n",
              "     \"<div style='background-color: #fdd'>\\n\"+\n",
              "     \"<p>\\n\"+\n",
              "     \"BokehJS does not appear to have successfully loaded. If loading BokehJS from CDN, this \\n\"+\n",
              "     \"may be due to a slow or bad network connection. Possible fixes:\\n\"+\n",
              "     \"</p>\\n\"+\n",
              "     \"<ul>\\n\"+\n",
              "     \"<li>re-rerun `output_notebook()` to attempt to load from CDN again, or</li>\\n\"+\n",
              "     \"<li>use INLINE resources instead, as so:</li>\\n\"+\n",
              "     \"</ul>\\n\"+\n",
              "     \"<code>\\n\"+\n",
              "     \"from bokeh.resources import INLINE\\n\"+\n",
              "     \"output_notebook(resources=INLINE)\\n\"+\n",
              "     \"</code>\\n\"+\n",
              "     \"</div>\"}};\n",
              "\n",
              "  function display_loaded() {\n",
              "    var el = document.getElementById(null);\n",
              "    if (el != null) {\n",
              "      el.textContent = \"BokehJS is loading...\";\n",
              "    }\n",
              "    if (root.Bokeh !== undefined) {\n",
              "      if (el != null) {\n",
              "        el.textContent = \"BokehJS \" + root.Bokeh.version + \" successfully loaded.\";\n",
              "      }\n",
              "    } else if (Date.now() < root._bokeh_timeout) {\n",
              "      setTimeout(display_loaded, 100)\n",
              "    }\n",
              "  }\n",
              "\n",
              "\n",
              "  function run_callbacks() {\n",
              "    try {\n",
              "      root._bokeh_onload_callbacks.forEach(function(callback) {\n",
              "        if (callback != null)\n",
              "          callback();\n",
              "      });\n",
              "    } finally {\n",
              "      delete root._bokeh_onload_callbacks\n",
              "    }\n",
              "    console.debug(\"Bokeh: all callbacks have finished\");\n",
              "  }\n",
              "\n",
              "  function load_libs(css_urls, js_urls, callback) {\n",
              "    if (css_urls == null) css_urls = [];\n",
              "    if (js_urls == null) js_urls = [];\n",
              "\n",
              "    root._bokeh_onload_callbacks.push(callback);\n",
              "    if (root._bokeh_is_loading > 0) {\n",
              "      console.debug(\"Bokeh: BokehJS is being loaded, scheduling callback at\", now());\n",
              "      return null;\n",
              "    }\n",
              "    if (js_urls == null || js_urls.length === 0) {\n",
              "      run_callbacks();\n",
              "      return null;\n",
              "    }\n",
              "    console.debug(\"Bokeh: BokehJS not loaded, scheduling load and callback at\", now());\n",
              "    root._bokeh_is_loading = css_urls.length + js_urls.length;\n",
              "\n",
              "    function on_load() {\n",
              "      root._bokeh_is_loading--;\n",
              "      if (root._bokeh_is_loading === 0) {\n",
              "        console.debug(\"Bokeh: all BokehJS libraries/stylesheets loaded\");\n",
              "        run_callbacks()\n",
              "      }\n",
              "    }\n",
              "\n",
              "    function on_error() {\n",
              "      console.error(\"failed to load \" + url);\n",
              "    }\n",
              "\n",
              "    for (var i = 0; i < css_urls.length; i++) {\n",
              "      var url = css_urls[i];\n",
              "      const element = document.createElement(\"link\");\n",
              "      element.onload = on_load;\n",
              "      element.onerror = on_error;\n",
              "      element.rel = \"stylesheet\";\n",
              "      element.type = \"text/css\";\n",
              "      element.href = url;\n",
              "      console.debug(\"Bokeh: injecting link tag for BokehJS stylesheet: \", url);\n",
              "      document.body.appendChild(element);\n",
              "    }\n",
              "\n",
              "    const hashes = {\"https://cdn.bokeh.org/bokeh/release/bokeh-2.1.1.min.js\": \"kLr4fYcqcSpbuI95brIH3vnnYCquzzSxHPU6XGQCIkQRGJwhg0StNbj1eegrHs12\", \"https://cdn.bokeh.org/bokeh/release/bokeh-widgets-2.1.1.min.js\": \"xIGPmVtaOm+z0BqfSOMn4lOR6ciex448GIKG4eE61LsAvmGj48XcMQZtKcE/UXZe\", \"https://cdn.bokeh.org/bokeh/release/bokeh-tables-2.1.1.min.js\": \"Dc9u1wF/0zApGIWoBbH77iWEHtdmkuYWG839Uzmv8y8yBLXebjO9ZnERsde5Ln/P\", \"https://cdn.bokeh.org/bokeh/release/bokeh-gl-2.1.1.min.js\": \"cT9JaBz7GiRXdENrJLZNSC6eMNF3nh3fa5fTF51Svp+ukxPdwcU5kGXGPBgDCa2j\"};\n",
              "\n",
              "    for (var i = 0; i < js_urls.length; i++) {\n",
              "      var url = js_urls[i];\n",
              "      var element = document.createElement('script');\n",
              "      element.onload = on_load;\n",
              "      element.onerror = on_error;\n",
              "      element.async = false;\n",
              "      element.src = url;\n",
              "      if (url in hashes) {\n",
              "        element.crossOrigin = \"anonymous\";\n",
              "        element.integrity = \"sha384-\" + hashes[url];\n",
              "      }\n",
              "      console.debug(\"Bokeh: injecting script tag for BokehJS library: \", url);\n",
              "      document.head.appendChild(element);\n",
              "    }\n",
              "  };\n",
              "\n",
              "  function inject_raw_css(css) {\n",
              "    const element = document.createElement(\"style\");\n",
              "    element.appendChild(document.createTextNode(css));\n",
              "    document.body.appendChild(element);\n",
              "  }\n",
              "\n",
              "  \n",
              "  var js_urls = [\"https://cdn.bokeh.org/bokeh/release/bokeh-2.1.1.min.js\", \"https://cdn.bokeh.org/bokeh/release/bokeh-widgets-2.1.1.min.js\", \"https://cdn.bokeh.org/bokeh/release/bokeh-tables-2.1.1.min.js\", \"https://cdn.bokeh.org/bokeh/release/bokeh-gl-2.1.1.min.js\"];\n",
              "  var css_urls = [];\n",
              "  \n",
              "\n",
              "  var inline_js = [\n",
              "    function(Bokeh) {\n",
              "      Bokeh.set_log_level(\"info\");\n",
              "    },\n",
              "    function(Bokeh) {\n",
              "    \n",
              "    \n",
              "    }\n",
              "  ];\n",
              "\n",
              "  function run_inline_js() {\n",
              "    \n",
              "    if (root.Bokeh !== undefined || force === true) {\n",
              "      \n",
              "    for (var i = 0; i < inline_js.length; i++) {\n",
              "      inline_js[i].call(root, root.Bokeh);\n",
              "    }\n",
              "    } else if (Date.now() < root._bokeh_timeout) {\n",
              "      setTimeout(run_inline_js, 100);\n",
              "    } else if (!root._bokeh_failed_load) {\n",
              "      console.log(\"Bokeh: BokehJS failed to load within specified timeout.\");\n",
              "      root._bokeh_failed_load = true;\n",
              "    } else if (force !== true) {\n",
              "      var cell = $(document.getElementById(null)).parents('.cell').data().cell;\n",
              "      cell.output_area.append_execute_result(NB_LOAD_WARNING)\n",
              "    }\n",
              "\n",
              "  }\n",
              "\n",
              "  if (root._bokeh_is_loading === 0) {\n",
              "    console.debug(\"Bokeh: BokehJS loaded, going straight to plotting\");\n",
              "    run_inline_js();\n",
              "  } else {\n",
              "    load_libs(css_urls, js_urls, function() {\n",
              "      console.debug(\"Bokeh: BokehJS plotting callback run at\", now());\n",
              "      run_inline_js();\n",
              "    });\n",
              "  }\n",
              "}(window));"
            ],
            "application/vnd.bokehjs_load.v0+json": "\n(function(root) {\n  function now() {\n    return new Date();\n  }\n\n  var force = true;\n\n  if (typeof root._bokeh_onload_callbacks === \"undefined\" || force === true) {\n    root._bokeh_onload_callbacks = [];\n    root._bokeh_is_loading = undefined;\n  }\n\n  \n\n  \n  if (typeof (root._bokeh_timeout) === \"undefined\" || force === true) {\n    root._bokeh_timeout = Date.now() + 5000;\n    root._bokeh_failed_load = false;\n  }\n\n  var NB_LOAD_WARNING = {'data': {'text/html':\n     \"<div style='background-color: #fdd'>\\n\"+\n     \"<p>\\n\"+\n     \"BokehJS does not appear to have successfully loaded. If loading BokehJS from CDN, this \\n\"+\n     \"may be due to a slow or bad network connection. Possible fixes:\\n\"+\n     \"</p>\\n\"+\n     \"<ul>\\n\"+\n     \"<li>re-rerun `output_notebook()` to attempt to load from CDN again, or</li>\\n\"+\n     \"<li>use INLINE resources instead, as so:</li>\\n\"+\n     \"</ul>\\n\"+\n     \"<code>\\n\"+\n     \"from bokeh.resources import INLINE\\n\"+\n     \"output_notebook(resources=INLINE)\\n\"+\n     \"</code>\\n\"+\n     \"</div>\"}};\n\n  function display_loaded() {\n    var el = document.getElementById(null);\n    if (el != null) {\n      el.textContent = \"BokehJS is loading...\";\n    }\n    if (root.Bokeh !== undefined) {\n      if (el != null) {\n        el.textContent = \"BokehJS \" + root.Bokeh.version + \" successfully loaded.\";\n      }\n    } else if (Date.now() < root._bokeh_timeout) {\n      setTimeout(display_loaded, 100)\n    }\n  }\n\n\n  function run_callbacks() {\n    try {\n      root._bokeh_onload_callbacks.forEach(function(callback) {\n        if (callback != null)\n          callback();\n      });\n    } finally {\n      delete root._bokeh_onload_callbacks\n    }\n    console.debug(\"Bokeh: all callbacks have finished\");\n  }\n\n  function load_libs(css_urls, js_urls, callback) {\n    if (css_urls == null) css_urls = [];\n    if (js_urls == null) js_urls = [];\n\n    root._bokeh_onload_callbacks.push(callback);\n    if (root._bokeh_is_loading > 0) {\n      console.debug(\"Bokeh: BokehJS is being loaded, scheduling callback at\", now());\n      return null;\n    }\n    if (js_urls == null || js_urls.length === 0) {\n      run_callbacks();\n      return null;\n    }\n    console.debug(\"Bokeh: BokehJS not loaded, scheduling load and callback at\", now());\n    root._bokeh_is_loading = css_urls.length + js_urls.length;\n\n    function on_load() {\n      root._bokeh_is_loading--;\n      if (root._bokeh_is_loading === 0) {\n        console.debug(\"Bokeh: all BokehJS libraries/stylesheets loaded\");\n        run_callbacks()\n      }\n    }\n\n    function on_error() {\n      console.error(\"failed to load \" + url);\n    }\n\n    for (var i = 0; i < css_urls.length; i++) {\n      var url = css_urls[i];\n      const element = document.createElement(\"link\");\n      element.onload = on_load;\n      element.onerror = on_error;\n      element.rel = \"stylesheet\";\n      element.type = \"text/css\";\n      element.href = url;\n      console.debug(\"Bokeh: injecting link tag for BokehJS stylesheet: \", url);\n      document.body.appendChild(element);\n    }\n\n    const hashes = {\"https://cdn.bokeh.org/bokeh/release/bokeh-2.1.1.min.js\": \"kLr4fYcqcSpbuI95brIH3vnnYCquzzSxHPU6XGQCIkQRGJwhg0StNbj1eegrHs12\", \"https://cdn.bokeh.org/bokeh/release/bokeh-widgets-2.1.1.min.js\": \"xIGPmVtaOm+z0BqfSOMn4lOR6ciex448GIKG4eE61LsAvmGj48XcMQZtKcE/UXZe\", \"https://cdn.bokeh.org/bokeh/release/bokeh-tables-2.1.1.min.js\": \"Dc9u1wF/0zApGIWoBbH77iWEHtdmkuYWG839Uzmv8y8yBLXebjO9ZnERsde5Ln/P\", \"https://cdn.bokeh.org/bokeh/release/bokeh-gl-2.1.1.min.js\": \"cT9JaBz7GiRXdENrJLZNSC6eMNF3nh3fa5fTF51Svp+ukxPdwcU5kGXGPBgDCa2j\"};\n\n    for (var i = 0; i < js_urls.length; i++) {\n      var url = js_urls[i];\n      var element = document.createElement('script');\n      element.onload = on_load;\n      element.onerror = on_error;\n      element.async = false;\n      element.src = url;\n      if (url in hashes) {\n        element.crossOrigin = \"anonymous\";\n        element.integrity = \"sha384-\" + hashes[url];\n      }\n      console.debug(\"Bokeh: injecting script tag for BokehJS library: \", url);\n      document.head.appendChild(element);\n    }\n  };\n\n  function inject_raw_css(css) {\n    const element = document.createElement(\"style\");\n    element.appendChild(document.createTextNode(css));\n    document.body.appendChild(element);\n  }\n\n  \n  var js_urls = [\"https://cdn.bokeh.org/bokeh/release/bokeh-2.1.1.min.js\", \"https://cdn.bokeh.org/bokeh/release/bokeh-widgets-2.1.1.min.js\", \"https://cdn.bokeh.org/bokeh/release/bokeh-tables-2.1.1.min.js\", \"https://cdn.bokeh.org/bokeh/release/bokeh-gl-2.1.1.min.js\"];\n  var css_urls = [];\n  \n\n  var inline_js = [\n    function(Bokeh) {\n      Bokeh.set_log_level(\"info\");\n    },\n    function(Bokeh) {\n    \n    \n    }\n  ];\n\n  function run_inline_js() {\n    \n    if (root.Bokeh !== undefined || force === true) {\n      \n    for (var i = 0; i < inline_js.length; i++) {\n      inline_js[i].call(root, root.Bokeh);\n    }\n    } else if (Date.now() < root._bokeh_timeout) {\n      setTimeout(run_inline_js, 100);\n    } else if (!root._bokeh_failed_load) {\n      console.log(\"Bokeh: BokehJS failed to load within specified timeout.\");\n      root._bokeh_failed_load = true;\n    } else if (force !== true) {\n      var cell = $(document.getElementById(null)).parents('.cell').data().cell;\n      cell.output_area.append_execute_result(NB_LOAD_WARNING)\n    }\n\n  }\n\n  if (root._bokeh_is_loading === 0) {\n    console.debug(\"Bokeh: BokehJS loaded, going straight to plotting\");\n    run_inline_js();\n  } else {\n    load_libs(css_urls, js_urls, function() {\n      console.debug(\"Bokeh: BokehJS plotting callback run at\", now());\n      run_inline_js();\n    });\n  }\n}(window));"
          },
          "metadata": {
            "tags": []
          }
        },
        {
          "output_type": "display_data",
          "data": {
            "text/html": [
              "\n",
              "\n",
              "\n",
              "\n",
              "\n",
              "\n",
              "  <div class=\"bk-root\" id=\"6d84e490-f911-435d-9016-a132650e7717\" data-root-id=\"1001\"></div>\n"
            ]
          },
          "metadata": {
            "tags": []
          }
        },
        {
          "output_type": "display_data",
          "data": {
            "application/javascript": [
              "(function(root) {\n",
              "  function embed_document(root) {\n",
              "    \n",
              "  var docs_json = {\"b358b63c-5ed4-4f26-aea0-0203364ce482\":{\"roots\":{\"references\":[{\"attributes\":{\"below\":[{\"id\":\"1010\"}],\"center\":[{\"id\":\"1013\"},{\"id\":\"1017\"}],\"left\":[{\"id\":\"1014\"}],\"renderers\":[{\"id\":\"1035\"}],\"title\":{\"id\":\"1038\"},\"toolbar\":{\"id\":\"1025\"},\"x_range\":{\"id\":\"1002\"},\"x_scale\":{\"id\":\"1006\"},\"y_range\":{\"id\":\"1004\"},\"y_scale\":{\"id\":\"1008\"}},\"id\":\"1001\",\"subtype\":\"Figure\",\"type\":\"Plot\"},{\"attributes\":{},\"id\":\"1006\",\"type\":\"LinearScale\"},{\"attributes\":{},\"id\":\"1042\",\"type\":\"BasicTickFormatter\"},{\"attributes\":{\"fill_alpha\":{\"value\":0.1},\"fill_color\":{\"field\":\"fill_color\"},\"line_alpha\":{\"value\":0.1},\"line_color\":{\"value\":null},\"radius\":{\"field\":\"radius\",\"units\":\"data\"},\"x\":{\"field\":\"x\"},\"y\":{\"field\":\"y\"}},\"id\":\"1034\",\"type\":\"Circle\"},{\"attributes\":{},\"id\":\"1008\",\"type\":\"LinearScale\"},{\"attributes\":{},\"id\":\"1040\",\"type\":\"BasicTickFormatter\"},{\"attributes\":{\"formatter\":{\"id\":\"1042\"},\"ticker\":{\"id\":\"1011\"}},\"id\":\"1010\",\"type\":\"LinearAxis\"},{\"attributes\":{\"bottom_units\":\"screen\",\"fill_alpha\":0.5,\"fill_color\":\"lightgrey\",\"left_units\":\"screen\",\"level\":\"overlay\",\"line_alpha\":1.0,\"line_color\":\"black\",\"line_dash\":[4,4],\"line_width\":2,\"right_units\":\"screen\",\"top_units\":\"screen\"},\"id\":\"1024\",\"type\":\"BoxAnnotation\"},{\"attributes\":{},\"id\":\"1011\",\"type\":\"BasicTicker\"},{\"attributes\":{\"axis\":{\"id\":\"1010\"},\"ticker\":null},\"id\":\"1013\",\"type\":\"Grid\"},{\"attributes\":{\"formatter\":{\"id\":\"1040\"},\"ticker\":{\"id\":\"1015\"}},\"id\":\"1014\",\"type\":\"LinearAxis\"},{\"attributes\":{},\"id\":\"1019\",\"type\":\"WheelZoomTool\"},{\"attributes\":{},\"id\":\"1015\",\"type\":\"BasicTicker\"},{\"attributes\":{\"source\":{\"id\":\"1032\"}},\"id\":\"1036\",\"type\":\"CDSView\"},{\"attributes\":{\"axis\":{\"id\":\"1014\"},\"dimension\":1,\"ticker\":null},\"id\":\"1017\",\"type\":\"Grid\"},{\"attributes\":{},\"id\":\"1044\",\"type\":\"UnionRenderers\"},{\"attributes\":{},\"id\":\"1045\",\"type\":\"Selection\"},{\"attributes\":{},\"id\":\"1018\",\"type\":\"PanTool\"},{\"attributes\":{\"data_source\":{\"id\":\"1032\"},\"glyph\":{\"id\":\"1033\"},\"hover_glyph\":null,\"muted_glyph\":null,\"nonselection_glyph\":{\"id\":\"1034\"},\"selection_glyph\":null,\"view\":{\"id\":\"1036\"}},\"id\":\"1035\",\"type\":\"GlyphRenderer\"},{\"attributes\":{\"overlay\":{\"id\":\"1024\"}},\"id\":\"1020\",\"type\":\"BoxZoomTool\"},{\"attributes\":{},\"id\":\"1021\",\"type\":\"SaveTool\"},{\"attributes\":{\"data\":{\"fill_color\":[\"#9f5896\",\"#c18f96\",\"#aa3996\",\"#9e6396\",\"#862896\",\"#b36996\",\"#893496\",\"#e48e96\",\"#f29e96\",\"#7ee396\",\"#d04596\",\"#9b4796\",\"#a3db96\",\"#ebca96\",\"#409996\",\"#43c696\",\"#364796\",\"#d8cc96\",\"#cdcb96\",\"#e04f96\",\"#f58396\",\"#d1d796\",\"#8ea596\",\"#cea296\",\"#498d96\",\"#b15396\",\"#4ee196\",\"#ee7796\",\"#9a5c96\",\"#84af96\",\"#669796\",\"#cc6296\",\"#8d5a96\",\"#a34896\",\"#352d96\",\"#ad9b96\",\"#ac8396\",\"#ad4c96\",\"#ee2996\",\"#ba2196\",\"#79b196\",\"#894396\",\"#bd5396\",\"#3e2096\",\"#b73c96\",\"#b8cc96\",\"#5c4e96\",\"#4bdc96\",\"#713e96\",\"#7a5096\",\"#a4cb96\",\"#897396\",\"#f75396\",\"#46a896\",\"#5b2896\",\"#52d096\",\"#b4c696\",\"#642f96\",\"#8fbd96\",\"#62de96\",\"#518096\",\"#488f96\",\"#b5a596\",\"#4d5396\",\"#599f96\",\"#7b7c96\",\"#d66f96\",\"#45d296\",\"#d9bd96\",\"#45d896\",\"#f5c596\",\"#8f2696\",\"#f59796\",\"#aaa996\",\"#c5a296\",\"#395496\",\"#6a7396\",\"#4a2596\",\"#6d3096\",\"#498e96\",\"#719296\",\"#844696\",\"#3e7796\",\"#bc7c96\",\"#a32096\",\"#673a96\",\"#9a9a96\",\"#44e496\",\"#a5a096\",\"#eb3696\",\"#71c296\",\"#b77496\",\"#4c2e96\",\"#c19596\",\"#6b4b96\",\"#567196\",\"#a75d96\",\"#369e96\",\"#d77496\",\"#323296\",\"#b94996\",\"#688296\",\"#c5bb96\",\"#f21f96\",\"#639896\",\"#a53596\",\"#a89696\",\"#a4c596\",\"#5e4b96\",\"#f08196\",\"#8bb896\",\"#db4196\",\"#bd3c96\",\"#6dd396\",\"#d4a896\",\"#81b196\",\"#e2c696\",\"#a68996\",\"#e27f96\",\"#bc8d96\",\"#c3ad96\",\"#966c96\",\"#f13196\",\"#b23996\",\"#86e096\",\"#ab2896\",\"#35ac96\",\"#6eda96\",\"#b63796\",\"#6cae96\",\"#ad5a96\",\"#874d96\",\"#4dc896\",\"#6dd396\",\"#a36396\",\"#a89c96\",\"#a44196\",\"#b4bb96\",\"#b4ce96\",\"#885d96\",\"#e5a096\",\"#7bcd96\",\"#892196\",\"#e4c996\",\"#d39096\",\"#be7096\",\"#468696\",\"#e9c296\",\"#c0ae96\",\"#f98296\",\"#4f7f96\",\"#dfd196\",\"#524c96\",\"#ad3196\",\"#4aa596\",\"#dbaa96\",\"#d38f96\",\"#a35296\",\"#835996\",\"#3f9996\",\"#bd5496\",\"#8c8196\",\"#c26096\",\"#df8496\",\"#f54b96\",\"#dd4596\",\"#34b096\",\"#796b96\",\"#c34c96\",\"#54c996\",\"#9a6e96\",\"#3c3596\",\"#59ab96\",\"#355596\",\"#d08f96\",\"#5e9a96\",\"#77de96\",\"#eb4496\",\"#be5696\",\"#38d896\",\"#52ad96\",\"#ae7796\",\"#a5b096\",\"#617096\",\"#ec7096\",\"#ac3d96\",\"#9d8696\",\"#a75296\",\"#c49c96\",\"#706d96\",\"#81c896\",\"#5bb896\",\"#573b96\",\"#ee9496\",\"#c5ac96\",\"#948496\",\"#5f3496\",\"#648296\",\"#3d7496\",\"#885f96\",\"#709296\",\"#bd5e96\",\"#7d4d96\",\"#55b196\",\"#364896\",\"#3fbf96\",\"#b9e196\",\"#8c7696\",\"#9dc096\",\"#e53f96\",\"#f8bd96\",\"#5dde96\",\"#b68596\",\"#665196\",\"#363e96\",\"#c9d596\",\"#725e96\",\"#7e8196\",\"#a77496\",\"#d87596\",\"#afb796\",\"#e0d996\",\"#689d96\",\"#d1dd96\",\"#574496\",\"#f08e96\",\"#bba796\",\"#5dac96\",\"#efb596\",\"#c46096\",\"#64ce96\",\"#5c3896\",\"#995596\",\"#377b96\",\"#5b9496\",\"#865996\",\"#7cd396\",\"#8e7896\",\"#693296\",\"#a7c196\",\"#dedf96\",\"#496396\",\"#998c96\",\"#4c9296\",\"#c1be96\",\"#813c96\",\"#a3c696\",\"#56ae96\",\"#4e2496\",\"#938f96\",\"#792396\",\"#ee8196\",\"#cb9596\",\"#c79c96\",\"#e6d796\",\"#425996\",\"#a0c696\",\"#a67896\",\"#f2a396\",\"#6cbf96\",\"#62ae96\",\"#46bd96\",\"#359d96\",\"#ebbe96\",\"#b7d396\",\"#cfd296\",\"#6a5f96\",\"#a7e096\",\"#3e2996\",\"#939996\",\"#f58196\",\"#e14c96\",\"#758996\",\"#f22b96\",\"#608c96\",\"#efc896\",\"#ee3a96\",\"#d15f96\",\"#b09c96\",\"#e06596\",\"#6c7196\",\"#db6196\",\"#ad7e96\",\"#346896\",\"#773a96\",\"#4f4596\",\"#f62d96\",\"#917b96\",\"#95c796\",\"#b13096\",\"#7ba196\",\"#4d7296\",\"#d6cc96\",\"#576696\",\"#98a896\",\"#5e6d96\",\"#458a96\",\"#deb896\",\"#f4df96\",\"#f23896\",\"#e78796\",\"#cc3896\",\"#742496\",\"#42b396\",\"#83e296\",\"#609596\",\"#4c2c96\",\"#3c2a96\",\"#c35c96\",\"#346a96\",\"#cc1e96\",\"#4fc696\",\"#417b96\",\"#43e596\",\"#b8ce96\",\"#638296\",\"#869b96\",\"#a15c96\",\"#de5a96\",\"#c33896\",\"#688b96\",\"#4c2e96\",\"#3d7796\",\"#6e5e96\",\"#66bc96\",\"#8d6a96\",\"#bad296\",\"#bd4396\",\"#6ad896\",\"#7d9496\",\"#563696\",\"#cf8296\",\"#3d5396\",\"#bdb396\",\"#cda096\",\"#cd2a96\",\"#657196\",\"#7ccf96\",\"#a76f96\",\"#68b296\",\"#7c3496\",\"#59cb96\",\"#8d8296\",\"#3adb96\",\"#d18996\",\"#41b796\",\"#99e096\",\"#6faf96\",\"#a59196\",\"#f16796\",\"#b32696\",\"#397496\",\"#887096\",\"#98c296\",\"#9d4396\",\"#bab296\",\"#692596\",\"#4bcf96\",\"#80a396\",\"#f17296\",\"#575396\",\"#e64296\",\"#9e9396\",\"#8d7096\",\"#e2b296\",\"#8dd396\",\"#c25996\",\"#819f96\",\"#e67296\",\"#bc2696\",\"#bd9996\",\"#736696\",\"#c92096\",\"#b17c96\",\"#623096\",\"#529b96\",\"#d18796\",\"#f18296\",\"#8dd996\",\"#a8ce96\",\"#ddac96\",\"#8d9196\",\"#f05096\",\"#a51f96\",\"#d63596\",\"#e75e96\",\"#d54596\",\"#519096\",\"#af8896\",\"#816b96\",\"#3ebe96\",\"#86b096\",\"#65a796\",\"#db8296\",\"#382696\",\"#f17396\",\"#798196\",\"#797796\",\"#351e96\",\"#57a096\",\"#825196\",\"#eb2696\",\"#458296\",\"#efd696\",\"#df2396\",\"#8c2096\",\"#739396\",\"#608a96\",\"#ac2196\",\"#383296\",\"#35c596\",\"#877896\",\"#3f3696\",\"#643d96\",\"#5e9896\",\"#645f96\",\"#4c2396\",\"#349d96\",\"#492496\",\"#ad3496\",\"#f43d96\",\"#f83a96\",\"#83b696\",\"#523096\",\"#b13b96\",\"#947796\",\"#f73a96\",\"#3fb396\",\"#ce7f96\",\"#6bcd96\",\"#622596\",\"#b6c996\",\"#633c96\",\"#b7d796\",\"#995f96\",\"#868496\",\"#a02296\",\"#6baf96\",\"#bf4896\",\"#84d596\",\"#7aa296\",\"#d75696\",\"#ea5296\",\"#3b4096\",\"#60be96\",\"#777596\",\"#d45596\",\"#f7dc96\",\"#f3be96\",\"#e69396\",\"#6dbe96\",\"#f83696\",\"#63a496\",\"#475e96\",\"#f0a796\",\"#60de96\",\"#bbba96\",\"#3d8f96\",\"#c4b396\",\"#e27b96\",\"#685596\",\"#7d2696\",\"#7ca596\",\"#c73a96\",\"#617996\",\"#54a396\",\"#8bd096\",\"#6e9796\",\"#d94996\",\"#617c96\",\"#96a396\",\"#ee4596\",\"#b0b096\",\"#dfb696\",\"#ee8696\",\"#c8c996\",\"#bd4a96\",\"#f38996\",\"#f8d096\",\"#8caa96\",\"#40bf96\",\"#6c4a96\",\"#509096\",\"#855e96\",\"#4ca196\",\"#aa8696\",\"#7e9b96\",\"#e59996\",\"#f3b196\",\"#9fbd96\",\"#682a96\",\"#a8db96\",\"#e56f96\",\"#834096\",\"#a0d696\",\"#68ba96\",\"#8d7296\",\"#829596\",\"#634b96\",\"#977096\",\"#706e96\",\"#7cb496\",\"#9a7496\",\"#c8b496\",\"#74bc96\",\"#ea6b96\",\"#de7696\",\"#3b8696\",\"#641e96\",\"#8b4596\",\"#46c796\",\"#77b696\",\"#c62d96\",\"#ba9c96\",\"#ae2296\",\"#c08896\",\"#5a3e96\",\"#76c896\",\"#b99896\",\"#e12a96\",\"#9e9e96\",\"#6ad096\",\"#38b096\",\"#c03596\",\"#33a396\",\"#7c9896\",\"#9c9c96\",\"#eabd96\",\"#435a96\",\"#836596\",\"#364696\",\"#767996\",\"#ae6f96\",\"#692e96\",\"#5b4e96\",\"#493596\",\"#a58c96\",\"#bd4396\",\"#b85f96\",\"#efc196\",\"#329096\",\"#b38596\",\"#aada96\",\"#a77596\",\"#f2ce96\",\"#359196\",\"#bd6f96\",\"#d46396\",\"#97d296\",\"#748f96\",\"#d05096\",\"#458596\",\"#8a4f96\",\"#994e96\",\"#bc3796\",\"#44a796\",\"#5fba96\",\"#845e96\",\"#ae6f96\",\"#e3bc96\",\"#ad2196\",\"#4c6096\",\"#f65b96\",\"#e08a96\",\"#96d096\",\"#ea2696\",\"#9ec696\",\"#ea8d96\",\"#d79396\",\"#f3dd96\",\"#e93796\",\"#395596\",\"#544c96\",\"#7f7b96\",\"#f09196\",\"#6eaf96\",\"#522896\",\"#e37396\",\"#8bd696\",\"#e77a96\",\"#52c196\",\"#b63496\",\"#8a5796\",\"#41b196\",\"#bd9a96\",\"#637696\",\"#39a396\",\"#3db896\",\"#3ed196\",\"#e77696\",\"#c59e96\",\"#e56a96\",\"#b8d796\",\"#9b7e96\",\"#6e7096\",\"#f9d996\",\"#7a1e96\",\"#906096\",\"#7dc596\",\"#f57896\",\"#546396\",\"#739396\",\"#ba6e96\",\"#3e5f96\",\"#ab5396\",\"#915c96\",\"#6ad696\",\"#61dd96\",\"#983196\",\"#7bb196\",\"#8da196\",\"#759c96\",\"#f42496\",\"#4c5496\",\"#45b396\",\"#768196\",\"#a82296\",\"#b58796\",\"#81c796\",\"#f9cd96\",\"#78d196\",\"#c28796\",\"#b17b96\",\"#d44e96\",\"#f5cb96\",\"#e3bd96\",\"#caca96\",\"#bd4b96\",\"#753196\",\"#4fa996\",\"#3ed496\",\"#62d596\",\"#888796\",\"#9a9e96\",\"#cc3496\",\"#f15596\",\"#498996\",\"#47ce96\",\"#a77e96\",\"#c79496\",\"#db2996\",\"#edde96\",\"#f68096\",\"#813e96\",\"#7e6196\",\"#4f8496\",\"#ba3996\",\"#b54596\",\"#ded596\",\"#45cc96\",\"#953696\",\"#a65596\",\"#629d96\",\"#535196\",\"#dd1e96\",\"#3daa96\",\"#904496\",\"#495e96\",\"#8d5696\",\"#f53c96\",\"#863996\",\"#dd3a96\",\"#49df96\",\"#68af96\",\"#82da96\",\"#819096\",\"#b86096\",\"#763e96\",\"#c07e96\",\"#b18096\",\"#81b996\",\"#888796\",\"#ac4496\",\"#40c096\",\"#d63b96\",\"#b48796\",\"#c32696\",\"#9d6796\",\"#48a496\",\"#833996\",\"#838696\",\"#728996\",\"#37d396\",\"#c57b96\",\"#472d96\",\"#ab3b96\",\"#be5596\",\"#b0bd96\",\"#f15196\",\"#469796\",\"#df2d96\",\"#374696\",\"#9c9996\",\"#823196\",\"#9aad96\",\"#7b7796\",\"#585596\",\"#35cc96\",\"#99a496\",\"#da2a96\",\"#7ca496\",\"#5e4596\",\"#42d696\",\"#433c96\",\"#5e9996\",\"#464e96\",\"#67da96\",\"#3f5e96\",\"#3f9396\",\"#dd3796\",\"#527d96\",\"#a19796\",\"#ccb896\",\"#8d8d96\",\"#50aa96\",\"#59c996\",\"#885996\",\"#9b6296\",\"#772396\",\"#ce8c96\",\"#c8e096\",\"#ebb196\",\"#37e496\",\"#e57896\",\"#80b396\",\"#e13e96\",\"#bc7296\",\"#f79e96\",\"#c97896\",\"#7a2396\",\"#965d96\",\"#7da596\",\"#7a6d96\",\"#667796\",\"#95c996\",\"#ba5396\",\"#699996\",\"#9ac796\",\"#49bf96\",\"#514d96\",\"#3b2896\",\"#f45596\",\"#324196\",\"#552396\",\"#ac5a96\",\"#428696\",\"#e2a096\",\"#c16996\",\"#f34696\",\"#978f96\",\"#6eb496\",\"#9fa896\",\"#ecc996\",\"#9a5296\",\"#678296\",\"#e17f96\",\"#7c5e96\",\"#32a796\",\"#633896\",\"#71bf96\",\"#dd2596\",\"#8d6b96\",\"#8a9796\",\"#757296\",\"#e2a196\",\"#ef2596\",\"#f8cb96\",\"#7d2d96\",\"#f35796\",\"#d05896\",\"#b92096\",\"#623096\",\"#5dc896\",\"#53b996\",\"#eab196\",\"#6ca796\",\"#8c2c96\",\"#945996\",\"#cd1f96\",\"#da2a96\",\"#4d2596\",\"#874596\",\"#da2996\",\"#d52196\",\"#464e96\",\"#51bd96\",\"#6e2996\",\"#41e296\",\"#86a196\",\"#47cb96\",\"#a3a296\",\"#63b996\",\"#a95a96\",\"#495196\",\"#f5a296\",\"#ec8e96\",\"#808396\",\"#624196\",\"#644c96\",\"#928b96\",\"#396f96\",\"#b1de96\",\"#838c96\",\"#7d7496\",\"#d3dc96\",\"#bf3096\",\"#f05496\",\"#786396\",\"#e5c896\",\"#cbb796\",\"#795a96\",\"#aecc96\",\"#6b2a96\",\"#e08096\",\"#48a096\",\"#5c5c96\",\"#562b96\",\"#825196\",\"#c77e96\",\"#9b5d96\",\"#937196\",\"#323096\",\"#872096\",\"#3ecd96\",\"#5b2d96\",\"#ec5896\",\"#5da296\",\"#ddc696\",\"#d25e96\",\"#51a096\",\"#ab7c96\",\"#492896\",\"#c36f96\",\"#b12396\",\"#d4de96\",\"#91b696\",\"#e86196\",\"#3b4c96\",\"#6c6e96\",\"#c15d96\",\"#856896\",\"#54d596\",\"#476e96\",\"#d5b296\",\"#903d96\",\"#e28896\",\"#c48096\",\"#839496\",\"#7ca596\",\"#99ca96\",\"#e34b96\",\"#c56a96\",\"#332996\",\"#bc9a96\",\"#e9d896\",\"#c06d96\",\"#55e096\",\"#929596\",\"#4e4896\",\"#798796\",\"#ed9e96\",\"#eaa396\",\"#6a9d96\",\"#754396\",\"#aa4796\",\"#f24e96\",\"#4fb096\",\"#658196\",\"#e0a496\",\"#94bd96\",\"#e58e96\",\"#577c96\",\"#9c6e96\",\"#738996\",\"#713b96\",\"#8bbb96\",\"#88d496\",\"#79c096\",\"#e8c296\",\"#c4c396\",\"#c34196\",\"#6be596\",\"#a5a196\",\"#cd7296\",\"#d1cf96\",\"#769296\",\"#cce496\",\"#c5b496\",\"#4e6796\",\"#dfb296\",\"#8ab096\",\"#935c96\",\"#8bce96\",\"#a33a96\",\"#ae6796\",\"#959d96\",\"#df7d96\",\"#afa596\",\"#82e596\",\"#852d96\",\"#d4b596\",\"#77c196\",\"#5c5696\",\"#3d5196\",\"#e17696\",\"#e96c96\",\"#4a8396\",\"#744896\",\"#558096\",\"#49c096\",\"#e5ce96\",\"#3da396\",\"#f65796\",\"#45cc96\",\"#de7296\",\"#a34c96\",\"#7b3896\",\"#76de96\",\"#c92f96\",\"#708796\",\"#b54696\",\"#99cb96\",\"#924496\",\"#e6b196\",\"#a03f96\",\"#d7d996\",\"#c3a296\",\"#397196\",\"#ccde96\",\"#5d8696\",\"#e66a96\",\"#3a3e96\",\"#74ae96\",\"#459596\",\"#914a96\",\"#d64f96\",\"#6d4a96\",\"#508196\",\"#742796\",\"#d45796\",\"#4eb196\",\"#5f9a96\",\"#3fc196\",\"#bfb296\",\"#812296\",\"#708f96\",\"#c17596\",\"#756696\",\"#c3e496\",\"#d5a196\",\"#5d5096\",\"#f48896\",\"#523196\",\"#6cb396\",\"#556396\",\"#773f96\",\"#923e96\",\"#9a2196\",\"#dcb996\",\"#e3af96\",\"#5e7f96\",\"#ae5b96\",\"#486c96\",\"#8dce96\",\"#723696\",\"#712396\",\"#924996\",\"#c38696\",\"#3f1f96\",\"#e13296\",\"#c4a996\",\"#557796\",\"#eddb96\",\"#97d496\",\"#f95596\",\"#596996\",\"#9cd596\",\"#6c9196\",\"#6e6796\",\"#a8be96\",\"#ead696\",\"#d3a496\",\"#c24c96\",\"#a1c196\",\"#ea7296\",\"#94a996\",\"#e07f96\",\"#d8da96\",\"#5c2b96\",\"#cc3d96\",\"#344496\",\"#724a96\",\"#5f4d96\",\"#973c96\",\"#c5a896\",\"#454996\",\"#984d96\",\"#ed4596\",\"#5f6d96\",\"#b9dd96\",\"#a86796\",\"#345996\",\"#912b96\",\"#bf6496\",\"#3a4c96\",\"#e1b696\",\"#9a3496\",\"#383a96\",\"#5e5596\",\"#f05796\",\"#a6c796\",\"#47bc96\",\"#6b9196\",\"#8d5796\",\"#365d96\",\"#849496\",\"#93b196\",\"#626a96\",\"#a78396\",\"#c8cf96\",\"#619f96\",\"#ae8996\",\"#b12c96\",\"#ef4196\",\"#cd4696\",\"#db9a96\",\"#943396\",\"#572396\",\"#f96696\",\"#4bad96\",\"#90a896\",\"#3fbc96\",\"#eea996\",\"#f29896\",\"#c17f96\",\"#774796\",\"#648f96\",\"#679d96\",\"#4b3696\",\"#9b8f96\",\"#4e3196\",\"#718b96\",\"#af3d96\",\"#c33596\",\"#363496\",\"#88d496\",\"#b49596\",\"#dc5096\",\"#912c96\",\"#f38996\",\"#673a96\",\"#34b996\",\"#928196\",\"#65af96\",\"#d66d96\",\"#60aa96\",\"#70a696\",\"#d08e96\",\"#c1c796\",\"#a19296\",\"#be9196\",\"#855b96\",\"#33d896\",\"#348596\",\"#986c96\",\"#428a96\",\"#3c3b96\",\"#f35396\",\"#dd5b96\",\"#508596\",\"#32a996\",\"#ee5796\",\"#693996\",\"#578d96\",\"#bcc896\",\"#477196\",\"#667d96\",\"#f55796\",\"#b1bf96\",\"#9a3696\",\"#814096\",\"#cce596\",\"#4ea696\",\"#f38b96\",\"#debd96\",\"#ade596\",\"#3a4496\",\"#bebc96\",\"#e86296\",\"#9ab096\",\"#78ab96\",\"#4ae596\",\"#c83496\",\"#e31e96\",\"#46b396\",\"#c98f96\",\"#35a896\",\"#f3b496\",\"#ad8096\",\"#a06596\",\"#6db896\",\"#eb6a96\",\"#679a96\",\"#d7d096\",\"#f73d96\",\"#ce1f96\",\"#995196\",\"#3fbd96\",\"#908f96\",\"#89db96\",\"#5a8b96\",\"#865396\",\"#79b796\",\"#52a196\",\"#8ac296\",\"#66a396\",\"#9a7896\",\"#395596\",\"#e72996\",\"#d55b96\",\"#a02796\",\"#dc7496\",\"#f24b96\",\"#48aa96\",\"#b04a96\",\"#f92e96\",\"#f7c596\",\"#aa2a96\",\"#4bb496\",\"#a6d796\",\"#323396\",\"#598d96\",\"#f17896\",\"#74bd96\",\"#b19a96\",\"#6a5596\",\"#ef1e96\",\"#c37e96\",\"#73d096\",\"#d0d396\",\"#473796\",\"#80ca96\",\"#5e2496\",\"#ba3096\",\"#46df96\",\"#816b96\",\"#692c96\",\"#977c96\",\"#772796\",\"#bf2196\",\"#368e96\",\"#b04896\",\"#609a96\",\"#676096\",\"#d23896\",\"#f1e296\",\"#714f96\",\"#d72a96\",\"#465596\",\"#b05096\",\"#c85996\",\"#516596\",\"#87bf96\",\"#e42996\",\"#466496\",\"#353296\",\"#a8e296\",\"#893a96\",\"#d17d96\",\"#ea7e96\",\"#6dba96\",\"#7f5496\",\"#93b196\",\"#a72396\",\"#f6d796\",\"#bd3196\",\"#7f7e96\",\"#664096\",\"#ee6796\",\"#4d9e96\",\"#c23a96\",\"#eb5796\",\"#b6a596\",\"#86c696\",\"#599496\",\"#7b8696\",\"#bf3396\",\"#b33b96\",\"#ebdd96\",\"#df1e96\",\"#d57e96\",\"#e8b596\",\"#694796\",\"#7b7996\",\"#7d8096\",\"#a25296\",\"#b7cd96\",\"#6bd796\",\"#35b396\",\"#811f96\",\"#6f9b96\",\"#ee4c96\",\"#e35396\",\"#de4296\",\"#b49096\",\"#767796\",\"#9f4496\",\"#d5d896\",\"#454d96\",\"#d2b996\",\"#3a2296\",\"#d54296\",\"#d3c196\",\"#3c8996\",\"#af9f96\",\"#967396\",\"#537596\",\"#4f3796\",\"#cc4096\",\"#a3d596\",\"#f67996\",\"#f67c96\",\"#f8a396\",\"#492096\",\"#ed8896\",\"#62cf96\",\"#8d7196\",\"#c97096\",\"#5a7896\",\"#a3c996\",\"#579896\",\"#46b396\",\"#49ad96\",\"#792896\",\"#32e196\",\"#86ab96\",\"#b69296\",\"#822796\",\"#43d596\",\"#3e7b96\",\"#69d496\",\"#537196\",\"#f39196\",\"#50d096\",\"#d37a96\",\"#a74196\",\"#a37396\",\"#986a96\",\"#f4b096\",\"#7ac696\",\"#cf2096\",\"#a18096\",\"#815396\",\"#f13e96\",\"#a9a396\",\"#49c596\",\"#858a96\",\"#ce4496\",\"#bcb496\",\"#e98696\",\"#65be96\",\"#c9de96\",\"#8d7196\",\"#a45d96\",\"#f15696\",\"#f5a896\",\"#dee096\",\"#795796\",\"#e37a96\",\"#b19196\",\"#87dc96\",\"#394f96\",\"#ccde96\",\"#968696\",\"#cfaf96\",\"#c7ba96\",\"#d03e96\",\"#6ee096\",\"#d2e196\",\"#9fcb96\",\"#90c696\",\"#b95f96\",\"#36c896\",\"#46cf96\",\"#6c5396\",\"#f64096\",\"#4db596\",\"#749196\",\"#3c3396\",\"#746d96\",\"#726096\",\"#efa296\",\"#db7296\",\"#7e9f96\",\"#36bd96\",\"#d8ab96\",\"#b69996\",\"#50d396\",\"#f94f96\",\"#468396\",\"#dfb596\",\"#6c4a96\",\"#894896\",\"#d1a696\",\"#b9ba96\",\"#edcf96\",\"#ae7796\",\"#45ad96\",\"#e24096\",\"#cb5c96\",\"#c09c96\",\"#3c3b96\",\"#81dd96\",\"#533796\",\"#d6b996\",\"#be5d96\",\"#e2b096\",\"#f36e96\",\"#ccb396\",\"#f8d296\",\"#ac9596\",\"#393e96\",\"#34dc96\",\"#768896\",\"#d64d96\",\"#df6f96\",\"#f2ae96\",\"#3fd996\",\"#3ad396\",\"#e83a96\",\"#6fcc96\",\"#a19496\",\"#f66f96\",\"#827a96\",\"#b7bc96\",\"#82c696\",\"#cba196\",\"#9b2996\",\"#61bf96\",\"#682396\",\"#656b96\",\"#9c7696\",\"#be8396\",\"#ef5196\",\"#bc7196\",\"#cebb96\",\"#535496\",\"#7cc096\",\"#842096\",\"#bb3a96\",\"#6dd796\",\"#6e7c96\",\"#792896\",\"#d49896\",\"#a57996\",\"#412f96\",\"#416396\",\"#7c9896\",\"#cb9b96\",\"#bbcf96\",\"#bf8096\",\"#cb3296\",\"#6b3496\",\"#9f7196\",\"#9e4396\",\"#c5d696\",\"#f14896\",\"#696996\",\"#d08496\",\"#b56096\",\"#a6a296\",\"#cc9796\",\"#eed996\",\"#39c496\",\"#4f9696\",\"#c97796\",\"#429896\",\"#999a96\",\"#5d5396\",\"#684196\",\"#be8596\",\"#385b96\",\"#e06b96\",\"#8a1e96\",\"#96a696\",\"#9e2996\",\"#b3b196\",\"#764796\",\"#463e96\",\"#719696\",\"#53e296\",\"#a17296\",\"#71cb96\",\"#f12a96\",\"#f38396\",\"#aea696\",\"#ad6996\",\"#f73796\",\"#e32196\",\"#cb6b96\",\"#70b296\",\"#7be496\",\"#5a7a96\",\"#935896\",\"#f86396\",\"#e83096\",\"#497896\",\"#379b96\",\"#e59a96\",\"#9d2096\",\"#5a9c96\",\"#b8a396\",\"#b28296\",\"#4ada96\",\"#655196\",\"#3ec896\",\"#5b4096\",\"#4c5296\",\"#584696\",\"#bbcf96\",\"#3bbc96\",\"#467896\",\"#4c6996\",\"#712096\",\"#6daa96\",\"#65de96\",\"#c8b996\",\"#f94c96\",\"#9c5296\",\"#ee7296\",\"#816f96\",\"#474c96\",\"#83bc96\",\"#6dbb96\",\"#94ab96\",\"#b51e96\",\"#8ed596\",\"#ed6196\",\"#e22396\",\"#be9d96\",\"#93b196\",\"#4ca496\",\"#816c96\",\"#beca96\",\"#6a6596\",\"#468996\",\"#e7d696\",\"#bfaf96\",\"#ad3096\",\"#d0b996\",\"#d9d296\",\"#92c396\",\"#e27d96\",\"#e9c396\",\"#682d96\",\"#ab5096\",\"#9bcb96\",\"#9d2696\",\"#ed6d96\",\"#6fca96\",\"#f67796\",\"#e62e96\",\"#8d7996\",\"#d5b096\",\"#cb5d96\",\"#b9d396\",\"#71da96\",\"#593f96\",\"#b83096\",\"#da5996\",\"#357b96\",\"#b23d96\",\"#8a4e96\",\"#e5d896\",\"#72ac96\",\"#909596\",\"#98ab96\",\"#4e1e96\",\"#c03b96\",\"#d8a896\",\"#3dac96\",\"#6cc896\",\"#399396\",\"#f18d96\",\"#b76d96\",\"#f2c196\",\"#9cc896\",\"#d27896\",\"#7c6996\",\"#782896\",\"#7dbc96\",\"#b5a496\",\"#797596\",\"#e68296\",\"#f6d196\",\"#38cd96\",\"#584196\",\"#48c796\",\"#3a8396\",\"#5f3396\",\"#8b5c96\",\"#d9a796\",\"#5ed096\",\"#943396\",\"#eb9796\",\"#b7a596\",\"#d15596\",\"#a0b596\",\"#f63296\",\"#a74d96\",\"#3b1e96\",\"#598296\",\"#825296\",\"#aa2d96\",\"#ccce96\",\"#844596\",\"#c08f96\",\"#cf5496\",\"#719596\",\"#f5a096\",\"#b3af96\",\"#e25996\",\"#a12796\",\"#c6c996\",\"#ccdf96\",\"#e7cf96\",\"#502e96\",\"#a1bb96\",\"#877f96\",\"#ea9c96\",\"#479896\",\"#f68996\",\"#e1a596\",\"#409996\",\"#949196\",\"#c13a96\",\"#c5ca96\",\"#e7b496\",\"#d1de96\",\"#70bc96\",\"#959296\",\"#bed596\",\"#4da096\",\"#585c96\",\"#924196\",\"#6d9696\",\"#deb196\",\"#a7c296\",\"#775796\",\"#dbd296\",\"#d29196\",\"#f9ae96\",\"#dbbf96\",\"#84d896\",\"#4b5796\",\"#da6c96\",\"#3dd196\",\"#78c496\",\"#e96d96\",\"#f27b96\",\"#b2ad96\",\"#bb2a96\",\"#3a6796\",\"#984796\",\"#9f8596\",\"#76b896\",\"#3f3796\",\"#5fe396\",\"#797b96\",\"#89b896\",\"#a86496\",\"#c27f96\",\"#71de96\",\"#73a896\",\"#352396\",\"#3a4c96\",\"#655196\",\"#c6dd96\",\"#afb796\",\"#cba596\",\"#cb2b96\",\"#ddbe96\",\"#c24296\",\"#f53b96\",\"#e5cb96\",\"#a71f96\",\"#a72a96\",\"#38d596\",\"#f95096\",\"#4cb896\",\"#c6a196\",\"#d63496\",\"#7cbc96\",\"#594796\",\"#45a996\",\"#c76a96\",\"#8c8a96\",\"#c0db96\",\"#e95196\",\"#4f5a96\",\"#e95896\",\"#846896\",\"#6f9196\",\"#eebe96\",\"#f8d096\",\"#592a96\",\"#b5a096\",\"#479496\",\"#b49696\",\"#d7bc96\",\"#bad996\",\"#85b396\",\"#7e4096\",\"#80dc96\",\"#a7cb96\",\"#e25996\",\"#eb3696\",\"#3cbf96\",\"#56e196\",\"#483796\",\"#58a096\",\"#771f96\",\"#972596\",\"#afbb96\",\"#c4c196\",\"#e46396\",\"#f77796\",\"#b6b996\",\"#dbc996\",\"#cd5596\",\"#6fba96\",\"#e14696\",\"#3a7796\",\"#32ad96\",\"#68a796\",\"#8e8296\",\"#b1a396\",\"#462896\",\"#b85796\",\"#d24996\",\"#572e96\",\"#854796\",\"#99ca96\",\"#8cd196\",\"#d18896\",\"#f27e96\",\"#d17a96\",\"#41dd96\",\"#d2da96\",\"#3f4996\",\"#613096\",\"#502896\",\"#596596\",\"#9b7196\",\"#b84f96\",\"#90d696\",\"#f1c596\",\"#62b296\",\"#ca7e96\",\"#e0cf96\",\"#a2db96\",\"#8dcf96\",\"#a95296\",\"#87ca96\",\"#a16496\",\"#853696\",\"#82b296\",\"#bdbf96\",\"#44e396\",\"#537e96\",\"#dc5096\",\"#cc2b96\",\"#6a7096\",\"#7d9196\",\"#eb8196\",\"#d53e96\",\"#ac6896\",\"#5ed596\",\"#3a7996\",\"#888496\",\"#b87c96\",\"#d76a96\",\"#dc2a96\",\"#384b96\",\"#628196\",\"#759296\",\"#577d96\",\"#d26696\",\"#cbbe96\",\"#99a896\",\"#f6db96\",\"#4e2396\",\"#e5b296\",\"#492a96\",\"#525896\",\"#bdd596\",\"#47b996\",\"#a3a296\",\"#866d96\",\"#c32796\",\"#e65296\",\"#cb7e96\",\"#db7296\",\"#387996\",\"#702496\",\"#999c96\",\"#857896\",\"#602196\",\"#6fd996\",\"#ef4596\",\"#6c3f96\",\"#78b596\",\"#326396\",\"#db9896\",\"#501f96\",\"#5a7496\",\"#652296\",\"#e24796\",\"#5b4496\",\"#d1e096\",\"#d35a96\",\"#ebc596\",\"#497296\",\"#5dca96\",\"#c6a296\",\"#591f96\",\"#6b3496\",\"#532496\",\"#543096\",\"#924a96\",\"#47bb96\",\"#72b096\",\"#874e96\",\"#366c96\",\"#7fc996\",\"#442c96\",\"#948e96\",\"#d73596\",\"#d5e496\",\"#427696\",\"#aad596\",\"#d83c96\",\"#61e496\",\"#ca2996\",\"#e42996\",\"#d3c296\",\"#47b996\",\"#334f96\",\"#584f96\",\"#687c96\",\"#adda96\",\"#7e9b96\",\"#bec496\",\"#78cb96\",\"#503896\",\"#709196\",\"#e2e396\",\"#f13196\",\"#5b7696\",\"#cfb696\",\"#68e396\",\"#e33596\",\"#536e96\",\"#b7b496\",\"#429496\",\"#f4cd96\",\"#be3296\",\"#da8a96\",\"#a39796\",\"#91c096\",\"#aec796\",\"#9b7c96\",\"#8f9696\",\"#c91f96\",\"#55a796\",\"#542196\",\"#889f96\",\"#728396\",\"#40dc96\",\"#da3e96\",\"#cc6a96\",\"#9ec996\",\"#f58496\",\"#40c096\",\"#cb8396\",\"#67a696\",\"#7bce96\",\"#5d2896\",\"#cfce96\",\"#4e4196\",\"#dab596\",\"#b68f96\",\"#3d6096\",\"#d4dd96\",\"#afc696\",\"#e65796\",\"#c74696\",\"#a26596\",\"#d96096\",\"#693d96\",\"#9fd996\",\"#6ccf96\",\"#f3cc96\",\"#5f7996\",\"#35bb96\",\"#736696\",\"#96ca96\",\"#37d396\",\"#a18996\",\"#e07d96\",\"#be8896\",\"#ae4d96\",\"#f13096\",\"#f16b96\",\"#d6ba96\",\"#aba696\",\"#93c696\",\"#347896\",\"#ab3696\",\"#f78696\",\"#d52596\",\"#767496\",\"#504696\",\"#cec696\",\"#c63796\",\"#f37c96\",\"#e06b96\",\"#a1c796\",\"#468e96\",\"#927c96\",\"#709596\",\"#984c96\",\"#6e8696\",\"#de6496\",\"#da3396\",\"#71bc96\",\"#a96696\",\"#885596\",\"#e71e96\",\"#572596\",\"#bd5096\",\"#f45f96\",\"#55a996\",\"#5a6796\",\"#bcbd96\",\"#cd9396\",\"#946496\",\"#ab3d96\",\"#5c1e96\",\"#916a96\",\"#486f96\",\"#726696\",\"#6abe96\",\"#8a3196\",\"#ec3496\",\"#564c96\",\"#828496\",\"#adaf96\",\"#efd296\",\"#4c5396\",\"#e93796\",\"#428396\",\"#925996\",\"#8ce296\",\"#5b2596\",\"#774496\",\"#8cb496\",\"#df6b96\",\"#f18e96\",\"#99c196\",\"#e0a396\",\"#ab9696\",\"#77a696\",\"#582a96\",\"#843196\",\"#9a9796\",\"#3a6796\",\"#4fe596\",\"#aac296\",\"#5fd796\",\"#d94296\",\"#739a96\",\"#462396\",\"#42b196\",\"#ed2696\",\"#49a496\",\"#4e4896\",\"#de9496\",\"#645596\",\"#b72296\",\"#d5a796\",\"#ab7796\",\"#f1ae96\",\"#bf2996\",\"#488896\",\"#a12896\",\"#c13a96\",\"#d2ba96\",\"#374b96\",\"#c13096\",\"#d73a96\",\"#c73a96\",\"#98c696\",\"#8d9396\",\"#9fbc96\",\"#be5196\",\"#ea9b96\",\"#add196\",\"#e38896\",\"#becc96\",\"#3f4996\",\"#96df96\",\"#6b2d96\",\"#6bb696\",\"#794696\",\"#703596\",\"#a58d96\",\"#ba5d96\",\"#674a96\",\"#4b7596\",\"#3de396\",\"#a59c96\",\"#575596\",\"#33e396\",\"#eb5596\",\"#9dad96\",\"#445296\",\"#dab896\",\"#f69e96\",\"#8b9096\",\"#3a7996\",\"#494e96\",\"#7e9796\",\"#e3cc96\",\"#4f2496\",\"#d6b096\",\"#34cd96\",\"#8d9996\",\"#b25196\",\"#3e6496\",\"#acb396\",\"#ee6796\",\"#521f96\",\"#c33396\",\"#ab5796\",\"#576c96\",\"#336696\",\"#33bf96\",\"#9c4a96\",\"#ee7096\",\"#b2c096\",\"#c0bc96\",\"#944796\",\"#a66696\",\"#4b3d96\",\"#e13096\",\"#ca8c96\",\"#f95d96\",\"#6d8496\",\"#5f9396\",\"#4b9796\",\"#f2da96\",\"#ce4c96\",\"#53d196\",\"#a02896\",\"#842496\",\"#503396\",\"#529e96\",\"#f28896\",\"#6e3e96\",\"#ee3b96\",\"#418796\",\"#8edd96\",\"#4b4296\",\"#325196\",\"#a03696\",\"#489496\",\"#c2d796\",\"#bd4d96\",\"#557c96\",\"#eed396\",\"#c2ab96\",\"#6d8796\",\"#bf9d96\",\"#c4b096\",\"#76af96\",\"#7d7e96\",\"#795696\",\"#ad4796\",\"#e6d596\",\"#542996\",\"#e16196\",\"#37a896\",\"#b69696\",\"#847496\",\"#d03296\",\"#c23996\",\"#92a996\",\"#b27e96\",\"#966196\",\"#d46896\",\"#917396\",\"#9aa696\",\"#649696\",\"#ab2c96\",\"#6e3d96\",\"#a52c96\",\"#532496\",\"#51b996\",\"#85c896\",\"#877196\",\"#67df96\",\"#4cca96\",\"#39ca96\",\"#376796\",\"#68dc96\",\"#8eb396\",\"#c36496\",\"#90cf96\",\"#e61e96\",\"#399096\",\"#568696\",\"#752e96\",\"#a5ca96\",\"#dc5696\",\"#786996\",\"#677d96\",\"#3ec196\",\"#d69496\",\"#7d8e96\",\"#a46696\",\"#f65596\",\"#327d96\",\"#4f5196\",\"#cd6196\",\"#d37696\",\"#cbc696\",\"#9dd896\",\"#f5c396\",\"#818796\",\"#aaac96\",\"#3e6196\",\"#837996\",\"#c2da96\",\"#616496\",\"#ee4096\",\"#bb7c96\",\"#6ba096\",\"#cb3796\",\"#423696\",\"#f45a96\",\"#3bd396\",\"#eca496\",\"#644a96\",\"#c99696\",\"#32a296\",\"#648696\",\"#c7b596\",\"#9c2296\",\"#484496\",\"#80df96\",\"#7d8196\",\"#a32d96\",\"#b75b96\",\"#da1e96\",\"#959196\",\"#80e596\",\"#4e9496\",\"#d29896\",\"#c05f96\",\"#834d96\",\"#998396\",\"#b7d196\",\"#521f96\",\"#378f96\",\"#717396\",\"#a99a96\",\"#93c596\",\"#bc7796\",\"#d54996\",\"#936996\",\"#4c3c96\",\"#dc2e96\",\"#a46996\",\"#c59b96\",\"#be5296\",\"#f3d596\",\"#6da796\",\"#bfa796\",\"#7ba896\",\"#811e96\",\"#60c096\",\"#76d596\",\"#ef2196\",\"#6c9596\",\"#63a596\",\"#a64596\",\"#65c596\",\"#909b96\",\"#d84b96\",\"#60df96\",\"#874996\",\"#aca596\",\"#9f7c96\",\"#f4ae96\",\"#ba3196\",\"#c5dc96\",\"#f34696\",\"#844a96\",\"#798c96\",\"#3a6396\",\"#567696\",\"#612596\",\"#564c96\",\"#c8b896\",\"#9dd296\",\"#b74c96\",\"#d6b896\",\"#602396\",\"#732696\",\"#bf6c96\",\"#803b96\",\"#373f96\",\"#889b96\",\"#e7c996\",\"#83b996\",\"#746196\",\"#f7cd96\",\"#b2c696\",\"#7b8696\",\"#467d96\",\"#cf2996\",\"#bf3c96\",\"#ea2f96\",\"#5d8796\",\"#48a596\",\"#c29996\",\"#5acc96\",\"#55a196\",\"#71c396\",\"#d53a96\",\"#9d4096\",\"#3bd596\",\"#8e6496\",\"#ba4996\",\"#9dd496\",\"#a4e096\",\"#5e9d96\",\"#db6b96\",\"#a2a796\",\"#c02196\",\"#f63a96\",\"#876796\",\"#e2c496\",\"#335a96\",\"#382996\",\"#a86996\",\"#704e96\",\"#632996\",\"#696d96\",\"#716496\",\"#c3b096\",\"#a32a96\",\"#cf6996\",\"#d86296\",\"#da9f96\",\"#84cf96\",\"#863a96\",\"#ebc196\",\"#b69796\",\"#422396\",\"#9eb796\",\"#798996\",\"#f7bd96\",\"#346f96\",\"#aca396\",\"#c24596\",\"#6b4496\",\"#f46296\",\"#dd8596\",\"#e9ad96\",\"#35a396\",\"#a3c296\",\"#6c7396\",\"#dbd496\",\"#b03396\",\"#9d4396\",\"#48a696\",\"#9e5096\",\"#b03e96\",\"#f1cf96\",\"#a72b96\",\"#f3e496\",\"#f2ca96\",\"#b4cb96\",\"#979b96\",\"#8f4a96\",\"#e4bd96\",\"#372896\",\"#489296\",\"#467596\",\"#c9b496\",\"#752296\",\"#b16b96\",\"#aa7d96\",\"#7f3c96\",\"#9c7096\",\"#b3d496\",\"#ee7b96\",\"#a55096\",\"#ac8896\",\"#3f2a96\",\"#f05896\",\"#9bba96\",\"#d29e96\",\"#3c2296\",\"#868f96\",\"#654996\",\"#67e196\",\"#d0ba96\",\"#ae3796\",\"#896b96\",\"#347f96\",\"#f24296\",\"#f2aa96\",\"#5dc696\",\"#3a1e96\",\"#9c3896\",\"#f05696\",\"#e8e296\",\"#a66e96\",\"#6e4096\",\"#733696\",\"#e5d296\",\"#94c096\",\"#4c9996\",\"#638996\",\"#69b996\",\"#4a5d96\",\"#8e9d96\",\"#e9b196\",\"#b79196\",\"#403f96\",\"#33e396\",\"#69c096\",\"#7a8096\",\"#cd9996\",\"#f3b696\",\"#7f7996\",\"#bbb196\",\"#f8b896\",\"#c77996\",\"#b14396\",\"#419596\",\"#728c96\",\"#e88296\",\"#5a2996\",\"#dab996\",\"#bd8996\",\"#7b7496\",\"#9bc096\",\"#9e4596\",\"#c05496\",\"#999d96\",\"#4c6c96\",\"#cc5a96\",\"#835096\",\"#f27f96\",\"#6ab996\",\"#66bf96\",\"#74bc96\",\"#a4cf96\",\"#e42896\",\"#55e296\",\"#697396\",\"#a64496\",\"#8ce096\",\"#8bc396\",\"#d6d796\",\"#ea8696\",\"#92b396\",\"#bb8596\",\"#d28996\",\"#99dc96\",\"#6cb196\",\"#b18f96\",\"#a76c96\",\"#e63e96\",\"#3c3596\",\"#e85996\",\"#9ca896\",\"#354496\",\"#763896\",\"#c22d96\",\"#93c796\",\"#f64e96\",\"#864696\",\"#736c96\",\"#d69b96\",\"#9f9396\",\"#bad696\",\"#d3a696\",\"#b88e96\",\"#86ac96\",\"#4aa296\",\"#a6b796\",\"#e59096\",\"#85bf96\",\"#e8d296\",\"#96a996\",\"#ae6596\",\"#d85596\",\"#a29d96\",\"#449c96\",\"#f62296\",\"#63b396\",\"#c04a96\",\"#972896\",\"#913c96\",\"#62a196\",\"#c28696\",\"#48c796\",\"#f83396\",\"#dbc396\",\"#9ca096\",\"#864896\",\"#6bb196\",\"#96b296\",\"#e13396\",\"#695396\",\"#969d96\",\"#606a96\",\"#75b796\",\"#588996\",\"#f8c996\",\"#a43496\",\"#c4b096\",\"#457a96\",\"#7b8596\",\"#e45696\",\"#425396\",\"#534396\",\"#af6896\",\"#ae4d96\",\"#d94396\",\"#edde96\",\"#4e7796\",\"#65a596\",\"#876896\",\"#328f96\",\"#3f8196\",\"#5f9896\",\"#92ae96\",\"#64a296\",\"#e1b696\",\"#723b96\",\"#ea3096\",\"#f46196\",\"#8b7e96\",\"#5f4a96\",\"#6cb896\",\"#cdad96\",\"#68d496\",\"#7eaf96\",\"#913396\",\"#a5a296\",\"#f97096\",\"#605196\",\"#789696\",\"#665a96\",\"#7a8896\",\"#469196\",\"#798796\",\"#e32096\",\"#6d6396\",\"#7cbc96\",\"#ee6396\",\"#c38396\",\"#996396\",\"#cd4596\",\"#4a4596\",\"#8eb396\",\"#499b96\",\"#60d896\",\"#4e7296\",\"#7a9d96\",\"#7e7b96\",\"#ef7c96\",\"#66c896\",\"#907896\",\"#d4d796\",\"#d59a96\",\"#c82f96\",\"#6b2b96\",\"#94e296\",\"#576d96\",\"#579396\",\"#897496\",\"#c53d96\",\"#9b3796\",\"#e34896\",\"#d89796\",\"#388b96\",\"#a35f96\",\"#ab2696\",\"#f25e96\",\"#366d96\",\"#9cb596\",\"#5ab196\",\"#3c4a96\",\"#a74b96\",\"#cc9b96\",\"#cca096\",\"#388e96\",\"#833496\",\"#3a5796\",\"#632496\",\"#58b696\",\"#5dbf96\",\"#75d696\",\"#692f96\",\"#f2d396\",\"#78d596\",\"#e4e596\",\"#56b996\",\"#ca5296\",\"#3e5296\",\"#8ea796\",\"#33a596\",\"#d4a296\",\"#f06496\",\"#398596\",\"#ec5a96\",\"#cc9596\",\"#79b896\",\"#e7a996\",\"#6d7496\",\"#838696\",\"#45b896\",\"#b54c96\",\"#374a96\",\"#927e96\",\"#ba8096\",\"#d62296\",\"#4f9296\",\"#c87196\",\"#c19196\",\"#a1d496\",\"#a66096\",\"#443396\",\"#aa4796\",\"#7e5b96\",\"#dfca96\",\"#708b96\",\"#a5e596\",\"#875796\",\"#e12b96\",\"#645a96\",\"#41e496\",\"#c7b296\",\"#84d596\",\"#a79496\",\"#375596\",\"#f0dc96\",\"#e14b96\",\"#ae6d96\",\"#355896\",\"#7d9e96\",\"#f57196\",\"#badd96\",\"#52df96\",\"#8e3196\",\"#f3d796\",\"#9cbd96\",\"#36ac96\",\"#ad6696\",\"#68a596\",\"#45c096\",\"#82c496\",\"#a1bf96\",\"#355e96\",\"#a14396\",\"#988a96\",\"#d05096\",\"#86ba96\",\"#a02696\",\"#c67396\",\"#e5b996\",\"#7e2e96\",\"#aaa796\",\"#bc4c96\",\"#3a3796\",\"#d25b96\",\"#7d2196\",\"#b89c96\",\"#906096\",\"#bee496\",\"#c23196\",\"#58d096\",\"#b68196\",\"#dc3596\",\"#61c996\",\"#c93496\",\"#b09f96\",\"#f14f96\",\"#667796\",\"#509096\",\"#70d596\",\"#655696\",\"#c96b96\",\"#c44596\",\"#b76296\",\"#5d3796\",\"#de8b96\",\"#f18d96\",\"#9c9a96\",\"#b34c96\",\"#967496\",\"#6a2696\",\"#6b2696\",\"#705b96\",\"#587f96\",\"#e6a896\",\"#ddb596\",\"#8e6e96\",\"#7bb596\",\"#edaf96\",\"#5e9c96\",\"#a03a96\",\"#3c5796\",\"#588896\",\"#aac096\",\"#b66e96\",\"#a6df96\",\"#dfa396\",\"#f85c96\",\"#ca8e96\",\"#8f6996\",\"#d8d496\",\"#4a2796\",\"#ba4b96\",\"#993196\",\"#55bf96\",\"#f44496\",\"#75b296\",\"#ad8e96\",\"#e1c496\",\"#97e496\",\"#493c96\",\"#d53c96\",\"#789d96\",\"#f62596\",\"#e2c196\",\"#dc6996\",\"#796d96\",\"#c99096\",\"#f76296\",\"#9b5a96\",\"#904696\",\"#34ad96\",\"#beb796\",\"#dd9796\",\"#634d96\",\"#71a896\",\"#963d96\",\"#40cd96\",\"#437796\",\"#867d96\",\"#664696\",\"#839996\",\"#8ce396\",\"#f59396\",\"#eea096\",\"#4d5796\",\"#e25f96\",\"#424596\",\"#978496\",\"#523b96\",\"#7b9996\",\"#c67b96\",\"#869a96\",\"#d32c96\",\"#c1ce96\",\"#ee6996\",\"#9c4796\",\"#d28296\",\"#72d796\",\"#77a896\",\"#826296\",\"#845a96\",\"#46a296\",\"#992f96\",\"#456796\",\"#e37d96\",\"#3eb696\",\"#8b5f96\",\"#6abc96\",\"#50ba96\",\"#ce2196\",\"#c04496\",\"#4fa096\",\"#b08196\",\"#d02396\",\"#cc6596\",\"#449b96\",\"#bbe496\",\"#c14796\",\"#de3c96\",\"#976696\",\"#8e8c96\",\"#f3a296\",\"#d16696\",\"#a14b96\",\"#741f96\",\"#db4296\",\"#8d3296\",\"#444e96\",\"#8c5e96\",\"#e02d96\",\"#8b6f96\",\"#343f96\",\"#ac9296\",\"#f96996\",\"#d59d96\",\"#adb996\",\"#e82e96\",\"#d46a96\",\"#95e196\",\"#a81e96\",\"#c47996\",\"#db7b96\",\"#3dc296\",\"#cc5896\",\"#8bb996\",\"#b61e96\",\"#ca8096\",\"#9d5d96\",\"#51bf96\",\"#836e96\",\"#412b96\",\"#bbab96\",\"#f02096\",\"#d16096\",\"#7f8196\",\"#a6b296\",\"#6e5c96\",\"#9e3296\",\"#6ec396\",\"#c51f96\",\"#65cc96\",\"#f23396\",\"#b63796\",\"#3f3f96\",\"#343b96\",\"#f9bc96\",\"#5ec096\",\"#703f96\",\"#5b3496\",\"#eb9096\",\"#b4a996\",\"#968d96\",\"#a12396\",\"#71b796\",\"#acac96\",\"#85ad96\",\"#594796\",\"#b52c96\",\"#7ce596\",\"#cf7d96\",\"#85af96\",\"#973196\",\"#cf8296\",\"#8b8296\",\"#f33696\",\"#d06496\",\"#d7d096\",\"#f0a896\",\"#7fb096\",\"#a6cd96\",\"#bc5c96\",\"#b8bb96\",\"#f03196\",\"#6b9196\",\"#6c8896\",\"#e97496\",\"#d14796\",\"#5a7396\",\"#a4c696\",\"#c7b096\",\"#787696\",\"#88df96\",\"#a5bb96\",\"#8f2696\",\"#c8b496\",\"#33ad96\",\"#882796\",\"#75d796\",\"#ab7b96\",\"#cd4d96\",\"#417796\",\"#51c496\",\"#b75096\",\"#c5d496\",\"#a72a96\",\"#f62f96\",\"#959596\",\"#4d8396\",\"#bba496\",\"#aa2696\",\"#a85296\",\"#9faa96\",\"#ed6296\",\"#4b5a96\",\"#40c196\",\"#50bd96\",\"#62b296\",\"#a89b96\",\"#acdc96\",\"#602296\",\"#933c96\",\"#927996\",\"#8c5696\",\"#d25896\",\"#90e296\",\"#c92696\",\"#532396\",\"#9cd996\",\"#d63e96\",\"#552696\",\"#8e7996\",\"#abce96\",\"#565b96\",\"#c9d896\",\"#41cb96\",\"#ef5696\",\"#8f7596\",\"#75d696\",\"#493696\",\"#882a96\",\"#b54396\",\"#444b96\",\"#6f4196\",\"#d92496\",\"#b3ad96\",\"#5b3e96\",\"#527996\",\"#e63696\",\"#6b6796\",\"#556d96\",\"#f9d496\",\"#6fab96\",\"#4ad396\",\"#8e7f96\",\"#883f96\",\"#eb6f96\",\"#4c9496\",\"#448a96\",\"#44d196\",\"#e69496\",\"#8b5196\",\"#50dc96\",\"#a84096\",\"#9d7d96\",\"#59cf96\",\"#aaab96\",\"#768996\",\"#61a796\",\"#987596\",\"#6c6d96\",\"#5e9b96\",\"#e1b196\",\"#51d996\",\"#6ac596\",\"#7fde96\",\"#683596\",\"#5ce396\",\"#cc4696\",\"#732e96\",\"#48a196\",\"#9ea496\",\"#4be096\",\"#79b896\",\"#e26c96\",\"#7b9696\",\"#b09796\",\"#98b796\",\"#4d9296\",\"#b36b96\",\"#dda696\",\"#444e96\",\"#c86396\",\"#bc2c96\",\"#dfc196\",\"#462c96\",\"#6f5996\",\"#bcd796\",\"#368d96\",\"#c44996\",\"#dde496\",\"#8cce96\",\"#882b96\",\"#694c96\",\"#339e96\",\"#574596\",\"#f58996\",\"#df3f96\",\"#67a496\",\"#f28896\",\"#7bdf96\",\"#6d3896\",\"#508896\",\"#e65c96\",\"#f79896\",\"#734696\",\"#bed796\",\"#757596\",\"#467496\",\"#80bb96\",\"#a0d396\",\"#4a8096\",\"#d5b896\",\"#953a96\",\"#605096\",\"#a8a896\",\"#d0d796\",\"#733596\",\"#be3896\",\"#87e196\",\"#f23096\",\"#cc2696\",\"#798896\",\"#354a96\",\"#b55996\",\"#599996\",\"#4a6496\",\"#ece596\",\"#f94b96\",\"#67cb96\",\"#6ecd96\",\"#527596\",\"#8de596\",\"#df5696\",\"#be3096\",\"#db8f96\",\"#5f1f96\",\"#c47c96\",\"#e9c596\",\"#6a7196\",\"#bc4696\",\"#825196\",\"#6cd496\",\"#f3a296\",\"#773e96\",\"#477a96\",\"#7f9896\",\"#8b8396\",\"#c8bb96\",\"#ef1f96\",\"#d55696\",\"#ec9096\",\"#918996\",\"#c13296\",\"#6f4196\",\"#3fb496\",\"#7b8896\",\"#bd9d96\",\"#68c196\",\"#de9296\",\"#d05c96\",\"#588696\",\"#743896\",\"#d75496\",\"#62a196\",\"#742696\",\"#761e96\",\"#d2cf96\",\"#39de96\",\"#40d396\",\"#a54996\",\"#81b496\",\"#b07996\",\"#672c96\",\"#e7bc96\",\"#cabf96\",\"#3fae96\",\"#cee596\",\"#f3e496\",\"#ee4196\",\"#c5bd96\",\"#4aa196\",\"#a5af96\",\"#6ae496\",\"#f4c596\",\"#c16c96\",\"#acd996\",\"#bdcd96\",\"#89ab96\",\"#7cd996\",\"#ed7a96\",\"#74ac96\",\"#3a1e96\",\"#828f96\",\"#d0ae96\",\"#b36a96\",\"#f2cb96\",\"#477f96\",\"#e85696\",\"#7b8b96\",\"#90d396\",\"#87a696\",\"#49dc96\",\"#637796\",\"#c6a196\",\"#369b96\",\"#4c4d96\",\"#37b296\",\"#dd2b96\",\"#ad9196\",\"#534196\",\"#cb4396\",\"#f3e196\",\"#ec6a96\",\"#ea8596\",\"#33a396\",\"#a78196\",\"#65af96\",\"#a22396\",\"#71a596\",\"#505e96\",\"#8acd96\",\"#953a96\",\"#f72496\",\"#3a2a96\",\"#6e8696\",\"#dc4996\",\"#b5b496\",\"#d72996\",\"#b64c96\",\"#c9c496\",\"#942796\",\"#5abb96\",\"#d43496\",\"#a3c696\",\"#4dba96\",\"#d24996\",\"#f16e96\",\"#777996\",\"#6c6c96\",\"#424896\",\"#b64b96\",\"#f1a896\",\"#4d3c96\",\"#935696\",\"#452a96\",\"#384996\",\"#b62596\",\"#dfa996\",\"#756e96\",\"#e16996\",\"#497f96\",\"#615296\",\"#e66696\",\"#979496\",\"#ab4a96\",\"#397a96\",\"#4b9096\",\"#3d3996\",\"#e75b96\",\"#4c8c96\",\"#db6e96\",\"#78ad96\",\"#d24c96\",\"#7b7c96\",\"#67c296\",\"#443a96\",\"#6ad096\",\"#907796\",\"#d57d96\",\"#8c9d96\",\"#f48a96\",\"#9ec296\",\"#364396\",\"#853796\",\"#bb5296\",\"#60e596\",\"#bd3196\",\"#968896\",\"#37b896\",\"#ccc496\",\"#a2dd96\",\"#42e596\",\"#918c96\",\"#6b4e96\",\"#e18596\",\"#6ab196\",\"#ee7d96\",\"#9f5496\",\"#72c296\",\"#d4c396\",\"#bd8c96\",\"#849696\",\"#af8496\",\"#cdba96\",\"#dccf96\",\"#d51e96\",\"#53e096\",\"#d76296\",\"#3d6d96\",\"#5a6796\",\"#aec696\",\"#48b196\",\"#aa4196\",\"#6f6f96\",\"#871e96\",\"#71be96\",\"#404d96\",\"#962e96\",\"#f2a296\",\"#ac4996\",\"#6e8b96\",\"#f13e96\",\"#7fbc96\",\"#bde296\",\"#b03396\",\"#f0c696\",\"#e87f96\",\"#4f2896\",\"#438696\",\"#d37e96\",\"#e6d096\",\"#946296\",\"#bcb596\",\"#3f3896\",\"#5d6b96\",\"#4f8996\",\"#aa4296\",\"#594596\",\"#3d4f96\",\"#6eb296\",\"#b9da96\",\"#a53796\",\"#748b96\",\"#d83b96\",\"#692896\",\"#662596\",\"#a17396\",\"#917396\",\"#8ba296\",\"#516b96\",\"#964b96\",\"#653196\",\"#809096\",\"#c44996\",\"#ed6996\",\"#cc2196\",\"#834f96\",\"#a8a096\",\"#c73696\",\"#84a296\",\"#7aca96\",\"#4dcb96\",\"#c53d96\",\"#d97b96\",\"#71d096\",\"#ceaf96\",\"#accb96\",\"#ce6b96\",\"#848196\",\"#c7d196\",\"#837396\",\"#43a496\",\"#a07296\",\"#8cab96\",\"#649896\",\"#e47696\",\"#7e8b96\",\"#399596\",\"#7ecd96\",\"#86a596\",\"#deac96\",\"#d1df96\",\"#592b96\",\"#d94396\",\"#635d96\",\"#76db96\",\"#414b96\",\"#3d8f96\",\"#ba3596\",\"#ea5496\",\"#945596\",\"#daab96\",\"#d03396\",\"#b6b596\",\"#f55a96\",\"#d2b096\",\"#686796\",\"#cf7396\",\"#bc3796\",\"#813396\",\"#418a96\",\"#5c9d96\",\"#d13096\",\"#633996\",\"#f92496\",\"#bc3e96\",\"#914a96\",\"#a4a896\",\"#ac2b96\",\"#f3a796\",\"#526f96\",\"#683a96\",\"#bfe296\",\"#618296\",\"#e05896\",\"#772996\",\"#565c96\",\"#3b9896\",\"#a94f96\",\"#d78f96\",\"#685596\",\"#e92696\",\"#c97096\",\"#3e6596\",\"#a44f96\",\"#a38796\",\"#5a6b96\",\"#74db96\",\"#8d9a96\",\"#3b6596\",\"#4f4896\",\"#52a396\",\"#7dd696\",\"#c79b96\",\"#d8c396\",\"#52a696\",\"#c8db96\",\"#b86f96\",\"#e4b896\",\"#f38396\",\"#4a2796\",\"#422096\",\"#d17396\",\"#52a196\",\"#58ca96\",\"#e22496\",\"#edda96\",\"#71ce96\",\"#dacc96\",\"#dd9e96\",\"#ab7b96\",\"#a3be96\",\"#a54796\",\"#6e5896\",\"#ad4096\",\"#62e596\",\"#554496\",\"#84aa96\",\"#bf7a96\",\"#ae2496\",\"#f22e96\",\"#b3d796\",\"#4eb296\",\"#528b96\",\"#444796\",\"#581f96\",\"#a9b896\",\"#d95c96\",\"#e44896\",\"#824096\",\"#a1bf96\",\"#d39a96\",\"#709e96\",\"#a9d796\",\"#54d096\",\"#91a696\",\"#54de96\",\"#8e4b96\",\"#812196\",\"#88d696\",\"#625296\",\"#4de096\",\"#694a96\",\"#615596\",\"#c4d396\",\"#c1c096\",\"#a63196\",\"#449196\",\"#a33d96\",\"#412c96\",\"#359896\",\"#782d96\",\"#627c96\",\"#a89896\",\"#ebd996\",\"#c1d696\",\"#cb9796\",\"#f08296\",\"#b0a096\",\"#a5d696\",\"#aae496\",\"#df2496\",\"#7fdf96\",\"#d1be96\",\"#b42d96\",\"#6ebe96\",\"#34a296\",\"#5bd396\",\"#bd7996\",\"#a58296\",\"#68c596\",\"#887e96\",\"#b68796\",\"#4b4e96\",\"#886096\",\"#855796\",\"#9e2796\",\"#9a9296\",\"#7bc696\",\"#cab896\",\"#3f4f96\",\"#399396\",\"#868096\",\"#e5c196\",\"#696496\",\"#542596\",\"#ebcf96\",\"#53a496\",\"#7c4296\",\"#c34796\",\"#666d96\",\"#5f7d96\",\"#816096\",\"#cf8596\",\"#e8d096\",\"#389b96\",\"#536796\",\"#f1ca96\",\"#a8a996\",\"#a09496\",\"#d48596\",\"#392f96\",\"#349496\",\"#f36d96\",\"#d78c96\",\"#c73696\",\"#51bb96\",\"#918496\",\"#edc496\",\"#ec4796\",\"#33d996\",\"#c89196\",\"#332d96\",\"#f65c96\",\"#85e296\",\"#f49896\",\"#7b7196\",\"#6cd596\",\"#716696\",\"#c4b396\",\"#593b96\",\"#dea996\",\"#a88096\",\"#f37296\",\"#f74c96\",\"#57e396\",\"#f13696\",\"#3b4696\",\"#376996\",\"#ee3896\",\"#f2d996\",\"#4fd496\",\"#8a7596\",\"#948096\",\"#de2a96\",\"#afc596\",\"#ccba96\",\"#936c96\",\"#b37d96\",\"#c5a196\",\"#c57b96\",\"#325496\",\"#455996\",\"#7a8596\",\"#3ee496\",\"#7e7f96\",\"#7f2996\",\"#ead996\",\"#a35b96\",\"#bf2596\",\"#e32c96\",\"#8a4096\",\"#329c96\",\"#6b6796\",\"#d4d596\",\"#e6bc96\",\"#785e96\",\"#6ce396\",\"#eaa396\",\"#782196\",\"#b47a96\",\"#6ad496\",\"#455996\",\"#96d796\",\"#ea9996\",\"#ad9296\",\"#5b6796\",\"#badd96\",\"#cb7496\",\"#729c96\",\"#a19d96\",\"#ba9e96\",\"#525b96\",\"#f2ca96\",\"#8c9496\",\"#f56b96\",\"#575e96\",\"#923496\",\"#539896\",\"#34ba96\",\"#617296\",\"#82d596\",\"#883796\",\"#e37f96\",\"#b19e96\",\"#888f96\",\"#f7cf96\",\"#aca696\",\"#72c396\",\"#bca296\",\"#956296\",\"#e25496\",\"#e56396\",\"#7b6f96\",\"#a2c396\",\"#67ac96\",\"#afc396\",\"#f8d796\",\"#d8c096\",\"#7bde96\",\"#45db96\",\"#f35e96\",\"#7f6c96\",\"#6c9196\",\"#71a896\",\"#937a96\",\"#f1bb96\",\"#f79c96\",\"#6d9596\",\"#783b96\",\"#984096\",\"#335c96\",\"#54de96\",\"#ed2d96\",\"#37de96\",\"#467d96\",\"#867596\",\"#c4c796\",\"#67c496\",\"#6f3896\",\"#6fc096\",\"#e08496\",\"#5f5e96\",\"#a23396\",\"#f99496\",\"#c3ba96\",\"#75cf96\",\"#cbe096\",\"#f03696\",\"#7c6d96\",\"#bf2796\",\"#419d96\",\"#e5cf96\",\"#45a796\",\"#7c6b96\",\"#9eb596\",\"#66e596\",\"#b31e96\",\"#a0c396\",\"#c15f96\",\"#78b396\",\"#9f4d96\",\"#d44696\",\"#d4bf96\",\"#c0b796\",\"#9ec096\",\"#b8b596\",\"#433196\",\"#90ce96\",\"#de6996\",\"#ab4996\",\"#ee8f96\",\"#666396\",\"#45ab96\",\"#afa896\",\"#44c896\",\"#cee496\",\"#65bd96\",\"#9d3a96\",\"#d4b696\",\"#cf8f96\",\"#958e96\",\"#f56196\",\"#953e96\",\"#694096\",\"#6e2996\",\"#c6bf96\",\"#89b296\",\"#85c996\",\"#36aa96\",\"#6f3f96\",\"#deb196\",\"#d28d96\",\"#c73396\",\"#36d396\",\"#37d296\",\"#709b96\",\"#907196\",\"#e74d96\",\"#7e3196\",\"#6bbf96\",\"#a4df96\",\"#e82096\",\"#c57d96\",\"#dd3396\",\"#567196\",\"#4b9296\",\"#9e7396\",\"#bd2196\",\"#f0e396\",\"#7cd796\",\"#77b896\",\"#996e96\",\"#baa796\",\"#a3ab96\",\"#c26296\",\"#7e2596\",\"#de9a96\",\"#56db96\",\"#71b396\",\"#cc4b96\",\"#758d96\",\"#b76c96\",\"#6b8b96\",\"#57ae96\",\"#6e7f96\",\"#e3d496\",\"#8ea896\",\"#5f6496\",\"#729896\",\"#327996\",\"#c9bc96\",\"#5f1f96\",\"#a99396\",\"#372296\",\"#d8e196\",\"#578396\",\"#325596\",\"#6e3496\",\"#ea6296\",\"#669c96\",\"#96e096\",\"#833096\",\"#6c4896\",\"#eb5596\",\"#cfb796\",\"#ca2d96\",\"#9bd096\",\"#d64996\",\"#8dad96\",\"#8fb696\",\"#94d096\",\"#614796\",\"#eaae96\",\"#656496\",\"#596b96\",\"#628396\",\"#d53896\",\"#cb6596\",\"#87da96\",\"#344296\",\"#f55d96\",\"#4cbf96\",\"#dc4f96\",\"#ce3e96\",\"#ed4496\",\"#cce396\",\"#747096\",\"#606d96\",\"#7db596\",\"#5a2a96\",\"#c13f96\",\"#d7ad96\",\"#b35d96\",\"#57aa96\",\"#392296\",\"#a69496\",\"#8e8a96\",\"#593a96\",\"#7b3596\",\"#9ed796\",\"#b08396\",\"#912796\",\"#f43b96\",\"#3ba496\",\"#b57d96\",\"#e79596\",\"#617996\",\"#5cd796\",\"#cac396\",\"#93e296\",\"#f8d996\",\"#a7af96\",\"#ea2896\",\"#34e596\",\"#507c96\",\"#ba2a96\",\"#85e496\",\"#d99096\",\"#877996\",\"#c02196\",\"#a37396\",\"#494296\",\"#c1ad96\",\"#bf1f96\",\"#498896\",\"#a22696\",\"#75ac96\",\"#8ddc96\",\"#862696\",\"#463296\",\"#518596\",\"#43e296\",\"#587096\",\"#dc9996\",\"#36b696\",\"#88d796\",\"#d24196\",\"#46d496\",\"#5f9b96\",\"#c3bf96\",\"#b35996\",\"#a28296\",\"#544796\",\"#d0c896\",\"#4e4696\",\"#4c8b96\",\"#d17196\",\"#7b2796\",\"#707096\",\"#69ba96\",\"#728796\",\"#765a96\",\"#bd7796\",\"#62b896\",\"#73a396\",\"#cd3496\",\"#e88896\",\"#ac4596\",\"#47e196\",\"#9eb196\",\"#af2e96\",\"#704f96\",\"#d72d96\",\"#ce6896\",\"#a5c296\",\"#4f2b96\",\"#bd3f96\",\"#e55396\",\"#649a96\",\"#f1e096\",\"#ccc296\",\"#6e4696\",\"#adac96\",\"#6f8d96\",\"#458096\",\"#d6d396\",\"#b79396\",\"#ac3996\",\"#4e3e96\",\"#7dd696\",\"#e12e96\",\"#523996\",\"#3ba096\",\"#584a96\",\"#64c396\",\"#ce7196\",\"#b37e96\",\"#353796\",\"#352396\",\"#a3b596\",\"#b02c96\",\"#4b9e96\",\"#ac8996\",\"#628596\",\"#755996\",\"#83b596\",\"#496e96\",\"#f23c96\",\"#f42996\",\"#8b6296\",\"#659796\",\"#f14a96\",\"#d5b296\",\"#c23396\",\"#8e7c96\",\"#848996\",\"#cdc296\",\"#993596\",\"#b61e96\",\"#a38896\",\"#c03c96\",\"#449096\",\"#7d2496\",\"#538096\",\"#626c96\",\"#5a3d96\",\"#967b96\",\"#357d96\",\"#f22b96\",\"#99a596\",\"#3cd496\",\"#ba9896\",\"#679b96\",\"#47b396\",\"#d8d996\",\"#59e296\",\"#468096\",\"#3ddb96\",\"#c36596\",\"#b5af96\",\"#33d996\",\"#5e2196\",\"#bed696\",\"#50cf96\",\"#a54796\",\"#5c6f96\",\"#8b3696\",\"#dfb396\",\"#6eb996\",\"#bbce96\",\"#897696\",\"#459c96\",\"#7ac696\",\"#da3096\",\"#f43596\",\"#dbc196\",\"#527696\",\"#77be96\",\"#d81e96\",\"#a03596\",\"#cd6796\",\"#cd6d96\",\"#40c496\",\"#768396\",\"#91d596\",\"#ef7296\",\"#e52b96\",\"#867996\",\"#457096\",\"#828b96\",\"#9d9d96\",\"#e62996\",\"#6c9996\",\"#6f3896\",\"#af7496\",\"#97d096\",\"#593896\",\"#4e4796\",\"#937296\",\"#cd2a96\",\"#cd5796\",\"#f52d96\",\"#7e7d96\",\"#809096\",\"#32b396\",\"#d7d696\",\"#b37596\",\"#cb9b96\",\"#902a96\",\"#ea7d96\",\"#37cc96\",\"#499496\",\"#7d6996\",\"#432f96\",\"#438196\",\"#a3d596\",\"#5d2c96\",\"#af8896\",\"#eb7396\",\"#d6b596\",\"#633c96\",\"#434096\",\"#f0ad96\",\"#f8a596\",\"#7c8596\",\"#8e1e96\",\"#4fc996\",\"#c0e396\",\"#86a396\",\"#d2d896\",\"#a5b596\",\"#3aa696\",\"#746496\",\"#d32d96\",\"#bb2496\",\"#b07896\",\"#b87996\",\"#ab6b96\",\"#b22396\",\"#ae4596\",\"#9c3996\",\"#c92096\",\"#7b9996\",\"#913196\",\"#823b96\",\"#5b3196\",\"#72b696\",\"#3dce96\",\"#733596\",\"#809996\",\"#449996\",\"#5e5696\",\"#639396\",\"#5f7496\",\"#783396\",\"#4edd96\",\"#c4a596\",\"#76dc96\",\"#4a3c96\",\"#a8bc96\",\"#557296\",\"#3dd796\",\"#52a796\",\"#853b96\",\"#bc2496\",\"#b23796\",\"#33ac96\",\"#d02096\",\"#757d96\",\"#b98c96\",\"#38c096\",\"#807796\",\"#351f96\",\"#d54996\",\"#572796\",\"#b8e296\",\"#699d96\",\"#4d1e96\",\"#ec2596\",\"#a94b96\",\"#e4b996\",\"#6f6d96\",\"#d78396\",\"#eecc96\",\"#81d096\",\"#e67396\",\"#75b696\",\"#724c96\",\"#f94196\",\"#f0e196\",\"#5f9d96\",\"#d9a196\",\"#76cd96\",\"#f52396\",\"#db5796\",\"#e6ad96\",\"#a47896\",\"#6cda96\",\"#597896\",\"#9b3796\",\"#b8d396\",\"#c61f96\",\"#54b596\",\"#9d1f96\",\"#897a96\",\"#5b4796\",\"#a0dc96\",\"#696d96\",\"#9d2496\",\"#5ab996\",\"#e55d96\",\"#759d96\",\"#ac6f96\",\"#4a7596\",\"#b05296\",\"#68bb96\",\"#f17a96\",\"#802596\",\"#abda96\",\"#5d8196\",\"#de7f96\",\"#d26396\",\"#639d96\",\"#e86e96\",\"#3ab396\",\"#c8cd96\",\"#8d7f96\",\"#d9a096\",\"#8f5996\",\"#3f9b96\",\"#5f9d96\",\"#f88496\",\"#743d96\",\"#52af96\",\"#d35d96\",\"#3b6b96\",\"#3fc896\",\"#6da696\",\"#3b2e96\",\"#f98f96\",\"#bc2f96\",\"#999f96\",\"#d36c96\",\"#b6c096\",\"#54ba96\",\"#5de596\",\"#df5996\",\"#754196\",\"#8b4396\",\"#809596\",\"#3c6096\",\"#bed396\",\"#9e2d96\",\"#b9b696\",\"#697f96\",\"#839d96\",\"#589396\",\"#858896\",\"#b4a996\",\"#ee8b96\",\"#b6d696\",\"#9b8c96\",\"#85d596\",\"#47bf96\",\"#91c796\",\"#51d196\",\"#a64696\",\"#c46296\",\"#efd196\",\"#6d3b96\",\"#818096\",\"#563296\",\"#e13c96\",\"#d69396\",\"#cc6d96\",\"#3d7296\",\"#a18396\",\"#61a296\",\"#498196\",\"#ce6296\",\"#5c4496\",\"#967a96\",\"#9b6996\",\"#5cc196\",\"#942196\",\"#3c9096\",\"#329996\",\"#e2e396\",\"#85cf96\",\"#e78596\",\"#955796\",\"#882096\",\"#6d4e96\",\"#42c796\",\"#6fe096\",\"#abaa96\",\"#ca9696\",\"#9e9796\",\"#c99f96\",\"#511e96\",\"#a66796\",\"#e25f96\",\"#5de196\",\"#5f1e96\",\"#c7b196\",\"#d46f96\",\"#632a96\",\"#746696\",\"#b03796\",\"#812596\",\"#aea696\",\"#952296\",\"#cc2096\",\"#db7396\",\"#de3896\",\"#ac7796\",\"#ac6796\",\"#8b3296\",\"#379d96\",\"#6d9f96\",\"#3e9e96\",\"#89ca96\",\"#db1f96\",\"#a92396\",\"#b98696\",\"#577b96\",\"#66e496\",\"#526596\",\"#da6b96\",\"#6ac596\",\"#a29a96\",\"#4e2c96\",\"#4a2996\",\"#778796\",\"#746d96\",\"#73b196\",\"#aa9b96\",\"#711e96\",\"#cb2196\",\"#44c596\",\"#723e96\",\"#b78f96\",\"#aada96\",\"#49df96\",\"#89c696\",\"#6fcf96\",\"#b0d396\",\"#4b2d96\",\"#b8c996\",\"#8e7196\",\"#682696\",\"#c78896\",\"#573596\",\"#502d96\",\"#357b96\",\"#de5c96\",\"#94ce96\",\"#995d96\",\"#48c296\",\"#471e96\",\"#74db96\",\"#992896\",\"#be5296\",\"#952296\",\"#d8dd96\",\"#7d2896\",\"#376396\",\"#87a296\",\"#435e96\",\"#721f96\",\"#f74e96\",\"#ddac96\",\"#616996\",\"#7dc296\",\"#88b196\",\"#ca9396\",\"#383096\",\"#39e296\",\"#498696\",\"#af5296\",\"#849696\",\"#dbab96\",\"#6a7b96\",\"#939e96\",\"#bf3396\",\"#9fcc96\",\"#71a696\",\"#50b896\",\"#9e3496\",\"#4e8596\",\"#eda896\",\"#9d8696\",\"#543196\",\"#c22a96\",\"#469996\",\"#ccbd96\",\"#8de596\",\"#4c8f96\",\"#394b96\",\"#f86f96\",\"#683396\",\"#f07096\",\"#96c696\",\"#966c96\",\"#442896\",\"#f03f96\",\"#c4a396\",\"#99a896\",\"#4a4596\",\"#55c096\",\"#885696\",\"#7a8d96\",\"#a15b96\",\"#41a896\",\"#3a6996\",\"#98b696\",\"#377e96\",\"#3d9e96\",\"#7dd796\",\"#3e7596\",\"#7f8c96\",\"#624396\",\"#57a896\",\"#824896\",\"#49a796\",\"#77d696\",\"#88da96\",\"#d8be96\",\"#ec8996\",\"#6fc596\"],\"radius\":{\"__ndarray__\":\"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\",\"dtype\":\"float64\",\"order\":\"little\",\"shape\":[4000]},\"x\":{\"__ndarray__\":\"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\",\"dtype\":\"float64\",\"order\":\"little\",\"shape\":[4000]},\"y\":{\"__ndarray__\":\"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\",\"dtype\":\"float64\",\"order\":\"little\",\"shape\":[4000]}},\"selected\":{\"id\":\"1045\"},\"selection_policy\":{\"id\":\"1044\"}},\"id\":\"1032\",\"type\":\"ColumnDataSource\"},{\"attributes\":{},\"id\":\"1022\",\"type\":\"ResetTool\"},{\"attributes\":{\"fill_alpha\":{\"value\":0.6},\"fill_color\":{\"field\":\"fill_color\"},\"line_color\":{\"value\":null},\"radius\":{\"field\":\"radius\",\"units\":\"data\"},\"x\":{\"field\":\"x\"},\"y\":{\"field\":\"y\"}},\"id\":\"1033\",\"type\":\"Circle\"},{\"attributes\":{},\"id\":\"1023\",\"type\":\"HelpTool\"},{\"attributes\":{\"text\":\"\"},\"id\":\"1038\",\"type\":\"Title\"},{\"attributes\":{},\"id\":\"1002\",\"type\":\"DataRange1d\"},{\"attributes\":{\"active_drag\":\"auto\",\"active_inspect\":\"auto\",\"active_multi\":null,\"active_scroll\":\"auto\",\"active_tap\":\"auto\",\"tools\":[{\"id\":\"1018\"},{\"id\":\"1019\"},{\"id\":\"1020\"},{\"id\":\"1021\"},{\"id\":\"1022\"},{\"id\":\"1023\"}]},\"id\":\"1025\",\"type\":\"Toolbar\"},{\"attributes\":{},\"id\":\"1004\",\"type\":\"DataRange1d\"}],\"root_ids\":[\"1001\"]},\"title\":\"Bokeh Application\",\"version\":\"2.1.1\"}};\n",
              "  var render_items = [{\"docid\":\"b358b63c-5ed4-4f26-aea0-0203364ce482\",\"root_ids\":[\"1001\"],\"roots\":{\"1001\":\"6d84e490-f911-435d-9016-a132650e7717\"}}];\n",
              "  root.Bokeh.embed.embed_items_notebook(docs_json, render_items);\n",
              "\n",
              "  }\n",
              "  if (root.Bokeh !== undefined) {\n",
              "    embed_document(root);\n",
              "  } else {\n",
              "    var attempts = 0;\n",
              "    var timer = setInterval(function(root) {\n",
              "      if (root.Bokeh !== undefined) {\n",
              "        clearInterval(timer);\n",
              "        embed_document(root);\n",
              "      } else {\n",
              "        attempts++;\n",
              "        if (attempts > 100) {\n",
              "          clearInterval(timer);\n",
              "          console.log(\"Bokeh: ERROR: Unable to run BokehJS code because BokehJS library is missing\");\n",
              "        }\n",
              "      }\n",
              "    }, 10, root)\n",
              "  }\n",
              "})(window);"
            ],
            "application/vnd.bokehjs_exec.v0+json": ""
          },
          "metadata": {
            "tags": [],
            "application/vnd.bokehjs_exec.v0+json": {
              "id": "1001"
            }
          }
        }
      ]
    },
    {
      "cell_type": "markdown",
      "metadata": {
        "id": "qLh3fxl63IHW"
      },
      "source": [
        "## Graphviz\n",
        "\n",
        "You can use graphviz to layout nodes of a graph and draw the structure."
      ]
    },
    {
      "cell_type": "code",
      "metadata": {
        "colab": {
          "base_uri": "https://localhost:8080/"
        },
        "id": "33v9WeNjfb2k",
        "outputId": "2567027c-8c11-4517-94b8-3ae984b1d328"
      },
      "source": [
        "!apt-get -y install python-pydot\n",
        "!apt-get -y install python-pydot-ng\n",
        "!apt-get -y install graphviz"
      ],
      "execution_count": null,
      "outputs": [
        {
          "output_type": "stream",
          "text": [
            "Reading package lists... Done\n",
            "Building dependency tree       \n",
            "Reading state information... Done\n",
            "The following additional packages will be installed:\n",
            "  python-pyparsing\n",
            "Suggested packages:\n",
            "  python-pyparsing-doc\n",
            "The following NEW packages will be installed:\n",
            "  python-pydot python-pyparsing\n",
            "0 upgraded, 2 newly installed, 0 to remove and 13 not upgraded.\n",
            "Need to get 71.7 kB of archives.\n",
            "After this operation, 347 kB of additional disk space will be used.\n",
            "Get:1 http://archive.ubuntu.com/ubuntu bionic/main amd64 python-pyparsing all 2.2.0+dfsg1-2 [52.1 kB]\n",
            "Get:2 http://archive.ubuntu.com/ubuntu bionic/universe amd64 python-pydot all 1.2.3-1 [19.6 kB]\n",
            "Fetched 71.7 kB in 0s (891 kB/s)\n",
            "Selecting previously unselected package python-pyparsing.\n",
            "(Reading database ... 146374 files and directories currently installed.)\n",
            "Preparing to unpack .../python-pyparsing_2.2.0+dfsg1-2_all.deb ...\n",
            "Unpacking python-pyparsing (2.2.0+dfsg1-2) ...\n",
            "Selecting previously unselected package python-pydot.\n",
            "Preparing to unpack .../python-pydot_1.2.3-1_all.deb ...\n",
            "Unpacking python-pydot (1.2.3-1) ...\n",
            "Setting up python-pyparsing (2.2.0+dfsg1-2) ...\n",
            "Setting up python-pydot (1.2.3-1) ...\n",
            "Reading package lists... Done\n",
            "Building dependency tree       \n",
            "Reading state information... Done\n",
            "The following NEW packages will be installed:\n",
            "  python-pydot-ng\n",
            "0 upgraded, 1 newly installed, 0 to remove and 13 not upgraded.\n",
            "Need to get 19.8 kB of archives.\n",
            "After this operation, 96.3 kB of additional disk space will be used.\n",
            "Get:1 http://archive.ubuntu.com/ubuntu bionic/universe amd64 python-pydot-ng all 1.0.0-3 [19.8 kB]\n",
            "Fetched 19.8 kB in 0s (541 kB/s)\n",
            "Selecting previously unselected package python-pydot-ng.\n",
            "(Reading database ... 146392 files and directories currently installed.)\n",
            "Preparing to unpack .../python-pydot-ng_1.0.0-3_all.deb ...\n",
            "Unpacking python-pydot-ng (1.0.0-3) ...\n",
            "Setting up python-pydot-ng (1.0.0-3) ...\n",
            "Reading package lists... Done\n",
            "Building dependency tree       \n",
            "Reading state information... Done\n",
            "graphviz is already the newest version (2.40.1-2).\n",
            "0 upgraded, 0 newly installed, 0 to remove and 13 not upgraded.\n"
          ],
          "name": "stdout"
        }
      ]
    },
    {
      "cell_type": "code",
      "metadata": {
        "colab": {
          "base_uri": "https://localhost:8080/",
          "height": 498
        },
        "id": "ZXTgGVkaffjf",
        "outputId": "2037bb22-88c1-4013-cf8e-03c8ebe349d5"
      },
      "source": [
        "from graphviz import Digraph\n",
        "dot = Digraph(comment='Bayes net')\n",
        "print(dot)\n",
        "dot.node('C', 'Cloudy')\n",
        "dot.node('R', 'Rain')\n",
        "dot.node('S', 'Sprinkler')\n",
        "dot.node('W', 'Wet grass')\n",
        "dot.edge('C', 'R')\n",
        "dot.edge('C', 'S')\n",
        "dot.edge('R', 'W')\n",
        "dot.edge('S', 'W')\n",
        "print(dot.source) \n",
        "dot.render('test-output/graph.jpg', view=True)\n",
        "dot"
      ],
      "execution_count": null,
      "outputs": [
        {
          "output_type": "stream",
          "text": [
            "// Bayes net\n",
            "digraph {\n",
            "}\n",
            "// Bayes net\n",
            "digraph {\n",
            "\tC [label=Cloudy]\n",
            "\tR [label=Rain]\n",
            "\tS [label=Sprinkler]\n",
            "\tW [label=\"Wet grass\"]\n",
            "\tC -> R\n",
            "\tC -> S\n",
            "\tR -> W\n",
            "\tS -> W\n",
            "}\n"
          ],
          "name": "stdout"
        },
        {
          "output_type": "execute_result",
          "data": {
            "text/plain": [
              "<graphviz.dot.Digraph at 0x7f75992c2240>"
            ],
            "image/svg+xml": "<?xml version=\"1.0\" encoding=\"UTF-8\" standalone=\"no\"?>\n<!DOCTYPE svg PUBLIC \"-//W3C//DTD SVG 1.1//EN\"\n \"http://www.w3.org/Graphics/SVG/1.1/DTD/svg11.dtd\">\n<!-- Generated by graphviz version 2.40.1 (20161225.0304)\n -->\n<!-- Title: %3 Pages: 1 -->\n<svg width=\"174pt\" height=\"188pt\"\n viewBox=\"0.00 0.00 174.09 188.00\" xmlns=\"http://www.w3.org/2000/svg\" xmlns:xlink=\"http://www.w3.org/1999/xlink\">\n<g id=\"graph0\" class=\"graph\" transform=\"scale(1 1) rotate(0) translate(4 184)\">\n<title>%3</title>\n<polygon fill=\"#ffffff\" stroke=\"transparent\" points=\"-4,4 -4,-184 170.0934,-184 170.0934,4 -4,4\"/>\n<!-- C -->\n<g id=\"node1\" class=\"node\">\n<title>C</title>\n<ellipse fill=\"none\" stroke=\"#000000\" cx=\"74.5975\" cy=\"-162\" rx=\"38.9931\" ry=\"18\"/>\n<text text-anchor=\"middle\" x=\"74.5975\" y=\"-158.3\" font-family=\"Times,serif\" font-size=\"14.00\" fill=\"#000000\">Cloudy</text>\n</g>\n<!-- R -->\n<g id=\"node2\" class=\"node\">\n<title>R</title>\n<ellipse fill=\"none\" stroke=\"#000000\" cx=\"28.5975\" cy=\"-90\" rx=\"28.6953\" ry=\"18\"/>\n<text text-anchor=\"middle\" x=\"28.5975\" y=\"-86.3\" font-family=\"Times,serif\" font-size=\"14.00\" fill=\"#000000\">Rain</text>\n</g>\n<!-- C&#45;&gt;R -->\n<g id=\"edge1\" class=\"edge\">\n<title>C&#45;&gt;R</title>\n<path fill=\"none\" stroke=\"#000000\" d=\"M63.4621,-144.5708C57.8435,-135.7763 50.9239,-124.9457 44.7343,-115.2577\"/>\n<polygon fill=\"#000000\" stroke=\"#000000\" points=\"47.6469,-113.3155 39.3135,-106.7729 41.748,-117.0843 47.6469,-113.3155\"/>\n</g>\n<!-- S -->\n<g id=\"node3\" class=\"node\">\n<title>S</title>\n<ellipse fill=\"none\" stroke=\"#000000\" cx=\"120.5975\" cy=\"-90\" rx=\"45.4919\" ry=\"18\"/>\n<text text-anchor=\"middle\" x=\"120.5975\" y=\"-86.3\" font-family=\"Times,serif\" font-size=\"14.00\" fill=\"#000000\">Sprinkler</text>\n</g>\n<!-- C&#45;&gt;S -->\n<g id=\"edge2\" class=\"edge\">\n<title>C&#45;&gt;S</title>\n<path fill=\"none\" stroke=\"#000000\" d=\"M85.7328,-144.5708C91.1732,-136.0553 97.8334,-125.6308 103.8695,-116.183\"/>\n<polygon fill=\"#000000\" stroke=\"#000000\" points=\"106.9708,-117.8296 109.4053,-107.5182 101.0719,-114.0608 106.9708,-117.8296\"/>\n</g>\n<!-- W -->\n<g id=\"node4\" class=\"node\">\n<title>W</title>\n<ellipse fill=\"none\" stroke=\"#000000\" cx=\"74.5975\" cy=\"-18\" rx=\"46.2923\" ry=\"18\"/>\n<text text-anchor=\"middle\" x=\"74.5975\" y=\"-14.3\" font-family=\"Times,serif\" font-size=\"14.00\" fill=\"#000000\">Wet grass</text>\n</g>\n<!-- R&#45;&gt;W -->\n<g id=\"edge3\" class=\"edge\">\n<title>R&#45;&gt;W</title>\n<path fill=\"none\" stroke=\"#000000\" d=\"M39.4988,-72.937C44.9909,-64.3407 51.7697,-53.7304 57.9009,-44.1338\"/>\n<polygon fill=\"#000000\" stroke=\"#000000\" points=\"60.8595,-46.0038 63.294,-35.6924 54.9606,-42.235 60.8595,-46.0038\"/>\n</g>\n<!-- S&#45;&gt;W -->\n<g id=\"edge4\" class=\"edge\">\n<title>S&#45;&gt;W</title>\n<path fill=\"none\" stroke=\"#000000\" d=\"M109.2267,-72.2022C103.8233,-63.7448 97.2579,-53.4685 91.3025,-44.147\"/>\n<polygon fill=\"#000000\" stroke=\"#000000\" points=\"94.1708,-42.1356 85.8375,-35.593 88.2719,-45.9044 94.1708,-42.1356\"/>\n</g>\n</g>\n</svg>\n"
          },
          "metadata": {
            "tags": []
          },
          "execution_count": 16
        }
      ]
    },
    {
      "cell_type": "markdown",
      "metadata": {
        "id": "DaSY50JzpWnC"
      },
      "source": [
        "## Progress bar\n"
      ]
    },
    {
      "cell_type": "code",
      "metadata": {
        "colab": {
          "base_uri": "https://localhost:8080/"
        },
        "id": "CqcNHigZpYPO",
        "outputId": "b924fe64-137a-4342-e829-9d39d5fb52c8"
      },
      "source": [
        "! pip install fastprogress\n",
        "from fastprogress import master_bar, progress_bar"
      ],
      "execution_count": null,
      "outputs": [
        {
          "output_type": "stream",
          "text": [
            "Requirement already satisfied: fastprogress in /usr/local/lib/python3.6/dist-packages (1.0.0)\n",
            "Requirement already satisfied: numpy in /usr/local/lib/python3.6/dist-packages (from fastprogress) (1.19.5)\n"
          ],
          "name": "stdout"
        }
      ]
    },
    {
      "cell_type": "code",
      "metadata": {
        "colab": {
          "base_uri": "https://localhost:8080/",
          "height": 37
        },
        "id": "kN9YYBcBpfQy",
        "outputId": "a14d72a5-2b4c-44aa-9ccd-26a9d0a41dbf"
      },
      "source": [
        "my_list = np.arange(0,100)\n",
        "N = 1000\n",
        "for item in progress_bar(my_list):\n",
        "    np.dot(np.ones((N,N)), np.ones((N,N))) \n"
      ],
      "execution_count": null,
      "outputs": [
        {
          "output_type": "display_data",
          "data": {
            "text/html": [
              "\n",
              "    <div>\n",
              "        <style>\n",
              "            /* Turns off some styling */\n",
              "            progress {\n",
              "                /* gets rid of default border in Firefox and Opera. */\n",
              "                border: none;\n",
              "                /* Needs to be in here for Safari polyfill so background images work as expected. */\n",
              "                background-size: auto;\n",
              "            }\n",
              "            .progress-bar-interrupted, .progress-bar-interrupted::-webkit-progress-bar {\n",
              "                background: #F44336;\n",
              "            }\n",
              "        </style>\n",
              "      <progress value='100' class='' max='100' style='width:300px; height:20px; vertical-align: middle;'></progress>\n",
              "      100.00% [100/100 00:01<00:00]\n",
              "    </div>\n",
              "    "
            ],
            "text/plain": [
              "<IPython.core.display.HTML object>"
            ]
          },
          "metadata": {
            "tags": []
          }
        }
      ]
    },
    {
      "cell_type": "markdown",
      "metadata": {
        "id": "lyWwltzKlAHS"
      },
      "source": [
        "# Filing system issues\n"
      ]
    },
    {
      "cell_type": "markdown",
      "metadata": {
        "id": "7aCgO-moU2WA"
      },
      "source": [
        "## Accessing local files\n",
        "\n",
        "Clicking on the file folder icon on the left hand side of colab lets you browse local files. Right clicking on a filename lets you download it to your local machine. Double clicking on a file will open it in the file viewer/ editor, which appears on the right hand side. \n",
        "\n",
        "The result should look something like this:\n",
        "\n",
        "<img src=\"https://github.com/probml/pyprobml/blob/\n",
        "master/book1/intro/figures/colab-image-viewer.png?raw=true\">\n",
        "\n",
        "\n",
        "You can also use standard unix commands to manipulate files, as we show below."
      ]
    },
    {
      "cell_type": "code",
      "metadata": {
        "colab": {
          "base_uri": "https://localhost:8080/"
        },
        "id": "dRh4BOIxHpEX",
        "outputId": "104c8f4f-9eff-4b9b-fc81-c084740e475b"
      },
      "source": [
        "!pwd"
      ],
      "execution_count": null,
      "outputs": [
        {
          "output_type": "stream",
          "text": [
            "/content\n"
          ],
          "name": "stdout"
        }
      ]
    },
    {
      "cell_type": "code",
      "metadata": {
        "colab": {
          "base_uri": "https://localhost:8080/"
        },
        "id": "T7i8bvaghwy7",
        "outputId": "bb0012d2-bc82-4d5d-dfe3-acf2ba3e77a7"
      },
      "source": [
        "!ls"
      ],
      "execution_count": null,
      "outputs": [
        {
          "output_type": "stream",
          "text": [
            "myplot.png  sample_data\n"
          ],
          "name": "stdout"
        }
      ]
    },
    {
      "cell_type": "code",
      "metadata": {
        "colab": {
          "base_uri": "https://localhost:8080/"
        },
        "id": "HDNijfMPjPsE",
        "outputId": "d2bb4d90-86fc-44b2-9900-6050507e082b"
      },
      "source": [
        "!echo 'foo bar' > foo.txt\n",
        "!cat foo.txt"
      ],
      "execution_count": null,
      "outputs": [
        {
          "output_type": "stream",
          "text": [
            "foo bar\n"
          ],
          "name": "stdout"
        }
      ]
    },
    {
      "cell_type": "markdown",
      "metadata": {
        "id": "Ell60Ff4UE-P"
      },
      "source": [
        "You can open text files in the editor by clicking on their filename in the file browser, or programmatically as shown below."
      ]
    },
    {
      "cell_type": "code",
      "metadata": {
        "colab": {
          "base_uri": "https://localhost:8080/",
          "height": 16
        },
        "id": "CcxDCpyYjhfU",
        "outputId": "d521b728-16e6-43d7-f8e9-2c2d3c0b8eef"
      },
      "source": [
        "from google.colab import files\n",
        "files.view('foo.txt')"
      ],
      "execution_count": null,
      "outputs": [
        {
          "output_type": "display_data",
          "data": {
            "application/javascript": [
              "\n",
              "      ((filepath) => {{\n",
              "        if (!google.colab.kernel.accessAllowed) {{\n",
              "          return;\n",
              "        }}\n",
              "        google.colab.files.view(filepath);\n",
              "      }})(\"/content/foo.txt\")"
            ],
            "text/plain": [
              "<IPython.core.display.Javascript object>"
            ]
          },
          "metadata": {
            "tags": []
          }
        }
      ]
    },
    {
      "cell_type": "markdown",
      "metadata": {
        "id": "PMet3XdcVF9O"
      },
      "source": [
        "If you make changes to a file containing code, the new version of the file will not be noticed unless you use the magic below."
      ]
    },
    {
      "cell_type": "code",
      "metadata": {
        "colab": {
          "base_uri": "https://localhost:8080/"
        },
        "id": "0ufY8AO1VEUh",
        "outputId": "13aeca9f-992b-4881-98d4-89508b0ad23a"
      },
      "source": [
        "%load_ext autoreload\n",
        "%autoreload 2"
      ],
      "execution_count": null,
      "outputs": [
        {
          "output_type": "stream",
          "text": [
            "The autoreload extension is already loaded. To reload it, use:\n",
            "  %reload_ext autoreload\n"
          ],
          "name": "stdout"
        }
      ]
    },
    {
      "cell_type": "markdown",
      "metadata": {
        "id": "6a6nkLsKWQpu"
      },
      "source": [
        "## Syncing with Google drive\n",
        "\n",
        "Files that you generate in, or upload to, colab are ephemeral, since colab is a temporary environment with an idle timeout of 90 minutes and an absolute timeout of 12 hours (24 hours for Colab pro). To save any files permanently, you need to mount your google drive folder as we show below. (Executing this command will open a new window in your browser - you need cut and paste the password that is shown into the prompt box.)\n",
        "\n"
      ]
    },
    {
      "cell_type": "code",
      "metadata": {
        "colab": {
          "base_uri": "https://localhost:8080/"
        },
        "id": "cYZpcMiQkl15",
        "outputId": "b9e259a1-c252-48c0-cdd8-72f97531c2f0"
      },
      "source": [
        "from google.colab import drive\n",
        "drive.mount('/content/gdrive')\n",
        "!pwd\n",
        "\n",
        "with open('/content/gdrive/MyDrive/foo.txt', 'w') as f:\n",
        "  f.write('Hello Google Drive!')\n",
        "!cat /content/gdrive/MyDrive/foo.txt"
      ],
      "execution_count": null,
      "outputs": [
        {
          "output_type": "stream",
          "text": [
            "Mounted at /content/gdrive\n",
            "/content\n",
            "Hello Google Drive!"
          ],
          "name": "stdout"
        }
      ]
    },
    {
      "cell_type": "markdown",
      "metadata": {
        "id": "CeGz5P_RUyzG"
      },
      "source": [
        "To ensure that local changes are detected by colab, use this piece of magic."
      ]
    },
    {
      "cell_type": "code",
      "metadata": {
        "id": "K6RR9dfoUyMG"
      },
      "source": [
        "%load_ext autoreload\n",
        "%autoreload 2"
      ],
      "execution_count": null,
      "outputs": []
    },
    {
      "cell_type": "markdown",
      "metadata": {
        "id": "bIqJtkFnlF8I"
      },
      "source": [
        "## Downloading data\n",
        "\n",
        "You can use [wget](https://www.pair.com/support/kb/paircloud-downloading-files-with-wget/) \n",
        "\n"
      ]
    },
    {
      "cell_type": "code",
      "metadata": {
        "colab": {
          "base_uri": "https://localhost:8080/"
        },
        "id": "LjaBDSSQltez",
        "outputId": "b57a7fe9-3545-43ad-d9fc-2565f94d81df"
      },
      "source": [
        "!pwd"
      ],
      "execution_count": null,
      "outputs": [
        {
          "output_type": "stream",
          "text": [
            "/content\n"
          ],
          "name": "stdout"
        }
      ]
    },
    {
      "cell_type": "code",
      "metadata": {
        "id": "3oypH8Vclu86"
      },
      "source": [
        "!rm timemachine.*"
      ],
      "execution_count": null,
      "outputs": []
    },
    {
      "cell_type": "code",
      "metadata": {
        "colab": {
          "base_uri": "https://localhost:8080/"
        },
        "id": "H0dvvsUclgdu",
        "outputId": "d13d67f5-861d-4cab-a856-a719a4d2d503"
      },
      "source": [
        "\n",
        "#!wget  https://github.com/probml/pyprobml/blob/master/data/timemachine.txt\n",
        "\n",
        "!wget https://raw.githubusercontent.com/probml/pyprobml/master/data/timemachine.txt"
      ],
      "execution_count": null,
      "outputs": [
        {
          "output_type": "stream",
          "text": [
            "--2021-01-22 05:41:58--  https://raw.githubusercontent.com/probml/pyprobml/master/data/timemachine.txt\n",
            "Resolving raw.githubusercontent.com (raw.githubusercontent.com)... 151.101.0.133, 151.101.64.133, 151.101.128.133, ...\n",
            "Connecting to raw.githubusercontent.com (raw.githubusercontent.com)|151.101.0.133|:443... connected.\n",
            "HTTP request sent, awaiting response... 200 OK\n",
            "Length: 178887 (175K) [text/plain]\n",
            "Saving to: ‘timemachine.txt’\n",
            "\n",
            "timemachine.txt     100%[===================>] 174.69K  --.-KB/s    in 0.009s  \n",
            "\n",
            "2021-01-22 05:41:58 (18.4 MB/s) - ‘timemachine.txt’ saved [178887/178887]\n",
            "\n"
          ],
          "name": "stdout"
        }
      ]
    },
    {
      "cell_type": "code",
      "metadata": {
        "colab": {
          "base_uri": "https://localhost:8080/"
        },
        "id": "kj3fMYuwlyNR",
        "outputId": "632cf687-d2d9-4e75-da37-07b096736521"
      },
      "source": [
        "!head timemachine.txt"
      ],
      "execution_count": null,
      "outputs": [
        {
          "output_type": "stream",
          "text": [
            "The Time Machine, by H. G. Wells [1898]\n",
            "\n",
            "I\n",
            "\n",
            "The Time Traveller (for so it will be convenient to speak of him) was expounding a recondite matter to us. His grey eyes shone and twinkled, and his usually pale face was flushed and animated. The fire burned brightly, and the soft radiance of the incandescent lights in the lilies of silver caught the bubbles that flashed and passed in our glasses. Our chairs, being his patents, embraced and caressed us rather than submitted to be sat upon, and there was that luxurious after-dinner atmosphere when thought roams gracefully free of the trammels of precision. And he put it to us in this way--marking the points with a lean forefinger--as we sat and lazily admired his earnestness over this new paradox (as we thought it) and his fecundity.\n",
            "\n",
            "'You must follow me carefully. I shall have to controvert one or two ideas that are almost universally accepted. The geometry, for instance, they taught you at school is founded on a misconception.'\n",
            "\n",
            "'Is not that rather a large thing to expect us to begin upon?' said Filby, an argumentative person with red hair.\n",
            "\n"
          ],
          "name": "stdout"
        }
      ]
    },
    {
      "cell_type": "markdown",
      "metadata": {
        "id": "buZsxpmUS37n"
      },
      "source": [
        "# Working with github\n",
        "\n",
        "It is possible to download code (or data) from githib into a local directory on this virtual machine.  It is also possible to upload local files back to github, although that is more complex. See details below."
      ]
    },
    {
      "cell_type": "markdown",
      "metadata": {
        "id": "rVvGT6GUBg2Q"
      },
      "source": [
        "## Cloning a repo from github\n",
        "\n",
        "You can clone a public github repo into your local colab VM, as we show below,\n",
        "using the repo for this book as an example.\n",
        "(To clone a private repo, you need to specify your password,\n",
        "as explained [here](https://medium.com/@robertbracco1/configuring-google-colab-like-a-pro-d61c253f7573#6b70). Alternatively you can use the ssh method we describe below.)"
      ]
    },
    {
      "cell_type": "code",
      "metadata": {
        "id": "uVZWqzdW7_ZG",
        "colab": {
          "base_uri": "https://localhost:8080/"
        },
        "outputId": "4d1f7699-0b5a-4bea-c241-508fbc081f29"
      },
      "source": [
        "\n",
        "!rm -rf pyprobml # Remove any old local directory to ensure fresh install\n",
        "!git clone https://github.com/probml/pyprobml\n"
      ],
      "execution_count": null,
      "outputs": [
        {
          "output_type": "stream",
          "text": [
            "Cloning into 'pyprobml'...\n",
            "remote: Enumerating objects: 190, done.\u001b[K\n",
            "remote: Counting objects: 100% (190/190), done.\u001b[K\n",
            "remote: Compressing objects: 100% (134/134), done.\u001b[K\n",
            "remote: Total 5905 (delta 114), reused 100 (delta 55), pack-reused 5715\u001b[K\n",
            "Receiving objects: 100% (5905/5905), 201.01 MiB | 24.86 MiB/s, done.\n",
            "Resolving deltas: 100% (3362/3362), done.\n"
          ],
          "name": "stdout"
        }
      ]
    },
    {
      "cell_type": "code",
      "metadata": {
        "colab": {
          "base_uri": "https://localhost:8080/"
        },
        "id": "XdC34HzKT8L8",
        "outputId": "ab286059-fa43-4a1a-881b-c777987a5e99"
      },
      "source": [
        "!ls"
      ],
      "execution_count": null,
      "outputs": [
        {
          "output_type": "stream",
          "text": [
            "pyprobml  sample_data\n"
          ],
          "name": "stdout"
        }
      ]
    },
    {
      "cell_type": "markdown",
      "metadata": {
        "id": "HuplkSqtkDuR"
      },
      "source": [
        "We can access data as shown below."
      ]
    },
    {
      "cell_type": "code",
      "metadata": {
        "colab": {
          "base_uri": "https://localhost:8080/"
        },
        "id": "_8m9VQ-3kFcq",
        "outputId": "4f078099-482d-4f09-c1b1-a950cd703d33"
      },
      "source": [
        "\n",
        "datadir = 'pyprobml/data'\n",
        "import re\n",
        "fname = os.path.join(datadir, 'timemachine.txt')\n",
        "with open(fname, 'r') as f:\n",
        "    lines = f.readlines()\n",
        "    sentences = [re.sub('[^A-Za-z]+', ' ', st).lower().split()\n",
        "                   for st in lines]\n",
        "for  i in range(5):\n",
        "  words = sentences[i]\n",
        "  print(words)"
      ],
      "execution_count": null,
      "outputs": [
        {
          "output_type": "stream",
          "text": [
            "['the', 'time', 'machine', 'by', 'h', 'g', 'wells']\n",
            "[]\n",
            "['i']\n",
            "[]\n",
            "['the', 'time', 'traveller', 'for', 'so', 'it', 'will', 'be', 'convenient', 'to', 'speak', 'of', 'him', 'was', 'expounding', 'a', 'recondite', 'matter', 'to', 'us', 'his', 'grey', 'eyes', 'shone', 'and', 'twinkled', 'and', 'his', 'usually', 'pale', 'face', 'was', 'flushed', 'and', 'animated', 'the', 'fire', 'burned', 'brightly', 'and', 'the', 'soft', 'radiance', 'of', 'the', 'incandescent', 'lights', 'in', 'the', 'lilies', 'of', 'silver', 'caught', 'the', 'bubbles', 'that', 'flashed', 'and', 'passed', 'in', 'our', 'glasses', 'our', 'chairs', 'being', 'his', 'patents', 'embraced', 'and', 'caressed', 'us', 'rather', 'than', 'submitted', 'to', 'be', 'sat', 'upon', 'and', 'there', 'was', 'that', 'luxurious', 'after', 'dinner', 'atmosphere', 'when', 'thought', 'roams', 'gracefully', 'free', 'of', 'the', 'trammels', 'of', 'precision', 'and', 'he', 'put', 'it', 'to', 'us', 'in', 'this', 'way', 'marking', 'the', 'points', 'with', 'a', 'lean', 'forefinger', 'as', 'we', 'sat', 'and', 'lazily', 'admired', 'his', 'earnestness', 'over', 'this', 'new', 'paradox', 'as', 'we', 'thought', 'it', 'and', 'his', 'fecundity']\n"
          ],
          "name": "stdout"
        }
      ]
    },
    {
      "cell_type": "markdown",
      "metadata": {
        "id": "MNWWINngc5rn"
      },
      "source": [
        "We can run any script as shown below.\n",
        "(Note we first have to define the environment variable for where the figures will be stored.)"
      ]
    },
    {
      "cell_type": "code",
      "metadata": {
        "colab": {
          "base_uri": "https://localhost:8080/",
          "height": 828
        },
        "id": "aYXkQP-DdApw",
        "outputId": "be6b9b27-710a-4a9e-9076-9e537eb49684"
      },
      "source": [
        "import os\n",
        "os.environ['PYPROBML']='pyprobml'\n",
        "\n",
        "%run pyprobml/scripts/activation_fun_plot.py"
      ],
      "execution_count": null,
      "outputs": [
        {
          "output_type": "stream",
          "text": [
            "plot some activation functions\n"
          ],
          "name": "stdout"
        },
        {
          "output_type": "display_data",
          "data": {
            "image/png": "[encoded data removed]",
            "text/plain": [
              "<Figure size 432x288 with 1 Axes>"
            ]
          },
          "metadata": {
            "tags": [],
            "needs_background": "light"
          }
        },
        {
          "output_type": "display_data",
          "data": {
            "image/png": "[encoded data removed]",
            "text/plain": [
              "<Figure size 432x288 with 1 Axes>"
            ]
          },
          "metadata": {
            "tags": [],
            "needs_background": "light"
          }
        },
        {
          "output_type": "display_data",
          "data": {
            "image/png": "[encoded data removed]",
            "text/plain": [
              "<Figure size 432x288 with 1 Axes>"
            ]
          },
          "metadata": {
            "tags": [],
            "needs_background": "light"
          }
        }
      ]
    },
    {
      "cell_type": "markdown",
      "metadata": {
        "id": "YTT5eJ_qUDFe"
      },
      "source": [
        "We can also import code, as we show below."
      ]
    },
    {
      "cell_type": "code",
      "metadata": {
        "colab": {
          "base_uri": "https://localhost:8080/"
        },
        "id": "0jUdrHWLd95C",
        "outputId": "a6ba93bc-118c-42e7-c894-34eeef80c95b"
      },
      "source": [
        "!ls"
      ],
      "execution_count": null,
      "outputs": [
        {
          "output_type": "stream",
          "text": [
            "pyprobml  sample_data\n"
          ],
          "name": "stdout"
        }
      ]
    },
    {
      "cell_type": "code",
      "metadata": {
        "colab": {
          "base_uri": "https://localhost:8080/"
        },
        "id": "-NkBCWPdePFj",
        "outputId": "b2c513a6-6990-4f1b-d183-472ded23a644"
      },
      "source": [
        "\n",
        "import pyprobml.scripts.probml_tools as pml\n",
        "pml.test()"
      ],
      "execution_count": null,
      "outputs": [
        {
          "output_type": "stream",
          "text": [
            "welcome to python probabilistic ML library\n"
          ],
          "name": "stdout"
        }
      ]
    },
    {
      "cell_type": "markdown",
      "metadata": {
        "id": "yaISmcnNmnS7"
      },
      "source": [
        "## Pushing local files back to github\n",
        "\n",
        "You can easily save your entire colab notebook to github by choosing 'Save a copy in github' under the File menu in the top left. But if you want to save individual files (eg code that you edited in the colab file editor, or a bunch of images or data files you created), the process is more complex.\n",
        "\n",
        "There are two main methods. You can either specify your username and password every time, as explained [here](https://medium.com/@robertbracco1/configuring-google-colab-like-a-pro-d61c253f7573#6b70). Or you can authenticate via ssh. We explain the latter method here.\n",
        "\n",
        "You first need to do some setup to create SSH keys on your current colab VM (virtual machine), manually add the keys to your github account, and then copy the keys to your mounted google drive so you can reuse the same keys in the future. This only has to be done once.\n",
        "\n",
        "After setup, you can use the `git_ssh` function we define below to securely execute git commands. This works by copying your SSH keys from your google drive to the current colab VM, executing the git command, and then deleting the keys from the VM for safety. \n"
      ]
    },
    {
      "cell_type": "markdown",
      "metadata": {
        "id": "0gOzFmcKoUuO"
      },
      "source": [
        "### Setup\n",
        "\n",
        "Follow these steps. (These instructions are text, not code, since they require user interaction.)\n",
        "\n",
        "```\n",
        "!ssh-keygen -t rsa -b 4096\n",
        "!ssh-keyscan -t rsa github.com >> ~/.ssh/known_hosts\n",
        "!cat /root/.ssh/id_rsa.pub\n",
        "```\n",
        "The cat command will display your public key in the colab window.\n",
        "Cut and paste this and manually add to your github account following [these instructions](https://github.com/settings/keys).\n",
        "\n",
        "Test it worked\n",
        "```\n",
        "!ssh -T git@github.com\n",
        "```\n",
        "\n",
        "Finally, save the generated keys to your Google drive\n",
        "\n",
        "```\n",
        "from google.colab import drive\n",
        "drive.mount('/content/drive')\n",
        "!mkdir /content/drive/MyDrive/ssh/\n",
        "!cp  -r  ~/.ssh/* /content/drive/MyDrive/ssh/\n",
        "!ls /content/drive/MyDrive/ssh/\n",
        "```\n"
      ]
    },
    {
      "cell_type": "markdown",
      "metadata": {
        "id": "oSiVyBG1xm44"
      },
      "source": [
        "### Test previous setup\n",
        "\n",
        "Let us check that we can see our SSH keys in our mounted google drive."
      ]
    },
    {
      "cell_type": "code",
      "metadata": {
        "colab": {
          "base_uri": "https://localhost:8080/"
        },
        "id": "cCUxHiHAxcY2",
        "outputId": "0cab8327-3769-4bca-e831-a8c6cce09888"
      },
      "source": [
        "from google.colab import drive\n",
        "drive.mount('/content/drive')\n",
        "\n",
        "!ls /content/drive/MyDrive/ssh/\n",
        "\n"
      ],
      "execution_count": null,
      "outputs": [
        {
          "output_type": "stream",
          "text": [
            "Mounted at /content/drive\n",
            "id_rsa\tid_rsa.pub  known_hosts\n"
          ],
          "name": "stdout"
        }
      ]
    },
    {
      "cell_type": "markdown",
      "metadata": {
        "id": "C-lPchgDpD7t"
      },
      "source": [
        "### Executing git commands from colab via SSH\n",
        "\n",
        "The following function lets you securely doing a git command via SSH.\n",
        "It copies the keys from your google drive to the local VM, excecutes the command, then removes the keys.\n",
        "\n"
      ]
    },
    {
      "cell_type": "code",
      "metadata": {
        "colab": {
          "base_uri": "https://localhost:8080/"
        },
        "id": "ONJ0Ump4wEho",
        "outputId": "5a0ca00a-dca7-49c9-ffba-339c1a3b521a"
      },
      "source": [
        "!rm -rf probml_tools.py # remove any old copies of this file\n",
        "!wget https://raw.githubusercontent.com/probml/pyprobml/master/scripts/probml_tools.py  "
      ],
      "execution_count": null,
      "outputs": [
        {
          "output_type": "stream",
          "text": [
            "--2021-01-22 20:22:03--  https://raw.githubusercontent.com/probml/pyprobml/master/scripts/probml_tools.py\n",
            "Resolving raw.githubusercontent.com (raw.githubusercontent.com)... 151.101.0.133, 151.101.64.133, 151.101.128.133, ...\n",
            "Connecting to raw.githubusercontent.com (raw.githubusercontent.com)|151.101.0.133|:443... connected.\n",
            "HTTP request sent, awaiting response... 200 OK\n",
            "Length: 1882 (1.8K) [text/plain]\n",
            "Saving to: ‘probml_tools.py’\n",
            "\n",
            "probml_tools.py     100%[===================>]   1.84K  --.-KB/s    in 0s      \n",
            "\n",
            "2021-01-22 20:22:03 (34.6 MB/s) - ‘probml_tools.py’ saved [1882/1882]\n",
            "\n"
          ],
          "name": "stdout"
        }
      ]
    },
    {
      "cell_type": "markdown",
      "metadata": {
        "id": "umvOwzMfvpmU"
      },
      "source": [
        "Below we show how to use this. We first clone the repo to this colab VM."
      ]
    },
    {
      "cell_type": "code",
      "metadata": {
        "colab": {
          "base_uri": "https://localhost:8080/"
        },
        "id": "IbX9-PDpwlO0",
        "outputId": "957ae2fd-cab7-4267-8f4d-9709d6554910"
      },
      "source": [
        "from google.colab import drive\n",
        "drive.mount('/content/drive') # must do this before running git_colab\n",
        "\n",
        "import probml_tools as pml\n",
        "\n",
        "!rm -rf pyprobml # remove any old copies of this directory\n",
        "#!git clone https://github.com/probml/pyprobml.git # clones using wrong credentials\n",
        "pml.git_ssh(\"git clone https://github.com/probml/pyprobml.git\") # clone using your credentials\n",
        "\n"
      ],
      "execution_count": null,
      "outputs": [
        {
          "output_type": "stream",
          "text": [
            "Drive already mounted at /content/drive; to attempt to forcibly remount, call drive.mount(\"/content/drive\", force_remount=True).\n",
            "executing command via ssh: git clone git@github.com:probml/pyprobml.git\n"
          ],
          "name": "stdout"
        }
      ]
    },
    {
      "cell_type": "markdown",
      "metadata": {
        "id": "ft_pJJ4ZTLdl"
      },
      "source": [
        "Next we add a file and push it to github.\n"
      ]
    },
    {
      "cell_type": "code",
      "metadata": {
        "colab": {
          "base_uri": "https://localhost:8080/"
        },
        "id": "3hfluZVYTSNd",
        "outputId": "5da089c4-2234-46ff-d175-ffab8c96c67f"
      },
      "source": [
        "!pwd\n",
        "!ls\n",
        "\n",
        "# To add stuff to github, you must be inside the git directory\n",
        "%cd /content/pyprobml\n",
        "!echo 'this is a test' > scripts/foo.txt\n",
        "pml.git_ssh(\"git add scripts; git commit -m 'push from colab'; git push\")\n",
        "%cd /content"
      ],
      "execution_count": null,
      "outputs": [
        {
          "output_type": "stream",
          "text": [
            "/content\n",
            "drive  probml_tools.py\t__pycache__  pyprobml  sample_data\n",
            "/content/pyprobml\n",
            "executing command via ssh: git add scripts; git commit -m 'push from colab'; git push\n",
            "/content\n"
          ],
          "name": "stdout"
        }
      ]
    },
    {
      "cell_type": "markdown",
      "metadata": {
        "id": "DAqqAhzzTS7F"
      },
      "source": [
        "[Here](https://github.com/probml/pyprobml/blob/master/scripts/foo.txt) is a link to the file we just pushed.\n",
        "\n",
        "Finally we clean up our mess."
      ]
    },
    {
      "cell_type": "code",
      "metadata": {
        "colab": {
          "base_uri": "https://localhost:8080/"
        },
        "id": "r16zYiNTu_Mz",
        "outputId": "3a6e5fe4-2eb2-46da-f834-9d14fbdd6c2d"
      },
      "source": [
        "\n",
        "%cd /content/pyprobml\n",
        "pml.git_ssh(\"git rm scripts/foo*.txt; git commit -m 'colab cleanup'; git push\")\n",
        "%cd /content"
      ],
      "execution_count": null,
      "outputs": [
        {
          "output_type": "stream",
          "text": [
            "/content/pyprobml\n",
            "executing command via ssh: git rm scripts/foo*.txt; git commit -m 'colab cleanup'; git push\n",
            "/content\n"
          ],
          "name": "stdout"
        }
      ]
    },
    {
      "cell_type": "markdown",
      "metadata": {
        "id": "q-kRtmdm5d7X"
      },
      "source": [
        "# Software engineering tools\n",
        "\n",
        " [Joel Grus has argued](https://docs.google.com/presentation/d/1n2RlMdmv1p25Xy5thJUhkKGvjtV-dkAIsUXP-AL4ffI/edit) that notebooks are bad for developing complex software, because they encourage creating monolithic notebooks instead of factoring out code into separate, well-tested files. \n",
        " \n",
        "[Jeremy Howard has responded to Joel's critiques here](https://www.youtube.com/watch?v=9Q6sLbz37gk&feature=youtu.be). In particular, the FastAI organization has created [nbdev](https://github.com/fastai/nbdev) which has various tools that make notebooks more useful.\n",
        "\n"
      ]
    },
    {
      "cell_type": "markdown",
      "metadata": {
        "id": "PuSsmj_fZ106"
      },
      "source": [
        "## Avoiding problems with global state\n",
        "\n",
        "One of the main drawbacks of colab is that all variables are globally visible, so you may accidently write a function that depends on the current state of the notebook, but which is not passed in as an argument. Such a function may fail if used in a different context.\n",
        "\n",
        "One solution to this is to put most of your code in files, and then have the notebook simply import the code and run it, like you would from the command line. Then you can always run the notebook from scratch, to ensure consistency.\n",
        "\n",
        "Another solution is to use the [localscope](https://localscope.readthedocs.io/en/latest/README.html) package can catch some of these errors.\n",
        "\n",
        "\n"
      ]
    },
    {
      "cell_type": "code",
      "metadata": {
        "colab": {
          "base_uri": "https://localhost:8080/"
        },
        "id": "Q0FmEeIgc0YI",
        "outputId": "0d71c4a8-a4fb-45bd-e137-c391e408c83f"
      },
      "source": [
        "!pip install localscope\n"
      ],
      "execution_count": null,
      "outputs": [
        {
          "output_type": "stream",
          "text": [
            "Collecting localscope\n",
            "  Downloading https://files.pythonhosted.org/packages/71/29/c3010c332c7175fe48060b1113e32f2831bab2202428d2cc29686685302f/localscope-0.1.3.tar.gz\n",
            "Building wheels for collected packages: localscope\n",
            "  Building wheel for localscope (setup.py) ... \u001b[?25l\u001b[?25hdone\n",
            "  Created wheel for localscope: filename=localscope-0.1.3-cp36-none-any.whl size=4068 sha256=7a5d6718e16dbff82fe94e1229d233a19ef52280ff0d4fc48ef62a2ba41d5855\n",
            "  Stored in directory: /root/.cache/pip/wheels/89/57/33/ce153d31de05d74323324df0f45a08ea99e92300e549da5154\n",
            "Successfully built localscope\n",
            "Installing collected packages: localscope\n",
            "Successfully installed localscope-0.1.3\n"
          ],
          "name": "stdout"
        }
      ]
    },
    {
      "cell_type": "code",
      "metadata": {
        "id": "9zfUiUB8d-jh"
      },
      "source": [
        "from localscope import localscope"
      ],
      "execution_count": null,
      "outputs": []
    },
    {
      "cell_type": "code",
      "metadata": {
        "colab": {
          "base_uri": "https://localhost:8080/"
        },
        "id": "wI5wXzUPdlOS",
        "outputId": "500dfc1f-1cbc-4fa6-a30e-02f32258fa31"
      },
      "source": [
        "a = 'hello world'\n",
        "def myfun():\n",
        "   print(a) # silently accesses global variable\n",
        "\n",
        "myfun()"
      ],
      "execution_count": null,
      "outputs": [
        {
          "output_type": "stream",
          "text": [
            "hello world\n"
          ],
          "name": "stdout"
        }
      ]
    },
    {
      "cell_type": "code",
      "metadata": {
        "colab": {
          "base_uri": "https://localhost:8080/",
          "height": 337
        },
        "id": "T3V1iV32czq8",
        "outputId": "b346cb7a-f252-41bc-992b-dd72e5aec825"
      },
      "source": [
        "a = 'hello world'\n",
        "@localscope\n",
        "def myfun():\n",
        "  print(a)\n",
        "\n",
        "myfun()"
      ],
      "execution_count": null,
      "outputs": [
        {
          "output_type": "error",
          "ename": "ValueError",
          "evalue": "ignored",
          "traceback": [
            "\u001b[0;31m---------------------------------------------------------------------------\u001b[0m",
            "\u001b[0;31mValueError\u001b[0m                                Traceback (most recent call last)",
            "\u001b[0;32m<ipython-input-8-549f0808922e>\u001b[0m in \u001b[0;36m<module>\u001b[0;34m()\u001b[0m\n\u001b[1;32m      1\u001b[0m \u001b[0ma\u001b[0m \u001b[0;34m=\u001b[0m \u001b[0;34m'hello world'\u001b[0m\u001b[0;34m\u001b[0m\u001b[0;34m\u001b[0m\u001b[0m\n\u001b[0;32m----> 2\u001b[0;31m \u001b[0;34m@\u001b[0m\u001b[0mlocalscope\u001b[0m\u001b[0;34m\u001b[0m\u001b[0;34m\u001b[0m\u001b[0m\n\u001b[0m\u001b[1;32m      3\u001b[0m \u001b[0;32mdef\u001b[0m \u001b[0mmyfun\u001b[0m\u001b[0;34m(\u001b[0m\u001b[0;34m)\u001b[0m\u001b[0;34m:\u001b[0m\u001b[0;34m\u001b[0m\u001b[0;34m\u001b[0m\u001b[0m\n\u001b[1;32m      4\u001b[0m   \u001b[0mprint\u001b[0m\u001b[0;34m(\u001b[0m\u001b[0ma\u001b[0m\u001b[0;34m)\u001b[0m\u001b[0;34m\u001b[0m\u001b[0;34m\u001b[0m\u001b[0m\n\u001b[1;32m      5\u001b[0m \u001b[0;34m\u001b[0m\u001b[0m\n",
            "\u001b[0;32m/usr/local/lib/python3.6/dist-packages/localscope/__init__.py\u001b[0m in \u001b[0;36mlocalscope\u001b[0;34m(func, predicate, allowed, allow_closure, _globals)\u001b[0m\n\u001b[1;32m    115\u001b[0m             \u001b[0mvalue\u001b[0m \u001b[0;34m=\u001b[0m \u001b[0m_globals\u001b[0m\u001b[0;34m[\u001b[0m\u001b[0mname\u001b[0m\u001b[0;34m]\u001b[0m\u001b[0;34m\u001b[0m\u001b[0;34m\u001b[0m\u001b[0m\n\u001b[1;32m    116\u001b[0m             \u001b[0;32mif\u001b[0m \u001b[0;32mnot\u001b[0m \u001b[0mpredicate\u001b[0m\u001b[0;34m(\u001b[0m\u001b[0mvalue\u001b[0m\u001b[0;34m)\u001b[0m\u001b[0;34m:\u001b[0m\u001b[0;34m\u001b[0m\u001b[0;34m\u001b[0m\u001b[0m\n\u001b[0;32m--> 117\u001b[0;31m                 \u001b[0;32mraise\u001b[0m \u001b[0mValueError\u001b[0m\u001b[0;34m(\u001b[0m\u001b[0;34mf'`{name}` is not a permitted global'\u001b[0m\u001b[0;34m)\u001b[0m\u001b[0;34m\u001b[0m\u001b[0;34m\u001b[0m\u001b[0m\n\u001b[0m\u001b[1;32m    118\u001b[0m         \u001b[0;32melif\u001b[0m \u001b[0minstruction\u001b[0m\u001b[0;34m.\u001b[0m\u001b[0mopname\u001b[0m \u001b[0;34m==\u001b[0m \u001b[0;34m'STORE_DEREF'\u001b[0m\u001b[0;34m:\u001b[0m\u001b[0;34m\u001b[0m\u001b[0;34m\u001b[0m\u001b[0m\n\u001b[1;32m    119\u001b[0m             \u001b[0mallowed\u001b[0m\u001b[0;34m.\u001b[0m\u001b[0mappend\u001b[0m\u001b[0;34m(\u001b[0m\u001b[0mname\u001b[0m\u001b[0;34m)\u001b[0m\u001b[0;34m\u001b[0m\u001b[0;34m\u001b[0m\u001b[0m\n",
            "\u001b[0;31mValueError\u001b[0m: `a` is not a permitted global"
          ]
        }
      ]
    },
    {
      "cell_type": "code",
      "metadata": {
        "colab": {
          "base_uri": "https://localhost:8080/",
          "height": 337
        },
        "id": "5t48_AMbAN8V",
        "outputId": "71fdaacf-4650-4a52-9fb5-da5873c33e73"
      },
      "source": [
        "def myfun2():\n",
        "  return 42\n",
        "\n",
        "@localscope\n",
        "def myfun3():\n",
        "  return myfun2()\n",
        "\n",
        "  "
      ],
      "execution_count": null,
      "outputs": [
        {
          "output_type": "error",
          "ename": "ValueError",
          "evalue": "ignored",
          "traceback": [
            "\u001b[0;31m---------------------------------------------------------------------------\u001b[0m",
            "\u001b[0;31mValueError\u001b[0m                                Traceback (most recent call last)",
            "\u001b[0;32m<ipython-input-9-5cfa07ed9c85>\u001b[0m in \u001b[0;36m<module>\u001b[0;34m()\u001b[0m\n\u001b[1;32m      2\u001b[0m   \u001b[0;32mreturn\u001b[0m \u001b[0;36m42\u001b[0m\u001b[0;34m\u001b[0m\u001b[0;34m\u001b[0m\u001b[0m\n\u001b[1;32m      3\u001b[0m \u001b[0;34m\u001b[0m\u001b[0m\n\u001b[0;32m----> 4\u001b[0;31m \u001b[0;34m@\u001b[0m\u001b[0mlocalscope\u001b[0m\u001b[0;34m\u001b[0m\u001b[0;34m\u001b[0m\u001b[0m\n\u001b[0m\u001b[1;32m      5\u001b[0m \u001b[0;32mdef\u001b[0m \u001b[0mmyfun3\u001b[0m\u001b[0;34m(\u001b[0m\u001b[0;34m)\u001b[0m\u001b[0;34m:\u001b[0m\u001b[0;34m\u001b[0m\u001b[0;34m\u001b[0m\u001b[0m\n\u001b[1;32m      6\u001b[0m   \u001b[0;32mreturn\u001b[0m \u001b[0mmyfun2\u001b[0m\u001b[0;34m(\u001b[0m\u001b[0;34m)\u001b[0m\u001b[0;34m\u001b[0m\u001b[0;34m\u001b[0m\u001b[0m\n",
            "\u001b[0;32m/usr/local/lib/python3.6/dist-packages/localscope/__init__.py\u001b[0m in \u001b[0;36mlocalscope\u001b[0;34m(func, predicate, allowed, allow_closure, _globals)\u001b[0m\n\u001b[1;32m    115\u001b[0m             \u001b[0mvalue\u001b[0m \u001b[0;34m=\u001b[0m \u001b[0m_globals\u001b[0m\u001b[0;34m[\u001b[0m\u001b[0mname\u001b[0m\u001b[0;34m]\u001b[0m\u001b[0;34m\u001b[0m\u001b[0;34m\u001b[0m\u001b[0m\n\u001b[1;32m    116\u001b[0m             \u001b[0;32mif\u001b[0m \u001b[0;32mnot\u001b[0m \u001b[0mpredicate\u001b[0m\u001b[0;34m(\u001b[0m\u001b[0mvalue\u001b[0m\u001b[0;34m)\u001b[0m\u001b[0;34m:\u001b[0m\u001b[0;34m\u001b[0m\u001b[0;34m\u001b[0m\u001b[0m\n\u001b[0;32m--> 117\u001b[0;31m                 \u001b[0;32mraise\u001b[0m \u001b[0mValueError\u001b[0m\u001b[0;34m(\u001b[0m\u001b[0;34mf'`{name}` is not a permitted global'\u001b[0m\u001b[0;34m)\u001b[0m\u001b[0;34m\u001b[0m\u001b[0;34m\u001b[0m\u001b[0m\n\u001b[0m\u001b[1;32m    118\u001b[0m         \u001b[0;32melif\u001b[0m \u001b[0minstruction\u001b[0m\u001b[0;34m.\u001b[0m\u001b[0mopname\u001b[0m \u001b[0;34m==\u001b[0m \u001b[0;34m'STORE_DEREF'\u001b[0m\u001b[0;34m:\u001b[0m\u001b[0;34m\u001b[0m\u001b[0;34m\u001b[0m\u001b[0m\n\u001b[1;32m    119\u001b[0m             \u001b[0mallowed\u001b[0m\u001b[0;34m.\u001b[0m\u001b[0mappend\u001b[0m\u001b[0;34m(\u001b[0m\u001b[0mname\u001b[0m\u001b[0;34m)\u001b[0m\u001b[0;34m\u001b[0m\u001b[0;34m\u001b[0m\u001b[0m\n",
            "\u001b[0;31mValueError\u001b[0m: `myfun2` is not a permitted global"
          ]
        }
      ]
    },
    {
      "cell_type": "code",
      "metadata": {
        "colab": {
          "base_uri": "https://localhost:8080/"
        },
        "id": "DAqLZ8PdAquy",
        "outputId": "021e8282-a283-414c-ef1d-46521da89e49"
      },
      "source": [
        "@localscope.mfc # allow for global methods, functions, classes\n",
        "def myfun4():\n",
        "  return myfun2()\n",
        "\n",
        "myfun4()"
      ],
      "execution_count": null,
      "outputs": [
        {
          "output_type": "execute_result",
          "data": {
            "text/plain": [
              "42"
            ]
          },
          "metadata": {
            "tags": []
          },
          "execution_count": 11
        }
      ]
    },
    {
      "cell_type": "markdown",
      "metadata": {
        "id": "iZaeVouoAhXP"
      },
      "source": [
        "## Factoring out functionality into files stored on github\n",
        "\n",
        "The recommended workflow is to  develop your code in the colab in the usual way, and when it is working, to factor out the core code into separate files. You can  edit these files locally in the colab editor, and then push the code to github when ready (see details above). To run functions defined in a local file, just import them. For example, suppose we have created the file /content/pyprobml/scripts/fit_flax.py; we  can use this idiom to run its test suite:\n",
        "```\n",
        "import pyprobml.scripts.fit_flax as ff\n",
        "ff.test()\n",
        "```\n",
        "If you make local edits, you want to be sure\n",
        " that you always import the latest version of the file (not a cached version). So you need to use this piece of colab magic first:\n",
        "```\n",
        "%load_ext autoreload\n",
        "%autoreload 2\n",
        "```\n"
      ]
    },
    {
      "cell_type": "markdown",
      "metadata": {
        "id": "DdXlYCe1AlJa"
      },
      "source": [
        "\n",
        "## File editors\n",
        "\n",
        "Colab has a simple file editor, illustrated below for an example file.\n",
        "This lets you separate your code from the output of your code, as with other IDEs, such as [Jupyter lab](https://jupyterlab.readthedocs.io/en/stable/).\n",
        "\n",
        "\n",
        "<img src=\"https://github.com/probml/pyprobml/blob/\n",
        "master/book1/intro/figures/colab-file-editor.png?raw=true\">\n"
      ]
    },
    {
      "cell_type": "markdown",
      "metadata": {
        "id": "4qi2xKMbAnlj"
      },
      "source": [
        "\n",
        "## VScode\n",
        "The default colab file editor is very primitive.\n",
        "See [this article](https://amitness.com/vscode-on-colab/) for how to run VScode\n",
        "from inside your Colab browser. Unfortunately this is a bit slow. It is also possible to run VScode locally on your laptop, and have it connect to colab via SSH, but this is more complex (see [this medium post](https://medium.com/@robertbracco1/configuring-google-colab-like-a-pro-d61c253f7573#4cf4) for details).\n"
      ]
    },
    {
      "cell_type": "markdown",
      "metadata": {
        "id": "7KrRcbQ71ZyZ"
      },
      "source": [
        "# Hardware accelerators\n",
        "\n",
        "By default, Colab runs on a CPU, but you can select GPU or TPU for extra speed, as we show below. To get access to more powerful machines (with faster processors, more memory, and longer idle timeouts), you can subscript to [Colab Pro](https://colab.research.google.com/signup). At the time of writing (Jan 2021), the cost is $10/month (USD). This is a good deal if you use GPUs a lot. \n"
      ]
    },
    {
      "cell_type": "markdown",
      "metadata": {
        "id": "Qpb9N-c-3RSf"
      },
      "source": [
        "## CPUs\n",
        "\n",
        "To see what devices you have, use this command.\n"
      ]
    },
    {
      "cell_type": "code",
      "metadata": {
        "colab": {
          "base_uri": "https://localhost:8080/"
        },
        "id": "SZYIR1Kk1ktp",
        "outputId": "04ab4999-74d4-47d6-f9cb-004ca13b590b"
      },
      "source": [
        "from tensorflow.python.client import device_lib\n",
        "device_lib.list_local_devices()"
      ],
      "execution_count": null,
      "outputs": [
        {
          "output_type": "execute_result",
          "data": {
            "text/plain": [
              "[name: \"/device:CPU:0\"\n",
              " device_type: \"CPU\"\n",
              " memory_limit: 268435456\n",
              " locality {\n",
              " }\n",
              " incarnation: 12564556295328712695, name: \"/device:GPU:0\"\n",
              " device_type: \"GPU\"\n",
              " memory_limit: 15692777408\n",
              " locality {\n",
              "   bus_id: 1\n",
              "   links {\n",
              "   }\n",
              " }\n",
              " incarnation: 6192511611231741902\n",
              " physical_device_desc: \"device: 0, name: Tesla P100-PCIE-16GB, pci bus id: 0000:00:04.0, compute capability: 6.0\"]"
            ]
          },
          "metadata": {
            "tags": []
          },
          "execution_count": 4
        }
      ]
    },
    {
      "cell_type": "code",
      "metadata": {
        "colab": {
          "base_uri": "https://localhost:8080/"
        },
        "id": "hs_l1zUY3UuQ",
        "outputId": "99a7db7f-6325-452e-ca69-ab7439070d67"
      },
      "source": [
        "!cat /proc/version"
      ],
      "execution_count": null,
      "outputs": [
        {
          "output_type": "stream",
          "text": [
            "Linux version 4.19.112+ (builder@a12462ca91c8) (Chromium OS 10.0_pre377782_p20200113-r10 clang version 10.0.0 (/var/cache/chromeos-cache/distfiles/host/egit-src/llvm-project 4e8231b5cf0f5f62c7a51a857e29f5be5cb55734)) #1 SMP Thu Jul 23 08:00:38 PDT 2020\n"
          ],
          "name": "stdout"
        }
      ]
    },
    {
      "cell_type": "code",
      "metadata": {
        "colab": {
          "base_uri": "https://localhost:8080/"
        },
        "id": "WHG13Iwa3Z5k",
        "outputId": "ebc74028-163e-48e2-a0c6-56667e4e0c0d"
      },
      "source": [
        "from psutil import cpu_count\n",
        "\n",
        "print('num cores', cpu_count())\n",
        "\n",
        "!cat /proc/cpuinfo\n"
      ],
      "execution_count": null,
      "outputs": [
        {
          "output_type": "stream",
          "text": [
            "num cores 4\n",
            "processor\t: 0\n",
            "vendor_id\t: GenuineIntel\n",
            "cpu family\t: 6\n",
            "model\t\t: 79\n",
            "model name\t: Intel(R) Xeon(R) CPU @ 2.20GHz\n",
            "stepping\t: 0\n",
            "microcode\t: 0x1\n",
            "cpu MHz\t\t: 2200.000\n",
            "cache size\t: 56320 KB\n",
            "physical id\t: 0\n",
            "siblings\t: 4\n",
            "core id\t\t: 0\n",
            "cpu cores\t: 2\n",
            "apicid\t\t: 0\n",
            "initial apicid\t: 0\n",
            "fpu\t\t: yes\n",
            "fpu_exception\t: yes\n",
            "cpuid level\t: 13\n",
            "wp\t\t: yes\n",
            "flags\t\t: fpu vme de pse tsc msr pae mce cx8 apic sep mtrr pge mca cmov pat pse36 clflush mmx fxsr sse sse2 ss ht syscall nx pdpe1gb rdtscp lm constant_tsc rep_good nopl xtopology nonstop_tsc cpuid tsc_known_freq pni pclmulqdq ssse3 fma cx16 pcid sse4_1 sse4_2 x2apic movbe popcnt aes xsave avx f16c rdrand hypervisor lahf_lm abm 3dnowprefetch invpcid_single ssbd ibrs ibpb stibp fsgsbase tsc_adjust bmi1 hle avx2 smep bmi2 erms invpcid rtm rdseed adx smap xsaveopt arat md_clear arch_capabilities\n",
            "bugs\t\t: cpu_meltdown spectre_v1 spectre_v2 spec_store_bypass l1tf mds swapgs taa\n",
            "bogomips\t: 4400.00\n",
            "clflush size\t: 64\n",
            "cache_alignment\t: 64\n",
            "address sizes\t: 46 bits physical, 48 bits virtual\n",
            "power management:\n",
            "\n",
            "processor\t: 1\n",
            "vendor_id\t: GenuineIntel\n",
            "cpu family\t: 6\n",
            "model\t\t: 79\n",
            "model name\t: Intel(R) Xeon(R) CPU @ 2.20GHz\n",
            "stepping\t: 0\n",
            "microcode\t: 0x1\n",
            "cpu MHz\t\t: 2200.000\n",
            "cache size\t: 56320 KB\n",
            "physical id\t: 0\n",
            "siblings\t: 4\n",
            "core id\t\t: 1\n",
            "cpu cores\t: 2\n",
            "apicid\t\t: 2\n",
            "initial apicid\t: 2\n",
            "fpu\t\t: yes\n",
            "fpu_exception\t: yes\n",
            "cpuid level\t: 13\n",
            "wp\t\t: yes\n",
            "flags\t\t: fpu vme de pse tsc msr pae mce cx8 apic sep mtrr pge mca cmov pat pse36 clflush mmx fxsr sse sse2 ss ht syscall nx pdpe1gb rdtscp lm constant_tsc rep_good nopl xtopology nonstop_tsc cpuid tsc_known_freq pni pclmulqdq ssse3 fma cx16 pcid sse4_1 sse4_2 x2apic movbe popcnt aes xsave avx f16c rdrand hypervisor lahf_lm abm 3dnowprefetch invpcid_single ssbd ibrs ibpb stibp fsgsbase tsc_adjust bmi1 hle avx2 smep bmi2 erms invpcid rtm rdseed adx smap xsaveopt arat md_clear arch_capabilities\n",
            "bugs\t\t: cpu_meltdown spectre_v1 spectre_v2 spec_store_bypass l1tf mds swapgs taa\n",
            "bogomips\t: 4400.00\n",
            "clflush size\t: 64\n",
            "cache_alignment\t: 64\n",
            "address sizes\t: 46 bits physical, 48 bits virtual\n",
            "power management:\n",
            "\n",
            "processor\t: 2\n",
            "vendor_id\t: GenuineIntel\n",
            "cpu family\t: 6\n",
            "model\t\t: 79\n",
            "model name\t: Intel(R) Xeon(R) CPU @ 2.20GHz\n",
            "stepping\t: 0\n",
            "microcode\t: 0x1\n",
            "cpu MHz\t\t: 2200.000\n",
            "cache size\t: 56320 KB\n",
            "physical id\t: 0\n",
            "siblings\t: 4\n",
            "core id\t\t: 0\n",
            "cpu cores\t: 2\n",
            "apicid\t\t: 1\n",
            "initial apicid\t: 1\n",
            "fpu\t\t: yes\n",
            "fpu_exception\t: yes\n",
            "cpuid level\t: 13\n",
            "wp\t\t: yes\n",
            "flags\t\t: fpu vme de pse tsc msr pae mce cx8 apic sep mtrr pge mca cmov pat pse36 clflush mmx fxsr sse sse2 ss ht syscall nx pdpe1gb rdtscp lm constant_tsc rep_good nopl xtopology nonstop_tsc cpuid tsc_known_freq pni pclmulqdq ssse3 fma cx16 pcid sse4_1 sse4_2 x2apic movbe popcnt aes xsave avx f16c rdrand hypervisor lahf_lm abm 3dnowprefetch invpcid_single ssbd ibrs ibpb stibp fsgsbase tsc_adjust bmi1 hle avx2 smep bmi2 erms invpcid rtm rdseed adx smap xsaveopt arat md_clear arch_capabilities\n",
            "bugs\t\t: cpu_meltdown spectre_v1 spectre_v2 spec_store_bypass l1tf mds swapgs taa\n",
            "bogomips\t: 4400.00\n",
            "clflush size\t: 64\n",
            "cache_alignment\t: 64\n",
            "address sizes\t: 46 bits physical, 48 bits virtual\n",
            "power management:\n",
            "\n",
            "processor\t: 3\n",
            "vendor_id\t: GenuineIntel\n",
            "cpu family\t: 6\n",
            "model\t\t: 79\n",
            "model name\t: Intel(R) Xeon(R) CPU @ 2.20GHz\n",
            "stepping\t: 0\n",
            "microcode\t: 0x1\n",
            "cpu MHz\t\t: 2200.000\n",
            "cache size\t: 56320 KB\n",
            "physical id\t: 0\n",
            "siblings\t: 4\n",
            "core id\t\t: 1\n",
            "cpu cores\t: 2\n",
            "apicid\t\t: 3\n",
            "initial apicid\t: 3\n",
            "fpu\t\t: yes\n",
            "fpu_exception\t: yes\n",
            "cpuid level\t: 13\n",
            "wp\t\t: yes\n",
            "flags\t\t: fpu vme de pse tsc msr pae mce cx8 apic sep mtrr pge mca cmov pat pse36 clflush mmx fxsr sse sse2 ss ht syscall nx pdpe1gb rdtscp lm constant_tsc rep_good nopl xtopology nonstop_tsc cpuid tsc_known_freq pni pclmulqdq ssse3 fma cx16 pcid sse4_1 sse4_2 x2apic movbe popcnt aes xsave avx f16c rdrand hypervisor lahf_lm abm 3dnowprefetch invpcid_single ssbd ibrs ibpb stibp fsgsbase tsc_adjust bmi1 hle avx2 smep bmi2 erms invpcid rtm rdseed adx smap xsaveopt arat md_clear arch_capabilities\n",
            "bugs\t\t: cpu_meltdown spectre_v1 spectre_v2 spec_store_bypass l1tf mds swapgs taa\n",
            "bogomips\t: 4400.00\n",
            "clflush size\t: 64\n",
            "cache_alignment\t: 64\n",
            "address sizes\t: 46 bits physical, 48 bits virtual\n",
            "power management:\n",
            "\n"
          ],
          "name": "stdout"
        }
      ]
    },
    {
      "cell_type": "markdown",
      "metadata": {
        "id": "PivaBI5za45p"
      },
      "source": [
        "## Memory\n"
      ]
    },
    {
      "cell_type": "code",
      "metadata": {
        "colab": {
          "base_uri": "https://localhost:8080/"
        },
        "id": "xg3C0Yrq3job",
        "outputId": "0b480191-8489-4b6c-fc26-c6f3b51aecc2"
      },
      "source": [
        "from psutil import virtual_memory\n",
        "ram_gb = virtual_memory().total / 1e9\n",
        "print('RAM (GB)', ram_gb)\n"
      ],
      "execution_count": null,
      "outputs": [
        {
          "output_type": "stream",
          "text": [
            "RAM (GB) 27.393818624\n"
          ],
          "name": "stdout"
        }
      ]
    },
    {
      "cell_type": "code",
      "metadata": {
        "colab": {
          "base_uri": "https://localhost:8080/"
        },
        "id": "W_I7m_hUbBpu",
        "outputId": "b688a7d0-1c53-4864-c79f-fde42cda4db6"
      },
      "source": [
        "\n",
        "!cat /proc/meminfo"
      ],
      "execution_count": null,
      "outputs": [
        {
          "output_type": "stream",
          "text": [
            "MemTotal:       26751776 kB\n",
            "MemFree:        23653276 kB\n",
            "MemAvailable:   25773356 kB\n",
            "Buffers:          109276 kB\n",
            "Cached:          2230616 kB\n",
            "SwapCached:            0 kB\n",
            "Active:           756592 kB\n",
            "Inactive:        1980036 kB\n",
            "Active(anon):     363548 kB\n",
            "Inactive(anon):      416 kB\n",
            "Active(file):     393044 kB\n",
            "Inactive(file):  1979620 kB\n",
            "Unevictable:           0 kB\n",
            "Mlocked:               0 kB\n",
            "SwapTotal:             0 kB\n",
            "SwapFree:              0 kB\n",
            "Dirty:               392 kB\n",
            "Writeback:             0 kB\n",
            "AnonPages:        396824 kB\n",
            "Mapped:           212400 kB\n",
            "Shmem:              1032 kB\n",
            "Slab:             201364 kB\n",
            "SReclaimable:     140252 kB\n",
            "SUnreclaim:        61112 kB\n",
            "KernelStack:        4528 kB\n",
            "PageTables:         5336 kB\n",
            "NFS_Unstable:          0 kB\n",
            "Bounce:                0 kB\n",
            "WritebackTmp:          0 kB\n",
            "CommitLimit:    13375888 kB\n",
            "Committed_AS:    3257684 kB\n",
            "VmallocTotal:   34359738367 kB\n",
            "VmallocUsed:           0 kB\n",
            "VmallocChunk:          0 kB\n",
            "Percpu:             2096 kB\n",
            "AnonHugePages:         0 kB\n",
            "ShmemHugePages:        0 kB\n",
            "ShmemPmdMapped:        0 kB\n",
            "HugePages_Total:       0\n",
            "HugePages_Free:        0\n",
            "HugePages_Rsvd:        0\n",
            "HugePages_Surp:        0\n",
            "Hugepagesize:       2048 kB\n",
            "Hugetlb:               0 kB\n",
            "DirectMap4k:      134376 kB\n",
            "DirectMap2M:     4059136 kB\n",
            "DirectMap1G:    25165824 kB\n"
          ],
          "name": "stdout"
        }
      ]
    },
    {
      "cell_type": "markdown",
      "metadata": {
        "id": "v0G2d13kIEz5"
      },
      "source": [
        "## GPUs\n",
        "\n",
        "If you select the 'Runtime' menu at top left, and then select 'Change runtime type' and then select 'GPU', you can get free access to a GPU. \n",
        "\n",
        "\n",
        "<img src=\"https://github.com/probml/pyprobml/blob/\n",
        "master/book1/intro/figures/colab-change-runtime.png?raw=true\" height=300>\n",
        "<img src=\"https://github.com/probml/pyprobml/blob/\n",
        "master/book1/intro/figures/colab-select-gpu.png?raw=true\" height=200>\n",
        "\n"
      ]
    },
    {
      "cell_type": "markdown",
      "metadata": {
        "id": "MGVZB0esI0QG"
      },
      "source": [
        "\n",
        "To see what kind of GPU you are using, see below.\n"
      ]
    },
    {
      "cell_type": "code",
      "metadata": {
        "id": "FikkXWQqBU9O",
        "colab": {
          "base_uri": "https://localhost:8080/"
        },
        "outputId": "655ec017-3552-4390-bd7e-21e48ebc4ea9"
      },
      "source": [
        "gpu_info = !nvidia-smi\n",
        "gpu_info = '\\n'.join(gpu_info)\n",
        "print(gpu_info)"
      ],
      "execution_count": null,
      "outputs": [
        {
          "output_type": "stream",
          "text": [
            "Tue Jan 19 23:05:41 2021       \n",
            "+-----------------------------------------------------------------------------+\n",
            "| NVIDIA-SMI 460.32.03    Driver Version: 418.67       CUDA Version: 10.1     |\n",
            "|-------------------------------+----------------------+----------------------+\n",
            "| GPU  Name        Persistence-M| Bus-Id        Disp.A | Volatile Uncorr. ECC |\n",
            "| Fan  Temp  Perf  Pwr:Usage/Cap|         Memory-Usage | GPU-Util  Compute M. |\n",
            "|                               |                      |               MIG M. |\n",
            "|===============================+======================+======================|\n",
            "|   0  Tesla P100-PCIE...  Off  | 00000000:00:04.0 Off |                    0 |\n",
            "| N/A   32C    P0    25W / 250W |      0MiB / 16280MiB |      0%      Default |\n",
            "|                               |                      |                 ERR! |\n",
            "+-------------------------------+----------------------+----------------------+\n",
            "                                                                               \n",
            "+-----------------------------------------------------------------------------+\n",
            "| Processes:                                                                  |\n",
            "|  GPU   GI   CI        PID   Type   Process name                  GPU Memory |\n",
            "|        ID   ID                                                   Usage      |\n",
            "|=============================================================================|\n",
            "|  No running processes found                                                 |\n",
            "+-----------------------------------------------------------------------------+\n"
          ],
          "name": "stdout"
        }
      ]
    },
    {
      "cell_type": "code",
      "metadata": {
        "colab": {
          "base_uri": "https://localhost:8080/"
        },
        "id": "GU6nII1F5S2S",
        "outputId": "d220a1a6-cc83-4718-c77e-2df38f13bf9c"
      },
      "source": [
        "!grep Model: /proc/driver/nvidia/gpus/*/information | awk '{$1=\"\";print$0}'"
      ],
      "execution_count": null,
      "outputs": [
        {
          "output_type": "stream",
          "text": [
            " Tesla P100-PCIE-16GB\n"
          ],
          "name": "stdout"
        }
      ]
    },
    {
      "cell_type": "markdown",
      "metadata": {
        "id": "8hYLvG1KgM6K"
      },
      "source": [
        "# Using Julia in colab\n",
        "\n",
        "See [this colab](https://colab.research.google.com/github/ageron/julia_notebooks/blob/master/Julia_Colab_Notebook_Template.ipynb)"
      ]
    },
    {
      "cell_type": "code",
      "metadata": {
        "id": "hzi1OpMaZlAc"
      },
      "source": [
        ""
      ],
      "execution_count": null,
      "outputs": []
    }
  ]
}