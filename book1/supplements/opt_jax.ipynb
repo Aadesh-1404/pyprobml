{
  "nbformat": 4,
  "nbformat_minor": 0,
  "metadata": {
    "colab": {
      "name": "opt_jax.ipynb",
      "provenance": [],
      "toc_visible": true,
      "include_colab_link": true
    },
    "kernelspec": {
      "name": "python3",
      "display_name": "Python 3"
    },
    "accelerator": "GPU"
  },
  "cells": [
    {
      "cell_type": "markdown",
      "metadata": {
        "id": "view-in-github",
        "colab_type": "text"
      },
      "source": [
        "<a href=\"https://colab.research.google.com/github/probml/pyprobml/blob/master/book1/optimization/opt_jax.ipynb\" target=\"_parent\"><img src=\"https://colab.research.google.com/assets/colab-badge.svg\" alt=\"Open In Colab\"/></a>"
      ]
    },
    {
      "cell_type": "markdown",
      "metadata": {
        "id": "b520E1nCIBHc"
      },
      "source": [
        "# Optimization (JAX version)\n",
        "\n",
        "In this notebook, we explore various  algorithms\n",
        "for solving optimization problems of the form\n",
        "$$\n",
        "x* = \\arg \\min_{x \\in X} f(x)\n",
        "$$\n",
        "We focus on the case where $f: R^D \\rightarrow R$ is a differentiable function\n",
        "\n",
        "## TOC\n",
        "* [Automatic differentiation](#AD)\n",
        "* [Second-order full-batch optimization](#second)\n",
        "* [Stochastic gradient descent](#SGD)\n"
      ]
    },
    {
      "cell_type": "code",
      "metadata": {
        "id": "UeuOgABaIENZ"
      },
      "source": [
        "import sklearn\n",
        "import scipy\n",
        "import scipy.optimize\n",
        "import matplotlib.pyplot as plt\n",
        "import warnings\n",
        "warnings.filterwarnings('ignore')\n",
        "import itertools\n",
        "import time\n",
        "from functools import partial\n",
        "import os\n",
        "\n",
        "import numpy as np\n",
        "#np.set_printoptions(precision=3)\n",
        "np.set_printoptions(formatter={'float': lambda x: \"{0:0.5f}\".format(x)})"
      ],
      "execution_count": 46,
      "outputs": []
    },
    {
      "cell_type": "code",
      "metadata": {
        "id": "TNQHpyKLIx_P",
        "colab": {
          "base_uri": "https://localhost:8080/"
        },
        "outputId": "88ddc2a4-a496-4370-87c3-7733fd34c6eb"
      },
      "source": [
        "# https://github.com/google/jax\n",
        "import jax\n",
        "import jax.numpy as jnp\n",
        "\n",
        "from jax.scipy.special import logsumexp\n",
        "from jax import grad, hessian, jacfwd, jacrev, jit, vmap\n",
        "from jax.experimental import optimizers\n",
        "print(\"jax version {}\".format(jax.__version__))\n",
        "\n"
      ],
      "execution_count": 11,
      "outputs": [
        {
          "output_type": "stream",
          "text": [
            "jax version 0.2.7\n"
          ],
          "name": "stdout"
        }
      ]
    },
    {
      "cell_type": "markdown",
      "metadata": {
        "id": "Br921MsmKQkt"
      },
      "source": [
        "# Fit a binary logistic regression model using sklearn\n",
        "\n",
        "As a running example, we will use binary logistic regression on the iris dataset."
      ]
    },
    {
      "cell_type": "code",
      "metadata": {
        "id": "c3fX16J4IoL_",
        "colab": {
          "base_uri": "https://localhost:8080/"
        },
        "outputId": "f7f1ae99-4dbe-43d9-eef6-e3b7abf6217a"
      },
      "source": [
        "# Fit the model to a dataset, so we have an \"interesting\" parameter vector to use.\n",
        "\n",
        "import sklearn.datasets\n",
        "from sklearn.model_selection import train_test_split\n",
        "\n",
        "iris = sklearn.datasets.load_iris()\n",
        "X = iris[\"data\"]\n",
        "y = (iris[\"target\"] == 2).astype(np.int)  # 1 if Iris-Virginica, else 0'\n",
        "N, D = X.shape # 150, 4\n",
        "\n",
        "X_train, X_test, y_train, y_test = train_test_split(\n",
        "        X, y, test_size=0.33, random_state=42)\n",
        "\n",
        "from sklearn.linear_model import LogisticRegression\n",
        "\n",
        "# We set C to a large number to turn off regularization.\n",
        "# We don't fit the bias term to simplify the comparison below.\n",
        "log_reg = LogisticRegression(solver=\"lbfgs\", C=1e5, fit_intercept=False)\n",
        "log_reg.fit(X_train, y_train)\n",
        "w_mle_sklearn = jnp.ravel(log_reg.coef_)\n",
        "print(w_mle_sklearn)"
      ],
      "execution_count": 8,
      "outputs": [
        {
          "output_type": "stream",
          "text": [
            "[-4.414 -9.111  6.539 12.686]\n"
          ],
          "name": "stdout"
        }
      ]
    },
    {
      "cell_type": "markdown",
      "metadata": {
        "id": "R_HQrexrySmT"
      },
      "source": [
        "# Objectives and their gradients\n",
        "\n",
        "The key input to an optimization algorithm (aka solver) is the objective function and its gradient. As an example, we use negative log likelihood for a binary logistic regression model as the objective. We compute the gradient by hand, and also use JAX's autodiff feature.\n"
      ]
    },
    {
      "cell_type": "markdown",
      "metadata": {
        "id": "-pIgD7iRLUBt"
      },
      "source": [
        "## Manual differentiation <a class=\"anchor\" id=\"AD\"></a>\n",
        "\n",
        "We compute the gradient of the negative log likelihood for binary logistic regression applied to the Iris dataset. "
      ]
    },
    {
      "cell_type": "code",
      "metadata": {
        "id": "iS5AB9NjLZ_i"
      },
      "source": [
        "\n",
        "# Binary cross entropy\n",
        "def BCE_with_logits(logits, targets):\n",
        "  #BCE = -sum_n log(p1)*yn + log(p0)*y0\n",
        "  #p1 = 1/(1+exp(-a)\n",
        "  #log(p1) = log(1) - log(1+exp(-a)) = 0 - logsumexp(0, -a)\n",
        "  N = logits.shape[0]\n",
        "  logits = logits.reshape(N,1)\n",
        "  logits_plus = jnp.hstack([jnp.zeros((N,1)), logits]) # e^0=1\n",
        "  logits_minus = jnp.hstack([jnp.zeros((N,1)), -logits])\n",
        "  logp1 = -logsumexp(logits_minus, axis=1)\n",
        "  logp0 = -logsumexp(logits_plus, axis=1)\n",
        "  logprobs = logp1 * targets + logp0 * (1-targets)\n",
        "  return -jnp.sum(logprobs)/N\n",
        "\n",
        "def sigmoid(x): return 0.5 * (jnp.tanh(x / 2.) + 1)\n",
        "\n",
        "def predict_logit(weights, inputs):\n",
        "    return jnp.dot(inputs, weights) \n",
        "\n",
        "def predict_prob(weights, inputs):\n",
        "    return sigmoid(predict_logit(weights, inputs))\n",
        "\n",
        "def NLL(weights, batch):\n",
        "    X, y = batch\n",
        "    logits = predict_logit(weights, X)\n",
        "    return BCE_with_logits(logits, y)\n",
        "\n",
        "def NLL_grad(weights, batch):\n",
        "    X, y = batch\n",
        "    N = X.shape[0]\n",
        "    mu = predict_prob(weights, X)\n",
        "    g = jnp.sum(jnp.dot(jnp.diag(mu - y), X), axis=0)/N\n",
        "    return g\n"
      ],
      "execution_count": 12,
      "outputs": []
    },
    {
      "cell_type": "code",
      "metadata": {
        "colab": {
          "base_uri": "https://localhost:8080/"
        },
        "id": "Y0nT1ASb86iJ",
        "outputId": "ee95b841-a003-4750-e270-622c09473941"
      },
      "source": [
        "w = w_mle_sklearn\n",
        "y_pred = predict_prob(w, X_test)\n",
        "loss = NLL(w, (X_test, y_test))\n",
        "grad_np = NLL_grad(w, (X_test, y_test))\n",
        "print(\"params {}\".format(w))\n",
        "#print(\"pred {}\".format(y_pred))\n",
        "print(\"loss {}\".format(loss))\n",
        "print(\"grad {}\".format(grad_np))"
      ],
      "execution_count": 15,
      "outputs": [
        {
          "output_type": "stream",
          "text": [
            "params [-4.414 -9.111  6.539 12.686]\n",
            "loss 0.11824002861976624\n",
            "grad [-0.235 -0.122 -0.198 -0.064]\n"
          ],
          "name": "stdout"
        }
      ]
    },
    {
      "cell_type": "markdown",
      "metadata": {
        "id": "OLyk46HbLhgT"
      },
      "source": [
        "## Automatic differentiation in JAX  <a class=\"anchor\" id=\"AD-jax\"></a>\n",
        "\n",
        "Below we use JAX to compute the gradient of the NLL for binary logistic regression.\n",
        "\n"
      ]
    },
    {
      "cell_type": "code",
      "metadata": {
        "id": "9GkR1yHNLcjU",
        "colab": {
          "base_uri": "https://localhost:8080/"
        },
        "outputId": "0c6adb38-7892-4f12-8ccb-bbd3aea2518b"
      },
      "source": [
        "\n",
        "grad_jax = grad(NLL)(w, (X_test, y_test))\n",
        "print(\"grad {}\".format(grad_jax))\n",
        "assert np.allclose(grad_np, grad_jax)"
      ],
      "execution_count": 16,
      "outputs": [
        {
          "output_type": "stream",
          "text": [
            "grad [-0.235 -0.122 -0.198 -0.064]\n"
          ],
          "name": "stdout"
        }
      ]
    },
    {
      "cell_type": "markdown",
      "metadata": {
        "id": "8BXji_6BL87s"
      },
      "source": [
        "# Second-order, full-batch optimization <a class=\"anchor\" id=\"second\"></a>\n",
        "\n",
        "The \"gold standard\" of optimization is second-order methods, that leverage Hessian information. Since the Hessian has O(D^2) parameters, such methods do not scale to high-dimensional problems. However, we can sometimes approximate the Hessian using low-rank or diagonal approximations. Below we illustrate the low-rank BFGS method, and the limited-memory version of BFGS, that uses O(D H) space and O(D^2) time per step, where H is the history length.\n",
        "\n",
        "In general, second-order methods also require exact (rather than noisy) gradients. In the context of ML, this means they are \"full batch\" methods, since computing the exact gradient requires evaluating the loss on all the datapoints. However, for small data problems, this is feasible (and advisable).\n",
        "\n",
        "Below we illustrate how to use LBFGS as in [scipy.optimize](https://docs.scipy.org/doc/scipy/reference/generated/scipy.optimize.minimize.html#scipy.optimize.minimize)\n",
        "                    "
      ]
    },
    {
      "cell_type": "code",
      "metadata": {
        "id": "kkTaK-WZMAGL",
        "colab": {
          "base_uri": "https://localhost:8080/"
        },
        "outputId": "53d4d12b-a57e-48ee-8a28-d044f22242b3"
      },
      "source": [
        "import scipy.optimize\n",
        "\n",
        "def training_loss(w):\n",
        "    return NLL(w, (X_train, y_train))\n",
        "\n",
        "def training_grad(w):\n",
        "    return NLL_grad(w, (X_train, y_train))\n",
        "\n",
        "np.random.seed(42)\n",
        "w_init = np.random.randn(D)\n",
        "\n",
        "options={'disp': None,   'maxfun': 1000, 'maxiter': 1000}\n",
        "method = 'BFGS'\n",
        "# The gradient function is specified via the Jacobian keyword\n",
        "w_mle_scipy = scipy.optimize.minimize(training_loss, w_init, jac=training_grad, method=method, options=options).x   \n",
        "\n",
        "print(\"parameters from sklearn {}\".format(w_mle_sklearn))\n",
        "print(\"parameters from scipy-bfgs {}\".format(w_mle_scipy))\n",
        "assert np.allclose(w_mle_sklearn, w_mle_scipy, atol=1e-1)"
      ],
      "execution_count": 18,
      "outputs": [
        {
          "output_type": "stream",
          "text": [
            "parameters from sklearn [-4.414 -9.111  6.539 12.686]\n",
            "parameters from scipy-bfgs [-4.415 -9.115  6.541 12.692]\n"
          ],
          "name": "stdout"
        }
      ]
    },
    {
      "cell_type": "code",
      "metadata": {
        "id": "g5cLYkceMG7A",
        "colab": {
          "base_uri": "https://localhost:8080/"
        },
        "outputId": "67bdd114-0442-483f-d298-af0715bbc5d2"
      },
      "source": [
        "# Limited memory version requires that we work with 64bit, since implemented in Fortran.\n",
        "\n",
        "def training_loss_64bit(w):\n",
        "    l = NLL(w, (X_train, y_train))\n",
        "    return np.float64(l)\n",
        "\n",
        "def training_grad_64bit(w):\n",
        "    g = NLL_grad(w, (X_train, y_train))\n",
        "    return np.asarray(g, dtype=np.float64)\n",
        "\n",
        "np.random.seed(42)\n",
        "w_init = np.random.randn(D)                 \n",
        "\n",
        "memory = 10\n",
        "options={'disp': None, 'maxcor': memory,  'maxfun': 1000, 'maxiter': 1000}\n",
        "# The code also handles bound constraints, hence the name\n",
        "method = 'L-BFGS-B'\n",
        "#w_mle_scipy = scipy.optimize.minimize(training_loss, w_init, jac=training_grad, method=method).x \n",
        "w_mle_scipy = scipy.optimize.minimize(training_loss_64bit, w_init, jac=training_grad_64bit, method=method).x \n",
        "\n",
        "\n",
        "print(\"parameters from sklearn {}\".format(w_mle_sklearn))\n",
        "print(\"parameters from scipy-lbfgs {}\".format(w_mle_scipy))\n",
        "assert np.allclose(w_mle_sklearn, w_mle_scipy, atol=1e-1)"
      ],
      "execution_count": 20,
      "outputs": [
        {
          "output_type": "stream",
          "text": [
            "parameters from sklearn [-4.414 -9.111  6.539 12.686]\n",
            "parameters from scipy-lbfgs [-4.415 -9.114  6.54  12.692]\n"
          ],
          "name": "stdout"
        }
      ]
    },
    {
      "cell_type": "markdown",
      "metadata": {
        "id": "eiZXds_DMj31"
      },
      "source": [
        "# Stochastic gradient descent <a class=\"anchor\" id=\"SGD\"></a>\n",
        "\n",
        "In this section we  illustrate how to implement SGD. We apply it to a simple convex problem, namely MLE for binary logistic regression on the small iris dataset, so we can compare to the exact batch methods we illustrated above.\n",
        "We make use of [Tensorflow datasets](https://github.com/probml/pyprobml/tree/master/book1/intro/tfds_intro.ipynb) to convert our data to a stream of minibatches."
      ]
    },
    {
      "cell_type": "markdown",
      "metadata": {
        "id": "DtOeheP-MnB7"
      },
      "source": [
        "## Numpy version\n",
        "We show a minimal implementation of SGD using vanilla numpy. For convenience, we use TFDS to create a stream of mini-batches. We compute gradients by hand, but can use any AD library.\n"
      ]
    },
    {
      "cell_type": "code",
      "metadata": {
        "colab": {
          "base_uri": "https://localhost:8080/"
        },
        "id": "2fcr5EQg-3ix",
        "outputId": "20cbcb7c-cc92-42b8-b8f6-4d5c74647540"
      },
      "source": [
        "import tensorflow as tf\n",
        "import tensorflow_datasets as tfds\n",
        "\n",
        "def make_batch_stream(X_train, y_train, batch_size):\n",
        "  dataset = tf.data.Dataset.from_tensor_slices({\"X\": X_train, \"y\": y_train})\n",
        "  batches = dataset.batch(batch_size)\n",
        "  batch_stream = tfds.as_numpy(batches)  # finite iterable of dict of NumPy arrays\n",
        "  N = X_train.shape[0]\n",
        "  nbatches = int(np.floor(N/batch_size))\n",
        "  print('{} examples split into {} batches of size {}'.format(N, nbatches, batch_size))\n",
        "  return batch_stream\n",
        "\n",
        "batch_stream = make_batch_stream(X_train, y_train, 20)\n",
        "for epoch in range(2):\n",
        "  print('epoch {}'.format(epoch))\n",
        "  for batch in batch_stream:\n",
        "    x, y = batch[\"X\"], batch[\"y\"]\n",
        "    print(x.shape) # batch size * num features = 4"
      ],
      "execution_count": 21,
      "outputs": [
        {
          "output_type": "stream",
          "text": [
            "100 examples split into 5 batches of size 20\n",
            "epoch 0\n",
            "(20, 4)\n",
            "(20, 4)\n",
            "(20, 4)\n",
            "(20, 4)\n",
            "(20, 4)\n",
            "epoch 1\n",
            "(20, 4)\n",
            "(20, 4)\n",
            "(20, 4)\n",
            "(20, 4)\n",
            "(20, 4)\n"
          ],
          "name": "stdout"
        }
      ]
    },
    {
      "cell_type": "code",
      "metadata": {
        "id": "wG9tVufuMTui"
      },
      "source": [
        "def sgd(params, loss_fn, grad_loss_fn, batch_iter, max_epochs, lr):\n",
        "    print_every = max(1, int(0.1*max_epochs))\n",
        "    for epoch in range(max_epochs):\n",
        "        epoch_loss = 0.0\n",
        "        for batch_dict in batch_iter:\n",
        "            x, y = batch_dict[\"X\"], batch_dict[\"y\"]\n",
        "            batch = (x, y)\n",
        "            batch_grad = grad_loss_fn(params, batch)\n",
        "            params = params - lr*batch_grad\n",
        "            batch_loss = loss_fn(params, batch) # Average loss within this batch\n",
        "            epoch_loss += batch_loss\n",
        "        if epoch % print_every == 0:\n",
        "            print('Epoch {}, batch Loss {}'.format(epoch, batch_loss))\n",
        "    return params,\n"
      ],
      "execution_count": 22,
      "outputs": []
    },
    {
      "cell_type": "code",
      "metadata": {
        "id": "5sV3NbjvM6ai",
        "colab": {
          "base_uri": "https://localhost:8080/"
        },
        "outputId": "c3721299-6730-4d49-9cf5-a6903e96e223"
      },
      "source": [
        "np.random.seed(42)\n",
        "w_init = np.random.randn(D) \n",
        "\n",
        "max_epochs = 5\n",
        "lr = 0.1\n",
        "batch_size = 10\n",
        "batch_stream = make_batch_stream(X_train, y_train, batch_size)\n",
        "w_mle_sgd = sgd(w_init, NLL, NLL_grad, batch_stream, max_epochs, lr)\n",
        "print(w_mle_sgd)"
      ],
      "execution_count": 23,
      "outputs": [
        {
          "output_type": "stream",
          "text": [
            "100 examples split into 10 batches of size 10\n",
            "Epoch 0, batch Loss 0.36490145325660706\n",
            "Epoch 1, batch Loss 0.34500643610954285\n",
            "Epoch 2, batch Loss 0.32851698994636536\n",
            "Epoch 3, batch Loss 0.3143332600593567\n",
            "Epoch 4, batch Loss 0.3018316626548767\n",
            "(DeviceArray([-0.538, -0.827,  0.613,  1.661], dtype=float32),)\n"
          ],
          "name": "stdout"
        }
      ]
    },
    {
      "cell_type": "markdown",
      "metadata": {
        "id": "NtFGH_OeZUVj"
      },
      "source": [
        "## Jax version <a class=\"anchor\" id=\"SGD-jax\"></a>\n",
        "\n",
        "JAX has a small optimization library focused on stochastic first-order optimizers. Every optimizer is modeled as an (`init_fun`, `update_fun`, `get_params`) triple of functions. The `init_fun` is used to initialize the optimizer state, which could include things like momentum variables, and the `update_fun` accepts a gradient and an optimizer state to produce a new optimizer state. The `get_params` function extracts the current iterate (i.e. the current parameters) from the optimizer state. The parameters being optimized can be ndarrays or arbitrarily-nested list/tuple/dict structures, so you can store your parameters however you’d like.\n",
        "\n",
        "Below we show how to reproduce our numpy code using this library."
      ]
    },
    {
      "cell_type": "code",
      "metadata": {
        "id": "PtBbjnzRM79T"
      },
      "source": [
        "# Version that uses JAX optimization library\n",
        "\n",
        "#@jit\n",
        "def sgd_jax(params, loss_fn, batch_stream, max_epochs, opt_init, opt_update, get_params):\n",
        "    loss_history = []\n",
        "    opt_state = opt_init(params)\n",
        "    \n",
        "    #@jit\n",
        "    def update(i, opt_state, batch):\n",
        "        params = get_params(opt_state)\n",
        "        g = grad(loss_fn)(params, batch)\n",
        "        return opt_update(i, g, opt_state) \n",
        "    \n",
        "    print_every = max(1, int(0.1*max_epochs))\n",
        "    total_steps = 0\n",
        "    for epoch in range(max_epochs):\n",
        "        epoch_loss = 0.0\n",
        "        for batch_dict in batch_stream:\n",
        "            X, y = batch_dict[\"X\"], batch_dict[\"y\"]\n",
        "            batch = (X, y)\n",
        "            total_steps += 1\n",
        "            opt_state = update(total_steps, opt_state, batch)\n",
        "        params = get_params(opt_state)\n",
        "        train_loss = np.float(loss_fn(params, batch))\n",
        "        loss_history.append(train_loss)\n",
        "        if epoch % print_every == 0:\n",
        "            print('Epoch {}, batch loss {}'.format(epoch, train_loss))\n",
        "    return params, loss_history"
      ],
      "execution_count": 24,
      "outputs": []
    },
    {
      "cell_type": "code",
      "metadata": {
        "id": "NCOrHGTvbbfC",
        "colab": {
          "base_uri": "https://localhost:8080/"
        },
        "outputId": "83562836-cc46-4a09-ceb1-3d5307f30c3f"
      },
      "source": [
        "# JAX with constant LR should match our minimal version of SGD\n",
        "\n",
        "schedule = optimizers.constant(step_size=lr)\n",
        "opt_init, opt_update, get_params = optimizers.sgd(step_size=schedule)\n",
        "\n",
        "w_mle_sgd2, history = sgd_jax(w_init, NLL, batch_stream, max_epochs, \n",
        "                              opt_init, opt_update, get_params)\n",
        "print(w_mle_sgd2)\n",
        "print(history)"
      ],
      "execution_count": 25,
      "outputs": [
        {
          "output_type": "stream",
          "text": [
            "Epoch 0, batch loss 0.36490148305892944\n",
            "Epoch 1, batch loss 0.34500643610954285\n",
            "Epoch 2, batch loss 0.32851701974868774\n",
            "Epoch 3, batch loss 0.3143332004547119\n",
            "Epoch 4, batch loss 0.3018316924571991\n",
            "[-0.538 -0.827  0.613  1.661]\n",
            "[0.36490148305892944, 0.34500643610954285, 0.32851701974868774, 0.3143332004547119, 0.3018316924571991]\n"
          ],
          "name": "stdout"
        }
      ]
    },
    {
      "cell_type": "markdown",
      "metadata": {
        "id": "oHHGWDyLfnlk"
      },
      "source": [
        "# Fitting flax models\n",
        "\n",
        "Below we show how to fit a multi-class logistic regression model using flax. "
      ]
    },
    {
      "cell_type": "markdown",
      "metadata": {
        "id": "RUICitLqjkrR"
      },
      "source": [
        "## Import code"
      ]
    },
    {
      "cell_type": "code",
      "metadata": {
        "id": "HHI0RPrPblpY",
        "colab": {
          "base_uri": "https://localhost:8080/"
        },
        "outputId": "6bde95e6-132f-4cd1-c411-6b4d7bd4cd01"
      },
      "source": [
        "# Install Flax at head:\n",
        "!pip install --upgrade -q git+https://github.com/google/flax.git"
      ],
      "execution_count": 26,
      "outputs": [
        {
          "output_type": "stream",
          "text": [
            "  Building wheel for flax (setup.py) ... \u001b[?25l\u001b[?25hdone\n"
          ],
          "name": "stdout"
        }
      ]
    },
    {
      "cell_type": "code",
      "metadata": {
        "id": "jyv9ODiCf_aH"
      },
      "source": [
        "import flax\n",
        "from flax.core import freeze, unfreeze\n",
        "from flax import linen as nn\n",
        "from flax import optim\n",
        "\n",
        "from jax.config import config\n",
        "config.enable_omnistaging() # Linen requires enabling omnistaging"
      ],
      "execution_count": 27,
      "outputs": []
    },
    {
      "cell_type": "code",
      "metadata": {
        "colab": {
          "base_uri": "https://localhost:8080/"
        },
        "id": "pBzM5HwiiuM6",
        "outputId": "f004a57e-996a-4999-8935-8c008556b5c8"
      },
      "source": [
        "# Book code\n",
        "!git clone https://github.com/probml/pyprobml"
      ],
      "execution_count": 28,
      "outputs": [
        {
          "output_type": "stream",
          "text": [
            "Cloning into 'pyprobml'...\n",
            "remote: Enumerating objects: 62, done.\u001b[K\n",
            "remote: Counting objects: 100% (62/62), done.\u001b[K\n",
            "remote: Compressing objects: 100% (56/56), done.\u001b[K\n",
            "remote: Total 5489 (delta 29), reused 16 (delta 6), pack-reused 5427\u001b[K\n",
            "Receiving objects: 100% (5489/5489), 197.46 MiB | 30.28 MiB/s, done.\n",
            "Resolving deltas: 100% (3084/3084), done.\n",
            "Checking out files: 100% (473/473), done.\n"
          ],
          "name": "stdout"
        }
      ]
    },
    {
      "cell_type": "code",
      "metadata": {
        "colab": {
          "base_uri": "https://localhost:8080/"
        },
        "id": "dKcrB1ZUi03D",
        "outputId": "ab48450f-68db-4893-e909-444b374bc522"
      },
      "source": [
        "!cat pyprobml/scripts/fit_flax.py"
      ],
      "execution_count": 30,
      "outputs": [
        {
          "output_type": "stream",
          "text": [
            "# Fitting functions for flax models\n",
            "\n",
            "\n",
            "import numpy as np\n",
            "import jax\n",
            "import jax.numpy as jnp\n",
            "import pandas as pd\n",
            "\n",
            "\n",
            "def fit_model(model, train_iter, test_iter,  rng,\n",
            "        num_steps, make_optimizer, train_batch, eval_batch,\n",
            "        preprocess_train_batch = None, preprocess_test_batch = None,\n",
            "        print_every = 1, eval_every = 1):\n",
            "  batch = next(train_iter)\n",
            "  X = batch['X']\n",
            "  params = model.init(rng, X)['params']\n",
            "  optimizer = make_optimizer.create(params)  \n",
            "  history = pd.DataFrame({'train_loss': [], 'train_accuracy': [],\n",
            "                   'test_loss': [], 'test_accuracy': [], 'step': []})\n",
            "  \n",
            "  for step in range(num_steps):\n",
            "    batch = next(train_iter)\n",
            "    if preprocess_train_batch is not None:\n",
            "      batch = preprocess_train_batch(batch, rng)\n",
            "    optimizer, train_metrics = train_batch(model, optimizer, batch)\n",
            "    if (print_every > 0) & (step % print_every == 0):\n",
            "       print('train step: {:d}, loss: {:0.4f}, accuracy: {:0.2f}'.format(\n",
            "              step, train_metrics['loss'], \n",
            "                 train_metrics['accuracy']))\n",
            "       \n",
            "    if (eval_every > 0) & (step % eval_every == 0):\n",
            "      batch = next(test_iter)\n",
            "      if preprocess_test_batch is not None:\n",
            "        batch = preprocess_test_batch(batch, rng)\n",
            "      test_metrics = eval_batch(model, optimizer.target, batch)\n",
            "      history = history.append(\n",
            "                {'train_loss': train_metrics['loss'],\n",
            "                'train_accuracy': train_metrics['accuracy'],\n",
            "                'test_loss': test_metrics['loss'],\n",
            "                'test_accuracy': test_metrics['accuracy'],\n",
            "                'step': step},\n",
            "                ignore_index=True\n",
            "                )\n",
            "      \n",
            "  params = optimizer.target\n",
            "  return params, history\n",
            "\n",
            "\n",
            "\n",
            "def onehot(labels, num_classes):\n",
            "  y = (labels[..., None] == jnp.arange(num_classes)[None])\n",
            "  return y.astype(jnp.float32)\n",
            "\n",
            "def cross_entropy_loss_onehot(logits, onehots):\n",
            "  return -jnp.mean(jnp.sum(onehots * logits, axis=-1))\n",
            "\n",
            "def compute_metrics(logits, onehots):\n",
            "  loss = cross_entropy_loss_onehot(logits, onehots)\n",
            "  accuracy = jnp.mean(jnp.argmax(logits, -1) == jnp.argmax(onehots, -1))\n",
            "  metrics = {\n",
            "      'loss': loss,\n",
            "      'accuracy': accuracy,\n",
            "  }\n",
            "  return metrics\n",
            "\n",
            "def eval_batch(model, params, batch):\n",
            "  logits = model.apply({'params': params}, batch['X'])\n",
            "  onehots = onehot(batch['y'], model.nclasses)\n",
            "  return compute_metrics(logits, onehots)\n",
            "\n",
            "eval_batch = jax.jit(eval_batch, static_argnums=0)\n",
            "\n",
            "def train_batch(model, optimizer, batch):\n",
            "  onehots = onehot(batch['y'], model.nclasses)\n",
            "  def loss_fn(params):\n",
            "    logits = model.apply({'params': params}, batch['X'])\n",
            "    loss = cross_entropy_loss_onehot(logits, onehots)\n",
            "    return loss, logits\n",
            "  grad_fn = jax.value_and_grad(loss_fn, has_aux=True)\n",
            "  (_, logits), grad = grad_fn(optimizer.target)\n",
            "  optimizer = optimizer.apply_gradient(grad)\n",
            "  metrics = compute_metrics(logits, onehots)\n",
            "  return optimizer, metrics\n",
            "\n",
            "train_batch = jax.jit(train_batch, static_argnums=0)\n",
            "\n",
            "\n",
            "############ Testing\n",
            "\n",
            "import flax\n",
            "from flax.core import freeze, unfreeze\n",
            "from flax import linen as nn\n",
            "from flax import optim\n",
            "\n",
            "from jax.config import config\n",
            "config.enable_omnistaging() # Linen requires enabling omnistaging\n",
            "\n",
            "class ModelTest(nn.Module):\n",
            "  nhidden: int\n",
            "  nclasses: int\n",
            "  @nn.compact\n",
            "  def __call__(self, x):\n",
            "    if self.nhidden > 0:\n",
            "      x = nn.Dense(self.nhidden)(x)\n",
            "      x = nn.relu(x)\n",
            "    x = nn.Dense(self.nclasses)(x)\n",
            "    x = nn.log_softmax(x)\n",
            "    return x\n",
            "\n",
            "\n",
            "def fit_model_test():\n",
            "  # We just check we can run the functions and that they return \"something\"\n",
            "  N = 3; D = 5; C = 10;\n",
            "  model = ModelTest(nhidden = 0, nclasses = C)\n",
            "  rng = jax.random.PRNGKey(0)\n",
            "  X = np.random.randn(N,D)\n",
            "  y = np.random.choice(C, size=N, p=(1/C)*np.ones(C));\n",
            "  batch = {'X': X, 'y': y}\n",
            "  params = model.init(rng, X)['params']\n",
            "  metrics = eval_batch(model, params, batch)\n",
            "  make_optimizer = optim.Momentum(learning_rate=0.1, beta=0.9)\n",
            "  optimizer = make_optimizer.create(params)\n",
            "  optimizer, metrics = train_batch(model, optimizer, batch)\n",
            "  #print(optimizer)\n",
            "  num_steps = 2\n",
            "  def make_iter():\n",
            "    while True:\n",
            "      yield batch\n",
            "  train_iter = make_iter(); test_iter = make_iter();\n",
            "  params, history =  fit_model(model, train_iter, test_iter,  rng,\n",
            "      num_steps, make_optimizer, train_batch, eval_batch,\n",
            "      print_every=1)\n",
            "  print('test passed')\n",
            "  \n",
            "  \n",
            "def main():\n",
            "    fit_model_test()\n",
            "\n",
            "if __name__ == \"__main__\":\n",
            "    main()\n",
            "    \n"
          ],
          "name": "stdout"
        }
      ]
    },
    {
      "cell_type": "code",
      "metadata": {
        "id": "0kXCvH37o58s"
      },
      "source": [
        ""
      ],
      "execution_count": null,
      "outputs": []
    },
    {
      "cell_type": "code",
      "metadata": {
        "colab": {
          "base_uri": "https://localhost:8080/"
        },
        "id": "4SMa9njai3Qt",
        "outputId": "7161a0ac-a403-4780-90bb-d9bf9a66cb7c"
      },
      "source": [
        "os.chdir('pyprobml/scripts')\n",
        "import fit_flax as ff\n",
        "ff.fit_model_test()"
      ],
      "execution_count": 31,
      "outputs": [
        {
          "output_type": "stream",
          "text": [
            "train step: 0, loss: 3.4245, accuracy: 0.00\n",
            "train step: 1, loss: 3.2471, accuracy: 0.00\n",
            "test passed\n"
          ],
          "name": "stdout"
        }
      ]
    },
    {
      "cell_type": "code",
      "metadata": {
        "id": "ibqUSp6KpH-E"
      },
      "source": [
        "\n",
        "from google.colab import files\n",
        "#files.view('fit_flax.py')"
      ],
      "execution_count": null,
      "outputs": []
    },
    {
      "cell_type": "markdown",
      "metadata": {
        "id": "wHnVMv3zjnt3"
      },
      "source": [
        "## Data"
      ]
    },
    {
      "cell_type": "code",
      "metadata": {
        "colab": {
          "base_uri": "https://localhost:8080/"
        },
        "id": "0a-tDJOfjIf7",
        "outputId": "63ab2bd3-7293-41cf-dee1-70baf911623e"
      },
      "source": [
        "import tensorflow as tf\n",
        "import tensorflow_datasets as tfds\n",
        "\n",
        "import sklearn\n",
        "import sklearn.datasets\n",
        "from sklearn.model_selection import train_test_split\n",
        "\n",
        "def get_datasets_iris():\n",
        "  iris = sklearn.datasets.load_iris()\n",
        "  X = iris[\"data\"]\n",
        "  y = iris[\"target\"] \n",
        "  N, D = X.shape # 150, 4\n",
        "  X_train, X_test, y_train, y_test = train_test_split(\n",
        "          X, y, test_size=0.33, random_state=42)\n",
        "  train_data = {'X': X_train, 'y': y_train}\n",
        "  test_data = {'X': X_test, 'y': y_test}\n",
        "  return train_data, test_data\n",
        "\n",
        "def load_dataset_iris(split, batch_size=None):\n",
        "  train_ds, test_ds = get_datasets_iris()\n",
        "  if split == tfds.Split.TRAIN:\n",
        "    ds = tf.data.Dataset.from_tensor_slices({\"X\": train_ds[\"X\"], \"y\": train_ds[\"y\"]})\n",
        "  elif split == tfds.Split.TEST:\n",
        "    ds = tf.data.Dataset.from_tensor_slices({\"X\": test_ds[\"X\"], \"y\": test_ds[\"y\"]})\n",
        "  if batch_size is not None:\n",
        "    ds = ds.shuffle(buffer_size=batch_size)\n",
        "    ds = ds.batch(batch_size)\n",
        "  else:\n",
        "    N = len(train_ds['X'])\n",
        "    ds = ds.batch(N)\n",
        "  ds = ds.prefetch(buffer_size=5)\n",
        "  ds = ds.repeat() # make infinite stream of data\n",
        "  return iter(tfds.as_numpy(ds)) # python iterator\n",
        "\n",
        "\n",
        "batch_size = 30\n",
        "train_ds = load_dataset_iris(tfds.Split.TRAIN, batch_size)\n",
        "batch = next(train_ds)\n",
        "print(batch['X'].shape)\n",
        "print(batch['y'].shape)\n",
        "\n",
        "test_ds = load_dataset_iris(tfds.Split.TEST, None) # load full test set\n",
        "batch = next(test_ds)\n",
        "print(batch['X'].shape)\n",
        "print(batch['y'].shape)"
      ],
      "execution_count": 38,
      "outputs": [
        {
          "output_type": "stream",
          "text": [
            "(30, 4)\n",
            "(30,)\n",
            "(50, 4)\n",
            "(50,)\n"
          ],
          "name": "stdout"
        }
      ]
    },
    {
      "cell_type": "markdown",
      "metadata": {
        "id": "VrzcCrmsjpi-"
      },
      "source": [
        "## Model"
      ]
    },
    {
      "cell_type": "code",
      "metadata": {
        "id": "P5JQ3iovjqGS"
      },
      "source": [
        "class Model(nn.Module):\n",
        "  nhidden: int\n",
        "  nclasses: int\n",
        "\n",
        "  @nn.compact\n",
        "  def __call__(self, x):\n",
        "    if self.nhidden > 0:\n",
        "      x = nn.Dense(self.nhidden)(x)\n",
        "      x = nn.relu(x)\n",
        "    x = nn.Dense(self.nclasses)(x)\n",
        "    x = nn.log_softmax(x)\n",
        "    return x"
      ],
      "execution_count": 34,
      "outputs": []
    },
    {
      "cell_type": "markdown",
      "metadata": {
        "id": "bwuGK8GJjxy_"
      },
      "source": [
        "## Training loop\n"
      ]
    },
    {
      "cell_type": "code",
      "metadata": {
        "colab": {
          "base_uri": "https://localhost:8080/",
          "height": 238
        },
        "id": "fN29jn7XjzG1",
        "outputId": "874725af-ad23-4fd0-c9a6-2376f8f9eacc"
      },
      "source": [
        "from flax import optim\n",
        "\n",
        "make_optimizer = optim.Momentum(learning_rate=0.1, beta=0.9)\n",
        "\n",
        "model = Model(nhidden = 0, nclasses=3) # no hidden units ie logistic regression\n",
        "\n",
        "batch_size = 100 # 30 # full batch training\n",
        "train_ds = load_dataset_iris(tfds.Split.TRAIN, batch_size)\n",
        "test_ds = load_dataset_iris(tfds.Split.TEST, batch_size)\n",
        "\n",
        "\n",
        "def preprocess_batch(batch, prng_key = None):\n",
        "  X = batch['X']\n",
        "  y = batch['y']\n",
        "  #d = {'X': X, 'y': onehot(y, num_classes=3)}\n",
        "  d = {'X': X, 'y': y}\n",
        "  return d\n",
        "\n",
        "rng = jax.random.PRNGKey(0)\n",
        "num_steps = 200\n",
        "\n",
        "params, history =  ff.fit_model(model, train_ds, test_ds,  rng,\n",
        "        num_steps, make_optimizer,\n",
        "        ff.train_batch, ff.eval_batch, \n",
        "        print_every=50, eval_every=50)\n",
        "  \n",
        "display(history)"
      ],
      "execution_count": 41,
      "outputs": [
        {
          "output_type": "stream",
          "text": [
            "train step: 0, loss: 4.2830, accuracy: 0.35\n",
            "train step: 50, loss: 0.1424, accuracy: 0.94\n",
            "train step: 100, loss: 0.1041, accuracy: 0.98\n",
            "train step: 150, loss: 0.0955, accuracy: 0.98\n"
          ],
          "name": "stdout"
        },
        {
          "output_type": "display_data",
          "data": {
            "text/html": [
              "<div>\n",
              "<style scoped>\n",
              "    .dataframe tbody tr th:only-of-type {\n",
              "        vertical-align: middle;\n",
              "    }\n",
              "\n",
              "    .dataframe tbody tr th {\n",
              "        vertical-align: top;\n",
              "    }\n",
              "\n",
              "    .dataframe thead th {\n",
              "        text-align: right;\n",
              "    }\n",
              "</style>\n",
              "<table border=\"1\" class=\"dataframe\">\n",
              "  <thead>\n",
              "    <tr style=\"text-align: right;\">\n",
              "      <th></th>\n",
              "      <th>train_loss</th>\n",
              "      <th>train_accuracy</th>\n",
              "      <th>test_loss</th>\n",
              "      <th>test_accuracy</th>\n",
              "      <th>step</th>\n",
              "    </tr>\n",
              "  </thead>\n",
              "  <tbody>\n",
              "    <tr>\n",
              "      <th>0</th>\n",
              "      <td>4.2829556</td>\n",
              "      <td>0.35</td>\n",
              "      <td>1.8996173</td>\n",
              "      <td>0.28</td>\n",
              "      <td>0.0</td>\n",
              "    </tr>\n",
              "    <tr>\n",
              "      <th>1</th>\n",
              "      <td>0.14242826</td>\n",
              "      <td>0.94</td>\n",
              "      <td>0.13580628</td>\n",
              "      <td>0.9</td>\n",
              "      <td>50.0</td>\n",
              "    </tr>\n",
              "    <tr>\n",
              "      <th>2</th>\n",
              "      <td>0.10408674</td>\n",
              "      <td>0.97999996</td>\n",
              "      <td>0.086586</td>\n",
              "      <td>1.0</td>\n",
              "      <td>100.0</td>\n",
              "    </tr>\n",
              "    <tr>\n",
              "      <th>3</th>\n",
              "      <td>0.09550042</td>\n",
              "      <td>0.97999996</td>\n",
              "      <td>0.08249063</td>\n",
              "      <td>0.97999996</td>\n",
              "      <td>150.0</td>\n",
              "    </tr>\n",
              "  </tbody>\n",
              "</table>\n",
              "</div>"
            ],
            "text/plain": [
              "   train_loss train_accuracy   test_loss test_accuracy   step\n",
              "0   4.2829556           0.35   1.8996173          0.28    0.0\n",
              "1  0.14242826           0.94  0.13580628           0.9   50.0\n",
              "2  0.10408674     0.97999996    0.086586           1.0  100.0\n",
              "3  0.09550042     0.97999996  0.08249063    0.97999996  150.0"
            ]
          },
          "metadata": {
            "tags": []
          }
        }
      ]
    },
    {
      "cell_type": "code",
      "metadata": {
        "colab": {
          "base_uri": "https://localhost:8080/",
          "height": 278
        },
        "id": "-NzU_wMAkut-",
        "outputId": "f4a5a51c-2348-437d-b7a4-2864f4a7c750"
      },
      "source": [
        "plt.figure()\n",
        "plt.plot(history['step'], history['test_accuracy'], 'o-', label='test accuracy')\n",
        "plt.xlabel('num. minibatches')\n",
        "plt.legend()\n",
        "plt.show()"
      ],
      "execution_count": 42,
      "outputs": [
        {
          "output_type": "display_data",
          "data": {
            "image/png": "[encoded data removed]",
            "text/plain": [
              "<Figure size 432x288 with 1 Axes>"
            ]
          },
          "metadata": {
            "tags": [],
            "needs_background": "light"
          }
        }
      ]
    },
    {
      "cell_type": "markdown",
      "metadata": {
        "id": "um91hW0ikzfe"
      },
      "source": [
        "## Compare to sklearn\n"
      ]
    },
    {
      "cell_type": "code",
      "metadata": {
        "colab": {
          "base_uri": "https://localhost:8080/"
        },
        "id": "1XPa5V5hk0vd",
        "outputId": "e860d4bf-7f83-416a-ef32-4f707d17f803"
      },
      "source": [
        "train_ds, test_ds = get_datasets_iris()\n",
        "from sklearn.linear_model import LogisticRegression\n",
        "\n",
        "# We set C to a large number to turn off regularization.\n",
        "log_reg = LogisticRegression(solver=\"lbfgs\", C=1e3, fit_intercept=True)\n",
        "log_reg.fit(train_ds['X'], train_ds['y'])\n",
        "\n",
        "w_sklearn = np.ravel(log_reg.coef_)\n",
        "print(w_sklearn)\n",
        "b_sklearn = np.ravel(log_reg.intercept_)\n",
        "print(b_sklearn)\n",
        "\n",
        "yprob_sklearn = log_reg.predict_proba(test_ds['X'])\n",
        "print(yprob_sklearn.shape)\n",
        "print(yprob_sklearn[:10,:])\n",
        "\n",
        "\n",
        "ypred_sklearn = jnp.argmax(yprob_sklearn, axis=-1)\n",
        "print(ypred_sklearn.shape)\n",
        "print(ypred_sklearn[:10])"
      ],
      "execution_count": 47,
      "outputs": [
        {
          "output_type": "stream",
          "text": [
            "[5.69473 8.89993 -12.90385 -6.59589 -1.40077 1.88896 0.08464 -14.39687\n",
            " -4.29397 -10.78889 12.81921 20.99277]\n",
            "[3.97582 32.52712 -36.50294]\n",
            "(50, 3)\n",
            "[[0.00000 1.00000 0.00000]\n",
            " [1.00000 0.00000 0.00000]\n",
            " [0.00000 0.00000 1.00000]\n",
            " [0.00000 0.99999 0.00000]\n",
            " [0.00001 0.99999 0.00000]\n",
            " [1.00000 0.00000 0.00000]\n",
            " [0.00605 0.99395 0.00000]\n",
            " [0.00000 0.00000 1.00000]\n",
            " [0.00000 0.98867 0.01133]\n",
            " [0.00006 0.99994 0.00000]]\n",
            "(50,)\n",
            "[1 0 2 1 1 0 1 2 1 1]\n"
          ],
          "name": "stdout"
        }
      ]
    },
    {
      "cell_type": "code",
      "metadata": {
        "colab": {
          "base_uri": "https://localhost:8080/"
        },
        "id": "I_QxgKCilBrn",
        "outputId": "f32a115b-4f8d-49e6-93e8-54e7e169af61"
      },
      "source": [
        "# Flax version\n",
        "print(params)\n",
        "\n",
        "train_ds, test_ds = get_datasets_iris()\n",
        "Xtest = test_ds['X']\n",
        "logits = model.apply({'params': params}, Xtest)\n",
        "yprob = nn.softmax(logits)\n",
        "print(yprob.shape)\n",
        "print(yprob[:10,:])\n",
        "print(np.allclose(yprob_sklearn, yprob, atol=1e-0)) # very loose numerical tolerance\n",
        "\n",
        "ypred = jnp.argmax(yprob, axis=-1)\n",
        "print(ypred[:10])\n",
        "print(np.allclose(ypred_sklearn, ypred))"
      ],
      "execution_count": 48,
      "outputs": [
        {
          "output_type": "stream",
          "text": [
            "FrozenDict({\n",
            "    Dense_0: {\n",
            "        bias: DeviceArray([0.67322, 1.05858, -1.73180], dtype=float32),\n",
            "        kernel: DeviceArray([[1.13125, 0.95521, -2.30099],\n",
            "                     [2.86528, -0.09720, -3.41202],\n",
            "                     [-3.86220, -0.45856, 4.46158],\n",
            "                     [-1.57317, -1.24467, 3.70615]], dtype=float32),\n",
            "    },\n",
            "})\n",
            "(50, 3)\n",
            "[[0.00057 0.94575 0.05368]\n",
            " [0.99750 0.00250 0.00000]\n",
            " [0.00000 0.00014 0.99986]\n",
            " [0.00131 0.91360 0.08509]\n",
            " [0.00045 0.97463 0.02493]\n",
            " [0.99551 0.00449 0.00000]\n",
            " [0.02960 0.96893 0.00147]\n",
            " [0.00008 0.27976 0.72016]\n",
            " [0.00012 0.66911 0.33077]\n",
            " [0.00644 0.98950 0.00406]]\n",
            "True\n",
            "[1 0 2 1 1 0 1 2 1 1]\n",
            "True\n"
          ],
          "name": "stdout"
        }
      ]
    }
  ]
}