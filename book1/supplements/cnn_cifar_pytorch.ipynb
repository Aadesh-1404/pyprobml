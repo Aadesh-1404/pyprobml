{
  "nbformat": 4,
  "nbformat_minor": 0,
  "metadata": {
    "colab": {
      "name": "cnn_cifar_pytorch.ipynb",
      "provenance": [],
      "toc_visible": true,
      "authorship_tag": "ABX9TyMLayBTVaOyc7OZjQJG0gnk",
      "include_colab_link": true
    },
    "kernelspec": {
      "name": "python3",
      "display_name": "Python 3"
    },
    "language_info": {
      "name": "python"
    },
    "accelerator": "GPU",
    "widgets": {
      "application/vnd.jupyter.widget-state+json": {
        "5dab505de7ca4009b2ecfd1ab62307cf": {
          "model_module": "@jupyter-widgets/controls",
          "model_name": "HBoxModel",
          "state": {
            "_view_name": "HBoxView",
            "_dom_classes": [],
            "_model_name": "HBoxModel",
            "_view_module": "@jupyter-widgets/controls",
            "_model_module_version": "1.5.0",
            "_view_count": null,
            "_view_module_version": "1.5.0",
            "box_style": "",
            "layout": "IPY_MODEL_c1841f30674345ea99d937fc858af911",
            "_model_module": "@jupyter-widgets/controls",
            "children": [
              "IPY_MODEL_c2c12ef1c33447769449cf3b5e6e7c85",
              "IPY_MODEL_a593c68141064bfe80ac99c690089c39"
            ]
          }
        },
        "c1841f30674345ea99d937fc858af911": {
          "model_module": "@jupyter-widgets/base",
          "model_name": "LayoutModel",
          "state": {
            "_view_name": "LayoutView",
            "grid_template_rows": null,
            "right": null,
            "justify_content": null,
            "_view_module": "@jupyter-widgets/base",
            "overflow": null,
            "_model_module_version": "1.2.0",
            "_view_count": null,
            "flex_flow": null,
            "width": null,
            "min_width": null,
            "border": null,
            "align_items": null,
            "bottom": null,
            "_model_module": "@jupyter-widgets/base",
            "top": null,
            "grid_column": null,
            "overflow_y": null,
            "overflow_x": null,
            "grid_auto_flow": null,
            "grid_area": null,
            "grid_template_columns": null,
            "flex": null,
            "_model_name": "LayoutModel",
            "justify_items": null,
            "grid_row": null,
            "max_height": null,
            "align_content": null,
            "visibility": null,
            "align_self": null,
            "height": null,
            "min_height": null,
            "padding": null,
            "grid_auto_rows": null,
            "grid_gap": null,
            "max_width": null,
            "order": null,
            "_view_module_version": "1.2.0",
            "grid_template_areas": null,
            "object_position": null,
            "object_fit": null,
            "grid_auto_columns": null,
            "margin": null,
            "display": null,
            "left": null
          }
        },
        "c2c12ef1c33447769449cf3b5e6e7c85": {
          "model_module": "@jupyter-widgets/controls",
          "model_name": "FloatProgressModel",
          "state": {
            "_view_name": "ProgressView",
            "style": "IPY_MODEL_7d069a09d8f34c5a8d8a1cc610ff492a",
            "_dom_classes": [],
            "description": "",
            "_model_name": "FloatProgressModel",
            "bar_style": "success",
            "max": 170498071,
            "_view_module": "@jupyter-widgets/controls",
            "_model_module_version": "1.5.0",
            "value": 170498071,
            "_view_count": null,
            "_view_module_version": "1.5.0",
            "orientation": "horizontal",
            "min": 0,
            "description_tooltip": null,
            "_model_module": "@jupyter-widgets/controls",
            "layout": "IPY_MODEL_345e882b75f3428694f7f948b54db2bb"
          }
        },
        "a593c68141064bfe80ac99c690089c39": {
          "model_module": "@jupyter-widgets/controls",
          "model_name": "HTMLModel",
          "state": {
            "_view_name": "HTMLView",
            "style": "IPY_MODEL_edea906585824e4ba90601a8224eac94",
            "_dom_classes": [],
            "description": "",
            "_model_name": "HTMLModel",
            "placeholder": "​",
            "_view_module": "@jupyter-widgets/controls",
            "_model_module_version": "1.5.0",
            "value": " 170499072/? [00:06&lt;00:00, 26935595.12it/s]",
            "_view_count": null,
            "_view_module_version": "1.5.0",
            "description_tooltip": null,
            "_model_module": "@jupyter-widgets/controls",
            "layout": "IPY_MODEL_0f68286df34140cdb3c577b94c9a5c82"
          }
        },
        "7d069a09d8f34c5a8d8a1cc610ff492a": {
          "model_module": "@jupyter-widgets/controls",
          "model_name": "ProgressStyleModel",
          "state": {
            "_view_name": "StyleView",
            "_model_name": "ProgressStyleModel",
            "description_width": "initial",
            "_view_module": "@jupyter-widgets/base",
            "_model_module_version": "1.5.0",
            "_view_count": null,
            "_view_module_version": "1.2.0",
            "bar_color": null,
            "_model_module": "@jupyter-widgets/controls"
          }
        },
        "345e882b75f3428694f7f948b54db2bb": {
          "model_module": "@jupyter-widgets/base",
          "model_name": "LayoutModel",
          "state": {
            "_view_name": "LayoutView",
            "grid_template_rows": null,
            "right": null,
            "justify_content": null,
            "_view_module": "@jupyter-widgets/base",
            "overflow": null,
            "_model_module_version": "1.2.0",
            "_view_count": null,
            "flex_flow": null,
            "width": null,
            "min_width": null,
            "border": null,
            "align_items": null,
            "bottom": null,
            "_model_module": "@jupyter-widgets/base",
            "top": null,
            "grid_column": null,
            "overflow_y": null,
            "overflow_x": null,
            "grid_auto_flow": null,
            "grid_area": null,
            "grid_template_columns": null,
            "flex": null,
            "_model_name": "LayoutModel",
            "justify_items": null,
            "grid_row": null,
            "max_height": null,
            "align_content": null,
            "visibility": null,
            "align_self": null,
            "height": null,
            "min_height": null,
            "padding": null,
            "grid_auto_rows": null,
            "grid_gap": null,
            "max_width": null,
            "order": null,
            "_view_module_version": "1.2.0",
            "grid_template_areas": null,
            "object_position": null,
            "object_fit": null,
            "grid_auto_columns": null,
            "margin": null,
            "display": null,
            "left": null
          }
        },
        "edea906585824e4ba90601a8224eac94": {
          "model_module": "@jupyter-widgets/controls",
          "model_name": "DescriptionStyleModel",
          "state": {
            "_view_name": "StyleView",
            "_model_name": "DescriptionStyleModel",
            "description_width": "",
            "_view_module": "@jupyter-widgets/base",
            "_model_module_version": "1.5.0",
            "_view_count": null,
            "_view_module_version": "1.2.0",
            "_model_module": "@jupyter-widgets/controls"
          }
        },
        "0f68286df34140cdb3c577b94c9a5c82": {
          "model_module": "@jupyter-widgets/base",
          "model_name": "LayoutModel",
          "state": {
            "_view_name": "LayoutView",
            "grid_template_rows": null,
            "right": null,
            "justify_content": null,
            "_view_module": "@jupyter-widgets/base",
            "overflow": null,
            "_model_module_version": "1.2.0",
            "_view_count": null,
            "flex_flow": null,
            "width": null,
            "min_width": null,
            "border": null,
            "align_items": null,
            "bottom": null,
            "_model_module": "@jupyter-widgets/base",
            "top": null,
            "grid_column": null,
            "overflow_y": null,
            "overflow_x": null,
            "grid_auto_flow": null,
            "grid_area": null,
            "grid_template_columns": null,
            "flex": null,
            "_model_name": "LayoutModel",
            "justify_items": null,
            "grid_row": null,
            "max_height": null,
            "align_content": null,
            "visibility": null,
            "align_self": null,
            "height": null,
            "min_height": null,
            "padding": null,
            "grid_auto_rows": null,
            "grid_gap": null,
            "max_width": null,
            "order": null,
            "_view_module_version": "1.2.0",
            "grid_template_areas": null,
            "object_position": null,
            "object_fit": null,
            "grid_auto_columns": null,
            "margin": null,
            "display": null,
            "left": null
          }
        }
      }
    }
  },
  "cells": [
    {
      "cell_type": "markdown",
      "metadata": {
        "id": "view-in-github",
        "colab_type": "text"
      },
      "source": [
        "<a href=\"https://colab.research.google.com/github/probml/pyprobml/blob/master/book1/supplements/cnn_cifar_pytorch.ipynb\" target=\"_parent\"><img src=\"https://colab.research.google.com/assets/colab-badge.svg\" alt=\"Open In Colab\"/></a>"
      ]
    },
    {
      "cell_type": "markdown",
      "metadata": {
        "id": "wwEzgnhWgIVr"
      },
      "source": [
        "\n",
        "# CNN for image classification using PyTorch\n",
        "\n",
        "In this section, we follow Chap. 8 of the [Deep Learning With PyTorch](https://pytorch.org/assets/deep-learning/Deep-Learning-with-PyTorch.pdf) book, and illustrate how to fit a CNN to a two-class version of CIFAR. We modify the code from [here](https://github.com/deep-learning-with-pytorch/dlwpt-code/blob/master/p1ch8/1_convolution.ipynb)\n"
      ]
    },
    {
      "cell_type": "code",
      "metadata": {
        "id": "RtO_TmeDgRUp"
      },
      "source": [
        "import numpy as np\n",
        "import matplotlib.pyplot as plt\n",
        "import itertools\n",
        "import time\n",
        "from functools import partial\n",
        "import os\n",
        "import collections\n",
        "\n"
      ],
      "execution_count": 3,
      "outputs": []
    },
    {
      "cell_type": "code",
      "metadata": {
        "colab": {
          "base_uri": "https://localhost:8080/"
        },
        "id": "wTzpnH_bgjD_",
        "outputId": "f1a2d7f3-6f5f-4d73-cad3-00c79152df76"
      },
      "source": [
        "\n",
        "import torch\n",
        "import torch.nn as nn\n",
        "import torch.nn.functional as F\n",
        "import torch.optim as optim\n",
        "import torchvision\n",
        "\n",
        "print(\"torch version {}\".format(torch.__version__))\n",
        "if torch.cuda.is_available():\n",
        "  print(torch.cuda.get_device_name(0))\n",
        "  print(\"current device {}\".format(torch.cuda.current_device()))\n",
        "else:\n",
        "  print(\"Torch cannot find GPU\")\n",
        "\n",
        "use_cuda = torch.cuda.is_available()\n",
        "device = torch.device(\"cuda:0\" if use_cuda else \"cpu\")\n"
      ],
      "execution_count": 4,
      "outputs": [
        {
          "output_type": "stream",
          "text": [
            "torch version 1.8.0+cu101\n",
            "Tesla V100-SXM2-16GB\n",
            "current device 0\n"
          ],
          "name": "stdout"
        }
      ]
    },
    {
      "cell_type": "markdown",
      "metadata": {
        "id": "I-OIHr6Ahgdj"
      },
      "source": [
        "# Get the data\n",
        "\n",
        "We standardize the data. (The mean/std of the RGB channels are precomputed in the MLP version of this colab.)\n"
      ]
    },
    {
      "cell_type": "code",
      "metadata": {
        "colab": {
          "base_uri": "https://localhost:8080/",
          "height": 117,
          "referenced_widgets": [
            "5dab505de7ca4009b2ecfd1ab62307cf",
            "c1841f30674345ea99d937fc858af911",
            "c2c12ef1c33447769449cf3b5e6e7c85",
            "a593c68141064bfe80ac99c690089c39",
            "7d069a09d8f34c5a8d8a1cc610ff492a",
            "345e882b75f3428694f7f948b54db2bb",
            "edea906585824e4ba90601a8224eac94",
            "0f68286df34140cdb3c577b94c9a5c82"
          ]
        },
        "id": "rJkOHhx8hnAy",
        "outputId": "df619968-21ac-4e54-850f-30fe861b36d1"
      },
      "source": [
        "class_names = ['airplane','automobile','bird','cat','deer',\n",
        "               'dog','frog','horse','ship','truck']\n",
        "\n",
        "from torchvision import datasets, transforms\n",
        "data_path = 'data'\n",
        "cifar10 = datasets.CIFAR10(\n",
        "    data_path, train=True, download=True,\n",
        "    transform=transforms.Compose([\n",
        "        transforms.ToTensor(),\n",
        "        transforms.Normalize((0.4915, 0.4823, 0.4468),\n",
        "                             (0.2470, 0.2435, 0.2616))\n",
        "    ]))\n",
        "\n",
        "cifar10_val = datasets.CIFAR10(\n",
        "    data_path, train=False, download=True,\n",
        "    transform=transforms.Compose([\n",
        "        transforms.ToTensor(),\n",
        "        transforms.Normalize((0.4915, 0.4823, 0.4468),\n",
        "                             (0.2470, 0.2435, 0.2616))\n",
        "    ]))"
      ],
      "execution_count": 5,
      "outputs": [
        {
          "output_type": "stream",
          "text": [
            "Downloading https://www.cs.toronto.edu/~kriz/cifar-10-python.tar.gz to data/cifar-10-python.tar.gz\n"
          ],
          "name": "stdout"
        },
        {
          "output_type": "display_data",
          "data": {
            "application/vnd.jupyter.widget-view+json": {
              "model_id": "5dab505de7ca4009b2ecfd1ab62307cf",
              "version_minor": 0,
              "version_major": 2
            },
            "text/plain": [
              "HBox(children=(FloatProgress(value=0.0, max=170498071.0), HTML(value='')))"
            ]
          },
          "metadata": {
            "tags": []
          }
        },
        {
          "output_type": "stream",
          "text": [
            "\n",
            "Extracting data/cifar-10-python.tar.gz to data\n",
            "Files already downloaded and verified\n"
          ],
          "name": "stdout"
        }
      ]
    },
    {
      "cell_type": "code",
      "metadata": {
        "id": "iqZRbS5Ih9pN"
      },
      "source": [
        "label_map = {0: 0, 2: 1}\n",
        "class_names = ['airplane', 'bird']\n",
        "nclasses = 2\n",
        "cifar2 = [(img, label_map[label])\n",
        "          for img, label in cifar10\n",
        "          if label in [0, 2]]\n",
        "cifar2_val = [(img, label_map[label])\n",
        "              for img, label in cifar10_val\n",
        "              if label in [0, 2]]"
      ],
      "execution_count": 36,
      "outputs": []
    },
    {
      "cell_type": "markdown",
      "metadata": {
        "id": "YNUUJrQugmNE"
      },
      "source": [
        "# Basics of convolution\n",
        "\n",
        "Lets apply a set of `nfeatures` convolutional kernels to a gray scale image."
      ]
    },
    {
      "cell_type": "code",
      "metadata": {
        "colab": {
          "base_uri": "https://localhost:8080/"
        },
        "id": "DXyymfW-gjXf",
        "outputId": "917be052-7481-4427-aba9-7f2a34ef879a"
      },
      "source": [
        "img, label = cifar2[0]\n",
        "img_batch  = img.unsqueeze(0)\n",
        "print(img_batch.shape)\n",
        "\n",
        "nfeatures = 16\n",
        "kernel_size = 3\n",
        "conv = nn.Conv2d(3, nfeatures, kernel_size=kernel_size) \n",
        "output = conv(img_batch)\n",
        "print(output.shape)\n"
      ],
      "execution_count": 8,
      "outputs": [
        {
          "output_type": "stream",
          "text": [
            "torch.Size([1, 3, 32, 32])\n",
            "torch.Size([1, 16, 30, 30])\n"
          ],
          "name": "stdout"
        }
      ]
    },
    {
      "cell_type": "markdown",
      "metadata": {
        "id": "CbnqS7Cui9Kt"
      },
      "source": [
        "Now we adding padding to ensure output size is same as input."
      ]
    },
    {
      "cell_type": "code",
      "metadata": {
        "colab": {
          "base_uri": "https://localhost:8080/"
        },
        "id": "GLCDqJ03i03q",
        "outputId": "ab155e46-83a9-4e4f-9733-10f546204549"
      },
      "source": [
        "nfeatures = 16\n",
        "kernel_size = 3\n",
        "pad = kernel_size // 2\n",
        "conv = nn.Conv2d(3, nfeatures, kernel_size=kernel_size, padding=pad) \n",
        "\n",
        "output = conv(img_batch)\n",
        "print(output.shape)"
      ],
      "execution_count": 26,
      "outputs": [
        {
          "output_type": "stream",
          "text": [
            "torch.Size([1, 16, 32, 32])\n"
          ],
          "name": "stdout"
        }
      ]
    },
    {
      "cell_type": "code",
      "metadata": {
        "colab": {
          "base_uri": "https://localhost:8080/",
          "height": 216
        },
        "id": "IbnKy4jHmQTG",
        "outputId": "cf2c3bbb-fcdd-462c-a076-2782455a5315"
      },
      "source": [
        "def show_results(img_batch, output_batch, index=0, channel=0):\n",
        "  ax1 = plt.subplot(1, 2, 1)  \n",
        "  img = img_batch[index] \n",
        "  plt.imshow(img.mean(0), cmap='gray')  \n",
        "  plt.title('input')   \n",
        "  plt.subplot(1, 2, 2) #, sharex=ax1, sharey=ax1) \n",
        "  plt.title('output')   \n",
        "  out = output_batch[index, channel]\n",
        "  plt.imshow(out.detach(), cmap='gray')\n",
        "  plt.show()\n",
        "\n",
        "show_results(img_batch, output)"
      ],
      "execution_count": 27,
      "outputs": [
        {
          "output_type": "display_data",
          "data": {
            "image/png": "[encoded data removed]",
            "text/plain": [
              "<Figure size 432x288 with 2 Axes>"
            ]
          },
          "metadata": {
            "tags": [],
            "needs_background": "light"
          }
        }
      ]
    },
    {
      "cell_type": "markdown",
      "metadata": {
        "id": "JVVXo_IOn6fV"
      },
      "source": [
        "Currently the filter parameters are random."
      ]
    },
    {
      "cell_type": "code",
      "metadata": {
        "colab": {
          "base_uri": "https://localhost:8080/"
        },
        "id": "LZq-NEKKn9o3",
        "outputId": "1a11ce5c-82e0-480d-dc80-efaf5c1912a1"
      },
      "source": [
        "print(conv)\n",
        "print(conv.weight.shape) # nfeatures x nchannels x kernel x kernel\n",
        "print(conv.bias.shape) # nfeatures \n",
        "print(conv.weight[0,:,:,:])"
      ],
      "execution_count": 28,
      "outputs": [
        {
          "output_type": "stream",
          "text": [
            "Conv2d(3, 16, kernel_size=(3, 3), stride=(1, 1), padding=(1, 1))\n",
            "torch.Size([16, 3, 3, 3])\n",
            "torch.Size([16])\n",
            "tensor([[[-0.0514, -0.0149,  0.0366],\n",
            "         [ 0.0002, -0.0002, -0.0093],\n",
            "         [-0.0504, -0.0869,  0.0890]],\n",
            "\n",
            "        [[ 0.0870,  0.1831, -0.0727],\n",
            "         [ 0.1402,  0.0535, -0.0396],\n",
            "         [-0.0514, -0.0437,  0.1690]],\n",
            "\n",
            "        [[ 0.1595,  0.1416,  0.1176],\n",
            "         [-0.1433, -0.0318, -0.0465],\n",
            "         [-0.0076,  0.1596,  0.0303]]], grad_fn=<SliceBackward>)\n"
          ],
          "name": "stdout"
        }
      ]
    },
    {
      "cell_type": "markdown",
      "metadata": {
        "id": "Sgu8ZdFOnKhH"
      },
      "source": [
        "Let's make the first filter just be an averaging operation."
      ]
    },
    {
      "cell_type": "code",
      "metadata": {
        "colab": {
          "base_uri": "https://localhost:8080/",
          "height": 403
        },
        "id": "RMEzbPVImrGc",
        "outputId": "36dfd1fc-2216-4cf8-c4d9-cc7c79cdfe68"
      },
      "source": [
        "\n",
        "with torch.no_grad():\n",
        "    conv.bias.zero_()\n",
        "    \n",
        "with torch.no_grad():\n",
        "    conv.weight.fill_(1.0 / 9.0)\n",
        "print(conv.weight[0,:,:,:])\n",
        "\n",
        "output_batch = conv(img_batch)\n",
        "show_results(img_batch, output_batch)"
      ],
      "execution_count": 29,
      "outputs": [
        {
          "output_type": "stream",
          "text": [
            "tensor([[[0.1111, 0.1111, 0.1111],\n",
            "         [0.1111, 0.1111, 0.1111],\n",
            "         [0.1111, 0.1111, 0.1111]],\n",
            "\n",
            "        [[0.1111, 0.1111, 0.1111],\n",
            "         [0.1111, 0.1111, 0.1111],\n",
            "         [0.1111, 0.1111, 0.1111]],\n",
            "\n",
            "        [[0.1111, 0.1111, 0.1111],\n",
            "         [0.1111, 0.1111, 0.1111],\n",
            "         [0.1111, 0.1111, 0.1111]]], grad_fn=<SliceBackward>)\n"
          ],
          "name": "stdout"
        },
        {
          "output_type": "display_data",
          "data": {
            "image/png": "[encoded data removed]",
            "text/plain": [
              "<Figure size 432x288 with 2 Axes>"
            ]
          },
          "metadata": {
            "tags": [],
            "needs_background": "light"
          }
        }
      ]
    },
    {
      "cell_type": "markdown",
      "metadata": {
        "id": "2nDkp2_2oIEg"
      },
      "source": [
        "Let's make the first filter be a vertical edge detector."
      ]
    },
    {
      "cell_type": "code",
      "metadata": {
        "colab": {
          "base_uri": "https://localhost:8080/",
          "height": 216
        },
        "id": "0jFq8d13nfdx",
        "outputId": "3f88d038-8b8a-4fca-e7eb-5943aaf30c36"
      },
      "source": [
        "\n",
        "conv = nn.Conv2d(3, 1, kernel_size=3, padding=1)\n",
        "\n",
        "with torch.no_grad():\n",
        "    conv.weight[:] = torch.tensor([[-1.0, 0.0, 1.0],\n",
        "                                   [-1.0, 0.0, 1.0],\n",
        "                                   [-1.0, 0.0, 1.0]])\n",
        "    conv.bias.zero_()\n",
        "\n",
        "output_batch = conv(img_batch)\n",
        "show_results(img_batch, output_batch)"
      ],
      "execution_count": 30,
      "outputs": [
        {
          "output_type": "display_data",
          "data": {
            "image/png": "[encoded data removed]",
            "text/plain": [
              "<Figure size 432x288 with 2 Axes>"
            ]
          },
          "metadata": {
            "tags": [],
            "needs_background": "light"
          }
        }
      ]
    },
    {
      "cell_type": "markdown",
      "metadata": {
        "id": "Hna7FLWDpdey"
      },
      "source": [
        "# Max-pooling\n",
        "\n",
        "We can reduce the size of the internal feature maps by using max-pooling."
      ]
    },
    {
      "cell_type": "code",
      "metadata": {
        "colab": {
          "base_uri": "https://localhost:8080/",
          "height": 233
        },
        "id": "3g4_2jqEoTuB",
        "outputId": "a62a649a-99ad-4f60-fabc-f3c86f08fc77"
      },
      "source": [
        "pool = nn.MaxPool2d(2)\n",
        "output_batch = pool(img_batch)\n",
        "print(output_batch.shape)\n",
        "\n",
        "show_results(img_batch, output_batch)"
      ],
      "execution_count": 31,
      "outputs": [
        {
          "output_type": "stream",
          "text": [
            "torch.Size([1, 3, 16, 16])\n"
          ],
          "name": "stdout"
        },
        {
          "output_type": "display_data",
          "data": {
            "image/png": "[encoded data removed]",
            "text/plain": [
              "<Figure size 432x288 with 2 Axes>"
            ]
          },
          "metadata": {
            "tags": [],
            "needs_background": "light"
          }
        }
      ]
    },
    {
      "cell_type": "markdown",
      "metadata": {
        "id": "PkA_bONKrA0x"
      },
      "source": [
        "# Making our first CNN"
      ]
    },
    {
      "cell_type": "code",
      "metadata": {
        "colab": {
          "base_uri": "https://localhost:8080/"
        },
        "id": "p-j2s3Y5q0jC",
        "outputId": "c63d7e74-0f49-4dbc-ce89-adb256ad99c5"
      },
      "source": [
        "import torch.nn.functional as F\n",
        "\n",
        "nchannels, nrows, ncols = img.shape\n",
        "\n",
        "class Net(nn.Module):\n",
        "    def __init__(self, nclasses, img):\n",
        "        super().__init__()\n",
        "        self.conv1 = nn.Conv2d(3, 16, kernel_size=3, padding=1)\n",
        "        self.conv2 = nn.Conv2d(16, 8, kernel_size=3, padding=1)\n",
        "        nchannels, nrows, ncols = img.shape\n",
        "        # size of input to fc1 will be  8 * nrows/4 * ncols/4, \n",
        "        # since we will apply 2 maxpooling layers with size 2\n",
        "        self.nflat = nrows//4 * ncols//4\n",
        "        self.fc1 = nn.Linear(8 * self.nflat, 32)\n",
        "        self.fc2 = nn.Linear(32, nclasses)\n",
        "        \n",
        "    def forward(self, x):\n",
        "        out = F.max_pool2d(torch.tanh(self.conv1(x)), 2)\n",
        "        out = F.max_pool2d(torch.tanh(self.conv2(out)), 2)\n",
        "        out = out.view(-1, 8 * self.nflat)\n",
        "        out = torch.tanh(self.fc1(out))\n",
        "        out = self.fc2(out)\n",
        "        return out\n",
        "\n",
        "model = Net(nclasses, img_batch[0])\n",
        "out_batch = model(img_batch)\n",
        "print(out_batch.shape)\n"
      ],
      "execution_count": 38,
      "outputs": [
        {
          "output_type": "stream",
          "text": [
            "torch.Size([1, 2])\n"
          ],
          "name": "stdout"
        }
      ]
    },
    {
      "cell_type": "code",
      "metadata": {
        "id": "jnzRkdaLsOtm"
      },
      "source": [
        ""
      ],
      "execution_count": null,
      "outputs": []
    }
  ]
}