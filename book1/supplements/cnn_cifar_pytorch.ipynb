{
  "nbformat": 4,
  "nbformat_minor": 0,
  "metadata": {
    "colab": {
      "name": "cnn_cifar_pytorch.ipynb",
      "provenance": [],
      "toc_visible": true,
      "authorship_tag": "ABX9TyOHQZ0crhg29UsLoegEAepH",
      "include_colab_link": true
    },
    "kernelspec": {
      "name": "python3",
      "display_name": "Python 3"
    },
    "language_info": {
      "name": "python"
    },
    "accelerator": "GPU",
    "widgets": {
      "application/vnd.jupyter.widget-state+json": {
        "9211490855d64cd8ba6b5509a62cce41": {
          "model_module": "@jupyter-widgets/controls",
          "model_name": "HBoxModel",
          "state": {
            "_view_name": "HBoxView",
            "_dom_classes": [],
            "_model_name": "HBoxModel",
            "_view_module": "@jupyter-widgets/controls",
            "_model_module_version": "1.5.0",
            "_view_count": null,
            "_view_module_version": "1.5.0",
            "box_style": "",
            "layout": "IPY_MODEL_cd46e5839ffb404ebdd71ce20cfb9e64",
            "_model_module": "@jupyter-widgets/controls",
            "children": [
              "IPY_MODEL_dee3808cc0fd4b61a3d7d1c08ecc2383",
              "IPY_MODEL_778640fdaf4848969fa0d2b8ba7cddd9"
            ]
          }
        },
        "cd46e5839ffb404ebdd71ce20cfb9e64": {
          "model_module": "@jupyter-widgets/base",
          "model_name": "LayoutModel",
          "state": {
            "_view_name": "LayoutView",
            "grid_template_rows": null,
            "right": null,
            "justify_content": null,
            "_view_module": "@jupyter-widgets/base",
            "overflow": null,
            "_model_module_version": "1.2.0",
            "_view_count": null,
            "flex_flow": null,
            "width": null,
            "min_width": null,
            "border": null,
            "align_items": null,
            "bottom": null,
            "_model_module": "@jupyter-widgets/base",
            "top": null,
            "grid_column": null,
            "overflow_y": null,
            "overflow_x": null,
            "grid_auto_flow": null,
            "grid_area": null,
            "grid_template_columns": null,
            "flex": null,
            "_model_name": "LayoutModel",
            "justify_items": null,
            "grid_row": null,
            "max_height": null,
            "align_content": null,
            "visibility": null,
            "align_self": null,
            "height": null,
            "min_height": null,
            "padding": null,
            "grid_auto_rows": null,
            "grid_gap": null,
            "max_width": null,
            "order": null,
            "_view_module_version": "1.2.0",
            "grid_template_areas": null,
            "object_position": null,
            "object_fit": null,
            "grid_auto_columns": null,
            "margin": null,
            "display": null,
            "left": null
          }
        },
        "dee3808cc0fd4b61a3d7d1c08ecc2383": {
          "model_module": "@jupyter-widgets/controls",
          "model_name": "FloatProgressModel",
          "state": {
            "_view_name": "ProgressView",
            "style": "IPY_MODEL_d84fe0a7714947b9a4ba39fadb49a0a8",
            "_dom_classes": [],
            "description": "",
            "_model_name": "FloatProgressModel",
            "bar_style": "success",
            "max": 170498071,
            "_view_module": "@jupyter-widgets/controls",
            "_model_module_version": "1.5.0",
            "value": 170498071,
            "_view_count": null,
            "_view_module_version": "1.5.0",
            "orientation": "horizontal",
            "min": 0,
            "description_tooltip": null,
            "_model_module": "@jupyter-widgets/controls",
            "layout": "IPY_MODEL_0107f9a0b2384d96a452ccf196eef3d9"
          }
        },
        "778640fdaf4848969fa0d2b8ba7cddd9": {
          "model_module": "@jupyter-widgets/controls",
          "model_name": "HTMLModel",
          "state": {
            "_view_name": "HTMLView",
            "style": "IPY_MODEL_4056cf7c64674429b6c76b13952f44fc",
            "_dom_classes": [],
            "description": "",
            "_model_name": "HTMLModel",
            "placeholder": "​",
            "_view_module": "@jupyter-widgets/controls",
            "_model_module_version": "1.5.0",
            "value": " 170499072/? [00:14&lt;00:00, 11522323.83it/s]",
            "_view_count": null,
            "_view_module_version": "1.5.0",
            "description_tooltip": null,
            "_model_module": "@jupyter-widgets/controls",
            "layout": "IPY_MODEL_e87da79af69b4226864ad0ec6a6fc030"
          }
        },
        "d84fe0a7714947b9a4ba39fadb49a0a8": {
          "model_module": "@jupyter-widgets/controls",
          "model_name": "ProgressStyleModel",
          "state": {
            "_view_name": "StyleView",
            "_model_name": "ProgressStyleModel",
            "description_width": "initial",
            "_view_module": "@jupyter-widgets/base",
            "_model_module_version": "1.5.0",
            "_view_count": null,
            "_view_module_version": "1.2.0",
            "bar_color": null,
            "_model_module": "@jupyter-widgets/controls"
          }
        },
        "0107f9a0b2384d96a452ccf196eef3d9": {
          "model_module": "@jupyter-widgets/base",
          "model_name": "LayoutModel",
          "state": {
            "_view_name": "LayoutView",
            "grid_template_rows": null,
            "right": null,
            "justify_content": null,
            "_view_module": "@jupyter-widgets/base",
            "overflow": null,
            "_model_module_version": "1.2.0",
            "_view_count": null,
            "flex_flow": null,
            "width": null,
            "min_width": null,
            "border": null,
            "align_items": null,
            "bottom": null,
            "_model_module": "@jupyter-widgets/base",
            "top": null,
            "grid_column": null,
            "overflow_y": null,
            "overflow_x": null,
            "grid_auto_flow": null,
            "grid_area": null,
            "grid_template_columns": null,
            "flex": null,
            "_model_name": "LayoutModel",
            "justify_items": null,
            "grid_row": null,
            "max_height": null,
            "align_content": null,
            "visibility": null,
            "align_self": null,
            "height": null,
            "min_height": null,
            "padding": null,
            "grid_auto_rows": null,
            "grid_gap": null,
            "max_width": null,
            "order": null,
            "_view_module_version": "1.2.0",
            "grid_template_areas": null,
            "object_position": null,
            "object_fit": null,
            "grid_auto_columns": null,
            "margin": null,
            "display": null,
            "left": null
          }
        },
        "4056cf7c64674429b6c76b13952f44fc": {
          "model_module": "@jupyter-widgets/controls",
          "model_name": "DescriptionStyleModel",
          "state": {
            "_view_name": "StyleView",
            "_model_name": "DescriptionStyleModel",
            "description_width": "",
            "_view_module": "@jupyter-widgets/base",
            "_model_module_version": "1.5.0",
            "_view_count": null,
            "_view_module_version": "1.2.0",
            "_model_module": "@jupyter-widgets/controls"
          }
        },
        "e87da79af69b4226864ad0ec6a6fc030": {
          "model_module": "@jupyter-widgets/base",
          "model_name": "LayoutModel",
          "state": {
            "_view_name": "LayoutView",
            "grid_template_rows": null,
            "right": null,
            "justify_content": null,
            "_view_module": "@jupyter-widgets/base",
            "overflow": null,
            "_model_module_version": "1.2.0",
            "_view_count": null,
            "flex_flow": null,
            "width": null,
            "min_width": null,
            "border": null,
            "align_items": null,
            "bottom": null,
            "_model_module": "@jupyter-widgets/base",
            "top": null,
            "grid_column": null,
            "overflow_y": null,
            "overflow_x": null,
            "grid_auto_flow": null,
            "grid_area": null,
            "grid_template_columns": null,
            "flex": null,
            "_model_name": "LayoutModel",
            "justify_items": null,
            "grid_row": null,
            "max_height": null,
            "align_content": null,
            "visibility": null,
            "align_self": null,
            "height": null,
            "min_height": null,
            "padding": null,
            "grid_auto_rows": null,
            "grid_gap": null,
            "max_width": null,
            "order": null,
            "_view_module_version": "1.2.0",
            "grid_template_areas": null,
            "object_position": null,
            "object_fit": null,
            "grid_auto_columns": null,
            "margin": null,
            "display": null,
            "left": null
          }
        }
      }
    }
  },
  "cells": [
    {
      "cell_type": "markdown",
      "metadata": {
        "id": "view-in-github",
        "colab_type": "text"
      },
      "source": [
        "<a href=\"https://colab.research.google.com/github/probml/pyprobml/blob/master/book1/supplements/cnn_cifar_pytorch.ipynb\" target=\"_parent\"><img src=\"https://colab.research.google.com/assets/colab-badge.svg\" alt=\"Open In Colab\"/></a>"
      ]
    },
    {
      "cell_type": "markdown",
      "metadata": {
        "id": "wwEzgnhWgIVr"
      },
      "source": [
        "\n",
        "# CNN for image classification using PyTorch\n",
        "\n",
        "In this section, we follow Chap. 8 of the [Deep Learning With PyTorch](https://pytorch.org/assets/deep-learning/Deep-Learning-with-PyTorch.pdf) book, and illustrate how to fit a CNN to a two-class version of CIFAR. We modify the code from [here](https://github.com/deep-learning-with-pytorch/dlwpt-code/blob/master/p1ch8/1_convolution.ipynb)\n"
      ]
    },
    {
      "cell_type": "code",
      "metadata": {
        "id": "RtO_TmeDgRUp"
      },
      "source": [
        "import numpy as np\n",
        "import matplotlib.pyplot as plt\n",
        "import itertools\n",
        "import time\n",
        "from functools import partial\n",
        "import os\n",
        "import collections\n",
        "\n"
      ],
      "execution_count": 2,
      "outputs": []
    },
    {
      "cell_type": "code",
      "metadata": {
        "colab": {
          "base_uri": "https://localhost:8080/"
        },
        "id": "wTzpnH_bgjD_",
        "outputId": "54945fd8-db0c-4f2d-ee5e-264b668ff9aa"
      },
      "source": [
        "\n",
        "import torch\n",
        "import torch.nn as nn\n",
        "import torch.nn.functional as F\n",
        "import torch.optim as optim\n",
        "import torchvision\n",
        "\n",
        "print(\"torch version {}\".format(torch.__version__))\n",
        "if torch.cuda.is_available():\n",
        "  print(torch.cuda.get_device_name(0))\n",
        "  print(\"current device {}\".format(torch.cuda.current_device()))\n",
        "else:\n",
        "  print(\"Torch cannot find GPU\")\n",
        "\n",
        "use_cuda = torch.cuda.is_available()\n",
        "device = torch.device(\"cuda:0\" if use_cuda else \"cpu\")\n"
      ],
      "execution_count": 3,
      "outputs": [
        {
          "output_type": "stream",
          "text": [
            "torch version 1.8.0+cu101\n",
            "Tesla P100-PCIE-16GB\n",
            "current device 0\n"
          ],
          "name": "stdout"
        }
      ]
    },
    {
      "cell_type": "markdown",
      "metadata": {
        "id": "I-OIHr6Ahgdj"
      },
      "source": [
        "# Get the data\n",
        "\n",
        "We standardize the data. (The mean/std of the RGB channels are precomputed in the MLP version of this colab.)\n"
      ]
    },
    {
      "cell_type": "code",
      "metadata": {
        "colab": {
          "base_uri": "https://localhost:8080/",
          "height": 117,
          "referenced_widgets": [
            "9211490855d64cd8ba6b5509a62cce41",
            "cd46e5839ffb404ebdd71ce20cfb9e64",
            "dee3808cc0fd4b61a3d7d1c08ecc2383",
            "778640fdaf4848969fa0d2b8ba7cddd9",
            "d84fe0a7714947b9a4ba39fadb49a0a8",
            "0107f9a0b2384d96a452ccf196eef3d9",
            "4056cf7c64674429b6c76b13952f44fc",
            "e87da79af69b4226864ad0ec6a6fc030"
          ]
        },
        "id": "rJkOHhx8hnAy",
        "outputId": "37ce70a4-0dfd-46f6-9237-ccc5ac60f7b7"
      },
      "source": [
        "class_names = ['airplane','automobile','bird','cat','deer',\n",
        "               'dog','frog','horse','ship','truck']\n",
        "\n",
        "from torchvision import datasets, transforms\n",
        "data_path = 'data'\n",
        "cifar10 = datasets.CIFAR10(\n",
        "    data_path, train=True, download=True,\n",
        "    transform=transforms.Compose([\n",
        "        transforms.ToTensor(),\n",
        "        transforms.Normalize((0.4915, 0.4823, 0.4468),\n",
        "                             (0.2470, 0.2435, 0.2616))\n",
        "    ]))\n",
        "\n",
        "cifar10_val = datasets.CIFAR10(\n",
        "    data_path, train=False, download=True,\n",
        "    transform=transforms.Compose([\n",
        "        transforms.ToTensor(),\n",
        "        transforms.Normalize((0.4915, 0.4823, 0.4468),\n",
        "                             (0.2470, 0.2435, 0.2616))\n",
        "    ]))"
      ],
      "execution_count": 4,
      "outputs": [
        {
          "output_type": "stream",
          "text": [
            "Downloading https://www.cs.toronto.edu/~kriz/cifar-10-python.tar.gz to data/cifar-10-python.tar.gz\n"
          ],
          "name": "stdout"
        },
        {
          "output_type": "display_data",
          "data": {
            "application/vnd.jupyter.widget-view+json": {
              "model_id": "9211490855d64cd8ba6b5509a62cce41",
              "version_minor": 0,
              "version_major": 2
            },
            "text/plain": [
              "HBox(children=(FloatProgress(value=0.0, max=170498071.0), HTML(value='')))"
            ]
          },
          "metadata": {
            "tags": []
          }
        },
        {
          "output_type": "stream",
          "text": [
            "\n",
            "Extracting data/cifar-10-python.tar.gz to data\n",
            "Files already downloaded and verified\n"
          ],
          "name": "stdout"
        }
      ]
    },
    {
      "cell_type": "code",
      "metadata": {
        "id": "iqZRbS5Ih9pN"
      },
      "source": [
        "label_map = {0: 0, 2: 1}\n",
        "class_names = ['plane', 'bird']\n",
        "nclasses = 2\n",
        "cifar2 = [(img, label_map[label])\n",
        "          for img, label in cifar10\n",
        "          if label in [0, 2]]\n",
        "cifar2_val = [(img, label_map[label])\n",
        "              for img, label in cifar10_val\n",
        "              if label in [0, 2]]"
      ],
      "execution_count": 5,
      "outputs": []
    },
    {
      "cell_type": "markdown",
      "metadata": {
        "id": "YNUUJrQugmNE"
      },
      "source": [
        "# Basics of convolution\n",
        "\n",
        "Lets apply a set of `nfeatures` convolutional kernels to a gray scale image."
      ]
    },
    {
      "cell_type": "code",
      "metadata": {
        "colab": {
          "base_uri": "https://localhost:8080/"
        },
        "id": "DXyymfW-gjXf",
        "outputId": "b41fbc0d-116a-40de-9475-e94553b48dd5"
      },
      "source": [
        "img, label = cifar2[0]\n",
        "img_batch  = img.unsqueeze(0)\n",
        "print(img_batch.shape)\n",
        "\n",
        "nfeatures = 16\n",
        "kernel_size = 3\n",
        "conv = nn.Conv2d(3, nfeatures, kernel_size=kernel_size) \n",
        "output = conv(img_batch)\n",
        "print(output.shape)\n"
      ],
      "execution_count": 6,
      "outputs": [
        {
          "output_type": "stream",
          "text": [
            "torch.Size([1, 3, 32, 32])\n",
            "torch.Size([1, 16, 30, 30])\n"
          ],
          "name": "stdout"
        }
      ]
    },
    {
      "cell_type": "markdown",
      "metadata": {
        "id": "CbnqS7Cui9Kt"
      },
      "source": [
        "Now we adding padding to ensure output size is same as input."
      ]
    },
    {
      "cell_type": "code",
      "metadata": {
        "colab": {
          "base_uri": "https://localhost:8080/"
        },
        "id": "GLCDqJ03i03q",
        "outputId": "78a92aab-21a0-4c53-ab0f-94fe6404d11e"
      },
      "source": [
        "nfeatures = 16\n",
        "kernel_size = 3\n",
        "pad = kernel_size // 2\n",
        "conv = nn.Conv2d(3, nfeatures, kernel_size=kernel_size, padding=pad) \n",
        "\n",
        "output = conv(img_batch)\n",
        "print(output.shape)"
      ],
      "execution_count": 7,
      "outputs": [
        {
          "output_type": "stream",
          "text": [
            "torch.Size([1, 16, 32, 32])\n"
          ],
          "name": "stdout"
        }
      ]
    },
    {
      "cell_type": "code",
      "metadata": {
        "colab": {
          "base_uri": "https://localhost:8080/",
          "height": 216
        },
        "id": "IbnKy4jHmQTG",
        "outputId": "7a5cf58d-cd75-4453-e5b8-2c2ae3666680"
      },
      "source": [
        "def show_results(img_batch, output_batch, index=0, channel=0):\n",
        "  ax1 = plt.subplot(1, 2, 1)  \n",
        "  img = img_batch[index] \n",
        "  plt.imshow(img.mean(0), cmap='gray')  \n",
        "  plt.title('input')   \n",
        "  plt.subplot(1, 2, 2) #, sharex=ax1, sharey=ax1) \n",
        "  plt.title('output')   \n",
        "  out = output_batch[index, channel]\n",
        "  plt.imshow(out.detach(), cmap='gray')\n",
        "  plt.show()\n",
        "\n",
        "show_results(img_batch, output)"
      ],
      "execution_count": 8,
      "outputs": [
        {
          "output_type": "display_data",
          "data": {
            "image/png": "[encoded data removed]",
            "text/plain": [
              "<Figure size 432x288 with 2 Axes>"
            ]
          },
          "metadata": {
            "tags": [],
            "needs_background": "light"
          }
        }
      ]
    },
    {
      "cell_type": "markdown",
      "metadata": {
        "id": "JVVXo_IOn6fV"
      },
      "source": [
        "Currently the filter parameters are random."
      ]
    },
    {
      "cell_type": "code",
      "metadata": {
        "colab": {
          "base_uri": "https://localhost:8080/"
        },
        "id": "LZq-NEKKn9o3",
        "outputId": "30c974f6-b615-4c16-d598-6138c5b0c5e0"
      },
      "source": [
        "print(conv)\n",
        "print(conv.weight.shape) # nfeatures x nchannels x kernel x kernel\n",
        "print(conv.bias.shape) # nfeatures \n",
        "print(conv.weight[0,:,:,:])"
      ],
      "execution_count": 9,
      "outputs": [
        {
          "output_type": "stream",
          "text": [
            "Conv2d(3, 16, kernel_size=(3, 3), stride=(1, 1), padding=(1, 1))\n",
            "torch.Size([16, 3, 3, 3])\n",
            "torch.Size([16])\n",
            "tensor([[[-0.1274,  0.0786, -0.0512],\n",
            "         [ 0.1676, -0.0029, -0.0902],\n",
            "         [-0.1278, -0.1626, -0.1557]],\n",
            "\n",
            "        [[-0.1600, -0.1405, -0.1750],\n",
            "         [-0.1328, -0.0750,  0.0389],\n",
            "         [-0.0785, -0.1552, -0.0628]],\n",
            "\n",
            "        [[-0.1040, -0.0039,  0.0932],\n",
            "         [-0.1684, -0.1494, -0.0493],\n",
            "         [-0.1345,  0.0108, -0.0021]]], grad_fn=<SliceBackward>)\n"
          ],
          "name": "stdout"
        }
      ]
    },
    {
      "cell_type": "markdown",
      "metadata": {
        "id": "Sgu8ZdFOnKhH"
      },
      "source": [
        "Let's make the first filter just be an averaging operation."
      ]
    },
    {
      "cell_type": "code",
      "metadata": {
        "colab": {
          "base_uri": "https://localhost:8080/",
          "height": 403
        },
        "id": "RMEzbPVImrGc",
        "outputId": "23226e23-e516-4f98-92dd-2ede78a08d40"
      },
      "source": [
        "\n",
        "with torch.no_grad():\n",
        "    conv.bias.zero_()\n",
        "    \n",
        "with torch.no_grad():\n",
        "    conv.weight.fill_(1.0 / 9.0)\n",
        "print(conv.weight[0,:,:,:])\n",
        "\n",
        "output_batch = conv(img_batch)\n",
        "show_results(img_batch, output_batch)"
      ],
      "execution_count": 10,
      "outputs": [
        {
          "output_type": "stream",
          "text": [
            "tensor([[[0.1111, 0.1111, 0.1111],\n",
            "         [0.1111, 0.1111, 0.1111],\n",
            "         [0.1111, 0.1111, 0.1111]],\n",
            "\n",
            "        [[0.1111, 0.1111, 0.1111],\n",
            "         [0.1111, 0.1111, 0.1111],\n",
            "         [0.1111, 0.1111, 0.1111]],\n",
            "\n",
            "        [[0.1111, 0.1111, 0.1111],\n",
            "         [0.1111, 0.1111, 0.1111],\n",
            "         [0.1111, 0.1111, 0.1111]]], grad_fn=<SliceBackward>)\n"
          ],
          "name": "stdout"
        },
        {
          "output_type": "display_data",
          "data": {
            "image/png": "[encoded data removed]",
            "text/plain": [
              "<Figure size 432x288 with 2 Axes>"
            ]
          },
          "metadata": {
            "tags": [],
            "needs_background": "light"
          }
        }
      ]
    },
    {
      "cell_type": "markdown",
      "metadata": {
        "id": "2nDkp2_2oIEg"
      },
      "source": [
        "Let's make the first filter be a vertical edge detector."
      ]
    },
    {
      "cell_type": "code",
      "metadata": {
        "colab": {
          "base_uri": "https://localhost:8080/",
          "height": 216
        },
        "id": "0jFq8d13nfdx",
        "outputId": "29e17493-7137-40e2-e2f3-efe369538e9a"
      },
      "source": [
        "\n",
        "conv = nn.Conv2d(3, 1, kernel_size=3, padding=1)\n",
        "\n",
        "with torch.no_grad():\n",
        "    conv.weight[:] = torch.tensor([[-1.0, 0.0, 1.0],\n",
        "                                   [-1.0, 0.0, 1.0],\n",
        "                                   [-1.0, 0.0, 1.0]])\n",
        "    conv.bias.zero_()\n",
        "\n",
        "output_batch = conv(img_batch)\n",
        "show_results(img_batch, output_batch)"
      ],
      "execution_count": 11,
      "outputs": [
        {
          "output_type": "display_data",
          "data": {
            "image/png": "[encoded data removed]",
            "text/plain": [
              "<Figure size 432x288 with 2 Axes>"
            ]
          },
          "metadata": {
            "tags": [],
            "needs_background": "light"
          }
        }
      ]
    },
    {
      "cell_type": "markdown",
      "metadata": {
        "id": "Hna7FLWDpdey"
      },
      "source": [
        "# Max-pooling\n",
        "\n",
        "We can reduce the size of the internal feature maps by using max-pooling."
      ]
    },
    {
      "cell_type": "code",
      "metadata": {
        "colab": {
          "base_uri": "https://localhost:8080/",
          "height": 233
        },
        "id": "3g4_2jqEoTuB",
        "outputId": "44275b8a-1b57-4458-ea23-aa4f3079ab10"
      },
      "source": [
        "pool = nn.MaxPool2d(2)\n",
        "output_batch = pool(img_batch)\n",
        "print(output_batch.shape)\n",
        "\n",
        "show_results(img_batch, output_batch)"
      ],
      "execution_count": 12,
      "outputs": [
        {
          "output_type": "stream",
          "text": [
            "torch.Size([1, 3, 16, 16])\n"
          ],
          "name": "stdout"
        },
        {
          "output_type": "display_data",
          "data": {
            "image/png": "[encoded data removed]",
            "text/plain": [
              "<Figure size 432x288 with 2 Axes>"
            ]
          },
          "metadata": {
            "tags": [],
            "needs_background": "light"
          }
        }
      ]
    },
    {
      "cell_type": "markdown",
      "metadata": {
        "id": "PkA_bONKrA0x"
      },
      "source": [
        "# Making our first CNN"
      ]
    },
    {
      "cell_type": "code",
      "metadata": {
        "colab": {
          "base_uri": "https://localhost:8080/"
        },
        "id": "p-j2s3Y5q0jC",
        "outputId": "7bdec359-a673-45e5-a4df-77e14ff5d79e"
      },
      "source": [
        "import torch.nn.functional as F\n",
        "\n",
        "nchannels, nrows, ncols = img.shape\n",
        "\n",
        "class Net(nn.Module):\n",
        "    def __init__(self, nclasses, img):\n",
        "        super().__init__()\n",
        "        nchannels, nrows, ncols = img.shape\n",
        "        self.conv1 = nn.Conv2d(nchannels, 16, kernel_size=3, padding=1)\n",
        "        self.conv2 = nn.Conv2d(16, 8, kernel_size=3, padding=1)\n",
        "\n",
        "        # size of input to fc1 will be  8 * nrows/4 * ncols/4, \n",
        "        # since we will apply 2 maxpooling layers with size 2\n",
        "        self.nflat = nrows//4 * ncols//4\n",
        "        self.fc1 = nn.Linear(8 * self.nflat, 32)\n",
        "        self.fc2 = nn.Linear(32, nclasses)\n",
        "        \n",
        "    def forward(self, x):\n",
        "        out = F.max_pool2d(torch.tanh(self.conv1(x)), 2)\n",
        "        out = F.max_pool2d(torch.tanh(self.conv2(out)), 2)\n",
        "        out = out.view(-1, 8 * self.nflat)\n",
        "        out = torch.tanh(self.fc1(out))\n",
        "        out = self.fc2(out)\n",
        "        return out\n",
        "\n",
        "model = Net(nclasses, img_batch[0])\n",
        "out_batch = model(img_batch)\n",
        "print(out_batch.shape)\n"
      ],
      "execution_count": 13,
      "outputs": [
        {
          "output_type": "stream",
          "text": [
            "torch.Size([1, 2])\n"
          ],
          "name": "stdout"
        }
      ]
    },
    {
      "cell_type": "markdown",
      "metadata": {
        "id": "78RzWsB3nF2o"
      },
      "source": [
        "# Training loop"
      ]
    },
    {
      "cell_type": "code",
      "metadata": {
        "id": "jnzRkdaLsOtm"
      },
      "source": [
        "import datetime  \n",
        "\n",
        "def training_loop(n_epochs, optimizer, model, loss_fn, train_loader):\n",
        "    for epoch in range(1, n_epochs + 1):  \n",
        "        loss_train = 0.0\n",
        "        for imgs, labels in train_loader: \n",
        "            outputs = model(imgs)  \n",
        "            loss = loss_fn(outputs, labels) \n",
        "            optimizer.zero_grad()  \n",
        "            loss.backward()  \n",
        "            optimizer.step() \n",
        "            loss_train += loss.item()  # <9>\n",
        "\n",
        "        if epoch == 1 or epoch % 10 == 0:\n",
        "            print('{} Epoch {}, Training loss {}'.format(\n",
        "                datetime.datetime.now(), epoch,\n",
        "                loss_train / len(train_loader)))  "
      ],
      "execution_count": 14,
      "outputs": []
    },
    {
      "cell_type": "code",
      "metadata": {
        "colab": {
          "base_uri": "https://localhost:8080/"
        },
        "id": "urZLNnYhnVNG",
        "outputId": "a96b0b5d-809d-4f4f-c3f2-7d2775e3cc07"
      },
      "source": [
        "\n",
        "train_loader = torch.utils.data.DataLoader(cifar2, batch_size=64,\n",
        "                                           shuffle=True)  \n",
        "\n",
        "model = Net(nclasses, img_batch[0])\n",
        "optimizer = optim.SGD(model.parameters(), lr=1e-2)  \n",
        "loss_fn = nn.CrossEntropyLoss() \n",
        "\n",
        "training_loop(  \n",
        "    n_epochs = 50,\n",
        "    optimizer = optimizer,\n",
        "    model = model,\n",
        "    loss_fn = loss_fn,\n",
        "    train_loader = train_loader,\n",
        ")"
      ],
      "execution_count": 16,
      "outputs": [
        {
          "output_type": "stream",
          "text": [
            "2021-03-24 05:03:39.686066 Epoch 1, Training loss 0.5801711991714065\n",
            "2021-03-24 05:04:08.229516 Epoch 10, Training loss 0.32593086266973215\n",
            "2021-03-24 05:04:39.827068 Epoch 20, Training loss 0.29120124212116194\n",
            "2021-03-24 05:05:11.203607 Epoch 30, Training loss 0.2692907575494165\n",
            "2021-03-24 05:05:42.868199 Epoch 40, Training loss 0.24836591987093543\n",
            "2021-03-24 05:06:14.297978 Epoch 50, Training loss 0.2304051037237143\n",
            "2021-03-24 05:06:46.874412 Epoch 60, Training loss 0.21587384781640045\n",
            "2021-03-24 05:07:17.989566 Epoch 70, Training loss 0.19915552916610316\n",
            "2021-03-24 05:07:48.988302 Epoch 80, Training loss 0.18369974691871624\n",
            "2021-03-24 05:08:20.043541 Epoch 90, Training loss 0.1668714184527564\n",
            "2021-03-24 05:08:50.908946 Epoch 100, Training loss 0.152507900812064\n"
          ],
          "name": "stdout"
        }
      ]
    },
    {
      "cell_type": "markdown",
      "metadata": {
        "id": "x4zPGA_XntHO"
      },
      "source": [
        "# Validation accuracy"
      ]
    },
    {
      "cell_type": "code",
      "metadata": {
        "colab": {
          "base_uri": "https://localhost:8080/"
        },
        "id": "weB--S4FnVcQ",
        "outputId": "5645eafd-cbf9-4a0a-b5ea-19650e4f1e03"
      },
      "source": [
        "val_loader = torch.utils.data.DataLoader(cifar2_val, batch_size=64,\n",
        "                                         shuffle=False)\n",
        "\n",
        "def accuracy(model, loader):\n",
        "  correct = 0\n",
        "  total = 0\n",
        "  with torch.no_grad(): \n",
        "      for imgs, labels in loader:\n",
        "          outputs = model(imgs)\n",
        "          _, predicted = torch.max(outputs, dim=1) \n",
        "          total += labels.shape[0]  # batch size\n",
        "          correct += int((predicted == labels).sum())  \n",
        "  accuracy =  correct / total\n",
        "  return accuracy\n",
        "\n",
        "\n",
        "train_acc = accuracy(model, train_loader)\n",
        "val_acc = accuracy(model, val_loader)\n",
        "print([train_acc, val_acc])"
      ],
      "execution_count": 17,
      "outputs": [
        {
          "output_type": "stream",
          "text": [
            "[0.9338, 0.8895]\n"
          ],
          "name": "stdout"
        }
      ]
    },
    {
      "cell_type": "code",
      "metadata": {
        "colab": {
          "base_uri": "https://localhost:8080/"
        },
        "id": "j3ldjlvGuR2h",
        "outputId": "e830539e-231e-4601-ab44-a2ab34002061"
      },
      "source": [
        "dataiter = iter(train_loader)\n",
        "img_batch, label_batch = dataiter.next()\n",
        "print(img_batch.shape)\n",
        "\n",
        "outputs = model(img_batch)\n",
        "_, predicted = torch.max(outputs, dim=1) \n"
      ],
      "execution_count": 33,
      "outputs": [
        {
          "output_type": "stream",
          "text": [
            "torch.Size([64, 3, 32, 32])\n"
          ],
          "name": "stdout"
        }
      ]
    },
    {
      "cell_type": "code",
      "metadata": {
        "colab": {
          "base_uri": "https://localhost:8080/",
          "height": 388
        },
        "id": "WlTmlw2tuonS",
        "outputId": "61c7157e-fc35-4dba-ef32-2c6d49a07600"
      },
      "source": [
        "def imshow(img, ax):\n",
        "  #img = img / 2 + 0.5     # unnormalize from -1..1 to 0..1\n",
        "  npimg = img.numpy()\n",
        "  ax.imshow(np.transpose(npimg, (1,2,0)), interpolation='nearest')\n",
        "\n",
        "def plot_results(images, labels, pred_labels, nrows, ncols):\n",
        "  fig, axs = plt.subplots(nrows, ncols) \n",
        "  k = 0\n",
        "  for i in range(nrows):\n",
        "    for j in range(ncols):\n",
        "      ax = axs[i,j]\n",
        "      imshow(images[k], ax)\n",
        "      ttl = f'{class_names[labels[k]]}, est {class_names[pred_labels[k]]}'\n",
        "      ax.set_title(ttl, fontsize=8)\n",
        "      k += 1\n",
        "\n",
        "plot_results(img_batch, label_batch, predicted, 2,4)"
      ],
      "execution_count": 42,
      "outputs": [
        {
          "output_type": "stream",
          "text": [
            "Clipping input data to the valid range for imshow with RGB data ([0..1] for floats or [0..255] for integers).\n",
            "Clipping input data to the valid range for imshow with RGB data ([0..1] for floats or [0..255] for integers).\n",
            "Clipping input data to the valid range for imshow with RGB data ([0..1] for floats or [0..255] for integers).\n",
            "Clipping input data to the valid range for imshow with RGB data ([0..1] for floats or [0..255] for integers).\n",
            "Clipping input data to the valid range for imshow with RGB data ([0..1] for floats or [0..255] for integers).\n",
            "Clipping input data to the valid range for imshow with RGB data ([0..1] for floats or [0..255] for integers).\n",
            "Clipping input data to the valid range for imshow with RGB data ([0..1] for floats or [0..255] for integers).\n",
            "Clipping input data to the valid range for imshow with RGB data ([0..1] for floats or [0..255] for integers).\n"
          ],
          "name": "stderr"
        },
        {
          "output_type": "display_data",
          "data": {
            "image/png": "[encoded data removed]",
            "text/plain": [
              "<Figure size 432x288 with 8 Axes>"
            ]
          },
          "metadata": {
            "tags": [],
            "needs_background": "light"
          }
        }
      ]
    },
    {
      "cell_type": "code",
      "metadata": {
        "colab": {
          "base_uri": "https://localhost:8080/",
          "height": 139
        },
        "id": "cHIolvQSri02",
        "outputId": "8a0ea9b2-b881-4a5e-feb1-777446493e75"
      },
      "source": [
        "\n",
        "\n",
        "import scipy.misc\n",
        "lena = scipy.misc.face()\n",
        "img = transforms.ToTensor()(lena)\n",
        "print(img.size())\n",
        "imglist = [img, img, img, img]\n",
        "show(torchvision.utils.make_grid(imglist, padding=100))"
      ],
      "execution_count": 23,
      "outputs": [
        {
          "output_type": "stream",
          "text": [
            "torch.Size([3, 768, 1024])\n"
          ],
          "name": "stdout"
        },
        {
          "output_type": "display_data",
          "data": {
            "image/png": "[encoded data removed]",
            "text/plain": [
              "<Figure size 432x288 with 1 Axes>"
            ]
          },
          "metadata": {
            "tags": [],
            "needs_background": "light"
          }
        }
      ]
    },
    {
      "cell_type": "markdown",
      "metadata": {
        "id": "CNy1PDlropBX"
      },
      "source": [
        "# Save/load model"
      ]
    },
    {
      "cell_type": "code",
      "metadata": {
        "id": "NfkpyYR3op6H"
      },
      "source": [
        "out = model(img_batch)\n",
        "fname = os.path.join(data_path, 'birds_vs_airplanes.pt')\n",
        "torch.save(model.state_dict(), fname)\n",
        "\n",
        "\n",
        "\n",
        "loaded_model = Net(nclasses, img_batch[0])\n",
        "loaded_model.load_state_dict(torch.load(fname))\n",
        "out2 = loaded_model(img_batch)\n",
        "torch.testing.assert_allclose(out, out2)\n"
      ],
      "execution_count": 18,
      "outputs": []
    }
  ]
}