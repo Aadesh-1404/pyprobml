{
  "nbformat": 4,
  "nbformat_minor": 0,
  "metadata": {
    "colab": {
      "name": "pytorch_intro.ipynb",
      "provenance": [],
      "toc_visible": true,
      "include_colab_link": true
    },
    "kernelspec": {
      "name": "python3",
      "display_name": "Python 3"
    },
    "accelerator": "GPU"
  },
  "cells": [
    {
      "cell_type": "markdown",
      "metadata": {
        "id": "view-in-github",
        "colab_type": "text"
      },
      "source": [
        "<a href=\"https://colab.research.google.com/github/probml/pyprobml/blob/master/book1/supplements/pytorch_intro.ipynb\" target=\"_parent\"><img src=\"https://colab.research.google.com/assets/colab-badge.svg\" alt=\"Open In Colab\"/></a>"
      ]
    },
    {
      "cell_type": "markdown",
      "metadata": {
        "id": "b520E1nCIBHc"
      },
      "source": [
        "\n",
        "# Introduction to PyTorch\n",
        "\n",
        "We show some simple examples of how to use PyTorch. \n",
        "For a more detailed introduction see the free [Deep Learning With PyTorch](https://pytorch.org/assets/deep-learning/Deep-Learning-with-PyTorch.pdf) book.\n",
        "See also the [official tutorials](https://pytorch.org/tutorials) for more info.\n",
        "\n",
        "\n"
      ]
    },
    {
      "cell_type": "code",
      "metadata": {
        "id": "UeuOgABaIENZ"
      },
      "source": [
        "import sklearn\n",
        "import scipy\n",
        "import scipy.optimize\n",
        "import matplotlib.pyplot as plt\n",
        "from mpl_toolkits import mplot3d\n",
        "from mpl_toolkits.mplot3d import Axes3D\n",
        "import seaborn as sns\n",
        "import warnings\n",
        "warnings.filterwarnings('ignore')\n",
        "import itertools\n",
        "import time\n",
        "from functools import partial\n",
        "\n",
        "import os\n",
        "\n",
        "import numpy as np\n",
        "from scipy.special import logsumexp\n",
        "np.set_printoptions(precision=3)\n",
        "\n",
        "\n"
      ],
      "execution_count": 2,
      "outputs": []
    },
    {
      "cell_type": "code",
      "metadata": {
        "id": "GPozRwDAKFb8",
        "colab": {
          "base_uri": "https://localhost:8080/"
        },
        "outputId": "77409390-781d-4a1d-c7fd-83a35d22c739"
      },
      "source": [
        "\n",
        "\n",
        "import torch\n",
        "import torchvision\n",
        "print(\"torch version {}\".format(torch.__version__))\n",
        "if torch.cuda.is_available():\n",
        "  print(torch.cuda.get_device_name(0))\n",
        "  print(\"current device {}\".format(torch.cuda.current_device()))\n",
        "else:\n",
        "  print(\"Torch cannot find GPU\")\n",
        "\n",
        "def set_seed(seed):\n",
        "  np.random.seed(seed)\n",
        "  torch.manual_seed(seed)\n",
        "  torch.cuda.manual_seed_all(seed)\n",
        "\n",
        "use_cuda = torch.cuda.is_available()\n",
        "device = torch.device(\"cuda:0\" if use_cuda else \"cpu\")\n",
        "#torch.backends.cudnn.benchmark = True"
      ],
      "execution_count": 3,
      "outputs": [
        {
          "output_type": "stream",
          "text": [
            "torch version 1.8.0+cu101\n",
            "Tesla P100-PCIE-16GB\n",
            "current device 0\n"
          ],
          "name": "stdout"
        }
      ]
    },
    {
      "cell_type": "markdown",
      "metadata": {
        "id": "-pIgD7iRLUBt"
      },
      "source": [
        "# Automatic differentiation <a class=\"anchor\" id=\"AD\"></a>\n",
        "\n"
      ]
    },
    {
      "cell_type": "markdown",
      "metadata": {
        "id": "i96p-xYF5Akd"
      },
      "source": [
        "## Binary logistic regression\n",
        "\n",
        "In this section, we illustrate how to use autograd to compute the gradient and Hessian of the negative log likelihood for binary logistic regression.\n",
        "(See also [the JAX optimization colab](https://colab.research.google.com/github/probml/pyprobml/blob/master/book1/supplements/opt.ipynb).)\n"
      ]
    },
    {
      "cell_type": "markdown",
      "metadata": {
        "id": "AH0-FUcd6fHg"
      },
      "source": [
        "First we fit the model using sklearn to a (two-class version of) the Iris dataset. We will then compare to this later."
      ]
    },
    {
      "cell_type": "code",
      "metadata": {
        "id": "aSYkjaAO6n3A",
        "outputId": "220d6f59-c795-4a30-82cb-4e05bbd270a2",
        "colab": {
          "base_uri": "https://localhost:8080/"
        }
      },
      "source": [
        "# Fit the model usign sklearn\n",
        "\n",
        "import sklearn.datasets\n",
        "from sklearn.model_selection import train_test_split\n",
        "\n",
        "iris = sklearn.datasets.load_iris()\n",
        "X = iris[\"data\"]\n",
        "y = (iris[\"target\"] == 2).astype(np.int)  # 1 if Iris-Virginica, else 0'\n",
        "N, D = X.shape # 150, 4\n",
        "\n",
        "X_train, X_test, y_train, y_test = train_test_split(\n",
        "        X, y, test_size=0.33, random_state=42)\n",
        "\n",
        "from sklearn.linear_model import LogisticRegression\n",
        "\n",
        "# We set C to a large number to turn off regularization.\n",
        "# We don't fit the bias term to simplify the comparison below.\n",
        "log_reg = LogisticRegression(solver=\"lbfgs\", C=1e5, fit_intercept=False)\n",
        "log_reg.fit(X_train, y_train)\n",
        "w_mle_sklearn = np.ravel(log_reg.coef_)\n",
        "print(w_mle_sklearn)"
      ],
      "execution_count": 4,
      "outputs": [
        {
          "output_type": "stream",
          "text": [
            "[-4.414 -9.111  6.539 12.686]\n"
          ],
          "name": "stdout"
        }
      ]
    },
    {
      "cell_type": "code",
      "metadata": {
        "id": "iS5AB9NjLZ_i"
      },
      "source": [
        "\n",
        "\n",
        "# Binary cross entropy\n",
        "def BCE_with_logits(logits, targets):\n",
        "    N = logits.shape[0]\n",
        "    logits = logits.reshape(N,1)\n",
        "    logits_plus = np.hstack([np.zeros((N,1)), logits]) # e^0=1\n",
        "    logits_minus = np.hstack([np.zeros((N,1)), -logits])\n",
        "    logp1 = -logsumexp(logits_minus, axis=1)\n",
        "    logp0 = -logsumexp(logits_plus, axis=1)\n",
        "    logprobs = logp1 * targets + logp0 * (1-targets)\n",
        "    return -np.sum(logprobs)/N\n",
        "\n",
        "# Compute using numpy\n",
        "def sigmoid(x): return 0.5 * (np.tanh(x / 2.) + 1)\n",
        "\n",
        "def predict_logit(weights, inputs):\n",
        "    return np.dot(inputs, weights) # Already vectorized\n",
        "\n",
        "def predict_prob(weights, inputs):\n",
        "    return sigmoid(predict_logit(weights, inputs))\n",
        "\n",
        "def NLL(weights, batch):\n",
        "    X, y = batch\n",
        "    logits = predict_logit(weights, X)\n",
        "    return BCE_with_logits(logits, y)\n",
        "\n",
        "def NLL_grad(weights, batch):\n",
        "    X, y = batch\n",
        "    N = X.shape[0]\n",
        "    mu = predict_prob(weights, X)\n",
        "    g = np.sum(np.dot(np.diag(mu - y), X), axis=0)/N\n",
        "    return g\n",
        "\n"
      ],
      "execution_count": 5,
      "outputs": []
    },
    {
      "cell_type": "code",
      "metadata": {
        "id": "f9mD8S18746_",
        "outputId": "89e7c88e-23e9-44bd-f4ef-1f3887464ac4",
        "colab": {
          "base_uri": "https://localhost:8080/"
        }
      },
      "source": [
        "w_np = w_mle_sklearn\n",
        "y_pred = predict_prob(w_np, X_test)\n",
        "loss_np = NLL(w_np, (X_test, y_test))\n",
        "grad_np = NLL_grad(w, (X_test, y_test))\n",
        "print(\"params {}\".format(w_np))\n",
        "#print(\"pred {}\".format(y_pred))\n",
        "print(\"loss {}\".format(loss_np))\n",
        "print(\"grad {}\".format(grad_np))"
      ],
      "execution_count": 40,
      "outputs": [
        {
          "output_type": "stream",
          "text": [
            "params [-4.414 -9.111  6.539 12.686]\n",
            "loss 0.11824007099618833\n",
            "grad [-0.235 -0.122 -0.198 -0.064]\n"
          ],
          "name": "stdout"
        }
      ]
    },
    {
      "cell_type": "markdown",
      "metadata": {
        "id": "YeGQ7SJTNHMk"
      },
      "source": [
        "## PyTorch code"
      ]
    },
    {
      "cell_type": "markdown",
      "metadata": {
        "id": "Is7yJlgsL4BT"
      },
      "source": [
        "To compute the gradient using torch, we proceed as follows.\n",
        "\n",
        "- declare all the variables that you want to take derivatives with respect to using the requires_grad=True argumnet\n",
        "- define the (scalar output) objective function you want to differentiate in terms of these variables, and evaluate it at a point. This will generate a computation graph and store all the tensors.\n",
        "- call objective.backward() to trigger backpropagation (chain rule) on this graph.\n",
        "- extract the gradients from each variable using variable.grad field. (These will be torch tensors.)\n",
        "\n",
        "See the example below."
      ]
    },
    {
      "cell_type": "code",
      "metadata": {
        "id": "Wl_SK0WUlvNl"
      },
      "source": [
        "\n",
        "# data. By default, numpy uses double but torch uses float\n",
        "X_train_t = torch.tensor(X_train,  dtype=torch.float)\n",
        "y_train_t = torch.tensor(y_train, dtype=torch.float)\n",
        "\n",
        "X_test_t = torch.tensor(X_test, dtype=torch.float)\n",
        "y_test_t = torch.tensor(y_test, dtype=torch.float)"
      ],
      "execution_count": 41,
      "outputs": []
    },
    {
      "cell_type": "code",
      "metadata": {
        "id": "0L5NxIaVLu64",
        "colab": {
          "base_uri": "https://localhost:8080/"
        },
        "outputId": "8470fda1-5e89-4677-9f9f-ee92e4928e18"
      },
      "source": [
        "# parameters\n",
        "W = np.reshape(w_mle_sklearn, [D, 1]) # convert 1d vector to 2d matrix\n",
        "w_torch = torch.tensor(W, requires_grad=True, dtype=torch.float)\n",
        "#w_torch.requires_grad_() \n",
        "print(w_torch)\n",
        "\n",
        "\n",
        "# logistic regression in one line of code\n",
        "# This returns Nx1 probabilities\n",
        "y_pred = torch.sigmoid(torch.matmul(X_test_t, w_torch))[:,0]\n",
        "\n"
      ],
      "execution_count": 8,
      "outputs": [
        {
          "output_type": "stream",
          "text": [
            "tensor([[-4.4138],\n",
            "        [-9.1106],\n",
            "        [ 6.5387],\n",
            "        [12.6857]], requires_grad=True)\n"
          ],
          "name": "stdout"
        }
      ]
    },
    {
      "cell_type": "code",
      "metadata": {
        "id": "VW-3vFu7M6dc",
        "outputId": "6a83eb11-0dee-4346-c628-7499eb965431",
        "colab": {
          "base_uri": "https://localhost:8080/"
        }
      },
      "source": [
        "# loss function is average NLL\n",
        "criterion = torch.nn.BCELoss(reduction='mean')\n",
        "loss_torch = criterion(y_pred, y_test_t)\n",
        "\n",
        "print(loss_torch)"
      ],
      "execution_count": 9,
      "outputs": [
        {
          "output_type": "stream",
          "text": [
            "tensor(0.1182, grad_fn=<BinaryCrossEntropyBackward>)\n"
          ],
          "name": "stdout"
        }
      ]
    },
    {
      "cell_type": "code",
      "metadata": {
        "id": "OtERQNtQLKfN",
        "outputId": "089caf35-08ba-411f-bef8-5c7cddab7412",
        "colab": {
          "base_uri": "https://localhost:8080/"
        }
      },
      "source": [
        "\n",
        "# Backprop\n",
        "#if w_torch.grad is not None:    \n",
        "#  w_torch.grad.zero_()\n",
        "loss_torch.backward()\n",
        "print(w_torch.grad)\n",
        "grad_torch = w_torch.grad[:,0].cpu().numpy()\n",
        "\n"
      ],
      "execution_count": 10,
      "outputs": [
        {
          "output_type": "stream",
          "text": [
            "tensor([[-0.2353],\n",
            "        [-0.1223],\n",
            "        [-0.1976],\n",
            "        [-0.0638]])\n"
          ],
          "name": "stdout"
        }
      ]
    },
    {
      "cell_type": "code",
      "metadata": {
        "id": "CSKAJvrBNKQC",
        "outputId": "22fc4faf-b6c9-415d-afac-1a21b0314e48",
        "colab": {
          "base_uri": "https://localhost:8080/"
        }
      },
      "source": [
        "# Test\n",
        "assert np.allclose(grad_np, grad_torch)\n",
        "\n",
        "print(\"loss {}\".format(loss_torch))\n",
        "print(\"grad {}\".format(grad_torch))"
      ],
      "execution_count": 11,
      "outputs": [
        {
          "output_type": "stream",
          "text": [
            "loss 0.11824005842208862\n",
            "grad [-0.235 -0.122 -0.198 -0.064]\n"
          ],
          "name": "stdout"
        }
      ]
    },
    {
      "cell_type": "markdown",
      "metadata": {
        "id": "8TMzOBNtUaW6"
      },
      "source": [
        "# Stochastic optimization using SGD"
      ]
    },
    {
      "cell_type": "markdown",
      "metadata": {
        "id": "9byvNfJ9QpsH"
      },
      "source": [
        "## DataLoader\n",
        "\n",
        "First we need a way to get minbatches of data."
      ]
    },
    {
      "cell_type": "code",
      "metadata": {
        "colab": {
          "base_uri": "https://localhost:8080/"
        },
        "id": "O_jliQydRXUB",
        "outputId": "7130c1ad-18e1-4060-a5ab-5ad8e08f76ae"
      },
      "source": [
        "\n",
        "from torch.utils.data import DataLoader, TensorDataset\n",
        "\n",
        "# To make things interesting, we pick a batchsize of B=33, which is not divisible by N=100\n",
        "dataset = TensorDataset(X_train_t, y_train_t)\n",
        "B = 33\n",
        "dataloader = DataLoader(dataset, batch_size=B, shuffle=True)\n",
        "print(X_train_t.shape)\n",
        "print('{} examples divided into {} batches of size {}'.format(\n",
        "    len(dataloader.dataset), len(dataloader), dataloader.batch_size))\n",
        "\n",
        "for i, batch in enumerate(dataloader):\n",
        "  X, y = batch\n",
        "  print(X.shape)\n",
        "  print(y.shape)\n",
        " "
      ],
      "execution_count": 34,
      "outputs": [
        {
          "output_type": "stream",
          "text": [
            "torch.Size([100, 4])\n",
            "100 examples divided into 4 batches of size 33\n",
            "torch.Size([33, 4])\n",
            "torch.Size([33])\n",
            "torch.Size([33, 4])\n",
            "torch.Size([33])\n",
            "torch.Size([33, 4])\n",
            "torch.Size([33])\n",
            "torch.Size([1, 4])\n",
            "torch.Size([1])\n"
          ],
          "name": "stdout"
        }
      ]
    },
    {
      "cell_type": "code",
      "metadata": {
        "id": "ui_gFE0wWSIS",
        "outputId": "22fce70f-b8e2-4bef-92c5-9bea064e9ed9",
        "colab": {
          "base_uri": "https://localhost:8080/"
        }
      },
      "source": [
        "datastream = iter(dataloader)\n",
        "for i in range(3):\n",
        "  X,y = next(datastream)\n",
        "  print(y)"
      ],
      "execution_count": 23,
      "outputs": [
        {
          "output_type": "stream",
          "text": [
            "tensor([0., 1., 0., 0., 1., 0., 0., 0., 0., 0., 1., 0., 0., 0., 0., 0., 0., 1.,\n",
            "        0., 0., 1., 0., 1., 1., 0., 0., 1., 0., 0., 0., 1., 0., 0.])\n",
            "tensor([0., 0., 0., 1., 0., 0., 0., 0., 1., 0., 1., 1., 0., 0., 0., 1., 1., 0.,\n",
            "        0., 0., 0., 1., 0., 1., 1., 0., 0., 0., 1., 0., 1., 0., 1.])\n",
            "tensor([0., 1., 0., 0., 0., 0., 0., 0., 0., 0., 1., 1., 0., 0., 1., 1., 0., 1.,\n",
            "        0., 0., 1., 1., 0., 1., 0., 0., 1., 1., 0., 0., 1., 0., 0.])\n"
          ],
          "name": "stdout"
        }
      ]
    },
    {
      "cell_type": "markdown",
      "metadata": {
        "id": "Wux6hg6JVe7O"
      },
      "source": [
        "## Vanilla SGD training loop"
      ]
    },
    {
      "cell_type": "code",
      "metadata": {
        "id": "xTuMdQqGmEwO"
      },
      "source": [
        "def predict(X, w):\n",
        "  y_pred = torch.sigmoid(torch.matmul(X, w))[:,0]\n",
        "  return y_pred\n"
      ],
      "execution_count": 14,
      "outputs": []
    },
    {
      "cell_type": "code",
      "metadata": {
        "id": "bXBNl-vwVejO",
        "outputId": "e558d4fb-e459-4a24-eab8-751ebe7fda55",
        "colab": {
          "base_uri": "https://localhost:8080/",
          "height": 282
        }
      },
      "source": [
        "set_seed(0)\n",
        "params = torch.randn((D,1), requires_grad=True)\n",
        "nepochs = 100\n",
        "nbatches = len(dataloader)\n",
        "criterion = torch.nn.BCELoss(reduction='mean')\n",
        "learning_rate = 1e-1\n",
        "loss_trace = []\n",
        "\n",
        "for epoch in range(nepochs):\n",
        "  for b, batch in enumerate(dataloader):\n",
        "    X, y =  batch\n",
        "\n",
        "    if params.grad is not None:\n",
        "      params.grad.zero_() # reset gradient to zero\n",
        "    y_pred = predict(X, params)\n",
        "    loss = criterion(y_pred, y)\n",
        "    #print(f'epoch {epoch}, batch {b}, loss: {loss.item()}')\n",
        "    loss_trace.append(loss)\n",
        "\n",
        "    loss.backward()\n",
        "    with torch.no_grad():\n",
        "      params -= learning_rate * params.grad\n",
        "  \n",
        "  #print(f'end of epoch {epoch}, loss: {loss.item()}')\n",
        "    \n",
        "plt.figure()\n",
        "plt.plot(loss_trace)\n"
      ],
      "execution_count": 42,
      "outputs": [
        {
          "output_type": "execute_result",
          "data": {
            "text/plain": [
              "[<matplotlib.lines.Line2D at 0x7f7c240994d0>]"
            ]
          },
          "metadata": {
            "tags": []
          },
          "execution_count": 42
        },
        {
          "output_type": "display_data",
          "data": {
            "image/png": "[encoded data removed]",
            "text/plain": [
              "<Figure size 432x288 with 1 Axes>"
            ]
          },
          "metadata": {
            "tags": [],
            "needs_background": "light"
          }
        }
      ]
    },
    {
      "cell_type": "code",
      "metadata": {
        "id": "TK-4_-N5o4sK",
        "outputId": "334d803f-930d-4547-ba1c-540996a9dc0f",
        "colab": {
          "base_uri": "https://localhost:8080/"
        }
      },
      "source": [
        "\n",
        "print(\"parameters from sklearn {}\".format(w_mle_sklearn))\n",
        "print(\"parameters from torch {}\".format(params[:,0]))"
      ],
      "execution_count": 39,
      "outputs": [
        {
          "output_type": "stream",
          "text": [
            "parameters from sklearn [-4.414 -9.111  6.539 12.686]\n",
            "parameters from torch-bfgs tensor([-0.8046, -2.3841,  1.3471,  2.9677], grad_fn=<SelectBackward>)\n"
          ],
          "name": "stdout"
        }
      ]
    },
    {
      "cell_type": "code",
      "metadata": {
        "id": "0dBeBatDo_Xy",
        "outputId": "f9a5d3ec-4655-4aae-c4ab-4e7975db9c7a",
        "colab": {
          "base_uri": "https://localhost:8080/"
        }
      },
      "source": [
        "\n",
        "y_pred_np = predict_prob(w_np, X_test)\n",
        "y_pred_t = predict(X_test_t, params) \n",
        "y_pred = y_pred_t.detach().numpy()\n",
        "np.set_printoptions(formatter={'float': lambda x: \"{0:0.3f}\".format(x)})\n",
        "print(y_pred_np)\n",
        "print(y_pred)\n",
        "#['{:0.2f}'.format(p) for p in y_pred_np]\n",
        "#print('{:0.2f}'.format(y_pred))\n"
      ],
      "execution_count": 51,
      "outputs": [
        {
          "output_type": "stream",
          "text": [
            "[0.002 0.000 1.000 0.012 0.002 0.000 0.000 0.979 0.740 0.000 0.706 0.000\n",
            " 0.000 0.000 0.000 0.001 1.000 0.000 0.009 1.000 0.000 0.650 0.000 1.000\n",
            " 0.094 0.998 1.000 1.000 0.000 0.000 0.000 0.000 0.000 0.000 0.000 0.998\n",
            " 0.000 0.000 0.000 0.000 0.999 0.000 0.000 0.000 0.000 0.000 0.281 0.909\n",
            " 0.000 0.999]\n",
            "[0.156 0.000 0.976 0.227 0.179 0.000 0.062 0.680 0.570 0.092 0.487 0.000\n",
            " 0.000 0.000 0.000 0.135 0.877 0.125 0.207 0.904 0.000 0.471 0.000 0.876\n",
            " 0.298 0.784 0.859 0.842 0.000 0.000 0.000 0.000 0.063 0.000 0.000 0.793\n",
            " 0.094 0.000 0.000 0.000 0.803 0.107 0.119 0.000 0.000 0.100 0.396 0.553\n",
            " 0.085 0.779]\n"
          ],
          "name": "stdout"
        }
      ]
    },
    {
      "cell_type": "markdown",
      "metadata": {
        "id": "2AlO5fUmrMzI"
      },
      "source": [
        "## Use Torch SGD optimizer"
      ]
    },
    {
      "cell_type": "code",
      "metadata": {
        "id": "YzC12T6mrOmb",
        "outputId": "58960041-a49a-4795-aa83-6d8e16ec44c2",
        "colab": {
          "base_uri": "https://localhost:8080/",
          "height": 300
        }
      },
      "source": [
        "set_seed(0)\n",
        "params = torch.randn((D,1), requires_grad=True)\n",
        "nepochs = 100\n",
        "nbatches = len(dataloader)\n",
        "criterion = torch.nn.BCELoss(reduction='mean')\n",
        "learning_rate = 1e-1\n",
        "loss_trace = []\n",
        "\n",
        "optimizer = torch.optim.SGD([params], lr=learning_rate)\n",
        "    \n",
        "for epoch in range(nepochs):\n",
        "  for b, batch in enumerate(dataloader):\n",
        "    X, y =  batch\n",
        "\n",
        "    y_pred = predict(X, params)\n",
        "    loss = criterion(y_pred, y)\n",
        "    #print(f'epoch {epoch}, batch {b}, loss: {loss.item()}')\n",
        "    loss_trace.append(loss)\n",
        "\n",
        "    optimizer.zero_grad()\n",
        "    loss.backward()\n",
        "    optimizer.step()\n",
        "  \n",
        "  #print(f'end of epoch {epoch}, loss: {loss.item()}')\n",
        "    \n",
        "plt.figure()\n",
        "plt.plot(loss_trace)\n",
        "\n",
        "print(\"parameters from sklearn {}\".format(w_mle_sklearn))\n",
        "print(\"parameters from torch {}\".format(params[:,0]))"
      ],
      "execution_count": 66,
      "outputs": [
        {
          "output_type": "stream",
          "text": [
            "parameters from sklearn [-4.414 -9.111 6.539 12.686]\n",
            "parameters from torch tensor([-0.8046, -2.3841,  1.3471,  2.9677], grad_fn=<SelectBackward>)\n"
          ],
          "name": "stdout"
        },
        {
          "output_type": "display_data",
          "data": {
            "image/png": "[encoded data removed]",
            "text/plain": [
              "<Figure size 432x288 with 1 Axes>"
            ]
          },
          "metadata": {
            "tags": [],
            "needs_background": "light"
          }
        }
      ]
    },
    {
      "cell_type": "code",
      "metadata": {
        "id": "2ANxGGBmsLwg",
        "outputId": "ab1d9565-8592-47f7-845d-0522000bbd30",
        "colab": {
          "base_uri": "https://localhost:8080/",
          "height": 300
        }
      },
      "source": [
        "set_seed(0)\n",
        "params = torch.randn((D,1), requires_grad=True)\n",
        "nepochs = 100\n",
        "nbatches = len(dataloader)\n",
        "criterion = torch.nn.BCELoss(reduction='mean')\n",
        "learning_rate = 1e-1\n",
        "loss_trace = []\n",
        "\n",
        "optimizer = torch.optim.Adam([params], lr=learning_rate)\n",
        "    \n",
        "for epoch in range(nepochs):\n",
        "  for b, batch in enumerate(dataloader):\n",
        "    X, y =  batch\n",
        "\n",
        "    y_pred = predict(X, params)\n",
        "    loss = criterion(y_pred, y)\n",
        "    #print(f'epoch {epoch}, batch {b}, loss: {loss.item()}')\n",
        "    loss_trace.append(loss)\n",
        "\n",
        "    optimizer.zero_grad()\n",
        "    loss.backward()\n",
        "    optimizer.step()\n",
        "  \n",
        "  #print(f'end of epoch {epoch}, loss: {loss.item()}')\n",
        "    \n",
        "plt.figure()\n",
        "plt.plot(loss_trace)\n",
        "\n",
        "print(\"parameters from sklearn {}\".format(w_mle_sklearn))\n",
        "print(\"parameters from torch {}\".format(params[:,0]))"
      ],
      "execution_count": 67,
      "outputs": [
        {
          "output_type": "stream",
          "text": [
            "parameters from sklearn [-4.414 -9.111 6.539 12.686]\n",
            "parameters from torch tensor([-0.3577, -3.1933,  0.4717,  5.1280], grad_fn=<SelectBackward>)\n"
          ],
          "name": "stdout"
        },
        {
          "output_type": "display_data",
          "data": {
            "image/png": "[encoded data removed]",
            "text/plain": [
              "<Figure size 432x288 with 1 Axes>"
            ]
          },
          "metadata": {
            "tags": [],
            "needs_background": "light"
          }
        }
      ]
    },
    {
      "cell_type": "code",
      "metadata": {
        "id": "F_x2_EPsz7Fi",
        "outputId": "650ec21f-e405-4cc7-cbe1-9cfd15ccaf61",
        "colab": {
          "base_uri": "https://localhost:8080/"
        }
      },
      "source": [
        "\n",
        "y_pred_np = predict_prob(w_np, X_test)\n",
        "y_pred_t = predict(X_test_t, params) \n",
        "y_pred = y_pred_t.detach().numpy()\n",
        "np.set_printoptions(formatter={'float': lambda x: \"{0:0.3f}\".format(x)})\n",
        "print(y_pred_np)\n",
        "print(y_pred)\n",
        "#['{:0.2f}'.format(p) for p in y_pred_np]\n",
        "#print('{:0.2f}'.format(y_pred))"
      ],
      "execution_count": 68,
      "outputs": [
        {
          "output_type": "stream",
          "text": [
            "[0.002 0.000 1.000 0.012 0.002 0.000 0.000 0.979 0.740 0.000 0.706 0.000\n",
            " 0.000 0.000 0.000 0.001 1.000 0.000 0.009 1.000 0.000 0.650 0.000 1.000\n",
            " 0.094 0.998 1.000 1.000 0.000 0.000 0.000 0.000 0.000 0.000 0.000 0.998\n",
            " 0.000 0.000 0.000 0.000 0.999 0.000 0.000 0.000 0.000 0.000 0.281 0.909\n",
            " 0.000 0.999]\n",
            "[0.060 0.000 0.982 0.169 0.127 0.000 0.052 0.862 0.639 0.063 0.529 0.000\n",
            " 0.000 0.000 0.000 0.086 0.892 0.075 0.101 0.937 0.000 0.445 0.000 0.898\n",
            " 0.156 0.906 0.830 0.873 0.000 0.000 0.000 0.000 0.046 0.000 0.000 0.866\n",
            " 0.063 0.000 0.000 0.000 0.810 0.064 0.084 0.000 0.000 0.060 0.250 0.410\n",
            " 0.064 0.836]\n"
          ],
          "name": "stdout"
        }
      ]
    },
    {
      "cell_type": "markdown",
      "metadata": {
        "id": "DLWeq4d-6Upz"
      },
      "source": [
        "# Batch optimization using BFGS\n",
        "\n",
        "We will use BFGS from PyTorch for fitting a logistic regression model, and compare to sklearn."
      ]
    },
    {
      "cell_type": "code",
      "metadata": {
        "id": "yiefA00AuXK4",
        "outputId": "4b60213e-88eb-4ebb-df70-15e4aa1992d3",
        "colab": {
          "base_uri": "https://localhost:8080/"
        }
      },
      "source": [
        "set_seed(0)\n",
        "params = torch.randn((D,1), requires_grad=True)\n",
        "optimizer = torch.optim.LBFGS([params], history_size=10)\n",
        "    \n",
        "def closure():\n",
        "    optimizer.zero_grad()\n",
        "    y_pred = predict(X_train_t, params)\n",
        "    loss = criterion(y_pred, y_train_t)\n",
        "    loss.backward()\n",
        "    return loss\n",
        "\n",
        "max_iter = 10\n",
        "for i in range(max_iter):\n",
        "    loss = optimizer.step(closure)\n",
        "    print(loss.item())"
      ],
      "execution_count": 63,
      "outputs": [
        {
          "output_type": "stream",
          "text": [
            "1.994707465171814\n",
            "0.06939578056335449\n",
            "0.06907700002193451\n",
            "0.06907700002193451\n",
            "0.06907700002193451\n",
            "0.06907700002193451\n",
            "0.06907700002193451\n",
            "0.06907700002193451\n",
            "0.06907700002193451\n",
            "0.06907700002193451\n"
          ],
          "name": "stdout"
        }
      ]
    },
    {
      "cell_type": "code",
      "metadata": {
        "id": "gcsx3JCGuISp",
        "outputId": "9180b084-8b1d-4602-d77c-ab392b8dc2d0",
        "colab": {
          "base_uri": "https://localhost:8080/"
        }
      },
      "source": [
        "print(\"parameters from sklearn {}\".format(w_mle_sklearn))\n",
        "print(\"parameters from torch {}\".format(params[:,0]))"
      ],
      "execution_count": 61,
      "outputs": [
        {
          "output_type": "stream",
          "text": [
            "parameters from sklearn [-4.414 -9.111 6.539 12.686]\n",
            "parameters from torch tensor([-4.4146, -9.1144,  6.5401, 12.6912], grad_fn=<SelectBackward>)\n"
          ],
          "name": "stdout"
        }
      ]
    },
    {
      "cell_type": "code",
      "metadata": {
        "id": "LSt8z7m5uuvK",
        "outputId": "b1d6d9ad-1eeb-492e-b585-2a66b4004341",
        "colab": {
          "base_uri": "https://localhost:8080/"
        }
      },
      "source": [
        "\n",
        "y_pred_np = predict_prob(w_np, X_test)\n",
        "y_pred_t = predict(X_test_t, params) \n",
        "y_pred = y_pred_t.detach().numpy()\n",
        "np.set_printoptions(formatter={'float': lambda x: \"{0:0.3f}\".format(x)})\n",
        "print(y_pred_np)\n",
        "print(y_pred)\n",
        "#['{:0.2f}'.format(p) for p in y_pred_np]\n",
        "#print('{:0.2f}'.format(y_pred))"
      ],
      "execution_count": 64,
      "outputs": [
        {
          "output_type": "stream",
          "text": [
            "[0.002 0.000 1.000 0.012 0.002 0.000 0.000 0.979 0.740 0.000 0.706 0.000\n",
            " 0.000 0.000 0.000 0.001 1.000 0.000 0.009 1.000 0.000 0.650 0.000 1.000\n",
            " 0.094 0.998 1.000 1.000 0.000 0.000 0.000 0.000 0.000 0.000 0.000 0.998\n",
            " 0.000 0.000 0.000 0.000 0.999 0.000 0.000 0.000 0.000 0.000 0.281 0.909\n",
            " 0.000 0.999]\n",
            "[0.002 0.000 1.000 0.012 0.002 0.000 0.000 0.979 0.740 0.000 0.706 0.000\n",
            " 0.000 0.000 0.000 0.001 1.000 0.000 0.009 1.000 0.000 0.650 0.000 1.000\n",
            " 0.094 0.998 1.000 1.000 0.000 0.000 0.000 0.000 0.000 0.000 0.000 0.998\n",
            " 0.000 0.000 0.000 0.000 0.999 0.000 0.000 0.000 0.000 0.000 0.281 0.909\n",
            " 0.000 0.999]\n"
          ],
          "name": "stdout"
        }
      ]
    },
    {
      "cell_type": "markdown",
      "metadata": {
        "id": "Jn1sZgoJ0d7s"
      },
      "source": [
        "# Modules\n",
        "\n",
        "We can define logistic regression as a one layer MLP.\n",
        "This encapsulates the parameters inside the model."
      ]
    },
    {
      "cell_type": "code",
      "metadata": {
        "id": "xp1y2uzD6xGD"
      },
      "source": [
        "# Define model and loss.\n",
        "\n",
        "class Model(torch.nn.Module):\n",
        "    def __init__(self):\n",
        "        super(Model, self).__init__()\n",
        "        self.linear = torch.nn.Linear(D, 1, bias=False) \n",
        "        \n",
        "    def forward(self, x):\n",
        "        y_pred = torch.sigmoid(self.linear(x))\n",
        "        return y_pred[:,0] # (N,1) -> (N)\n",
        "    \n",
        "set_seed(0)\n",
        "model = Model() \n",
        "\n",
        "\n"
      ],
      "execution_count": 69,
      "outputs": []
    },
    {
      "cell_type": "code",
      "metadata": {
        "colab": {
          "base_uri": "https://localhost:8080/"
        },
        "id": "5BN5X-1w62ST",
        "outputId": "d3190fb5-243b-40dc-e573-80fe4ac0eebe"
      },
      "source": [
        "optimizer = torch.optim.LBFGS(model.parameters(), history_size=10)\n",
        "    \n",
        "criterion = torch.nn.BCELoss(reduction='mean')\n",
        "def closure():\n",
        "    optimizer.zero_grad()\n",
        "    y_pred = model(X_train_t)\n",
        "    loss = criterion(y_pred, y_train_t)\n",
        "    #print('loss:', loss.item())\n",
        "    loss.backward()\n",
        "    return loss\n",
        "\n",
        "max_iter = 10\n",
        "for i in range(max_iter):\n",
        "    loss = optimizer.step(closure)\n",
        "\n",
        "params = list(model.parameters())\n",
        "w_torch_bfgs = params[0][0].detach().numpy() #(D,) vector\n",
        "print(\"parameters from sklearn {}\".format(w_mle_sklearn))\n",
        "print(\"parameters from torch-bfgs {}\".format(w_torch_bfgs))"
      ],
      "execution_count": 70,
      "outputs": [
        {
          "output_type": "stream",
          "text": [
            "parameters from sklearn [-4.414 -9.111 6.539 12.686]\n",
            "parameters from torch-bfgs [-4.415 -9.114 6.540 12.691]\n"
          ],
          "name": "stdout"
        }
      ]
    }
  ]
}