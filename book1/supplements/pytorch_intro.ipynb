{
  "nbformat": 4,
  "nbformat_minor": 0,
  "metadata": {
    "colab": {
      "name": "pytorch_intro.ipynb",
      "provenance": [],
      "toc_visible": true,
      "include_colab_link": true
    },
    "kernelspec": {
      "name": "python3",
      "display_name": "Python 3"
    },
    "accelerator": "GPU"
  },
  "cells": [
    {
      "cell_type": "markdown",
      "metadata": {
        "id": "view-in-github",
        "colab_type": "text"
      },
      "source": [
        "<a href=\"https://colab.research.google.com/github/probml/pyprobml/blob/master/book1/mlp/pytorch_intro.ipynb\" target=\"_parent\"><img src=\"https://colab.research.google.com/assets/colab-badge.svg\" alt=\"Open In Colab\"/></a>"
      ]
    },
    {
      "cell_type": "markdown",
      "metadata": {
        "id": "b520E1nCIBHc"
      },
      "source": [
        "\n",
        "# Introduction to PyTorch\n",
        "\n",
        "We show some simple examples of how to use PyTorch. \n",
        "See the [official tutorials](https://pytorch.org/tutorials) for more info.\n",
        "\n",
        "**Make sure you select 'GPU' from the 'Runtime' tab at the top of this page.**\n",
        "\n"
      ]
    },
    {
      "cell_type": "code",
      "metadata": {
        "id": "UeuOgABaIENZ"
      },
      "source": [
        "import sklearn\n",
        "import scipy\n",
        "import scipy.optimize\n",
        "import matplotlib.pyplot as plt\n",
        "from mpl_toolkits import mplot3d\n",
        "from mpl_toolkits.mplot3d import Axes3D\n",
        "import seaborn as sns\n",
        "import warnings\n",
        "warnings.filterwarnings('ignore')\n",
        "import itertools\n",
        "import time\n",
        "from functools import partial\n",
        "\n",
        "import os\n",
        "\n",
        "import numpy as np\n",
        "import numpy as onp # original numpy (not hidden by jax)\n",
        "from scipy.special import logsumexp\n",
        "np.set_printoptions(precision=3)\n",
        "\n",
        "\n"
      ],
      "execution_count": 1,
      "outputs": []
    },
    {
      "cell_type": "code",
      "metadata": {
        "id": "GPozRwDAKFb8",
        "colab": {
          "base_uri": "https://localhost:8080/"
        },
        "outputId": "aa599db9-3ca8-42cd-a9cc-b44b5d018abc"
      },
      "source": [
        "\n",
        "\n",
        "import torch\n",
        "import torchvision\n",
        "print(\"torch version {}\".format(torch.__version__))\n",
        "if torch.cuda.is_available():\n",
        "  print(torch.cuda.get_device_name(0))\n",
        "  print(\"current device {}\".format(torch.cuda.current_device()))\n",
        "else:\n",
        "  print(\"Torch cannot find GPU\")\n",
        "\n",
        "def set_seed(seed):\n",
        "  onp.random.seed(seed)\n",
        "  torch.manual_seed(seed)\n",
        "  torch.cuda.manual_seed_all(seed)\n",
        "\n",
        "use_cuda = torch.cuda.is_available()\n",
        "device = torch.device(\"cuda:0\" if use_cuda else \"cpu\")\n",
        "#torch.backends.cudnn.benchmark = True"
      ],
      "execution_count": 2,
      "outputs": [
        {
          "output_type": "stream",
          "text": [
            "torch version 1.7.0+cu101\n",
            "Tesla T4\n",
            "current device 0\n"
          ],
          "name": "stdout"
        }
      ]
    },
    {
      "cell_type": "markdown",
      "metadata": {
        "id": "-pIgD7iRLUBt"
      },
      "source": [
        "# Automatic differentiation <a class=\"anchor\" id=\"AD\"></a>\n",
        "\n"
      ]
    },
    {
      "cell_type": "code",
      "metadata": {
        "id": "iS5AB9NjLZ_i",
        "colab": {
          "base_uri": "https://localhost:8080/"
        },
        "outputId": "0403dae6-3e67-44ad-9249-762d2c152cad"
      },
      "source": [
        "## Compute gradient of loss \"by hand\" using numpy\n",
        "\n",
        "\n",
        "def BCE_with_logits(logits, targets):\n",
        "    N = logits.shape[0]\n",
        "    logits = logits.reshape(N,1)\n",
        "    logits_plus = np.hstack([np.zeros((N,1)), logits]) # e^0=1\n",
        "    logits_minus = np.hstack([np.zeros((N,1)), -logits])\n",
        "    logp1 = -logsumexp(logits_minus, axis=1)\n",
        "    logp0 = -logsumexp(logits_plus, axis=1)\n",
        "    logprobs = logp1 * targets + logp0 * (1-targets)\n",
        "    return -np.sum(logprobs)/N\n",
        "\n",
        "# Compute using numpy\n",
        "def sigmoid(x): return 0.5 * (np.tanh(x / 2.) + 1)\n",
        "\n",
        "def predict_logit(weights, inputs):\n",
        "    return np.dot(inputs, weights) # Already vectorized\n",
        "\n",
        "def predict_prob(weights, inputs):\n",
        "    return sigmoid(predict_logit(weights, inputs))\n",
        "\n",
        "def NLL(weights, batch):\n",
        "    X, y = batch\n",
        "    logits = predict_logit(weights, X)\n",
        "    return BCE_with_logits(logits, y)\n",
        "\n",
        "def NLL_grad(weights, batch):\n",
        "    X, y = batch\n",
        "    N = X.shape[0]\n",
        "    mu = predict_prob(weights, X)\n",
        "    g = np.sum(np.dot(np.diag(mu - y), X), axis=0)/N\n",
        "    return g\n",
        "\n",
        "np.random.seed(0)\n",
        "N = 100\n",
        "D = 5\n",
        "X = np.random.randn(N, D)\n",
        "w = 10*np.random.randn(D)\n",
        "mu = predict_prob(w, X)\n",
        "y = np.random.binomial(n=1, p=mu, size=N)\n",
        "\n",
        "X_test = X\n",
        "y_test = y\n",
        "\n",
        "y_pred = predict_prob(w, X_test)\n",
        "loss = NLL(w, (X_test, y_test))\n",
        "grad_np = NLL_grad(w, (X_test, y_test))\n",
        "print(\"params {}\".format(w))\n",
        "#print(\"pred {}\".format(y_pred))\n",
        "print(\"loss {}\".format(loss))\n",
        "print(\"grad {}\".format(grad_np))"
      ],
      "execution_count": null,
      "outputs": [
        {
          "output_type": "stream",
          "text": [
            "params [ 3.827 -0.342 10.963 -2.342 -3.475]\n",
            "loss 0.05501843790657687\n",
            "grad [-0.014  0.003  0.008  0.008  0.014]\n"
          ],
          "name": "stdout"
        }
      ]
    },
    {
      "cell_type": "markdown",
      "metadata": {
        "id": "Is7yJlgsL4BT"
      },
      "source": [
        "\n",
        "\n",
        "We just compute the objective, call backward() on it, and then lookup variable.grad. However, we have to specify the requires_grad=True attribute on the variable before computing the objective, so that Torch knows to record its values on its tape."
      ]
    },
    {
      "cell_type": "code",
      "metadata": {
        "id": "0L5NxIaVLu64",
        "colab": {
          "base_uri": "https://localhost:8080/"
        },
        "outputId": "1ee190a8-1090-464d-b848-4fb07e3f1d69"
      },
      "source": [
        "w_torch = torch.Tensor(np.reshape(w, [D, 1])).to(device)\n",
        "w_torch.requires_grad_() \n",
        "x_test_tensor = torch.Tensor(X_test).to(device)\n",
        "y_test_tensor = torch.Tensor(y_test).to(device)\n",
        "y_pred = torch.sigmoid(torch.matmul(x_test_tensor, w_torch))[:,0]\n",
        "criterion = torch.nn.BCELoss(reduction='mean')\n",
        "loss_torch = criterion(y_pred, y_test_tensor)\n",
        "loss_torch.backward()\n",
        "grad_torch = w_torch.grad[:,0].cpu().numpy()\n",
        "assert np.allclose(grad_np, grad_torch)\n",
        "\n",
        "print(\"params {}\".format(w_torch))\n",
        "#print(\"pred {}\".format(y_pred))\n",
        "print(\"loss {}\".format(loss_torch))\n",
        "print(\"grad {}\".format(grad_torch))"
      ],
      "execution_count": null,
      "outputs": [
        {
          "output_type": "stream",
          "text": [
            "params tensor([[ 3.8273],\n",
            "        [-0.3424],\n",
            "        [10.9635],\n",
            "        [-2.3422],\n",
            "        [-3.4745]], device='cuda:0', requires_grad=True)\n",
            "loss 0.055018432438373566\n",
            "grad [-0.014  0.003  0.008  0.008  0.014]\n"
          ],
          "name": "stdout"
        }
      ]
    },
    {
      "cell_type": "markdown",
      "metadata": {
        "id": "9byvNfJ9QpsH"
      },
      "source": [
        "# DataLoader"
      ]
    },
    {
      "cell_type": "code",
      "metadata": {
        "colab": {
          "base_uri": "https://localhost:8080/"
        },
        "id": "O_jliQydRXUB",
        "outputId": "78ac4e00-dfff-480a-fd95-037fb94fd414"
      },
      "source": [
        "# Put data into PyTorch format.\n",
        "import torch\n",
        "from torch.utils.data import DataLoader, TensorDataset\n",
        "\n",
        "N = 40\n",
        "D = 10\n",
        "np.random.seed(0)\n",
        "X_train = np.random.randn(N,D)\n",
        "y_train = np.random.randn(N)\n",
        "\n",
        "x_train_tensor = torch.Tensor(X_train)\n",
        "print(y_train.shape)\n",
        "yy = np.reshape(y_train, [N,1])\n",
        "print(yy.shape)\n",
        "y_train_tensor = torch.Tensor(yy)\n",
        "dataset = TensorDataset(x_train_tensor, y_train_tensor)\n",
        "\n",
        "\n",
        "dataloader = DataLoader(dataset, batch_size=7, shuffle=False)\n",
        "print('{} examples divided into {} batches of size {}'.format(\n",
        "    len(dataloader.dataset), len(dataloader), dataloader.batch_size))\n",
        "\n",
        "\n",
        "for i_batch, batch in enumerate(dataloader):\n",
        "  X, y = batch\n",
        "  print(X.shape)\n",
        "  print(y.shape)\n",
        " "
      ],
      "execution_count": 9,
      "outputs": [
        {
          "output_type": "stream",
          "text": [
            "(40,)\n",
            "(40, 1)\n",
            "40 examples divided into 6 batches of size 7\n",
            "torch.Size([7, 10])\n",
            "torch.Size([7, 1])\n",
            "torch.Size([7, 10])\n",
            "torch.Size([7, 1])\n",
            "torch.Size([7, 10])\n",
            "torch.Size([7, 1])\n",
            "torch.Size([7, 10])\n",
            "torch.Size([7, 1])\n",
            "torch.Size([7, 10])\n",
            "torch.Size([7, 1])\n",
            "torch.Size([5, 10])\n",
            "torch.Size([5, 1])\n"
          ],
          "name": "stdout"
        }
      ]
    },
    {
      "cell_type": "code",
      "metadata": {
        "colab": {
          "base_uri": "https://localhost:8080/"
        },
        "id": "7j5aByXxVM1D",
        "outputId": "8ea999bc-a56f-4f9f-ff5a-33d72bc31c1d"
      },
      "source": [
        "import torch\n",
        "import torch.nn as nn\n",
        "import torch.nn.functional as F\n",
        "import torch.optim as optim\n",
        "from torchvision import datasets, transforms\n",
        "from torch.autograd import Variable\n",
        "\n",
        "# download and transform train dataset\n",
        "train_loader = torch.utils.data.DataLoader(datasets.MNIST('../mnist_data', \n",
        "                                                          download=True, \n",
        "                                                          train=True,\n",
        "                                                          transform=transforms.Compose([\n",
        "                                                              transforms.ToTensor(), # first, convert image to PyTorch tensor\n",
        "                                                              transforms.Normalize((0.1307,), (0.3081,)) # normalize inputs\n",
        "                                                          ])), \n",
        "                                           batch_size=100, \n",
        "                                           shuffle=True)\n",
        "\n",
        "\n",
        "for batch_id, (data, label) in enumerate(train_loader):\n",
        "    data = Variable(data)\n",
        "    target = Variable(label)\n",
        "    print(batch_id)\n",
        "    print(data.shape)\n",
        "    if batch_id > 3: break"
      ],
      "execution_count": 12,
      "outputs": [
        {
          "output_type": "stream",
          "text": [
            "0\n",
            "torch.Size([100, 1, 28, 28])\n",
            "1\n",
            "torch.Size([100, 1, 28, 28])\n",
            "2\n",
            "torch.Size([100, 1, 28, 28])\n",
            "3\n",
            "torch.Size([100, 1, 28, 28])\n",
            "4\n",
            "torch.Size([100, 1, 28, 28])\n"
          ],
          "name": "stdout"
        }
      ]
    },
    {
      "cell_type": "markdown",
      "metadata": {
        "id": "DLWeq4d-6Upz"
      },
      "source": [
        "# Batch optimization for logistic regression\n",
        "\n",
        "We will use BFGS from PyTorch for fitting a logistic regression model, and compare to sklearn."
      ]
    },
    {
      "cell_type": "code",
      "metadata": {
        "colab": {
          "base_uri": "https://localhost:8080/"
        },
        "id": "sb0ndT3-6cTN",
        "outputId": "b7d25dd6-d181-4ec5-d695-ff38c38bf75d"
      },
      "source": [
        "# Fit the model to a dataset, so we have an \"interesting\" parameter vector to use.\n",
        "\n",
        "import sklearn.datasets\n",
        "from sklearn.model_selection import train_test_split\n",
        "\n",
        "iris = sklearn.datasets.load_iris()\n",
        "X = iris[\"data\"]\n",
        "y = (iris[\"target\"] == 2).astype(onp.int)  # 1 if Iris-Virginica, else 0'\n",
        "N, D = X.shape # 150, 4\n",
        "\n",
        "\n",
        "X_train, X_test, y_train, y_test = train_test_split(\n",
        "        X, y, test_size=0.33, random_state=42)\n",
        "\n",
        "from sklearn.linear_model import LogisticRegression\n",
        "\n",
        "# We set C to a large number to turn off regularization.\n",
        "# We don't fit the bias term to simplify the comparison below.\n",
        "log_reg = LogisticRegression(solver=\"lbfgs\", C=1e5, fit_intercept=False)\n",
        "log_reg.fit(X_train, y_train)\n",
        "w_mle_sklearn = np.ravel(log_reg.coef_)\n",
        "print(w_mle_sklearn)"
      ],
      "execution_count": 14,
      "outputs": [
        {
          "output_type": "stream",
          "text": [
            "[-4.414 -9.111  6.539 12.686]\n"
          ],
          "name": "stdout"
        }
      ]
    },
    {
      "cell_type": "code",
      "metadata": {
        "id": "9c-s1nfv6f6a"
      },
      "source": [
        "# Put data into PyTorch format.\n",
        "\n",
        "N, D = X_train.shape\n",
        "x_train_tensor = torch.Tensor(X_train)\n",
        "yy = np.reshape(y_train, [N,1])\n",
        "y_train_tensor = torch.Tensor(yy)\n"
      ],
      "execution_count": 15,
      "outputs": []
    },
    {
      "cell_type": "code",
      "metadata": {
        "id": "xp1y2uzD6xGD"
      },
      "source": [
        "# Define model and loss.\n",
        "\n",
        "class Model(torch.nn.Module):\n",
        "    def __init__(self):\n",
        "        super(Model, self).__init__()\n",
        "        self.linear = torch.nn.Linear(D, 1, bias=False) \n",
        "        \n",
        "    def forward(self, x):\n",
        "        y_pred = torch.sigmoid(self.linear(x))\n",
        "        return y_pred\n",
        "    \n",
        "set_seed(0)\n",
        "model = Model() \n",
        "criterion = torch.nn.BCELoss(reduction='mean')"
      ],
      "execution_count": 16,
      "outputs": []
    },
    {
      "cell_type": "code",
      "metadata": {
        "colab": {
          "base_uri": "https://localhost:8080/"
        },
        "id": "5BN5X-1w62ST",
        "outputId": "e644ad88-3412-4a84-e916-93186c4f6349"
      },
      "source": [
        "optimizer = torch.optim.LBFGS(model.parameters(), history_size=10)\n",
        "    \n",
        "def closure():\n",
        "    optimizer.zero_grad()\n",
        "    y_pred = model(x_train_tensor)\n",
        "    loss = criterion(y_pred, y_train_tensor)\n",
        "    #print('loss:', loss.item())\n",
        "    loss.backward()\n",
        "    return loss\n",
        "\n",
        "max_iter = 10\n",
        "for i in range(max_iter):\n",
        "    loss = optimizer.step(closure)\n",
        "\n",
        "params = list(model.parameters())\n",
        "w_torch_bfgs = params[0][0].detach().numpy() #(D,) vector\n",
        "print(\"parameters from sklearn {}\".format(w_mle_sklearn))\n",
        "print(\"parameters from torch-bfgs {}\".format(w_torch_bfgs))"
      ],
      "execution_count": 17,
      "outputs": [
        {
          "output_type": "stream",
          "text": [
            "parameters from sklearn [-4.414 -9.111  6.539 12.686]\n",
            "parameters from torch-bfgs [-4.415 -9.114  6.54  12.691]\n"
          ],
          "name": "stdout"
        }
      ]
    }
  ]
}