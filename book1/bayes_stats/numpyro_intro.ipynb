{
  "nbformat": 4,
  "nbformat_minor": 0,
  "metadata": {
    "colab": {
      "name": "numpyro_intro.ipynb",
      "provenance": [],
      "toc_visible": true,
      "include_colab_link": true
    },
    "kernelspec": {
      "name": "python3",
      "display_name": "Python 3"
    },
    "accelerator": "GPU"
  },
  "cells": [
    {
      "cell_type": "markdown",
      "metadata": {
        "id": "view-in-github",
        "colab_type": "text"
      },
      "source": [
        "<a href=\"https://colab.research.google.com/github/probml/pyprobml/blob/master/book1/bayes_stats/numpyro_intro.ipynb\" target=\"_parent\"><img src=\"https://colab.research.google.com/assets/colab-badge.svg\" alt=\"Open In Colab\"/></a>"
      ]
    },
    {
      "cell_type": "markdown",
      "metadata": {
        "id": "11FOMaCs74vK"
      },
      "source": [
        "[NumPyro](https://github.com/pyro-ppl/numpyro) is probabilistic programming language built on top of JAX. It is very similar to [Pyro](https://pyro.ai/), which is built on top of PyTorch, but [tends to be faster](https://stackoverflow.com/questions/61846620/numpyro-vs-pyro-why-is-former-100x-faster-and-when-should-i-use-the-latter). (Both Pyro flavors are usually also [faster than PyMc3](https://www.kaggle.com/s903124/numpyro-speed-benchmark).)\n",
        "\n",
        "This colab gives a brief introduction (WIP)."
      ]
    },
    {
      "cell_type": "markdown",
      "metadata": {
        "id": "1FfhOPQUHEdS"
      },
      "source": [
        "# Installation"
      ]
    },
    {
      "cell_type": "code",
      "metadata": {
        "id": "Z5wEIBws1D6i"
      },
      "source": [
        "# Standard Python libraries\n",
        "from __future__ import absolute_import, division, print_function, unicode_literals\n",
        "\n",
        "import os\n",
        "import time\n",
        "#import numpy as np\n",
        "#np.set_printoptions(precision=3)\n",
        "import glob\n",
        "import matplotlib.pyplot as plt\n",
        "import PIL\n",
        "import imageio\n",
        "\n",
        "from IPython import display\n",
        "%matplotlib inline\n",
        "\n",
        "import sklearn\n",
        "\n",
        "import seaborn as sns;\n",
        "sns.set(style=\"ticks\", color_codes=True)\n",
        "\n",
        "import pandas as pd\n",
        "pd.set_option('precision', 2) # 2 decimal places\n",
        "pd.set_option('display.max_rows', 20)\n",
        "pd.set_option('display.max_columns', 30)\n",
        "pd.set_option('display.width', 100) # wide windows"
      ],
      "execution_count": null,
      "outputs": []
    },
    {
      "cell_type": "code",
      "metadata": {
        "colab": {
          "base_uri": "https://localhost:8080/"
        },
        "id": "pYkJaAztt8mx",
        "outputId": "08728d3a-6752-4e33-9ca0-ceff3a215060"
      },
      "source": [
        "import jax\n",
        "import jax.numpy as np\n",
        "import numpy as onp # original numpy\n",
        "\n",
        "print(\"jax version {}\".format(jax.__version__))\n",
        "print(\"jax backend {}\".format(jax.lib.xla_bridge.get_backend().platform))"
      ],
      "execution_count": null,
      "outputs": [
        {
          "output_type": "stream",
          "text": [
            "jax version 0.2.7\n",
            "jax backend gpu\n"
          ],
          "name": "stdout"
        }
      ]
    },
    {
      "cell_type": "code",
      "metadata": {
        "id": "aZhiXZN2uGhL",
        "colab": {
          "base_uri": "https://localhost:8080/",
          "height": 575
        },
        "outputId": "e47f95c3-9d3d-4c31-cfa5-d8c9b68b0dc0"
      },
      "source": [
        "# https://github.com/pyro-ppl/numpyro\n",
        "!pip install numpyro\n",
        "\n",
        "# It seems that numpyro installs jaxlib for CPU\n",
        "#https://github.com/pyro-ppl/numpyro/issues/531"
      ],
      "execution_count": null,
      "outputs": [
        {
          "output_type": "stream",
          "text": [
            "Collecting numpyro\n",
            "\u001b[?25l  Downloading https://files.pythonhosted.org/packages/35/f1/7bada66676245f9e085b870b1051ba183b377af287002e10a2e1bea1b498/numpyro-0.4.1-py3-none-any.whl (176kB)\n",
            "\u001b[K     |████████████████████████████████| 184kB 8.6MB/s \n",
            "\u001b[?25hRequirement already satisfied: tqdm in /usr/local/lib/python3.6/dist-packages (from numpyro) (4.41.1)\n",
            "Collecting jax==0.2.3\n",
            "\u001b[?25l  Downloading https://files.pythonhosted.org/packages/d7/b2/738298445cb0d9445e84f58f1fdaf73aa7b1d4199e6360620461d6fe3a8b/jax-0.2.3.tar.gz (473kB)\n",
            "\u001b[K     |████████████████████████████████| 481kB 12.4MB/s \n",
            "\u001b[?25hCollecting jaxlib==0.1.56\n",
            "\u001b[?25l  Downloading https://files.pythonhosted.org/packages/aa/44/16d06ee6418ae1b020b0722f7b7465baa08031a85728392e5413dd4e3e04/jaxlib-0.1.56-cp36-none-manylinux2010_x86_64.whl (32.1MB)\n",
            "\u001b[K     |████████████████████████████████| 32.1MB 111kB/s \n",
            "\u001b[?25hRequirement already satisfied: numpy>=1.12 in /usr/local/lib/python3.6/dist-packages (from jax==0.2.3->numpyro) (1.19.4)\n",
            "Requirement already satisfied: absl-py in /usr/local/lib/python3.6/dist-packages (from jax==0.2.3->numpyro) (0.10.0)\n",
            "Requirement already satisfied: opt_einsum in /usr/local/lib/python3.6/dist-packages (from jax==0.2.3->numpyro) (3.3.0)\n",
            "Requirement already satisfied: scipy in /usr/local/lib/python3.6/dist-packages (from jaxlib==0.1.56->numpyro) (1.4.1)\n",
            "Requirement already satisfied: six in /usr/local/lib/python3.6/dist-packages (from absl-py->jax==0.2.3->numpyro) (1.15.0)\n",
            "Building wheels for collected packages: jax\n",
            "  Building wheel for jax (setup.py) ... \u001b[?25l\u001b[?25hdone\n",
            "  Created wheel for jax: filename=jax-0.2.3-cp36-none-any.whl size=542178 sha256=f258c0d1f96711cc0b308e64517b4d916ae57c44003c7a217fc8b6cf71fdccd8\n",
            "  Stored in directory: /root/.cache/pip/wheels/12/30/5d/24b5503a9bbf06bdd0d57bd20a87ef56125581b862731e4a2d\n",
            "Successfully built jax\n",
            "Installing collected packages: jax, jaxlib, numpyro\n",
            "  Found existing installation: jax 0.2.7\n",
            "    Uninstalling jax-0.2.7:\n",
            "      Successfully uninstalled jax-0.2.7\n",
            "  Found existing installation: jaxlib 0.1.57+cuda101\n",
            "    Uninstalling jaxlib-0.1.57+cuda101:\n",
            "      Successfully uninstalled jaxlib-0.1.57+cuda101\n",
            "Successfully installed jax-0.2.3 jaxlib-0.1.56 numpyro-0.4.1\n"
          ],
          "name": "stdout"
        },
        {
          "output_type": "display_data",
          "data": {
            "application/vnd.colab-display-data+json": {
              "pip_warning": {
                "packages": [
                  "jax",
                  "jaxlib"
                ]
              }
            }
          },
          "metadata": {
            "tags": []
          }
        }
      ]
    },
    {
      "cell_type": "code",
      "metadata": {
        "id": "g0HEaUkwsS5c",
        "colab": {
          "base_uri": "https://localhost:8080/"
        },
        "outputId": "fffaf103-b1d2-4595-dd1c-cfcc32e4cebd"
      },
      "source": [
        "import jax\n",
        "import jax.numpy as np\n",
        "import numpy as onp # original numpy\n",
        "from jax import random\n",
        "\n",
        "print(\"jax version {}\".format(jax.__version__))\n",
        "print(\"jax backend {}\".format(jax.lib.xla_bridge.get_backend().platform))"
      ],
      "execution_count": null,
      "outputs": [
        {
          "output_type": "stream",
          "text": [
            "jax version 0.2.7\n",
            "jax backend gpu\n"
          ],
          "name": "stdout"
        }
      ]
    },
    {
      "cell_type": "markdown",
      "metadata": {
        "id": "V_j08oUgHMC8"
      },
      "source": [
        "# Distributions"
      ]
    },
    {
      "cell_type": "code",
      "metadata": {
        "id": "lfOH0V2Knz_p"
      },
      "source": [
        "import numpyro\n",
        "import numpyro.distributions as dist\n",
        "from numpyro.diagnostics import hpdi\n",
        "from numpyro.distributions.transforms import AffineTransform\n",
        "from numpyro.infer import MCMC, NUTS, Predictive\n",
        "\n",
        "rng_key = random.PRNGKey(0)\n",
        "rng_key, rng_key_ = random.split(rng_key)"
      ],
      "execution_count": null,
      "outputs": []
    },
    {
      "cell_type": "markdown",
      "metadata": {
        "id": "2cu50EWRHmeL"
      },
      "source": [
        "## 1d Gaussian"
      ]
    },
    {
      "cell_type": "code",
      "metadata": {
        "id": "Wv6tBbo-BQBm",
        "colab": {
          "base_uri": "https://localhost:8080/"
        },
        "outputId": "1640386f-0e68-48e7-981e-c517ac85b7eb"
      },
      "source": [
        "# 2 independent 1d gaussians (ie 1 diagonal Gaussian)\n",
        "mu = 1.5\n",
        "sigma = 2\n",
        "d = dist.Normal(mu, sigma)\n",
        "dir(d)"
      ],
      "execution_count": null,
      "outputs": [
        {
          "output_type": "execute_result",
          "data": {
            "text/plain": [
              "['__call__',\n",
              " '__class__',\n",
              " '__delattr__',\n",
              " '__dict__',\n",
              " '__dir__',\n",
              " '__doc__',\n",
              " '__eq__',\n",
              " '__format__',\n",
              " '__ge__',\n",
              " '__getattribute__',\n",
              " '__gt__',\n",
              " '__hash__',\n",
              " '__init__',\n",
              " '__init_subclass__',\n",
              " '__le__',\n",
              " '__lt__',\n",
              " '__module__',\n",
              " '__ne__',\n",
              " '__new__',\n",
              " '__reduce__',\n",
              " '__reduce_ex__',\n",
              " '__repr__',\n",
              " '__setattr__',\n",
              " '__sizeof__',\n",
              " '__str__',\n",
              " '__subclasshook__',\n",
              " '__weakref__',\n",
              " '_batch_shape',\n",
              " '_event_shape',\n",
              " '_validate_args',\n",
              " '_validate_sample',\n",
              " 'arg_constraints',\n",
              " 'batch_shape',\n",
              " 'enumerate_support',\n",
              " 'event_dim',\n",
              " 'event_shape',\n",
              " 'expand',\n",
              " 'expand_by',\n",
              " 'has_enumerate_support',\n",
              " 'icdf',\n",
              " 'is_discrete',\n",
              " 'loc',\n",
              " 'log_prob',\n",
              " 'mask',\n",
              " 'mean',\n",
              " 'reparametrized_params',\n",
              " 'sample',\n",
              " 'sample_with_intermediates',\n",
              " 'scale',\n",
              " 'set_default_validate_args',\n",
              " 'shape',\n",
              " 'support',\n",
              " 'to_event',\n",
              " 'tree_flatten',\n",
              " 'tree_unflatten',\n",
              " 'variance']"
            ]
          },
          "metadata": {
            "tags": []
          },
          "execution_count": 8
        }
      ]
    },
    {
      "cell_type": "code",
      "metadata": {
        "id": "viQgRPMWFH-7",
        "colab": {
          "base_uri": "https://localhost:8080/"
        },
        "outputId": "8d20e45f-caa2-47ef-8a21-156b95fc61ef"
      },
      "source": [
        "rng_key, rng_key_ = random.split(rng_key)\n",
        "nsamples = 1000\n",
        "ys = d.sample(rng_key_, (nsamples,))\n",
        "print(ys.shape)\n",
        "mu_hat = np.mean(ys,0)\n",
        "print(mu_hat)\n",
        "sigma_hat = np.std(ys, 0)\n",
        "print(sigma_hat)"
      ],
      "execution_count": null,
      "outputs": [
        {
          "output_type": "stream",
          "text": [
            "(1000,)\n",
            "1.5070927\n",
            "2.0493808\n"
          ],
          "name": "stdout"
        }
      ]
    },
    {
      "cell_type": "markdown",
      "metadata": {
        "id": "Iir5QxsEHvie"
      },
      "source": [
        "## Multivariate Gaussian\n",
        "\n"
      ]
    },
    {
      "cell_type": "code",
      "metadata": {
        "id": "h6MKLVypCGZY"
      },
      "source": [
        "mu = np.array([-1, 1])\n",
        "sigma = np.array([1, 2])\n",
        "Sigma = np.diag(sigma)\n",
        "d2 = dist.MultivariateNormal(mu, Sigma)"
      ],
      "execution_count": null,
      "outputs": []
    },
    {
      "cell_type": "code",
      "metadata": {
        "id": "d7JQGBXi_7el",
        "colab": {
          "base_uri": "https://localhost:8080/"
        },
        "outputId": "fc953eac-f04e-4071-c2b1-162266220dc5"
      },
      "source": [
        "#rng_key, rng_key_ = random.split(rng_key)\n",
        "nsamples = 1000\n",
        "ys = d2.sample(rng_key_, (nsamples,))\n",
        "print(ys.shape)\n",
        "mu_hat = np.mean(ys,0)\n",
        "print(mu_hat)\n",
        "Sigma_hat = np.cov(ys, rowvar=False) #jax.np.cov not implemented\n",
        "print(Sigma_hat)"
      ],
      "execution_count": null,
      "outputs": [
        {
          "output_type": "stream",
          "text": [
            "(1000, 2)\n",
            "[-1.0127413  1.0091063]\n",
            "[[ 0.9770031  -0.00533966]\n",
            " [-0.00533966  1.9718108 ]]\n"
          ],
          "name": "stdout"
        }
      ]
    },
    {
      "cell_type": "markdown",
      "metadata": {
        "id": "UPyDu5DgIT76"
      },
      "source": [
        "## Shape semantics\n",
        "\n",
        "Numpyro, [Pyro](https://pyro.ai/examples/tensor_shapes.html) and [TFP](https://www.tensorflow.org/probability/examples/Understanding_TensorFlow_Distributions_Shapes) all distinguish between 'event shape' and 'batch shape'.\n",
        "For a D-dimensional Gaussian, the event shape is (D,), and the batch shape\n",
        "will be (), meaning we have a single instance of this distribution.\n",
        "If the covariance is diagonal, we can view this as D independent\n",
        "1d Gaussians, stored along the batch dimension; this will have event shape () but batch shape (2,). \n",
        "\n",
        "When we sample from a distribution, we also specify the sample_shape.\n",
        "Suppose we draw N samples  from a single D-dim diagonal Gaussian,\n",
        "and N samples from D 1d Gaussians. These samples will have the same shape.\n",
        "However, the semantics of logprob differs.\n",
        "We illustrate this below.\n"
      ]
    },
    {
      "cell_type": "code",
      "metadata": {
        "id": "PUYN9T1GIbBb",
        "colab": {
          "base_uri": "https://localhost:8080/"
        },
        "outputId": "b1b26679-7f81-4d0d-9915-7df8ed169b2f"
      },
      "source": [
        "d2 = dist.MultivariateNormal(mu, Sigma)\n",
        "print(f'event shape {d2.event_shape}, batch shape {d2.batch_shape}') \n",
        "nsamples = 3\n",
        "ys2 = d2.sample(rng_key_, (nsamples,))\n",
        "print('samples, shape {}'.format(ys2.shape))\n",
        "print(ys2)\n",
        "\n",
        "# 2 independent 1d gaussians (same as one 2d diagonal Gaussian)\n",
        "d3 = dist.Normal(mu, np.diag(Sigma))\n",
        "print(f'event shape {d3.event_shape}, batch shape {d3.batch_shape}') \n",
        "ys3 = d3.sample(rng_key_, (nsamples,))\n",
        "print('samples, shape {}'.format(ys3.shape))\n",
        "print(ys3)\n",
        "\n",
        "print(np.allclose(ys2, ys3))"
      ],
      "execution_count": null,
      "outputs": [
        {
          "output_type": "stream",
          "text": [
            "event shape (2,), batch shape ()\n",
            "samples, shape (3, 2)\n",
            "[[-0.06819373  0.9942934 ]\n",
            " [-1.740325   -1.0183868 ]\n",
            " [ 0.05969942  2.314332  ]]\n",
            "event shape (), batch shape (2,)\n",
            "samples, shape (3, 2)\n",
            "[[-0.06819373  0.99192965]\n",
            " [-1.740325   -1.85443   ]\n",
            " [ 0.05969942  2.8587465 ]]\n",
            "False\n"
          ],
          "name": "stdout"
        }
      ]
    },
    {
      "cell_type": "code",
      "metadata": {
        "id": "kABLe1ypJob8",
        "colab": {
          "base_uri": "https://localhost:8080/"
        },
        "outputId": "858da445-12d1-41df-e9d4-b6eb693e7706"
      },
      "source": [
        "y = ys2[0,:] # 2 numbers\n",
        "print(d2.log_prob(y)) # log prob of a single 2d distribution on 2d input \n",
        "print(d3.log_prob(y)) # log prob of two 1d distributions on 2d input\n"
      ],
      "execution_count": null,
      "outputs": [
        {
          "output_type": "stream",
          "text": [
            "-2.6185904\n",
            "[-1.35307   -1.6120898]\n"
          ],
          "name": "stdout"
        }
      ]
    },
    {
      "cell_type": "markdown",
      "metadata": {
        "id": "nsB0vIjYLa_6"
      },
      "source": [
        "We can turn a set of independent distributions into a single product\n",
        "distribution using the [Independent class](http://num.pyro.ai/en/stable/distributions.html#independent)\n"
      ]
    },
    {
      "cell_type": "code",
      "metadata": {
        "id": "MXsP_SonLOpl",
        "colab": {
          "base_uri": "https://localhost:8080/"
        },
        "outputId": "3956e5e8-6f28-4221-dc43-51bff9112bef"
      },
      "source": [
        "d4 = dist.Independent(d3, 1) # treat the first batch dimension as an event dimensions\n",
        "print(d4.event_shape)\n",
        "print(d4.batch_shape)\n",
        "print(d4.log_prob(y))"
      ],
      "execution_count": null,
      "outputs": [
        {
          "output_type": "stream",
          "text": [
            "(2,)\n",
            "()\n",
            "-2.96516\n"
          ],
          "name": "stdout"
        }
      ]
    },
    {
      "cell_type": "markdown",
      "metadata": {
        "id": "JVBjePpKIO0f"
      },
      "source": [
        "# Posterior inference with MCMC\n"
      ]
    },
    {
      "cell_type": "markdown",
      "metadata": {
        "id": "CSxk_HEeOOMn"
      },
      "source": [
        "## Example: 1d Gaussian with unknown mean.\n",
        "\n",
        "We use the simple example from the [Pyro intro](https://pyro.ai/examples/intro_part_ii.html#A-Simple-Example). The goal is to infer the weight $\\theta$ of an object, given noisy measurements $y$. We assume the following model:\n",
        "$$\n",
        "\\begin{align}\n",
        "\\theta &\\sim N(\\mu=8.5, \\tau^2=1.0)\\\\ \n",
        "y \\sim &N(\\theta, \\sigma^2=0.75^2)\n",
        "\\end{align}\n",
        "$$\n",
        "\n",
        "Where $\\mu=8.5$ is the initial guess. \n",
        "\n",
        "By Bayes rule for Gaussians, we know that the exact posterior,\n",
        "given a single observation $y=9.5$, is given by\n",
        "\n",
        "\n",
        "$$\n",
        "\\begin{align}\n",
        "\\theta|y &\\sim N(m, s^s) \\\\\n",
        "m &=\\frac{\\sigma^2 \\mu + \\tau^2 y}{\\sigma^2 + \\tau^2} \n",
        "  = \\frac{0.75^2 \\times 8.5 + 1 \\times 9.5}{0.75^2 + 1^2}\n",
        "  = 9.14 \\\\\n",
        "s^2 &= \\frac{\\sigma^2 \\tau^2}{\\sigma^2  + \\tau^2} \n",
        "= \\frac{0.75^2 \\times 1^2}{0.75^2 + 1^2}= 0.6^2\n",
        "\\end{align}\n",
        "$$"
      ]
    },
    {
      "cell_type": "code",
      "metadata": {
        "id": "HwHoLkHhaTTe",
        "colab": {
          "base_uri": "https://localhost:8080/"
        },
        "outputId": "e154780c-9ce3-4dd0-bf58-2249540488ad"
      },
      "source": [
        "mu = 8.5; tau = 1.0; sigma = 0.75; y = 9.5\n",
        "m = (sigma**2 * mu + tau**2 * y)/(sigma**2 + tau**2)\n",
        "s2 = (sigma**2 * tau**2)/(sigma**2 + tau**2)\n",
        "s = np.sqrt(s2)\n",
        "print(m)\n",
        "print(s)"
      ],
      "execution_count": null,
      "outputs": [
        {
          "output_type": "stream",
          "text": [
            "9.14\n",
            "0.6\n"
          ],
          "name": "stdout"
        }
      ]
    },
    {
      "cell_type": "code",
      "metadata": {
        "id": "pZasEbTfONnv"
      },
      "source": [
        "def model(prior_mean, prior_sd, obs_sd, measurement=None):\n",
        "    theta = numpyro.sample(\"theta\", dist.Normal(prior_mean, prior_sd))\n",
        "    return numpyro.sample(\"y\", dist.Normal(theta, obs_sd), obs=measurement)\n"
      ],
      "execution_count": null,
      "outputs": []
    },
    {
      "cell_type": "code",
      "metadata": {
        "id": "Te6wYISV0uqZ",
        "colab": {
          "base_uri": "https://localhost:8080/"
        },
        "outputId": "5a0c3193-fd80-4d42-9800-625c70b7c372"
      },
      "source": [
        "nuts_kernel = NUTS(model)\n",
        "mcmc = MCMC(nuts_kernel, num_warmup=100, num_samples=1000)\n",
        "mcmc.run(rng_key_, mu, tau, sigma, y)\n",
        "\n",
        "mcmc.print_summary()\n",
        "samples  = mcmc.get_samples()\n",
        " \n"
      ],
      "execution_count": null,
      "outputs": [
        {
          "output_type": "stream",
          "text": [
            "sample: 100%|██████████| 1100/1100 [00:03<00:00, 286.64it/s, 3 steps of size 9.41e-01. acc. prob=0.91]\n"
          ],
          "name": "stderr"
        },
        {
          "output_type": "stream",
          "text": [
            "\n",
            "                mean       std    median      5.0%     95.0%     n_eff     r_hat\n",
            "     theta      9.17      0.60      9.13      8.27     10.15    365.16      1.00\n",
            "\n",
            "Number of divergences: 0\n"
          ],
          "name": "stdout"
        }
      ]
    },
    {
      "cell_type": "code",
      "metadata": {
        "id": "yLIjAF887o_5"
      },
      "source": [
        ""
      ],
      "execution_count": null,
      "outputs": []
    }
  ]
}