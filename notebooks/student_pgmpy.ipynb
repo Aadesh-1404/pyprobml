{
  "nbformat": 4,
  "nbformat_minor": 0,
  "metadata": {
    "colab": {
      "name": "student_pgmpy.ipynb",
      "provenance": [],
      "toc_visible": true,
      "authorship_tag": "ABX9TyOWl1BzReD5Ytqpoy/cY3HC",
      "include_colab_link": true
    },
    "kernelspec": {
      "name": "python3",
      "display_name": "Python 3"
    },
    "language_info": {
      "name": "python"
    }
  },
  "cells": [
    {
      "cell_type": "markdown",
      "metadata": {
        "id": "view-in-github",
        "colab_type": "text"
      },
      "source": [
        "<a href=\"https://colab.research.google.com/github/probml/pyprobml/blob/master/notebooks/student_pgmpy.ipynb\" target=\"_parent\"><img src=\"https://colab.research.google.com/assets/colab-badge.svg\" alt=\"Open In Colab\"/></a>"
      ]
    },
    {
      "cell_type": "markdown",
      "metadata": {
        "id": "FtkM9t9gXaVB"
      },
      "source": [
        "# The (simplified) student Bayes net\n",
        "\n",
        "This model is from https://github.com/pgmpy/pgmpy_notebook/blob/master/notebooks/2.%20Bayesian%20Networks.ipynb"
      ]
    },
    {
      "cell_type": "code",
      "metadata": {
        "colab": {
          "base_uri": "https://localhost:8080/"
        },
        "id": "8FEYdsYCXYj5",
        "outputId": "af4bc3c9-1e84-4964-a008-6d8cf8bf8a1b"
      },
      "source": [
        "!pip install  causalgraphicalmodels\n",
        "!pip install pgmpy\n",
        "\n"
      ],
      "execution_count": 1,
      "outputs": [
        {
          "output_type": "stream",
          "text": [
            "Collecting causalgraphicalmodels\n",
            "  Downloading https://files.pythonhosted.org/packages/c8/ee/3b2d184576f3cb4873cebfc696e8e5c1e53eaef691f38aea76c206f9f916/causalgraphicalmodels-0.0.4-py3-none-any.whl\n",
            "Requirement already satisfied: pandas in /usr/local/lib/python3.7/dist-packages (from causalgraphicalmodels) (1.1.5)\n",
            "Requirement already satisfied: networkx in /usr/local/lib/python3.7/dist-packages (from causalgraphicalmodels) (2.5.1)\n",
            "Requirement already satisfied: graphviz in /usr/local/lib/python3.7/dist-packages (from causalgraphicalmodels) (0.10.1)\n",
            "Requirement already satisfied: numpy in /usr/local/lib/python3.7/dist-packages (from causalgraphicalmodels) (1.19.5)\n",
            "Requirement already satisfied: python-dateutil>=2.7.3 in /usr/local/lib/python3.7/dist-packages (from pandas->causalgraphicalmodels) (2.8.1)\n",
            "Requirement already satisfied: pytz>=2017.2 in /usr/local/lib/python3.7/dist-packages (from pandas->causalgraphicalmodels) (2018.9)\n",
            "Requirement already satisfied: decorator<5,>=4.3 in /usr/local/lib/python3.7/dist-packages (from networkx->causalgraphicalmodels) (4.4.2)\n",
            "Requirement already satisfied: six>=1.5 in /usr/local/lib/python3.7/dist-packages (from python-dateutil>=2.7.3->pandas->causalgraphicalmodels) (1.15.0)\n",
            "Installing collected packages: causalgraphicalmodels\n",
            "Successfully installed causalgraphicalmodels-0.0.4\n",
            "Collecting pgmpy\n",
            "\u001b[?25l  Downloading https://files.pythonhosted.org/packages/a3/0e/d9fadbfaa35e010c04d43acd3ae9fbefec98897dd7d61a6b7eb5a8b34072/pgmpy-0.1.14-py3-none-any.whl (331kB)\n",
            "\u001b[K     |████████████████████████████████| 337kB 3.9MB/s \n",
            "\u001b[?25hRequirement already satisfied: statsmodels in /usr/local/lib/python3.7/dist-packages (from pgmpy) (0.10.2)\n",
            "Requirement already satisfied: torch in /usr/local/lib/python3.7/dist-packages (from pgmpy) (1.8.1+cu101)\n",
            "Requirement already satisfied: numpy in /usr/local/lib/python3.7/dist-packages (from pgmpy) (1.19.5)\n",
            "Requirement already satisfied: pyparsing in /usr/local/lib/python3.7/dist-packages (from pgmpy) (2.4.7)\n",
            "Requirement already satisfied: pandas in /usr/local/lib/python3.7/dist-packages (from pgmpy) (1.1.5)\n",
            "Requirement already satisfied: tqdm in /usr/local/lib/python3.7/dist-packages (from pgmpy) (4.41.1)\n",
            "Requirement already satisfied: scikit-learn in /usr/local/lib/python3.7/dist-packages (from pgmpy) (0.22.2.post1)\n",
            "Requirement already satisfied: networkx in /usr/local/lib/python3.7/dist-packages (from pgmpy) (2.5.1)\n",
            "Requirement already satisfied: joblib in /usr/local/lib/python3.7/dist-packages (from pgmpy) (1.0.1)\n",
            "Requirement already satisfied: scipy in /usr/local/lib/python3.7/dist-packages (from pgmpy) (1.4.1)\n",
            "Requirement already satisfied: patsy>=0.4.0 in /usr/local/lib/python3.7/dist-packages (from statsmodels->pgmpy) (0.5.1)\n",
            "Requirement already satisfied: typing-extensions in /usr/local/lib/python3.7/dist-packages (from torch->pgmpy) (3.7.4.3)\n",
            "Requirement already satisfied: python-dateutil>=2.7.3 in /usr/local/lib/python3.7/dist-packages (from pandas->pgmpy) (2.8.1)\n",
            "Requirement already satisfied: pytz>=2017.2 in /usr/local/lib/python3.7/dist-packages (from pandas->pgmpy) (2018.9)\n",
            "Requirement already satisfied: decorator<5,>=4.3 in /usr/local/lib/python3.7/dist-packages (from networkx->pgmpy) (4.4.2)\n",
            "Requirement already satisfied: six in /usr/local/lib/python3.7/dist-packages (from patsy>=0.4.0->statsmodels->pgmpy) (1.15.0)\n",
            "Installing collected packages: pgmpy\n",
            "Successfully installed pgmpy-0.1.14\n"
          ],
          "name": "stdout"
        }
      ]
    },
    {
      "cell_type": "code",
      "metadata": {
        "id": "piOvstm5YQWx"
      },
      "source": [
        "from causalgraphicalmodels import CausalGraphicalModel\n",
        "import pgmpy\n",
        "import numpy as np\n",
        "import pandas as pd"
      ],
      "execution_count": 2,
      "outputs": []
    },
    {
      "cell_type": "markdown",
      "metadata": {
        "id": "uF_UjCP-Xi9-"
      },
      "source": [
        "# Model"
      ]
    },
    {
      "cell_type": "markdown",
      "metadata": {
        "id": "7A8L5MSGcuPC"
      },
      "source": [
        "\n",
        "\n",
        "<img src=\"https://user-images.githubusercontent.com/4632336/118884310-21bec180-b8ab-11eb-81cf-481553c21d8a.png?raw=true\">\n"
      ]
    },
    {
      "cell_type": "code",
      "metadata": {
        "id": "Yt2Dql3yXcgC"
      },
      "source": [
        "from pgmpy.models import BayesianModel\n",
        "from pgmpy.factors.discrete import TabularCPD\n",
        "\n",
        "# Defining the model structure. We can define the network by just passing a list of edges.\n",
        "model = BayesianModel([('D', 'G'), ('I', 'G'), ('G', 'L'), ('I', 'S')])\n",
        "\n"
      ],
      "execution_count": 4,
      "outputs": []
    },
    {
      "cell_type": "markdown",
      "metadata": {
        "id": "KHlBciCF8EUp"
      },
      "source": [
        "## Basic CPDs"
      ]
    },
    {
      "cell_type": "code",
      "metadata": {
        "id": "UXxKULXg8Ixx",
        "outputId": "0811a937-ac43-42e2-f557-fcfb62e16dfc",
        "colab": {
          "base_uri": "https://localhost:8080/"
        }
      },
      "source": [
        "# Defining individual CPDs.\n",
        "cpd_d = TabularCPD(variable='D', variable_card=2, values=[[0.6], [0.4]])\n",
        "cpd_i = TabularCPD(variable='I', variable_card=2, values=[[0.7], [0.3]])\n",
        "\n",
        "# The representation of CPD in pgmpy is a bit different than the CPD shown in the above picture. In pgmpy the colums\n",
        "# are the evidences and rows are the states of the variable. So the grade CPD is represented like this:\n",
        "#\n",
        "#    +---------+---------+---------+---------+---------+\n",
        "#    | diff    | intel_0 | intel_0 | intel_1 | intel_1 |\n",
        "#    +---------+---------+---------+---------+---------+\n",
        "#    | intel   | diff_0  | diff_1  | diff_0  | diff_1  |\n",
        "#    +---------+---------+---------+---------+---------+\n",
        "#    | grade_0 | 0.3     | 0.05    | 0.9     | 0.5     |\n",
        "#    +---------+---------+---------+---------+---------+\n",
        "#    | grade_1 | 0.4     | 0.25    | 0.08    | 0.3     |\n",
        "#    +---------+---------+---------+---------+---------+\n",
        "#    | grade_2 | 0.3     | 0.7     | 0.02    | 0.2     |\n",
        "#    +---------+---------+---------+---------+---------+\n",
        "\n",
        "cpd_g = TabularCPD(variable='G', variable_card=3, \n",
        "                   values=[[0.3, 0.05, 0.9,  0.5],\n",
        "                           [0.4, 0.25, 0.08, 0.3],\n",
        "                           [0.3, 0.7,  0.02, 0.2]],\n",
        "                  evidence=['I', 'D'],\n",
        "                  evidence_card=[2, 2])\n",
        "\n",
        "cpd_l = TabularCPD(variable='L', variable_card=2, \n",
        "                   values=[[0.1, 0.4, 0.99],\n",
        "                           [0.9, 0.6, 0.01]],\n",
        "                   evidence=['G'],\n",
        "                   evidence_card=[3])\n",
        "\n",
        "cpd_s = TabularCPD(variable='S', variable_card=2,\n",
        "                   values=[[0.95, 0.2],\n",
        "                           [0.05, 0.8]],\n",
        "                   evidence=['I'],\n",
        "                   evidence_card=[2])\n",
        "\n",
        "# Associating the CPDs with the network\n",
        "model.add_cpds(cpd_d, cpd_i, cpd_g, cpd_l, cpd_s)\n",
        "\n",
        "# check_model checks for the network structure and CPDs and verifies that the CPDs are correctly \n",
        "# defined and sum to 1.\n",
        "model.check_model()"
      ],
      "execution_count": 5,
      "outputs": [
        {
          "output_type": "execute_result",
          "data": {
            "text/plain": [
              "True"
            ]
          },
          "metadata": {
            "tags": []
          },
          "execution_count": 5
        }
      ]
    },
    {
      "cell_type": "code",
      "metadata": {
        "id": "XU_P8PWX76bh",
        "outputId": "df3a4dcf-ea70-4733-91e0-c32f3405d736",
        "colab": {
          "base_uri": "https://localhost:8080/"
        }
      },
      "source": [
        "print(model.get_cpds('G'))"
      ],
      "execution_count": 6,
      "outputs": [
        {
          "output_type": "stream",
          "text": [
            "+------+------+------+------+------+\n",
            "| I    | I(0) | I(0) | I(1) | I(1) |\n",
            "+------+------+------+------+------+\n",
            "| D    | D(0) | D(1) | D(0) | D(1) |\n",
            "+------+------+------+------+------+\n",
            "| G(0) | 0.3  | 0.05 | 0.9  | 0.5  |\n",
            "+------+------+------+------+------+\n",
            "| G(1) | 0.4  | 0.25 | 0.08 | 0.3  |\n",
            "+------+------+------+------+------+\n",
            "| G(2) | 0.3  | 0.7  | 0.02 | 0.2  |\n",
            "+------+------+------+------+------+\n"
          ],
          "name": "stdout"
        }
      ]
    },
    {
      "cell_type": "markdown",
      "metadata": {
        "id": "1kCNIT4b8Jts"
      },
      "source": [
        "## CPDs with names states"
      ]
    },
    {
      "cell_type": "code",
      "metadata": {
        "colab": {
          "base_uri": "https://localhost:8080/"
        },
        "id": "8c14_W6CX883",
        "outputId": "ae3b75c6-de28-4e09-cdce-7feb6f876a63"
      },
      "source": [
        "# CPDs can also be defined using the state names of the variables. If the state names are not provided\n",
        "# like in the previous example, pgmpy will automatically assign names as: 0, 1, 2, ....\n",
        "\n",
        "cpd_d_sn = TabularCPD(variable='D', variable_card=2, values=[[0.6], [0.4]], state_names={'D': ['Easy', 'Hard']})\n",
        "cpd_i_sn = TabularCPD(variable='I', variable_card=2, values=[[0.7], [0.3]], state_names={'I': ['Dumb', 'Intelligent']})\n",
        "cpd_g_sn = TabularCPD(variable='G', variable_card=3, \n",
        "                      values=[[0.3, 0.05, 0.9,  0.5],\n",
        "                              [0.4, 0.25, 0.08, 0.3],\n",
        "                              [0.3, 0.7,  0.02, 0.2]],\n",
        "                      evidence=['I', 'D'],\n",
        "                      evidence_card=[2, 2],\n",
        "                      state_names={'G': ['A', 'B', 'C'],\n",
        "                                   'I': ['Dumb', 'Intelligent'],\n",
        "                                   'D': ['Easy', 'Hard']})\n",
        "\n",
        "cpd_l_sn = TabularCPD(variable='L', variable_card=2, \n",
        "                      values=[[0.1, 0.4, 0.99],\n",
        "                              [0.9, 0.6, 0.01]],\n",
        "                      evidence=['G'],\n",
        "                      evidence_card=[3],\n",
        "                      state_names={'L': ['Bad', 'Good'],\n",
        "                                   'G': ['A', 'B', 'C']})\n",
        "\n",
        "cpd_s_sn = TabularCPD(variable='S', variable_card=2,\n",
        "                      values=[[0.95, 0.2],\n",
        "                              [0.05, 0.8]],\n",
        "                      evidence=['I'],\n",
        "                      evidence_card=[2],\n",
        "                      state_names={'S': ['Bad', 'Good'],\n",
        "                                   'I': ['Dumb', 'Intelligent']})\n",
        "\n",
        "# These defined CPDs can be added to the model. Since, the model already has CPDs associated to variables, it will\n",
        "# show warning that pmgpy is now replacing those CPDs with the new ones.\n",
        "model.add_cpds(cpd_d_sn, cpd_i_sn, cpd_g_sn, cpd_l_sn, cpd_s_sn)\n",
        "model.check_model()"
      ],
      "execution_count": 9,
      "outputs": [
        {
          "output_type": "stream",
          "text": [
            "WARNING:root:Replacing existing CPD for D\n",
            "WARNING:root:Replacing existing CPD for I\n",
            "WARNING:root:Replacing existing CPD for G\n",
            "WARNING:root:Replacing existing CPD for L\n",
            "WARNING:root:Replacing existing CPD for S\n"
          ],
          "name": "stderr"
        },
        {
          "output_type": "execute_result",
          "data": {
            "text/plain": [
              "True"
            ]
          },
          "metadata": {
            "tags": []
          },
          "execution_count": 9
        }
      ]
    },
    {
      "cell_type": "code",
      "metadata": {
        "colab": {
          "base_uri": "https://localhost:8080/"
        },
        "id": "PzkidOsEX9H6",
        "outputId": "c2d242b5-8b9b-4b87-e900-5ee212809f2f"
      },
      "source": [
        " #Printing a CPD with it's state names defined.\n",
        "print(model.get_cpds('G'))"
      ],
      "execution_count": 10,
      "outputs": [
        {
          "output_type": "stream",
          "text": [
            "+------+---------+---------+----------------+----------------+\n",
            "| I    | I(Dumb) | I(Dumb) | I(Intelligent) | I(Intelligent) |\n",
            "+------+---------+---------+----------------+----------------+\n",
            "| D    | D(Easy) | D(Hard) | D(Easy)        | D(Hard)        |\n",
            "+------+---------+---------+----------------+----------------+\n",
            "| G(A) | 0.3     | 0.05    | 0.9            | 0.5            |\n",
            "+------+---------+---------+----------------+----------------+\n",
            "| G(B) | 0.4     | 0.25    | 0.08           | 0.3            |\n",
            "+------+---------+---------+----------------+----------------+\n",
            "| G(C) | 0.3     | 0.7     | 0.02           | 0.2            |\n",
            "+------+---------+---------+----------------+----------------+\n"
          ],
          "name": "stdout"
        }
      ]
    },
    {
      "cell_type": "code",
      "metadata": {
        "colab": {
          "base_uri": "https://localhost:8080/"
        },
        "id": "6S3T_rFxYCfR",
        "outputId": "b2c1fedd-0e63-410f-9944-1e5061b0cdb8"
      },
      "source": [
        "for cpd in model.get_cpds():\n",
        "  print(cpd)"
      ],
      "execution_count": 11,
      "outputs": [
        {
          "output_type": "stream",
          "text": [
            "+---------+-----+\n",
            "| D(Easy) | 0.6 |\n",
            "+---------+-----+\n",
            "| D(Hard) | 0.4 |\n",
            "+---------+-----+\n",
            "+----------------+-----+\n",
            "| I(Dumb)        | 0.7 |\n",
            "+----------------+-----+\n",
            "| I(Intelligent) | 0.3 |\n",
            "+----------------+-----+\n",
            "+------+---------+---------+----------------+----------------+\n",
            "| I    | I(Dumb) | I(Dumb) | I(Intelligent) | I(Intelligent) |\n",
            "+------+---------+---------+----------------+----------------+\n",
            "| D    | D(Easy) | D(Hard) | D(Easy)        | D(Hard)        |\n",
            "+------+---------+---------+----------------+----------------+\n",
            "| G(A) | 0.3     | 0.05    | 0.9            | 0.5            |\n",
            "+------+---------+---------+----------------+----------------+\n",
            "| G(B) | 0.4     | 0.25    | 0.08           | 0.3            |\n",
            "+------+---------+---------+----------------+----------------+\n",
            "| G(C) | 0.3     | 0.7     | 0.02           | 0.2            |\n",
            "+------+---------+---------+----------------+----------------+\n",
            "+---------+------+------+------+\n",
            "| G       | G(A) | G(B) | G(C) |\n",
            "+---------+------+------+------+\n",
            "| L(Bad)  | 0.1  | 0.4  | 0.99 |\n",
            "+---------+------+------+------+\n",
            "| L(Good) | 0.9  | 0.6  | 0.01 |\n",
            "+---------+------+------+------+\n",
            "+---------+---------+----------------+\n",
            "| I       | I(Dumb) | I(Intelligent) |\n",
            "+---------+---------+----------------+\n",
            "| S(Bad)  | 0.95    | 0.2            |\n",
            "+---------+---------+----------------+\n",
            "| S(Good) | 0.05    | 0.8            |\n",
            "+---------+---------+----------------+\n"
          ],
          "name": "stdout"
        }
      ]
    },
    {
      "cell_type": "markdown",
      "metadata": {
        "id": "mmIYMZVzYuxu"
      },
      "source": [
        "# Inference"
      ]
    },
    {
      "cell_type": "code",
      "metadata": {
        "id": "PrFI130fYMQ0"
      },
      "source": [
        "from pgmpy.inference import VariableElimination\n",
        "infer = VariableElimination(model)\n"
      ],
      "execution_count": 14,
      "outputs": []
    },
    {
      "cell_type": "markdown",
      "metadata": {
        "id": "zxIyjd9eYx2S"
      },
      "source": [
        "## Posterior given Grade=C"
      ]
    },
    {
      "cell_type": "code",
      "metadata": {
        "colab": {
          "base_uri": "https://localhost:8080/"
        },
        "id": "oEEU40_pY4C7",
        "outputId": "e5dc631f-2f23-4b3a-ec65-f1e6d1d448f4"
      },
      "source": [
        "evidence = {'G': 'C'}\n",
        "postD = infer.query(['D'],  evidence=evidence).values\n",
        "postI = infer.query(['I'],  evidence=evidence).values\n",
        "\n",
        "print('\\n')\n",
        "print('Pr(Difficulty=Hard|Grade=C) = {:0.2f}'.format(postD[1]))\n",
        "print('Pr(Intelligent=High|Grade=C) = {:0.2f}'.format(postI[1]))"
      ],
      "execution_count": 15,
      "outputs": [
        {
          "output_type": "stream",
          "text": [
            "Finding Elimination Order: : 100%|██████████| 3/3 [00:00<00:00, 507.87it/s]\n",
            "Eliminating: L: 100%|██████████| 3/3 [00:00<00:00, 210.38it/s]\n",
            "Finding Elimination Order: : 100%|██████████| 3/3 [00:00<00:00, 947.44it/s]\n",
            "Eliminating: D: 100%|██████████| 3/3 [00:00<00:00, 196.28it/s]"
          ],
          "name": "stderr"
        },
        {
          "output_type": "stream",
          "text": [
            "\n",
            "\n",
            "Pr(Difficulty=Hard|Grade=C) = 0.63\n",
            "Pr(Intelligent=High|Grade=C) = 0.08\n"
          ],
          "name": "stdout"
        },
        {
          "output_type": "stream",
          "text": [
            "\n"
          ],
          "name": "stderr"
        }
      ]
    },
    {
      "cell_type": "markdown",
      "metadata": {
        "id": "Z2nLT8lYZ2QC"
      },
      "source": [
        "## Posterior given Grade=C, SAT=Good"
      ]
    },
    {
      "cell_type": "code",
      "metadata": {
        "colab": {
          "base_uri": "https://localhost:8080/"
        },
        "id": "NfKdVsChZwrR",
        "outputId": "c267117b-e82a-43c4-95be-1e509fe9d99e"
      },
      "source": [
        "evidence = {'G': 'C', 'S': 'Good'}\n",
        "postD = infer.query(['D'],  evidence=evidence).values\n",
        "postI = infer.query(['I'],  evidence=evidence).values\n",
        "\n",
        "print('\\n')\n",
        "print('Pr(Difficulty=Hard|Grade=C,SAT=Good) = {:0.2f}'.format(postD[1]))\n",
        "print('Pr(Intelligent=High|Grade=C,SAT=Good) = {:0.2f}'.format(postI[1]))"
      ],
      "execution_count": 16,
      "outputs": [
        {
          "output_type": "stream",
          "text": [
            "Finding Elimination Order: : 100%|██████████| 2/2 [00:00<00:00, 721.91it/s]\n",
            "Eliminating: I: 100%|██████████| 2/2 [00:00<00:00, 414.76it/s]\n",
            "Finding Elimination Order: : 100%|██████████| 2/2 [00:00<00:00, 381.49it/s]\n",
            "Eliminating: D: 100%|██████████| 2/2 [00:00<00:00, 303.25it/s]"
          ],
          "name": "stderr"
        },
        {
          "output_type": "stream",
          "text": [
            "\n",
            "\n",
            "Pr(Difficulty=Hard|Grade=C,SAT=Good) = 0.76\n",
            "Pr(Intelligent=High|Grade=C,SAT=Good) = 0.58\n"
          ],
          "name": "stdout"
        },
        {
          "output_type": "stream",
          "text": [
            "\n"
          ],
          "name": "stderr"
        }
      ]
    },
    {
      "cell_type": "markdown",
      "metadata": {
        "id": "oilat78If28s"
      },
      "source": [
        ""
      ]
    },
    {
      "cell_type": "markdown",
      "metadata": {
        "id": "E5LUO3VSYE5_"
      },
      "source": [
        "# Visualization"
      ]
    },
    {
      "cell_type": "markdown",
      "metadata": {
        "id": "x5jx0FmAf1t7"
      },
      "source": [
        "## DAG"
      ]
    },
    {
      "cell_type": "code",
      "metadata": {
        "colab": {
          "base_uri": "https://localhost:8080/",
          "height": 288
        },
        "id": "MDFzI490YFq9",
        "outputId": "15d534f0-fa90-4c6a-b7de-3ccc7da5cecf"
      },
      "source": [
        "model2 = CausalGraphicalModel(nodes = model.nodes(), edges=model.edges())\n",
        "\n",
        "out = model2.draw()\n",
        "display(out)\n",
        "out.render()"
      ],
      "execution_count": 12,
      "outputs": [
        {
          "output_type": "display_data",
          "data": {
            "text/plain": [
              "<graphviz.dot.Digraph at 0x7f7d79147c50>"
            ],
            "image/svg+xml": "<?xml version=\"1.0\" encoding=\"UTF-8\" standalone=\"no\"?>\n<!DOCTYPE svg PUBLIC \"-//W3C//DTD SVG 1.1//EN\"\n \"http://www.w3.org/Graphics/SVG/1.1/DTD/svg11.dtd\">\n<!-- Generated by graphviz version 2.40.1 (20161225.0304)\n -->\n<!-- Title: %3 Pages: 1 -->\n<svg width=\"134pt\" height=\"188pt\"\n viewBox=\"0.00 0.00 134.00 188.00\" xmlns=\"http://www.w3.org/2000/svg\" xmlns:xlink=\"http://www.w3.org/1999/xlink\">\n<g id=\"graph0\" class=\"graph\" transform=\"scale(1 1) rotate(0) translate(4 184)\">\n<title>%3</title>\n<polygon fill=\"#ffffff\" stroke=\"transparent\" points=\"-4,4 -4,-184 130,-184 130,4 -4,4\"/>\n<!-- G -->\n<g id=\"node1\" class=\"node\">\n<title>G</title>\n<ellipse fill=\"none\" stroke=\"#000000\" cx=\"27\" cy=\"-90\" rx=\"27\" ry=\"18\"/>\n<text text-anchor=\"middle\" x=\"27\" y=\"-86.3\" font-family=\"Times,serif\" font-size=\"14.00\" fill=\"#000000\">G</text>\n</g>\n<!-- L -->\n<g id=\"node4\" class=\"node\">\n<title>L</title>\n<ellipse fill=\"none\" stroke=\"#000000\" cx=\"27\" cy=\"-18\" rx=\"27\" ry=\"18\"/>\n<text text-anchor=\"middle\" x=\"27\" y=\"-14.3\" font-family=\"Times,serif\" font-size=\"14.00\" fill=\"#000000\">L</text>\n</g>\n<!-- G&#45;&gt;L -->\n<g id=\"edge2\" class=\"edge\">\n<title>G&#45;&gt;L</title>\n<path fill=\"none\" stroke=\"#000000\" d=\"M27,-71.8314C27,-64.131 27,-54.9743 27,-46.4166\"/>\n<polygon fill=\"#000000\" stroke=\"#000000\" points=\"30.5001,-46.4132 27,-36.4133 23.5001,-46.4133 30.5001,-46.4132\"/>\n</g>\n<!-- D -->\n<g id=\"node2\" class=\"node\">\n<title>D</title>\n<ellipse fill=\"none\" stroke=\"#000000\" cx=\"27\" cy=\"-162\" rx=\"27\" ry=\"18\"/>\n<text text-anchor=\"middle\" x=\"27\" y=\"-158.3\" font-family=\"Times,serif\" font-size=\"14.00\" fill=\"#000000\">D</text>\n</g>\n<!-- D&#45;&gt;G -->\n<g id=\"edge1\" class=\"edge\">\n<title>D&#45;&gt;G</title>\n<path fill=\"none\" stroke=\"#000000\" d=\"M27,-143.8314C27,-136.131 27,-126.9743 27,-118.4166\"/>\n<polygon fill=\"#000000\" stroke=\"#000000\" points=\"30.5001,-118.4132 27,-108.4133 23.5001,-118.4133 30.5001,-118.4132\"/>\n</g>\n<!-- I -->\n<g id=\"node3\" class=\"node\">\n<title>I</title>\n<ellipse fill=\"none\" stroke=\"#000000\" cx=\"99\" cy=\"-162\" rx=\"27\" ry=\"18\"/>\n<text text-anchor=\"middle\" x=\"99\" y=\"-158.3\" font-family=\"Times,serif\" font-size=\"14.00\" fill=\"#000000\">I</text>\n</g>\n<!-- I&#45;&gt;G -->\n<g id=\"edge3\" class=\"edge\">\n<title>I&#45;&gt;G</title>\n<path fill=\"none\" stroke=\"#000000\" d=\"M83.7307,-146.7307C73.803,-136.803 60.6847,-123.6847 49.5637,-112.5637\"/>\n<polygon fill=\"#000000\" stroke=\"#000000\" points=\"51.7933,-109.8436 42.2473,-105.2473 46.8436,-114.7933 51.7933,-109.8436\"/>\n</g>\n<!-- S -->\n<g id=\"node5\" class=\"node\">\n<title>S</title>\n<ellipse fill=\"none\" stroke=\"#000000\" cx=\"99\" cy=\"-90\" rx=\"27\" ry=\"18\"/>\n<text text-anchor=\"middle\" x=\"99\" y=\"-86.3\" font-family=\"Times,serif\" font-size=\"14.00\" fill=\"#000000\">S</text>\n</g>\n<!-- I&#45;&gt;S -->\n<g id=\"edge4\" class=\"edge\">\n<title>I&#45;&gt;S</title>\n<path fill=\"none\" stroke=\"#000000\" d=\"M99,-143.8314C99,-136.131 99,-126.9743 99,-118.4166\"/>\n<polygon fill=\"#000000\" stroke=\"#000000\" points=\"102.5001,-118.4132 99,-108.4133 95.5001,-118.4133 102.5001,-118.4132\"/>\n</g>\n</g>\n</svg>\n"
          },
          "metadata": {
            "tags": []
          }
        },
        {
          "output_type": "execute_result",
          "data": {
            "application/vnd.google.colaboratory.intrinsic+json": {
              "type": "string"
            },
            "text/plain": [
              "'Digraph.gv.pdf'"
            ]
          },
          "metadata": {
            "tags": []
          },
          "execution_count": 12
        }
      ]
    },
    {
      "cell_type": "markdown",
      "metadata": {
        "id": "LXTnimbBf3yy"
      },
      "source": [
        "## CPTs"
      ]
    },
    {
      "cell_type": "code",
      "metadata": {
        "id": "_ujhz9g6eAy6",
        "outputId": "c131164d-a9fd-4027-bef4-96f74e679384",
        "colab": {
          "base_uri": "https://localhost:8080/",
          "height": 801
        }
      },
      "source": [
        "visualize_model(model)"
      ],
      "execution_count": 20,
      "outputs": [
        {
          "output_type": "execute_result",
          "data": {
            "text/plain": [
              "<graphviz.dot.Digraph at 0x7f7d78f8bd50>"
            ],
            "image/svg+xml": "<?xml version=\"1.0\" encoding=\"UTF-8\" standalone=\"no\"?>\n<!DOCTYPE svg PUBLIC \"-//W3C//DTD SVG 1.1//EN\"\n \"http://www.w3.org/Graphics/SVG/1.1/DTD/svg11.dtd\">\n<!-- Generated by graphviz version 2.40.1 (20161225.0304)\n -->\n<!-- Title: model_ Pages: 1 -->\n<svg width=\"410pt\" height=\"586pt\"\n viewBox=\"0.00 0.00 410.33 586.29\" xmlns=\"http://www.w3.org/2000/svg\" xmlns:xlink=\"http://www.w3.org/1999/xlink\">\n<g id=\"graph0\" class=\"graph\" transform=\"scale(1 1) rotate(0) translate(4 582.2885)\">\n<title>model_</title>\n<polygon fill=\"#ffffff\" stroke=\"transparent\" points=\"-4,4 -4,-582.2885 406.333,-582.2885 406.333,4 -4,4\"/>\n<!-- D -->\n<g id=\"node1\" class=\"node\">\n<title>D</title>\n<ellipse fill=\"none\" stroke=\"#000000\" cx=\"106.7731\" cy=\"-521.0128\" rx=\"65.5227\" ry=\"57.0522\"/>\n<polygon fill=\"none\" stroke=\"#000000\" points=\"71.7731,-533.0128 71.7731,-554.0128 142.7731,-554.0128 142.7731,-533.0128 71.7731,-533.0128\"/>\n<text text-anchor=\"start\" x=\"97.7731\" y=\"-539.8128\" font-family=\"Times,serif\" font-size=\"14.00\" fill=\"#000000\"> D </text>\n<polygon fill=\"none\" stroke=\"#000000\" points=\"71.7731,-510.0128 71.7731,-531.0128 105.7731,-531.0128 105.7731,-510.0128 71.7731,-510.0128\"/>\n<text text-anchor=\"start\" x=\"74.7731\" y=\"-516.8128\" font-family=\"Times,serif\" font-size=\"14.00\" fill=\"#000000\">Easy</text>\n<polygon fill=\"none\" stroke=\"#000000\" points=\"107.7731,-510.0128 107.7731,-531.0128 142.7731,-531.0128 142.7731,-510.0128 107.7731,-510.0128\"/>\n<text text-anchor=\"start\" x=\"110.7731\" y=\"-516.8128\" font-family=\"Times,serif\" font-size=\"14.00\" fill=\"#000000\">Hard</text>\n<polygon fill=\"none\" stroke=\"#000000\" points=\"71.7731,-487.0128 71.7731,-508.0128 105.7731,-508.0128 105.7731,-487.0128 71.7731,-487.0128\"/>\n<text text-anchor=\"start\" x=\"79.2731\" y=\"-493.8128\" font-family=\"Times,serif\" font-size=\"14.00\" fill=\"#000000\">0.6</text>\n<polygon fill=\"none\" stroke=\"#000000\" points=\"107.7731,-487.0128 107.7731,-508.0128 142.7731,-508.0128 142.7731,-487.0128 107.7731,-487.0128\"/>\n<text text-anchor=\"start\" x=\"115.7731\" y=\"-493.8128\" font-family=\"Times,serif\" font-size=\"14.00\" fill=\"#000000\">0.4</text>\n<polygon fill=\"none\" stroke=\"#000000\" points=\"68.2731,-484.5128 68.2731,-557.5128 145.2731,-557.5128 145.2731,-484.5128 68.2731,-484.5128\"/>\n</g>\n<!-- G -->\n<g id=\"node3\" class=\"node\">\n<title>G</title>\n<ellipse fill=\"none\" stroke=\"#000000\" cx=\"106.7731\" cy=\"-321.6711\" rx=\"106.5467\" ry=\"106.1321\"/>\n<polygon fill=\"none\" stroke=\"#000000\" points=\"42.7731,-368.6711 42.7731,-389.6711 171.7731,-389.6711 171.7731,-368.6711 42.7731,-368.6711\"/>\n<text text-anchor=\"start\" x=\"97.7731\" y=\"-375.4711\" font-family=\"Times,serif\" font-size=\"14.00\" fill=\"#000000\"> G </text>\n<polygon fill=\"none\" stroke=\"#000000\" points=\"42.7731,-345.6711 42.7731,-366.6711 64.7731,-366.6711 64.7731,-345.6711 42.7731,-345.6711\"/>\n<text text-anchor=\"start\" x=\"51.7731\" y=\"-352.4711\" font-family=\"Times,serif\" font-size=\"14.00\" fill=\"#000000\"> </text>\n<polygon fill=\"none\" stroke=\"#000000\" points=\"66.7731,-345.6711 66.7731,-366.6711 99.7731,-366.6711 99.7731,-345.6711 66.7731,-345.6711\"/>\n<text text-anchor=\"start\" x=\"77.7731\" y=\"-352.4711\" font-family=\"Times,serif\" font-size=\"14.00\" fill=\"#000000\">A</text>\n<polygon fill=\"none\" stroke=\"#000000\" points=\"101.7731,-345.6711 101.7731,-366.6711 134.7731,-366.6711 134.7731,-345.6711 101.7731,-345.6711\"/>\n<text text-anchor=\"start\" x=\"113.2731\" y=\"-352.4711\" font-family=\"Times,serif\" font-size=\"14.00\" fill=\"#000000\">B</text>\n<polygon fill=\"none\" stroke=\"#000000\" points=\"136.7731,-345.6711 136.7731,-366.6711 169.7731,-366.6711 169.7731,-345.6711 136.7731,-345.6711\"/>\n<text text-anchor=\"start\" x=\"148.2731\" y=\"-352.4711\" font-family=\"Times,serif\" font-size=\"14.00\" fill=\"#000000\">C</text>\n<polygon fill=\"none\" stroke=\"#000000\" points=\"42.7731,-322.6711 42.7731,-343.6711 64.7731,-343.6711 64.7731,-322.6711 42.7731,-322.6711\"/>\n<text text-anchor=\"start\" x=\"45.7731\" y=\"-329.4711\" font-family=\"Times,serif\" font-size=\"14.00\" fill=\"#000000\">00</text>\n<polygon fill=\"none\" stroke=\"#000000\" points=\"66.7731,-322.6711 66.7731,-343.6711 99.7731,-343.6711 99.7731,-322.6711 66.7731,-322.6711\"/>\n<text text-anchor=\"start\" x=\"73.7731\" y=\"-329.4711\" font-family=\"Times,serif\" font-size=\"14.00\" fill=\"#000000\">0.3</text>\n<polygon fill=\"none\" stroke=\"#000000\" points=\"101.7731,-322.6711 101.7731,-343.6711 134.7731,-343.6711 134.7731,-322.6711 101.7731,-322.6711\"/>\n<text text-anchor=\"start\" x=\"108.7731\" y=\"-329.4711\" font-family=\"Times,serif\" font-size=\"14.00\" fill=\"#000000\">0.4</text>\n<polygon fill=\"none\" stroke=\"#000000\" points=\"136.7731,-322.6711 136.7731,-343.6711 169.7731,-343.6711 169.7731,-322.6711 136.7731,-322.6711\"/>\n<text text-anchor=\"start\" x=\"143.7731\" y=\"-329.4711\" font-family=\"Times,serif\" font-size=\"14.00\" fill=\"#000000\">0.3</text>\n<polygon fill=\"none\" stroke=\"#000000\" points=\"42.7731,-299.6711 42.7731,-320.6711 64.7731,-320.6711 64.7731,-299.6711 42.7731,-299.6711\"/>\n<text text-anchor=\"start\" x=\"45.7731\" y=\"-306.4711\" font-family=\"Times,serif\" font-size=\"14.00\" fill=\"#000000\">01</text>\n<polygon fill=\"none\" stroke=\"#000000\" points=\"66.7731,-299.6711 66.7731,-320.6711 99.7731,-320.6711 99.7731,-299.6711 66.7731,-299.6711\"/>\n<text text-anchor=\"start\" x=\"73.7731\" y=\"-306.4711\" font-family=\"Times,serif\" font-size=\"14.00\" fill=\"#000000\">0.9</text>\n<polygon fill=\"none\" stroke=\"#000000\" points=\"101.7731,-299.6711 101.7731,-320.6711 134.7731,-320.6711 134.7731,-299.6711 101.7731,-299.6711\"/>\n<text text-anchor=\"start\" x=\"104.7731\" y=\"-306.4711\" font-family=\"Times,serif\" font-size=\"14.00\" fill=\"#000000\">0.08</text>\n<polygon fill=\"none\" stroke=\"#000000\" points=\"136.7731,-299.6711 136.7731,-320.6711 169.7731,-320.6711 169.7731,-299.6711 136.7731,-299.6711\"/>\n<text text-anchor=\"start\" x=\"139.7731\" y=\"-306.4711\" font-family=\"Times,serif\" font-size=\"14.00\" fill=\"#000000\">0.02</text>\n<polygon fill=\"none\" stroke=\"#000000\" points=\"42.7731,-276.6711 42.7731,-297.6711 64.7731,-297.6711 64.7731,-276.6711 42.7731,-276.6711\"/>\n<text text-anchor=\"start\" x=\"45.7731\" y=\"-283.4711\" font-family=\"Times,serif\" font-size=\"14.00\" fill=\"#000000\">10</text>\n<polygon fill=\"none\" stroke=\"#000000\" points=\"66.7731,-276.6711 66.7731,-297.6711 99.7731,-297.6711 99.7731,-276.6711 66.7731,-276.6711\"/>\n<text text-anchor=\"start\" x=\"69.7731\" y=\"-283.4711\" font-family=\"Times,serif\" font-size=\"14.00\" fill=\"#000000\">0.05</text>\n<polygon fill=\"none\" stroke=\"#000000\" points=\"101.7731,-276.6711 101.7731,-297.6711 134.7731,-297.6711 134.7731,-276.6711 101.7731,-276.6711\"/>\n<text text-anchor=\"start\" x=\"104.7731\" y=\"-283.4711\" font-family=\"Times,serif\" font-size=\"14.00\" fill=\"#000000\">0.25</text>\n<polygon fill=\"none\" stroke=\"#000000\" points=\"136.7731,-276.6711 136.7731,-297.6711 169.7731,-297.6711 169.7731,-276.6711 136.7731,-276.6711\"/>\n<text text-anchor=\"start\" x=\"143.7731\" y=\"-283.4711\" font-family=\"Times,serif\" font-size=\"14.00\" fill=\"#000000\">0.7</text>\n<polygon fill=\"none\" stroke=\"#000000\" points=\"42.7731,-253.6711 42.7731,-274.6711 64.7731,-274.6711 64.7731,-253.6711 42.7731,-253.6711\"/>\n<text text-anchor=\"start\" x=\"46.2731\" y=\"-260.4711\" font-family=\"Times,serif\" font-size=\"14.00\" fill=\"#000000\">11</text>\n<polygon fill=\"none\" stroke=\"#000000\" points=\"66.7731,-253.6711 66.7731,-274.6711 99.7731,-274.6711 99.7731,-253.6711 66.7731,-253.6711\"/>\n<text text-anchor=\"start\" x=\"73.7731\" y=\"-260.4711\" font-family=\"Times,serif\" font-size=\"14.00\" fill=\"#000000\">0.5</text>\n<polygon fill=\"none\" stroke=\"#000000\" points=\"101.7731,-253.6711 101.7731,-274.6711 134.7731,-274.6711 134.7731,-253.6711 101.7731,-253.6711\"/>\n<text text-anchor=\"start\" x=\"108.7731\" y=\"-260.4711\" font-family=\"Times,serif\" font-size=\"14.00\" fill=\"#000000\">0.3</text>\n<polygon fill=\"none\" stroke=\"#000000\" points=\"136.7731,-253.6711 136.7731,-274.6711 169.7731,-274.6711 169.7731,-253.6711 136.7731,-253.6711\"/>\n<text text-anchor=\"start\" x=\"143.7731\" y=\"-260.4711\" font-family=\"Times,serif\" font-size=\"14.00\" fill=\"#000000\">0.2</text>\n<polygon fill=\"none\" stroke=\"#000000\" points=\"39.2731,-250.6711 39.2731,-392.6711 174.2731,-392.6711 174.2731,-250.6711 39.2731,-250.6711\"/>\n</g>\n<!-- D&#45;&gt;G -->\n<g id=\"edge1\" class=\"edge\">\n<title>D&#45;&gt;G</title>\n<path fill=\"none\" stroke=\"#000000\" d=\"M106.7731,-463.6224C106.7731,-455.4327 106.7731,-446.7755 106.7731,-437.9393\"/>\n<polygon fill=\"#000000\" stroke=\"#000000\" points=\"110.2732,-437.9021 106.7731,-427.9022 103.2732,-437.9022 110.2732,-437.9021\"/>\n</g>\n<!-- I -->\n<g id=\"node2\" class=\"node\">\n<title>I</title>\n<ellipse fill=\"none\" stroke=\"#000000\" cx=\"299.7731\" cy=\"-521.0128\" rx=\"92.7622\" ry=\"57.0522\"/>\n<polygon fill=\"none\" stroke=\"#000000\" points=\"245.7731,-533.0128 245.7731,-554.0128 354.7731,-554.0128 354.7731,-533.0128 245.7731,-533.0128\"/>\n<text text-anchor=\"start\" x=\"293.7731\" y=\"-539.8128\" font-family=\"Times,serif\" font-size=\"14.00\" fill=\"#000000\"> I </text>\n<polygon fill=\"none\" stroke=\"#000000\" points=\"245.7731,-510.0128 245.7731,-531.0128 288.7731,-531.0128 288.7731,-510.0128 245.7731,-510.0128\"/>\n<text text-anchor=\"start\" x=\"248.7731\" y=\"-516.8128\" font-family=\"Times,serif\" font-size=\"14.00\" fill=\"#000000\">Dumb</text>\n<polygon fill=\"none\" stroke=\"#000000\" points=\"290.7731,-510.0128 290.7731,-531.0128 354.7731,-531.0128 354.7731,-510.0128 290.7731,-510.0128\"/>\n<text text-anchor=\"start\" x=\"293.7731\" y=\"-516.8128\" font-family=\"Times,serif\" font-size=\"14.00\" fill=\"#000000\">Intelligent</text>\n<polygon fill=\"none\" stroke=\"#000000\" points=\"245.7731,-487.0128 245.7731,-508.0128 288.7731,-508.0128 288.7731,-487.0128 245.7731,-487.0128\"/>\n<text text-anchor=\"start\" x=\"257.7731\" y=\"-493.8128\" font-family=\"Times,serif\" font-size=\"14.00\" fill=\"#000000\">0.7</text>\n<polygon fill=\"none\" stroke=\"#000000\" points=\"290.7731,-487.0128 290.7731,-508.0128 354.7731,-508.0128 354.7731,-487.0128 290.7731,-487.0128\"/>\n<text text-anchor=\"start\" x=\"313.2731\" y=\"-493.8128\" font-family=\"Times,serif\" font-size=\"14.00\" fill=\"#000000\">0.3</text>\n<polygon fill=\"none\" stroke=\"#000000\" points=\"242.2731,-484.5128 242.2731,-557.5128 357.2731,-557.5128 357.2731,-484.5128 242.2731,-484.5128\"/>\n</g>\n<!-- I&#45;&gt;G -->\n<g id=\"edge3\" class=\"edge\">\n<title>I&#45;&gt;G</title>\n<path fill=\"none\" stroke=\"#000000\" d=\"M252.0652,-471.7373C232.7259,-451.7626 209.8387,-428.1232 188.0189,-405.5865\"/>\n<polygon fill=\"#000000\" stroke=\"#000000\" points=\"190.4484,-403.0641 180.9779,-398.3142 185.4193,-407.9332 190.4484,-403.0641\"/>\n</g>\n<!-- S -->\n<g id=\"node5\" class=\"node\">\n<title>S</title>\n<ellipse fill=\"none\" stroke=\"#000000\" cx=\"316.7731\" cy=\"-321.6711\" rx=\"85.6199\" ry=\"73.5782\"/>\n<polygon fill=\"none\" stroke=\"#000000\" points=\"267.7731,-345.6711 267.7731,-366.6711 366.7731,-366.6711 366.7731,-345.6711 267.7731,-345.6711\"/>\n<text text-anchor=\"start\" x=\"309.2731\" y=\"-352.4711\" font-family=\"Times,serif\" font-size=\"14.00\" fill=\"#000000\"> S </text>\n<polygon fill=\"none\" stroke=\"#000000\" points=\"267.7731,-322.6711 267.7731,-343.6711 289.7731,-343.6711 289.7731,-322.6711 267.7731,-322.6711\"/>\n<text text-anchor=\"start\" x=\"276.7731\" y=\"-329.4711\" font-family=\"Times,serif\" font-size=\"14.00\" fill=\"#000000\"> </text>\n<polygon fill=\"none\" stroke=\"#000000\" points=\"291.7731,-322.6711 291.7731,-343.6711 324.7731,-343.6711 324.7731,-322.6711 291.7731,-322.6711\"/>\n<text text-anchor=\"start\" x=\"296.2731\" y=\"-329.4711\" font-family=\"Times,serif\" font-size=\"14.00\" fill=\"#000000\">Bad</text>\n<polygon fill=\"none\" stroke=\"#000000\" points=\"326.7731,-322.6711 326.7731,-343.6711 366.7731,-343.6711 366.7731,-322.6711 326.7731,-322.6711\"/>\n<text text-anchor=\"start\" x=\"329.7731\" y=\"-329.4711\" font-family=\"Times,serif\" font-size=\"14.00\" fill=\"#000000\">Good</text>\n<polygon fill=\"none\" stroke=\"#000000\" points=\"267.7731,-299.6711 267.7731,-320.6711 289.7731,-320.6711 289.7731,-299.6711 267.7731,-299.6711\"/>\n<text text-anchor=\"start\" x=\"270.7731\" y=\"-306.4711\" font-family=\"Times,serif\" font-size=\"14.00\" fill=\"#000000\">00</text>\n<polygon fill=\"none\" stroke=\"#000000\" points=\"291.7731,-299.6711 291.7731,-320.6711 324.7731,-320.6711 324.7731,-299.6711 291.7731,-299.6711\"/>\n<text text-anchor=\"start\" x=\"294.7731\" y=\"-306.4711\" font-family=\"Times,serif\" font-size=\"14.00\" fill=\"#000000\">0.95</text>\n<polygon fill=\"none\" stroke=\"#000000\" points=\"326.7731,-299.6711 326.7731,-320.6711 366.7731,-320.6711 366.7731,-299.6711 326.7731,-299.6711\"/>\n<text text-anchor=\"start\" x=\"333.2731\" y=\"-306.4711\" font-family=\"Times,serif\" font-size=\"14.00\" fill=\"#000000\">0.05</text>\n<polygon fill=\"none\" stroke=\"#000000\" points=\"267.7731,-276.6711 267.7731,-297.6711 289.7731,-297.6711 289.7731,-276.6711 267.7731,-276.6711\"/>\n<text text-anchor=\"start\" x=\"270.7731\" y=\"-283.4711\" font-family=\"Times,serif\" font-size=\"14.00\" fill=\"#000000\">01</text>\n<polygon fill=\"none\" stroke=\"#000000\" points=\"291.7731,-276.6711 291.7731,-297.6711 324.7731,-297.6711 324.7731,-276.6711 291.7731,-276.6711\"/>\n<text text-anchor=\"start\" x=\"298.7731\" y=\"-283.4711\" font-family=\"Times,serif\" font-size=\"14.00\" fill=\"#000000\">0.2</text>\n<polygon fill=\"none\" stroke=\"#000000\" points=\"326.7731,-276.6711 326.7731,-297.6711 366.7731,-297.6711 366.7731,-276.6711 326.7731,-276.6711\"/>\n<text text-anchor=\"start\" x=\"337.2731\" y=\"-283.4711\" font-family=\"Times,serif\" font-size=\"14.00\" fill=\"#000000\">0.8</text>\n<polygon fill=\"none\" stroke=\"#000000\" points=\"264.2731,-273.6711 264.2731,-369.6711 369.2731,-369.6711 369.2731,-273.6711 264.2731,-273.6711\"/>\n</g>\n<!-- I&#45;&gt;S -->\n<g id=\"edge4\" class=\"edge\">\n<title>I&#45;&gt;S</title>\n<path fill=\"none\" stroke=\"#000000\" d=\"M304.6674,-463.6224C306.2127,-445.5025 307.9531,-425.094 309.6224,-405.5209\"/>\n<polygon fill=\"#000000\" stroke=\"#000000\" points=\"313.1249,-405.6394 310.4873,-395.3781 306.1502,-405.0445 313.1249,-405.6394\"/>\n</g>\n<!-- L -->\n<g id=\"node4\" class=\"node\">\n<title>L</title>\n<ellipse fill=\"none\" stroke=\"#000000\" cx=\"106.7731\" cy=\"-89.8026\" rx=\"91.8478\" ry=\"89.6056\"/>\n<polygon fill=\"none\" stroke=\"#000000\" points=\"52.7731,-124.8026 52.7731,-145.8026 160.7731,-145.8026 160.7731,-124.8026 52.7731,-124.8026\"/>\n<text text-anchor=\"start\" x=\"98.7731\" y=\"-131.6026\" font-family=\"Times,serif\" font-size=\"14.00\" fill=\"#000000\"> L </text>\n<polygon fill=\"none\" stroke=\"#000000\" points=\"52.7731,-101.8026 52.7731,-122.8026 81.7731,-122.8026 81.7731,-101.8026 52.7731,-101.8026\"/>\n<text text-anchor=\"start\" x=\"65.2731\" y=\"-108.6026\" font-family=\"Times,serif\" font-size=\"14.00\" fill=\"#000000\"> </text>\n<polygon fill=\"none\" stroke=\"#000000\" points=\"83.7731,-101.8026 83.7731,-122.8026 116.7731,-122.8026 116.7731,-101.8026 83.7731,-101.8026\"/>\n<text text-anchor=\"start\" x=\"88.2731\" y=\"-108.6026\" font-family=\"Times,serif\" font-size=\"14.00\" fill=\"#000000\">Bad</text>\n<polygon fill=\"none\" stroke=\"#000000\" points=\"118.7731,-101.8026 118.7731,-122.8026 158.7731,-122.8026 158.7731,-101.8026 118.7731,-101.8026\"/>\n<text text-anchor=\"start\" x=\"121.7731\" y=\"-108.6026\" font-family=\"Times,serif\" font-size=\"14.00\" fill=\"#000000\">Good</text>\n<polygon fill=\"none\" stroke=\"#000000\" points=\"52.7731,-78.8026 52.7731,-99.8026 81.7731,-99.8026 81.7731,-78.8026 52.7731,-78.8026\"/>\n<text text-anchor=\"start\" x=\"55.7731\" y=\"-85.6026\" font-family=\"Times,serif\" font-size=\"14.00\" fill=\"#000000\">000</text>\n<polygon fill=\"none\" stroke=\"#000000\" points=\"83.7731,-78.8026 83.7731,-99.8026 116.7731,-99.8026 116.7731,-78.8026 83.7731,-78.8026\"/>\n<text text-anchor=\"start\" x=\"90.7731\" y=\"-85.6026\" font-family=\"Times,serif\" font-size=\"14.00\" fill=\"#000000\">0.1</text>\n<polygon fill=\"none\" stroke=\"#000000\" points=\"118.7731,-78.8026 118.7731,-99.8026 158.7731,-99.8026 158.7731,-78.8026 118.7731,-78.8026\"/>\n<text text-anchor=\"start\" x=\"129.2731\" y=\"-85.6026\" font-family=\"Times,serif\" font-size=\"14.00\" fill=\"#000000\">0.9</text>\n<polygon fill=\"none\" stroke=\"#000000\" points=\"52.7731,-55.8026 52.7731,-76.8026 81.7731,-76.8026 81.7731,-55.8026 52.7731,-55.8026\"/>\n<text text-anchor=\"start\" x=\"55.7731\" y=\"-62.6026\" font-family=\"Times,serif\" font-size=\"14.00\" fill=\"#000000\">001</text>\n<polygon fill=\"none\" stroke=\"#000000\" points=\"83.7731,-55.8026 83.7731,-76.8026 116.7731,-76.8026 116.7731,-55.8026 83.7731,-55.8026\"/>\n<text text-anchor=\"start\" x=\"90.7731\" y=\"-62.6026\" font-family=\"Times,serif\" font-size=\"14.00\" fill=\"#000000\">0.4</text>\n<polygon fill=\"none\" stroke=\"#000000\" points=\"118.7731,-55.8026 118.7731,-76.8026 158.7731,-76.8026 158.7731,-55.8026 118.7731,-55.8026\"/>\n<text text-anchor=\"start\" x=\"129.2731\" y=\"-62.6026\" font-family=\"Times,serif\" font-size=\"14.00\" fill=\"#000000\">0.6</text>\n<polygon fill=\"none\" stroke=\"#000000\" points=\"52.7731,-32.8026 52.7731,-53.8026 81.7731,-53.8026 81.7731,-32.8026 52.7731,-32.8026\"/>\n<text text-anchor=\"start\" x=\"55.7731\" y=\"-39.6026\" font-family=\"Times,serif\" font-size=\"14.00\" fill=\"#000000\">002</text>\n<polygon fill=\"none\" stroke=\"#000000\" points=\"83.7731,-32.8026 83.7731,-53.8026 116.7731,-53.8026 116.7731,-32.8026 83.7731,-32.8026\"/>\n<text text-anchor=\"start\" x=\"86.7731\" y=\"-39.6026\" font-family=\"Times,serif\" font-size=\"14.00\" fill=\"#000000\">0.99</text>\n<polygon fill=\"none\" stroke=\"#000000\" points=\"118.7731,-32.8026 118.7731,-53.8026 158.7731,-53.8026 158.7731,-32.8026 118.7731,-32.8026\"/>\n<text text-anchor=\"start\" x=\"125.2731\" y=\"-39.6026\" font-family=\"Times,serif\" font-size=\"14.00\" fill=\"#000000\">0.01</text>\n<polygon fill=\"none\" stroke=\"#000000\" points=\"49.7731,-30.3026 49.7731,-149.3026 163.7731,-149.3026 163.7731,-30.3026 49.7731,-30.3026\"/>\n</g>\n<!-- G&#45;&gt;L -->\n<g id=\"edge2\" class=\"edge\">\n<title>G&#45;&gt;L</title>\n<path fill=\"none\" stroke=\"#000000\" d=\"M106.7731,-215.5762C106.7731,-207.0986 106.7731,-198.5502 106.7731,-190.1143\"/>\n<polygon fill=\"#000000\" stroke=\"#000000\" points=\"110.2732,-189.8924 106.7731,-179.8924 103.2732,-189.8924 110.2732,-189.8924\"/>\n</g>\n</g>\n</svg>\n"
          },
          "metadata": {
            "tags": []
          },
          "execution_count": 20
        }
      ]
    },
    {
      "cell_type": "markdown",
      "metadata": {
        "id": "GdtP7ww5f5v0"
      },
      "source": [
        "## Marginals"
      ]
    },
    {
      "cell_type": "code",
      "metadata": {
        "id": "WYSNlcmcf6m3"
      },
      "source": [
        ""
      ],
      "execution_count": null,
      "outputs": []
    }
  ]
}