{
  "nbformat": 4,
  "nbformat_minor": 0,
  "metadata": {
    "colab": {
      "name": "student_pgmpy.ipynb",
      "provenance": [],
      "authorship_tag": "ABX9TyMh8UghtgZOmWxEqAtXqY36",
      "include_colab_link": true
    },
    "kernelspec": {
      "name": "python3",
      "display_name": "Python 3"
    },
    "language_info": {
      "name": "python"
    }
  },
  "cells": [
    {
      "cell_type": "markdown",
      "metadata": {
        "id": "view-in-github",
        "colab_type": "text"
      },
      "source": [
        "<a href=\"https://colab.research.google.com/github/probml/pyprobml/blob/master/notebooks/student_pgmpy.ipynb\" target=\"_parent\"><img src=\"https://colab.research.google.com/assets/colab-badge.svg\" alt=\"Open In Colab\"/></a>"
      ]
    },
    {
      "cell_type": "markdown",
      "metadata": {
        "id": "FtkM9t9gXaVB"
      },
      "source": [
        "# The (simplified) student Bayes net\n",
        "\n",
        "This model is from https://github.com/pgmpy/pgmpy_notebook/blob/master/notebooks/2.%20Bayesian%20Networks.ipynb"
      ]
    },
    {
      "cell_type": "code",
      "metadata": {
        "colab": {
          "base_uri": "https://localhost:8080/"
        },
        "id": "8FEYdsYCXYj5",
        "outputId": "f12d9d9e-efc6-4c47-8087-9cdc9ed48c1b"
      },
      "source": [
        "!pip install  causalgraphicalmodels\n",
        "!pip install pgmpy\n",
        "\n"
      ],
      "execution_count": 1,
      "outputs": [
        {
          "output_type": "stream",
          "text": [
            "Collecting causalgraphicalmodels\n",
            "  Downloading https://files.pythonhosted.org/packages/c8/ee/3b2d184576f3cb4873cebfc696e8e5c1e53eaef691f38aea76c206f9f916/causalgraphicalmodels-0.0.4-py3-none-any.whl\n",
            "Requirement already satisfied: numpy in /usr/local/lib/python3.7/dist-packages (from causalgraphicalmodels) (1.19.5)\n",
            "Requirement already satisfied: pandas in /usr/local/lib/python3.7/dist-packages (from causalgraphicalmodels) (1.1.5)\n",
            "Requirement already satisfied: graphviz in /usr/local/lib/python3.7/dist-packages (from causalgraphicalmodels) (0.10.1)\n",
            "Requirement already satisfied: networkx in /usr/local/lib/python3.7/dist-packages (from causalgraphicalmodels) (2.5.1)\n",
            "Requirement already satisfied: python-dateutil>=2.7.3 in /usr/local/lib/python3.7/dist-packages (from pandas->causalgraphicalmodels) (2.8.1)\n",
            "Requirement already satisfied: pytz>=2017.2 in /usr/local/lib/python3.7/dist-packages (from pandas->causalgraphicalmodels) (2018.9)\n",
            "Requirement already satisfied: decorator<5,>=4.3 in /usr/local/lib/python3.7/dist-packages (from networkx->causalgraphicalmodels) (4.4.2)\n",
            "Requirement already satisfied: six>=1.5 in /usr/local/lib/python3.7/dist-packages (from python-dateutil>=2.7.3->pandas->causalgraphicalmodels) (1.15.0)\n",
            "Installing collected packages: causalgraphicalmodels\n",
            "Successfully installed causalgraphicalmodels-0.0.4\n",
            "Collecting pgmpy\n",
            "\u001b[?25l  Downloading https://files.pythonhosted.org/packages/a3/0e/d9fadbfaa35e010c04d43acd3ae9fbefec98897dd7d61a6b7eb5a8b34072/pgmpy-0.1.14-py3-none-any.whl (331kB)\n",
            "\u001b[K     |████████████████████████████████| 337kB 3.0MB/s \n",
            "\u001b[?25hRequirement already satisfied: tqdm in /usr/local/lib/python3.7/dist-packages (from pgmpy) (4.41.1)\n",
            "Requirement already satisfied: scikit-learn in /usr/local/lib/python3.7/dist-packages (from pgmpy) (0.22.2.post1)\n",
            "Requirement already satisfied: statsmodels in /usr/local/lib/python3.7/dist-packages (from pgmpy) (0.10.2)\n",
            "Requirement already satisfied: joblib in /usr/local/lib/python3.7/dist-packages (from pgmpy) (1.0.1)\n",
            "Requirement already satisfied: pyparsing in /usr/local/lib/python3.7/dist-packages (from pgmpy) (2.4.7)\n",
            "Requirement already satisfied: pandas in /usr/local/lib/python3.7/dist-packages (from pgmpy) (1.1.5)\n",
            "Requirement already satisfied: scipy in /usr/local/lib/python3.7/dist-packages (from pgmpy) (1.4.1)\n",
            "Requirement already satisfied: networkx in /usr/local/lib/python3.7/dist-packages (from pgmpy) (2.5.1)\n",
            "Requirement already satisfied: numpy in /usr/local/lib/python3.7/dist-packages (from pgmpy) (1.19.5)\n",
            "Requirement already satisfied: torch in /usr/local/lib/python3.7/dist-packages (from pgmpy) (1.8.1+cu101)\n",
            "Requirement already satisfied: patsy>=0.4.0 in /usr/local/lib/python3.7/dist-packages (from statsmodels->pgmpy) (0.5.1)\n",
            "Requirement already satisfied: pytz>=2017.2 in /usr/local/lib/python3.7/dist-packages (from pandas->pgmpy) (2018.9)\n",
            "Requirement already satisfied: python-dateutil>=2.7.3 in /usr/local/lib/python3.7/dist-packages (from pandas->pgmpy) (2.8.1)\n",
            "Requirement already satisfied: decorator<5,>=4.3 in /usr/local/lib/python3.7/dist-packages (from networkx->pgmpy) (4.4.2)\n",
            "Requirement already satisfied: typing-extensions in /usr/local/lib/python3.7/dist-packages (from torch->pgmpy) (3.7.4.3)\n",
            "Requirement already satisfied: six in /usr/local/lib/python3.7/dist-packages (from patsy>=0.4.0->statsmodels->pgmpy) (1.15.0)\n",
            "Installing collected packages: pgmpy\n",
            "Successfully installed pgmpy-0.1.14\n"
          ],
          "name": "stdout"
        }
      ]
    },
    {
      "cell_type": "code",
      "metadata": {
        "id": "piOvstm5YQWx"
      },
      "source": [
        "from causalgraphicalmodels import CausalGraphicalModel\n",
        "import pgmpy\n",
        "import numpy as np\n",
        "import pandas as pd"
      ],
      "execution_count": 2,
      "outputs": []
    },
    {
      "cell_type": "markdown",
      "metadata": {
        "id": "uF_UjCP-Xi9-"
      },
      "source": [
        "# Model"
      ]
    },
    {
      "cell_type": "markdown",
      "metadata": {
        "id": "7A8L5MSGcuPC"
      },
      "source": [
        "\n",
        "\n",
        "<img src=\"https://user-images.githubusercontent.com/4632336/118884310-21bec180-b8ab-11eb-81cf-481553c21d8a.png?raw=true\">\n"
      ]
    },
    {
      "cell_type": "code",
      "metadata": {
        "id": "Yt2Dql3yXcgC"
      },
      "source": [
        "from pgmpy.models import BayesianModel\n",
        "from pgmpy.factors.discrete import TabularCPD\n",
        "\n",
        "# Defining the model structure. We can define the network by just passing a list of edges.\n",
        "model = BayesianModel([('D', 'G'), ('I', 'G'), ('G', 'L'), ('I', 'S')])\n",
        "\n"
      ],
      "execution_count": 3,
      "outputs": []
    },
    {
      "cell_type": "markdown",
      "metadata": {
        "id": "KHlBciCF8EUp"
      },
      "source": [
        "## Basic CPDs"
      ]
    },
    {
      "cell_type": "code",
      "metadata": {
        "id": "UXxKULXg8Ixx",
        "colab": {
          "base_uri": "https://localhost:8080/"
        },
        "outputId": "9dee016a-3c8b-49f7-f939-445766b338ae"
      },
      "source": [
        "# Defining individual CPDs.\n",
        "cpd_d = TabularCPD(variable='D', variable_card=2, values=[[0.6], [0.4]])\n",
        "cpd_i = TabularCPD(variable='I', variable_card=2, values=[[0.7], [0.3]])\n",
        "\n",
        "# The representation of CPD in pgmpy is a bit different than the CPD shown in the above picture. In pgmpy the colums\n",
        "# are the evidences and rows are the states of the variable. So the grade CPD is represented like this:\n",
        "#\n",
        "#    +---------+---------+---------+---------+---------+\n",
        "#    | diff    | intel_0 | intel_0 | intel_1 | intel_1 |\n",
        "#    +---------+---------+---------+---------+---------+\n",
        "#    | intel   | diff_0  | diff_1  | diff_0  | diff_1  |\n",
        "#    +---------+---------+---------+---------+---------+\n",
        "#    | grade_0 | 0.3     | 0.05    | 0.9     | 0.5     |\n",
        "#    +---------+---------+---------+---------+---------+\n",
        "#    | grade_1 | 0.4     | 0.25    | 0.08    | 0.3     |\n",
        "#    +---------+---------+---------+---------+---------+\n",
        "#    | grade_2 | 0.3     | 0.7     | 0.02    | 0.2     |\n",
        "#    +---------+---------+---------+---------+---------+\n",
        "\n",
        "cpd_g = TabularCPD(variable='G', variable_card=3, \n",
        "                   values=[[0.3, 0.05, 0.9,  0.5],\n",
        "                           [0.4, 0.25, 0.08, 0.3],\n",
        "                           [0.3, 0.7,  0.02, 0.2]],\n",
        "                  evidence=['I', 'D'],\n",
        "                  evidence_card=[2, 2])\n",
        "\n",
        "cpd_l = TabularCPD(variable='L', variable_card=2, \n",
        "                   values=[[0.1, 0.4, 0.99],\n",
        "                           [0.9, 0.6, 0.01]],\n",
        "                   evidence=['G'],\n",
        "                   evidence_card=[3])\n",
        "\n",
        "cpd_s = TabularCPD(variable='S', variable_card=2,\n",
        "                   values=[[0.95, 0.2],\n",
        "                           [0.05, 0.8]],\n",
        "                   evidence=['I'],\n",
        "                   evidence_card=[2])\n",
        "\n",
        "# Associating the CPDs with the network\n",
        "model.add_cpds(cpd_d, cpd_i, cpd_g, cpd_l, cpd_s)\n",
        "\n",
        "# check_model checks for the network structure and CPDs and verifies that the CPDs are correctly \n",
        "# defined and sum to 1.\n",
        "model.check_model()"
      ],
      "execution_count": 4,
      "outputs": [
        {
          "output_type": "execute_result",
          "data": {
            "text/plain": [
              "True"
            ]
          },
          "metadata": {
            "tags": []
          },
          "execution_count": 4
        }
      ]
    },
    {
      "cell_type": "code",
      "metadata": {
        "id": "XU_P8PWX76bh",
        "colab": {
          "base_uri": "https://localhost:8080/"
        },
        "outputId": "d3e9871e-d73a-4f90-ead9-43b741ae2933"
      },
      "source": [
        "print(model.get_cpds('G'))"
      ],
      "execution_count": 5,
      "outputs": [
        {
          "output_type": "stream",
          "text": [
            "+------+------+------+------+------+\n",
            "| I    | I(0) | I(0) | I(1) | I(1) |\n",
            "+------+------+------+------+------+\n",
            "| D    | D(0) | D(1) | D(0) | D(1) |\n",
            "+------+------+------+------+------+\n",
            "| G(0) | 0.3  | 0.05 | 0.9  | 0.5  |\n",
            "+------+------+------+------+------+\n",
            "| G(1) | 0.4  | 0.25 | 0.08 | 0.3  |\n",
            "+------+------+------+------+------+\n",
            "| G(2) | 0.3  | 0.7  | 0.02 | 0.2  |\n",
            "+------+------+------+------+------+\n"
          ],
          "name": "stdout"
        }
      ]
    },
    {
      "cell_type": "markdown",
      "metadata": {
        "id": "1kCNIT4b8Jts"
      },
      "source": [
        "## CPDs with names states"
      ]
    },
    {
      "cell_type": "code",
      "metadata": {
        "colab": {
          "base_uri": "https://localhost:8080/"
        },
        "id": "8c14_W6CX883",
        "outputId": "63d8785f-6c19-4d09-b8e2-a99b742a3518"
      },
      "source": [
        "# CPDs can also be defined using the state names of the variables. If the state names are not provided\n",
        "# like in the previous example, pgmpy will automatically assign names as: 0, 1, 2, ....\n",
        "\n",
        "cpd_d_sn = TabularCPD(variable='D', variable_card=2, values=[[0.6], [0.4]], state_names={'D': ['Easy', 'Hard']})\n",
        "cpd_i_sn = TabularCPD(variable='I', variable_card=2, values=[[0.7], [0.3]], state_names={'I': ['Dumb', 'Intelligent']})\n",
        "cpd_g_sn = TabularCPD(variable='G', variable_card=3, \n",
        "                      values=[[0.3, 0.05, 0.9,  0.5],\n",
        "                              [0.4, 0.25, 0.08, 0.3],\n",
        "                              [0.3, 0.7,  0.02, 0.2]],\n",
        "                      evidence=['I', 'D'],\n",
        "                      evidence_card=[2, 2],\n",
        "                      state_names={'G': ['A', 'B', 'C'],\n",
        "                                   'I': ['Dumb', 'Intelligent'],\n",
        "                                   'D': ['Easy', 'Hard']})\n",
        "\n",
        "cpd_l_sn = TabularCPD(variable='L', variable_card=2, \n",
        "                      values=[[0.1, 0.4, 0.99],\n",
        "                              [0.9, 0.6, 0.01]],\n",
        "                      evidence=['G'],\n",
        "                      evidence_card=[3],\n",
        "                      state_names={'L': ['Bad', 'Good'],\n",
        "                                   'G': ['A', 'B', 'C']})\n",
        "\n",
        "cpd_s_sn = TabularCPD(variable='S', variable_card=2,\n",
        "                      values=[[0.95, 0.2],\n",
        "                              [0.05, 0.8]],\n",
        "                      evidence=['I'],\n",
        "                      evidence_card=[2],\n",
        "                      state_names={'S': ['Bad', 'Good'],\n",
        "                                   'I': ['Dumb', 'Intelligent']})\n",
        "\n",
        "# These defined CPDs can be added to the model. Since, the model already has CPDs associated to variables, it will\n",
        "# show warning that pmgpy is now replacing those CPDs with the new ones.\n",
        "model.add_cpds(cpd_d_sn, cpd_i_sn, cpd_g_sn, cpd_l_sn, cpd_s_sn)\n",
        "model.check_model()"
      ],
      "execution_count": 6,
      "outputs": [
        {
          "output_type": "stream",
          "text": [
            "WARNING:root:Replacing existing CPD for D\n",
            "WARNING:root:Replacing existing CPD for I\n",
            "WARNING:root:Replacing existing CPD for G\n",
            "WARNING:root:Replacing existing CPD for L\n",
            "WARNING:root:Replacing existing CPD for S\n"
          ],
          "name": "stderr"
        },
        {
          "output_type": "execute_result",
          "data": {
            "text/plain": [
              "True"
            ]
          },
          "metadata": {
            "tags": []
          },
          "execution_count": 6
        }
      ]
    },
    {
      "cell_type": "code",
      "metadata": {
        "colab": {
          "base_uri": "https://localhost:8080/"
        },
        "id": "PzkidOsEX9H6",
        "outputId": "87b499ba-7c7b-4edf-cbe6-05fc6beab736"
      },
      "source": [
        " #Printing a CPD with it's state names defined.\n",
        "print(model.get_cpds('G'))"
      ],
      "execution_count": 7,
      "outputs": [
        {
          "output_type": "stream",
          "text": [
            "+------+---------+---------+----------------+----------------+\n",
            "| I    | I(Dumb) | I(Dumb) | I(Intelligent) | I(Intelligent) |\n",
            "+------+---------+---------+----------------+----------------+\n",
            "| D    | D(Easy) | D(Hard) | D(Easy)        | D(Hard)        |\n",
            "+------+---------+---------+----------------+----------------+\n",
            "| G(A) | 0.3     | 0.05    | 0.9            | 0.5            |\n",
            "+------+---------+---------+----------------+----------------+\n",
            "| G(B) | 0.4     | 0.25    | 0.08           | 0.3            |\n",
            "+------+---------+---------+----------------+----------------+\n",
            "| G(C) | 0.3     | 0.7     | 0.02           | 0.2            |\n",
            "+------+---------+---------+----------------+----------------+\n"
          ],
          "name": "stdout"
        }
      ]
    },
    {
      "cell_type": "code",
      "metadata": {
        "colab": {
          "base_uri": "https://localhost:8080/"
        },
        "id": "6S3T_rFxYCfR",
        "outputId": "9496137b-ca9d-41ae-b8ff-0a9de336f0b3"
      },
      "source": [
        "for cpd in model.get_cpds():\n",
        "  print(cpd)"
      ],
      "execution_count": 8,
      "outputs": [
        {
          "output_type": "stream",
          "text": [
            "+---------+-----+\n",
            "| D(Easy) | 0.6 |\n",
            "+---------+-----+\n",
            "| D(Hard) | 0.4 |\n",
            "+---------+-----+\n",
            "+----------------+-----+\n",
            "| I(Dumb)        | 0.7 |\n",
            "+----------------+-----+\n",
            "| I(Intelligent) | 0.3 |\n",
            "+----------------+-----+\n",
            "+------+---------+---------+----------------+----------------+\n",
            "| I    | I(Dumb) | I(Dumb) | I(Intelligent) | I(Intelligent) |\n",
            "+------+---------+---------+----------------+----------------+\n",
            "| D    | D(Easy) | D(Hard) | D(Easy)        | D(Hard)        |\n",
            "+------+---------+---------+----------------+----------------+\n",
            "| G(A) | 0.3     | 0.05    | 0.9            | 0.5            |\n",
            "+------+---------+---------+----------------+----------------+\n",
            "| G(B) | 0.4     | 0.25    | 0.08           | 0.3            |\n",
            "+------+---------+---------+----------------+----------------+\n",
            "| G(C) | 0.3     | 0.7     | 0.02           | 0.2            |\n",
            "+------+---------+---------+----------------+----------------+\n",
            "+---------+------+------+------+\n",
            "| G       | G(A) | G(B) | G(C) |\n",
            "+---------+------+------+------+\n",
            "| L(Bad)  | 0.1  | 0.4  | 0.99 |\n",
            "+---------+------+------+------+\n",
            "| L(Good) | 0.9  | 0.6  | 0.01 |\n",
            "+---------+------+------+------+\n",
            "+---------+---------+----------------+\n",
            "| I       | I(Dumb) | I(Intelligent) |\n",
            "+---------+---------+----------------+\n",
            "| S(Bad)  | 0.95    | 0.2            |\n",
            "+---------+---------+----------------+\n",
            "| S(Good) | 0.05    | 0.8            |\n",
            "+---------+---------+----------------+\n"
          ],
          "name": "stdout"
        }
      ]
    },
    {
      "cell_type": "markdown",
      "metadata": {
        "id": "mmIYMZVzYuxu"
      },
      "source": [
        "# Inference"
      ]
    },
    {
      "cell_type": "code",
      "metadata": {
        "id": "PrFI130fYMQ0"
      },
      "source": [
        "from pgmpy.inference import VariableElimination\n",
        "infer = VariableElimination(model)\n"
      ],
      "execution_count": 9,
      "outputs": []
    },
    {
      "cell_type": "markdown",
      "metadata": {
        "id": "zxIyjd9eYx2S"
      },
      "source": [
        "## Posterior given Grade=C"
      ]
    },
    {
      "cell_type": "code",
      "metadata": {
        "colab": {
          "base_uri": "https://localhost:8080/"
        },
        "id": "oEEU40_pY4C7",
        "outputId": "4ee8905f-7ccd-4c76-df0f-8be3d6f4958e"
      },
      "source": [
        "evidence = {'G': 'C'}\n",
        "postD = infer.query(['D'],  evidence=evidence).values\n",
        "postI = infer.query(['I'],  evidence=evidence).values\n",
        "\n",
        "print('\\n')\n",
        "print('Pr(Difficulty=Hard|Grade=C) = {:0.2f}'.format(postD[1]))\n",
        "print('Pr(Intelligent=High|Grade=C) = {:0.2f}'.format(postI[1]))"
      ],
      "execution_count": 10,
      "outputs": [
        {
          "output_type": "stream",
          "text": [
            "Finding Elimination Order: : 100%|██████████| 3/3 [00:00<00:00, 439.21it/s]\n",
            "Eliminating: I: 100%|██████████| 3/3 [00:00<00:00, 316.29it/s]\n",
            "Finding Elimination Order: : 100%|██████████| 3/3 [00:00<00:00, 437.76it/s]\n",
            "Eliminating: S: 100%|██████████| 3/3 [00:00<00:00, 228.16it/s]"
          ],
          "name": "stderr"
        },
        {
          "output_type": "stream",
          "text": [
            "\n",
            "\n",
            "Pr(Difficulty=Hard|Grade=C) = 0.63\n",
            "Pr(Intelligent=High|Grade=C) = 0.08\n"
          ],
          "name": "stdout"
        },
        {
          "output_type": "stream",
          "text": [
            "\n"
          ],
          "name": "stderr"
        }
      ]
    },
    {
      "cell_type": "markdown",
      "metadata": {
        "id": "Z2nLT8lYZ2QC"
      },
      "source": [
        "## Posterior given Grade=C, SAT=Good"
      ]
    },
    {
      "cell_type": "code",
      "metadata": {
        "colab": {
          "base_uri": "https://localhost:8080/"
        },
        "id": "NfKdVsChZwrR",
        "outputId": "76c05f75-f633-4fdc-d16f-c5d62fbfa071"
      },
      "source": [
        "evidence = {'G': 'C', 'S': 'Good'}\n",
        "postD = infer.query(['D'],  evidence=evidence).values\n",
        "postI = infer.query(['I'],  evidence=evidence).values\n",
        "\n",
        "print('\\n')\n",
        "print('Pr(Difficulty=Hard|Grade=C,SAT=Good) = {:0.2f}'.format(postD[1]))\n",
        "print('Pr(Intelligent=High|Grade=C,SAT=Good) = {:0.2f}'.format(postI[1]))"
      ],
      "execution_count": 11,
      "outputs": [
        {
          "output_type": "stream",
          "text": [
            "Finding Elimination Order: : 100%|██████████| 2/2 [00:00<00:00, 318.68it/s]\n",
            "Eliminating: I: 100%|██████████| 2/2 [00:00<00:00, 217.54it/s]\n",
            "Finding Elimination Order: : 100%|██████████| 2/2 [00:00<00:00, 310.63it/s]\n",
            "Eliminating: L: 100%|██████████| 2/2 [00:00<00:00, 239.13it/s]"
          ],
          "name": "stderr"
        },
        {
          "output_type": "stream",
          "text": [
            "\n",
            "\n",
            "Pr(Difficulty=Hard|Grade=C,SAT=Good) = 0.76\n",
            "Pr(Intelligent=High|Grade=C,SAT=Good) = 0.58\n"
          ],
          "name": "stdout"
        },
        {
          "output_type": "stream",
          "text": [
            "\n"
          ],
          "name": "stderr"
        }
      ]
    },
    {
      "cell_type": "markdown",
      "metadata": {
        "id": "E5LUO3VSYE5_"
      },
      "source": [
        "# Visualization"
      ]
    },
    {
      "cell_type": "markdown",
      "metadata": {
        "id": "x5jx0FmAf1t7"
      },
      "source": [
        "## DAG"
      ]
    },
    {
      "cell_type": "code",
      "metadata": {
        "colab": {
          "base_uri": "https://localhost:8080/",
          "height": 305
        },
        "id": "MDFzI490YFq9",
        "outputId": "9b6fa262-104f-42f2-859b-1c9bd3893613"
      },
      "source": [
        "model2 = CausalGraphicalModel(nodes = model.nodes(), edges=model.edges())\n",
        "\n",
        "dot = model2.draw()\n",
        "print(type(dot))\n",
        "display(dot)\n",
        "dot.render(filename='student_pgm', format='pdf')\n",
        "# creates student_pgm (a text file of the graph) and student_pgm.pdf"
      ],
      "execution_count": 30,
      "outputs": [
        {
          "output_type": "stream",
          "text": [
            "<class 'graphviz.dot.Digraph'>\n"
          ],
          "name": "stdout"
        },
        {
          "output_type": "display_data",
          "data": {
            "text/plain": [
              "<graphviz.dot.Digraph at 0x7ff4d4781950>"
            ],
            "image/svg+xml": "<?xml version=\"1.0\" encoding=\"UTF-8\" standalone=\"no\"?>\n<!DOCTYPE svg PUBLIC \"-//W3C//DTD SVG 1.1//EN\"\n \"http://www.w3.org/Graphics/SVG/1.1/DTD/svg11.dtd\">\n<!-- Generated by graphviz version 2.40.1 (20161225.0304)\n -->\n<!-- Title: %3 Pages: 1 -->\n<svg width=\"134pt\" height=\"188pt\"\n viewBox=\"0.00 0.00 134.00 188.00\" xmlns=\"http://www.w3.org/2000/svg\" xmlns:xlink=\"http://www.w3.org/1999/xlink\">\n<g id=\"graph0\" class=\"graph\" transform=\"scale(1 1) rotate(0) translate(4 184)\">\n<title>%3</title>\n<polygon fill=\"#ffffff\" stroke=\"transparent\" points=\"-4,4 -4,-184 130,-184 130,4 -4,4\"/>\n<!-- G -->\n<g id=\"node1\" class=\"node\">\n<title>G</title>\n<ellipse fill=\"none\" stroke=\"#000000\" cx=\"27\" cy=\"-90\" rx=\"27\" ry=\"18\"/>\n<text text-anchor=\"middle\" x=\"27\" y=\"-86.3\" font-family=\"Times,serif\" font-size=\"14.00\" fill=\"#000000\">G</text>\n</g>\n<!-- L -->\n<g id=\"node2\" class=\"node\">\n<title>L</title>\n<ellipse fill=\"none\" stroke=\"#000000\" cx=\"27\" cy=\"-18\" rx=\"27\" ry=\"18\"/>\n<text text-anchor=\"middle\" x=\"27\" y=\"-14.3\" font-family=\"Times,serif\" font-size=\"14.00\" fill=\"#000000\">L</text>\n</g>\n<!-- G&#45;&gt;L -->\n<g id=\"edge2\" class=\"edge\">\n<title>G&#45;&gt;L</title>\n<path fill=\"none\" stroke=\"#000000\" d=\"M27,-71.8314C27,-64.131 27,-54.9743 27,-46.4166\"/>\n<polygon fill=\"#000000\" stroke=\"#000000\" points=\"30.5001,-46.4132 27,-36.4133 23.5001,-46.4133 30.5001,-46.4132\"/>\n</g>\n<!-- D -->\n<g id=\"node3\" class=\"node\">\n<title>D</title>\n<ellipse fill=\"none\" stroke=\"#000000\" cx=\"27\" cy=\"-162\" rx=\"27\" ry=\"18\"/>\n<text text-anchor=\"middle\" x=\"27\" y=\"-158.3\" font-family=\"Times,serif\" font-size=\"14.00\" fill=\"#000000\">D</text>\n</g>\n<!-- D&#45;&gt;G -->\n<g id=\"edge1\" class=\"edge\">\n<title>D&#45;&gt;G</title>\n<path fill=\"none\" stroke=\"#000000\" d=\"M27,-143.8314C27,-136.131 27,-126.9743 27,-118.4166\"/>\n<polygon fill=\"#000000\" stroke=\"#000000\" points=\"30.5001,-118.4132 27,-108.4133 23.5001,-118.4133 30.5001,-118.4132\"/>\n</g>\n<!-- S -->\n<g id=\"node4\" class=\"node\">\n<title>S</title>\n<ellipse fill=\"none\" stroke=\"#000000\" cx=\"99\" cy=\"-90\" rx=\"27\" ry=\"18\"/>\n<text text-anchor=\"middle\" x=\"99\" y=\"-86.3\" font-family=\"Times,serif\" font-size=\"14.00\" fill=\"#000000\">S</text>\n</g>\n<!-- I -->\n<g id=\"node5\" class=\"node\">\n<title>I</title>\n<ellipse fill=\"none\" stroke=\"#000000\" cx=\"99\" cy=\"-162\" rx=\"27\" ry=\"18\"/>\n<text text-anchor=\"middle\" x=\"99\" y=\"-158.3\" font-family=\"Times,serif\" font-size=\"14.00\" fill=\"#000000\">I</text>\n</g>\n<!-- I&#45;&gt;G -->\n<g id=\"edge3\" class=\"edge\">\n<title>I&#45;&gt;G</title>\n<path fill=\"none\" stroke=\"#000000\" d=\"M83.7307,-146.7307C73.803,-136.803 60.6847,-123.6847 49.5637,-112.5637\"/>\n<polygon fill=\"#000000\" stroke=\"#000000\" points=\"51.7933,-109.8436 42.2473,-105.2473 46.8436,-114.7933 51.7933,-109.8436\"/>\n</g>\n<!-- I&#45;&gt;S -->\n<g id=\"edge4\" class=\"edge\">\n<title>I&#45;&gt;S</title>\n<path fill=\"none\" stroke=\"#000000\" d=\"M99,-143.8314C99,-136.131 99,-126.9743 99,-118.4166\"/>\n<polygon fill=\"#000000\" stroke=\"#000000\" points=\"102.5001,-118.4132 99,-108.4133 95.5001,-118.4133 102.5001,-118.4132\"/>\n</g>\n</g>\n</svg>\n"
          },
          "metadata": {
            "tags": []
          }
        },
        {
          "output_type": "execute_result",
          "data": {
            "application/vnd.google.colaboratory.intrinsic+json": {
              "type": "string"
            },
            "text/plain": [
              "'student_pgm.pdf'"
            ]
          },
          "metadata": {
            "tags": []
          },
          "execution_count": 30
        }
      ]
    },
    {
      "cell_type": "code",
      "metadata": {
        "colab": {
          "base_uri": "https://localhost:8080/",
          "height": 17
        },
        "id": "l2UUtA5_w15d",
        "outputId": "d676eb34-3425-4c40-f0aa-9780c57ec58a"
      },
      "source": [
        "from google.colab import files\n",
        "files.view('student_pgm') # open text file"
      ],
      "execution_count": 20,
      "outputs": [
        {
          "output_type": "display_data",
          "data": {
            "application/javascript": [
              "\n",
              "      ((filepath) => {{\n",
              "        if (!google.colab.kernel.accessAllowed) {{\n",
              "          return;\n",
              "        }}\n",
              "        google.colab.files.view(filepath);\n",
              "      }})(\"/content/student_pgm\")"
            ],
            "text/plain": [
              "<IPython.core.display.Javascript object>"
            ]
          },
          "metadata": {
            "tags": []
          }
        }
      ]
    },
    {
      "cell_type": "markdown",
      "metadata": {
        "id": "LXTnimbBf3yy"
      },
      "source": [
        "## CPTs"
      ]
    },
    {
      "cell_type": "code",
      "metadata": {
        "id": "Bu3FoIvrxSwy"
      },
      "source": [
        "%run pgmpy_utils.py"
      ],
      "execution_count": 24,
      "outputs": []
    },
    {
      "cell_type": "code",
      "metadata": {
        "id": "hnKm6p_jug5p"
      },
      "source": [
        "\n",
        "import pgmpy_utils as pgm\n"
      ],
      "execution_count": 14,
      "outputs": []
    },
    {
      "cell_type": "code",
      "metadata": {
        "id": "_ujhz9g6eAy6",
        "colab": {
          "base_uri": "https://localhost:8080/",
          "height": 840
        },
        "outputId": "ac8cf0a6-d576-4737-b28a-f19ab7dc5c59"
      },
      "source": [
        "dot = pgm.visualize_model(model)\n",
        "display(dot)\n",
        "dot.render('student_pgm_with_cpt', format='pdf')\n"
      ],
      "execution_count": 31,
      "outputs": [
        {
          "output_type": "display_data",
          "data": {
            "text/plain": [
              "<graphviz.dot.Digraph at 0x7ff4d0674c90>"
            ],
            "image/svg+xml": "<?xml version=\"1.0\" encoding=\"UTF-8\" standalone=\"no\"?>\n<!DOCTYPE svg PUBLIC \"-//W3C//DTD SVG 1.1//EN\"\n \"http://www.w3.org/Graphics/SVG/1.1/DTD/svg11.dtd\">\n<!-- Generated by graphviz version 2.40.1 (20161225.0304)\n -->\n<!-- Title: model_ Pages: 1 -->\n<svg width=\"602pt\" height=\"586pt\"\n viewBox=\"0.00 0.00 601.79 586.29\" xmlns=\"http://www.w3.org/2000/svg\" xmlns:xlink=\"http://www.w3.org/1999/xlink\">\n<g id=\"graph0\" class=\"graph\" transform=\"scale(1 1) rotate(0) translate(4 582.2885)\">\n<title>model_</title>\n<polygon fill=\"#ffffff\" stroke=\"transparent\" points=\"-4,4 -4,-582.2885 597.7925,-582.2885 597.7925,4 -4,4\"/>\n<!-- D -->\n<g id=\"node1\" class=\"node\">\n<title>D</title>\n<ellipse fill=\"none\" stroke=\"#000000\" cx=\"166.1701\" cy=\"-521.0128\" rx=\"65.5227\" ry=\"57.0522\"/>\n<polygon fill=\"none\" stroke=\"#000000\" points=\"131.1701,-533.0128 131.1701,-554.0128 202.1701,-554.0128 202.1701,-533.0128 131.1701,-533.0128\"/>\n<text text-anchor=\"start\" x=\"157.1701\" y=\"-539.8128\" font-family=\"Times,serif\" font-size=\"14.00\" fill=\"#000000\"> D </text>\n<polygon fill=\"none\" stroke=\"#000000\" points=\"131.1701,-510.0128 131.1701,-531.0128 165.1701,-531.0128 165.1701,-510.0128 131.1701,-510.0128\"/>\n<text text-anchor=\"start\" x=\"134.1701\" y=\"-516.8128\" font-family=\"Times,serif\" font-size=\"14.00\" fill=\"#000000\">Easy</text>\n<polygon fill=\"none\" stroke=\"#000000\" points=\"167.1701,-510.0128 167.1701,-531.0128 202.1701,-531.0128 202.1701,-510.0128 167.1701,-510.0128\"/>\n<text text-anchor=\"start\" x=\"170.1701\" y=\"-516.8128\" font-family=\"Times,serif\" font-size=\"14.00\" fill=\"#000000\">Hard</text>\n<polygon fill=\"none\" stroke=\"#000000\" points=\"131.1701,-487.0128 131.1701,-508.0128 165.1701,-508.0128 165.1701,-487.0128 131.1701,-487.0128\"/>\n<text text-anchor=\"start\" x=\"134.6701\" y=\"-493.8128\" font-family=\"Times,serif\" font-size=\"14.00\" fill=\"#000000\">0.60</text>\n<polygon fill=\"none\" stroke=\"#000000\" points=\"167.1701,-487.0128 167.1701,-508.0128 202.1701,-508.0128 202.1701,-487.0128 167.1701,-487.0128\"/>\n<text text-anchor=\"start\" x=\"171.1701\" y=\"-493.8128\" font-family=\"Times,serif\" font-size=\"14.00\" fill=\"#000000\">0.40</text>\n<polygon fill=\"none\" stroke=\"#000000\" points=\"127.6701,-484.5128 127.6701,-557.5128 204.6701,-557.5128 204.6701,-484.5128 127.6701,-484.5128\"/>\n</g>\n<!-- G -->\n<g id=\"node3\" class=\"node\">\n<title>G</title>\n<ellipse fill=\"none\" stroke=\"#000000\" cx=\"166.1701\" cy=\"-321.6711\" rx=\"166.3404\" ry=\"106.1321\"/>\n<polygon fill=\"none\" stroke=\"#000000\" points=\"60.1701,-368.6711 60.1701,-389.6711 273.1701,-389.6711 273.1701,-368.6711 60.1701,-368.6711\"/>\n<text text-anchor=\"start\" x=\"157.1701\" y=\"-375.4711\" font-family=\"Times,serif\" font-size=\"14.00\" fill=\"#000000\"> G </text>\n<polygon fill=\"none\" stroke=\"#000000\" points=\"60.1701,-345.6711 60.1701,-366.6711 166.1701,-366.6711 166.1701,-345.6711 60.1701,-345.6711\"/>\n<text text-anchor=\"start\" x=\"111.1701\" y=\"-352.4711\" font-family=\"Times,serif\" font-size=\"14.00\" fill=\"#000000\"> </text>\n<polygon fill=\"none\" stroke=\"#000000\" points=\"168.1701,-345.6711 168.1701,-366.6711 201.1701,-366.6711 201.1701,-345.6711 168.1701,-345.6711\"/>\n<text text-anchor=\"start\" x=\"179.1701\" y=\"-352.4711\" font-family=\"Times,serif\" font-size=\"14.00\" fill=\"#000000\">A</text>\n<polygon fill=\"none\" stroke=\"#000000\" points=\"203.1701,-345.6711 203.1701,-366.6711 236.1701,-366.6711 236.1701,-345.6711 203.1701,-345.6711\"/>\n<text text-anchor=\"start\" x=\"214.6701\" y=\"-352.4711\" font-family=\"Times,serif\" font-size=\"14.00\" fill=\"#000000\">B</text>\n<polygon fill=\"none\" stroke=\"#000000\" points=\"238.1701,-345.6711 238.1701,-366.6711 271.1701,-366.6711 271.1701,-345.6711 238.1701,-345.6711\"/>\n<text text-anchor=\"start\" x=\"249.6701\" y=\"-352.4711\" font-family=\"Times,serif\" font-size=\"14.00\" fill=\"#000000\">C</text>\n<polygon fill=\"none\" stroke=\"#000000\" points=\"60.1701,-322.6711 60.1701,-343.6711 166.1701,-343.6711 166.1701,-322.6711 60.1701,-322.6711\"/>\n<text text-anchor=\"start\" x=\"74.1701\" y=\"-329.4711\" font-family=\"Times,serif\" font-size=\"14.00\" fill=\"#000000\">(Dumb Easy)</text>\n<polygon fill=\"none\" stroke=\"#000000\" points=\"168.1701,-322.6711 168.1701,-343.6711 201.1701,-343.6711 201.1701,-322.6711 168.1701,-322.6711\"/>\n<text text-anchor=\"start\" x=\"171.1701\" y=\"-329.4711\" font-family=\"Times,serif\" font-size=\"14.00\" fill=\"#000000\">0.30</text>\n<polygon fill=\"none\" stroke=\"#000000\" points=\"203.1701,-322.6711 203.1701,-343.6711 236.1701,-343.6711 236.1701,-322.6711 203.1701,-322.6711\"/>\n<text text-anchor=\"start\" x=\"206.1701\" y=\"-329.4711\" font-family=\"Times,serif\" font-size=\"14.00\" fill=\"#000000\">0.40</text>\n<polygon fill=\"none\" stroke=\"#000000\" points=\"238.1701,-322.6711 238.1701,-343.6711 271.1701,-343.6711 271.1701,-322.6711 238.1701,-322.6711\"/>\n<text text-anchor=\"start\" x=\"241.1701\" y=\"-329.4711\" font-family=\"Times,serif\" font-size=\"14.00\" fill=\"#000000\">0.30</text>\n<polygon fill=\"none\" stroke=\"#000000\" points=\"60.1701,-299.6711 60.1701,-320.6711 166.1701,-320.6711 166.1701,-299.6711 60.1701,-299.6711\"/>\n<text text-anchor=\"start\" x=\"73.6701\" y=\"-306.4711\" font-family=\"Times,serif\" font-size=\"14.00\" fill=\"#000000\">(Dumb Hard)</text>\n<polygon fill=\"none\" stroke=\"#000000\" points=\"168.1701,-299.6711 168.1701,-320.6711 201.1701,-320.6711 201.1701,-299.6711 168.1701,-299.6711\"/>\n<text text-anchor=\"start\" x=\"171.1701\" y=\"-306.4711\" font-family=\"Times,serif\" font-size=\"14.00\" fill=\"#000000\">0.90</text>\n<polygon fill=\"none\" stroke=\"#000000\" points=\"203.1701,-299.6711 203.1701,-320.6711 236.1701,-320.6711 236.1701,-299.6711 203.1701,-299.6711\"/>\n<text text-anchor=\"start\" x=\"206.1701\" y=\"-306.4711\" font-family=\"Times,serif\" font-size=\"14.00\" fill=\"#000000\">0.08</text>\n<polygon fill=\"none\" stroke=\"#000000\" points=\"238.1701,-299.6711 238.1701,-320.6711 271.1701,-320.6711 271.1701,-299.6711 238.1701,-299.6711\"/>\n<text text-anchor=\"start\" x=\"241.1701\" y=\"-306.4711\" font-family=\"Times,serif\" font-size=\"14.00\" fill=\"#000000\">0.02</text>\n<polygon fill=\"none\" stroke=\"#000000\" points=\"60.1701,-276.6711 60.1701,-297.6711 166.1701,-297.6711 166.1701,-276.6711 60.1701,-276.6711\"/>\n<text text-anchor=\"start\" x=\"63.6701\" y=\"-283.4711\" font-family=\"Times,serif\" font-size=\"14.00\" fill=\"#000000\">(Intelligent Easy)</text>\n<polygon fill=\"none\" stroke=\"#000000\" points=\"168.1701,-276.6711 168.1701,-297.6711 201.1701,-297.6711 201.1701,-276.6711 168.1701,-276.6711\"/>\n<text text-anchor=\"start\" x=\"171.1701\" y=\"-283.4711\" font-family=\"Times,serif\" font-size=\"14.00\" fill=\"#000000\">0.05</text>\n<polygon fill=\"none\" stroke=\"#000000\" points=\"203.1701,-276.6711 203.1701,-297.6711 236.1701,-297.6711 236.1701,-276.6711 203.1701,-276.6711\"/>\n<text text-anchor=\"start\" x=\"206.1701\" y=\"-283.4711\" font-family=\"Times,serif\" font-size=\"14.00\" fill=\"#000000\">0.25</text>\n<polygon fill=\"none\" stroke=\"#000000\" points=\"238.1701,-276.6711 238.1701,-297.6711 271.1701,-297.6711 271.1701,-276.6711 238.1701,-276.6711\"/>\n<text text-anchor=\"start\" x=\"241.1701\" y=\"-283.4711\" font-family=\"Times,serif\" font-size=\"14.00\" fill=\"#000000\">0.70</text>\n<polygon fill=\"none\" stroke=\"#000000\" points=\"60.1701,-253.6711 60.1701,-274.6711 166.1701,-274.6711 166.1701,-253.6711 60.1701,-253.6711\"/>\n<text text-anchor=\"start\" x=\"63.1701\" y=\"-260.4711\" font-family=\"Times,serif\" font-size=\"14.00\" fill=\"#000000\">(Intelligent Hard)</text>\n<polygon fill=\"none\" stroke=\"#000000\" points=\"168.1701,-253.6711 168.1701,-274.6711 201.1701,-274.6711 201.1701,-253.6711 168.1701,-253.6711\"/>\n<text text-anchor=\"start\" x=\"171.1701\" y=\"-260.4711\" font-family=\"Times,serif\" font-size=\"14.00\" fill=\"#000000\">0.50</text>\n<polygon fill=\"none\" stroke=\"#000000\" points=\"203.1701,-253.6711 203.1701,-274.6711 236.1701,-274.6711 236.1701,-253.6711 203.1701,-253.6711\"/>\n<text text-anchor=\"start\" x=\"206.1701\" y=\"-260.4711\" font-family=\"Times,serif\" font-size=\"14.00\" fill=\"#000000\">0.30</text>\n<polygon fill=\"none\" stroke=\"#000000\" points=\"238.1701,-253.6711 238.1701,-274.6711 271.1701,-274.6711 271.1701,-253.6711 238.1701,-253.6711\"/>\n<text text-anchor=\"start\" x=\"241.1701\" y=\"-260.4711\" font-family=\"Times,serif\" font-size=\"14.00\" fill=\"#000000\">0.20</text>\n<polygon fill=\"none\" stroke=\"#000000\" points=\"56.6701,-250.6711 56.6701,-392.6711 275.6701,-392.6711 275.6701,-250.6711 56.6701,-250.6711\"/>\n</g>\n<!-- D&#45;&gt;G -->\n<g id=\"edge1\" class=\"edge\">\n<title>D&#45;&gt;G</title>\n<path fill=\"none\" stroke=\"#000000\" d=\"M166.1701,-463.6224C166.1701,-455.4327 166.1701,-446.7755 166.1701,-437.9393\"/>\n<polygon fill=\"#000000\" stroke=\"#000000\" points=\"169.6702,-437.9021 166.1701,-427.9022 162.6702,-437.9022 169.6702,-437.9021\"/>\n</g>\n<!-- I -->\n<g id=\"node2\" class=\"node\">\n<title>I</title>\n<ellipse fill=\"none\" stroke=\"#000000\" cx=\"407.1701\" cy=\"-521.0128\" rx=\"92.7622\" ry=\"57.0522\"/>\n<polygon fill=\"none\" stroke=\"#000000\" points=\"353.1701,-533.0128 353.1701,-554.0128 462.1701,-554.0128 462.1701,-533.0128 353.1701,-533.0128\"/>\n<text text-anchor=\"start\" x=\"401.1701\" y=\"-539.8128\" font-family=\"Times,serif\" font-size=\"14.00\" fill=\"#000000\"> I </text>\n<polygon fill=\"none\" stroke=\"#000000\" points=\"353.1701,-510.0128 353.1701,-531.0128 396.1701,-531.0128 396.1701,-510.0128 353.1701,-510.0128\"/>\n<text text-anchor=\"start\" x=\"356.1701\" y=\"-516.8128\" font-family=\"Times,serif\" font-size=\"14.00\" fill=\"#000000\">Dumb</text>\n<polygon fill=\"none\" stroke=\"#000000\" points=\"398.1701,-510.0128 398.1701,-531.0128 462.1701,-531.0128 462.1701,-510.0128 398.1701,-510.0128\"/>\n<text text-anchor=\"start\" x=\"401.1701\" y=\"-516.8128\" font-family=\"Times,serif\" font-size=\"14.00\" fill=\"#000000\">Intelligent</text>\n<polygon fill=\"none\" stroke=\"#000000\" points=\"353.1701,-487.0128 353.1701,-508.0128 396.1701,-508.0128 396.1701,-487.0128 353.1701,-487.0128\"/>\n<text text-anchor=\"start\" x=\"361.1701\" y=\"-493.8128\" font-family=\"Times,serif\" font-size=\"14.00\" fill=\"#000000\">0.70</text>\n<polygon fill=\"none\" stroke=\"#000000\" points=\"398.1701,-487.0128 398.1701,-508.0128 462.1701,-508.0128 462.1701,-487.0128 398.1701,-487.0128\"/>\n<text text-anchor=\"start\" x=\"416.6701\" y=\"-493.8128\" font-family=\"Times,serif\" font-size=\"14.00\" fill=\"#000000\">0.30</text>\n<polygon fill=\"none\" stroke=\"#000000\" points=\"349.6701,-484.5128 349.6701,-557.5128 464.6701,-557.5128 464.6701,-484.5128 349.6701,-484.5128\"/>\n</g>\n<!-- I&#45;&gt;G -->\n<g id=\"edge3\" class=\"edge\">\n<title>I&#45;&gt;G</title>\n<path fill=\"none\" stroke=\"#000000\" d=\"M351.5772,-475.0295C328.93,-456.297 301.9228,-433.9582 275.6234,-412.2048\"/>\n<polygon fill=\"#000000\" stroke=\"#000000\" points=\"277.7972,-409.4606 267.8607,-405.7839 273.3356,-414.8546 277.7972,-409.4606\"/>\n</g>\n<!-- S -->\n<g id=\"node5\" class=\"node\">\n<title>S</title>\n<ellipse fill=\"none\" stroke=\"#000000\" cx=\"472.1701\" cy=\"-321.6711\" rx=\"121.7449\" ry=\"73.5782\"/>\n<polygon fill=\"none\" stroke=\"#000000\" points=\"397.1701,-345.6711 397.1701,-366.6711 547.1701,-366.6711 547.1701,-345.6711 397.1701,-345.6711\"/>\n<text text-anchor=\"start\" x=\"464.1701\" y=\"-352.4711\" font-family=\"Times,serif\" font-size=\"14.00\" fill=\"#000000\"> S </text>\n<polygon fill=\"none\" stroke=\"#000000\" points=\"397.1701,-322.6711 397.1701,-343.6711 470.1701,-343.6711 470.1701,-322.6711 397.1701,-322.6711\"/>\n<text text-anchor=\"start\" x=\"431.6701\" y=\"-329.4711\" font-family=\"Times,serif\" font-size=\"14.00\" fill=\"#000000\"> </text>\n<polygon fill=\"none\" stroke=\"#000000\" points=\"472.1701,-322.6711 472.1701,-343.6711 505.1701,-343.6711 505.1701,-322.6711 472.1701,-322.6711\"/>\n<text text-anchor=\"start\" x=\"476.6701\" y=\"-329.4711\" font-family=\"Times,serif\" font-size=\"14.00\" fill=\"#000000\">Bad</text>\n<polygon fill=\"none\" stroke=\"#000000\" points=\"507.1701,-322.6711 507.1701,-343.6711 547.1701,-343.6711 547.1701,-322.6711 507.1701,-322.6711\"/>\n<text text-anchor=\"start\" x=\"510.1701\" y=\"-329.4711\" font-family=\"Times,serif\" font-size=\"14.00\" fill=\"#000000\">Good</text>\n<polygon fill=\"none\" stroke=\"#000000\" points=\"397.1701,-299.6711 397.1701,-320.6711 470.1701,-320.6711 470.1701,-299.6711 397.1701,-299.6711\"/>\n<text text-anchor=\"start\" x=\"410.6701\" y=\"-306.4711\" font-family=\"Times,serif\" font-size=\"14.00\" fill=\"#000000\">(Dumb)</text>\n<polygon fill=\"none\" stroke=\"#000000\" points=\"472.1701,-299.6711 472.1701,-320.6711 505.1701,-320.6711 505.1701,-299.6711 472.1701,-299.6711\"/>\n<text text-anchor=\"start\" x=\"475.1701\" y=\"-306.4711\" font-family=\"Times,serif\" font-size=\"14.00\" fill=\"#000000\">0.95</text>\n<polygon fill=\"none\" stroke=\"#000000\" points=\"507.1701,-299.6711 507.1701,-320.6711 547.1701,-320.6711 547.1701,-299.6711 507.1701,-299.6711\"/>\n<text text-anchor=\"start\" x=\"513.6701\" y=\"-306.4711\" font-family=\"Times,serif\" font-size=\"14.00\" fill=\"#000000\">0.05</text>\n<polygon fill=\"none\" stroke=\"#000000\" points=\"397.1701,-276.6711 397.1701,-297.6711 470.1701,-297.6711 470.1701,-276.6711 397.1701,-276.6711\"/>\n<text text-anchor=\"start\" x=\"400.1701\" y=\"-283.4711\" font-family=\"Times,serif\" font-size=\"14.00\" fill=\"#000000\">(Intelligent)</text>\n<polygon fill=\"none\" stroke=\"#000000\" points=\"472.1701,-276.6711 472.1701,-297.6711 505.1701,-297.6711 505.1701,-276.6711 472.1701,-276.6711\"/>\n<text text-anchor=\"start\" x=\"475.1701\" y=\"-283.4711\" font-family=\"Times,serif\" font-size=\"14.00\" fill=\"#000000\">0.20</text>\n<polygon fill=\"none\" stroke=\"#000000\" points=\"507.1701,-276.6711 507.1701,-297.6711 547.1701,-297.6711 547.1701,-276.6711 507.1701,-276.6711\"/>\n<text text-anchor=\"start\" x=\"513.6701\" y=\"-283.4711\" font-family=\"Times,serif\" font-size=\"14.00\" fill=\"#000000\">0.80</text>\n<polygon fill=\"none\" stroke=\"#000000\" points=\"394.1701,-273.6711 394.1701,-369.6711 550.1701,-369.6711 550.1701,-273.6711 394.1701,-273.6711\"/>\n</g>\n<!-- I&#45;&gt;S -->\n<g id=\"edge4\" class=\"edge\">\n<title>I&#45;&gt;S</title>\n<path fill=\"none\" stroke=\"#000000\" d=\"M425.5359,-464.6888C431.7259,-445.7051 438.7656,-424.1158 445.4657,-403.5681\"/>\n<polygon fill=\"#000000\" stroke=\"#000000\" points=\"448.8461,-404.4908 448.6187,-393.8984 442.191,-402.3207 448.8461,-404.4908\"/>\n</g>\n<!-- L -->\n<g id=\"node4\" class=\"node\">\n<title>L</title>\n<ellipse fill=\"none\" stroke=\"#000000\" cx=\"166.1701\" cy=\"-89.8026\" rx=\"89.6056\" ry=\"89.6056\"/>\n<polygon fill=\"none\" stroke=\"#000000\" points=\"114.1701,-124.8026 114.1701,-145.8026 219.1701,-145.8026 219.1701,-124.8026 114.1701,-124.8026\"/>\n<text text-anchor=\"start\" x=\"158.6701\" y=\"-131.6026\" font-family=\"Times,serif\" font-size=\"14.00\" fill=\"#000000\"> L </text>\n<polygon fill=\"none\" stroke=\"#000000\" points=\"114.1701,-101.8026 114.1701,-122.8026 140.1701,-122.8026 140.1701,-101.8026 114.1701,-101.8026\"/>\n<text text-anchor=\"start\" x=\"125.1701\" y=\"-108.6026\" font-family=\"Times,serif\" font-size=\"14.00\" fill=\"#000000\"> </text>\n<polygon fill=\"none\" stroke=\"#000000\" points=\"142.1701,-101.8026 142.1701,-122.8026 175.1701,-122.8026 175.1701,-101.8026 142.1701,-101.8026\"/>\n<text text-anchor=\"start\" x=\"146.6701\" y=\"-108.6026\" font-family=\"Times,serif\" font-size=\"14.00\" fill=\"#000000\">Bad</text>\n<polygon fill=\"none\" stroke=\"#000000\" points=\"177.1701,-101.8026 177.1701,-122.8026 217.1701,-122.8026 217.1701,-101.8026 177.1701,-101.8026\"/>\n<text text-anchor=\"start\" x=\"180.1701\" y=\"-108.6026\" font-family=\"Times,serif\" font-size=\"14.00\" fill=\"#000000\">Good</text>\n<polygon fill=\"none\" stroke=\"#000000\" points=\"114.1701,-78.8026 114.1701,-99.8026 140.1701,-99.8026 140.1701,-78.8026 114.1701,-78.8026\"/>\n<text text-anchor=\"start\" x=\"117.1701\" y=\"-85.6026\" font-family=\"Times,serif\" font-size=\"14.00\" fill=\"#000000\">(A)</text>\n<polygon fill=\"none\" stroke=\"#000000\" points=\"142.1701,-78.8026 142.1701,-99.8026 175.1701,-99.8026 175.1701,-78.8026 142.1701,-78.8026\"/>\n<text text-anchor=\"start\" x=\"145.1701\" y=\"-85.6026\" font-family=\"Times,serif\" font-size=\"14.00\" fill=\"#000000\">0.10</text>\n<polygon fill=\"none\" stroke=\"#000000\" points=\"177.1701,-78.8026 177.1701,-99.8026 217.1701,-99.8026 217.1701,-78.8026 177.1701,-78.8026\"/>\n<text text-anchor=\"start\" x=\"183.6701\" y=\"-85.6026\" font-family=\"Times,serif\" font-size=\"14.00\" fill=\"#000000\">0.90</text>\n<polygon fill=\"none\" stroke=\"#000000\" points=\"114.1701,-55.8026 114.1701,-76.8026 140.1701,-76.8026 140.1701,-55.8026 114.1701,-55.8026\"/>\n<text text-anchor=\"start\" x=\"117.6701\" y=\"-62.6026\" font-family=\"Times,serif\" font-size=\"14.00\" fill=\"#000000\">(B)</text>\n<polygon fill=\"none\" stroke=\"#000000\" points=\"142.1701,-55.8026 142.1701,-76.8026 175.1701,-76.8026 175.1701,-55.8026 142.1701,-55.8026\"/>\n<text text-anchor=\"start\" x=\"145.1701\" y=\"-62.6026\" font-family=\"Times,serif\" font-size=\"14.00\" fill=\"#000000\">0.40</text>\n<polygon fill=\"none\" stroke=\"#000000\" points=\"177.1701,-55.8026 177.1701,-76.8026 217.1701,-76.8026 217.1701,-55.8026 177.1701,-55.8026\"/>\n<text text-anchor=\"start\" x=\"183.6701\" y=\"-62.6026\" font-family=\"Times,serif\" font-size=\"14.00\" fill=\"#000000\">0.60</text>\n<polygon fill=\"none\" stroke=\"#000000\" points=\"114.1701,-32.8026 114.1701,-53.8026 140.1701,-53.8026 140.1701,-32.8026 114.1701,-32.8026\"/>\n<text text-anchor=\"start\" x=\"117.6701\" y=\"-39.6026\" font-family=\"Times,serif\" font-size=\"14.00\" fill=\"#000000\">(C)</text>\n<polygon fill=\"none\" stroke=\"#000000\" points=\"142.1701,-32.8026 142.1701,-53.8026 175.1701,-53.8026 175.1701,-32.8026 142.1701,-32.8026\"/>\n<text text-anchor=\"start\" x=\"145.1701\" y=\"-39.6026\" font-family=\"Times,serif\" font-size=\"14.00\" fill=\"#000000\">0.99</text>\n<polygon fill=\"none\" stroke=\"#000000\" points=\"177.1701,-32.8026 177.1701,-53.8026 217.1701,-53.8026 217.1701,-32.8026 177.1701,-32.8026\"/>\n<text text-anchor=\"start\" x=\"183.6701\" y=\"-39.6026\" font-family=\"Times,serif\" font-size=\"14.00\" fill=\"#000000\">0.01</text>\n<polygon fill=\"none\" stroke=\"#000000\" points=\"110.6701,-30.3026 110.6701,-149.3026 221.6701,-149.3026 221.6701,-30.3026 110.6701,-30.3026\"/>\n</g>\n<!-- G&#45;&gt;L -->\n<g id=\"edge2\" class=\"edge\">\n<title>G&#45;&gt;L</title>\n<path fill=\"none\" stroke=\"#000000\" d=\"M166.1701,-215.5762C166.1701,-207.0986 166.1701,-198.5502 166.1701,-190.1143\"/>\n<polygon fill=\"#000000\" stroke=\"#000000\" points=\"169.6702,-189.8924 166.1701,-179.8924 162.6702,-189.8924 169.6702,-189.8924\"/>\n</g>\n</g>\n</svg>\n"
          },
          "metadata": {
            "tags": []
          }
        },
        {
          "output_type": "execute_result",
          "data": {
            "application/vnd.google.colaboratory.intrinsic+json": {
              "type": "string"
            },
            "text/plain": [
              "'student_pgm_with_cpt.pdf'"
            ]
          },
          "metadata": {
            "tags": []
          },
          "execution_count": 31
        }
      ]
    },
    {
      "cell_type": "markdown",
      "metadata": {
        "id": "GdtP7ww5f5v0"
      },
      "source": [
        "## Marginals"
      ]
    },
    {
      "cell_type": "code",
      "metadata": {
        "colab": {
          "base_uri": "https://localhost:8080/"
        },
        "id": "2rUHEgV8yTCw",
        "outputId": "4e9eb62d-df63-4ac7-d116-12a4b924fcb7"
      },
      "source": [
        "\n",
        "evidence = {'G': 'C'}\n",
        "marginals = get_marginals(model, evidence)\n",
        "print(marginals)"
      ],
      "execution_count": 26,
      "outputs": [
        {
          "output_type": "stream",
          "text": [
            "Finding Elimination Order: : 100%|██████████| 3/3 [00:00<00:00, 409.00it/s]\n",
            "Eliminating: I: 100%|██████████| 3/3 [00:00<00:00, 506.27it/s]\n",
            "Finding Elimination Order: : 100%|██████████| 3/3 [00:00<00:00, 1213.98it/s]\n",
            "Eliminating: S: 100%|██████████| 3/3 [00:00<00:00, 602.77it/s]\n",
            "Finding Elimination Order: : 100%|██████████| 3/3 [00:00<00:00, 1633.93it/s]\n",
            "Eliminating: I: 100%|██████████| 3/3 [00:00<00:00, 341.04it/s]\n",
            "Finding Elimination Order: : 100%|██████████| 3/3 [00:00<00:00, 910.68it/s]\n",
            "Eliminating: I: 100%|██████████| 3/3 [00:00<00:00, 533.47it/s]"
          ],
          "name": "stderr"
        },
        {
          "output_type": "stream",
          "text": [
            "{'D': array([0.37070938, 0.62929062]), 'G': array([0., 0., 1.]), 'I': array([0.92105263, 0.07894737]), 'L': array([0.99, 0.01]), 'S': array([0.89078947, 0.10921053])}\n"
          ],
          "name": "stdout"
        },
        {
          "output_type": "stream",
          "text": [
            "\n"
          ],
          "name": "stderr"
        }
      ]
    },
    {
      "cell_type": "code",
      "metadata": {
        "colab": {
          "base_uri": "https://localhost:8080/",
          "height": 646
        },
        "id": "hIwLouEyyWnQ",
        "outputId": "04b6836b-053b-4948-aa82-e80fcb6dcf55"
      },
      "source": [
        "dot = visualize_marginals(model, evidence, marginals)\n",
        "display(dot)\n",
        "dot.render('student_pgm_marginals_given_grade', format='pdf')"
      ],
      "execution_count": 32,
      "outputs": [
        {
          "output_type": "display_data",
          "data": {
            "text/plain": [
              "<graphviz.dot.Digraph at 0x7ff4d0664fd0>"
            ],
            "image/svg+xml": "<?xml version=\"1.0\" encoding=\"UTF-8\" standalone=\"no\"?>\n<!DOCTYPE svg PUBLIC \"-//W3C//DTD SVG 1.1//EN\"\n \"http://www.w3.org/Graphics/SVG/1.1/DTD/svg11.dtd\">\n<!-- Generated by graphviz version 2.40.1 (20161225.0304)\n -->\n<!-- Title: pgm Pages: 1 -->\n<svg width=\"328pt\" height=\"456pt\"\n viewBox=\"0.00 0.00 327.61 456.18\" xmlns=\"http://www.w3.org/2000/svg\" xmlns:xlink=\"http://www.w3.org/1999/xlink\">\n<g id=\"graph0\" class=\"graph\" transform=\"scale(1 1) rotate(0) translate(4 452.1808)\">\n<title>pgm</title>\n<polygon fill=\"#ffffff\" stroke=\"transparent\" points=\"-4,4 -4,-452.1808 323.6137,-452.1808 323.6137,4 -4,4\"/>\n<!-- D -->\n<g id=\"node1\" class=\"node\">\n<title>D</title>\n<ellipse fill=\"none\" stroke=\"#000000\" cx=\"65.0538\" cy=\"-390.9052\" rx=\"65.1077\" ry=\"57.0522\"/>\n<polygon fill=\"none\" stroke=\"#000000\" points=\"30.0538,-402.9052 30.0538,-423.9052 100.0538,-423.9052 100.0538,-402.9052 30.0538,-402.9052\"/>\n<text text-anchor=\"start\" x=\"55.5538\" y=\"-409.7052\" font-family=\"Times,serif\" font-size=\"14.00\" fill=\"#000000\"> D </text>\n<polygon fill=\"none\" stroke=\"#000000\" points=\"30.0538,-379.9052 30.0538,-400.9052 65.0538,-400.9052 65.0538,-379.9052 30.0538,-379.9052\"/>\n<text text-anchor=\"start\" x=\"33.5538\" y=\"-386.7052\" font-family=\"Times,serif\" font-size=\"14.00\" fill=\"#000000\">Easy</text>\n<polygon fill=\"none\" stroke=\"#000000\" points=\"67.0538,-379.9052 67.0538,-400.9052 100.0538,-400.9052 100.0538,-379.9052 67.0538,-379.9052\"/>\n<text text-anchor=\"start\" x=\"70.0538\" y=\"-386.7052\" font-family=\"Times,serif\" font-size=\"14.00\" fill=\"#000000\">0.37</text>\n<polygon fill=\"none\" stroke=\"#000000\" points=\"30.0538,-356.9052 30.0538,-377.9052 65.0538,-377.9052 65.0538,-356.9052 30.0538,-356.9052\"/>\n<text text-anchor=\"start\" x=\"33.0538\" y=\"-363.7052\" font-family=\"Times,serif\" font-size=\"14.00\" fill=\"#000000\">Hard</text>\n<polygon fill=\"none\" stroke=\"#000000\" points=\"67.0538,-356.9052 67.0538,-377.9052 100.0538,-377.9052 100.0538,-356.9052 67.0538,-356.9052\"/>\n<text text-anchor=\"start\" x=\"70.0538\" y=\"-363.7052\" font-family=\"Times,serif\" font-size=\"14.00\" fill=\"#000000\">0.63</text>\n<polygon fill=\"none\" stroke=\"#000000\" points=\"27.0538,-354.4052 27.0538,-427.4052 103.0538,-427.4052 103.0538,-354.4052 27.0538,-354.4052\"/>\n</g>\n<!-- G -->\n<g id=\"node2\" class=\"node\">\n<title>G</title>\n<ellipse fill=\"none\" stroke=\"#000000\" cx=\"74.0538\" cy=\"-224.0904\" rx=\"65.5227\" ry=\"73.5782\"/>\n<polygon fill=\"#bebebe\" stroke=\"transparent\" points=\"39.0538,-248.0904 39.0538,-269.0904 110.0538,-269.0904 110.0538,-248.0904 39.0538,-248.0904\"/>\n<polygon fill=\"none\" stroke=\"#000000\" points=\"39.0538,-248.0904 39.0538,-269.0904 110.0538,-269.0904 110.0538,-248.0904 39.0538,-248.0904\"/>\n<text text-anchor=\"start\" x=\"65.0538\" y=\"-254.8904\" font-family=\"Times,serif\" font-size=\"14.00\" fill=\"#000000\"> G </text>\n<polygon fill=\"none\" stroke=\"#000000\" points=\"39.0538,-225.0904 39.0538,-246.0904 56.0538,-246.0904 56.0538,-225.0904 39.0538,-225.0904\"/>\n<text text-anchor=\"start\" x=\"42.0538\" y=\"-231.8904\" font-family=\"Times,serif\" font-size=\"14.00\" fill=\"#000000\">A</text>\n<polygon fill=\"none\" stroke=\"#000000\" points=\"58.0538,-225.0904 58.0538,-246.0904 83.0538,-246.0904 83.0538,-225.0904 58.0538,-225.0904\"/>\n<text text-anchor=\"start\" x=\"61.0538\" y=\"-231.8904\" font-family=\"Times,serif\" font-size=\"14.00\" fill=\"#000000\">0.0</text>\n<polygon fill=\"none\" stroke=\"#000000\" points=\"85.0538,-225.0904 85.0538,-246.0904 110.0538,-246.0904 110.0538,-225.0904 85.0538,-225.0904\"/>\n<text text-anchor=\"start\" x=\"88.0538\" y=\"-231.8904\" font-family=\"Times,serif\" font-size=\"14.00\" fill=\"#000000\">0.0</text>\n<polygon fill=\"none\" stroke=\"#000000\" points=\"39.0538,-202.0904 39.0538,-223.0904 56.0538,-223.0904 56.0538,-202.0904 39.0538,-202.0904\"/>\n<text text-anchor=\"start\" x=\"42.5538\" y=\"-208.8904\" font-family=\"Times,serif\" font-size=\"14.00\" fill=\"#000000\">B</text>\n<polygon fill=\"none\" stroke=\"#000000\" points=\"58.0538,-202.0904 58.0538,-223.0904 83.0538,-223.0904 83.0538,-202.0904 58.0538,-202.0904\"/>\n<text text-anchor=\"start\" x=\"61.0538\" y=\"-208.8904\" font-family=\"Times,serif\" font-size=\"14.00\" fill=\"#000000\">0.0</text>\n<polygon fill=\"none\" stroke=\"#000000\" points=\"85.0538,-202.0904 85.0538,-223.0904 110.0538,-223.0904 110.0538,-202.0904 85.0538,-202.0904\"/>\n<text text-anchor=\"start\" x=\"88.0538\" y=\"-208.8904\" font-family=\"Times,serif\" font-size=\"14.00\" fill=\"#000000\">0.0</text>\n<polygon fill=\"none\" stroke=\"#000000\" points=\"39.0538,-179.0904 39.0538,-200.0904 56.0538,-200.0904 56.0538,-179.0904 39.0538,-179.0904\"/>\n<text text-anchor=\"start\" x=\"42.5538\" y=\"-185.8904\" font-family=\"Times,serif\" font-size=\"14.00\" fill=\"#000000\">C</text>\n<polygon fill=\"none\" stroke=\"#000000\" points=\"58.0538,-179.0904 58.0538,-200.0904 83.0538,-200.0904 83.0538,-179.0904 58.0538,-179.0904\"/>\n<text text-anchor=\"start\" x=\"61.0538\" y=\"-185.8904\" font-family=\"Times,serif\" font-size=\"14.00\" fill=\"#000000\">1.0</text>\n<polygon fill=\"none\" stroke=\"#000000\" points=\"85.0538,-179.0904 85.0538,-200.0904 110.0538,-200.0904 110.0538,-179.0904 85.0538,-179.0904\"/>\n<text text-anchor=\"start\" x=\"88.0538\" y=\"-185.8904\" font-family=\"Times,serif\" font-size=\"14.00\" fill=\"#000000\">1.0</text>\n<polygon fill=\"none\" stroke=\"#000000\" points=\"35.5538,-176.0904 35.5538,-272.0904 112.5538,-272.0904 112.5538,-176.0904 35.5538,-176.0904\"/>\n</g>\n<!-- D&#45;&gt;G -->\n<g id=\"edge1\" class=\"edge\">\n<title>D&#45;&gt;G</title>\n<path fill=\"none\" stroke=\"#000000\" d=\"M68.1511,-333.497C68.6006,-325.1651 69.0709,-316.4487 69.5414,-307.7288\"/>\n<polygon fill=\"#000000\" stroke=\"#000000\" points=\"73.0486,-307.6879 70.0925,-297.5138 66.0587,-307.3107 73.0486,-307.6879\"/>\n</g>\n<!-- L -->\n<g id=\"node4\" class=\"node\">\n<title>L</title>\n<ellipse fill=\"none\" stroke=\"#000000\" cx=\"74.0538\" cy=\"-57.2756\" rx=\"68.6788\" ry=\"57.0522\"/>\n<polygon fill=\"none\" stroke=\"#000000\" points=\"37.0538,-69.2756 37.0538,-90.2756 112.0538,-90.2756 112.0538,-69.2756 37.0538,-69.2756\"/>\n<text text-anchor=\"start\" x=\"66.5538\" y=\"-76.0756\" font-family=\"Times,serif\" font-size=\"14.00\" fill=\"#000000\"> L </text>\n<polygon fill=\"none\" stroke=\"#000000\" points=\"37.0538,-46.2756 37.0538,-67.2756 77.0538,-67.2756 77.0538,-46.2756 37.0538,-46.2756\"/>\n<text text-anchor=\"start\" x=\"45.0538\" y=\"-53.0756\" font-family=\"Times,serif\" font-size=\"14.00\" fill=\"#000000\">Bad</text>\n<polygon fill=\"none\" stroke=\"#000000\" points=\"79.0538,-46.2756 79.0538,-67.2756 112.0538,-67.2756 112.0538,-46.2756 79.0538,-46.2756\"/>\n<text text-anchor=\"start\" x=\"82.0538\" y=\"-53.0756\" font-family=\"Times,serif\" font-size=\"14.00\" fill=\"#000000\">0.99</text>\n<polygon fill=\"none\" stroke=\"#000000\" points=\"37.0538,-23.2756 37.0538,-44.2756 77.0538,-44.2756 77.0538,-23.2756 37.0538,-23.2756\"/>\n<text text-anchor=\"start\" x=\"40.0538\" y=\"-30.0756\" font-family=\"Times,serif\" font-size=\"14.00\" fill=\"#000000\">Good</text>\n<polygon fill=\"none\" stroke=\"#000000\" points=\"79.0538,-23.2756 79.0538,-44.2756 112.0538,-44.2756 112.0538,-23.2756 79.0538,-23.2756\"/>\n<text text-anchor=\"start\" x=\"82.0538\" y=\"-30.0756\" font-family=\"Times,serif\" font-size=\"14.00\" fill=\"#000000\">0.01</text>\n<polygon fill=\"none\" stroke=\"#000000\" points=\"33.5538,-20.7756 33.5538,-93.7756 114.5538,-93.7756 114.5538,-20.7756 33.5538,-20.7756\"/>\n</g>\n<!-- G&#45;&gt;L -->\n<g id=\"edge2\" class=\"edge\">\n<title>G&#45;&gt;L</title>\n<path fill=\"none\" stroke=\"#000000\" d=\"M74.0538,-150.4374C74.0538,-141.9365 74.0538,-133.2985 74.0538,-124.8833\"/>\n<polygon fill=\"#000000\" stroke=\"#000000\" points=\"77.5539,-124.7531 74.0538,-114.7531 70.5539,-124.7532 77.5539,-124.7531\"/>\n</g>\n<!-- I -->\n<g id=\"node3\" class=\"node\">\n<title>I</title>\n<ellipse fill=\"none\" stroke=\"#000000\" cx=\"234.0538\" cy=\"-390.9052\" rx=\"85.6199\" ry=\"57.0522\"/>\n<polygon fill=\"none\" stroke=\"#000000\" points=\"185.0538,-402.9052 185.0538,-423.9052 284.0538,-423.9052 284.0538,-402.9052 185.0538,-402.9052\"/>\n<text text-anchor=\"start\" x=\"228.0538\" y=\"-409.7052\" font-family=\"Times,serif\" font-size=\"14.00\" fill=\"#000000\"> I </text>\n<polygon fill=\"none\" stroke=\"#000000\" points=\"185.0538,-379.9052 185.0538,-400.9052 249.0538,-400.9052 249.0538,-379.9052 185.0538,-379.9052\"/>\n<text text-anchor=\"start\" x=\"198.5538\" y=\"-386.7052\" font-family=\"Times,serif\" font-size=\"14.00\" fill=\"#000000\">Dumb</text>\n<polygon fill=\"none\" stroke=\"#000000\" points=\"251.0538,-379.9052 251.0538,-400.9052 284.0538,-400.9052 284.0538,-379.9052 251.0538,-379.9052\"/>\n<text text-anchor=\"start\" x=\"254.0538\" y=\"-386.7052\" font-family=\"Times,serif\" font-size=\"14.00\" fill=\"#000000\">0.92</text>\n<polygon fill=\"none\" stroke=\"#000000\" points=\"185.0538,-356.9052 185.0538,-377.9052 249.0538,-377.9052 249.0538,-356.9052 185.0538,-356.9052\"/>\n<text text-anchor=\"start\" x=\"188.0538\" y=\"-363.7052\" font-family=\"Times,serif\" font-size=\"14.00\" fill=\"#000000\">Intelligent</text>\n<polygon fill=\"none\" stroke=\"#000000\" points=\"251.0538,-356.9052 251.0538,-377.9052 284.0538,-377.9052 284.0538,-356.9052 251.0538,-356.9052\"/>\n<text text-anchor=\"start\" x=\"254.0538\" y=\"-363.7052\" font-family=\"Times,serif\" font-size=\"14.00\" fill=\"#000000\">0.08</text>\n<polygon fill=\"none\" stroke=\"#000000\" points=\"181.5538,-354.4052 181.5538,-427.4052 286.5538,-427.4052 286.5538,-354.4052 181.5538,-354.4052\"/>\n</g>\n<!-- I&#45;&gt;G -->\n<g id=\"edge3\" class=\"edge\">\n<title>I&#45;&gt;G</title>\n<path fill=\"none\" stroke=\"#000000\" d=\"M187.7752,-342.6554C169.4449,-323.5444 148.2236,-301.4192 129.1123,-281.4939\"/>\n<polygon fill=\"#000000\" stroke=\"#000000\" points=\"131.6241,-279.0565 122.176,-274.2622 126.5722,-283.902 131.6241,-279.0565\"/>\n</g>\n<!-- S -->\n<g id=\"node5\" class=\"node\">\n<title>S</title>\n<ellipse fill=\"none\" stroke=\"#000000\" cx=\"234.0538\" cy=\"-224.0904\" rx=\"68.6788\" ry=\"57.0522\"/>\n<polygon fill=\"none\" stroke=\"#000000\" points=\"197.0538,-236.0904 197.0538,-257.0904 272.0538,-257.0904 272.0538,-236.0904 197.0538,-236.0904\"/>\n<text text-anchor=\"start\" x=\"226.5538\" y=\"-242.8904\" font-family=\"Times,serif\" font-size=\"14.00\" fill=\"#000000\"> S </text>\n<polygon fill=\"none\" stroke=\"#000000\" points=\"197.0538,-213.0904 197.0538,-234.0904 237.0538,-234.0904 237.0538,-213.0904 197.0538,-213.0904\"/>\n<text text-anchor=\"start\" x=\"205.0538\" y=\"-219.8904\" font-family=\"Times,serif\" font-size=\"14.00\" fill=\"#000000\">Bad</text>\n<polygon fill=\"none\" stroke=\"#000000\" points=\"239.0538,-213.0904 239.0538,-234.0904 272.0538,-234.0904 272.0538,-213.0904 239.0538,-213.0904\"/>\n<text text-anchor=\"start\" x=\"242.0538\" y=\"-219.8904\" font-family=\"Times,serif\" font-size=\"14.00\" fill=\"#000000\">0.89</text>\n<polygon fill=\"none\" stroke=\"#000000\" points=\"197.0538,-190.0904 197.0538,-211.0904 237.0538,-211.0904 237.0538,-190.0904 197.0538,-190.0904\"/>\n<text text-anchor=\"start\" x=\"200.0538\" y=\"-196.8904\" font-family=\"Times,serif\" font-size=\"14.00\" fill=\"#000000\">Good</text>\n<polygon fill=\"none\" stroke=\"#000000\" points=\"239.0538,-190.0904 239.0538,-211.0904 272.0538,-211.0904 272.0538,-190.0904 239.0538,-190.0904\"/>\n<text text-anchor=\"start\" x=\"242.5538\" y=\"-196.8904\" font-family=\"Times,serif\" font-size=\"14.00\" fill=\"#000000\">0.11</text>\n<polygon fill=\"none\" stroke=\"#000000\" points=\"193.5538,-187.5904 193.5538,-260.5904 274.5538,-260.5904 274.5538,-187.5904 193.5538,-187.5904\"/>\n</g>\n<!-- I&#45;&gt;S -->\n<g id=\"edge4\" class=\"edge\">\n<title>I&#45;&gt;S</title>\n<path fill=\"none\" stroke=\"#000000\" d=\"M234.0538,-333.497C234.0538,-320.1289 234.0538,-305.7708 234.0538,-291.9971\"/>\n<polygon fill=\"#000000\" stroke=\"#000000\" points=\"237.5539,-291.6044 234.0538,-281.6044 230.5539,-291.6044 237.5539,-291.6044\"/>\n</g>\n</g>\n</svg>\n"
          },
          "metadata": {
            "tags": []
          }
        },
        {
          "output_type": "execute_result",
          "data": {
            "application/vnd.google.colaboratory.intrinsic+json": {
              "type": "string"
            },
            "text/plain": [
              "'student_pgm_marginals_given_grade.pdf'"
            ]
          },
          "metadata": {
            "tags": []
          },
          "execution_count": 32
        }
      ]
    },
    {
      "cell_type": "code",
      "metadata": {
        "colab": {
          "base_uri": "https://localhost:8080/",
          "height": 796
        },
        "id": "GvQFdruIvlu8",
        "outputId": "0149313d-b99a-4508-de83-d92073967f14"
      },
      "source": [
        "\n",
        "evidence = {'G': 'C', 'S': 'Good'}\n",
        "marginals = pgm.get_marginals(model, evidence)\n",
        "print(marginals)\n",
        "\n",
        "dot = visualize_marginals(model, evidence, marginals)\n",
        "display(dot)\n",
        "dot.render('student_pgm_marginals_given_grade_sat', format='pdf')"
      ],
      "execution_count": 38,
      "outputs": [
        {
          "output_type": "stream",
          "text": [
            "Finding Elimination Order: : 100%|██████████| 2/2 [00:00<00:00, 941.59it/s]\n",
            "Eliminating: I: 100%|██████████| 2/2 [00:00<00:00, 396.27it/s]\n",
            "Finding Elimination Order: : 100%|██████████| 2/2 [00:00<00:00, 715.57it/s]\n",
            "Eliminating: L: 100%|██████████| 2/2 [00:00<00:00, 415.07it/s]\n",
            "Finding Elimination Order: : 100%|██████████| 2/2 [00:00<00:00, 282.91it/s]\n",
            "Eliminating: I: 100%|██████████| 2/2 [00:00<00:00, 263.82it/s]"
          ],
          "name": "stderr"
        },
        {
          "output_type": "stream",
          "text": [
            "{'D': array([0.24044002, 0.75955998]), 'G': array([0., 0., 1.]), 'I': array([0.42168675, 0.57831325]), 'L': array([0.99, 0.01]), 'S': array([0., 1.])}\n"
          ],
          "name": "stdout"
        },
        {
          "output_type": "stream",
          "text": [
            "\n"
          ],
          "name": "stderr"
        },
        {
          "output_type": "display_data",
          "data": {
            "text/plain": [
              "<graphviz.dot.Digraph at 0x7ff4d06e95d0>"
            ],
            "image/svg+xml": "<?xml version=\"1.0\" encoding=\"UTF-8\" standalone=\"no\"?>\n<!DOCTYPE svg PUBLIC \"-//W3C//DTD SVG 1.1//EN\"\n \"http://www.w3.org/Graphics/SVG/1.1/DTD/svg11.dtd\">\n<!-- Generated by graphviz version 2.40.1 (20161225.0304)\n -->\n<!-- Title: pgm Pages: 1 -->\n<svg width=\"328pt\" height=\"456pt\"\n viewBox=\"0.00 0.00 327.61 456.18\" xmlns=\"http://www.w3.org/2000/svg\" xmlns:xlink=\"http://www.w3.org/1999/xlink\">\n<g id=\"graph0\" class=\"graph\" transform=\"scale(1 1) rotate(0) translate(4 452.1808)\">\n<title>pgm</title>\n<polygon fill=\"#ffffff\" stroke=\"transparent\" points=\"-4,4 -4,-452.1808 323.6137,-452.1808 323.6137,4 -4,4\"/>\n<!-- D -->\n<g id=\"node1\" class=\"node\">\n<title>D</title>\n<ellipse fill=\"none\" stroke=\"#000000\" cx=\"65.0538\" cy=\"-390.9052\" rx=\"65.1077\" ry=\"57.0522\"/>\n<polygon fill=\"none\" stroke=\"#000000\" points=\"30.0538,-402.9052 30.0538,-423.9052 100.0538,-423.9052 100.0538,-402.9052 30.0538,-402.9052\"/>\n<text text-anchor=\"start\" x=\"55.5538\" y=\"-409.7052\" font-family=\"Times,serif\" font-size=\"14.00\" fill=\"#000000\"> D </text>\n<polygon fill=\"none\" stroke=\"#000000\" points=\"30.0538,-379.9052 30.0538,-400.9052 65.0538,-400.9052 65.0538,-379.9052 30.0538,-379.9052\"/>\n<text text-anchor=\"start\" x=\"33.5538\" y=\"-386.7052\" font-family=\"Times,serif\" font-size=\"14.00\" fill=\"#000000\">Easy</text>\n<polygon fill=\"none\" stroke=\"#000000\" points=\"67.0538,-379.9052 67.0538,-400.9052 100.0538,-400.9052 100.0538,-379.9052 67.0538,-379.9052\"/>\n<text text-anchor=\"start\" x=\"70.0538\" y=\"-386.7052\" font-family=\"Times,serif\" font-size=\"14.00\" fill=\"#000000\">0.24</text>\n<polygon fill=\"none\" stroke=\"#000000\" points=\"30.0538,-356.9052 30.0538,-377.9052 65.0538,-377.9052 65.0538,-356.9052 30.0538,-356.9052\"/>\n<text text-anchor=\"start\" x=\"33.0538\" y=\"-363.7052\" font-family=\"Times,serif\" font-size=\"14.00\" fill=\"#000000\">Hard</text>\n<polygon fill=\"none\" stroke=\"#000000\" points=\"67.0538,-356.9052 67.0538,-377.9052 100.0538,-377.9052 100.0538,-356.9052 67.0538,-356.9052\"/>\n<text text-anchor=\"start\" x=\"70.0538\" y=\"-363.7052\" font-family=\"Times,serif\" font-size=\"14.00\" fill=\"#000000\">0.76</text>\n<polygon fill=\"none\" stroke=\"#000000\" points=\"27.0538,-354.4052 27.0538,-427.4052 103.0538,-427.4052 103.0538,-354.4052 27.0538,-354.4052\"/>\n</g>\n<!-- G -->\n<g id=\"node2\" class=\"node\">\n<title>G</title>\n<ellipse fill=\"none\" stroke=\"#000000\" cx=\"76.0538\" cy=\"-224.0904\" rx=\"65.5227\" ry=\"73.5782\"/>\n<polygon fill=\"#bebebe\" stroke=\"transparent\" points=\"41.0538,-248.0904 41.0538,-269.0904 112.0538,-269.0904 112.0538,-248.0904 41.0538,-248.0904\"/>\n<polygon fill=\"none\" stroke=\"#000000\" points=\"41.0538,-248.0904 41.0538,-269.0904 112.0538,-269.0904 112.0538,-248.0904 41.0538,-248.0904\"/>\n<text text-anchor=\"start\" x=\"67.0538\" y=\"-254.8904\" font-family=\"Times,serif\" font-size=\"14.00\" fill=\"#000000\"> G </text>\n<polygon fill=\"none\" stroke=\"#000000\" points=\"41.0538,-225.0904 41.0538,-246.0904 58.0538,-246.0904 58.0538,-225.0904 41.0538,-225.0904\"/>\n<text text-anchor=\"start\" x=\"44.0538\" y=\"-231.8904\" font-family=\"Times,serif\" font-size=\"14.00\" fill=\"#000000\">A</text>\n<polygon fill=\"none\" stroke=\"#000000\" points=\"60.0538,-225.0904 60.0538,-246.0904 85.0538,-246.0904 85.0538,-225.0904 60.0538,-225.0904\"/>\n<text text-anchor=\"start\" x=\"63.0538\" y=\"-231.8904\" font-family=\"Times,serif\" font-size=\"14.00\" fill=\"#000000\">0.0</text>\n<polygon fill=\"none\" stroke=\"#000000\" points=\"87.0538,-225.0904 87.0538,-246.0904 112.0538,-246.0904 112.0538,-225.0904 87.0538,-225.0904\"/>\n<text text-anchor=\"start\" x=\"90.0538\" y=\"-231.8904\" font-family=\"Times,serif\" font-size=\"14.00\" fill=\"#000000\">0.0</text>\n<polygon fill=\"none\" stroke=\"#000000\" points=\"41.0538,-202.0904 41.0538,-223.0904 58.0538,-223.0904 58.0538,-202.0904 41.0538,-202.0904\"/>\n<text text-anchor=\"start\" x=\"44.5538\" y=\"-208.8904\" font-family=\"Times,serif\" font-size=\"14.00\" fill=\"#000000\">B</text>\n<polygon fill=\"none\" stroke=\"#000000\" points=\"60.0538,-202.0904 60.0538,-223.0904 85.0538,-223.0904 85.0538,-202.0904 60.0538,-202.0904\"/>\n<text text-anchor=\"start\" x=\"63.0538\" y=\"-208.8904\" font-family=\"Times,serif\" font-size=\"14.00\" fill=\"#000000\">0.0</text>\n<polygon fill=\"none\" stroke=\"#000000\" points=\"87.0538,-202.0904 87.0538,-223.0904 112.0538,-223.0904 112.0538,-202.0904 87.0538,-202.0904\"/>\n<text text-anchor=\"start\" x=\"90.0538\" y=\"-208.8904\" font-family=\"Times,serif\" font-size=\"14.00\" fill=\"#000000\">0.0</text>\n<polygon fill=\"none\" stroke=\"#000000\" points=\"41.0538,-179.0904 41.0538,-200.0904 58.0538,-200.0904 58.0538,-179.0904 41.0538,-179.0904\"/>\n<text text-anchor=\"start\" x=\"44.5538\" y=\"-185.8904\" font-family=\"Times,serif\" font-size=\"14.00\" fill=\"#000000\">C</text>\n<polygon fill=\"none\" stroke=\"#000000\" points=\"60.0538,-179.0904 60.0538,-200.0904 85.0538,-200.0904 85.0538,-179.0904 60.0538,-179.0904\"/>\n<text text-anchor=\"start\" x=\"63.0538\" y=\"-185.8904\" font-family=\"Times,serif\" font-size=\"14.00\" fill=\"#000000\">1.0</text>\n<polygon fill=\"none\" stroke=\"#000000\" points=\"87.0538,-179.0904 87.0538,-200.0904 112.0538,-200.0904 112.0538,-179.0904 87.0538,-179.0904\"/>\n<text text-anchor=\"start\" x=\"90.0538\" y=\"-185.8904\" font-family=\"Times,serif\" font-size=\"14.00\" fill=\"#000000\">1.0</text>\n<polygon fill=\"none\" stroke=\"#000000\" points=\"37.5538,-176.0904 37.5538,-272.0904 114.5538,-272.0904 114.5538,-176.0904 37.5538,-176.0904\"/>\n</g>\n<!-- D&#45;&gt;G -->\n<g id=\"edge1\" class=\"edge\">\n<title>D&#45;&gt;G</title>\n<path fill=\"none\" stroke=\"#000000\" d=\"M68.8394,-333.497C69.3888,-325.1651 69.9636,-316.4487 70.5386,-307.7288\"/>\n<polygon fill=\"#000000\" stroke=\"#000000\" points=\"74.0465,-307.7225 71.2122,-297.5138 67.0617,-307.2618 74.0465,-307.7225\"/>\n</g>\n<!-- L -->\n<g id=\"node4\" class=\"node\">\n<title>L</title>\n<ellipse fill=\"none\" stroke=\"#000000\" cx=\"76.0538\" cy=\"-57.2756\" rx=\"68.6788\" ry=\"57.0522\"/>\n<polygon fill=\"none\" stroke=\"#000000\" points=\"39.0538,-69.2756 39.0538,-90.2756 114.0538,-90.2756 114.0538,-69.2756 39.0538,-69.2756\"/>\n<text text-anchor=\"start\" x=\"68.5538\" y=\"-76.0756\" font-family=\"Times,serif\" font-size=\"14.00\" fill=\"#000000\"> L </text>\n<polygon fill=\"none\" stroke=\"#000000\" points=\"39.0538,-46.2756 39.0538,-67.2756 79.0538,-67.2756 79.0538,-46.2756 39.0538,-46.2756\"/>\n<text text-anchor=\"start\" x=\"47.0538\" y=\"-53.0756\" font-family=\"Times,serif\" font-size=\"14.00\" fill=\"#000000\">Bad</text>\n<polygon fill=\"none\" stroke=\"#000000\" points=\"81.0538,-46.2756 81.0538,-67.2756 114.0538,-67.2756 114.0538,-46.2756 81.0538,-46.2756\"/>\n<text text-anchor=\"start\" x=\"84.0538\" y=\"-53.0756\" font-family=\"Times,serif\" font-size=\"14.00\" fill=\"#000000\">0.99</text>\n<polygon fill=\"none\" stroke=\"#000000\" points=\"39.0538,-23.2756 39.0538,-44.2756 79.0538,-44.2756 79.0538,-23.2756 39.0538,-23.2756\"/>\n<text text-anchor=\"start\" x=\"42.0538\" y=\"-30.0756\" font-family=\"Times,serif\" font-size=\"14.00\" fill=\"#000000\">Good</text>\n<polygon fill=\"none\" stroke=\"#000000\" points=\"81.0538,-23.2756 81.0538,-44.2756 114.0538,-44.2756 114.0538,-23.2756 81.0538,-23.2756\"/>\n<text text-anchor=\"start\" x=\"84.0538\" y=\"-30.0756\" font-family=\"Times,serif\" font-size=\"14.00\" fill=\"#000000\">0.01</text>\n<polygon fill=\"none\" stroke=\"#000000\" points=\"35.5538,-20.7756 35.5538,-93.7756 116.5538,-93.7756 116.5538,-20.7756 35.5538,-20.7756\"/>\n</g>\n<!-- G&#45;&gt;L -->\n<g id=\"edge2\" class=\"edge\">\n<title>G&#45;&gt;L</title>\n<path fill=\"none\" stroke=\"#000000\" d=\"M76.0538,-150.4374C76.0538,-141.9365 76.0538,-133.2985 76.0538,-124.8833\"/>\n<polygon fill=\"#000000\" stroke=\"#000000\" points=\"79.5539,-124.7531 76.0538,-114.7531 72.5539,-124.7532 79.5539,-124.7531\"/>\n</g>\n<!-- I -->\n<g id=\"node3\" class=\"node\">\n<title>I</title>\n<ellipse fill=\"none\" stroke=\"#000000\" cx=\"234.0538\" cy=\"-390.9052\" rx=\"85.6199\" ry=\"57.0522\"/>\n<polygon fill=\"none\" stroke=\"#000000\" points=\"185.0538,-402.9052 185.0538,-423.9052 284.0538,-423.9052 284.0538,-402.9052 185.0538,-402.9052\"/>\n<text text-anchor=\"start\" x=\"228.0538\" y=\"-409.7052\" font-family=\"Times,serif\" font-size=\"14.00\" fill=\"#000000\"> I </text>\n<polygon fill=\"none\" stroke=\"#000000\" points=\"185.0538,-379.9052 185.0538,-400.9052 249.0538,-400.9052 249.0538,-379.9052 185.0538,-379.9052\"/>\n<text text-anchor=\"start\" x=\"198.5538\" y=\"-386.7052\" font-family=\"Times,serif\" font-size=\"14.00\" fill=\"#000000\">Dumb</text>\n<polygon fill=\"none\" stroke=\"#000000\" points=\"251.0538,-379.9052 251.0538,-400.9052 284.0538,-400.9052 284.0538,-379.9052 251.0538,-379.9052\"/>\n<text text-anchor=\"start\" x=\"254.0538\" y=\"-386.7052\" font-family=\"Times,serif\" font-size=\"14.00\" fill=\"#000000\">0.42</text>\n<polygon fill=\"none\" stroke=\"#000000\" points=\"185.0538,-356.9052 185.0538,-377.9052 249.0538,-377.9052 249.0538,-356.9052 185.0538,-356.9052\"/>\n<text text-anchor=\"start\" x=\"188.0538\" y=\"-363.7052\" font-family=\"Times,serif\" font-size=\"14.00\" fill=\"#000000\">Intelligent</text>\n<polygon fill=\"none\" stroke=\"#000000\" points=\"251.0538,-356.9052 251.0538,-377.9052 284.0538,-377.9052 284.0538,-356.9052 251.0538,-356.9052\"/>\n<text text-anchor=\"start\" x=\"254.0538\" y=\"-363.7052\" font-family=\"Times,serif\" font-size=\"14.00\" fill=\"#000000\">0.58</text>\n<polygon fill=\"none\" stroke=\"#000000\" points=\"181.5538,-354.4052 181.5538,-427.4052 286.5538,-427.4052 286.5538,-354.4052 181.5538,-354.4052\"/>\n</g>\n<!-- I&#45;&gt;G -->\n<g id=\"edge3\" class=\"edge\">\n<title>I&#45;&gt;G</title>\n<path fill=\"none\" stroke=\"#000000\" d=\"M187.9289,-342.207C170.0794,-323.3616 149.5045,-301.6389 130.9054,-282.0021\"/>\n<polygon fill=\"#000000\" stroke=\"#000000\" points=\"133.3014,-279.4421 123.8836,-274.5886 128.2192,-284.2557 133.3014,-279.4421\"/>\n</g>\n<!-- S -->\n<g id=\"node5\" class=\"node\">\n<title>S</title>\n<ellipse fill=\"none\" stroke=\"#000000\" cx=\"234.0538\" cy=\"-224.0904\" rx=\"62.8651\" ry=\"57.0522\"/>\n<polygon fill=\"#bebebe\" stroke=\"transparent\" points=\"201.0538,-236.0904 201.0538,-257.0904 268.0538,-257.0904 268.0538,-236.0904 201.0538,-236.0904\"/>\n<polygon fill=\"none\" stroke=\"#000000\" points=\"201.0538,-236.0904 201.0538,-257.0904 268.0538,-257.0904 268.0538,-236.0904 201.0538,-236.0904\"/>\n<text text-anchor=\"start\" x=\"226.5538\" y=\"-242.8904\" font-family=\"Times,serif\" font-size=\"14.00\" fill=\"#000000\"> S </text>\n<polygon fill=\"none\" stroke=\"#000000\" points=\"201.0538,-213.0904 201.0538,-234.0904 241.0538,-234.0904 241.0538,-213.0904 201.0538,-213.0904\"/>\n<text text-anchor=\"start\" x=\"209.0538\" y=\"-219.8904\" font-family=\"Times,serif\" font-size=\"14.00\" fill=\"#000000\">Bad</text>\n<polygon fill=\"none\" stroke=\"#000000\" points=\"243.0538,-213.0904 243.0538,-234.0904 268.0538,-234.0904 268.0538,-213.0904 243.0538,-213.0904\"/>\n<text text-anchor=\"start\" x=\"246.0538\" y=\"-219.8904\" font-family=\"Times,serif\" font-size=\"14.00\" fill=\"#000000\">0.0</text>\n<polygon fill=\"none\" stroke=\"#000000\" points=\"201.0538,-190.0904 201.0538,-211.0904 241.0538,-211.0904 241.0538,-190.0904 201.0538,-190.0904\"/>\n<text text-anchor=\"start\" x=\"204.0538\" y=\"-196.8904\" font-family=\"Times,serif\" font-size=\"14.00\" fill=\"#000000\">Good</text>\n<polygon fill=\"none\" stroke=\"#000000\" points=\"243.0538,-190.0904 243.0538,-211.0904 268.0538,-211.0904 268.0538,-190.0904 243.0538,-190.0904\"/>\n<text text-anchor=\"start\" x=\"246.0538\" y=\"-196.8904\" font-family=\"Times,serif\" font-size=\"14.00\" fill=\"#000000\">1.0</text>\n<polygon fill=\"none\" stroke=\"#000000\" points=\"197.5538,-187.5904 197.5538,-260.5904 270.5538,-260.5904 270.5538,-187.5904 197.5538,-187.5904\"/>\n</g>\n<!-- I&#45;&gt;S -->\n<g id=\"edge4\" class=\"edge\">\n<title>I&#45;&gt;S</title>\n<path fill=\"none\" stroke=\"#000000\" d=\"M234.0538,-333.497C234.0538,-320.1289 234.0538,-305.7708 234.0538,-291.9971\"/>\n<polygon fill=\"#000000\" stroke=\"#000000\" points=\"237.5539,-291.6044 234.0538,-281.6044 230.5539,-291.6044 237.5539,-291.6044\"/>\n</g>\n</g>\n</svg>\n"
          },
          "metadata": {
            "tags": []
          }
        },
        {
          "output_type": "execute_result",
          "data": {
            "application/vnd.google.colaboratory.intrinsic+json": {
              "type": "string"
            },
            "text/plain": [
              "'student_pgm_marginals_given_grade_sat.pdf'"
            ]
          },
          "metadata": {
            "tags": []
          },
          "execution_count": 38
        }
      ]
    },
    {
      "cell_type": "code",
      "metadata": {
        "id": "FDxivZgxxJcg"
      },
      "source": [
        ""
      ],
      "execution_count": null,
      "outputs": []
    }
  ]
}