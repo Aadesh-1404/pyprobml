{
  "nbformat": 4,
  "nbformat_minor": 0,
  "metadata": {
    "colab": {
      "name": "numpyro_intro.ipynb",
      "provenance": [],
      "toc_visible": true,
      "include_colab_link": true
    },
    "kernelspec": {
      "name": "python3",
      "display_name": "Python 3"
    },
    "accelerator": "GPU"
  },
  "cells": [
    {
      "cell_type": "markdown",
      "metadata": {
        "id": "view-in-github",
        "colab_type": "text"
      },
      "source": [
        "<a href=\"https://colab.research.google.com/github/probml/pyprobml/blob/master/notebooks/numpyro_intro.ipynb\" target=\"_parent\"><img src=\"https://colab.research.google.com/assets/colab-badge.svg\" alt=\"Open In Colab\"/></a>"
      ]
    },
    {
      "cell_type": "markdown",
      "metadata": {
        "id": "11FOMaCs74vK"
      },
      "source": [
        "[NumPyro](https://github.com/pyro-ppl/numpyro) is probabilistic programming language built on top of JAX. It is very similar to [Pyro](https://pyro.ai/), which is built on top of PyTorch.\n",
        "However, the HMC algorithm in NumPyro \n",
        " [is much faster](https://stackoverflow.com/questions/61846620/numpyro-vs-pyro-why-is-former-100x-faster-and-when-should-i-use-the-latter). \n",
        "\n",
        "Both Pyro flavors are usually also [faster than PyMc3](https://www.kaggle.com/s903124/numpyro-speed-benchmark), and allow for more complex models, since Pyro is integrated into Python.\n",
        "\n",
        "\n"
      ]
    },
    {
      "cell_type": "markdown",
      "metadata": {
        "id": "1FfhOPQUHEdS"
      },
      "source": [
        "# Installation"
      ]
    },
    {
      "cell_type": "code",
      "metadata": {
        "id": "Z5wEIBws1D6i"
      },
      "source": [
        "\n",
        "import numpy as np\n",
        "np.set_printoptions(precision=3)\n",
        "import matplotlib.pyplot as plt\n"
      ],
      "execution_count": 1,
      "outputs": []
    },
    {
      "cell_type": "code",
      "metadata": {
        "id": "Xo0ejB5-7M3-",
        "outputId": "1a191505-7225-4def-9c7b-85e3fa574f2e",
        "colab": {
          "base_uri": "https://localhost:8080/"
        }
      },
      "source": [
        "#https://github.com/pyro-ppl/numpyro/issues/531#issuecomment-826005972\n",
        "# https://github.com/pyro-ppl/numpyro/issues/531\n",
        "# https://forum.pyro.ai/t/gpu-on-colab/2155\n",
        "!pip install numpyro\n",
        "!pip install --upgrade pip\n",
        "!pip install --upgrade jaxlib==0.1.62+cuda110 -f https://storage.googleapis.com/jax-releases/jax_releases.html"
      ],
      "execution_count": 2,
      "outputs": [
        {
          "output_type": "stream",
          "text": [
            "Collecting numpyro\n",
            "\u001b[?25l  Downloading https://files.pythonhosted.org/packages/00/a6/064eedcec968207259acf06cf156c0ea9a6534328bdf7da0e768cfdb3239/numpyro-0.6.0-py3-none-any.whl (218kB)\n",
            "\r\u001b[K     |█▌                              | 10kB 20.4MB/s eta 0:00:01\r\u001b[K     |███                             | 20kB 15.6MB/s eta 0:00:01\r\u001b[K     |████▌                           | 30kB 13.5MB/s eta 0:00:01\r\u001b[K     |██████                          | 40kB 13.1MB/s eta 0:00:01\r\u001b[K     |███████▌                        | 51kB 7.5MB/s eta 0:00:01\r\u001b[K     |█████████                       | 61kB 7.5MB/s eta 0:00:01\r\u001b[K     |██████████▌                     | 71kB 8.5MB/s eta 0:00:01\r\u001b[K     |████████████                    | 81kB 9.3MB/s eta 0:00:01\r\u001b[K     |█████████████▌                  | 92kB 8.8MB/s eta 0:00:01\r\u001b[K     |███████████████                 | 102kB 7.7MB/s eta 0:00:01\r\u001b[K     |████████████████▌               | 112kB 7.7MB/s eta 0:00:01\r\u001b[K     |██████████████████              | 122kB 7.7MB/s eta 0:00:01\r\u001b[K     |███████████████████▌            | 133kB 7.7MB/s eta 0:00:01\r\u001b[K     |█████████████████████           | 143kB 7.7MB/s eta 0:00:01\r\u001b[K     |██████████████████████▌         | 153kB 7.7MB/s eta 0:00:01\r\u001b[K     |████████████████████████        | 163kB 7.7MB/s eta 0:00:01\r\u001b[K     |█████████████████████████▌      | 174kB 7.7MB/s eta 0:00:01\r\u001b[K     |███████████████████████████     | 184kB 7.7MB/s eta 0:00:01\r\u001b[K     |████████████████████████████▌   | 194kB 7.7MB/s eta 0:00:01\r\u001b[K     |██████████████████████████████  | 204kB 7.7MB/s eta 0:00:01\r\u001b[K     |███████████████████████████████▌| 215kB 7.7MB/s eta 0:00:01\r\u001b[K     |████████████████████████████████| 225kB 7.7MB/s \n",
            "\u001b[?25hCollecting jax==0.2.10\n",
            "\u001b[?25l  Downloading https://files.pythonhosted.org/packages/88/9d/2862825b5eddd0df64c78b22cc0b897f0128b1c6494bf39e4849e9e0fade/jax-0.2.10.tar.gz (589kB)\n",
            "\u001b[K     |████████████████████████████████| 593kB 13.0MB/s \n",
            "\u001b[?25hCollecting jaxlib==0.1.62\n",
            "\u001b[?25l  Downloading https://files.pythonhosted.org/packages/7e/75/30f1c643b7edb1309b6d748809042241737fe43127cb41754266eca79250/jaxlib-0.1.62-cp37-none-manylinux2010_x86_64.whl (35.7MB)\n",
            "\u001b[K     |████████████████████████████████| 35.7MB 128kB/s \n",
            "\u001b[?25hRequirement already satisfied: tqdm in /usr/local/lib/python3.7/dist-packages (from numpyro) (4.41.1)\n",
            "Requirement already satisfied: numpy>=1.12 in /usr/local/lib/python3.7/dist-packages (from jax==0.2.10->numpyro) (1.19.5)\n",
            "Requirement already satisfied: absl-py in /usr/local/lib/python3.7/dist-packages (from jax==0.2.10->numpyro) (0.12.0)\n",
            "Requirement already satisfied: opt_einsum in /usr/local/lib/python3.7/dist-packages (from jax==0.2.10->numpyro) (3.3.0)\n",
            "Requirement already satisfied: flatbuffers in /usr/local/lib/python3.7/dist-packages (from jaxlib==0.1.62->numpyro) (1.12)\n",
            "Requirement already satisfied: scipy in /usr/local/lib/python3.7/dist-packages (from jaxlib==0.1.62->numpyro) (1.4.1)\n",
            "Requirement already satisfied: six in /usr/local/lib/python3.7/dist-packages (from absl-py->jax==0.2.10->numpyro) (1.15.0)\n",
            "Building wheels for collected packages: jax\n",
            "  Building wheel for jax (setup.py) ... \u001b[?25l\u001b[?25hdone\n",
            "  Created wheel for jax: filename=jax-0.2.10-cp37-none-any.whl size=679776 sha256=e08019f9a8b7f6ae26dc8453d5d37bde28f681b0a509baf06f2621c74e69597e\n",
            "  Stored in directory: /root/.cache/pip/wheels/44/ea/ac/3be3bc19ee3b62f6fe1561eb6df1199284bb6bab819c1befa4\n",
            "Successfully built jax\n",
            "Installing collected packages: jax, jaxlib, numpyro\n",
            "  Found existing installation: jax 0.2.12\n",
            "    Uninstalling jax-0.2.12:\n",
            "      Successfully uninstalled jax-0.2.12\n",
            "  Found existing installation: jaxlib 0.1.65+cuda110\n",
            "    Uninstalling jaxlib-0.1.65+cuda110:\n",
            "      Successfully uninstalled jaxlib-0.1.65+cuda110\n",
            "Successfully installed jax-0.2.10 jaxlib-0.1.62 numpyro-0.6.0\n",
            "Collecting pip\n",
            "\u001b[?25l  Downloading https://files.pythonhosted.org/packages/fe/ef/60d7ba03b5c442309ef42e7d69959f73aacccd0d86008362a681c4698e83/pip-21.0.1-py3-none-any.whl (1.5MB)\n",
            "\u001b[K     |████████████████████████████████| 1.5MB 9.7MB/s \n",
            "\u001b[?25hInstalling collected packages: pip\n",
            "  Found existing installation: pip 19.3.1\n",
            "    Uninstalling pip-19.3.1:\n",
            "      Successfully uninstalled pip-19.3.1\n",
            "Successfully installed pip-21.0.1\n",
            "Looking in links: https://storage.googleapis.com/jax-releases/jax_releases.html\n",
            "Collecting jaxlib==0.1.62+cuda110\n",
            "  Downloading https://storage.googleapis.com/jax-releases/cuda110/jaxlib-0.1.62%2Bcuda110-cp37-none-manylinux2010_x86_64.whl (157.1 MB)\n",
            "\u001b[K     |████████████████████████████████| 157.1 MB 82 kB/s \n",
            "\u001b[?25hRequirement already satisfied: absl-py in /usr/local/lib/python3.7/dist-packages (from jaxlib==0.1.62+cuda110) (0.12.0)\n",
            "Requirement already satisfied: numpy>=1.16 in /usr/local/lib/python3.7/dist-packages (from jaxlib==0.1.62+cuda110) (1.19.5)\n",
            "Requirement already satisfied: scipy in /usr/local/lib/python3.7/dist-packages (from jaxlib==0.1.62+cuda110) (1.4.1)\n",
            "Requirement already satisfied: flatbuffers in /usr/local/lib/python3.7/dist-packages (from jaxlib==0.1.62+cuda110) (1.12)\n",
            "Requirement already satisfied: six in /usr/local/lib/python3.7/dist-packages (from absl-py->jaxlib==0.1.62+cuda110) (1.15.0)\n",
            "Installing collected packages: jaxlib\n",
            "  Attempting uninstall: jaxlib\n",
            "    Found existing installation: jaxlib 0.1.62\n",
            "    Uninstalling jaxlib-0.1.62:\n",
            "      Successfully uninstalled jaxlib-0.1.62\n",
            "Successfully installed jaxlib-0.1.62+cuda110\n"
          ],
          "name": "stdout"
        }
      ]
    },
    {
      "cell_type": "code",
      "metadata": {
        "id": "qB5V5upMOMkP",
        "outputId": "2ac0457e-7a22-4268-9ed6-0c19d8b7a639",
        "colab": {
          "base_uri": "https://localhost:8080/"
        }
      },
      "source": [
        "\n",
        "import jax\n",
        "print(\"jax version {}\".format(jax.__version__))\n",
        "print(\"jax backend {}\".format(jax.lib.xla_bridge.get_backend().platform))\n",
        "\n",
        "import jax.numpy as jnp\n",
        "from jax import random"
      ],
      "execution_count": 3,
      "outputs": [
        {
          "output_type": "stream",
          "text": [
            "jax version 0.2.10\n",
            "jax backend gpu\n"
          ],
          "name": "stdout"
        }
      ]
    },
    {
      "cell_type": "code",
      "metadata": {
        "id": "lfOH0V2Knz_p"
      },
      "source": [
        "import numpyro\n",
        "#numpyro.set_platform('gpu')\n",
        "import numpyro.distributions as dist\n",
        "from numpyro.distributions import constraints\n",
        "from numpyro.distributions.transforms import AffineTransform\n",
        "from numpyro.infer import MCMC, NUTS, Predictive\n",
        "from numpyro.infer import SVI, Trace_ELBO, init_to_value\n",
        "from numpyro.diagnostics import hpdi, print_summary\n",
        "\n",
        "from numpyro.infer.autoguide import AutoLaplaceApproximation\n",
        "\n",
        "rng_key = random.PRNGKey(0)\n",
        "rng_key, rng_key_ = random.split(rng_key)\n",
        "\n"
      ],
      "execution_count": 4,
      "outputs": []
    },
    {
      "cell_type": "markdown",
      "metadata": {
        "id": "CSxk_HEeOOMn"
      },
      "source": [
        "# Example: 1d Gaussian with unknown mean.\n",
        "\n",
        "We use the simple example from the [Pyro intro](https://pyro.ai/examples/intro_part_ii.html#A-Simple-Example). The goal is to infer the weight $\\theta$ of an object, given noisy measurements $y$. We assume the following model:\n",
        "$$\n",
        "\\begin{align}\n",
        "\\theta &\\sim N(\\mu=8.5, \\tau^2=1.0)\\\\ \n",
        "y \\sim &N(\\theta, \\sigma^2=0.75^2)\n",
        "\\end{align}\n",
        "$$\n",
        "\n",
        "Where $\\mu=8.5$ is the initial guess. \n"
      ]
    },
    {
      "cell_type": "markdown",
      "metadata": {
        "id": "U2b74i9h02jf"
      },
      "source": [
        "## Exact inference\n",
        "\n",
        "\n",
        "By Bayes rule for Gaussians, we know that the exact posterior,\n",
        "given a single observation $y=9.5$, is given by\n",
        "\n",
        "\n",
        "$$\n",
        "\\begin{align}\n",
        "\\theta|y &\\sim N(m, s^s) \\\\\n",
        "m &=\\frac{\\sigma^2 \\mu + \\tau^2 y}{\\sigma^2 + \\tau^2} \n",
        "  = \\frac{0.75^2 \\times 8.5 + 1 \\times 9.5}{0.75^2 + 1^2}\n",
        "  = 9.14 \\\\\n",
        "s^2 &= \\frac{\\sigma^2 \\tau^2}{\\sigma^2  + \\tau^2} \n",
        "= \\frac{0.75^2 \\times 1^2}{0.75^2 + 1^2}= 0.6^2\n",
        "\\end{align}\n",
        "$$"
      ]
    },
    {
      "cell_type": "code",
      "metadata": {
        "id": "HwHoLkHhaTTe",
        "colab": {
          "base_uri": "https://localhost:8080/"
        },
        "outputId": "f2a243b6-66a5-4f21-870f-abbadd425ee2"
      },
      "source": [
        "mu = 8.5; tau = 1.0; sigma = 0.75;\n",
        "hparams = (mu, tau, sigma)\n",
        "\n",
        "y = 9.5\n",
        "m = (sigma**2 * mu + tau**2 * y)/(sigma**2 + tau**2)\n",
        "s2 = (sigma**2 * tau**2)/(sigma**2 + tau**2)\n",
        "s = np.sqrt(s2)\n",
        "print(m)\n",
        "print(s)"
      ],
      "execution_count": 17,
      "outputs": [
        {
          "output_type": "stream",
          "text": [
            "9.14\n",
            "0.6\n"
          ],
          "name": "stdout"
        }
      ]
    },
    {
      "cell_type": "code",
      "metadata": {
        "id": "S0cVreqiOLJh"
      },
      "source": [
        "\n",
        "def model(hparams, y=None):\n",
        "    prior_mean, prior_sd, obs_sd = hparams\n",
        "    theta = numpyro.sample(\"theta\", dist.Normal(prior_mean, prior_sd))\n",
        "    y = numpyro.sample(\"y\", dist.Normal(theta, obs_sd), obs=y)\n",
        "    return y\n",
        "    \n",
        "hparams = (mu, tau, sigma)\n"
      ],
      "execution_count": 18,
      "outputs": []
    },
    {
      "cell_type": "markdown",
      "metadata": {
        "id": "VEKpXZkLO9jb"
      },
      "source": [
        "## Ancestral sampling"
      ]
    },
    {
      "cell_type": "code",
      "metadata": {
        "id": "aOjKWT3Pk-f-"
      },
      "source": [
        "def model2(hparams):\n",
        "    prior_mean, prior_sd, obs_sd = hparams\n",
        "    theta = numpyro.sample(\"theta\", dist.Normal(prior_mean, prior_sd))\n",
        "    y = numpyro.sample(\"y\", dist.Normal(theta, obs_sd))\n",
        "    return theta, y"
      ],
      "execution_count": 54,
      "outputs": []
    },
    {
      "cell_type": "code",
      "metadata": {
        "colab": {
          "base_uri": "https://localhost:8080/"
        },
        "id": "feTpLCESkiMN",
        "outputId": "f5f1e1f4-c814-46c8-d922-be5c197567bc"
      },
      "source": [
        "with numpyro.handlers.seed(rng_seed=0):\n",
        "  for i in range(5):\n",
        "    theta, yy = model2(hparams)\n",
        "    print([theta, yy])"
      ],
      "execution_count": 55,
      "outputs": [
        {
          "output_type": "stream",
          "text": [
            "[DeviceArray(7.248, dtype=float32), DeviceArray(6.808, dtype=float32)]\n",
            "[DeviceArray(8.986, dtype=float32), DeviceArray(9.149, dtype=float32)]\n",
            "[DeviceArray(7.851, dtype=float32), DeviceArray(8.856, dtype=float32)]\n",
            "[DeviceArray(9.538, dtype=float32), DeviceArray(8.973, dtype=float32)]\n",
            "[DeviceArray(7.895, dtype=float32), DeviceArray(6.133, dtype=float32)]\n"
          ],
          "name": "stdout"
        }
      ]
    },
    {
      "cell_type": "markdown",
      "metadata": {
        "id": "mc2-_2hqN-vJ"
      },
      "source": [
        "## MCMC\n",
        "\n",
        "See [the documentation](https://num.pyro.ai/en/stable/mcmc.html)"
      ]
    },
    {
      "cell_type": "code",
      "metadata": {
        "colab": {
          "base_uri": "https://localhost:8080/"
        },
        "id": "reyW7c1mlmus",
        "outputId": "76c6b975-e99b-4cc4-98d0-1d7e115d243d"
      },
      "source": [
        "mu = 8.5; tau = 1.0; sigma = 0.75;\n",
        "hparams = (mu, tau, sigma)\n",
        "\n",
        "conditioned_model = numpyro.handlers.condition(model, {'y': y})\n",
        "nuts_kernel = NUTS(conditioned_model)\n",
        "mcmc = MCMC(nuts_kernel, num_warmup=100, num_samples=1000)\n",
        "mcmc.run(rng_key_, hparams)\n",
        "\n",
        "mcmc.print_summary()\n",
        "samples  = mcmc.get_samples()"
      ],
      "execution_count": 52,
      "outputs": [
        {
          "output_type": "stream",
          "text": [
            "sample: 100%|██████████| 1100/1100 [00:03<00:00, 366.32it/s, 1 steps of size 1.70e+00. acc. prob=0.75]"
          ],
          "name": "stderr"
        },
        {
          "output_type": "stream",
          "text": [
            "\n",
            "                mean       std    median      5.0%     95.0%     n_eff     r_hat\n",
            "     theta      6.95      0.61      6.96      5.90      7.87    565.45      1.00\n",
            "\n",
            "Number of divergences: 0\n"
          ],
          "name": "stdout"
        },
        {
          "output_type": "stream",
          "text": [
            "\n"
          ],
          "name": "stderr"
        }
      ]
    },
    {
      "cell_type": "code",
      "metadata": {
        "colab": {
          "base_uri": "https://localhost:8080/"
        },
        "id": "FLYpKTG1e-Rg",
        "outputId": "06edc7f1-560f-47ff-960e-c28512365550"
      },
      "source": [
        "print(type(samples))\n",
        "print(type(samples['theta']))\n",
        "print(samples['theta'].shape)"
      ],
      "execution_count": 53,
      "outputs": [
        {
          "output_type": "stream",
          "text": [
            "<class 'dict'>\n",
            "<class 'jax.interpreters.xla._DeviceArray'>\n",
            "(1000,)\n"
          ],
          "name": "stdout"
        }
      ]
    },
    {
      "cell_type": "code",
      "metadata": {
        "colab": {
          "base_uri": "https://localhost:8080/"
        },
        "id": "lWPM9xxlnWca",
        "outputId": "043d3efe-f8ea-459e-bd02-91c62ce13486"
      },
      "source": [
        "mu = 8.5; tau = 1.0; sigma = 0.75;\n",
        "hparams = (mu, tau, sigma)\n",
        "\n",
        "nuts_kernel = NUTS(model)\n",
        "mcmc = MCMC(nuts_kernel, num_warmup=100, num_samples=1000)\n",
        "mcmc.run(rng_key_, hparams, y)\n",
        "\n",
        "mcmc.print_summary()\n",
        "samples  = mcmc.get_samples()"
      ],
      "execution_count": 62,
      "outputs": [
        {
          "output_type": "stream",
          "text": [
            "sample: 100%|██████████| 1100/1100 [00:02<00:00, 396.42it/s, 1 steps of size 1.70e+00. acc. prob=0.75]\n"
          ],
          "name": "stderr"
        },
        {
          "output_type": "stream",
          "text": [
            "\n",
            "                mean       std    median      5.0%     95.0%     n_eff     r_hat\n",
            "     theta      6.95      0.61      6.96      5.90      7.87    565.45      1.00\n",
            "\n",
            "Number of divergences: 0\n"
          ],
          "name": "stdout"
        }
      ]
    },
    {
      "cell_type": "markdown",
      "metadata": {
        "id": "7AkoKKxCe1U1"
      },
      "source": [
        "## Stochastic variational inference\n",
        "\n",
        "See [the documentation](https://num.pyro.ai/en/stable/svi.html)"
      ]
    },
    {
      "cell_type": "code",
      "metadata": {
        "id": "2Y2-i127mpz7"
      },
      "source": [
        "# the guide must have the same signature as the model\n",
        "def guide(hparams, y):\n",
        "  prior_mean, prior_sd, obs_sd = hparams\n",
        "  m = numpyro.param(\"m\", y) # location\n",
        "  s = numpyro.param(\"s\", prior_sd, constraint=constraints.positive) # scale\n",
        "  return numpyro.sample(\"theta\", dist.Normal(m, s))\n",
        "\n",
        "\n",
        "\n",
        "# The optimizer wrap these, so have unusual keywords\n",
        "#https://jax.readthedocs.io/en/latest/jax.experimental.optimizers.html\n",
        "\n",
        "#optimizer = numpyro.optim.Adam(step_size=0.001)\n",
        "optimizer = numpyro.optim.Momentum(step_size=0.001, mass=0.1)\n",
        "#svi = SVI(model, guide, optimizer, Trace_ELBO(), hparams=hparams, y=y) # specify static args to model/guide\n",
        "svi = SVI(model, guide, optimizer, loss=Trace_ELBO())\n",
        "nsteps = 2000\n",
        "svi_result = svi.run(rng_key_, nsteps, hparams, y)\n",
        "\n",
        "print(svi_result.params)\n",
        "print(svi_result.losses.shape)\n",
        "plt.plot(svi_result.losses)\n",
        "plt.title(\"ELBO\")\n",
        "plt.xlabel(\"step\")\n",
        "plt.ylabel(\"loss\");"
      ],
      "execution_count": null,
      "outputs": []
    },
    {
      "cell_type": "markdown",
      "metadata": {
        "id": "POaURsS0SGHB"
      },
      "source": [
        "## Laplace approximation"
      ]
    },
    {
      "cell_type": "code",
      "metadata": {
        "id": "adfMDI9USI_C",
        "outputId": "1821bd0b-3384-402a-f386-9eb554bbf551",
        "colab": {
          "base_uri": "https://localhost:8080/",
          "height": 315
        }
      },
      "source": [
        "guide_laplace = AutoLaplaceApproximation(model)\n",
        "svi = SVI(model, guide_laplace, optimizer, Trace_ELBO(), hparams=hparams, y=y)\n",
        "post, losses = svi.run(rng_key_, 2000)\n",
        "print(post)\n",
        "\n",
        "plt.figure()\n",
        "plt.plot(losses)"
      ],
      "execution_count": 31,
      "outputs": [
        {
          "output_type": "stream",
          "text": [
            "100%|██████████| 2000/2000 [00:01<00:00, 1542.13it/s, init loss: 155.0839, avg. loss [1901-2000]: 1.8711]\n"
          ],
          "name": "stderr"
        },
        {
          "output_type": "stream",
          "text": [
            "{'auto_loc': DeviceArray([9.118], dtype=float32)}\n"
          ],
          "name": "stdout"
        },
        {
          "output_type": "execute_result",
          "data": {
            "text/plain": [
              "[<matplotlib.lines.Line2D at 0x7fd8264325d0>]"
            ]
          },
          "metadata": {
            "tags": []
          },
          "execution_count": 31
        },
        {
          "output_type": "display_data",
          "data": {
            "image/png": "[encoded data removed]",
            "text/plain": [
              "<Figure size 432x288 with 1 Axes>"
            ]
          },
          "metadata": {
            "tags": [],
            "needs_background": "light"
          }
        }
      ]
    },
    {
      "cell_type": "code",
      "metadata": {
        "id": "bcm4yD-vTXmE",
        "outputId": "b0865cba-ff28-4b5e-d766-e96def354f93",
        "colab": {
          "base_uri": "https://localhost:8080/"
        }
      },
      "source": [
        "samples = guide_laplace.sample_posterior(rng_key_, post, (1000,))\n",
        "print_summary(samples, 0.89, False)"
      ],
      "execution_count": 32,
      "outputs": [
        {
          "output_type": "stream",
          "text": [
            "\n",
            "                mean       std    median      5.5%     94.5%     n_eff     r_hat\n",
            "     theta      9.16      0.61      9.12      8.18     10.04    955.50      1.00\n",
            "\n"
          ],
          "name": "stdout"
        }
      ]
    },
    {
      "cell_type": "markdown",
      "metadata": {
        "id": "F0W7kpNcLyUm"
      },
      "source": [
        "# Example: Beta-Bernoulli model"
      ]
    },
    {
      "cell_type": "markdown",
      "metadata": {
        "id": "V_j08oUgHMC8"
      },
      "source": [
        "# Distributions"
      ]
    },
    {
      "cell_type": "markdown",
      "metadata": {
        "id": "2cu50EWRHmeL"
      },
      "source": [
        "## 1d Gaussian"
      ]
    },
    {
      "cell_type": "code",
      "metadata": {
        "id": "Wv6tBbo-BQBm",
        "colab": {
          "base_uri": "https://localhost:8080/"
        },
        "outputId": "1640386f-0e68-48e7-981e-c517ac85b7eb"
      },
      "source": [
        "# 2 independent 1d gaussians (ie 1 diagonal Gaussian)\n",
        "mu = 1.5\n",
        "sigma = 2\n",
        "d = dist.Normal(mu, sigma)\n",
        "dir(d)"
      ],
      "execution_count": null,
      "outputs": [
        {
          "output_type": "execute_result",
          "data": {
            "text/plain": [
              "['__call__',\n",
              " '__class__',\n",
              " '__delattr__',\n",
              " '__dict__',\n",
              " '__dir__',\n",
              " '__doc__',\n",
              " '__eq__',\n",
              " '__format__',\n",
              " '__ge__',\n",
              " '__getattribute__',\n",
              " '__gt__',\n",
              " '__hash__',\n",
              " '__init__',\n",
              " '__init_subclass__',\n",
              " '__le__',\n",
              " '__lt__',\n",
              " '__module__',\n",
              " '__ne__',\n",
              " '__new__',\n",
              " '__reduce__',\n",
              " '__reduce_ex__',\n",
              " '__repr__',\n",
              " '__setattr__',\n",
              " '__sizeof__',\n",
              " '__str__',\n",
              " '__subclasshook__',\n",
              " '__weakref__',\n",
              " '_batch_shape',\n",
              " '_event_shape',\n",
              " '_validate_args',\n",
              " '_validate_sample',\n",
              " 'arg_constraints',\n",
              " 'batch_shape',\n",
              " 'enumerate_support',\n",
              " 'event_dim',\n",
              " 'event_shape',\n",
              " 'expand',\n",
              " 'expand_by',\n",
              " 'has_enumerate_support',\n",
              " 'icdf',\n",
              " 'is_discrete',\n",
              " 'loc',\n",
              " 'log_prob',\n",
              " 'mask',\n",
              " 'mean',\n",
              " 'reparametrized_params',\n",
              " 'sample',\n",
              " 'sample_with_intermediates',\n",
              " 'scale',\n",
              " 'set_default_validate_args',\n",
              " 'shape',\n",
              " 'support',\n",
              " 'to_event',\n",
              " 'tree_flatten',\n",
              " 'tree_unflatten',\n",
              " 'variance']"
            ]
          },
          "metadata": {
            "tags": []
          },
          "execution_count": 8
        }
      ]
    },
    {
      "cell_type": "code",
      "metadata": {
        "id": "viQgRPMWFH-7",
        "colab": {
          "base_uri": "https://localhost:8080/"
        },
        "outputId": "8d20e45f-caa2-47ef-8a21-156b95fc61ef"
      },
      "source": [
        "rng_key, rng_key_ = random.split(rng_key)\n",
        "nsamples = 1000\n",
        "ys = d.sample(rng_key_, (nsamples,))\n",
        "print(ys.shape)\n",
        "mu_hat = np.mean(ys,0)\n",
        "print(mu_hat)\n",
        "sigma_hat = np.std(ys, 0)\n",
        "print(sigma_hat)"
      ],
      "execution_count": null,
      "outputs": [
        {
          "output_type": "stream",
          "text": [
            "(1000,)\n",
            "1.5070927\n",
            "2.0493808\n"
          ],
          "name": "stdout"
        }
      ]
    },
    {
      "cell_type": "markdown",
      "metadata": {
        "id": "Iir5QxsEHvie"
      },
      "source": [
        "## Multivariate Gaussian\n",
        "\n"
      ]
    },
    {
      "cell_type": "code",
      "metadata": {
        "id": "h6MKLVypCGZY"
      },
      "source": [
        "mu = np.array([-1, 1])\n",
        "sigma = np.array([1, 2])\n",
        "Sigma = np.diag(sigma)\n",
        "d2 = dist.MultivariateNormal(mu, Sigma)"
      ],
      "execution_count": null,
      "outputs": []
    },
    {
      "cell_type": "code",
      "metadata": {
        "id": "d7JQGBXi_7el",
        "colab": {
          "base_uri": "https://localhost:8080/"
        },
        "outputId": "fc953eac-f04e-4071-c2b1-162266220dc5"
      },
      "source": [
        "#rng_key, rng_key_ = random.split(rng_key)\n",
        "nsamples = 1000\n",
        "ys = d2.sample(rng_key_, (nsamples,))\n",
        "print(ys.shape)\n",
        "mu_hat = np.mean(ys,0)\n",
        "print(mu_hat)\n",
        "Sigma_hat = np.cov(ys, rowvar=False) #jax.np.cov not implemented\n",
        "print(Sigma_hat)"
      ],
      "execution_count": null,
      "outputs": [
        {
          "output_type": "stream",
          "text": [
            "(1000, 2)\n",
            "[-1.0127413  1.0091063]\n",
            "[[ 0.9770031  -0.00533966]\n",
            " [-0.00533966  1.9718108 ]]\n"
          ],
          "name": "stdout"
        }
      ]
    },
    {
      "cell_type": "markdown",
      "metadata": {
        "id": "UPyDu5DgIT76"
      },
      "source": [
        "## Shape semantics\n",
        "\n",
        "Numpyro, [Pyro](https://pyro.ai/examples/tensor_shapes.html) and [TFP](https://www.tensorflow.org/probability/examples/Understanding_TensorFlow_Distributions_Shapes) all distinguish between 'event shape' and 'batch shape'.\n",
        "For a D-dimensional Gaussian, the event shape is (D,), and the batch shape\n",
        "will be (), meaning we have a single instance of this distribution.\n",
        "If the covariance is diagonal, we can view this as D independent\n",
        "1d Gaussians, stored along the batch dimension; this will have event shape () but batch shape (2,). \n",
        "\n",
        "When we sample from a distribution, we also specify the sample_shape.\n",
        "Suppose we draw N samples  from a single D-dim diagonal Gaussian,\n",
        "and N samples from D 1d Gaussians. These samples will have the same shape.\n",
        "However, the semantics of logprob differs.\n",
        "We illustrate this below.\n"
      ]
    },
    {
      "cell_type": "code",
      "metadata": {
        "id": "PUYN9T1GIbBb",
        "colab": {
          "base_uri": "https://localhost:8080/"
        },
        "outputId": "b1b26679-7f81-4d0d-9915-7df8ed169b2f"
      },
      "source": [
        "d2 = dist.MultivariateNormal(mu, Sigma)\n",
        "print(f'event shape {d2.event_shape}, batch shape {d2.batch_shape}') \n",
        "nsamples = 3\n",
        "ys2 = d2.sample(rng_key_, (nsamples,))\n",
        "print('samples, shape {}'.format(ys2.shape))\n",
        "print(ys2)\n",
        "\n",
        "# 2 independent 1d gaussians (same as one 2d diagonal Gaussian)\n",
        "d3 = dist.Normal(mu, np.diag(Sigma))\n",
        "print(f'event shape {d3.event_shape}, batch shape {d3.batch_shape}') \n",
        "ys3 = d3.sample(rng_key_, (nsamples,))\n",
        "print('samples, shape {}'.format(ys3.shape))\n",
        "print(ys3)\n",
        "\n",
        "print(np.allclose(ys2, ys3))"
      ],
      "execution_count": null,
      "outputs": [
        {
          "output_type": "stream",
          "text": [
            "event shape (2,), batch shape ()\n",
            "samples, shape (3, 2)\n",
            "[[-0.06819373  0.9942934 ]\n",
            " [-1.740325   -1.0183868 ]\n",
            " [ 0.05969942  2.314332  ]]\n",
            "event shape (), batch shape (2,)\n",
            "samples, shape (3, 2)\n",
            "[[-0.06819373  0.99192965]\n",
            " [-1.740325   -1.85443   ]\n",
            " [ 0.05969942  2.8587465 ]]\n",
            "False\n"
          ],
          "name": "stdout"
        }
      ]
    },
    {
      "cell_type": "code",
      "metadata": {
        "id": "kABLe1ypJob8",
        "colab": {
          "base_uri": "https://localhost:8080/"
        },
        "outputId": "858da445-12d1-41df-e9d4-b6eb693e7706"
      },
      "source": [
        "y = ys2[0,:] # 2 numbers\n",
        "print(d2.log_prob(y)) # log prob of a single 2d distribution on 2d input \n",
        "print(d3.log_prob(y)) # log prob of two 1d distributions on 2d input\n"
      ],
      "execution_count": null,
      "outputs": [
        {
          "output_type": "stream",
          "text": [
            "-2.6185904\n",
            "[-1.35307   -1.6120898]\n"
          ],
          "name": "stdout"
        }
      ]
    },
    {
      "cell_type": "markdown",
      "metadata": {
        "id": "nsB0vIjYLa_6"
      },
      "source": [
        "We can turn a set of independent distributions into a single product\n",
        "distribution using the [Independent class](http://num.pyro.ai/en/stable/distributions.html#independent)\n"
      ]
    },
    {
      "cell_type": "code",
      "metadata": {
        "id": "MXsP_SonLOpl",
        "colab": {
          "base_uri": "https://localhost:8080/"
        },
        "outputId": "3956e5e8-6f28-4221-dc43-51bff9112bef"
      },
      "source": [
        "d4 = dist.Independent(d3, 1) # treat the first batch dimension as an event dimensions\n",
        "print(d4.event_shape)\n",
        "print(d4.batch_shape)\n",
        "print(d4.log_prob(y))"
      ],
      "execution_count": null,
      "outputs": [
        {
          "output_type": "stream",
          "text": [
            "(2,)\n",
            "()\n",
            "-2.96516\n"
          ],
          "name": "stdout"
        }
      ]
    }
  ]
}