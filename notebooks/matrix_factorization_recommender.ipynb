{
  "nbformat": 4,
  "nbformat_minor": 0,
  "metadata": {
    "kernelspec": {
      "name": "python3",
      "display_name": "Python 3"
    },
    "colab": {
      "name": "matrix_factorization_recommender.ipynb",
      "provenance": [],
      "toc_visible": true,
      "include_colab_link": true
    },
    "accelerator": "GPU"
  },
  "cells": [
    {
      "cell_type": "markdown",
      "metadata": {
        "id": "view-in-github",
        "colab_type": "text"
      },
      "source": [
        "<a href=\"https://colab.research.google.com/github/probml/pyprobml/blob/master/book1/recsys/matrix_factorization_recommender.ipynb\" target=\"_parent\"><img src=\"https://colab.research.google.com/assets/colab-badge.svg\" alt=\"Open In Colab\"/></a>"
      ]
    },
    {
      "cell_type": "markdown",
      "metadata": {
        "id": "NTsyA3nxgIhT"
      },
      "source": [
        "# Matrix Factorization for Movie Lens Recommendations \n",
        "\n",
        "First part of notebook is based on  code from Nick Becker \n",
        "\n",
        "https://github.com/beckernick/matrix_factorization_recommenders/blob/master/matrix_factorization_recommender.ipynb\n",
        "\n",
        "\n",
        "\n",
        "\n",
        "\n"
      ]
    },
    {
      "cell_type": "markdown",
      "metadata": {
        "id": "nf5GiG3YgIhd"
      },
      "source": [
        "# Setting Up the Ratings Data\n",
        "\n",
        "We read the data directly from MovieLens website, since they don't allow redistribution. We want to include the metadata (movie titles, etc), not just the ratings matrix.\n"
      ]
    },
    {
      "cell_type": "code",
      "metadata": {
        "id": "aH_UwaAsh1LP"
      },
      "source": [
        "import pandas as pd\n",
        "import numpy as np\n",
        "import os \n",
        "import matplotlib.pyplot as plt\n"
      ],
      "execution_count": null,
      "outputs": []
    },
    {
      "cell_type": "code",
      "metadata": {
        "colab": {
          "base_uri": "https://localhost:8080/"
        },
        "id": "0Pa5k76tYztd",
        "outputId": "fc76f480-625e-42fb-e1fc-2b58af140f34"
      },
      "source": [
        "!wget http://files.grouplens.org/datasets/movielens/ml-100k.zip\n",
        "!ls\n",
        "!unzip ml-100k\n",
        "folder = 'ml-100k'"
      ],
      "execution_count": null,
      "outputs": [
        {
          "output_type": "stream",
          "text": [
            "--2020-12-22 17:01:30--  http://files.grouplens.org/datasets/movielens/ml-100k.zip\n",
            "Resolving files.grouplens.org (files.grouplens.org)... 128.101.65.152\n",
            "Connecting to files.grouplens.org (files.grouplens.org)|128.101.65.152|:80... connected.\n",
            "HTTP request sent, awaiting response... 200 OK\n",
            "Length: 4924029 (4.7M) [application/zip]\n",
            "Saving to: ‘ml-100k.zip.1’\n",
            "\n",
            "ml-100k.zip.1       100%[===================>]   4.70M  23.4MB/s    in 0.2s    \n",
            "\n",
            "2020-12-22 17:01:30 (23.4 MB/s) - ‘ml-100k.zip.1’ saved [4924029/4924029]\n",
            "\n",
            "ml-100k.zip  ml-100k.zip.1  sample_data\n",
            "Archive:  ml-100k.zip\n",
            "   creating: ml-100k/\n",
            "  inflating: ml-100k/allbut.pl       \n",
            "  inflating: ml-100k/mku.sh          \n",
            "  inflating: ml-100k/README          \n",
            "  inflating: ml-100k/u.data          \n",
            "  inflating: ml-100k/u.genre         \n",
            "  inflating: ml-100k/u.info          \n",
            "  inflating: ml-100k/u.item          \n",
            "  inflating: ml-100k/u.occupation    \n",
            "  inflating: ml-100k/u.user          \n",
            "  inflating: ml-100k/u1.base         \n",
            "  inflating: ml-100k/u1.test         \n",
            "  inflating: ml-100k/u2.base         \n",
            "  inflating: ml-100k/u2.test         \n",
            "  inflating: ml-100k/u3.base         \n",
            "  inflating: ml-100k/u3.test         \n",
            "  inflating: ml-100k/u4.base         \n",
            "  inflating: ml-100k/u4.test         \n",
            "  inflating: ml-100k/u5.base         \n",
            "  inflating: ml-100k/u5.test         \n",
            "  inflating: ml-100k/ua.base         \n",
            "  inflating: ml-100k/ua.test         \n",
            "  inflating: ml-100k/ub.base         \n",
            "  inflating: ml-100k/ub.test         \n"
          ],
          "name": "stdout"
        }
      ]
    },
    {
      "cell_type": "code",
      "metadata": {
        "colab": {
          "base_uri": "https://localhost:8080/"
        },
        "id": "THfvnkzah3nv",
        "outputId": "523935d8-242a-4829-9764-d5dd99f46b8f"
      },
      "source": [
        "!wget http://files.grouplens.org/datasets/movielens/ml-1m.zip\n",
        "!unzip ml-1m\n",
        "!ls\n",
        "folder = 'ml-1m'\n"
      ],
      "execution_count": null,
      "outputs": [
        {
          "output_type": "stream",
          "text": [
            "--2020-12-22 21:43:56--  http://files.grouplens.org/datasets/movielens/ml-1m.zip\n",
            "Resolving files.grouplens.org (files.grouplens.org)... 128.101.65.152\n",
            "Connecting to files.grouplens.org (files.grouplens.org)|128.101.65.152|:80... connected.\n",
            "HTTP request sent, awaiting response... 200 OK\n",
            "Length: 5917549 (5.6M) [application/zip]\n",
            "Saving to: ‘ml-1m.zip’\n",
            "\n",
            "ml-1m.zip           100%[===================>]   5.64M  27.0MB/s    in 0.2s    \n",
            "\n",
            "2020-12-22 21:43:56 (27.0 MB/s) - ‘ml-1m.zip’ saved [5917549/5917549]\n",
            "\n",
            "Archive:  ml-1m.zip\n",
            "   creating: ml-1m/\n",
            "  inflating: ml-1m/movies.dat        \n",
            "  inflating: ml-1m/ratings.dat       \n",
            "  inflating: ml-1m/README            \n",
            "  inflating: ml-1m/users.dat         \n",
            "ml-1m  ml-1m.zip  sample_data\n"
          ],
          "name": "stdout"
        }
      ]
    },
    {
      "cell_type": "code",
      "metadata": {
        "collapsed": true,
        "id": "J_zij7tJgIhd"
      },
      "source": [
        "\n",
        "ratings_list = [ [int(x) for x in i.strip().split(\"::\")] for i in open(os.path.join(folder,'ratings.dat'), 'r').readlines()]\n",
        "users_list = [i.strip().split(\"::\") for i in open(os.path.join(folder, 'users.dat'), 'r').readlines()]\n",
        "movies_list = [i.strip().split(\"::\") for i in open(os.path.join(folder, 'movies.dat'), 'r',  encoding=\"latin-1\").readlines()]\n",
        "\n"
      ],
      "execution_count": null,
      "outputs": []
    },
    {
      "cell_type": "code",
      "metadata": {
        "collapsed": true,
        "id": "R8JnjoDVgIhe"
      },
      "source": [
        "ratings_df = pd.DataFrame(ratings_list, columns = ['UserID', 'MovieID', 'Rating', 'Timestamp'], dtype = int)\n",
        "movies_df = pd.DataFrame(movies_list, columns = ['MovieID', 'Title', 'Genres'])\n",
        "movies_df['MovieID'] = movies_df['MovieID'].apply(pd.to_numeric)"
      ],
      "execution_count": null,
      "outputs": []
    },
    {
      "cell_type": "code",
      "metadata": {
        "id": "L06ZLb4CgIhf",
        "colab": {
          "base_uri": "https://localhost:8080/",
          "height": 202
        },
        "outputId": "63c5b64d-55b4-4e44-d690-dbed8ba4a654"
      },
      "source": [
        "movies_df.head()"
      ],
      "execution_count": null,
      "outputs": [
        {
          "output_type": "execute_result",
          "data": {
            "text/html": [
              "<div>\n",
              "<style scoped>\n",
              "    .dataframe tbody tr th:only-of-type {\n",
              "        vertical-align: middle;\n",
              "    }\n",
              "\n",
              "    .dataframe tbody tr th {\n",
              "        vertical-align: top;\n",
              "    }\n",
              "\n",
              "    .dataframe thead th {\n",
              "        text-align: right;\n",
              "    }\n",
              "</style>\n",
              "<table border=\"1\" class=\"dataframe\">\n",
              "  <thead>\n",
              "    <tr style=\"text-align: right;\">\n",
              "      <th></th>\n",
              "      <th>MovieID</th>\n",
              "      <th>Title</th>\n",
              "      <th>Genres</th>\n",
              "    </tr>\n",
              "  </thead>\n",
              "  <tbody>\n",
              "    <tr>\n",
              "      <th>0</th>\n",
              "      <td>1</td>\n",
              "      <td>Toy Story (1995)</td>\n",
              "      <td>Animation|Children's|Comedy</td>\n",
              "    </tr>\n",
              "    <tr>\n",
              "      <th>1</th>\n",
              "      <td>2</td>\n",
              "      <td>Jumanji (1995)</td>\n",
              "      <td>Adventure|Children's|Fantasy</td>\n",
              "    </tr>\n",
              "    <tr>\n",
              "      <th>2</th>\n",
              "      <td>3</td>\n",
              "      <td>Grumpier Old Men (1995)</td>\n",
              "      <td>Comedy|Romance</td>\n",
              "    </tr>\n",
              "    <tr>\n",
              "      <th>3</th>\n",
              "      <td>4</td>\n",
              "      <td>Waiting to Exhale (1995)</td>\n",
              "      <td>Comedy|Drama</td>\n",
              "    </tr>\n",
              "    <tr>\n",
              "      <th>4</th>\n",
              "      <td>5</td>\n",
              "      <td>Father of the Bride Part II (1995)</td>\n",
              "      <td>Comedy</td>\n",
              "    </tr>\n",
              "  </tbody>\n",
              "</table>\n",
              "</div>"
            ],
            "text/plain": [
              "   MovieID                               Title                        Genres\n",
              "0        1                    Toy Story (1995)   Animation|Children's|Comedy\n",
              "1        2                      Jumanji (1995)  Adventure|Children's|Fantasy\n",
              "2        3             Grumpier Old Men (1995)                Comedy|Romance\n",
              "3        4            Waiting to Exhale (1995)                  Comedy|Drama\n",
              "4        5  Father of the Bride Part II (1995)                        Comedy"
            ]
          },
          "metadata": {
            "tags": []
          },
          "execution_count": 7
        }
      ]
    },
    {
      "cell_type": "code",
      "metadata": {
        "colab": {
          "base_uri": "https://localhost:8080/"
        },
        "id": "Tv9rqPfoxvXo",
        "outputId": "74da5a3c-8e57-4114-ffee-696eb31dae8c"
      },
      "source": [
        "def get_movie_name(movies_df, movie_id_str):\n",
        "  ndx = (movies_df['MovieID']==int(movie_id_str))\n",
        "  name = movies_df['Title'][ndx].to_numpy()[0]\n",
        "  return name\n",
        "\n",
        "print(get_movie_name(movies_df, 1))\n",
        "print(get_movie_name(movies_df, \"527\"))"
      ],
      "execution_count": null,
      "outputs": [
        {
          "output_type": "stream",
          "text": [
            "Toy Story (1995)\n",
            "Schindler's List (1993)\n"
          ],
          "name": "stdout"
        }
      ]
    },
    {
      "cell_type": "code",
      "metadata": {
        "colab": {
          "base_uri": "https://localhost:8080/"
        },
        "id": "mrqetJo14NEe",
        "outputId": "eadd8256-c876-4ab9-fd56-c1a8994986a3"
      },
      "source": [
        "def get_movie_genres(movies_df, movie_id_str):\n",
        "  ndx = (movies_df['MovieID']==int(movie_id_str))\n",
        "  name = movies_df['Genres'][ndx].to_numpy()[0]\n",
        "  return name\n",
        "\n",
        "print(get_movie_genres(movies_df, 1))\n",
        "print(get_movie_genres(movies_df, \"527\"))"
      ],
      "execution_count": null,
      "outputs": [
        {
          "output_type": "stream",
          "text": [
            "Animation|Children's|Comedy\n",
            "Drama|War\n"
          ],
          "name": "stdout"
        }
      ]
    },
    {
      "cell_type": "code",
      "metadata": {
        "scrolled": true,
        "id": "a3fua44igIhg",
        "colab": {
          "base_uri": "https://localhost:8080/",
          "height": 202
        },
        "outputId": "9ba5f24d-0529-42b0-e60f-6ec0f181fa86"
      },
      "source": [
        "ratings_df.head()"
      ],
      "execution_count": null,
      "outputs": [
        {
          "output_type": "execute_result",
          "data": {
            "text/html": [
              "<div>\n",
              "<style scoped>\n",
              "    .dataframe tbody tr th:only-of-type {\n",
              "        vertical-align: middle;\n",
              "    }\n",
              "\n",
              "    .dataframe tbody tr th {\n",
              "        vertical-align: top;\n",
              "    }\n",
              "\n",
              "    .dataframe thead th {\n",
              "        text-align: right;\n",
              "    }\n",
              "</style>\n",
              "<table border=\"1\" class=\"dataframe\">\n",
              "  <thead>\n",
              "    <tr style=\"text-align: right;\">\n",
              "      <th></th>\n",
              "      <th>UserID</th>\n",
              "      <th>MovieID</th>\n",
              "      <th>Rating</th>\n",
              "      <th>Timestamp</th>\n",
              "    </tr>\n",
              "  </thead>\n",
              "  <tbody>\n",
              "    <tr>\n",
              "      <th>0</th>\n",
              "      <td>1</td>\n",
              "      <td>1193</td>\n",
              "      <td>5</td>\n",
              "      <td>978300760</td>\n",
              "    </tr>\n",
              "    <tr>\n",
              "      <th>1</th>\n",
              "      <td>1</td>\n",
              "      <td>661</td>\n",
              "      <td>3</td>\n",
              "      <td>978302109</td>\n",
              "    </tr>\n",
              "    <tr>\n",
              "      <th>2</th>\n",
              "      <td>1</td>\n",
              "      <td>914</td>\n",
              "      <td>3</td>\n",
              "      <td>978301968</td>\n",
              "    </tr>\n",
              "    <tr>\n",
              "      <th>3</th>\n",
              "      <td>1</td>\n",
              "      <td>3408</td>\n",
              "      <td>4</td>\n",
              "      <td>978300275</td>\n",
              "    </tr>\n",
              "    <tr>\n",
              "      <th>4</th>\n",
              "      <td>1</td>\n",
              "      <td>2355</td>\n",
              "      <td>5</td>\n",
              "      <td>978824291</td>\n",
              "    </tr>\n",
              "  </tbody>\n",
              "</table>\n",
              "</div>"
            ],
            "text/plain": [
              "   UserID  MovieID  Rating  Timestamp\n",
              "0       1     1193       5  978300760\n",
              "1       1      661       3  978302109\n",
              "2       1      914       3  978301968\n",
              "3       1     3408       4  978300275\n",
              "4       1     2355       5  978824291"
            ]
          },
          "metadata": {
            "tags": []
          },
          "execution_count": 10
        }
      ]
    },
    {
      "cell_type": "markdown",
      "metadata": {
        "id": "Qmf6YmHEgIhh"
      },
      "source": [
        "These look good, but I want the format of my ratings matrix to be one row per user and one column per movie. I'll `pivot` `ratings_df` to get that and call the new variable `R`."
      ]
    },
    {
      "cell_type": "code",
      "metadata": {
        "scrolled": false,
        "id": "Jmysfzc4gIhh",
        "colab": {
          "base_uri": "https://localhost:8080/",
          "height": 282
        },
        "outputId": "610d8a89-3f87-4c22-c05f-429c93c8c71b"
      },
      "source": [
        "R_df = ratings_df.pivot(index = 'UserID', columns ='MovieID', values = 'Rating').fillna(0)\n",
        "R_df.head()"
      ],
      "execution_count": null,
      "outputs": [
        {
          "output_type": "execute_result",
          "data": {
            "text/html": [
              "<div>\n",
              "<style scoped>\n",
              "    .dataframe tbody tr th:only-of-type {\n",
              "        vertical-align: middle;\n",
              "    }\n",
              "\n",
              "    .dataframe tbody tr th {\n",
              "        vertical-align: top;\n",
              "    }\n",
              "\n",
              "    .dataframe thead th {\n",
              "        text-align: right;\n",
              "    }\n",
              "</style>\n",
              "<table border=\"1\" class=\"dataframe\">\n",
              "  <thead>\n",
              "    <tr style=\"text-align: right;\">\n",
              "      <th>MovieID</th>\n",
              "      <th>1</th>\n",
              "      <th>2</th>\n",
              "      <th>3</th>\n",
              "      <th>4</th>\n",
              "      <th>5</th>\n",
              "      <th>6</th>\n",
              "      <th>7</th>\n",
              "      <th>8</th>\n",
              "      <th>9</th>\n",
              "      <th>10</th>\n",
              "      <th>11</th>\n",
              "      <th>12</th>\n",
              "      <th>13</th>\n",
              "      <th>14</th>\n",
              "      <th>15</th>\n",
              "      <th>16</th>\n",
              "      <th>17</th>\n",
              "      <th>18</th>\n",
              "      <th>19</th>\n",
              "      <th>20</th>\n",
              "      <th>21</th>\n",
              "      <th>22</th>\n",
              "      <th>23</th>\n",
              "      <th>24</th>\n",
              "      <th>25</th>\n",
              "      <th>26</th>\n",
              "      <th>27</th>\n",
              "      <th>28</th>\n",
              "      <th>29</th>\n",
              "      <th>30</th>\n",
              "      <th>31</th>\n",
              "      <th>32</th>\n",
              "      <th>33</th>\n",
              "      <th>34</th>\n",
              "      <th>35</th>\n",
              "      <th>36</th>\n",
              "      <th>37</th>\n",
              "      <th>38</th>\n",
              "      <th>39</th>\n",
              "      <th>40</th>\n",
              "      <th>...</th>\n",
              "      <th>3913</th>\n",
              "      <th>3914</th>\n",
              "      <th>3915</th>\n",
              "      <th>3916</th>\n",
              "      <th>3917</th>\n",
              "      <th>3918</th>\n",
              "      <th>3919</th>\n",
              "      <th>3920</th>\n",
              "      <th>3921</th>\n",
              "      <th>3922</th>\n",
              "      <th>3923</th>\n",
              "      <th>3924</th>\n",
              "      <th>3925</th>\n",
              "      <th>3926</th>\n",
              "      <th>3927</th>\n",
              "      <th>3928</th>\n",
              "      <th>3929</th>\n",
              "      <th>3930</th>\n",
              "      <th>3931</th>\n",
              "      <th>3932</th>\n",
              "      <th>3933</th>\n",
              "      <th>3934</th>\n",
              "      <th>3935</th>\n",
              "      <th>3936</th>\n",
              "      <th>3937</th>\n",
              "      <th>3938</th>\n",
              "      <th>3939</th>\n",
              "      <th>3940</th>\n",
              "      <th>3941</th>\n",
              "      <th>3942</th>\n",
              "      <th>3943</th>\n",
              "      <th>3944</th>\n",
              "      <th>3945</th>\n",
              "      <th>3946</th>\n",
              "      <th>3947</th>\n",
              "      <th>3948</th>\n",
              "      <th>3949</th>\n",
              "      <th>3950</th>\n",
              "      <th>3951</th>\n",
              "      <th>3952</th>\n",
              "    </tr>\n",
              "    <tr>\n",
              "      <th>UserID</th>\n",
              "      <th></th>\n",
              "      <th></th>\n",
              "      <th></th>\n",
              "      <th></th>\n",
              "      <th></th>\n",
              "      <th></th>\n",
              "      <th></th>\n",
              "      <th></th>\n",
              "      <th></th>\n",
              "      <th></th>\n",
              "      <th></th>\n",
              "      <th></th>\n",
              "      <th></th>\n",
              "      <th></th>\n",
              "      <th></th>\n",
              "      <th></th>\n",
              "      <th></th>\n",
              "      <th></th>\n",
              "      <th></th>\n",
              "      <th></th>\n",
              "      <th></th>\n",
              "      <th></th>\n",
              "      <th></th>\n",
              "      <th></th>\n",
              "      <th></th>\n",
              "      <th></th>\n",
              "      <th></th>\n",
              "      <th></th>\n",
              "      <th></th>\n",
              "      <th></th>\n",
              "      <th></th>\n",
              "      <th></th>\n",
              "      <th></th>\n",
              "      <th></th>\n",
              "      <th></th>\n",
              "      <th></th>\n",
              "      <th></th>\n",
              "      <th></th>\n",
              "      <th></th>\n",
              "      <th></th>\n",
              "      <th></th>\n",
              "      <th></th>\n",
              "      <th></th>\n",
              "      <th></th>\n",
              "      <th></th>\n",
              "      <th></th>\n",
              "      <th></th>\n",
              "      <th></th>\n",
              "      <th></th>\n",
              "      <th></th>\n",
              "      <th></th>\n",
              "      <th></th>\n",
              "      <th></th>\n",
              "      <th></th>\n",
              "      <th></th>\n",
              "      <th></th>\n",
              "      <th></th>\n",
              "      <th></th>\n",
              "      <th></th>\n",
              "      <th></th>\n",
              "      <th></th>\n",
              "      <th></th>\n",
              "      <th></th>\n",
              "      <th></th>\n",
              "      <th></th>\n",
              "      <th></th>\n",
              "      <th></th>\n",
              "      <th></th>\n",
              "      <th></th>\n",
              "      <th></th>\n",
              "      <th></th>\n",
              "      <th></th>\n",
              "      <th></th>\n",
              "      <th></th>\n",
              "      <th></th>\n",
              "      <th></th>\n",
              "      <th></th>\n",
              "      <th></th>\n",
              "      <th></th>\n",
              "      <th></th>\n",
              "      <th></th>\n",
              "    </tr>\n",
              "  </thead>\n",
              "  <tbody>\n",
              "    <tr>\n",
              "      <th>1</th>\n",
              "      <td>5.0</td>\n",
              "      <td>0.0</td>\n",
              "      <td>0.0</td>\n",
              "      <td>0.0</td>\n",
              "      <td>0.0</td>\n",
              "      <td>0.0</td>\n",
              "      <td>0.0</td>\n",
              "      <td>0.0</td>\n",
              "      <td>0.0</td>\n",
              "      <td>0.0</td>\n",
              "      <td>0.0</td>\n",
              "      <td>0.0</td>\n",
              "      <td>0.0</td>\n",
              "      <td>0.0</td>\n",
              "      <td>0.0</td>\n",
              "      <td>0.0</td>\n",
              "      <td>0.0</td>\n",
              "      <td>0.0</td>\n",
              "      <td>0.0</td>\n",
              "      <td>0.0</td>\n",
              "      <td>0.0</td>\n",
              "      <td>0.0</td>\n",
              "      <td>0.0</td>\n",
              "      <td>0.0</td>\n",
              "      <td>0.0</td>\n",
              "      <td>0.0</td>\n",
              "      <td>0.0</td>\n",
              "      <td>0.0</td>\n",
              "      <td>0.0</td>\n",
              "      <td>0.0</td>\n",
              "      <td>0.0</td>\n",
              "      <td>0.0</td>\n",
              "      <td>0.0</td>\n",
              "      <td>0.0</td>\n",
              "      <td>0.0</td>\n",
              "      <td>0.0</td>\n",
              "      <td>0.0</td>\n",
              "      <td>0.0</td>\n",
              "      <td>0.0</td>\n",
              "      <td>0.0</td>\n",
              "      <td>...</td>\n",
              "      <td>0.0</td>\n",
              "      <td>0.0</td>\n",
              "      <td>0.0</td>\n",
              "      <td>0.0</td>\n",
              "      <td>0.0</td>\n",
              "      <td>0.0</td>\n",
              "      <td>0.0</td>\n",
              "      <td>0.0</td>\n",
              "      <td>0.0</td>\n",
              "      <td>0.0</td>\n",
              "      <td>0.0</td>\n",
              "      <td>0.0</td>\n",
              "      <td>0.0</td>\n",
              "      <td>0.0</td>\n",
              "      <td>0.0</td>\n",
              "      <td>0.0</td>\n",
              "      <td>0.0</td>\n",
              "      <td>0.0</td>\n",
              "      <td>0.0</td>\n",
              "      <td>0.0</td>\n",
              "      <td>0.0</td>\n",
              "      <td>0.0</td>\n",
              "      <td>0.0</td>\n",
              "      <td>0.0</td>\n",
              "      <td>0.0</td>\n",
              "      <td>0.0</td>\n",
              "      <td>0.0</td>\n",
              "      <td>0.0</td>\n",
              "      <td>0.0</td>\n",
              "      <td>0.0</td>\n",
              "      <td>0.0</td>\n",
              "      <td>0.0</td>\n",
              "      <td>0.0</td>\n",
              "      <td>0.0</td>\n",
              "      <td>0.0</td>\n",
              "      <td>0.0</td>\n",
              "      <td>0.0</td>\n",
              "      <td>0.0</td>\n",
              "      <td>0.0</td>\n",
              "      <td>0.0</td>\n",
              "    </tr>\n",
              "    <tr>\n",
              "      <th>2</th>\n",
              "      <td>0.0</td>\n",
              "      <td>0.0</td>\n",
              "      <td>0.0</td>\n",
              "      <td>0.0</td>\n",
              "      <td>0.0</td>\n",
              "      <td>0.0</td>\n",
              "      <td>0.0</td>\n",
              "      <td>0.0</td>\n",
              "      <td>0.0</td>\n",
              "      <td>0.0</td>\n",
              "      <td>0.0</td>\n",
              "      <td>0.0</td>\n",
              "      <td>0.0</td>\n",
              "      <td>0.0</td>\n",
              "      <td>0.0</td>\n",
              "      <td>0.0</td>\n",
              "      <td>0.0</td>\n",
              "      <td>0.0</td>\n",
              "      <td>0.0</td>\n",
              "      <td>0.0</td>\n",
              "      <td>1.0</td>\n",
              "      <td>0.0</td>\n",
              "      <td>0.0</td>\n",
              "      <td>0.0</td>\n",
              "      <td>0.0</td>\n",
              "      <td>0.0</td>\n",
              "      <td>0.0</td>\n",
              "      <td>0.0</td>\n",
              "      <td>0.0</td>\n",
              "      <td>0.0</td>\n",
              "      <td>0.0</td>\n",
              "      <td>0.0</td>\n",
              "      <td>0.0</td>\n",
              "      <td>0.0</td>\n",
              "      <td>0.0</td>\n",
              "      <td>0.0</td>\n",
              "      <td>0.0</td>\n",
              "      <td>0.0</td>\n",
              "      <td>0.0</td>\n",
              "      <td>0.0</td>\n",
              "      <td>...</td>\n",
              "      <td>0.0</td>\n",
              "      <td>0.0</td>\n",
              "      <td>0.0</td>\n",
              "      <td>0.0</td>\n",
              "      <td>0.0</td>\n",
              "      <td>0.0</td>\n",
              "      <td>0.0</td>\n",
              "      <td>0.0</td>\n",
              "      <td>0.0</td>\n",
              "      <td>0.0</td>\n",
              "      <td>0.0</td>\n",
              "      <td>0.0</td>\n",
              "      <td>0.0</td>\n",
              "      <td>0.0</td>\n",
              "      <td>0.0</td>\n",
              "      <td>0.0</td>\n",
              "      <td>0.0</td>\n",
              "      <td>0.0</td>\n",
              "      <td>0.0</td>\n",
              "      <td>0.0</td>\n",
              "      <td>0.0</td>\n",
              "      <td>0.0</td>\n",
              "      <td>0.0</td>\n",
              "      <td>0.0</td>\n",
              "      <td>0.0</td>\n",
              "      <td>0.0</td>\n",
              "      <td>0.0</td>\n",
              "      <td>0.0</td>\n",
              "      <td>0.0</td>\n",
              "      <td>0.0</td>\n",
              "      <td>0.0</td>\n",
              "      <td>0.0</td>\n",
              "      <td>0.0</td>\n",
              "      <td>0.0</td>\n",
              "      <td>0.0</td>\n",
              "      <td>0.0</td>\n",
              "      <td>0.0</td>\n",
              "      <td>0.0</td>\n",
              "      <td>0.0</td>\n",
              "      <td>0.0</td>\n",
              "    </tr>\n",
              "    <tr>\n",
              "      <th>3</th>\n",
              "      <td>0.0</td>\n",
              "      <td>0.0</td>\n",
              "      <td>0.0</td>\n",
              "      <td>0.0</td>\n",
              "      <td>0.0</td>\n",
              "      <td>0.0</td>\n",
              "      <td>0.0</td>\n",
              "      <td>0.0</td>\n",
              "      <td>0.0</td>\n",
              "      <td>0.0</td>\n",
              "      <td>0.0</td>\n",
              "      <td>0.0</td>\n",
              "      <td>0.0</td>\n",
              "      <td>0.0</td>\n",
              "      <td>0.0</td>\n",
              "      <td>0.0</td>\n",
              "      <td>0.0</td>\n",
              "      <td>0.0</td>\n",
              "      <td>0.0</td>\n",
              "      <td>0.0</td>\n",
              "      <td>0.0</td>\n",
              "      <td>0.0</td>\n",
              "      <td>0.0</td>\n",
              "      <td>0.0</td>\n",
              "      <td>0.0</td>\n",
              "      <td>0.0</td>\n",
              "      <td>0.0</td>\n",
              "      <td>0.0</td>\n",
              "      <td>0.0</td>\n",
              "      <td>0.0</td>\n",
              "      <td>0.0</td>\n",
              "      <td>0.0</td>\n",
              "      <td>0.0</td>\n",
              "      <td>0.0</td>\n",
              "      <td>0.0</td>\n",
              "      <td>0.0</td>\n",
              "      <td>0.0</td>\n",
              "      <td>0.0</td>\n",
              "      <td>0.0</td>\n",
              "      <td>0.0</td>\n",
              "      <td>...</td>\n",
              "      <td>0.0</td>\n",
              "      <td>0.0</td>\n",
              "      <td>0.0</td>\n",
              "      <td>0.0</td>\n",
              "      <td>0.0</td>\n",
              "      <td>0.0</td>\n",
              "      <td>0.0</td>\n",
              "      <td>0.0</td>\n",
              "      <td>0.0</td>\n",
              "      <td>0.0</td>\n",
              "      <td>0.0</td>\n",
              "      <td>0.0</td>\n",
              "      <td>0.0</td>\n",
              "      <td>0.0</td>\n",
              "      <td>0.0</td>\n",
              "      <td>0.0</td>\n",
              "      <td>0.0</td>\n",
              "      <td>0.0</td>\n",
              "      <td>0.0</td>\n",
              "      <td>0.0</td>\n",
              "      <td>0.0</td>\n",
              "      <td>0.0</td>\n",
              "      <td>0.0</td>\n",
              "      <td>0.0</td>\n",
              "      <td>0.0</td>\n",
              "      <td>0.0</td>\n",
              "      <td>0.0</td>\n",
              "      <td>0.0</td>\n",
              "      <td>0.0</td>\n",
              "      <td>0.0</td>\n",
              "      <td>0.0</td>\n",
              "      <td>0.0</td>\n",
              "      <td>0.0</td>\n",
              "      <td>0.0</td>\n",
              "      <td>0.0</td>\n",
              "      <td>0.0</td>\n",
              "      <td>0.0</td>\n",
              "      <td>0.0</td>\n",
              "      <td>0.0</td>\n",
              "      <td>0.0</td>\n",
              "    </tr>\n",
              "    <tr>\n",
              "      <th>4</th>\n",
              "      <td>0.0</td>\n",
              "      <td>0.0</td>\n",
              "      <td>0.0</td>\n",
              "      <td>0.0</td>\n",
              "      <td>0.0</td>\n",
              "      <td>0.0</td>\n",
              "      <td>0.0</td>\n",
              "      <td>0.0</td>\n",
              "      <td>0.0</td>\n",
              "      <td>0.0</td>\n",
              "      <td>0.0</td>\n",
              "      <td>0.0</td>\n",
              "      <td>0.0</td>\n",
              "      <td>0.0</td>\n",
              "      <td>0.0</td>\n",
              "      <td>0.0</td>\n",
              "      <td>0.0</td>\n",
              "      <td>0.0</td>\n",
              "      <td>0.0</td>\n",
              "      <td>0.0</td>\n",
              "      <td>0.0</td>\n",
              "      <td>0.0</td>\n",
              "      <td>0.0</td>\n",
              "      <td>0.0</td>\n",
              "      <td>0.0</td>\n",
              "      <td>0.0</td>\n",
              "      <td>0.0</td>\n",
              "      <td>0.0</td>\n",
              "      <td>0.0</td>\n",
              "      <td>0.0</td>\n",
              "      <td>0.0</td>\n",
              "      <td>0.0</td>\n",
              "      <td>0.0</td>\n",
              "      <td>0.0</td>\n",
              "      <td>0.0</td>\n",
              "      <td>0.0</td>\n",
              "      <td>0.0</td>\n",
              "      <td>0.0</td>\n",
              "      <td>0.0</td>\n",
              "      <td>0.0</td>\n",
              "      <td>...</td>\n",
              "      <td>0.0</td>\n",
              "      <td>0.0</td>\n",
              "      <td>0.0</td>\n",
              "      <td>0.0</td>\n",
              "      <td>0.0</td>\n",
              "      <td>0.0</td>\n",
              "      <td>0.0</td>\n",
              "      <td>0.0</td>\n",
              "      <td>0.0</td>\n",
              "      <td>0.0</td>\n",
              "      <td>0.0</td>\n",
              "      <td>0.0</td>\n",
              "      <td>0.0</td>\n",
              "      <td>0.0</td>\n",
              "      <td>0.0</td>\n",
              "      <td>0.0</td>\n",
              "      <td>0.0</td>\n",
              "      <td>0.0</td>\n",
              "      <td>0.0</td>\n",
              "      <td>0.0</td>\n",
              "      <td>0.0</td>\n",
              "      <td>0.0</td>\n",
              "      <td>0.0</td>\n",
              "      <td>0.0</td>\n",
              "      <td>0.0</td>\n",
              "      <td>0.0</td>\n",
              "      <td>0.0</td>\n",
              "      <td>0.0</td>\n",
              "      <td>0.0</td>\n",
              "      <td>0.0</td>\n",
              "      <td>0.0</td>\n",
              "      <td>0.0</td>\n",
              "      <td>0.0</td>\n",
              "      <td>0.0</td>\n",
              "      <td>0.0</td>\n",
              "      <td>0.0</td>\n",
              "      <td>0.0</td>\n",
              "      <td>0.0</td>\n",
              "      <td>0.0</td>\n",
              "      <td>0.0</td>\n",
              "    </tr>\n",
              "    <tr>\n",
              "      <th>5</th>\n",
              "      <td>0.0</td>\n",
              "      <td>0.0</td>\n",
              "      <td>0.0</td>\n",
              "      <td>0.0</td>\n",
              "      <td>0.0</td>\n",
              "      <td>2.0</td>\n",
              "      <td>0.0</td>\n",
              "      <td>0.0</td>\n",
              "      <td>0.0</td>\n",
              "      <td>0.0</td>\n",
              "      <td>0.0</td>\n",
              "      <td>0.0</td>\n",
              "      <td>0.0</td>\n",
              "      <td>0.0</td>\n",
              "      <td>0.0</td>\n",
              "      <td>3.0</td>\n",
              "      <td>0.0</td>\n",
              "      <td>0.0</td>\n",
              "      <td>0.0</td>\n",
              "      <td>0.0</td>\n",
              "      <td>0.0</td>\n",
              "      <td>0.0</td>\n",
              "      <td>0.0</td>\n",
              "      <td>1.0</td>\n",
              "      <td>0.0</td>\n",
              "      <td>0.0</td>\n",
              "      <td>0.0</td>\n",
              "      <td>0.0</td>\n",
              "      <td>5.0</td>\n",
              "      <td>0.0</td>\n",
              "      <td>0.0</td>\n",
              "      <td>4.0</td>\n",
              "      <td>0.0</td>\n",
              "      <td>4.0</td>\n",
              "      <td>0.0</td>\n",
              "      <td>3.0</td>\n",
              "      <td>0.0</td>\n",
              "      <td>0.0</td>\n",
              "      <td>3.0</td>\n",
              "      <td>0.0</td>\n",
              "      <td>...</td>\n",
              "      <td>0.0</td>\n",
              "      <td>0.0</td>\n",
              "      <td>0.0</td>\n",
              "      <td>0.0</td>\n",
              "      <td>0.0</td>\n",
              "      <td>0.0</td>\n",
              "      <td>0.0</td>\n",
              "      <td>0.0</td>\n",
              "      <td>0.0</td>\n",
              "      <td>0.0</td>\n",
              "      <td>0.0</td>\n",
              "      <td>0.0</td>\n",
              "      <td>0.0</td>\n",
              "      <td>0.0</td>\n",
              "      <td>0.0</td>\n",
              "      <td>0.0</td>\n",
              "      <td>0.0</td>\n",
              "      <td>0.0</td>\n",
              "      <td>0.0</td>\n",
              "      <td>0.0</td>\n",
              "      <td>0.0</td>\n",
              "      <td>0.0</td>\n",
              "      <td>0.0</td>\n",
              "      <td>0.0</td>\n",
              "      <td>0.0</td>\n",
              "      <td>0.0</td>\n",
              "      <td>0.0</td>\n",
              "      <td>0.0</td>\n",
              "      <td>0.0</td>\n",
              "      <td>0.0</td>\n",
              "      <td>0.0</td>\n",
              "      <td>0.0</td>\n",
              "      <td>0.0</td>\n",
              "      <td>0.0</td>\n",
              "      <td>0.0</td>\n",
              "      <td>0.0</td>\n",
              "      <td>0.0</td>\n",
              "      <td>0.0</td>\n",
              "      <td>0.0</td>\n",
              "      <td>0.0</td>\n",
              "    </tr>\n",
              "  </tbody>\n",
              "</table>\n",
              "<p>5 rows × 3706 columns</p>\n",
              "</div>"
            ],
            "text/plain": [
              "MovieID  1     2     3     4     5     6     ...  3947  3948  3949  3950  3951  3952\n",
              "UserID                                       ...                                    \n",
              "1         5.0   0.0   0.0   0.0   0.0   0.0  ...   0.0   0.0   0.0   0.0   0.0   0.0\n",
              "2         0.0   0.0   0.0   0.0   0.0   0.0  ...   0.0   0.0   0.0   0.0   0.0   0.0\n",
              "3         0.0   0.0   0.0   0.0   0.0   0.0  ...   0.0   0.0   0.0   0.0   0.0   0.0\n",
              "4         0.0   0.0   0.0   0.0   0.0   0.0  ...   0.0   0.0   0.0   0.0   0.0   0.0\n",
              "5         0.0   0.0   0.0   0.0   0.0   2.0  ...   0.0   0.0   0.0   0.0   0.0   0.0\n",
              "\n",
              "[5 rows x 3706 columns]"
            ]
          },
          "metadata": {
            "tags": []
          },
          "execution_count": 11
        }
      ]
    },
    {
      "cell_type": "markdown",
      "metadata": {
        "id": "h_4z9YWTgIhh"
      },
      "source": [
        "The last thing I need to do is de-mean the data (normalize by each users mean) and convert it from a dataframe to a numpy array."
      ]
    },
    {
      "cell_type": "code",
      "metadata": {
        "id": "k3GGGqwAgIhi",
        "colab": {
          "base_uri": "https://localhost:8080/"
        },
        "outputId": "f3143445-f26b-4828-cd21-d7fcf47a4045"
      },
      "source": [
        "R = R_df.to_numpy()\n",
        "user_ratings_mean = np.mean(R, axis = 1)\n",
        "R_demeaned = R - user_ratings_mean.reshape(-1, 1)\n",
        "\n",
        "print(R.shape)\n",
        "print(np.count_nonzero(R))"
      ],
      "execution_count": null,
      "outputs": [
        {
          "output_type": "stream",
          "text": [
            "(6040, 3706)\n",
            "1000209\n"
          ],
          "name": "stdout"
        }
      ]
    },
    {
      "cell_type": "markdown",
      "metadata": {
        "id": "ktEjpdh2gIhi"
      },
      "source": [
        "# Singular Value Decomposition\n",
        "\n",
        "Scipy and Numpy both have functions to do the singular value decomposition. I'm going to use the Scipy function `svds` because it let's me choose how many latent factors I want to use to approximate the original ratings matrix (instead of having to truncate it after)."
      ]
    },
    {
      "cell_type": "code",
      "metadata": {
        "id": "DMFgd5IIgIhi"
      },
      "source": [
        "from scipy.sparse.linalg import svds\n",
        "U, sigma, Vt = svds(R_demeaned, k = 50)\n",
        "sigma = np.diag(sigma)"
      ],
      "execution_count": null,
      "outputs": []
    },
    {
      "cell_type": "code",
      "metadata": {
        "collapsed": true,
        "id": "arTEARPGgIhj",
        "colab": {
          "base_uri": "https://localhost:8080/"
        },
        "outputId": "9c718b43-b798-447c-882c-603d27f45262"
      },
      "source": [
        "latents = [10, 20, 50]\n",
        "errors = []\n",
        "for latent_dim in latents:\n",
        "  U, sigma, Vt = svds(R_demeaned, k = latent_dim)\n",
        "  sigma = np.diag(sigma)\n",
        "  Rpred = np.dot(np.dot(U, sigma), Vt) + user_ratings_mean.reshape(-1, 1)\n",
        "  Rpred[Rpred < 0] = 0\n",
        "  Rpred[Rpred > 5] = 5\n",
        "  err = (np.sqrt(np.sum(np.power(R - Rpred, 2))))\n",
        "  errors.append(err)\n",
        "\n",
        "print(errors)\n"
      ],
      "execution_count": null,
      "outputs": [
        {
          "output_type": "stream",
          "text": [
            "[2907.7424920656154, 2800.3893738564398, 2633.33392459089]\n"
          ],
          "name": "stdout"
        }
      ]
    },
    {
      "cell_type": "markdown",
      "metadata": {
        "id": "bhBscFmXgIhk"
      },
      "source": [
        "# Making Predictions from the Decomposed Matrices\n",
        "\n",
        "I now have everything I need to make movie ratings predictions for every user. I can do it all at once by following the math and matrix multiply $U$, $\\Sigma$, and $V^{T}$ back to get the rank $k=50$ approximation of $R$.\n",
        "\n",
        "I also need to add the user means back to get the actual star ratings prediction."
      ]
    },
    {
      "cell_type": "code",
      "metadata": {
        "collapsed": true,
        "id": "gQyqTbUCgIhk"
      },
      "source": [
        "all_user_predicted_ratings = np.dot(np.dot(U, sigma), Vt) + user_ratings_mean.reshape(-1, 1)"
      ],
      "execution_count": null,
      "outputs": []
    },
    {
      "cell_type": "markdown",
      "metadata": {
        "id": "1bZkdk_GgIhk"
      },
      "source": [
        "# Making Movie Recommendations\n",
        "Finally, it's time. With the predictions matrix for every user, I can build a function to recommend movies for any user. All I need to do is return the movies with the highest predicted rating that the specified user hasn't already rated. Though I didn't use actually use any explicit movie content features (such as genre or title), I'll merge in that information to get a more complete picture of the recommendations.\n",
        "\n",
        "I'll also return the list of movies the user has already rated, for the sake of comparison."
      ]
    },
    {
      "cell_type": "code",
      "metadata": {
        "scrolled": true,
        "id": "NWmGciBegIhl",
        "colab": {
          "base_uri": "https://localhost:8080/",
          "height": 252
        },
        "outputId": "4e7c69ac-b433-4057-adac-0a4f3be6765b"
      },
      "source": [
        "preds_df = pd.DataFrame(all_user_predicted_ratings, columns = R_df.columns)\n",
        "preds_df.head()"
      ],
      "execution_count": null,
      "outputs": [
        {
          "output_type": "execute_result",
          "data": {
            "text/html": [
              "<div>\n",
              "<style scoped>\n",
              "    .dataframe tbody tr th:only-of-type {\n",
              "        vertical-align: middle;\n",
              "    }\n",
              "\n",
              "    .dataframe tbody tr th {\n",
              "        vertical-align: top;\n",
              "    }\n",
              "\n",
              "    .dataframe thead th {\n",
              "        text-align: right;\n",
              "    }\n",
              "</style>\n",
              "<table border=\"1\" class=\"dataframe\">\n",
              "  <thead>\n",
              "    <tr style=\"text-align: right;\">\n",
              "      <th>MovieID</th>\n",
              "      <th>1</th>\n",
              "      <th>2</th>\n",
              "      <th>3</th>\n",
              "      <th>4</th>\n",
              "      <th>5</th>\n",
              "      <th>6</th>\n",
              "      <th>7</th>\n",
              "      <th>8</th>\n",
              "      <th>9</th>\n",
              "      <th>10</th>\n",
              "      <th>11</th>\n",
              "      <th>12</th>\n",
              "      <th>13</th>\n",
              "      <th>14</th>\n",
              "      <th>15</th>\n",
              "      <th>16</th>\n",
              "      <th>17</th>\n",
              "      <th>18</th>\n",
              "      <th>19</th>\n",
              "      <th>20</th>\n",
              "      <th>21</th>\n",
              "      <th>22</th>\n",
              "      <th>23</th>\n",
              "      <th>24</th>\n",
              "      <th>25</th>\n",
              "      <th>26</th>\n",
              "      <th>27</th>\n",
              "      <th>28</th>\n",
              "      <th>29</th>\n",
              "      <th>30</th>\n",
              "      <th>31</th>\n",
              "      <th>32</th>\n",
              "      <th>33</th>\n",
              "      <th>34</th>\n",
              "      <th>35</th>\n",
              "      <th>36</th>\n",
              "      <th>37</th>\n",
              "      <th>38</th>\n",
              "      <th>39</th>\n",
              "      <th>40</th>\n",
              "      <th>...</th>\n",
              "      <th>3913</th>\n",
              "      <th>3914</th>\n",
              "      <th>3915</th>\n",
              "      <th>3916</th>\n",
              "      <th>3917</th>\n",
              "      <th>3918</th>\n",
              "      <th>3919</th>\n",
              "      <th>3920</th>\n",
              "      <th>3921</th>\n",
              "      <th>3922</th>\n",
              "      <th>3923</th>\n",
              "      <th>3924</th>\n",
              "      <th>3925</th>\n",
              "      <th>3926</th>\n",
              "      <th>3927</th>\n",
              "      <th>3928</th>\n",
              "      <th>3929</th>\n",
              "      <th>3930</th>\n",
              "      <th>3931</th>\n",
              "      <th>3932</th>\n",
              "      <th>3933</th>\n",
              "      <th>3934</th>\n",
              "      <th>3935</th>\n",
              "      <th>3936</th>\n",
              "      <th>3937</th>\n",
              "      <th>3938</th>\n",
              "      <th>3939</th>\n",
              "      <th>3940</th>\n",
              "      <th>3941</th>\n",
              "      <th>3942</th>\n",
              "      <th>3943</th>\n",
              "      <th>3944</th>\n",
              "      <th>3945</th>\n",
              "      <th>3946</th>\n",
              "      <th>3947</th>\n",
              "      <th>3948</th>\n",
              "      <th>3949</th>\n",
              "      <th>3950</th>\n",
              "      <th>3951</th>\n",
              "      <th>3952</th>\n",
              "    </tr>\n",
              "  </thead>\n",
              "  <tbody>\n",
              "    <tr>\n",
              "      <th>0</th>\n",
              "      <td>4.288861</td>\n",
              "      <td>0.143055</td>\n",
              "      <td>-0.195080</td>\n",
              "      <td>-0.018843</td>\n",
              "      <td>0.012232</td>\n",
              "      <td>-0.176604</td>\n",
              "      <td>-0.074120</td>\n",
              "      <td>0.141358</td>\n",
              "      <td>-0.059553</td>\n",
              "      <td>-0.195950</td>\n",
              "      <td>0.512867</td>\n",
              "      <td>-0.089172</td>\n",
              "      <td>0.310181</td>\n",
              "      <td>-0.002005</td>\n",
              "      <td>-0.052401</td>\n",
              "      <td>-0.189827</td>\n",
              "      <td>0.238360</td>\n",
              "      <td>0.006466</td>\n",
              "      <td>-0.099315</td>\n",
              "      <td>-0.069682</td>\n",
              "      <td>-0.321492</td>\n",
              "      <td>0.111577</td>\n",
              "      <td>0.034795</td>\n",
              "      <td>0.320576</td>\n",
              "      <td>-0.118217</td>\n",
              "      <td>-0.012647</td>\n",
              "      <td>0.065573</td>\n",
              "      <td>-0.098318</td>\n",
              "      <td>0.064081</td>\n",
              "      <td>-0.005914</td>\n",
              "      <td>0.091936</td>\n",
              "      <td>0.180563</td>\n",
              "      <td>-0.009566</td>\n",
              "      <td>2.641693</td>\n",
              "      <td>-0.012495</td>\n",
              "      <td>0.765179</td>\n",
              "      <td>0.019784</td>\n",
              "      <td>0.002917</td>\n",
              "      <td>0.053079</td>\n",
              "      <td>0.014856</td>\n",
              "      <td>...</td>\n",
              "      <td>0.018810</td>\n",
              "      <td>-0.018782</td>\n",
              "      <td>0.022249</td>\n",
              "      <td>0.227852</td>\n",
              "      <td>-0.067653</td>\n",
              "      <td>-0.046039</td>\n",
              "      <td>-0.023574</td>\n",
              "      <td>-0.019405</td>\n",
              "      <td>-0.005116</td>\n",
              "      <td>-0.032921</td>\n",
              "      <td>-0.008259</td>\n",
              "      <td>-0.019157</td>\n",
              "      <td>0.007527</td>\n",
              "      <td>-0.008687</td>\n",
              "      <td>-0.025630</td>\n",
              "      <td>-0.013563</td>\n",
              "      <td>0.015240</td>\n",
              "      <td>-0.044665</td>\n",
              "      <td>-0.009568</td>\n",
              "      <td>-0.043549</td>\n",
              "      <td>-0.003131</td>\n",
              "      <td>-0.008221</td>\n",
              "      <td>-0.005948</td>\n",
              "      <td>0.031885</td>\n",
              "      <td>-0.003424</td>\n",
              "      <td>-0.001159</td>\n",
              "      <td>-0.002124</td>\n",
              "      <td>-0.002827</td>\n",
              "      <td>0.010393</td>\n",
              "      <td>-0.001068</td>\n",
              "      <td>0.027807</td>\n",
              "      <td>0.001640</td>\n",
              "      <td>0.026395</td>\n",
              "      <td>-0.022024</td>\n",
              "      <td>-0.085415</td>\n",
              "      <td>0.403529</td>\n",
              "      <td>0.105579</td>\n",
              "      <td>0.031912</td>\n",
              "      <td>0.050450</td>\n",
              "      <td>0.088910</td>\n",
              "    </tr>\n",
              "    <tr>\n",
              "      <th>1</th>\n",
              "      <td>0.744716</td>\n",
              "      <td>0.169659</td>\n",
              "      <td>0.335418</td>\n",
              "      <td>0.000758</td>\n",
              "      <td>0.022475</td>\n",
              "      <td>1.353050</td>\n",
              "      <td>0.051426</td>\n",
              "      <td>0.071258</td>\n",
              "      <td>0.161601</td>\n",
              "      <td>1.567246</td>\n",
              "      <td>0.772656</td>\n",
              "      <td>0.046179</td>\n",
              "      <td>-0.054562</td>\n",
              "      <td>0.042344</td>\n",
              "      <td>0.048390</td>\n",
              "      <td>0.347313</td>\n",
              "      <td>1.074905</td>\n",
              "      <td>-0.099782</td>\n",
              "      <td>0.008163</td>\n",
              "      <td>0.250869</td>\n",
              "      <td>2.186638</td>\n",
              "      <td>0.018789</td>\n",
              "      <td>-0.002199</td>\n",
              "      <td>0.218934</td>\n",
              "      <td>0.824475</td>\n",
              "      <td>0.139274</td>\n",
              "      <td>-0.007135</td>\n",
              "      <td>0.053071</td>\n",
              "      <td>-0.156952</td>\n",
              "      <td>0.044739</td>\n",
              "      <td>-0.002960</td>\n",
              "      <td>0.453298</td>\n",
              "      <td>-0.007484</td>\n",
              "      <td>0.920325</td>\n",
              "      <td>0.016566</td>\n",
              "      <td>1.335129</td>\n",
              "      <td>-0.015066</td>\n",
              "      <td>-0.045602</td>\n",
              "      <td>0.034649</td>\n",
              "      <td>0.122010</td>\n",
              "      <td>...</td>\n",
              "      <td>-0.042363</td>\n",
              "      <td>-0.137822</td>\n",
              "      <td>-0.112071</td>\n",
              "      <td>0.380783</td>\n",
              "      <td>-0.036273</td>\n",
              "      <td>-0.016174</td>\n",
              "      <td>0.002920</td>\n",
              "      <td>-0.148021</td>\n",
              "      <td>-0.017614</td>\n",
              "      <td>-0.033474</td>\n",
              "      <td>0.086133</td>\n",
              "      <td>0.008153</td>\n",
              "      <td>-0.126819</td>\n",
              "      <td>0.109208</td>\n",
              "      <td>0.001798</td>\n",
              "      <td>0.151866</td>\n",
              "      <td>0.014118</td>\n",
              "      <td>0.032897</td>\n",
              "      <td>0.005764</td>\n",
              "      <td>0.042259</td>\n",
              "      <td>0.022404</td>\n",
              "      <td>0.003260</td>\n",
              "      <td>0.010556</td>\n",
              "      <td>0.137181</td>\n",
              "      <td>-0.042184</td>\n",
              "      <td>0.006759</td>\n",
              "      <td>-0.005789</td>\n",
              "      <td>0.000340</td>\n",
              "      <td>0.002024</td>\n",
              "      <td>0.016013</td>\n",
              "      <td>-0.056502</td>\n",
              "      <td>-0.013733</td>\n",
              "      <td>-0.010580</td>\n",
              "      <td>0.062576</td>\n",
              "      <td>-0.016248</td>\n",
              "      <td>0.155790</td>\n",
              "      <td>-0.418737</td>\n",
              "      <td>-0.101102</td>\n",
              "      <td>-0.054098</td>\n",
              "      <td>-0.140188</td>\n",
              "    </tr>\n",
              "    <tr>\n",
              "      <th>2</th>\n",
              "      <td>1.818824</td>\n",
              "      <td>0.456136</td>\n",
              "      <td>0.090978</td>\n",
              "      <td>-0.043037</td>\n",
              "      <td>-0.025694</td>\n",
              "      <td>-0.158617</td>\n",
              "      <td>-0.131778</td>\n",
              "      <td>0.098977</td>\n",
              "      <td>0.030551</td>\n",
              "      <td>0.735470</td>\n",
              "      <td>-0.023476</td>\n",
              "      <td>0.034796</td>\n",
              "      <td>0.065942</td>\n",
              "      <td>0.008661</td>\n",
              "      <td>0.110348</td>\n",
              "      <td>-0.002952</td>\n",
              "      <td>-0.122061</td>\n",
              "      <td>0.063974</td>\n",
              "      <td>0.061033</td>\n",
              "      <td>0.081799</td>\n",
              "      <td>0.329471</td>\n",
              "      <td>0.149579</td>\n",
              "      <td>0.095352</td>\n",
              "      <td>-0.161493</td>\n",
              "      <td>0.022545</td>\n",
              "      <td>-0.009284</td>\n",
              "      <td>-0.002677</td>\n",
              "      <td>-0.142710</td>\n",
              "      <td>0.012345</td>\n",
              "      <td>-0.085331</td>\n",
              "      <td>0.076139</td>\n",
              "      <td>-0.355795</td>\n",
              "      <td>-0.008579</td>\n",
              "      <td>1.046871</td>\n",
              "      <td>-0.088946</td>\n",
              "      <td>0.383583</td>\n",
              "      <td>-0.018144</td>\n",
              "      <td>-0.038618</td>\n",
              "      <td>0.113984</td>\n",
              "      <td>0.006942</td>\n",
              "      <td>...</td>\n",
              "      <td>0.007233</td>\n",
              "      <td>-0.047221</td>\n",
              "      <td>0.066474</td>\n",
              "      <td>-0.179455</td>\n",
              "      <td>0.097428</td>\n",
              "      <td>0.034113</td>\n",
              "      <td>0.008098</td>\n",
              "      <td>-0.024784</td>\n",
              "      <td>-0.012749</td>\n",
              "      <td>-0.007394</td>\n",
              "      <td>-0.017220</td>\n",
              "      <td>0.004719</td>\n",
              "      <td>0.113348</td>\n",
              "      <td>-0.074943</td>\n",
              "      <td>-0.145795</td>\n",
              "      <td>0.128619</td>\n",
              "      <td>0.112567</td>\n",
              "      <td>0.045500</td>\n",
              "      <td>-0.018027</td>\n",
              "      <td>-0.058946</td>\n",
              "      <td>-0.002770</td>\n",
              "      <td>-0.035276</td>\n",
              "      <td>-0.008085</td>\n",
              "      <td>0.132182</td>\n",
              "      <td>-0.017005</td>\n",
              "      <td>0.014383</td>\n",
              "      <td>0.006598</td>\n",
              "      <td>-0.006217</td>\n",
              "      <td>-0.000342</td>\n",
              "      <td>0.000518</td>\n",
              "      <td>0.040481</td>\n",
              "      <td>-0.005301</td>\n",
              "      <td>0.012832</td>\n",
              "      <td>0.029349</td>\n",
              "      <td>0.020866</td>\n",
              "      <td>0.121532</td>\n",
              "      <td>0.076205</td>\n",
              "      <td>0.012345</td>\n",
              "      <td>0.015148</td>\n",
              "      <td>-0.109956</td>\n",
              "    </tr>\n",
              "    <tr>\n",
              "      <th>3</th>\n",
              "      <td>0.408057</td>\n",
              "      <td>-0.072960</td>\n",
              "      <td>0.039642</td>\n",
              "      <td>0.089363</td>\n",
              "      <td>0.041950</td>\n",
              "      <td>0.237753</td>\n",
              "      <td>-0.049426</td>\n",
              "      <td>0.009467</td>\n",
              "      <td>0.045469</td>\n",
              "      <td>-0.111370</td>\n",
              "      <td>-0.375831</td>\n",
              "      <td>0.068658</td>\n",
              "      <td>0.011199</td>\n",
              "      <td>0.069699</td>\n",
              "      <td>-0.037529</td>\n",
              "      <td>-0.238788</td>\n",
              "      <td>0.060607</td>\n",
              "      <td>-0.043418</td>\n",
              "      <td>0.053152</td>\n",
              "      <td>0.078237</td>\n",
              "      <td>0.357185</td>\n",
              "      <td>-0.096005</td>\n",
              "      <td>-0.028243</td>\n",
              "      <td>-0.067169</td>\n",
              "      <td>0.246164</td>\n",
              "      <td>-0.020379</td>\n",
              "      <td>0.034461</td>\n",
              "      <td>-0.022225</td>\n",
              "      <td>-0.012327</td>\n",
              "      <td>0.009182</td>\n",
              "      <td>0.014730</td>\n",
              "      <td>0.215893</td>\n",
              "      <td>-0.019687</td>\n",
              "      <td>-0.293933</td>\n",
              "      <td>-0.011511</td>\n",
              "      <td>0.145326</td>\n",
              "      <td>-0.029213</td>\n",
              "      <td>0.030029</td>\n",
              "      <td>-0.045409</td>\n",
              "      <td>-0.030684</td>\n",
              "      <td>...</td>\n",
              "      <td>-0.015077</td>\n",
              "      <td>-0.030208</td>\n",
              "      <td>0.028357</td>\n",
              "      <td>-0.072643</td>\n",
              "      <td>-0.135727</td>\n",
              "      <td>-0.053318</td>\n",
              "      <td>-0.012962</td>\n",
              "      <td>-0.054465</td>\n",
              "      <td>0.005870</td>\n",
              "      <td>-0.018048</td>\n",
              "      <td>-0.006836</td>\n",
              "      <td>-0.008222</td>\n",
              "      <td>-0.027214</td>\n",
              "      <td>-0.071677</td>\n",
              "      <td>-0.094072</td>\n",
              "      <td>-0.010745</td>\n",
              "      <td>-0.103191</td>\n",
              "      <td>-0.031297</td>\n",
              "      <td>-0.023920</td>\n",
              "      <td>-0.015053</td>\n",
              "      <td>-0.017914</td>\n",
              "      <td>-0.029561</td>\n",
              "      <td>-0.024299</td>\n",
              "      <td>-0.057678</td>\n",
              "      <td>-0.111450</td>\n",
              "      <td>-0.015473</td>\n",
              "      <td>-0.007123</td>\n",
              "      <td>-0.007416</td>\n",
              "      <td>-0.011508</td>\n",
              "      <td>-0.010038</td>\n",
              "      <td>0.008571</td>\n",
              "      <td>-0.005425</td>\n",
              "      <td>-0.008500</td>\n",
              "      <td>-0.003417</td>\n",
              "      <td>-0.083982</td>\n",
              "      <td>0.094512</td>\n",
              "      <td>0.057557</td>\n",
              "      <td>-0.026050</td>\n",
              "      <td>0.014841</td>\n",
              "      <td>-0.034224</td>\n",
              "    </tr>\n",
              "    <tr>\n",
              "      <th>4</th>\n",
              "      <td>1.574272</td>\n",
              "      <td>0.021239</td>\n",
              "      <td>-0.051300</td>\n",
              "      <td>0.246884</td>\n",
              "      <td>-0.032406</td>\n",
              "      <td>1.552281</td>\n",
              "      <td>-0.199630</td>\n",
              "      <td>-0.014920</td>\n",
              "      <td>-0.060498</td>\n",
              "      <td>0.450512</td>\n",
              "      <td>-0.251178</td>\n",
              "      <td>0.012337</td>\n",
              "      <td>-0.084051</td>\n",
              "      <td>0.258937</td>\n",
              "      <td>0.016570</td>\n",
              "      <td>0.980536</td>\n",
              "      <td>1.267869</td>\n",
              "      <td>0.275619</td>\n",
              "      <td>-0.008139</td>\n",
              "      <td>-0.038832</td>\n",
              "      <td>1.849627</td>\n",
              "      <td>0.107649</td>\n",
              "      <td>-0.168424</td>\n",
              "      <td>0.386541</td>\n",
              "      <td>1.790343</td>\n",
              "      <td>0.192379</td>\n",
              "      <td>-0.054356</td>\n",
              "      <td>0.267566</td>\n",
              "      <td>1.027817</td>\n",
              "      <td>0.374665</td>\n",
              "      <td>-0.010445</td>\n",
              "      <td>1.947980</td>\n",
              "      <td>0.017468</td>\n",
              "      <td>2.784035</td>\n",
              "      <td>0.274397</td>\n",
              "      <td>1.422393</td>\n",
              "      <td>0.040553</td>\n",
              "      <td>0.022926</td>\n",
              "      <td>1.345800</td>\n",
              "      <td>0.104507</td>\n",
              "      <td>...</td>\n",
              "      <td>0.075475</td>\n",
              "      <td>0.330767</td>\n",
              "      <td>0.150470</td>\n",
              "      <td>-0.261636</td>\n",
              "      <td>0.085163</td>\n",
              "      <td>-0.014229</td>\n",
              "      <td>-0.029247</td>\n",
              "      <td>0.124172</td>\n",
              "      <td>0.092875</td>\n",
              "      <td>0.061895</td>\n",
              "      <td>0.034757</td>\n",
              "      <td>0.054386</td>\n",
              "      <td>0.047055</td>\n",
              "      <td>0.048403</td>\n",
              "      <td>0.082926</td>\n",
              "      <td>0.129035</td>\n",
              "      <td>-0.174646</td>\n",
              "      <td>0.102727</td>\n",
              "      <td>0.024732</td>\n",
              "      <td>0.047280</td>\n",
              "      <td>0.017818</td>\n",
              "      <td>0.041451</td>\n",
              "      <td>0.041595</td>\n",
              "      <td>-0.007138</td>\n",
              "      <td>-0.080448</td>\n",
              "      <td>0.018639</td>\n",
              "      <td>0.034068</td>\n",
              "      <td>0.026941</td>\n",
              "      <td>0.035905</td>\n",
              "      <td>0.024459</td>\n",
              "      <td>0.110151</td>\n",
              "      <td>0.046010</td>\n",
              "      <td>0.006934</td>\n",
              "      <td>-0.015940</td>\n",
              "      <td>-0.050080</td>\n",
              "      <td>-0.052539</td>\n",
              "      <td>0.507189</td>\n",
              "      <td>0.033830</td>\n",
              "      <td>0.125706</td>\n",
              "      <td>0.199244</td>\n",
              "    </tr>\n",
              "  </tbody>\n",
              "</table>\n",
              "<p>5 rows × 3706 columns</p>\n",
              "</div>"
            ],
            "text/plain": [
              "MovieID      1         2         3     ...      3950      3951      3952\n",
              "0        4.288861  0.143055 -0.195080  ...  0.031912  0.050450  0.088910\n",
              "1        0.744716  0.169659  0.335418  ... -0.101102 -0.054098 -0.140188\n",
              "2        1.818824  0.456136  0.090978  ...  0.012345  0.015148 -0.109956\n",
              "3        0.408057 -0.072960  0.039642  ... -0.026050  0.014841 -0.034224\n",
              "4        1.574272  0.021239 -0.051300  ...  0.033830  0.125706  0.199244\n",
              "\n",
              "[5 rows x 3706 columns]"
            ]
          },
          "metadata": {
            "tags": []
          },
          "execution_count": 15
        }
      ]
    },
    {
      "cell_type": "code",
      "metadata": {
        "id": "ggAv-Y_GgIhl"
      },
      "source": [
        "def recommend_movies(preds_df, userID, movies_df, original_ratings_df, num_recommendations=5):\n",
        "    \n",
        "    # Get and sort the user's predictions\n",
        "    user_row_number = userID - 1 # UserID starts at 1, not 0\n",
        "    sorted_user_predictions = preds_df.iloc[user_row_number].sort_values(ascending=False) # UserID starts at 1\n",
        "    \n",
        "    # Get the user's data and merge in the movie information.\n",
        "    user_data = original_ratings_df[original_ratings_df.UserID == (userID)]\n",
        "    user_full = (user_data.merge(movies_df, how = 'left', left_on = 'MovieID', right_on = 'MovieID').\n",
        "                     sort_values(['Rating'], ascending=False)\n",
        "                 )\n",
        "\n",
        "    print('User {0} has already rated {1} movies.'.format(userID, user_full.shape[0]))\n",
        "    print('Recommending highest {0} predicted ratings movies not already rated.'.format(num_recommendations))\n",
        "    \n",
        "    # Recommend the highest predicted rating movies that the user hasn't seen yet.\n",
        "    recommendations = (movies_df[~movies_df['MovieID'].isin(user_full['MovieID'])].\n",
        "         merge(pd.DataFrame(sorted_user_predictions).reset_index(), how = 'left',\n",
        "               left_on = 'MovieID',\n",
        "               right_on = 'MovieID').\n",
        "         rename(columns = {user_row_number: 'Predictions'}).\n",
        "         sort_values('Predictions', ascending = False).\n",
        "                       iloc[:num_recommendations, :-1]\n",
        "                      )\n",
        "\n",
        "    return user_full, recommendations"
      ],
      "execution_count": null,
      "outputs": []
    },
    {
      "cell_type": "code",
      "metadata": {
        "id": "T6wmnxuTgIhl",
        "colab": {
          "base_uri": "https://localhost:8080/"
        },
        "outputId": "481ce80e-34c5-47be-db8c-0a42a7647b43"
      },
      "source": [
        "already_rated, predictions = recommend_movies(preds_df, 837, movies_df, ratings_df, 10)"
      ],
      "execution_count": null,
      "outputs": [
        {
          "output_type": "stream",
          "text": [
            "User 837 has already rated 69 movies.\n",
            "Recommending highest 10 predicted ratings movies not already rated.\n"
          ],
          "name": "stdout"
        }
      ]
    },
    {
      "cell_type": "markdown",
      "metadata": {
        "id": "XdIpIY9ZgIhm"
      },
      "source": [
        "So, how'd I do?"
      ]
    },
    {
      "cell_type": "code",
      "metadata": {
        "scrolled": true,
        "id": "PfP2cSPMgIhm",
        "colab": {
          "base_uri": "https://localhost:8080/",
          "height": 356
        },
        "outputId": "ecd4c38f-d480-41b6-d1bc-a6efeb225538"
      },
      "source": [
        "already_rated.head(10)"
      ],
      "execution_count": null,
      "outputs": [
        {
          "output_type": "execute_result",
          "data": {
            "text/html": [
              "<div>\n",
              "<style scoped>\n",
              "    .dataframe tbody tr th:only-of-type {\n",
              "        vertical-align: middle;\n",
              "    }\n",
              "\n",
              "    .dataframe tbody tr th {\n",
              "        vertical-align: top;\n",
              "    }\n",
              "\n",
              "    .dataframe thead th {\n",
              "        text-align: right;\n",
              "    }\n",
              "</style>\n",
              "<table border=\"1\" class=\"dataframe\">\n",
              "  <thead>\n",
              "    <tr style=\"text-align: right;\">\n",
              "      <th></th>\n",
              "      <th>UserID</th>\n",
              "      <th>MovieID</th>\n",
              "      <th>Rating</th>\n",
              "      <th>Timestamp</th>\n",
              "      <th>Title</th>\n",
              "      <th>Genres</th>\n",
              "    </tr>\n",
              "  </thead>\n",
              "  <tbody>\n",
              "    <tr>\n",
              "      <th>36</th>\n",
              "      <td>837</td>\n",
              "      <td>858</td>\n",
              "      <td>5</td>\n",
              "      <td>975360036</td>\n",
              "      <td>Godfather, The (1972)</td>\n",
              "      <td>Action|Crime|Drama</td>\n",
              "    </tr>\n",
              "    <tr>\n",
              "      <th>35</th>\n",
              "      <td>837</td>\n",
              "      <td>1387</td>\n",
              "      <td>5</td>\n",
              "      <td>975360036</td>\n",
              "      <td>Jaws (1975)</td>\n",
              "      <td>Action|Horror</td>\n",
              "    </tr>\n",
              "    <tr>\n",
              "      <th>65</th>\n",
              "      <td>837</td>\n",
              "      <td>2028</td>\n",
              "      <td>5</td>\n",
              "      <td>975360089</td>\n",
              "      <td>Saving Private Ryan (1998)</td>\n",
              "      <td>Action|Drama|War</td>\n",
              "    </tr>\n",
              "    <tr>\n",
              "      <th>63</th>\n",
              "      <td>837</td>\n",
              "      <td>1221</td>\n",
              "      <td>5</td>\n",
              "      <td>975360036</td>\n",
              "      <td>Godfather: Part II, The (1974)</td>\n",
              "      <td>Action|Crime|Drama</td>\n",
              "    </tr>\n",
              "    <tr>\n",
              "      <th>11</th>\n",
              "      <td>837</td>\n",
              "      <td>913</td>\n",
              "      <td>5</td>\n",
              "      <td>975359921</td>\n",
              "      <td>Maltese Falcon, The (1941)</td>\n",
              "      <td>Film-Noir|Mystery</td>\n",
              "    </tr>\n",
              "    <tr>\n",
              "      <th>20</th>\n",
              "      <td>837</td>\n",
              "      <td>3417</td>\n",
              "      <td>5</td>\n",
              "      <td>975360893</td>\n",
              "      <td>Crimson Pirate, The (1952)</td>\n",
              "      <td>Adventure|Comedy|Sci-Fi</td>\n",
              "    </tr>\n",
              "    <tr>\n",
              "      <th>34</th>\n",
              "      <td>837</td>\n",
              "      <td>2186</td>\n",
              "      <td>4</td>\n",
              "      <td>975359955</td>\n",
              "      <td>Strangers on a Train (1951)</td>\n",
              "      <td>Film-Noir|Thriller</td>\n",
              "    </tr>\n",
              "    <tr>\n",
              "      <th>55</th>\n",
              "      <td>837</td>\n",
              "      <td>2791</td>\n",
              "      <td>4</td>\n",
              "      <td>975360893</td>\n",
              "      <td>Airplane! (1980)</td>\n",
              "      <td>Comedy</td>\n",
              "    </tr>\n",
              "    <tr>\n",
              "      <th>31</th>\n",
              "      <td>837</td>\n",
              "      <td>1188</td>\n",
              "      <td>4</td>\n",
              "      <td>975360920</td>\n",
              "      <td>Strictly Ballroom (1992)</td>\n",
              "      <td>Comedy|Romance</td>\n",
              "    </tr>\n",
              "    <tr>\n",
              "      <th>28</th>\n",
              "      <td>837</td>\n",
              "      <td>1304</td>\n",
              "      <td>4</td>\n",
              "      <td>975360058</td>\n",
              "      <td>Butch Cassidy and the Sundance Kid (1969)</td>\n",
              "      <td>Action|Comedy|Western</td>\n",
              "    </tr>\n",
              "  </tbody>\n",
              "</table>\n",
              "</div>"
            ],
            "text/plain": [
              "    UserID  ...                   Genres\n",
              "36     837  ...       Action|Crime|Drama\n",
              "35     837  ...            Action|Horror\n",
              "65     837  ...         Action|Drama|War\n",
              "63     837  ...       Action|Crime|Drama\n",
              "11     837  ...        Film-Noir|Mystery\n",
              "20     837  ...  Adventure|Comedy|Sci-Fi\n",
              "34     837  ...       Film-Noir|Thriller\n",
              "55     837  ...                   Comedy\n",
              "31     837  ...           Comedy|Romance\n",
              "28     837  ...    Action|Comedy|Western\n",
              "\n",
              "[10 rows x 6 columns]"
            ]
          },
          "metadata": {
            "tags": []
          },
          "execution_count": 18
        }
      ]
    },
    {
      "cell_type": "code",
      "metadata": {
        "colab": {
          "base_uri": "https://localhost:8080/",
          "height": 356
        },
        "id": "7uNLhyK3Z95t",
        "outputId": "ed994de9-b57e-48dd-937b-b1debab44207"
      },
      "source": [
        "\n",
        "\n",
        "df = already_rated[['MovieID', 'Title', 'Genres']].copy()\n",
        "df.head(10)"
      ],
      "execution_count": null,
      "outputs": [
        {
          "output_type": "execute_result",
          "data": {
            "text/html": [
              "<div>\n",
              "<style scoped>\n",
              "    .dataframe tbody tr th:only-of-type {\n",
              "        vertical-align: middle;\n",
              "    }\n",
              "\n",
              "    .dataframe tbody tr th {\n",
              "        vertical-align: top;\n",
              "    }\n",
              "\n",
              "    .dataframe thead th {\n",
              "        text-align: right;\n",
              "    }\n",
              "</style>\n",
              "<table border=\"1\" class=\"dataframe\">\n",
              "  <thead>\n",
              "    <tr style=\"text-align: right;\">\n",
              "      <th></th>\n",
              "      <th>MovieID</th>\n",
              "      <th>Title</th>\n",
              "      <th>Genres</th>\n",
              "    </tr>\n",
              "  </thead>\n",
              "  <tbody>\n",
              "    <tr>\n",
              "      <th>36</th>\n",
              "      <td>858</td>\n",
              "      <td>Godfather, The (1972)</td>\n",
              "      <td>Action|Crime|Drama</td>\n",
              "    </tr>\n",
              "    <tr>\n",
              "      <th>35</th>\n",
              "      <td>1387</td>\n",
              "      <td>Jaws (1975)</td>\n",
              "      <td>Action|Horror</td>\n",
              "    </tr>\n",
              "    <tr>\n",
              "      <th>65</th>\n",
              "      <td>2028</td>\n",
              "      <td>Saving Private Ryan (1998)</td>\n",
              "      <td>Action|Drama|War</td>\n",
              "    </tr>\n",
              "    <tr>\n",
              "      <th>63</th>\n",
              "      <td>1221</td>\n",
              "      <td>Godfather: Part II, The (1974)</td>\n",
              "      <td>Action|Crime|Drama</td>\n",
              "    </tr>\n",
              "    <tr>\n",
              "      <th>11</th>\n",
              "      <td>913</td>\n",
              "      <td>Maltese Falcon, The (1941)</td>\n",
              "      <td>Film-Noir|Mystery</td>\n",
              "    </tr>\n",
              "    <tr>\n",
              "      <th>20</th>\n",
              "      <td>3417</td>\n",
              "      <td>Crimson Pirate, The (1952)</td>\n",
              "      <td>Adventure|Comedy|Sci-Fi</td>\n",
              "    </tr>\n",
              "    <tr>\n",
              "      <th>34</th>\n",
              "      <td>2186</td>\n",
              "      <td>Strangers on a Train (1951)</td>\n",
              "      <td>Film-Noir|Thriller</td>\n",
              "    </tr>\n",
              "    <tr>\n",
              "      <th>55</th>\n",
              "      <td>2791</td>\n",
              "      <td>Airplane! (1980)</td>\n",
              "      <td>Comedy</td>\n",
              "    </tr>\n",
              "    <tr>\n",
              "      <th>31</th>\n",
              "      <td>1188</td>\n",
              "      <td>Strictly Ballroom (1992)</td>\n",
              "      <td>Comedy|Romance</td>\n",
              "    </tr>\n",
              "    <tr>\n",
              "      <th>28</th>\n",
              "      <td>1304</td>\n",
              "      <td>Butch Cassidy and the Sundance Kid (1969)</td>\n",
              "      <td>Action|Comedy|Western</td>\n",
              "    </tr>\n",
              "  </tbody>\n",
              "</table>\n",
              "</div>"
            ],
            "text/plain": [
              "    MovieID                                      Title                   Genres\n",
              "36      858                      Godfather, The (1972)       Action|Crime|Drama\n",
              "35     1387                                Jaws (1975)            Action|Horror\n",
              "65     2028                 Saving Private Ryan (1998)         Action|Drama|War\n",
              "63     1221             Godfather: Part II, The (1974)       Action|Crime|Drama\n",
              "11      913                 Maltese Falcon, The (1941)        Film-Noir|Mystery\n",
              "20     3417                 Crimson Pirate, The (1952)  Adventure|Comedy|Sci-Fi\n",
              "34     2186                Strangers on a Train (1951)       Film-Noir|Thriller\n",
              "55     2791                           Airplane! (1980)                   Comedy\n",
              "31     1188                   Strictly Ballroom (1992)           Comedy|Romance\n",
              "28     1304  Butch Cassidy and the Sundance Kid (1969)    Action|Comedy|Western"
            ]
          },
          "metadata": {
            "tags": []
          },
          "execution_count": 19
        }
      ]
    },
    {
      "cell_type": "code",
      "metadata": {
        "scrolled": true,
        "id": "eFx8wgwYgIhn",
        "colab": {
          "base_uri": "https://localhost:8080/",
          "height": 356
        },
        "outputId": "0b4a7905-d820-4178-e3f3-7d91cba05c3e"
      },
      "source": [
        "predictions"
      ],
      "execution_count": null,
      "outputs": [
        {
          "output_type": "execute_result",
          "data": {
            "text/html": [
              "<div>\n",
              "<style scoped>\n",
              "    .dataframe tbody tr th:only-of-type {\n",
              "        vertical-align: middle;\n",
              "    }\n",
              "\n",
              "    .dataframe tbody tr th {\n",
              "        vertical-align: top;\n",
              "    }\n",
              "\n",
              "    .dataframe thead th {\n",
              "        text-align: right;\n",
              "    }\n",
              "</style>\n",
              "<table border=\"1\" class=\"dataframe\">\n",
              "  <thead>\n",
              "    <tr style=\"text-align: right;\">\n",
              "      <th></th>\n",
              "      <th>MovieID</th>\n",
              "      <th>Title</th>\n",
              "      <th>Genres</th>\n",
              "    </tr>\n",
              "  </thead>\n",
              "  <tbody>\n",
              "    <tr>\n",
              "      <th>516</th>\n",
              "      <td>527</td>\n",
              "      <td>Schindler's List (1993)</td>\n",
              "      <td>Drama|War</td>\n",
              "    </tr>\n",
              "    <tr>\n",
              "      <th>1848</th>\n",
              "      <td>1953</td>\n",
              "      <td>French Connection, The (1971)</td>\n",
              "      <td>Action|Crime|Drama|Thriller</td>\n",
              "    </tr>\n",
              "    <tr>\n",
              "      <th>596</th>\n",
              "      <td>608</td>\n",
              "      <td>Fargo (1996)</td>\n",
              "      <td>Crime|Drama|Thriller</td>\n",
              "    </tr>\n",
              "    <tr>\n",
              "      <th>1235</th>\n",
              "      <td>1284</td>\n",
              "      <td>Big Sleep, The (1946)</td>\n",
              "      <td>Film-Noir|Mystery</td>\n",
              "    </tr>\n",
              "    <tr>\n",
              "      <th>2085</th>\n",
              "      <td>2194</td>\n",
              "      <td>Untouchables, The (1987)</td>\n",
              "      <td>Action|Crime|Drama</td>\n",
              "    </tr>\n",
              "    <tr>\n",
              "      <th>1188</th>\n",
              "      <td>1230</td>\n",
              "      <td>Annie Hall (1977)</td>\n",
              "      <td>Comedy|Romance</td>\n",
              "    </tr>\n",
              "    <tr>\n",
              "      <th>1198</th>\n",
              "      <td>1242</td>\n",
              "      <td>Glory (1989)</td>\n",
              "      <td>Action|Drama|War</td>\n",
              "    </tr>\n",
              "    <tr>\n",
              "      <th>897</th>\n",
              "      <td>922</td>\n",
              "      <td>Sunset Blvd. (a.k.a. Sunset Boulevard) (1950)</td>\n",
              "      <td>Film-Noir</td>\n",
              "    </tr>\n",
              "    <tr>\n",
              "      <th>1849</th>\n",
              "      <td>1954</td>\n",
              "      <td>Rocky (1976)</td>\n",
              "      <td>Action|Drama</td>\n",
              "    </tr>\n",
              "    <tr>\n",
              "      <th>581</th>\n",
              "      <td>593</td>\n",
              "      <td>Silence of the Lambs, The (1991)</td>\n",
              "      <td>Drama|Thriller</td>\n",
              "    </tr>\n",
              "  </tbody>\n",
              "</table>\n",
              "</div>"
            ],
            "text/plain": [
              "      MovieID  ...                       Genres\n",
              "516       527  ...                    Drama|War\n",
              "1848     1953  ...  Action|Crime|Drama|Thriller\n",
              "596       608  ...         Crime|Drama|Thriller\n",
              "1235     1284  ...            Film-Noir|Mystery\n",
              "2085     2194  ...           Action|Crime|Drama\n",
              "1188     1230  ...               Comedy|Romance\n",
              "1198     1242  ...             Action|Drama|War\n",
              "897       922  ...                    Film-Noir\n",
              "1849     1954  ...                 Action|Drama\n",
              "581       593  ...               Drama|Thriller\n",
              "\n",
              "[10 rows x 3 columns]"
            ]
          },
          "metadata": {
            "tags": []
          },
          "execution_count": 36
        }
      ]
    },
    {
      "cell_type": "markdown",
      "metadata": {
        "id": "u2ZnPxdzgIhn"
      },
      "source": [
        "Pretty cool! These look like pretty good recommendations. It's also good to see that, though I didn't actually use the genre of the movie as a feature, the truncated matrix factorization features \"picked up\" on the underlying tastes and preferences of the user. I've recommended some film-noirs, crime, drama, and war movies - all of which were genres of some of this user's top rated movies."
      ]
    },
    {
      "cell_type": "markdown",
      "metadata": {
        "id": "fKyoDci9tu8K"
      },
      "source": [
        "# Visualizing true and predicted ratings matrix "
      ]
    },
    {
      "cell_type": "code",
      "metadata": {
        "colab": {
          "base_uri": "https://localhost:8080/"
        },
        "id": "46qng2bFwYXf",
        "outputId": "8044b355-9f6f-43d1-cacd-70af70119b87"
      },
      "source": [
        "Rpred = all_user_predicted_ratings\n",
        "Rpred[Rpred < 0] = 0\n",
        "Rpred[Rpred > 5] = 5\n",
        "\n",
        "print(np.linalg.norm(R - Rpred, ord='fro'))\n",
        "\n",
        "print(np.sqrt(np.sum(np.power(R - Rpred, 2))))\n"
      ],
      "execution_count": null,
      "outputs": [
        {
          "output_type": "stream",
          "text": [
            "2633.3339245908883\n",
            "2633.3339245908896\n"
          ],
          "name": "stdout"
        }
      ]
    },
    {
      "cell_type": "code",
      "metadata": {
        "colab": {
          "base_uri": "https://localhost:8080/",
          "height": 1000
        },
        "id": "pSk8UdyetzUk",
        "outputId": "31f8ffa5-0646-496d-d289-d1e0856d28a2"
      },
      "source": [
        "import matplotlib.pyplot as plt\n",
        "\n",
        "nusers = 20\n",
        "nitems = 20\n",
        "\n",
        "plt.figure(figsize=(10,10))\n",
        "plt.imshow(R[:nusers, :nitems], cmap='jet')\n",
        "plt.xlabel('item')\n",
        "plt.ylabel('user')\n",
        "plt.title('True ratings')\n",
        "plt.colorbar()\n",
        "\n",
        "\n",
        "plt.figure(figsize=(10,10))\n",
        "plt.imshow(Rpred[:nusers, :nitems], cmap='jet')\n",
        "plt.xlabel('item')\n",
        "plt.ylabel('user')\n",
        "plt.title('Predcted ratings')\n",
        "plt.colorbar()"
      ],
      "execution_count": null,
      "outputs": [
        {
          "output_type": "execute_result",
          "data": {
            "text/plain": [
              "<matplotlib.colorbar.Colorbar at 0x7fe46af0d5f8>"
            ]
          },
          "metadata": {
            "tags": []
          },
          "execution_count": 68
        },
        {
          "output_type": "display_data",
          "data": {
            "image/png": "[encoded data removed]",
            "text/plain": [
              "<Figure size 720x720 with 2 Axes>"
            ]
          },
          "metadata": {
            "tags": [],
            "needs_background": "light"
          }
        },
        {
          "output_type": "display_data",
          "data": {
            "image/png": "[encoded data removed]",
            "text/plain": [
              "<Figure size 720x720 with 2 Axes>"
            ]
          },
          "metadata": {
            "tags": [],
            "needs_background": "light"
          }
        }
      ]
    },
    {
      "cell_type": "code",
      "metadata": {
        "id": "_ABYp0FkuHOf"
      },
      "source": [
        ""
      ],
      "execution_count": null,
      "outputs": []
    },
    {
      "cell_type": "markdown",
      "metadata": {
        "id": "EA6T5KISbY2f"
      },
      "source": [
        "# Surprise library for collaborative filtering\n",
        "\n",
        "http://surpriselib.com/\n",
        "Simple Python RecommendatIon System Engine\n"
      ]
    },
    {
      "cell_type": "code",
      "metadata": {
        "colab": {
          "base_uri": "https://localhost:8080/"
        },
        "id": "jN4o9omlboLi",
        "outputId": "9f8de978-5402-4abf-ff30-fd84f46ab30d"
      },
      "source": [
        "!pip install surprise"
      ],
      "execution_count": null,
      "outputs": [
        {
          "output_type": "stream",
          "text": [
            "Collecting surprise\n",
            "  Downloading https://files.pythonhosted.org/packages/61/de/e5cba8682201fcf9c3719a6fdda95693468ed061945493dea2dd37c5618b/surprise-0.1-py2.py3-none-any.whl\n",
            "Collecting scikit-surprise\n",
            "\u001b[?25l  Downloading https://files.pythonhosted.org/packages/97/37/5d334adaf5ddd65da99fc65f6507e0e4599d092ba048f4302fe8775619e8/scikit-surprise-1.1.1.tar.gz (11.8MB)\n",
            "\u001b[K     |████████████████████████████████| 11.8MB 271kB/s \n",
            "\u001b[?25hRequirement already satisfied: joblib>=0.11 in /usr/local/lib/python3.6/dist-packages (from scikit-surprise->surprise) (1.0.0)\n",
            "Requirement already satisfied: numpy>=1.11.2 in /usr/local/lib/python3.6/dist-packages (from scikit-surprise->surprise) (1.19.4)\n",
            "Requirement already satisfied: scipy>=1.0.0 in /usr/local/lib/python3.6/dist-packages (from scikit-surprise->surprise) (1.4.1)\n",
            "Requirement already satisfied: six>=1.10.0 in /usr/local/lib/python3.6/dist-packages (from scikit-surprise->surprise) (1.15.0)\n",
            "Building wheels for collected packages: scikit-surprise\n",
            "  Building wheel for scikit-surprise (setup.py) ... \u001b[?25l\u001b[?25hdone\n",
            "  Created wheel for scikit-surprise: filename=scikit_surprise-1.1.1-cp36-cp36m-linux_x86_64.whl size=1618298 sha256=73c60a225d05c8ba04336048f4938bf787a53a988408ff9093e1478f0c2ba2e0\n",
            "  Stored in directory: /root/.cache/pip/wheels/78/9c/3d/41b419c9d2aff5b6e2b4c0fc8d25c538202834058f9ed110d0\n",
            "Successfully built scikit-surprise\n",
            "Installing collected packages: scikit-surprise, surprise\n",
            "Successfully installed scikit-surprise-1.1.1 surprise-0.1\n"
          ],
          "name": "stdout"
        }
      ]
    },
    {
      "cell_type": "code",
      "metadata": {
        "id": "O_YvO1dmihg3"
      },
      "source": [
        "import surprise"
      ],
      "execution_count": null,
      "outputs": []
    },
    {
      "cell_type": "code",
      "metadata": {
        "colab": {
          "base_uri": "https://localhost:8080/"
        },
        "id": "Bd60v17sbfOo",
        "outputId": "ce000114-cae0-47e5-9f83-a5c1f9852f9f"
      },
      "source": [
        "from surprise import Dataset\n",
        "data = Dataset.load_builtin('ml-1m')\n"
      ],
      "execution_count": null,
      "outputs": [
        {
          "output_type": "stream",
          "text": [
            "Dataset ml-1m could not be found. Do you want to download it? [Y/n] Y\n",
            "Trying to download dataset from http://files.grouplens.org/datasets/movielens/ml-1m.zip...\n",
            "Done! Dataset ml-1m has been saved to /root/.surprise_data/ml-1m\n",
            "<surprise.dataset.DatasetAutoFolds object at 0x7fc7daaba470>\n"
          ],
          "name": "stdout"
        }
      ]
    },
    {
      "cell_type": "code",
      "metadata": {
        "colab": {
          "base_uri": "https://localhost:8080/"
        },
        "id": "_pu0cS1zb3v4",
        "outputId": "f9234343-fb0b-4971-f88c-9eedfe7cbf62"
      },
      "source": [
        "trainset = data.build_full_trainset()\n"
      ],
      "execution_count": null,
      "outputs": [
        {
          "output_type": "stream",
          "text": [
            "<surprise.trainset.Trainset object at 0x7fc7b0ee36a0>\n"
          ],
          "name": "stdout"
        }
      ]
    },
    {
      "cell_type": "code",
      "metadata": {
        "colab": {
          "base_uri": "https://localhost:8080/"
        },
        "id": "jm3VA17gdn8S",
        "outputId": "204371ba-0409-4d00-cd05-9891fb085059"
      },
      "source": [
        "print([trainset.n_users, trainset.n_items, trainset.n_ratings])"
      ],
      "execution_count": null,
      "outputs": [
        {
          "output_type": "stream",
          "text": [
            "[6040, 3706, 1000209]\n"
          ],
          "name": "stdout"
        }
      ]
    },
    {
      "cell_type": "code",
      "metadata": {
        "colab": {
          "base_uri": "https://localhost:8080/",
          "height": 202
        },
        "id": "m4t_0EFtgdiA",
        "outputId": "859ab773-5d54-41f0-843e-588f8e1bd5be"
      },
      "source": [
        "ratings_df.head()"
      ],
      "execution_count": null,
      "outputs": [
        {
          "output_type": "execute_result",
          "data": {
            "text/html": [
              "<div>\n",
              "<style scoped>\n",
              "    .dataframe tbody tr th:only-of-type {\n",
              "        vertical-align: middle;\n",
              "    }\n",
              "\n",
              "    .dataframe tbody tr th {\n",
              "        vertical-align: top;\n",
              "    }\n",
              "\n",
              "    .dataframe thead th {\n",
              "        text-align: right;\n",
              "    }\n",
              "</style>\n",
              "<table border=\"1\" class=\"dataframe\">\n",
              "  <thead>\n",
              "    <tr style=\"text-align: right;\">\n",
              "      <th></th>\n",
              "      <th>UserID</th>\n",
              "      <th>MovieID</th>\n",
              "      <th>Rating</th>\n",
              "      <th>Timestamp</th>\n",
              "    </tr>\n",
              "  </thead>\n",
              "  <tbody>\n",
              "    <tr>\n",
              "      <th>0</th>\n",
              "      <td>1</td>\n",
              "      <td>1193</td>\n",
              "      <td>5</td>\n",
              "      <td>978300760</td>\n",
              "    </tr>\n",
              "    <tr>\n",
              "      <th>1</th>\n",
              "      <td>1</td>\n",
              "      <td>661</td>\n",
              "      <td>3</td>\n",
              "      <td>978302109</td>\n",
              "    </tr>\n",
              "    <tr>\n",
              "      <th>2</th>\n",
              "      <td>1</td>\n",
              "      <td>914</td>\n",
              "      <td>3</td>\n",
              "      <td>978301968</td>\n",
              "    </tr>\n",
              "    <tr>\n",
              "      <th>3</th>\n",
              "      <td>1</td>\n",
              "      <td>3408</td>\n",
              "      <td>4</td>\n",
              "      <td>978300275</td>\n",
              "    </tr>\n",
              "    <tr>\n",
              "      <th>4</th>\n",
              "      <td>1</td>\n",
              "      <td>2355</td>\n",
              "      <td>5</td>\n",
              "      <td>978824291</td>\n",
              "    </tr>\n",
              "  </tbody>\n",
              "</table>\n",
              "</div>"
            ],
            "text/plain": [
              "   UserID  MovieID  Rating  Timestamp\n",
              "0       1     1193       5  978300760\n",
              "1       1      661       3  978302109\n",
              "2       1      914       3  978301968\n",
              "3       1     3408       4  978300275\n",
              "4       1     2355       5  978824291"
            ]
          },
          "metadata": {
            "tags": []
          },
          "execution_count": 42
        }
      ]
    },
    {
      "cell_type": "code",
      "metadata": {
        "colab": {
          "base_uri": "https://localhost:8080/"
        },
        "id": "f_j4TpupfUAl",
        "outputId": "dd44b29a-8657-4cac-e172-ce60384f124e"
      },
      "source": [
        "iter = trainset.all_ratings()\n",
        "nshow = 5\n",
        "counter = 0\n",
        "for item in iter:\n",
        "  #print(item)\n",
        "  (uid_inner, iid_inner, rating)  = item\n",
        "  # Raw ids are strings that match the external ratings file\n",
        "  uid_raw = trainset.to_raw_uid(uid_inner)\n",
        "  iid_raw = trainset.to_raw_iid(iid_inner)\n",
        "  print('uid inner {}, raw {}, iid inner {}, raw {}, rating {}'.format(\n",
        "      uid_inner, uid_raw, iid_inner, iid_raw, rating))\n",
        "  counter += 1\n",
        "  if counter > nshow: break\n"
      ],
      "execution_count": null,
      "outputs": [
        {
          "output_type": "stream",
          "text": [
            "uid inner 0, raw 1, iid inner 0, raw 1193, rating 5.0\n",
            "uid inner 0, raw 1, iid inner 1, raw 661, rating 3.0\n",
            "uid inner 0, raw 1, iid inner 2, raw 914, rating 3.0\n",
            "uid inner 0, raw 1, iid inner 3, raw 3408, rating 4.0\n",
            "uid inner 0, raw 1, iid inner 4, raw 2355, rating 5.0\n",
            "uid inner 0, raw 1, iid inner 5, raw 1197, rating 3.0\n"
          ],
          "name": "stdout"
        }
      ]
    },
    {
      "cell_type": "code",
      "metadata": {
        "colab": {
          "base_uri": "https://localhost:8080/"
        },
        "id": "LDR2l3CosBdP",
        "outputId": "7c48c953-95a0-4d1e-9093-ddc57493183f"
      },
      "source": [
        "iid_raw = str(1318) \n",
        "print(iid_raw in items_raw_valid)\n"
      ],
      "execution_count": null,
      "outputs": [
        {
          "output_type": "stream",
          "text": [
            "False\n"
          ],
          "name": "stdout"
        }
      ]
    },
    {
      "cell_type": "code",
      "metadata": {
        "colab": {
          "base_uri": "https://localhost:8080/"
        },
        "id": "TGpMKj7glcx1",
        "outputId": "6970edb5-bf46-4db0-a543-ff6316f8d1d6"
      },
      "source": [
        "items_raw = list(trainset.to_raw_iid(i) for i in trainset.all_items())\n",
        "print(items_raw[:10])\n",
        "print(type(items_raw[0]))\n",
        "print(len(np.unique(items_raw)))"
      ],
      "execution_count": null,
      "outputs": [
        {
          "output_type": "stream",
          "text": [
            "['1193', '661', '914', '3408', '2355', '1197', '1287', '2804', '594', '919']\n",
            "<class 'str'>\n",
            "3706\n"
          ],
          "name": "stdout"
        }
      ]
    },
    {
      "cell_type": "code",
      "metadata": {
        "colab": {
          "base_uri": "https://localhost:8080/"
        },
        "id": "HxGk3RFrmTZo",
        "outputId": "8f5982f5-9936-4726-81fd-df2024a73bef"
      },
      "source": [
        "users_raw = list(trainset.to_raw_uid(i) for i in trainset.all_users())\n",
        "print(users_raw[:10])\n",
        "print(len(np.unique(users_raw)))"
      ],
      "execution_count": null,
      "outputs": [
        {
          "output_type": "stream",
          "text": [
            "['1', '2', '3', '4', '5', '6', '7', '8', '9', '10']\n",
            "6040\n"
          ],
          "name": "stdout"
        }
      ]
    },
    {
      "cell_type": "code",
      "metadata": {
        "colab": {
          "base_uri": "https://localhost:8080/"
        },
        "id": "2yV7RNqtmsL6",
        "outputId": "ac92870b-9bc0-42ee-ce24-7e04c76cc625"
      },
      "source": [
        "# inspect user ratings for user 837\n",
        "uid_raw = str(837)\n",
        "uid_inner = trainset.to_inner_uid(uid_raw)\n",
        "user_ratings = trainset.ur[uid_inner]\n",
        "print(len(user_ratings))\n",
        "print(user_ratings)\n",
        "rated_raw = [trainset.to_raw_iid(iid) for (iid, rating) in user_ratings]\n",
        "print(rated_raw)\n",
        "unrated_raw = list(set(items_raw) - set(rated_raw))\n",
        "print(len(unrated_raw))"
      ],
      "execution_count": null,
      "outputs": [
        {
          "output_type": "stream",
          "text": [
            "69\n",
            "[(1231, 3.0), (1113, 3.0), (559, 4.0), (97, 3.0), (255, 3.0), (1240, 2.0), (597, 4.0), (631, 1.0), (1448, 3.0), (1195, 3.0), (540, 3.0), (338, 5.0), (54, 4.0), (78, 3.0), (246, 3.0), (985, 3.0), (266, 3.0), (275, 2.0), (1454, 2.0), (159, 3.0), (859, 5.0), (156, 4.0), (1237, 2.0), (244, 3.0), (99, 4.0), (104, 3.0), (151, 3.0), (1456, 3.0), (199, 4.0), (1891, 2.0), (945, 3.0), (88, 4.0), (799, 3.0), (617, 3.0), (1450, 4.0), (213, 5.0), (669, 5.0), (1922, 4.0), (92, 3.0), (1518, 3.0), (1529, 3.0), (829, 2.0), (1468, 3.0), (132, 1.0), (955, 3.0), (1249, 3.0), (882, 3.0), (167, 4.0), (315, 3.0), (41, 4.0), (381, 4.0), (210, 4.0), (2451, 3.0), (135, 3.0), (1511, 3.0), (15, 4.0), (711, 3.0), (215, 2.0), (1475, 4.0), (216, 3.0), (728, 4.0), (1154, 3.0), (67, 4.0), (434, 5.0), (1228, 3.0), (48, 5.0), (546, 4.0), (1009, 2.0), (170, 3.0)]\n",
            "['1248', '2991', '1252', '589', '6', '1267', '1276', '1292', '905', '910', '1446', '913', '3068', '1610', '1617', '942', '3083', '2289', '955', '3095', '3417', '3418', '3435', '296', '3654', '2858', '457', '3683', '1304', '1177', '1179', '1188', '3101', '2300', '2186', '1387', '858', '3307', '110', '3341', '3504', '3362', '3366', '2571', '164', '2726', '1783', '318', '2599', '1961', '34', '1036', '3720', '3735', '2935', '2791', '2000', '1201', '2944', '2947', '2948', '2949', '1213', '1221', '1222', '2028', '1233', '707', '1244']\n",
            "3637\n"
          ],
          "name": "stdout"
        }
      ]
    },
    {
      "cell_type": "markdown",
      "metadata": {
        "id": "Z4U41wxO7qDJ"
      },
      "source": [
        "# Join with meta data"
      ]
    },
    {
      "cell_type": "code",
      "metadata": {
        "id": "i0RcPJAWzp3b"
      },
      "source": [
        "def get_true_ratings(uid_raw, trainset):\n",
        "  uid_inner = trainset.to_inner_uid(uid_raw)\n",
        "  user_ratings = trainset.ur[uid_inner]\n",
        "  item_list = [trainset.to_raw_iid(iid) for (iid, rating) in user_ratings] \n",
        "  rating_list = [rating for (iid, rating) in user_ratings]  \n",
        "  item_list = np.array(item_list)\n",
        "  rating_list = np.array(rating_list)\n",
        "  ndx = np.argsort([-r for r in rating_list]) # largest (most negative) first\n",
        "  return item_list[ndx], rating_list[ndx]\n",
        "\n",
        "def make_predictions(algo, uid_raw, trainset):\n",
        "  uid_inner = trainset.to_inner_uid(uid_raw)\n",
        "  user_ratings = trainset.ur[uid_inner]\n",
        "  rated_raw = [trainset.to_raw_iid(iid) for (iid, rating) in user_ratings]  \n",
        "  items_raw = list(trainset.to_raw_iid(i) for i in trainset.all_items())\n",
        "  unrated_raw = list(set(items_raw) - set(rated_raw))\n",
        "  item_list = []\n",
        "  rating_list = []\n",
        "  for iid_raw in unrated_raw:\n",
        "    pred = algo.predict(uid_raw, iid_raw,  verbose=False)\n",
        "    uid_raw, iid_raw, rating_true, rating_pred, details =  pred\n",
        "    item_list.append(iid_raw)\n",
        "    rating_list.append(rating_pred)\n",
        "  item_list = np.array(item_list)\n",
        "  rating_list = np.array(rating_list)\n",
        "  ndx = np.argsort([-r for r in rating_list]) # largest (most negative) first\n",
        "  return item_list[ndx], rating_list[ndx]\n",
        "\n",
        "def make_df(movies_df, item_list_raw, rating_list):\n",
        "  name_list = []\n",
        "  genre_list = []\n",
        "  for i in range(len(item_list_raw)):\n",
        "    item_raw = item_list_raw[i]\n",
        "    name = get_movie_name(movies_df, item_raw)\n",
        "    genre = get_movie_genres(movies_df, item_raw)\n",
        "    name_list.append(name)\n",
        "    genre_list.append(genre)\n",
        "  df = pd.DataFrame({'name': name_list, 'genre': genre_list, 'rating': rating_list, 'iid': item_list_raw})\n",
        "  return df\n",
        "\n",
        "\n",
        "\n"
      ],
      "execution_count": null,
      "outputs": []
    },
    {
      "cell_type": "code",
      "metadata": {
        "colab": {
          "base_uri": "https://localhost:8080/",
          "height": 356
        },
        "id": "SypyFupC62f4",
        "outputId": "c15cf4d7-cae5-4702-aadf-5c5c8d7ba4d1"
      },
      "source": [
        "uid_raw = str(837)\n",
        "\n",
        "item_list_raw, rating_list = get_true_ratings(uid_raw, trainset)\n",
        "df = make_df(movies_df, item_list_raw, rating_list)\n",
        "df.head(10)\n",
        "\n",
        "\n"
      ],
      "execution_count": null,
      "outputs": [
        {
          "output_type": "execute_result",
          "data": {
            "text/html": [
              "<div>\n",
              "<style scoped>\n",
              "    .dataframe tbody tr th:only-of-type {\n",
              "        vertical-align: middle;\n",
              "    }\n",
              "\n",
              "    .dataframe tbody tr th {\n",
              "        vertical-align: top;\n",
              "    }\n",
              "\n",
              "    .dataframe thead th {\n",
              "        text-align: right;\n",
              "    }\n",
              "</style>\n",
              "<table border=\"1\" class=\"dataframe\">\n",
              "  <thead>\n",
              "    <tr style=\"text-align: right;\">\n",
              "      <th></th>\n",
              "      <th>name</th>\n",
              "      <th>genre</th>\n",
              "      <th>rating</th>\n",
              "      <th>iid</th>\n",
              "    </tr>\n",
              "  </thead>\n",
              "  <tbody>\n",
              "    <tr>\n",
              "      <th>0</th>\n",
              "      <td>Jaws (1975)</td>\n",
              "      <td>Action|Horror</td>\n",
              "      <td>5.0</td>\n",
              "      <td>1387</td>\n",
              "    </tr>\n",
              "    <tr>\n",
              "      <th>1</th>\n",
              "      <td>Saving Private Ryan (1998)</td>\n",
              "      <td>Action|Drama|War</td>\n",
              "      <td>5.0</td>\n",
              "      <td>2028</td>\n",
              "    </tr>\n",
              "    <tr>\n",
              "      <th>2</th>\n",
              "      <td>Godfather: Part II, The (1974)</td>\n",
              "      <td>Action|Crime|Drama</td>\n",
              "      <td>5.0</td>\n",
              "      <td>1221</td>\n",
              "    </tr>\n",
              "    <tr>\n",
              "      <th>3</th>\n",
              "      <td>Maltese Falcon, The (1941)</td>\n",
              "      <td>Film-Noir|Mystery</td>\n",
              "      <td>5.0</td>\n",
              "      <td>913</td>\n",
              "    </tr>\n",
              "    <tr>\n",
              "      <th>4</th>\n",
              "      <td>Crimson Pirate, The (1952)</td>\n",
              "      <td>Adventure|Comedy|Sci-Fi</td>\n",
              "      <td>5.0</td>\n",
              "      <td>3417</td>\n",
              "    </tr>\n",
              "    <tr>\n",
              "      <th>5</th>\n",
              "      <td>Godfather, The (1972)</td>\n",
              "      <td>Action|Crime|Drama</td>\n",
              "      <td>5.0</td>\n",
              "      <td>858</td>\n",
              "    </tr>\n",
              "    <tr>\n",
              "      <th>6</th>\n",
              "      <td>Strangers on a Train (1951)</td>\n",
              "      <td>Film-Noir|Thriller</td>\n",
              "      <td>4.0</td>\n",
              "      <td>2186</td>\n",
              "    </tr>\n",
              "    <tr>\n",
              "      <th>7</th>\n",
              "      <td>Strictly Ballroom (1992)</td>\n",
              "      <td>Comedy|Romance</td>\n",
              "      <td>4.0</td>\n",
              "      <td>1188</td>\n",
              "    </tr>\n",
              "    <tr>\n",
              "      <th>8</th>\n",
              "      <td>Butch Cassidy and the Sundance Kid (1969)</td>\n",
              "      <td>Action|Comedy|Western</td>\n",
              "      <td>4.0</td>\n",
              "      <td>1304</td>\n",
              "    </tr>\n",
              "    <tr>\n",
              "      <th>9</th>\n",
              "      <td>Shawshank Redemption, The (1994)</td>\n",
              "      <td>Drama</td>\n",
              "      <td>4.0</td>\n",
              "      <td>318</td>\n",
              "    </tr>\n",
              "  </tbody>\n",
              "</table>\n",
              "</div>"
            ],
            "text/plain": [
              "                                        name  ...   iid\n",
              "0                                Jaws (1975)  ...  1387\n",
              "1                 Saving Private Ryan (1998)  ...  2028\n",
              "2             Godfather: Part II, The (1974)  ...  1221\n",
              "3                 Maltese Falcon, The (1941)  ...   913\n",
              "4                 Crimson Pirate, The (1952)  ...  3417\n",
              "5                      Godfather, The (1972)  ...   858\n",
              "6                Strangers on a Train (1951)  ...  2186\n",
              "7                   Strictly Ballroom (1992)  ...  1188\n",
              "8  Butch Cassidy and the Sundance Kid (1969)  ...  1304\n",
              "9           Shawshank Redemption, The (1994)  ...   318\n",
              "\n",
              "[10 rows x 4 columns]"
            ]
          },
          "metadata": {
            "tags": []
          },
          "execution_count": 123
        }
      ]
    },
    {
      "cell_type": "markdown",
      "metadata": {
        "id": "xWwi50q27xvN"
      },
      "source": [
        "# Fit/ predict"
      ]
    },
    {
      "cell_type": "code",
      "metadata": {
        "id": "IlkjbU5L7zgG"
      },
      "source": [
        "# https://surprise.readthedocs.io/en/stable/matrix_factorization.html\n",
        "algo = surprise.SVD(n_factors=50, biased=True, n_epochs=20, random_state=42, verbose=True)\n",
        "algo.fit(trainset)"
      ],
      "execution_count": null,
      "outputs": []
    },
    {
      "cell_type": "code",
      "metadata": {
        "colab": {
          "base_uri": "https://localhost:8080/",
          "height": 356
        },
        "id": "xtM1C-Rd63I0",
        "outputId": "49935703-849d-4a37-dd43-c5dabbec7552"
      },
      "source": [
        "uid_raw = str(837)\n",
        "\n",
        "item_list_raw, rating_list = make_predictions(algo, uid_raw, trainset)\n",
        "df = make_df(movies_df, item_list_raw, rating_list)\n",
        "df.head(10)\n"
      ],
      "execution_count": null,
      "outputs": [
        {
          "output_type": "execute_result",
          "data": {
            "text/html": [
              "<div>\n",
              "<style scoped>\n",
              "    .dataframe tbody tr th:only-of-type {\n",
              "        vertical-align: middle;\n",
              "    }\n",
              "\n",
              "    .dataframe tbody tr th {\n",
              "        vertical-align: top;\n",
              "    }\n",
              "\n",
              "    .dataframe thead th {\n",
              "        text-align: right;\n",
              "    }\n",
              "</style>\n",
              "<table border=\"1\" class=\"dataframe\">\n",
              "  <thead>\n",
              "    <tr style=\"text-align: right;\">\n",
              "      <th></th>\n",
              "      <th>name</th>\n",
              "      <th>genre</th>\n",
              "      <th>rating</th>\n",
              "      <th>iid</th>\n",
              "    </tr>\n",
              "  </thead>\n",
              "  <tbody>\n",
              "    <tr>\n",
              "      <th>0</th>\n",
              "      <td>To Kill a Mockingbird (1962)</td>\n",
              "      <td>Drama</td>\n",
              "      <td>4.053045</td>\n",
              "      <td>1207</td>\n",
              "    </tr>\n",
              "    <tr>\n",
              "      <th>1</th>\n",
              "      <td>Sanjuro (1962)</td>\n",
              "      <td>Action|Adventure</td>\n",
              "      <td>3.956100</td>\n",
              "      <td>2905</td>\n",
              "    </tr>\n",
              "    <tr>\n",
              "      <th>2</th>\n",
              "      <td>Wizard of Oz, The (1939)</td>\n",
              "      <td>Adventure|Children's|Drama|Musical</td>\n",
              "      <td>3.914303</td>\n",
              "      <td>919</td>\n",
              "    </tr>\n",
              "    <tr>\n",
              "      <th>3</th>\n",
              "      <td>It's a Wonderful Life (1946)</td>\n",
              "      <td>Drama</td>\n",
              "      <td>3.907094</td>\n",
              "      <td>953</td>\n",
              "    </tr>\n",
              "    <tr>\n",
              "      <th>4</th>\n",
              "      <td>Schindler's List (1993)</td>\n",
              "      <td>Drama|War</td>\n",
              "      <td>3.848974</td>\n",
              "      <td>527</td>\n",
              "    </tr>\n",
              "    <tr>\n",
              "      <th>5</th>\n",
              "      <td>Seven Samurai (The Magnificent Seven) (Shichin...</td>\n",
              "      <td>Action|Drama</td>\n",
              "      <td>3.841692</td>\n",
              "      <td>2019</td>\n",
              "    </tr>\n",
              "    <tr>\n",
              "      <th>6</th>\n",
              "      <td>Raiders of the Lost Ark (1981)</td>\n",
              "      <td>Action|Adventure</td>\n",
              "      <td>3.817769</td>\n",
              "      <td>1198</td>\n",
              "    </tr>\n",
              "    <tr>\n",
              "      <th>7</th>\n",
              "      <td>Casablanca (1942)</td>\n",
              "      <td>Drama|Romance|War</td>\n",
              "      <td>3.805127</td>\n",
              "      <td>912</td>\n",
              "    </tr>\n",
              "    <tr>\n",
              "      <th>8</th>\n",
              "      <td>Patton (1970)</td>\n",
              "      <td>Drama|War</td>\n",
              "      <td>3.800728</td>\n",
              "      <td>1272</td>\n",
              "    </tr>\n",
              "    <tr>\n",
              "      <th>9</th>\n",
              "      <td>Rear Window (1954)</td>\n",
              "      <td>Mystery|Thriller</td>\n",
              "      <td>3.790738</td>\n",
              "      <td>904</td>\n",
              "    </tr>\n",
              "  </tbody>\n",
              "</table>\n",
              "</div>"
            ],
            "text/plain": [
              "                                                name  ...   iid\n",
              "0                       To Kill a Mockingbird (1962)  ...  1207\n",
              "1                                     Sanjuro (1962)  ...  2905\n",
              "2                           Wizard of Oz, The (1939)  ...   919\n",
              "3                       It's a Wonderful Life (1946)  ...   953\n",
              "4                            Schindler's List (1993)  ...   527\n",
              "5  Seven Samurai (The Magnificent Seven) (Shichin...  ...  2019\n",
              "6                     Raiders of the Lost Ark (1981)  ...  1198\n",
              "7                                  Casablanca (1942)  ...   912\n",
              "8                                      Patton (1970)  ...  1272\n",
              "9                                 Rear Window (1954)  ...   904\n",
              "\n",
              "[10 rows x 4 columns]"
            ]
          },
          "metadata": {
            "tags": []
          },
          "execution_count": 124
        }
      ]
    },
    {
      "cell_type": "markdown",
      "metadata": {
        "id": "2M4FLANA8Vzg"
      },
      "source": [
        "# Visualize matrix of predictions"
      ]
    },
    {
      "cell_type": "code",
      "metadata": {
        "colab": {
          "base_uri": "https://localhost:8080/"
        },
        "id": "dGS8ihSPAhMF",
        "outputId": "842fdf72-b061-4d04-dd9a-a8fa3472111a"
      },
      "source": [
        "# inspect user ratings for user 837\n",
        "uid_raw = str(837)\n",
        "uid_inner = trainset.to_inner_uid(uid_raw)\n",
        "user_ratings = trainset.ur[uid_inner]\n",
        "print(len(user_ratings))\n",
        "print(user_ratings)\n",
        "ratings_raw = [rating for (iid, rating) in user_ratings]\n",
        "rated_raw = [trainset.to_raw_iid(iid) for (iid, rating) in user_ratings]\n",
        "print(rated_raw)\n",
        "print(trainset.to_raw_iid(1231))\n",
        "print(ratings_raw[0])"
      ],
      "execution_count": null,
      "outputs": [
        {
          "output_type": "stream",
          "text": [
            "69\n",
            "[(1231, 3.0), (1113, 3.0), (559, 4.0), (97, 3.0), (255, 3.0), (1240, 2.0), (597, 4.0), (631, 1.0), (1448, 3.0), (1195, 3.0), (540, 3.0), (338, 5.0), (54, 4.0), (78, 3.0), (246, 3.0), (985, 3.0), (266, 3.0), (275, 2.0), (1454, 2.0), (159, 3.0), (859, 5.0), (156, 4.0), (1237, 2.0), (244, 3.0), (99, 4.0), (104, 3.0), (151, 3.0), (1456, 3.0), (199, 4.0), (1891, 2.0), (945, 3.0), (88, 4.0), (799, 3.0), (617, 3.0), (1450, 4.0), (213, 5.0), (669, 5.0), (1922, 4.0), (92, 3.0), (1518, 3.0), (1529, 3.0), (829, 2.0), (1468, 3.0), (132, 1.0), (955, 3.0), (1249, 3.0), (882, 3.0), (167, 4.0), (315, 3.0), (41, 4.0), (381, 4.0), (210, 4.0), (2451, 3.0), (135, 3.0), (1511, 3.0), (15, 4.0), (711, 3.0), (215, 2.0), (1475, 4.0), (216, 3.0), (728, 4.0), (1154, 3.0), (67, 4.0), (434, 5.0), (1228, 3.0), (48, 5.0), (546, 4.0), (1009, 2.0), (170, 3.0)]\n",
            "['1248', '2991', '1252', '589', '6', '1267', '1276', '1292', '905', '910', '1446', '913', '3068', '1610', '1617', '942', '3083', '2289', '955', '3095', '3417', '3418', '3435', '296', '3654', '2858', '457', '3683', '1304', '1177', '1179', '1188', '3101', '2300', '2186', '1387', '858', '3307', '110', '3341', '3504', '3362', '3366', '2571', '164', '2726', '1783', '318', '2599', '1961', '34', '1036', '3720', '3735', '2935', '2791', '2000', '1201', '2944', '2947', '2948', '2949', '1213', '1221', '1222', '2028', '1233', '707', '1244']\n",
            "1248\n",
            "3.0\n"
          ],
          "name": "stdout"
        }
      ]
    },
    {
      "cell_type": "code",
      "metadata": {
        "colab": {
          "base_uri": "https://localhost:8080/"
        },
        "id": "ZjzdR9KRC5Ry",
        "outputId": "f4e4bc70-5a4a-419b-845d-d625bd897b51"
      },
      "source": [
        "def get_rating(trainset, uid_raw, iid_raw):\n",
        "  uid_inner = trainset.to_inner_uid(uid_raw)\n",
        "  user_ratings = trainset.ur[uid_inner]\n",
        "  rated_iid_raw = np.array([trainset.to_raw_iid(iid) for (iid, rating) in user_ratings])\n",
        "  ratings = np.array([rating for (iid, rating) in user_ratings])\n",
        "  ndx = np.where(rated_iid_raw == iid_raw)[0]\n",
        "  if len(ndx)>0:\n",
        "    return ratings[ndx][0]\n",
        "  else:\n",
        "    return 0\n",
        "\n",
        "\n",
        "print(get_rating(trainset, '837', '1201'))\n",
        "print(get_rating(trainset, '837', '0'))"
      ],
      "execution_count": null,
      "outputs": [
        {
          "output_type": "stream",
          "text": [
            "2.0\n",
            "0\n"
          ],
          "name": "stdout"
        }
      ]
    },
    {
      "cell_type": "code",
      "metadata": {
        "colab": {
          "base_uri": "https://localhost:8080/",
          "height": 538
        },
        "id": "Qkkc8AQnvMUy",
        "outputId": "f547ebb3-276d-4fb0-b315-0e6662cd297f"
      },
      "source": [
        "\n",
        "\n",
        "users_raw = list(trainset.to_raw_uid(i) for i in trainset.all_users())\n",
        "items_raw = list(trainset.to_raw_iid(i) for i in trainset.all_items())\n",
        "\n",
        "users_raw = ['837'] + users_raw\n",
        "items_raw = [str(i) for i in range(1200, 1300)]\n",
        "nusers = 20\n",
        "nitems = 20\n",
        "\n",
        "Rtrue = np.zeros((nusers, nitems))\n",
        "Rpred = np.zeros((nusers, nitems))\n",
        "for ui in range(nusers):\n",
        "  for ii in range(nitems):\n",
        "    uid = users_raw[ui]\n",
        "    iid = items_raw[ii]\n",
        "    pred = algo.predict(uid, iid,  verbose=False)\n",
        "    uid_raw, iid_raw, _, rating_pred, details =  pred\n",
        "    Rpred[ui, ii] = rating_pred\n",
        "    Rtrue[ui, ii] = get_rating(trainset, uid_raw, iid_raw)\n",
        "\n",
        "\n",
        "plt.figure(); plt.imshow(Rtrue, cmap='jet'); plt.colorbar()\n",
        "plt.figure(); plt.imshow(Rpred, cmap='jet'); plt.colorbar()"
      ],
      "execution_count": null,
      "outputs": [
        {
          "output_type": "execute_result",
          "data": {
            "text/plain": [
              "<matplotlib.colorbar.Colorbar at 0x7fc781a0aeb8>"
            ]
          },
          "metadata": {
            "tags": []
          },
          "execution_count": 167
        },
        {
          "output_type": "display_data",
          "data": {
            "image/png": "[encoded data removed]",
            "text/plain": [
              "<Figure size 432x288 with 2 Axes>"
            ]
          },
          "metadata": {
            "tags": [],
            "needs_background": "light"
          }
        },
        {
          "output_type": "display_data",
          "data": {
            "image/png": "[encoded data removed]",
            "text/plain": [
              "<Figure size 432x288 with 2 Axes>"
            ]
          },
          "metadata": {
            "tags": [],
            "needs_background": "light"
          }
        }
      ]
    },
    {
      "cell_type": "code",
      "metadata": {
        "id": "-VGMu-T69eQ-"
      },
      "source": [
        ""
      ],
      "execution_count": null,
      "outputs": []
    }
  ]
}