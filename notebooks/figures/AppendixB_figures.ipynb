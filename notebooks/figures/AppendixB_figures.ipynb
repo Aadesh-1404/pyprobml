{
 "cells": [
  {
   "cell_type": "code",
   "execution_count": null,
   "metadata": {},
   "outputs": [],
   "source": [
    "# Copyright 2021 Google LLC\n",
    "# Use of this source code is governed by an MIT-style\n",
    "# license that can be found in the LICENSE file or at\n",
    "# https://opensource.org/licenses/MIT.\n",
    "\n",
    "# Author(s): Kevin P. Murphy (murphyk@gmail.com) and Mahmoud Soliman (mjs@aucegypt.edu)"
   ]
  },
  {
   "cell_type": "markdown",
   "metadata": {},
   "source": [
    "<a href=\"https://opensource.org/licenses/MIT\" target=\"_parent\"><img src=\"https://img.shields.io/github/license/probml/pyprobml\"/></a>"
   ]
  },
  {
   "cell_type": "markdown",
   "metadata": {},
   "source": [
    "<a href=\"https://colab.research.google.com/github/probml/pyprobml/blob/master/notebooks/figures//AppendixB_figures.ipynb\" target=\"_parent\"><img src=\"https://colab.research.google.com/assets/colab-badge.svg\" alt=\"Open In Colab\"/></a>"
   ]
  },
  {
   "cell_type": "markdown",
   "metadata": {},
   "source": [
    "# Cloning the pyprobml repo"
   ]
  },
  {
   "cell_type": "code",
   "execution_count": null,
   "metadata": {},
   "outputs": [],
   "source": [
    "!git clone https://github.com/probml/pyprobml \n",
    "%cd pyprobml/scripts"
   ]
  },
  {
   "cell_type": "markdown",
   "metadata": {},
   "source": [
    "# Installing required software (This may take few minutes)"
   ]
  },
  {
   "cell_type": "code",
   "execution_count": null,
   "metadata": {},
   "outputs": [],
   "source": [
    "!apt-get install octave  -qq > /dev/null\n",
    "!apt-get install liboctave-dev -qq > /dev/null"
   ]
  },
  {
   "cell_type": "code",
   "execution_count": null,
   "metadata": {},
   "outputs": [],
   "source": [
    "%%capture\n",
    "%load_ext autoreload \n",
    "%autoreload 2\n",
    "DISCLAIMER = 'WARNING : Editing in VM - changes lost after reboot!!'\n",
    "from google.colab import files\n",
    "\n",
    "def interactive_script(script, i=True):\n",
    "  if i:\n",
    "    s = open(script).read()\n",
    "    if not s.split('\\n', 1)[0]==\"## \"+DISCLAIMER:\n",
    "      open(script, 'w').write(\n",
    "          f'## {DISCLAIMER}\\n' + '#' * (len(DISCLAIMER) + 3) + '\\n\\n' + s)\n",
    "    files.view(script)\n",
    "    %run $script\n",
    "  else:\n",
    "      %run $script\n",
    "\n",
    "def show_image(img_path):\n",
    "  from google.colab.patches import cv2_imshow\n",
    "  import cv2\n",
    "  img = cv2.imread(img_path, cv2.IMREAD_UNCHANGED)\n",
    "  img=cv2.resize(img,(600,600))\n",
    "  cv2_imshow(img)"
   ]
  },
  {
   "cell_type": "markdown",
   "metadata": {},
   "source": [
    "## Figure B.1:<a name='B.1'></a> <a name='fig:functions'></a> "
   ]
  },
  {
   "cell_type": "markdown",
   "metadata": {},
   "source": [
    "\n",
    "  (a) Diagram of a function, with domain $X=\\ 1, 2, 3\\ $ and codomain $Y=\\ A, B, C, D\\ $. The image/range is the set $\\ C,D\\ $. (b) This is not a function, since 2 does not map to a unique element. In addition, the mapping for elements 3 and 4 is not defined. From   https://en.wikipedia.org/wiki/Function_(mathematics) . Used with kind permission of Wikipedia author ``Bin im Garten''. "
   ]
  },
  {
   "cell_type": "code",
   "execution_count": null,
   "metadata": {},
   "outputs": [],
   "source": [
    "show_image(\"/content/pyprobml/notebooks/figures/images/functions-wiki1.png\")"
   ]
  },
  {
   "cell_type": "code",
   "execution_count": null,
   "metadata": {},
   "outputs": [],
   "source": [
    "show_image(\"/content/pyprobml/notebooks/figures/images/functions-wiki2.png\")"
   ]
  },
  {
   "cell_type": "markdown",
   "metadata": {},
   "source": [
    "## Figure B.2:<a name='B.2'></a> <a name='fig:absfn'></a> "
   ]
  },
  {
   "cell_type": "markdown",
   "metadata": {},
   "source": [
    "\n",
    "  (a) A function that has a jump discontinuity at the marked point. From   https://en.wikipedia.org/wiki/Derivative . Used with kind permission of Wikipedia author Jacj. (b) The absolute value function is continuous, but is not differentiable at $x=0$. From   https://en.wikipedia.org/wiki/Derivative . Used with kind permission of Wikipedia author Qef. "
   ]
  },
  {
   "cell_type": "code",
   "execution_count": null,
   "metadata": {},
   "outputs": [],
   "source": [
    "show_image(\"/content/pyprobml/notebooks/figures/images/Right-continuous.png\")"
   ]
  },
  {
   "cell_type": "code",
   "execution_count": null,
   "metadata": {},
   "outputs": [],
   "source": [
    "show_image(\"/content/pyprobml/notebooks/figures/images/Absolute_value.png\")"
   ]
  },
  {
   "cell_type": "markdown",
   "metadata": {},
   "source": [
    "## Figure B.3:<a name='B.3'></a> <a name='fig:lipschitzCone'></a> "
   ]
  },
  {
   "cell_type": "markdown",
   "metadata": {},
   "source": [
    "\n",
    "  For a Lipschitz continuous function $f$, there exists a double cone (white) whose origin can be moved along the graph of $f$ so that the whole graph always stays outside the double cone. From   https://en.wikipedia.org/wiki/Lipschitz\\_continuity . Used with kind permission of Wikipedia author Taschee. "
   ]
  },
  {
   "cell_type": "code",
   "execution_count": null,
   "metadata": {},
   "outputs": [],
   "source": [
    "show_image(\"/content/pyprobml/notebooks/figures/images/lipschitz_cone.png\")"
   ]
  },
  {
   "cell_type": "markdown",
   "metadata": {},
   "source": [
    "## Figure B.4:<a name='B.4'></a> <a name='fig:simpsonsFamily'></a> "
   ]
  },
  {
   "cell_type": "markdown",
   "metadata": {},
   "source": [
    "\n",
    "  Pedigree tree for a family from the TV show  \\em The Simpsons . Circles are females, squares are males. From Figure 3B from <a href='#KollerBook'>[KF09]</a> . Used with kind permission of Daphne Koller. "
   ]
  },
  {
   "cell_type": "code",
   "execution_count": null,
   "metadata": {},
   "outputs": [],
   "source": [
    "show_image(\"/content/pyprobml/notebooks/figures/images/simpsonsFamily.png\")"
   ]
  },
  {
   "cell_type": "markdown",
   "metadata": {},
   "source": [
    "## Figure B.5:<a name='B.5'></a> <a name='simpsonsReln'></a> "
   ]
  },
  {
   "cell_type": "markdown",
   "metadata": {},
   "source": [
    "\n",
    "  (a) Graph of the symmetric (undirected) married-to relation between $\\mathcal  V _m$ and $\\mathcal  V _f$. This is a bipartite graph, with male nodes on left, and female nodes on the right. (b) Graph of directed father-of relation from $\\mathcal  V _m$ to $\\mathcal  V _m \\cup \\mathcal  V _f$. "
   ]
  },
  {
   "cell_type": "code",
   "execution_count": null,
   "metadata": {},
   "outputs": [],
   "source": [
    "show_image(\"/content/pyprobml/notebooks/figures/images/{simpsonsMarried}.png\")"
   ]
  },
  {
   "cell_type": "code",
   "execution_count": null,
   "metadata": {},
   "outputs": [],
   "source": [
    "show_image(\"/content/pyprobml/notebooks/figures/images/{simpsonsFather}.png\")"
   ]
  },
  {
   "cell_type": "markdown",
   "metadata": {},
   "source": [
    "## Figure B.6:<a name='B.6'></a> <a name='fig:convexSets'></a> "
   ]
  },
  {
   "cell_type": "markdown",
   "metadata": {},
   "source": [
    "\n",
    "  Illustration of some convex and non-convex sets. "
   ]
  },
  {
   "cell_type": "code",
   "execution_count": null,
   "metadata": {},
   "outputs": [],
   "source": [
    "show_image(\"/content/pyprobml/notebooks/figures/images/convexSets.png\")"
   ]
  },
  {
   "cell_type": "markdown",
   "metadata": {},
   "source": [
    "## Figure B.7:<a name='B.7'></a> <a name='fig:epigraphLowerbound'></a> "
   ]
  },
  {
   "cell_type": "markdown",
   "metadata": {},
   "source": [
    "\n",
    "  (a) Illustration of the epigraph of a function. (b) For a convex function $f(x)$, its epipgraph can be represented as the intersection of half-spaces defined by linear lower bounds derived from the  \\bf conjugate function  $f^*(\\lambda ) = \\qopname m max _x \\lambda x - f(x)$. "
   ]
  },
  {
   "cell_type": "code",
   "execution_count": null,
   "metadata": {},
   "outputs": [],
   "source": [
    "show_image(\"/content/pyprobml/notebooks/figures/images/epigraph.pdf.png\")"
   ]
  },
  {
   "cell_type": "code",
   "execution_count": null,
   "metadata": {},
   "outputs": [],
   "source": [
    "show_image(\"/content/pyprobml/notebooks/figures/images/epigraphLowerbound.png\")"
   ]
  },
  {
   "cell_type": "markdown",
   "metadata": {},
   "source": [
    "## Figure B.8:<a name='B.8'></a> <a name='convexFn'></a> "
   ]
  },
  {
   "cell_type": "markdown",
   "metadata": {},
   "source": [
    "\n",
    "  (a) Illustration of a convex function. We see that the chord joining $(x, f(x))$ to $(y, f(y))$ lies above the function. (b) A function that is neither convex nor concave.  \\bf A  is a local minimum,  \\bf B  is a global minimum. "
   ]
  },
  {
   "cell_type": "code",
   "execution_count": null,
   "metadata": {},
   "outputs": [],
   "source": [
    "show_image(\"/content/pyprobml/notebooks/figures/images/{convexFnHand1}.png\")"
   ]
  },
  {
   "cell_type": "code",
   "execution_count": null,
   "metadata": {},
   "outputs": [],
   "source": [
    "show_image(\"/content/pyprobml/notebooks/figures/images/{convexFnHand3}.png\")"
   ]
  },
  {
   "cell_type": "markdown",
   "metadata": {},
   "source": [
    "## Figure B.9:<a name='B.9'></a> <a name='fig:quadforms'></a> "
   ]
  },
  {
   "cell_type": "markdown",
   "metadata": {},
   "source": [
    "\n",
    "  The quadratic form $f(\\mathbf  x ) = \\mathbf  x ^ \\top   \\mathbf  A \\mathbf  x $ in 2d. (a) $\\mathbf  A $ is positive definite, so $f$ is convex. (b) $\\mathbf  A $ is negative definite, so $f$ is concave. (c) $\\mathbf  A $ is positive semidefinite but singular, so $f$ is convex, but not strictly. Notice the valley of constant height in the middle. (d) $\\mathbf  A $ is indefinite, so $f$ is neither convex nor concave. The stationary point in the middle of the surface is a saddle point. From Figure 5 of <a href='#Shewchuk1994'>[Jon94]</a> . "
   ]
  },
  {
   "cell_type": "code",
   "execution_count": null,
   "metadata": {},
   "outputs": [],
   "source": [
    "show_image(\"/content/pyprobml/notebooks/figures/images/quadforms.png\")"
   ]
  },
  {
   "cell_type": "markdown",
   "metadata": {},
   "source": [
    "## Figure B.10:<a name='B.10'></a> <a name='fig:boydSubdiff'></a> "
   ]
  },
  {
   "cell_type": "markdown",
   "metadata": {},
   "source": [
    "\n",
    "  Illustration of subgradients. At $\\mathbf  x _1$, the convex function $f$ is differentiable, and $\\mathbf  g _1$ (which is the derivative of $f$ at $\\mathbf  x _1$) is the unique subgradient at $\\mathbf  x _1$. At the point $\\mathbf  x _2$, $f$ is not differentiable, because of the ``kink''. However, there are many subgradients at this point, of which two are shown. From Figure 1 of <a href='#Boyd364bSubgrad'>[BD17]</a> . Used with kind permission of Stephen Boyd. "
   ]
  },
  {
   "cell_type": "code",
   "execution_count": null,
   "metadata": {},
   "outputs": [],
   "source": [
    "show_image(\"/content/pyprobml/notebooks/figures/images/boydSubdiff.png\")"
   ]
  },
  {
   "cell_type": "markdown",
   "metadata": {},
   "source": [
    "## Figure B.11:<a name='B.11'></a> <a name='fig:boydSubdiffAbs'></a> "
   ]
  },
  {
   "cell_type": "markdown",
   "metadata": {},
   "source": [
    "\n",
    "  The absolute value function (left) and its subdifferential (right). From Figure 3 of <a href='#Boyd364bSubgrad'>[BD17]</a> . Used with kind permission of Stephen Boyd. "
   ]
  },
  {
   "cell_type": "code",
   "execution_count": null,
   "metadata": {},
   "outputs": [],
   "source": [
    "show_image(\"/content/pyprobml/notebooks/figures/images/boydSubdiffAbs.png\")"
   ]
  },
  {
   "cell_type": "markdown",
   "metadata": {},
   "source": [
    "## Figure B.12:<a name='B.12'></a> <a name='fig:bregman'></a> "
   ]
  },
  {
   "cell_type": "markdown",
   "metadata": {},
   "source": [
    "\n",
    "  Illustration of Bregman divergence. "
   ]
  },
  {
   "cell_type": "code",
   "execution_count": null,
   "metadata": {},
   "outputs": [],
   "source": [
    "show_image(\"/content/pyprobml/notebooks/figures/images/bregman.png\")"
   ]
  },
  {
   "cell_type": "markdown",
   "metadata": {},
   "source": [
    "## Figure B.13:<a name='B.13'></a> <a name='bishop10.11'></a> "
   ]
  },
  {
   "cell_type": "markdown",
   "metadata": {},
   "source": [
    "\n",
    "  Illustration of a conjugate function. Red line is original function $f(x)$, and the blue line is a linear lower bound $\\lambda x$. To make the bound tight, we find the $x$ where $\\nabla f(x)$ is parallel to $\\lambda $, and slide the line up to touch there; the amount we slide up is given by $f^*(\\lambda )$. Adapted from Figure 10.11 of <a href='#BishopBook'>[Bis06]</a> .  \n",
    "Figure(s) generated by [conjugateFunction.m](https://github.com/probml/pmtk3/blob/master/demos/conjugateFunction.m) "
   ]
  },
  {
   "cell_type": "code",
   "execution_count": null,
   "metadata": {},
   "outputs": [],
   "source": [
    "!octave -W conjugateFunction.m >> _"
   ]
  },
  {
   "cell_type": "markdown",
   "metadata": {},
   "source": [
    "## Figure B.14:<a name='B.14'></a> <a name='epilower'></a> "
   ]
  },
  {
   "cell_type": "markdown",
   "metadata": {},
   "source": [
    "\n",
    "  The red curve is $f(x)=e^ -x $ and the colored lines are linear lower bounds. Each lower bound of slope $\\lambda $ is tangent to the curve at the point $x_ \\lambda   = -\\qopname o log (-\\lambda )$, where $f(x_ \\lambda  ) = e^ \\qopname o log (-\\lambda ) =-\\lambda $. For the blue curve, this occurs at $x_ \\lambda  =\\xi $. Adapted from Figure 10.10 of \\cite  BishopBook .  \n",
    "Figure(s) generated by [optLowerbound.m](https://github.com/probml/pmtk3/blob/master/demos/optLowerbound.m) "
   ]
  },
  {
   "cell_type": "code",
   "execution_count": null,
   "metadata": {},
   "outputs": [],
   "source": [
    "!octave -W optLowerbound.m >> _"
   ]
  },
  {
   "cell_type": "markdown",
   "metadata": {},
   "source": [
    "## References:\n",
    " <a name='Boyd364bSubgrad'>[BD17]</a> S. Boyd and J. Duchi. \"Lecture notes for EE364b: Convex Optimization II\". (2017). \n",
    "\n",
    "<a name='BishopBook'>[Bis06]</a> C. Bishop \"Pattern recognition and machine learning\". (2006). \n",
    "\n",
    "<a name='Shewchuk1994'>[Jon94]</a> S. JonathanRichard \"An introduction to the conjugate gradient method without theagonizing pain\". (1994). \n",
    "\n",
    "<a name='KollerBook'>[KF09]</a> D. Koller and N. Friedman. \"Probabilistic Graphical Models: Principles and Techniques\". (2009). \n",
    "\n"
   ]
  }
 ],
 "metadata": {
  "kernelspec": {
   "display_name": "Python 3",
   "name": "python3"
  }
 },
 "nbformat": 4,
 "nbformat_minor": 4
}
