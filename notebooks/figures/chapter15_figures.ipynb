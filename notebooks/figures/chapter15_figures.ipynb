{
 "cells": [
  {
   "cell_type": "code",
   "execution_count": null,
   "metadata": {},
   "outputs": [],
   "source": [
    "# Copyright 2021 Google LLC\n",
    "# Use of this source code is governed by an MIT-style\n",
    "# license that can be found in the LICENSE file or at\n",
    "# https://opensource.org/licenses/MIT.\n",
    "\n",
    "# Author(s): Kevin P. Murphy (murphyk@gmail.com) and Mahmoud Soliman (mjs@aucegypt.edu)"
   ]
  },
  {
   "cell_type": "markdown",
   "metadata": {},
   "source": [
    "<a href=\"https://opensource.org/licenses/MIT\" target=\"_parent\"><img src=\"https://img.shields.io/github/license/probml/pyprobml\"/></a>"
   ]
  },
  {
   "cell_type": "markdown",
   "metadata": {},
   "source": [
    "<a href=\"https://colab.research.google.com/github/probml/pyprobml/blob/master/notebooks/figures//chapter15_figures.ipynb\" target=\"_parent\"><img src=\"https://colab.research.google.com/assets/colab-badge.svg\" alt=\"Open In Colab\"/></a>"
   ]
  },
  {
   "cell_type": "markdown",
   "metadata": {},
   "source": [
    "## Figure 15.1:<a name='15.1'></a> <a name='rnn'></a> "
   ]
  },
  {
   "cell_type": "markdown",
   "metadata": {},
   "source": [
    "\n",
    "  Recurrent neural network (RNN) for generating a variable length output sequence $\\mathbf  y _ 1:T $ given an optional fixed length input vector $\\mathbf  x $. "
   ]
  },
  {
   "cell_type": "code",
   "execution_count": null,
   "metadata": {},
   "outputs": [],
   "source": [
    " #@title Setup { display-mode: \"form\" }\n",
    "%%time\n",
    "# If you run this for the first time it would take ~25/30 seconds\n",
    "!git clone https://github.com/probml/pyprobml /pyprobml &> /dev/null && git clone https://github.com/Sekhen/colab_powertoys.git &> /dev/null \n",
    "!pip3 install nbimporter -qqq \n",
    "%cd -q /content/colab_powertoys \n",
    "from colab_powertoys.probml_toys import probml_toys as pmlt\n",
    "%cd -q /content/\n"
   ]
  },
  {
   "cell_type": "code",
   "execution_count": null,
   "metadata": {},
   "outputs": [],
   "source": [
    "pmlt.show_image(\"/pyprobml/notebooks/figures/images/vec2seq.png\")"
   ]
  },
  {
   "cell_type": "markdown",
   "metadata": {},
   "source": [
    "## Figure 15.2:<a name='15.2'></a> <a name='rnnShakespeare'></a> "
   ]
  },
  {
   "cell_type": "markdown",
   "metadata": {},
   "source": [
    "\n",
    "  Example output from a character level RNN when given the prefix ``ROMEO: '' when trained on the complete works of Shakespeare (1,115,394 characters). (The model is an LSTM (\\cref  sec:LSTM ) with 1024 hidden units, and a 256-dimensional word embedding. The model is trained on sequences of length 100 for 30 epochs.) "
   ]
  },
  {
   "cell_type": "code",
   "execution_count": null,
   "metadata": {},
   "outputs": [],
   "source": [
    " #@title Setup { display-mode: \"form\" }\n",
    "%%time\n",
    "# If you run this for the first time it would take ~25/30 seconds\n",
    "!git clone https://github.com/probml/pyprobml /pyprobml &> /dev/null && git clone https://github.com/Sekhen/colab_powertoys.git &> /dev/null \n",
    "!pip3 install nbimporter -qqq \n",
    "%cd -q /content/colab_powertoys \n",
    "from colab_powertoys.probml_toys import probml_toys as pmlt\n",
    "%cd -q /content/\n"
   ]
  },
  {
   "cell_type": "markdown",
   "metadata": {},
   "source": [
    "## Figure 15.3:<a name='15.3'></a> <a name='imageCaptioning'></a> "
   ]
  },
  {
   "cell_type": "markdown",
   "metadata": {},
   "source": [
    "\n",
    "  Illustration of a CNN-RNN model for image captioning. The pink boxes labeled ``LSTM'' refer to a specific kind of RNN that we discuss in \\cref  sec:LSTM . The pink boxes labeled $W_ \\text  emb  $ refer to embedding matrices for the (sampled) one-hot tokens, so that the input to the model is a real-valued vector. From   https://bit.ly/2FKnqHm . Used with kind permission of Yunjey Choi. "
   ]
  },
  {
   "cell_type": "code",
   "execution_count": null,
   "metadata": {},
   "outputs": [],
   "source": [
    " #@title Setup { display-mode: \"form\" }\n",
    "%%time\n",
    "# If you run this for the first time it would take ~25/30 seconds\n",
    "!git clone https://github.com/probml/pyprobml /pyprobml &> /dev/null && git clone https://github.com/Sekhen/colab_powertoys.git &> /dev/null \n",
    "!pip3 install nbimporter -qqq \n",
    "%cd -q /content/colab_powertoys \n",
    "from colab_powertoys.probml_toys import probml_toys as pmlt\n",
    "%cd -q /content/\n"
   ]
  },
  {
   "cell_type": "code",
   "execution_count": null,
   "metadata": {},
   "outputs": [],
   "source": [
    "pmlt.show_image(\"/pyprobml/notebooks/figures/images/image-captioning-figure.pdf.png\")"
   ]
  },
  {
   "cell_type": "markdown",
   "metadata": {},
   "source": [
    "## Figure 15.4:<a name='15.4'></a> <a name='rnnBiPool'></a> "
   ]
  },
  {
   "cell_type": "markdown",
   "metadata": {},
   "source": [
    "\n",
    "  (a) RNN for sequence classification. (b) Bi-directional RNN for sequence classification. "
   ]
  },
  {
   "cell_type": "code",
   "execution_count": null,
   "metadata": {},
   "outputs": [],
   "source": [
    " #@title Setup { display-mode: \"form\" }\n",
    "%%time\n",
    "# If you run this for the first time it would take ~25/30 seconds\n",
    "!git clone https://github.com/probml/pyprobml /pyprobml &> /dev/null && git clone https://github.com/Sekhen/colab_powertoys.git &> /dev/null \n",
    "!pip3 install nbimporter -qqq \n",
    "%cd -q /content/colab_powertoys \n",
    "from colab_powertoys.probml_toys import probml_toys as pmlt\n",
    "%cd -q /content/\n"
   ]
  },
  {
   "cell_type": "code",
   "execution_count": null,
   "metadata": {},
   "outputs": [],
   "source": [
    "pmlt.show_image(\"/pyprobml/notebooks/figures/images/rnnPool.png\")"
   ]
  },
  {
   "cell_type": "code",
   "execution_count": null,
   "metadata": {},
   "outputs": [],
   "source": [
    "pmlt.show_image(\"/pyprobml/notebooks/figures/images/rnnBiPool.png\")"
   ]
  },
  {
   "cell_type": "markdown",
   "metadata": {},
   "source": [
    "## Figure 15.5:<a name='15.5'></a> <a name='biRNN'></a> "
   ]
  },
  {
   "cell_type": "markdown",
   "metadata": {},
   "source": [
    "\n",
    "  (a) RNN for transforming a sequence to another, aligned sequence. (b) Bi-directional RNN for the same task. "
   ]
  },
  {
   "cell_type": "code",
   "execution_count": null,
   "metadata": {},
   "outputs": [],
   "source": [
    " #@title Setup { display-mode: \"form\" }\n",
    "%%time\n",
    "# If you run this for the first time it would take ~25/30 seconds\n",
    "!git clone https://github.com/probml/pyprobml /pyprobml &> /dev/null && git clone https://github.com/Sekhen/colab_powertoys.git &> /dev/null \n",
    "!pip3 install nbimporter -qqq \n",
    "%cd -q /content/colab_powertoys \n",
    "from colab_powertoys.probml_toys import probml_toys as pmlt\n",
    "%cd -q /content/\n"
   ]
  },
  {
   "cell_type": "code",
   "execution_count": null,
   "metadata": {},
   "outputs": [],
   "source": [
    "pmlt.show_image(\"/pyprobml/notebooks/figures/images/rnnXY.png\")"
   ]
  },
  {
   "cell_type": "code",
   "execution_count": null,
   "metadata": {},
   "outputs": [],
   "source": [
    "pmlt.show_image(\"/pyprobml/notebooks/figures/images/rnnBi.png\")"
   ]
  },
  {
   "cell_type": "markdown",
   "metadata": {},
   "source": [
    "## Figure 15.6:<a name='15.6'></a> <a name='seq2seq'></a> "
   ]
  },
  {
   "cell_type": "markdown",
   "metadata": {},
   "source": [
    "\n",
    "  Encoder-decoder RNN architecture for mapping sequence $\\mathbf  x _ 1:T $ to sequence $\\mathbf  y _ 1:T' $. "
   ]
  },
  {
   "cell_type": "code",
   "execution_count": null,
   "metadata": {},
   "outputs": [],
   "source": [
    " #@title Setup { display-mode: \"form\" }\n",
    "%%time\n",
    "# If you run this for the first time it would take ~25/30 seconds\n",
    "!git clone https://github.com/probml/pyprobml /pyprobml &> /dev/null && git clone https://github.com/Sekhen/colab_powertoys.git &> /dev/null \n",
    "!pip3 install nbimporter -qqq \n",
    "%cd -q /content/colab_powertoys \n",
    "from colab_powertoys.probml_toys import probml_toys as pmlt\n",
    "%cd -q /content/\n"
   ]
  },
  {
   "cell_type": "code",
   "execution_count": null,
   "metadata": {},
   "outputs": [],
   "source": [
    "pmlt.show_image(\"/pyprobml/notebooks/figures/images/rnnSeq2Seq.png\")"
   ]
  },
  {
   "cell_type": "markdown",
   "metadata": {},
   "source": [
    "## Figure 15.7:<a name='15.7'></a> <a name='NMT'></a> "
   ]
  },
  {
   "cell_type": "markdown",
   "metadata": {},
   "source": [
    "\n",
    "  (a) Illustration of a seq2seq model for translating English to French. The - character represents the end of a sentence. From Figure 2.4 of <a href='#Luong2016thesis'>[Luo16]</a> . Used with kind permission of Minh-Thang Luong. (b) Illustration of greedy decoding. The most likely French word at each step is highlighted in green, and then fed in as input to the next step of the decoder. From Figure 2.5 of <a href='#Luong2016thesis'>[Luo16]</a> . Used with kind permission of Minh-Thang Luong. "
   ]
  },
  {
   "cell_type": "code",
   "execution_count": null,
   "metadata": {},
   "outputs": [],
   "source": [
    " #@title Setup { display-mode: \"form\" }\n",
    "%%time\n",
    "# If you run this for the first time it would take ~25/30 seconds\n",
    "!git clone https://github.com/probml/pyprobml /pyprobml &> /dev/null && git clone https://github.com/Sekhen/colab_powertoys.git &> /dev/null \n",
    "!pip3 install nbimporter -qqq \n",
    "%cd -q /content/colab_powertoys \n",
    "from colab_powertoys.probml_toys import probml_toys as pmlt\n",
    "%cd -q /content/\n"
   ]
  },
  {
   "cell_type": "code",
   "execution_count": null,
   "metadata": {},
   "outputs": [],
   "source": [
    "pmlt.show_image(\"/pyprobml/notebooks/figures/images/luong-nmt-very-details.png\")"
   ]
  },
  {
   "cell_type": "code",
   "execution_count": null,
   "metadata": {},
   "outputs": [],
   "source": [
    "pmlt.show_image(\"/pyprobml/notebooks/figures/images/luong-nmt-test.png\")"
   ]
  },
  {
   "cell_type": "markdown",
   "metadata": {},
   "source": [
    "## Figure 15.8:<a name='15.8'></a> <a name='beamSearch'></a> "
   ]
  },
  {
   "cell_type": "markdown",
   "metadata": {},
   "source": [
    "\n",
    "  Illustration of beam search using a beam of size 2. Adapted from Figure 8.15.3 of <a href='#dive'>[Zha+19]</a> . "
   ]
  },
  {
   "cell_type": "code",
   "execution_count": null,
   "metadata": {},
   "outputs": [],
   "source": [
    " #@title Setup { display-mode: \"form\" }\n",
    "%%time\n",
    "# If you run this for the first time it would take ~25/30 seconds\n",
    "!git clone https://github.com/probml/pyprobml /pyprobml &> /dev/null && git clone https://github.com/Sekhen/colab_powertoys.git &> /dev/null \n",
    "!pip3 install nbimporter -qqq \n",
    "%cd -q /content/colab_powertoys \n",
    "from colab_powertoys.probml_toys import probml_toys as pmlt\n",
    "%cd -q /content/\n"
   ]
  },
  {
   "cell_type": "code",
   "execution_count": null,
   "metadata": {},
   "outputs": [],
   "source": [
    "pmlt.show_image(\"/pyprobml/notebooks/figures/images/d2l-beam-search.png\")"
   ]
  },
  {
   "cell_type": "markdown",
   "metadata": {},
   "source": [
    "## Figure 15.9:<a name='15.9'></a> <a name='GRU'></a> "
   ]
  },
  {
   "cell_type": "markdown",
   "metadata": {},
   "source": [
    "\n",
    "  Illustration of a GRU. Adapted from Figure 8.8.3 of <a href='#dive'>[Zha+19]</a> . "
   ]
  },
  {
   "cell_type": "code",
   "execution_count": null,
   "metadata": {},
   "outputs": [],
   "source": [
    " #@title Setup { display-mode: \"form\" }\n",
    "%%time\n",
    "# If you run this for the first time it would take ~25/30 seconds\n",
    "!git clone https://github.com/probml/pyprobml /pyprobml &> /dev/null && git clone https://github.com/Sekhen/colab_powertoys.git &> /dev/null \n",
    "!pip3 install nbimporter -qqq \n",
    "%cd -q /content/colab_powertoys \n",
    "from colab_powertoys.probml_toys import probml_toys as pmlt\n",
    "%cd -q /content/\n"
   ]
  },
  {
   "cell_type": "code",
   "execution_count": null,
   "metadata": {},
   "outputs": [],
   "source": [
    "pmlt.show_image(\"/pyprobml/notebooks/figures/images/d2l-gru-full.png\")"
   ]
  },
  {
   "cell_type": "markdown",
   "metadata": {},
   "source": [
    "## Figure 15.10:<a name='15.10'></a> <a name='LSTM'></a> "
   ]
  },
  {
   "cell_type": "markdown",
   "metadata": {},
   "source": [
    "\n",
    "  Illustration of an LSTM. Adapted from Figure 8.9.4 of <a href='#dive'>[Zha+19]</a> . "
   ]
  },
  {
   "cell_type": "code",
   "execution_count": null,
   "metadata": {},
   "outputs": [],
   "source": [
    " #@title Setup { display-mode: \"form\" }\n",
    "%%time\n",
    "# If you run this for the first time it would take ~25/30 seconds\n",
    "!git clone https://github.com/probml/pyprobml /pyprobml &> /dev/null && git clone https://github.com/Sekhen/colab_powertoys.git &> /dev/null \n",
    "!pip3 install nbimporter -qqq \n",
    "%cd -q /content/colab_powertoys \n",
    "from colab_powertoys.probml_toys import probml_toys as pmlt\n",
    "%cd -q /content/\n"
   ]
  },
  {
   "cell_type": "code",
   "execution_count": null,
   "metadata": {},
   "outputs": [],
   "source": [
    "pmlt.show_image(\"/pyprobml/notebooks/figures/images/d2l-lstm-full.png\")"
   ]
  },
  {
   "cell_type": "markdown",
   "metadata": {},
   "source": [
    "## Figure 15.11:<a name='15.11'></a> <a name='textCNN'></a> "
   ]
  },
  {
   "cell_type": "markdown",
   "metadata": {},
   "source": [
    "\n",
    "  Illustration of the TextCNN model for binary sentiment classification. Adapted from Figure 15.3.5 of <a href='#dive'>[Zha+19]</a> . "
   ]
  },
  {
   "cell_type": "code",
   "execution_count": null,
   "metadata": {},
   "outputs": [],
   "source": [
    " #@title Setup { display-mode: \"form\" }\n",
    "%%time\n",
    "# If you run this for the first time it would take ~25/30 seconds\n",
    "!git clone https://github.com/probml/pyprobml /pyprobml &> /dev/null && git clone https://github.com/Sekhen/colab_powertoys.git &> /dev/null \n",
    "!pip3 install nbimporter -qqq \n",
    "%cd -q /content/colab_powertoys \n",
    "from colab_powertoys.probml_toys import probml_toys as pmlt\n",
    "%cd -q /content/\n"
   ]
  },
  {
   "cell_type": "code",
   "execution_count": null,
   "metadata": {},
   "outputs": [],
   "source": [
    "pmlt.show_image(\"/pyprobml/notebooks/figures/images/d2l-textcnn.png\")"
   ]
  },
  {
   "cell_type": "markdown",
   "metadata": {},
   "source": [
    "## Figure 15.12:<a name='15.12'></a> <a name='wavenet'></a> "
   ]
  },
  {
   "cell_type": "markdown",
   "metadata": {},
   "source": [
    "\n",
    "  Illustration of the wavenet model using dilated (atrous) convolutions, with dilation factors of 1, 2, 4 and 8. From Figure 3 of <a href='#wavenet'>[Aar+16]</a> . Used with kind permission of Aaron van den Oord. "
   ]
  },
  {
   "cell_type": "code",
   "execution_count": null,
   "metadata": {},
   "outputs": [],
   "source": [
    " #@title Setup { display-mode: \"form\" }\n",
    "%%time\n",
    "# If you run this for the first time it would take ~25/30 seconds\n",
    "!git clone https://github.com/probml/pyprobml /pyprobml &> /dev/null && git clone https://github.com/Sekhen/colab_powertoys.git &> /dev/null \n",
    "!pip3 install nbimporter -qqq \n",
    "%cd -q /content/colab_powertoys \n",
    "from colab_powertoys.probml_toys import probml_toys as pmlt\n",
    "%cd -q /content/\n"
   ]
  },
  {
   "cell_type": "code",
   "execution_count": null,
   "metadata": {},
   "outputs": [],
   "source": [
    "pmlt.show_image(\"/pyprobml/notebooks/figures/images/wavenet-fig3.png\")"
   ]
  },
  {
   "cell_type": "markdown",
   "metadata": {},
   "source": [
    "## Figure 15.13:<a name='15.13'></a> <a name='seq2seqAttn'></a> "
   ]
  },
  {
   "cell_type": "markdown",
   "metadata": {},
   "source": [
    "\n",
    "  Illustration of seq2seq with attention for English to French translation. Used with kind permission of Minh-Thang Luong. "
   ]
  },
  {
   "cell_type": "code",
   "execution_count": null,
   "metadata": {},
   "outputs": [],
   "source": [
    " #@title Setup { display-mode: \"form\" }\n",
    "%%time\n",
    "# If you run this for the first time it would take ~25/30 seconds\n",
    "!git clone https://github.com/probml/pyprobml /pyprobml &> /dev/null && git clone https://github.com/Sekhen/colab_powertoys.git &> /dev/null \n",
    "!pip3 install nbimporter -qqq \n",
    "%cd -q /content/colab_powertoys \n",
    "from colab_powertoys.probml_toys import probml_toys as pmlt\n",
    "%cd -q /content/\n"
   ]
  },
  {
   "cell_type": "code",
   "execution_count": null,
   "metadata": {},
   "outputs": [],
   "source": [
    "pmlt.show_image(\"/pyprobml/notebooks/figures/images/luong-attention.png\")"
   ]
  },
  {
   "cell_type": "markdown",
   "metadata": {},
   "source": [
    "## Figure 15.14:<a name='15.14'></a> <a name='translationHeatmap'></a> "
   ]
  },
  {
   "cell_type": "markdown",
   "metadata": {},
   "source": [
    "\n",
    "  Illustration of the attention heatmaps generated while translating two sentences from Spanish to English. (a) Input is ``hace mucho frio aqui.'', output is ``it is very cold here.''. (b) Input is ``\\IeC  \\textquestiondown  todavia estan en casa?'', output is ``are you still at home?''. Note that when generating the output token ``home'', the model should attend to the input token ``casa'', but in fact it seems to attend to the input token ``?''. "
   ]
  },
  {
   "cell_type": "code",
   "execution_count": null,
   "metadata": {},
   "outputs": [],
   "source": [
    " #@title Setup { display-mode: \"form\" }\n",
    "%%time\n",
    "# If you run this for the first time it would take ~25/30 seconds\n",
    "!git clone https://github.com/probml/pyprobml /pyprobml &> /dev/null && git clone https://github.com/Sekhen/colab_powertoys.git &> /dev/null \n",
    "!pip3 install nbimporter -qqq \n",
    "%cd -q /content/colab_powertoys \n",
    "from colab_powertoys.probml_toys import probml_toys as pmlt\n",
    "%cd -q /content/\n"
   ]
  },
  {
   "cell_type": "code",
   "execution_count": null,
   "metadata": {},
   "outputs": [],
   "source": [
    "pmlt.show_image(\"/pyprobml/notebooks/figures/images/tf-seq2seq-attn-cold.png.png\")"
   ]
  },
  {
   "cell_type": "code",
   "execution_count": null,
   "metadata": {},
   "outputs": [],
   "source": [
    "pmlt.show_image(\"/pyprobml/notebooks/figures/images/tf-seq2seq-attn-casa.png.png\")"
   ]
  },
  {
   "cell_type": "markdown",
   "metadata": {},
   "source": [
    "## Figure 15.15:<a name='15.15'></a> <a name='EHR'></a> "
   ]
  },
  {
   "cell_type": "markdown",
   "metadata": {},
   "source": [
    "\n",
    "  Example of an electronic health record. In this example, 24h after admission to the hospital, the RNN classifier predicts the risk of death as 19.9\\%; the patient ultimately died 10 days after admission. The ``relevant'' keywords from the input clinical notes are shown in red, as identified by an attention mechanism. From Figure 3 of <a href='#Rajkomar2018'>[Alv+18]</a> . Used with kind permission of Alvin Rakomar. "
   ]
  },
  {
   "cell_type": "code",
   "execution_count": null,
   "metadata": {},
   "outputs": [],
   "source": [
    " #@title Setup { display-mode: \"form\" }\n",
    "%%time\n",
    "# If you run this for the first time it would take ~25/30 seconds\n",
    "!git clone https://github.com/probml/pyprobml /pyprobml &> /dev/null && git clone https://github.com/Sekhen/colab_powertoys.git &> /dev/null \n",
    "!pip3 install nbimporter -qqq \n",
    "%cd -q /content/colab_powertoys \n",
    "from colab_powertoys.probml_toys import probml_toys as pmlt\n",
    "%cd -q /content/\n"
   ]
  },
  {
   "cell_type": "code",
   "execution_count": null,
   "metadata": {},
   "outputs": [],
   "source": [
    "pmlt.show_image(\"/pyprobml/notebooks/figures/images/EHR.png\")"
   ]
  },
  {
   "cell_type": "markdown",
   "metadata": {},
   "source": [
    "## Figure 15.16:<a name='15.16'></a> <a name='showAttendTell'></a> "
   ]
  },
  {
   "cell_type": "markdown",
   "metadata": {},
   "source": [
    "\n",
    "  Image captioning using attention. (a) Soft attention. Generates ``a woman is throwing a frisbee in a park''. (b) Hard attention. Generates ``a man and a woman playing frisbee in a field''. From Figure 6 of <a href='#showAttendTell'>[Kel+15]</a> . Used with kind permission of Kelvin Xu. "
   ]
  },
  {
   "cell_type": "code",
   "execution_count": null,
   "metadata": {},
   "outputs": [],
   "source": [
    " #@title Setup { display-mode: \"form\" }\n",
    "%%time\n",
    "# If you run this for the first time it would take ~25/30 seconds\n",
    "!git clone https://github.com/probml/pyprobml /pyprobml &> /dev/null && git clone https://github.com/Sekhen/colab_powertoys.git &> /dev/null \n",
    "!pip3 install nbimporter -qqq \n",
    "%cd -q /content/colab_powertoys \n",
    "from colab_powertoys.probml_toys import probml_toys as pmlt\n",
    "%cd -q /content/\n"
   ]
  },
  {
   "cell_type": "code",
   "execution_count": null,
   "metadata": {},
   "outputs": [],
   "source": [
    "pmlt.show_image(\"/pyprobml/notebooks/figures/images/showAttendTellSoft.png\")"
   ]
  },
  {
   "cell_type": "code",
   "execution_count": null,
   "metadata": {},
   "outputs": [],
   "source": [
    "pmlt.show_image(\"/pyprobml/notebooks/figures/images/showAttendTellHard.png\")"
   ]
  },
  {
   "cell_type": "markdown",
   "metadata": {},
   "source": [
    "## Figure 15.17:<a name='15.17'></a> <a name='transformerTranslation'></a> "
   ]
  },
  {
   "cell_type": "markdown",
   "metadata": {},
   "source": [
    "\n",
    "  Illustration of how encoder self-attention for the word ``it'' differs depending on the input context. From   https://bit.ly/2kDol2S . Used with kind permission of Jakob Uszkoreit. "
   ]
  },
  {
   "cell_type": "code",
   "execution_count": null,
   "metadata": {},
   "outputs": [],
   "source": [
    " #@title Setup { display-mode: \"form\" }\n",
    "%%time\n",
    "# If you run this for the first time it would take ~25/30 seconds\n",
    "!git clone https://github.com/probml/pyprobml /pyprobml &> /dev/null && git clone https://github.com/Sekhen/colab_powertoys.git &> /dev/null \n",
    "!pip3 install nbimporter -qqq \n",
    "%cd -q /content/colab_powertoys \n",
    "from colab_powertoys.probml_toys import probml_toys as pmlt\n",
    "%cd -q /content/\n"
   ]
  },
  {
   "cell_type": "code",
   "execution_count": null,
   "metadata": {},
   "outputs": [],
   "source": [
    "pmlt.show_image(\"/pyprobml/notebooks/figures/images/transformer-translation-pronoun.png\")"
   ]
  },
  {
   "cell_type": "markdown",
   "metadata": {},
   "source": [
    "## Figure 15.18:<a name='15.18'></a> <a name='multiHeadAttn'></a> "
   ]
  },
  {
   "cell_type": "markdown",
   "metadata": {},
   "source": [
    "\n",
    "  Multi-head attention. Adapted from Figure 9.3.3 of <a href='#dive'>[Zha+19]</a> . "
   ]
  },
  {
   "cell_type": "code",
   "execution_count": null,
   "metadata": {},
   "outputs": [],
   "source": [
    " #@title Setup { display-mode: \"form\" }\n",
    "%%time\n",
    "# If you run this for the first time it would take ~25/30 seconds\n",
    "!git clone https://github.com/probml/pyprobml /pyprobml &> /dev/null && git clone https://github.com/Sekhen/colab_powertoys.git &> /dev/null \n",
    "!pip3 install nbimporter -qqq \n",
    "%cd -q /content/colab_powertoys \n",
    "from colab_powertoys.probml_toys import probml_toys as pmlt\n",
    "%cd -q /content/\n"
   ]
  },
  {
   "cell_type": "code",
   "execution_count": null,
   "metadata": {},
   "outputs": [],
   "source": [
    "pmlt.show_image(\"/pyprobml/notebooks/figures/images/d2l-multi-head-attention.png\")"
   ]
  },
  {
   "cell_type": "markdown",
   "metadata": {},
   "source": [
    "## Figure 15.19:<a name='15.19'></a> <a name='multiheadNMT'></a> "
   ]
  },
  {
   "cell_type": "markdown",
   "metadata": {},
   "source": [
    "\n",
    "  Illustration of the attention heatmaps generated by two different heads in a machine translation task. From Figure 5 of <a href='#Vaswani2017'>[Ash+17]</a> . Used with kind permission of Ashish Vaswani. "
   ]
  },
  {
   "cell_type": "code",
   "execution_count": null,
   "metadata": {},
   "outputs": [],
   "source": [
    " #@title Setup { display-mode: \"form\" }\n",
    "%%time\n",
    "# If you run this for the first time it would take ~25/30 seconds\n",
    "!git clone https://github.com/probml/pyprobml /pyprobml &> /dev/null && git clone https://github.com/Sekhen/colab_powertoys.git &> /dev/null \n",
    "!pip3 install nbimporter -qqq \n",
    "%cd -q /content/colab_powertoys \n",
    "from colab_powertoys.probml_toys import probml_toys as pmlt\n",
    "%cd -q /content/\n"
   ]
  },
  {
   "cell_type": "code",
   "execution_count": null,
   "metadata": {},
   "outputs": [],
   "source": [
    "pmlt.show_image(\"/pyprobml/notebooks/figures/images/multihead1.png\")"
   ]
  },
  {
   "cell_type": "code",
   "execution_count": null,
   "metadata": {},
   "outputs": [],
   "source": [
    "pmlt.show_image(\"/pyprobml/notebooks/figures/images/multihead2.png\")"
   ]
  },
  {
   "cell_type": "markdown",
   "metadata": {},
   "source": [
    "## Figure 15.20:<a name='15.20'></a> <a name='positionalEmbedding'></a> "
   ]
  },
  {
   "cell_type": "markdown",
   "metadata": {},
   "source": [
    "\n",
    "  Illustration of positional embedding. The dotted vertical line corresponds to the location $p=22$. The red and blue curves correspond to the ``basis functions'' corresponding to dimensions $i=100$ and $i=101$. The gray scale image at the bottom illustrates the ``fingerprint'' encodings of each location. Adapted from Figure 16.9 of <a href='#Geron2019'>[Aur19]</a> .  \n",
    "Figure(s) generated by [positional_embedding_plot.py](https://github.com/probml/pyprobml/blob/master/scripts/positional_embedding_plot.py) "
   ]
  },
  {
   "cell_type": "code",
   "execution_count": null,
   "metadata": {},
   "outputs": [],
   "source": [
    " #@title Setup { display-mode: \"form\" }\n",
    "%%time\n",
    "# If you run this for the first time it would take ~25/30 seconds\n",
    "!git clone https://github.com/probml/pyprobml /pyprobml &> /dev/null && git clone https://github.com/Sekhen/colab_powertoys.git &> /dev/null \n",
    "!pip3 install nbimporter -qqq \n",
    "%cd -q /content/colab_powertoys \n",
    "from colab_powertoys.probml_toys import probml_toys as pmlt\n",
    "%cd -q /content/\n"
   ]
  },
  {
   "cell_type": "code",
   "execution_count": null,
   "metadata": {},
   "outputs": [],
   "source": [
    "pmlt.show_and_run(\"/pyprobml/scripts/positional_embedding_plot.py\")"
   ]
  },
  {
   "cell_type": "markdown",
   "metadata": {},
   "source": [
    "## Figure 15.21:<a name='15.21'></a> <a name='transformer'></a> "
   ]
  },
  {
   "cell_type": "markdown",
   "metadata": {},
   "source": [
    "\n",
    "  The transformer. From <a href='#Weng2018attention'>[Lil18]</a> . Used with kind permission of Lilian Weng. Adapted from Figures 1--2 of <a href='#Vaswani2017'>[Ash+17]</a> . "
   ]
  },
  {
   "cell_type": "code",
   "execution_count": null,
   "metadata": {},
   "outputs": [],
   "source": [
    " #@title Setup { display-mode: \"form\" }\n",
    "%%time\n",
    "# If you run this for the first time it would take ~25/30 seconds\n",
    "!git clone https://github.com/probml/pyprobml /pyprobml &> /dev/null && git clone https://github.com/Sekhen/colab_powertoys.git &> /dev/null \n",
    "!pip3 install nbimporter -qqq \n",
    "%cd -q /content/colab_powertoys \n",
    "from colab_powertoys.probml_toys import probml_toys as pmlt\n",
    "%cd -q /content/\n"
   ]
  },
  {
   "cell_type": "code",
   "execution_count": null,
   "metadata": {},
   "outputs": [],
   "source": [
    "pmlt.show_image(\"/pyprobml/notebooks/figures/images/transformer.png\")"
   ]
  },
  {
   "cell_type": "markdown",
   "metadata": {},
   "source": [
    "## Figure 15.22:<a name='15.22'></a> <a name='transformers_taxonomy'></a> "
   ]
  },
  {
   "cell_type": "markdown",
   "metadata": {},
   "source": [
    "\n",
    "  Venn diagram presenting the taxonomy of different efficient transformer architectures. From <a href='#Tay2020transformers'>[Yi+20]</a> . Used with kind permission of Yi Tay. "
   ]
  },
  {
   "cell_type": "code",
   "execution_count": null,
   "metadata": {},
   "outputs": [],
   "source": [
    " #@title Setup { display-mode: \"form\" }\n",
    "%%time\n",
    "# If you run this for the first time it would take ~25/30 seconds\n",
    "!git clone https://github.com/probml/pyprobml /pyprobml &> /dev/null && git clone https://github.com/Sekhen/colab_powertoys.git &> /dev/null \n",
    "!pip3 install nbimporter -qqq \n",
    "%cd -q /content/colab_powertoys \n",
    "from colab_powertoys.probml_toys import probml_toys as pmlt\n",
    "%cd -q /content/\n"
   ]
  },
  {
   "cell_type": "code",
   "execution_count": null,
   "metadata": {},
   "outputs": [],
   "source": [
    "pmlt.show_image(\"/pyprobml/notebooks/figures/images/Venn_Transformers.pdf.png\")"
   ]
  },
  {
   "cell_type": "markdown",
   "metadata": {},
   "source": [
    "## Figure 15.23:<a name='15.23'></a> <a name='rand_for_fast_atten'></a> "
   ]
  },
  {
   "cell_type": "markdown",
   "metadata": {},
   "source": [
    "\n",
    "  Attention matrix $\\mathbf  A $ rewritten as a product of two lower rank matrices $\\mathbf  Q ^ \\prime  $ and $(\\mathbf  K ^ \\prime  )^ \\top  $ with random feature maps $\\boldsymbol  \\phi  (\\mathbf  q _i) \\in \\mathbb  R ^M$ and $\\boldsymbol  \\phi  (\\mathbf  v _k) \\in real^M$ for the corresponding queries/keys stored in the rows/columns. Used with kind permission of Krzysztof Choromanski. "
   ]
  },
  {
   "cell_type": "code",
   "execution_count": null,
   "metadata": {},
   "outputs": [],
   "source": [
    " #@title Setup { display-mode: \"form\" }\n",
    "%%time\n",
    "# If you run this for the first time it would take ~25/30 seconds\n",
    "!git clone https://github.com/probml/pyprobml /pyprobml &> /dev/null && git clone https://github.com/Sekhen/colab_powertoys.git &> /dev/null \n",
    "!pip3 install nbimporter -qqq \n",
    "%cd -q /content/colab_powertoys \n",
    "from colab_powertoys.probml_toys import probml_toys as pmlt\n",
    "%cd -q /content/\n"
   ]
  },
  {
   "cell_type": "code",
   "execution_count": null,
   "metadata": {},
   "outputs": [],
   "source": [
    "pmlt.show_image(\"/pyprobml/notebooks/figures/images/rand_features_for_fast_attention.png.png\")"
   ]
  },
  {
   "cell_type": "markdown",
   "metadata": {},
   "source": [
    "## Figure 15.24:<a name='15.24'></a> <a name='fatten'></a> "
   ]
  },
  {
   "cell_type": "markdown",
   "metadata": {},
   "source": [
    "\n",
    "  Decomposition of the attention matrix $\\mathbf  A $ can be leveraged to improve attention computations via matrix associativity property. To compute $\\mathbf  AV $, we first calculate $\\mathbf  G =(\\mathbf  k ^ \\prime  )^ \\top  \\mathbf  V $ and then $\\mathbf  q ^ \\prime  \\mathbf  G $, resulting in linear in $N$ space and time complexity. Used with kind permission of Krzysztof Choromanski. "
   ]
  },
  {
   "cell_type": "code",
   "execution_count": null,
   "metadata": {},
   "outputs": [],
   "source": [
    " #@title Setup { display-mode: \"form\" }\n",
    "%%time\n",
    "# If you run this for the first time it would take ~25/30 seconds\n",
    "!git clone https://github.com/probml/pyprobml /pyprobml &> /dev/null && git clone https://github.com/Sekhen/colab_powertoys.git &> /dev/null \n",
    "!pip3 install nbimporter -qqq \n",
    "%cd -q /content/colab_powertoys \n",
    "from colab_powertoys.probml_toys import probml_toys as pmlt\n",
    "%cd -q /content/\n"
   ]
  },
  {
   "cell_type": "code",
   "execution_count": null,
   "metadata": {},
   "outputs": [],
   "source": [
    "pmlt.show_image(\"/pyprobml/notebooks/figures/images/NMD.png.png\")"
   ]
  },
  {
   "cell_type": "markdown",
   "metadata": {},
   "source": [
    "## References:\n",
    " <a name='wavenet'>[Aar+16]</a> V. Aaron, D. Sander, Z. Heiga, S. Karen, V. Oriol, G. Alex, K. Nal, S. Andrew and K. Koray. \"WaveNet: A Generative Model for Raw Audio\". abs/1609.03499 (2016). arXiv: 1609.03499 \n",
    "\n",
    "<a name='Rajkomar2018'>[Alv+18]</a> R. Alvin, O. Eyal, C. Kai, D. A. Nissan, H. Michaela, L. PeterJ, L. LiuXiaobing, M. Jake, S. Mimi, S. Patrik, Y. Hector, Z. Kun, Z. Yi, F. Gerardo, D. GavinE, I. Jamie, L. Quoc, L. K. Alexander, T. Justin, W. De, W. James, W. Jimbo, L. Dana, V. L, C. Katherine, P. Michael, M. MadabushiSrinivasan, S. NigamH, B. AtulJ, H. D, C. Claire, C. GregS and D. Jeffrey. \"Scalable and accurate deep learning with electronic healthrecords\". In: NPJ Digit Med (2018). \n",
    "\n",
    "<a name='Vaswani2017'>[Ash+17]</a> V. Ashish, S. Noam, P. Niki, U. Jakob, J. Llion, G. AidanN, K. KaiserLukasz and P. Illia. \"Attention Is All You Need\". (2017). \n",
    "\n",
    "<a name='Geron2019'>[Aur19]</a> G. Aur'elien \"Hands-On Machine Learning with Scikit-Learn and TensorFlow: Concepts, Tools, and Techniques for BuildingIntelligent Systems (2nd edition)\". (2019). \n",
    "\n",
    "<a name='showAttendTell'>[Kel+15]</a> X. Kelvin, B. JimmyLei, K. Ryan, C. K. Aaron, S. Ruslan, Z. S and B. Yoshua. \"Show, Attend and Tell: Neural Image Caption Generation withVisual Attention\". (2015). \n",
    "\n",
    "<a name='Weng2018attention'>[Lil18]</a> W. Lilian \"Attention? Attention!\". In: lilianweng.github.io/lil-log (2018). \n",
    "\n",
    "<a name='Luong2016thesis'>[Luo16]</a> M. Luong \"Neural machine translation\". (2016). \n",
    "\n",
    "<a name='Tay2020transformers'>[Yi+20]</a> T. Yi, D. Mostafa, B. Dara and M. MetzlerDonald. \"Efficient Transformers: A Survey\". abs/2009.06732 (2020). arXiv: 2009.06732 \n",
    "\n",
    "<a name='dive'>[Zha+19]</a> A. Zhang, Z. Lipton, M. Li and A. Smola. \"Dive into deep learning\". (2019). \n",
    "\n"
   ]
  }
 ],
 "metadata": {
  "kernelspec": {
   "display_name": "Python 3",
   "name": "python3"
  }
 },
 "nbformat": 4,
 "nbformat_minor": 4
}
