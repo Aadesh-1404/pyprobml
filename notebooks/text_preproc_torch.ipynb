{
  "nbformat": 4,
  "nbformat_minor": 0,
  "metadata": {
    "colab": {
      "name": "text-preproc-torch.ipynb",
      "provenance": [],
      "toc_visible": true,
      "authorship_tag": "ABX9TyNpPTq+mSUhYUZ+Io4euTOX",
      "include_colab_link": true
    },
    "kernelspec": {
      "name": "python3",
      "display_name": "Python 3"
    },
    "language_info": {
      "name": "python"
    }
  },
  "cells": [
    {
      "cell_type": "markdown",
      "metadata": {
        "id": "view-in-github",
        "colab_type": "text"
      },
      "source": [
        "<a href=\"https://colab.research.google.com/github/probml/pyprobml/blob/master/notebooks/text_preproc_torch.ipynb\" target=\"_parent\"><img src=\"https://colab.research.google.com/assets/colab-badge.svg\" alt=\"Open In Colab\"/></a>"
      ]
    },
    {
      "cell_type": "markdown",
      "metadata": {
        "id": "Yn51eYujm5S1"
      },
      "source": [
        "# Text preprocessing\n",
        "\n",
        "We discuss how to convert a sequence of words or characters into numeric form, which can then be fed into an ML model.\n",
        "Based on sec 8.2 of http://d2l.ai/chapter_recurrent-neural-networks/text-preprocessing.html\n",
        "\n"
      ]
    },
    {
      "cell_type": "code",
      "metadata": {
        "id": "ysx0t0REm4r0"
      },
      "source": [
        "import numpy as np\n",
        "import matplotlib.pyplot as plt\n",
        "np.random.seed(seed=1)\n",
        "import math\n",
        "\n",
        "import torch\n",
        "from torch import nn\n",
        "from torch.nn import functional as F\n",
        "\n",
        "!mkdir figures # for saving plots\n",
        "\n",
        "!wget https://raw.githubusercontent.com/d2l-ai/d2l-en/master/d2l/torch.py -q -O d2l.py\n",
        "import d2l"
      ],
      "execution_count": 1,
      "outputs": []
    },
    {
      "cell_type": "code",
      "metadata": {
        "id": "V6Jbluorndzr"
      },
      "source": [
        "import collections\n",
        "import re\n",
        "import random"
      ],
      "execution_count": 26,
      "outputs": []
    },
    {
      "cell_type": "markdown",
      "metadata": {
        "id": "RMrGxkRNnOx_"
      },
      "source": [
        "# Data\n",
        "\n",
        "As a simple example, we use the book \"The Time Machine\" by H G Wells, since it is short (30k words) and public domain."
      ]
    },
    {
      "cell_type": "code",
      "metadata": {
        "colab": {
          "base_uri": "https://localhost:8080/"
        },
        "id": "D7OJT7o8nDQN",
        "outputId": "2dd7e687-6b9a-48d2-ab49-e1bb5b64d41b"
      },
      "source": [
        "d2l.DATA_HUB['time_machine'] = (d2l.DATA_URL + 'timemachine.txt',\n",
        "                                '090b5e7e70c295757f55df93cb0a180b9691891a')\n",
        "\n",
        "def read_time_machine():  #@save\n",
        "    \"\"\"Load the time machine dataset into a list of text lines.\"\"\"\n",
        "    with open(d2l.download('time_machine'), 'r') as f:\n",
        "        lines = f.readlines()\n",
        "    return [re.sub('[^A-Za-z]+', ' ', line).strip().lower() for line in lines]\n",
        "\n",
        "lines = read_time_machine()\n",
        "print(f'number of lines: {len(lines)}')\n",
        "\n"
      ],
      "execution_count": 6,
      "outputs": [
        {
          "output_type": "stream",
          "text": [
            "number of lines: 3221\n"
          ],
          "name": "stdout"
        }
      ]
    },
    {
      "cell_type": "code",
      "metadata": {
        "colab": {
          "base_uri": "https://localhost:8080/"
        },
        "id": "uCsuaurvnlK8",
        "outputId": "8dcf484e-8f45-4748-cc93-c2a2ada427d2"
      },
      "source": [
        "for i in range(11):\n",
        "  print(i, lines[i])"
      ],
      "execution_count": 53,
      "outputs": [
        {
          "output_type": "stream",
          "text": [
            "0 the time machine by h g wells\n",
            "1 \n",
            "2 \n",
            "3 \n",
            "4 \n",
            "5 i\n",
            "6 \n",
            "7 \n",
            "8 the time traveller for so it will be convenient to speak of him\n",
            "9 was expounding a recondite matter to us his grey eyes shone and\n",
            "10 twinkled and his usually pale face was flushed and animated the\n"
          ],
          "name": "stdout"
        }
      ]
    },
    {
      "cell_type": "code",
      "metadata": {
        "colab": {
          "base_uri": "https://localhost:8080/"
        },
        "id": "btVyl4dItGVT",
        "outputId": "6b67aec4-4c26-43f7-ea6e-0c7fd1440f55"
      },
      "source": [
        "nchars = 0\n",
        "nwords = 0\n",
        "for i in range(len(lines)):\n",
        "  nchars += len(lines[i])\n",
        "  words = lines[i].split()\n",
        "  nwords += len(words)\n",
        "print('total num characters ', nchars)\n",
        "print('total num words ', nwords)"
      ],
      "execution_count": 59,
      "outputs": [
        {
          "output_type": "stream",
          "text": [
            "total num characters  170580\n",
            "total num words  32775\n"
          ],
          "name": "stdout"
        }
      ]
    },
    {
      "cell_type": "markdown",
      "metadata": {
        "id": "KKBbwDcKnwsA"
      },
      "source": [
        "# Tokenization"
      ]
    },
    {
      "cell_type": "code",
      "metadata": {
        "colab": {
          "base_uri": "https://localhost:8080/"
        },
        "id": "X32lM-XvnxhC",
        "outputId": "4783ff38-b282-4b0e-fc59-996f6ec0d6a6"
      },
      "source": [
        "def tokenize(lines, token='word'):  #@save\n",
        "    \"\"\"Split text lines into word or character tokens.\"\"\"\n",
        "    if token == 'word':\n",
        "        return [line.split() for line in lines]\n",
        "    elif token == 'char':\n",
        "        return [list(line) for line in lines]\n",
        "    else:\n",
        "        print('ERROR: unknown token type: ' + token)\n",
        "\n",
        "tokens = tokenize(lines)\n",
        "for i in range(11):\n",
        "    print(tokens[i])"
      ],
      "execution_count": 10,
      "outputs": [
        {
          "output_type": "stream",
          "text": [
            "['the', 'time', 'machine', 'by', 'h', 'g', 'wells']\n",
            "[]\n",
            "[]\n",
            "[]\n",
            "[]\n",
            "['i']\n",
            "[]\n",
            "[]\n",
            "['the', 'time', 'traveller', 'for', 'so', 'it', 'will', 'be', 'convenient', 'to', 'speak', 'of', 'him']\n",
            "['was', 'expounding', 'a', 'recondite', 'matter', 'to', 'us', 'his', 'grey', 'eyes', 'shone', 'and']\n",
            "['twinkled', 'and', 'his', 'usually', 'pale', 'face', 'was', 'flushed', 'and', 'animated', 'the']\n"
          ],
          "name": "stdout"
        }
      ]
    },
    {
      "cell_type": "markdown",
      "metadata": {
        "id": "X-Tbg9jjn8XN"
      },
      "source": [
        "# Vocabulary\n",
        "\n",
        "We map each word to a unique integer id, sorted by decreasing frequency.\n",
        "We reserve the special id of 0 for the \"unknown word\".\n",
        "We also allow for a list of reserved tokens, such as “<pad>” for padding, “<bos>” to present the beginning for a sequence, and “<eos>” for the end of a sequence.\n"
      ]
    },
    {
      "cell_type": "code",
      "metadata": {
        "id": "8ZOLrVNon9dk"
      },
      "source": [
        "class Vocab:  #@save\n",
        "    \"\"\"Vocabulary for text.\"\"\"\n",
        "    def __init__(self, tokens=None, min_freq=0, reserved_tokens=None):\n",
        "        if tokens is None:\n",
        "            tokens = []\n",
        "        if reserved_tokens is None:\n",
        "            reserved_tokens = []\n",
        "        # Sort according to frequencies\n",
        "        counter = count_corpus(tokens)\n",
        "        self.token_freqs = sorted(counter.items(), key=lambda x: x[1],\n",
        "                                  reverse=True)\n",
        "        # The index for the unknown token is 0\n",
        "        self.unk, uniq_tokens = 0, ['<unk>'] + reserved_tokens\n",
        "        uniq_tokens += [\n",
        "            token for token, freq in self.token_freqs\n",
        "            if freq >= min_freq and token not in uniq_tokens]\n",
        "        self.idx_to_token, self.token_to_idx = [], dict()\n",
        "        for token in uniq_tokens:\n",
        "            self.idx_to_token.append(token)\n",
        "            self.token_to_idx[token] = len(self.idx_to_token) - 1\n",
        "\n",
        "    def __len__(self):\n",
        "        return len(self.idx_to_token)\n",
        "\n",
        "    def __getitem__(self, tokens):\n",
        "        if not isinstance(tokens, (list, tuple)):\n",
        "            return self.token_to_idx.get(tokens, self.unk)\n",
        "        return [self.__getitem__(token) for token in tokens]\n",
        "\n",
        "    def to_tokens(self, indices):\n",
        "        if not isinstance(indices, (list, tuple)):\n",
        "            return self.idx_to_token[indices]\n",
        "        return [self.idx_to_token[index] for index in indices]\n",
        "\n",
        "def count_corpus(tokens):  #@save\n",
        "    \"\"\"Count token frequencies.\"\"\"\n",
        "    # Here `tokens` is a 1D list or 2D list\n",
        "    if len(tokens) == 0 or isinstance(tokens[0], list):\n",
        "        # Flatten a list of token lists into a list of tokens\n",
        "        tokens = [token for line in tokens for token in line]\n",
        "    return collections.Counter(tokens)"
      ],
      "execution_count": 11,
      "outputs": []
    },
    {
      "cell_type": "markdown",
      "metadata": {
        "id": "CV0rTlaqoSNE"
      },
      "source": [
        "Here are the top 10 words (and their codes) in our corpus."
      ]
    },
    {
      "cell_type": "code",
      "metadata": {
        "colab": {
          "base_uri": "https://localhost:8080/"
        },
        "id": "tYmbCwY6oUFB",
        "outputId": "31a05a85-5113-4db8-aacf-f944f2c576f8"
      },
      "source": [
        "vocab = Vocab(tokens)\n",
        "print(list(vocab.token_to_idx.items())[:10])"
      ],
      "execution_count": 12,
      "outputs": [
        {
          "output_type": "stream",
          "text": [
            "[('<unk>', 0), ('the', 1), ('i', 2), ('and', 3), ('of', 4), ('a', 5), ('to', 6), ('was', 7), ('in', 8), ('that', 9)]\n"
          ],
          "name": "stdout"
        }
      ]
    },
    {
      "cell_type": "markdown",
      "metadata": {
        "id": "sKXJQdbXoiqT"
      },
      "source": [
        "Here is a tokenization of a few sentences."
      ]
    },
    {
      "cell_type": "code",
      "metadata": {
        "colab": {
          "base_uri": "https://localhost:8080/"
        },
        "id": "jd73-1zzoUWo",
        "outputId": "f2e7dbda-4053-4773-d385-686f6c549144"
      },
      "source": [
        "for i in [0, 10]:\n",
        "    print('words:', tokens[i])\n",
        "    print('indices:', vocab[tokens[i]])"
      ],
      "execution_count": 13,
      "outputs": [
        {
          "output_type": "stream",
          "text": [
            "words: ['the', 'time', 'machine', 'by', 'h', 'g', 'wells']\n",
            "indices: [1, 19, 50, 40, 2183, 2184, 400]\n",
            "words: ['twinkled', 'and', 'his', 'usually', 'pale', 'face', 'was', 'flushed', 'and', 'animated', 'the']\n",
            "indices: [2186, 3, 25, 1044, 362, 113, 7, 1421, 3, 1045, 1]\n"
          ],
          "name": "stdout"
        }
      ]
    },
    {
      "cell_type": "code",
      "metadata": {
        "id": "kzbEP4wWokqT"
      },
      "source": [
        ""
      ],
      "execution_count": null,
      "outputs": []
    },
    {
      "cell_type": "markdown",
      "metadata": {
        "id": "-6LsXchMop3u"
      },
      "source": [
        "# Putting it altogether\n",
        "\n",
        "We tokenize the corpus at the character level, and return the sequence of integers, as well as the corresponding Vocab object."
      ]
    },
    {
      "cell_type": "code",
      "metadata": {
        "id": "1BywQ9iUoq_D"
      },
      "source": [
        "def load_corpus_time_machine(max_tokens=-1):  #@save\n",
        "    \"\"\"Return token indices and the vocabulary of the time machine dataset.\"\"\"\n",
        "    lines = read_time_machine()\n",
        "    tokens = tokenize(lines, 'char')\n",
        "    vocab = Vocab(tokens)\n",
        "    # Since each text line in the time machine dataset is not necessarily a\n",
        "    # sentence or a paragraph, flatten all the text lines into a single list\n",
        "    corpus = [vocab[token] for line in tokens for token in line]\n",
        "    if max_tokens > 0:\n",
        "        corpus = corpus[:max_tokens]\n",
        "    return corpus, vocab\n",
        "\n"
      ],
      "execution_count": 45,
      "outputs": []
    },
    {
      "cell_type": "code",
      "metadata": {
        "colab": {
          "base_uri": "https://localhost:8080/"
        },
        "id": "oQzX4Am8osdh",
        "outputId": "53318718-5dba-4574-8f7d-3de538584c0d"
      },
      "source": [
        "corpus, vocab = load_corpus_time_machine()\n",
        "len(corpus), len(vocab)"
      ],
      "execution_count": 46,
      "outputs": [
        {
          "output_type": "execute_result",
          "data": {
            "text/plain": [
              "(170580, 28)"
            ]
          },
          "metadata": {
            "tags": []
          },
          "execution_count": 46
        }
      ]
    },
    {
      "cell_type": "code",
      "metadata": {
        "colab": {
          "base_uri": "https://localhost:8080/"
        },
        "id": "IgDxt_PRovAb",
        "outputId": "7aaffeaa-0b08-4796-bce7-e3ef6fe9cc58"
      },
      "source": [
        "print(corpus[:20])"
      ],
      "execution_count": 47,
      "outputs": [
        {
          "output_type": "stream",
          "text": [
            "[3, 9, 2, 1, 3, 5, 13, 2, 1, 13, 4, 15, 9, 5, 6, 2, 1, 21, 19, 1]\n"
          ],
          "name": "stdout"
        }
      ]
    },
    {
      "cell_type": "code",
      "metadata": {
        "colab": {
          "base_uri": "https://localhost:8080/"
        },
        "id": "egONc6CRowLa",
        "outputId": "030047c5-7199-4000-9e0c-39ba75275fd6"
      },
      "source": [
        "print(list(vocab.token_to_idx.items())[:10])\n"
      ],
      "execution_count": 48,
      "outputs": [
        {
          "output_type": "stream",
          "text": [
            "[('<unk>', 0), (' ', 1), ('e', 2), ('t', 3), ('a', 4), ('i', 5), ('n', 6), ('o', 7), ('s', 8), ('h', 9)]\n"
          ],
          "name": "stdout"
        }
      ]
    },
    {
      "cell_type": "code",
      "metadata": {
        "colab": {
          "base_uri": "https://localhost:8080/"
        },
        "id": "9xKwPjAAozaX",
        "outputId": "68c7959c-7bfe-42a1-f324-b9b4a1a90113"
      },
      "source": [
        "print([vocab.idx_to_token[i] for i in corpus[:20]])"
      ],
      "execution_count": 49,
      "outputs": [
        {
          "output_type": "stream",
          "text": [
            "['t', 'h', 'e', ' ', 't', 'i', 'm', 'e', ' ', 'm', 'a', 'c', 'h', 'i', 'n', 'e', ' ', 'b', 'y', ' ']\n"
          ],
          "name": "stdout"
        }
      ]
    },
    {
      "cell_type": "markdown",
      "metadata": {
        "id": "X3fLUodCZebY"
      },
      "source": [
        "# One-hot encodings\n",
        "\n",
        "We can convert a sequence of N integers into a N*V one-hot matrix, where V is the vocabulary size."
      ]
    },
    {
      "cell_type": "code",
      "metadata": {
        "colab": {
          "base_uri": "https://localhost:8080/"
        },
        "id": "Qk21iCFhZj89",
        "outputId": "b5323706-52f8-459b-b382-70acbf54ba26"
      },
      "source": [
        "x = torch.tensor(corpus[:3])\n",
        "print(x)\n",
        "X = F.one_hot(x, len(vocab))\n",
        "print(X.shape)\n",
        "print(X)"
      ],
      "execution_count": 52,
      "outputs": [
        {
          "output_type": "stream",
          "text": [
            "tensor([3, 9, 2])\n",
            "torch.Size([3, 28])\n",
            "tensor([[0, 0, 0, 1, 0, 0, 0, 0, 0, 0, 0, 0, 0, 0, 0, 0, 0, 0, 0, 0, 0, 0, 0, 0,\n",
            "         0, 0, 0, 0],\n",
            "        [0, 0, 0, 0, 0, 0, 0, 0, 0, 1, 0, 0, 0, 0, 0, 0, 0, 0, 0, 0, 0, 0, 0, 0,\n",
            "         0, 0, 0, 0],\n",
            "        [0, 0, 1, 0, 0, 0, 0, 0, 0, 0, 0, 0, 0, 0, 0, 0, 0, 0, 0, 0, 0, 0, 0, 0,\n",
            "         0, 0, 0, 0]])\n"
          ],
          "name": "stdout"
        }
      ]
    },
    {
      "cell_type": "markdown",
      "metadata": {
        "id": "8vO99OOSuYhX"
      },
      "source": [
        "# Making minibatches of short sequences\n",
        "\n",
        "For deep learning applications, we often need to chop up a long sequence into a set of short sequences, which may be overlapping, as shown below, where we extract subsequences of length $n=5$. ([figure source](http://d2l.ai/chapter_recurrent-neural-networks/language-models-and-dataset.html#reading-long-sequence-data)).\n",
        "\n",
        "<img src=\"https://github.com/probml/pyprobml/blob/master/images/timemachine-5gram.png?raw=true\">\n",
        "\n"
      ]
    },
    {
      "cell_type": "markdown",
      "metadata": {
        "id": "Vert2-4qw5K7"
      },
      "source": [
        "## Random ordering"
      ]
    },
    {
      "cell_type": "markdown",
      "metadata": {
        "id": "_rARqDyZuvlu"
      },
      "source": [
        "To increase variety of the data, we can start the extraction at a random offset. We can thus create a random sequence data iterator, as follows.\n"
      ]
    },
    {
      "cell_type": "code",
      "metadata": {
        "id": "meuw3vkjpL22"
      },
      "source": [
        "def seq_data_iter_random(corpus, batch_size, num_steps):  #@save\n",
        "    \"\"\"Generate a minibatch of subsequences using random sampling.\"\"\"\n",
        "    # Start with a random offset (inclusive of `num_steps - 1`) to partition a\n",
        "    # sequence\n",
        "    corpus = corpus[random.randint(0, num_steps - 1):]\n",
        "    # Subtract 1 since we need to account for labels\n",
        "    num_subseqs = (len(corpus) - 1) // num_steps\n",
        "    # The starting indices for subsequences of length `num_steps`\n",
        "    initial_indices = list(range(0, num_subseqs * num_steps, num_steps))\n",
        "    # In random sampling, the subsequences from two adjacent random\n",
        "    # minibatches during iteration are not necessarily adjacent on the\n",
        "    # original sequence\n",
        "    random.shuffle(initial_indices)\n",
        "\n",
        "    def data(pos):\n",
        "        # Return a sequence of length `num_steps` starting from `pos`\n",
        "        return corpus[pos:pos + num_steps]\n",
        "\n",
        "    num_batches = num_subseqs // batch_size\n",
        "    for i in range(0, batch_size * num_batches, batch_size):\n",
        "        # Here, `initial_indices` contains randomized starting indices for\n",
        "        # subsequences\n",
        "        initial_indices_per_batch = initial_indices[i:i + batch_size]\n",
        "        X = [data(j) for j in initial_indices_per_batch]\n",
        "        Y = [data(j + 1) for j in initial_indices_per_batch]\n",
        "        yield torch.tensor(X), torch.tensor(Y)"
      ],
      "execution_count": 24,
      "outputs": []
    },
    {
      "cell_type": "markdown",
      "metadata": {
        "id": "71kdus7mvMFQ"
      },
      "source": [
        "For example, let us generate a sequence 0,1,..,34, and then extract subsequences of length 5. Each minibatch will have 2 such subsequences, starting at random offsets. There is no ordering between the subsequences, either within or across minibatches. There are $\\lfloor (35-1)/5 \\rfloor = 6$ such subsequences, so the iterator will generate 3 minibatches, each of size 2.\n",
        "\n",
        "For language modeling tasks, we define $X$ to be the first $n-1$ tokens, and $Y$ to be the $n$'th token, which is the one to be predicted."
      ]
    },
    {
      "cell_type": "code",
      "metadata": {
        "colab": {
          "base_uri": "https://localhost:8080/"
        },
        "id": "x8GXyqOgvOI7",
        "outputId": "efc1667a-624e-461c-a72c-c9d8ac244f81"
      },
      "source": [
        "my_seq = list(range(35))\n",
        "b = 0\n",
        "for X, Y in seq_data_iter_random(my_seq, batch_size=2, num_steps=5):\n",
        "    print('batch: ', b)\n",
        "    print('X: ', X, '\\nY:', Y)\n",
        "    b += 1"
      ],
      "execution_count": 28,
      "outputs": [
        {
          "output_type": "stream",
          "text": [
            "batch:  0\n",
            "X:  tensor([[10, 11, 12, 13, 14],\n",
            "        [ 5,  6,  7,  8,  9]]) \n",
            "Y: tensor([[11, 12, 13, 14, 15],\n",
            "        [ 6,  7,  8,  9, 10]])\n",
            "batch:  1\n",
            "X:  tensor([[ 0,  1,  2,  3,  4],\n",
            "        [25, 26, 27, 28, 29]]) \n",
            "Y: tensor([[ 1,  2,  3,  4,  5],\n",
            "        [26, 27, 28, 29, 30]])\n",
            "batch:  2\n",
            "X:  tensor([[15, 16, 17, 18, 19],\n",
            "        [20, 21, 22, 23, 24]]) \n",
            "Y: tensor([[16, 17, 18, 19, 20],\n",
            "        [21, 22, 23, 24, 25]])\n"
          ],
          "name": "stdout"
        }
      ]
    },
    {
      "cell_type": "markdown",
      "metadata": {
        "id": "wdg490Gow7la"
      },
      "source": [
        "## Sequential ordering"
      ]
    },
    {
      "cell_type": "markdown",
      "metadata": {
        "id": "55ECVkQLwL8K"
      },
      "source": [
        "We can also require that the $i$'th subsequence in minibatch $b$ follows the $i$'th subsequence in minibatch $b-1$. This is useful when training RNNs, since when the model encounters batch $b$, the hidden state of the model will already be initialized by the last token in sequence $i$ of batch $b-1$."
      ]
    },
    {
      "cell_type": "code",
      "metadata": {
        "id": "r3uVV7lYwCdv"
      },
      "source": [
        "def seq_data_iter_sequential(corpus, batch_size, num_steps):  #@save\n",
        "    \"\"\"Generate a minibatch of subsequences using sequential partitioning.\"\"\"\n",
        "    # Start with a random offset to partition a sequence\n",
        "    offset = random.randint(0, num_steps)\n",
        "    num_tokens = ((len(corpus) - offset - 1) // batch_size) * batch_size\n",
        "    Xs = torch.tensor(corpus[offset:offset + num_tokens])\n",
        "    Ys = torch.tensor(corpus[offset + 1:offset + 1 + num_tokens])\n",
        "    Xs, Ys = Xs.reshape(batch_size, -1), Ys.reshape(batch_size, -1)\n",
        "    num_batches = Xs.shape[1] // num_steps\n",
        "    for i in range(0, num_steps * num_batches, num_steps):\n",
        "        X = Xs[:, i:i + num_steps]\n",
        "        Y = Ys[:, i:i + num_steps]\n",
        "        yield X, Y"
      ],
      "execution_count": 31,
      "outputs": []
    },
    {
      "cell_type": "markdown",
      "metadata": {
        "id": "KGRIkFvXwZX6"
      },
      "source": [
        "Below we give an example. We see that the first subsequence in batch 1\n",
        "is [0,1,2,3,4], and the first subsequence in batch 2 is [5,6,7,8,9], as desired."
      ]
    },
    {
      "cell_type": "code",
      "metadata": {
        "colab": {
          "base_uri": "https://localhost:8080/"
        },
        "id": "aLQzm2qrwY0m",
        "outputId": "27a0f0e7-46db-469c-dd1f-906b599be01d"
      },
      "source": [
        "for X, Y in seq_data_iter_sequential(my_seq, batch_size=2, num_steps=5):\n",
        "    print('X: ', X, '\\nY:', Y)"
      ],
      "execution_count": 32,
      "outputs": [
        {
          "output_type": "stream",
          "text": [
            "X:  tensor([[ 0,  1,  2,  3,  4],\n",
            "        [17, 18, 19, 20, 21]]) \n",
            "Y: tensor([[ 1,  2,  3,  4,  5],\n",
            "        [18, 19, 20, 21, 22]])\n",
            "X:  tensor([[ 5,  6,  7,  8,  9],\n",
            "        [22, 23, 24, 25, 26]]) \n",
            "Y: tensor([[ 6,  7,  8,  9, 10],\n",
            "        [23, 24, 25, 26, 27]])\n",
            "X:  tensor([[10, 11, 12, 13, 14],\n",
            "        [27, 28, 29, 30, 31]]) \n",
            "Y: tensor([[11, 12, 13, 14, 15],\n",
            "        [28, 29, 30, 31, 32]])\n"
          ],
          "name": "stdout"
        }
      ]
    },
    {
      "cell_type": "markdown",
      "metadata": {
        "id": "SP96EBA-w9MF"
      },
      "source": [
        "## Data loader class"
      ]
    },
    {
      "cell_type": "code",
      "metadata": {
        "id": "IpjIv8tMw-QD"
      },
      "source": [
        "class SeqDataLoader:  #@save\n",
        "    \"\"\"An iterator to load sequence data.\"\"\"\n",
        "    def __init__(self, batch_size, num_steps, use_random_iter, max_tokens):\n",
        "        if use_random_iter:\n",
        "            self.data_iter_fn = d2l.seq_data_iter_random\n",
        "        else:\n",
        "            self.data_iter_fn = d2l.seq_data_iter_sequential\n",
        "        self.corpus, self.vocab = d2l.load_corpus_time_machine(max_tokens)\n",
        "        self.batch_size, self.num_steps = batch_size, num_steps\n",
        "\n",
        "    def __iter__(self):\n",
        "        return self.data_iter_fn(self.corpus, self.batch_size, self.num_steps)"
      ],
      "execution_count": 33,
      "outputs": []
    },
    {
      "cell_type": "code",
      "metadata": {
        "id": "pIy_YUk9w-0A"
      },
      "source": [
        "def load_data_time_machine(batch_size, num_steps,  #@save\n",
        "                           use_random_iter=False, max_tokens=10000):\n",
        "    \"\"\"Return the iterator and the vocabulary of the time machine dataset.\"\"\"\n",
        "    data_iter = SeqDataLoader(batch_size, num_steps, use_random_iter,\n",
        "                              max_tokens)\n",
        "    return data_iter, data_iter.vocab"
      ],
      "execution_count": 34,
      "outputs": []
    },
    {
      "cell_type": "code",
      "metadata": {
        "id": "Y44o8-MkxA3t"
      },
      "source": [
        "data_iter, vocab = load_data_time_machine(2, 5)\n"
      ],
      "execution_count": 40,
      "outputs": []
    },
    {
      "cell_type": "code",
      "metadata": {
        "colab": {
          "base_uri": "https://localhost:8080/"
        },
        "id": "sf-py0roxmAC",
        "outputId": "66691d42-4905-4fe3-b906-8856e525665b"
      },
      "source": [
        "\n",
        "print(list(vocab.token_to_idx.items())[:10])"
      ],
      "execution_count": 39,
      "outputs": [
        {
          "output_type": "stream",
          "text": [
            "[('<unk>', 0), (' ', 1), ('e', 2), ('t', 3), ('a', 4), ('i', 5), ('n', 6), ('o', 7), ('s', 8), ('h', 9)]\n"
          ],
          "name": "stdout"
        }
      ]
    },
    {
      "cell_type": "code",
      "metadata": {
        "colab": {
          "base_uri": "https://localhost:8080/"
        },
        "id": "6XhwWfMHxXTA",
        "outputId": "a29066f2-d2e2-447c-d290-ea473ecc0ee1"
      },
      "source": [
        "\n",
        "b = 0\n",
        "for X, Y in data_iter:\n",
        "    print('batch: ', b)\n",
        "    print('X: ', X, '\\nY:', Y)\n",
        "    b += 1\n",
        "    if b > 2:\n",
        "      break"
      ],
      "execution_count": 43,
      "outputs": [
        {
          "output_type": "stream",
          "text": [
            "batch:  0\n",
            "X:  tensor([[ 3,  9,  2,  1,  3],\n",
            "        [15, 12, 14, 11,  2]]) \n",
            "Y: tensor([[ 9,  2,  1,  3,  5],\n",
            "        [12, 14, 11,  2,  1]])\n",
            "batch:  1\n",
            "X:  tensor([[ 5, 13,  2,  1, 13],\n",
            "        [ 1, 17,  4,  8,  1]]) \n",
            "Y: tensor([[13,  2,  1, 13,  4],\n",
            "        [17,  4,  8,  1,  4]])\n",
            "batch:  2\n",
            "X:  tensor([[ 4, 15,  9,  5,  6],\n",
            "        [ 4, 12,  7,  6, 18]]) \n",
            "Y: tensor([[15,  9,  5,  6,  2],\n",
            "        [12,  7,  6, 18,  3]])\n"
          ],
          "name": "stdout"
        }
      ]
    },
    {
      "cell_type": "code",
      "metadata": {
        "id": "onlsR01DxiAj"
      },
      "source": [
        ""
      ],
      "execution_count": null,
      "outputs": []
    }
  ]
}