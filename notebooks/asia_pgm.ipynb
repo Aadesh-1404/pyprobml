{
  "nbformat": 4,
  "nbformat_minor": 0,
  "metadata": {
    "colab": {
      "name": "asia_pgm.ipynb",
      "provenance": [],
      "authorship_tag": "ABX9TyM4PnhxcuxyfMdpa0cMh6Ox",
      "include_colab_link": true
    },
    "kernelspec": {
      "name": "python3",
      "display_name": "Python 3"
    },
    "language_info": {
      "name": "python"
    }
  },
  "cells": [
    {
      "cell_type": "markdown",
      "metadata": {
        "id": "view-in-github",
        "colab_type": "text"
      },
      "source": [
        "<a href=\"https://colab.research.google.com/github/probml/pyprobml/blob/master/notebooks/asia_pgm.ipynb\" target=\"_parent\"><img src=\"https://colab.research.google.com/assets/colab-badge.svg\" alt=\"Open In Colab\"/></a>"
      ]
    },
    {
      "cell_type": "markdown",
      "metadata": {
        "id": "caeOoFYBb5p2"
      },
      "source": [
        "# The \"Asia\"  graphical model\n",
        "\n",
        "We illustrate inference in the \"Asia\" medical diagnosis network.\n",
        "Network is from http://www.bnlearn.com/bnrepository/#asia.\n"
      ]
    },
    {
      "cell_type": "code",
      "metadata": {
        "colab": {
          "base_uri": "https://localhost:8080/"
        },
        "id": "p4SVMjkpbcJ7",
        "outputId": "ca7ed0a3-b57d-4270-db32-a4d73a9b4c26"
      },
      "source": [
        "!pip install  causalgraphicalmodels\n",
        "!pip install pgmpy\n",
        "\n",
        "#!ls /usr/local/lib/python3.7/dist-packages/pgmpy/utils"
      ],
      "execution_count": 1,
      "outputs": [
        {
          "output_type": "stream",
          "text": [
            "Collecting causalgraphicalmodels\n",
            "  Downloading https://files.pythonhosted.org/packages/c8/ee/3b2d184576f3cb4873cebfc696e8e5c1e53eaef691f38aea76c206f9f916/causalgraphicalmodels-0.0.4-py3-none-any.whl\n",
            "Requirement already satisfied: networkx in /usr/local/lib/python3.7/dist-packages (from causalgraphicalmodels) (2.5.1)\n",
            "Requirement already satisfied: graphviz in /usr/local/lib/python3.7/dist-packages (from causalgraphicalmodels) (0.10.1)\n",
            "Requirement already satisfied: numpy in /usr/local/lib/python3.7/dist-packages (from causalgraphicalmodels) (1.19.5)\n",
            "Requirement already satisfied: pandas in /usr/local/lib/python3.7/dist-packages (from causalgraphicalmodels) (1.1.5)\n",
            "Requirement already satisfied: decorator<5,>=4.3 in /usr/local/lib/python3.7/dist-packages (from networkx->causalgraphicalmodels) (4.4.2)\n",
            "Requirement already satisfied: python-dateutil>=2.7.3 in /usr/local/lib/python3.7/dist-packages (from pandas->causalgraphicalmodels) (2.8.1)\n",
            "Requirement already satisfied: pytz>=2017.2 in /usr/local/lib/python3.7/dist-packages (from pandas->causalgraphicalmodels) (2018.9)\n",
            "Requirement already satisfied: six>=1.5 in /usr/local/lib/python3.7/dist-packages (from python-dateutil>=2.7.3->pandas->causalgraphicalmodels) (1.15.0)\n",
            "Installing collected packages: causalgraphicalmodels\n",
            "Successfully installed causalgraphicalmodels-0.0.4\n",
            "Collecting pgmpy\n",
            "\u001b[?25l  Downloading https://files.pythonhosted.org/packages/a3/0e/d9fadbfaa35e010c04d43acd3ae9fbefec98897dd7d61a6b7eb5a8b34072/pgmpy-0.1.14-py3-none-any.whl (331kB)\n",
            "\u001b[K     |████████████████████████████████| 337kB 5.3MB/s \n",
            "\u001b[?25hRequirement already satisfied: scikit-learn in /usr/local/lib/python3.7/dist-packages (from pgmpy) (0.22.2.post1)\n",
            "Requirement already satisfied: scipy in /usr/local/lib/python3.7/dist-packages (from pgmpy) (1.4.1)\n",
            "Requirement already satisfied: pandas in /usr/local/lib/python3.7/dist-packages (from pgmpy) (1.1.5)\n",
            "Requirement already satisfied: tqdm in /usr/local/lib/python3.7/dist-packages (from pgmpy) (4.41.1)\n",
            "Requirement already satisfied: torch in /usr/local/lib/python3.7/dist-packages (from pgmpy) (1.8.1+cu101)\n",
            "Requirement already satisfied: numpy in /usr/local/lib/python3.7/dist-packages (from pgmpy) (1.19.5)\n",
            "Requirement already satisfied: pyparsing in /usr/local/lib/python3.7/dist-packages (from pgmpy) (2.4.7)\n",
            "Requirement already satisfied: statsmodels in /usr/local/lib/python3.7/dist-packages (from pgmpy) (0.10.2)\n",
            "Requirement already satisfied: joblib in /usr/local/lib/python3.7/dist-packages (from pgmpy) (1.0.1)\n",
            "Requirement already satisfied: networkx in /usr/local/lib/python3.7/dist-packages (from pgmpy) (2.5.1)\n",
            "Requirement already satisfied: pytz>=2017.2 in /usr/local/lib/python3.7/dist-packages (from pandas->pgmpy) (2018.9)\n",
            "Requirement already satisfied: python-dateutil>=2.7.3 in /usr/local/lib/python3.7/dist-packages (from pandas->pgmpy) (2.8.1)\n",
            "Requirement already satisfied: typing-extensions in /usr/local/lib/python3.7/dist-packages (from torch->pgmpy) (3.7.4.3)\n",
            "Requirement already satisfied: patsy>=0.4.0 in /usr/local/lib/python3.7/dist-packages (from statsmodels->pgmpy) (0.5.1)\n",
            "Requirement already satisfied: decorator<5,>=4.3 in /usr/local/lib/python3.7/dist-packages (from networkx->pgmpy) (4.4.2)\n",
            "Requirement already satisfied: six>=1.5 in /usr/local/lib/python3.7/dist-packages (from python-dateutil>=2.7.3->pandas->pgmpy) (1.15.0)\n",
            "Installing collected packages: pgmpy\n",
            "Successfully installed pgmpy-0.1.14\n"
          ],
          "name": "stdout"
        }
      ]
    },
    {
      "cell_type": "code",
      "metadata": {
        "id": "Go1UPp8eMIyC"
      },
      "source": [
        "from causalgraphicalmodels import CausalGraphicalModel\n",
        "import pgmpy\n",
        "import numpy as np\n",
        "import pandas as pd"
      ],
      "execution_count": 2,
      "outputs": []
    },
    {
      "cell_type": "markdown",
      "metadata": {
        "id": "u_-A-Hai4LbM"
      },
      "source": [
        "# Model"
      ]
    },
    {
      "cell_type": "code",
      "metadata": {
        "id": "Il1OHrxj3e8Y"
      },
      "source": [
        "#from pgmpy.utils import get_example_model\n",
        "#asia = get_example_model('asia')\n",
        "# No such file or directory: 'pgmpy/utils/example_models/asia.bif.gz'\n"
      ],
      "execution_count": 3,
      "outputs": []
    },
    {
      "cell_type": "code",
      "metadata": {
        "id": "OGsv1dt81oyI"
      },
      "source": [
        "#!wget https://raw.githubusercontent.com/d2l-ai/d2l-en/master/d2l/torch.py -q -O d2l.py\n",
        "\n",
        "!wget https://www.bnlearn.com/bnrepository/asia/asia.bif.gz -q -O asia.bif.gz\n",
        "!gunzip asia.bif.gz"
      ],
      "execution_count": 4,
      "outputs": []
    },
    {
      "cell_type": "code",
      "metadata": {
        "id": "l8xzIiLr0En0",
        "colab": {
          "base_uri": "https://localhost:8080/"
        },
        "outputId": "4d4b8eaf-21c4-418e-d694-b005829797da"
      },
      "source": [
        "\n",
        "from pgmpy.readwrite import BIFReader, BIFWriter\n",
        "reader = BIFReader(\"asia.bif\")\n",
        "model = reader.get_model()\n",
        "\n",
        "print(\"Nodes: \", model.nodes())\n",
        "print(\"Edges: \", model.edges())\n",
        "model.get_cpds()"
      ],
      "execution_count": 7,
      "outputs": [
        {
          "output_type": "stream",
          "text": [
            "Nodes:  ['asia', 'tub', 'smoke', 'lung', 'bronc', 'either', 'xray', 'dysp']\n",
            "Edges:  [('asia', 'tub'), ('tub', 'either'), ('smoke', 'lung'), ('smoke', 'bronc'), ('lung', 'either'), ('bronc', 'dysp'), ('either', 'xray'), ('either', 'dysp')]\n"
          ],
          "name": "stdout"
        },
        {
          "output_type": "execute_result",
          "data": {
            "text/plain": [
              "[<TabularCPD representing P(asia:2) at 0x7f31df6fdfd0>,\n",
              " <TabularCPD representing P(bronc:2 | smoke:2) at 0x7f31df6fda10>,\n",
              " <TabularCPD representing P(dysp:2 | bronc:2, either:2) at 0x7f31df6fde90>,\n",
              " <TabularCPD representing P(either:2 | lung:2, tub:2) at 0x7f31df6fde50>,\n",
              " <TabularCPD representing P(lung:2 | smoke:2) at 0x7f31df6fdc90>,\n",
              " <TabularCPD representing P(smoke:2) at 0x7f31df6fdd50>,\n",
              " <TabularCPD representing P(tub:2 | asia:2) at 0x7f31df6fdc50>,\n",
              " <TabularCPD representing P(xray:2 | either:2) at 0x7f31df6fdbd0>]"
            ]
          },
          "metadata": {
            "tags": []
          },
          "execution_count": 7
        }
      ]
    },
    {
      "cell_type": "code",
      "metadata": {
        "colab": {
          "base_uri": "https://localhost:8080/"
        },
        "id": "d1GFKz5t5kxA",
        "outputId": "04086ec3-74ca-4352-8cb1-27d4455bd06a"
      },
      "source": [
        "for c in model.get_cpds():\n",
        "  print(c)"
      ],
      "execution_count": 15,
      "outputs": [
        {
          "output_type": "stream",
          "text": [
            "+-----------+------+\n",
            "| asia(yes) | 0.01 |\n",
            "+-----------+------+\n",
            "| asia(no)  | 0.99 |\n",
            "+-----------+------+\n",
            "+------------+------------+-----------+\n",
            "| smoke      | smoke(yes) | smoke(no) |\n",
            "+------------+------------+-----------+\n",
            "| bronc(yes) | 0.6        | 0.3       |\n",
            "+------------+------------+-----------+\n",
            "| bronc(no)  | 0.4        | 0.7       |\n",
            "+------------+------------+-----------+\n",
            "+-----------+-------------+------------+-------------+------------+\n",
            "| bronc     | bronc(yes)  | bronc(yes) | bronc(no)   | bronc(no)  |\n",
            "+-----------+-------------+------------+-------------+------------+\n",
            "| either    | either(yes) | either(no) | either(yes) | either(no) |\n",
            "+-----------+-------------+------------+-------------+------------+\n",
            "| dysp(yes) | 0.9         | 0.8        | 0.7         | 0.1        |\n",
            "+-----------+-------------+------------+-------------+------------+\n",
            "| dysp(no)  | 0.1         | 0.2        | 0.3         | 0.9        |\n",
            "+-----------+-------------+------------+-------------+------------+\n",
            "+-------------+-----------+-----------+----------+----------+\n",
            "| lung        | lung(yes) | lung(yes) | lung(no) | lung(no) |\n",
            "+-------------+-----------+-----------+----------+----------+\n",
            "| tub         | tub(yes)  | tub(no)   | tub(yes) | tub(no)  |\n",
            "+-------------+-----------+-----------+----------+----------+\n",
            "| either(yes) | 1.0       | 1.0       | 1.0      | 0.0      |\n",
            "+-------------+-----------+-----------+----------+----------+\n",
            "| either(no)  | 0.0       | 0.0       | 0.0      | 1.0      |\n",
            "+-------------+-----------+-----------+----------+----------+\n",
            "+-----------+------------+-----------+\n",
            "| smoke     | smoke(yes) | smoke(no) |\n",
            "+-----------+------------+-----------+\n",
            "| lung(yes) | 0.1        | 0.01      |\n",
            "+-----------+------------+-----------+\n",
            "| lung(no)  | 0.9        | 0.99      |\n",
            "+-----------+------------+-----------+\n",
            "+------------+-----+\n",
            "| smoke(yes) | 0.5 |\n",
            "+------------+-----+\n",
            "| smoke(no)  | 0.5 |\n",
            "+------------+-----+\n",
            "+----------+-----------+----------+\n",
            "| asia     | asia(yes) | asia(no) |\n",
            "+----------+-----------+----------+\n",
            "| tub(yes) | 0.05      | 0.01     |\n",
            "+----------+-----------+----------+\n",
            "| tub(no)  | 0.95      | 0.99     |\n",
            "+----------+-----------+----------+\n",
            "+-----------+-------------+------------+\n",
            "| either    | either(yes) | either(no) |\n",
            "+-----------+-------------+------------+\n",
            "| xray(yes) | 0.98        | 0.05       |\n",
            "+-----------+-------------+------------+\n",
            "| xray(no)  | 0.02        | 0.95       |\n",
            "+-----------+-------------+------------+\n"
          ],
          "name": "stdout"
        }
      ]
    },
    {
      "cell_type": "code",
      "metadata": {
        "colab": {
          "base_uri": "https://localhost:8080/"
        },
        "id": "8jzeJCpE50kw",
        "outputId": "8302186e-d6d1-4ca8-8510-3639a357844e"
      },
      "source": [
        "asia_cpd = model.get_cpds()[0]\n",
        "print(asia_cpd)\n",
        "print(asia_cpd.values)\n",
        "asia_prior_true = asia_cpd.values[1]\n"
      ],
      "execution_count": 24,
      "outputs": [
        {
          "output_type": "stream",
          "text": [
            "+-----------+------+\n",
            "| asia(yes) | 0.01 |\n",
            "+-----------+------+\n",
            "| asia(no)  | 0.99 |\n",
            "+-----------+------+\n",
            "[0.01 0.99]\n"
          ],
          "name": "stdout"
        }
      ]
    },
    {
      "cell_type": "code",
      "metadata": {
        "colab": {
          "base_uri": "https://localhost:8080/"
        },
        "id": "VDNdkr0_6TsN",
        "outputId": "80c7917c-c445-4ad3-aae0-7f14ce7cceb3"
      },
      "source": [
        "smoking_cpd = model.get_cpds()[5]\n",
        "print(smoking_cpd)\n",
        "print(smoking_cpd.values)\n",
        "smoking_prior_true = smoking_cpd.values[1]"
      ],
      "execution_count": 27,
      "outputs": [
        {
          "output_type": "stream",
          "text": [
            "+------------+-----+\n",
            "| smoke(yes) | 0.5 |\n",
            "+------------+-----+\n",
            "| smoke(no)  | 0.5 |\n",
            "+------------+-----+\n",
            "[0.5 0.5]\n"
          ],
          "name": "stdout"
        }
      ]
    },
    {
      "cell_type": "code",
      "metadata": {
        "id": "K8gIy5Bk2XJR",
        "colab": {
          "base_uri": "https://localhost:8080/",
          "height": 385
        },
        "outputId": "6146f8ed-091e-4bd6-ab30-c26f97362548"
      },
      "source": [
        "asia = CausalGraphicalModel(nodes = model.nodes(), edges=model.edges())\n",
        "\n",
        "out = asia.draw()\n",
        "display(out)\n",
        "out.render()"
      ],
      "execution_count": 9,
      "outputs": [
        {
          "output_type": "display_data",
          "data": {
            "text/plain": [
              "<graphviz.dot.Digraph at 0x7f31df710450>"
            ],
            "image/svg+xml": "<?xml version=\"1.0\" encoding=\"UTF-8\" standalone=\"no\"?>\n<!DOCTYPE svg PUBLIC \"-//W3C//DTD SVG 1.1//EN\"\n \"http://www.w3.org/Graphics/SVG/1.1/DTD/svg11.dtd\">\n<!-- Generated by graphviz version 2.40.1 (20161225.0304)\n -->\n<!-- Title: %3 Pages: 1 -->\n<svg width=\"196pt\" height=\"260pt\"\n viewBox=\"0.00 0.00 196.50 260.00\" xmlns=\"http://www.w3.org/2000/svg\" xmlns:xlink=\"http://www.w3.org/1999/xlink\">\n<g id=\"graph0\" class=\"graph\" transform=\"scale(1 1) rotate(0) translate(4 256)\">\n<title>%3</title>\n<polygon fill=\"#ffffff\" stroke=\"transparent\" points=\"-4,4 -4,-256 192.4971,-256 192.4971,4 -4,4\"/>\n<!-- lung -->\n<g id=\"node1\" class=\"node\">\n<title>lung</title>\n<ellipse fill=\"none\" stroke=\"#000000\" cx=\"88.4971\" cy=\"-162\" rx=\"27.8951\" ry=\"18\"/>\n<text text-anchor=\"middle\" x=\"88.4971\" y=\"-158.3\" font-family=\"Times,serif\" font-size=\"14.00\" fill=\"#000000\">lung</text>\n</g>\n<!-- either -->\n<g id=\"node3\" class=\"node\">\n<title>either</title>\n<ellipse fill=\"none\" stroke=\"#000000\" cx=\"114.4971\" cy=\"-90\" rx=\"31.3957\" ry=\"18\"/>\n<text text-anchor=\"middle\" x=\"114.4971\" y=\"-86.3\" font-family=\"Times,serif\" font-size=\"14.00\" fill=\"#000000\">either</text>\n</g>\n<!-- lung&#45;&gt;either -->\n<g id=\"edge5\" class=\"edge\">\n<title>lung&#45;&gt;either</title>\n<path fill=\"none\" stroke=\"#000000\" d=\"M94.9241,-144.2022C97.8304,-136.1541 101.3314,-126.4588 104.5642,-117.5067\"/>\n<polygon fill=\"#000000\" stroke=\"#000000\" points=\"107.9494,-118.4369 108.054,-107.8425 101.3655,-116.0593 107.9494,-118.4369\"/>\n</g>\n<!-- bronc -->\n<g id=\"node2\" class=\"node\">\n<title>bronc</title>\n<ellipse fill=\"none\" stroke=\"#000000\" cx=\"32.4971\" cy=\"-90\" rx=\"32.4942\" ry=\"18\"/>\n<text text-anchor=\"middle\" x=\"32.4971\" y=\"-86.3\" font-family=\"Times,serif\" font-size=\"14.00\" fill=\"#000000\">bronc</text>\n</g>\n<!-- dysp -->\n<g id=\"node5\" class=\"node\">\n<title>dysp</title>\n<ellipse fill=\"none\" stroke=\"#000000\" cx=\"36.4971\" cy=\"-18\" rx=\"28.6953\" ry=\"18\"/>\n<text text-anchor=\"middle\" x=\"36.4971\" y=\"-14.3\" font-family=\"Times,serif\" font-size=\"14.00\" fill=\"#000000\">dysp</text>\n</g>\n<!-- bronc&#45;&gt;dysp -->\n<g id=\"edge6\" class=\"edge\">\n<title>bronc&#45;&gt;dysp</title>\n<path fill=\"none\" stroke=\"#000000\" d=\"M33.5065,-71.8314C33.9343,-64.131 34.443,-54.9743 34.9184,-46.4166\"/>\n<polygon fill=\"#000000\" stroke=\"#000000\" points=\"38.414,-46.592 35.4742,-36.4133 31.4248,-46.2037 38.414,-46.592\"/>\n</g>\n<!-- xray -->\n<g id=\"node4\" class=\"node\">\n<title>xray</title>\n<ellipse fill=\"none\" stroke=\"#000000\" cx=\"114.4971\" cy=\"-18\" rx=\"27.0966\" ry=\"18\"/>\n<text text-anchor=\"middle\" x=\"114.4971\" y=\"-14.3\" font-family=\"Times,serif\" font-size=\"14.00\" fill=\"#000000\">xray</text>\n</g>\n<!-- either&#45;&gt;xray -->\n<g id=\"edge7\" class=\"edge\">\n<title>either&#45;&gt;xray</title>\n<path fill=\"none\" stroke=\"#000000\" d=\"M114.4971,-71.8314C114.4971,-64.131 114.4971,-54.9743 114.4971,-46.4166\"/>\n<polygon fill=\"#000000\" stroke=\"#000000\" points=\"117.9972,-46.4132 114.4971,-36.4133 110.9972,-46.4133 117.9972,-46.4132\"/>\n</g>\n<!-- either&#45;&gt;dysp -->\n<g id=\"edge8\" class=\"edge\">\n<title>either&#45;&gt;dysp</title>\n<path fill=\"none\" stroke=\"#000000\" d=\"M97.9553,-74.7307C87.0236,-64.6398 72.5207,-51.2526 60.3488,-40.0169\"/>\n<polygon fill=\"#000000\" stroke=\"#000000\" points=\"62.4697,-37.2115 52.7476,-33.0004 57.7217,-42.3551 62.4697,-37.2115\"/>\n</g>\n<!-- asia -->\n<g id=\"node6\" class=\"node\">\n<title>asia</title>\n<ellipse fill=\"none\" stroke=\"#000000\" cx=\"161.4971\" cy=\"-234\" rx=\"27\" ry=\"18\"/>\n<text text-anchor=\"middle\" x=\"161.4971\" y=\"-230.3\" font-family=\"Times,serif\" font-size=\"14.00\" fill=\"#000000\">asia</text>\n</g>\n<!-- tub -->\n<g id=\"node7\" class=\"node\">\n<title>tub</title>\n<ellipse fill=\"none\" stroke=\"#000000\" cx=\"161.4971\" cy=\"-162\" rx=\"27\" ry=\"18\"/>\n<text text-anchor=\"middle\" x=\"161.4971\" y=\"-158.3\" font-family=\"Times,serif\" font-size=\"14.00\" fill=\"#000000\">tub</text>\n</g>\n<!-- asia&#45;&gt;tub -->\n<g id=\"edge1\" class=\"edge\">\n<title>asia&#45;&gt;tub</title>\n<path fill=\"none\" stroke=\"#000000\" d=\"M161.4971,-215.8314C161.4971,-208.131 161.4971,-198.9743 161.4971,-190.4166\"/>\n<polygon fill=\"#000000\" stroke=\"#000000\" points=\"164.9972,-190.4132 161.4971,-180.4133 157.9972,-190.4133 164.9972,-190.4132\"/>\n</g>\n<!-- tub&#45;&gt;either -->\n<g id=\"edge2\" class=\"edge\">\n<title>tub&#45;&gt;either</title>\n<path fill=\"none\" stroke=\"#000000\" d=\"M150.5962,-145.3008C144.8659,-136.5224 137.7166,-125.5703 131.2957,-115.7339\"/>\n<polygon fill=\"#000000\" stroke=\"#000000\" points=\"134.0624,-113.5693 125.6653,-107.1086 128.2007,-117.3956 134.0624,-113.5693\"/>\n</g>\n<!-- smoke -->\n<g id=\"node8\" class=\"node\">\n<title>smoke</title>\n<ellipse fill=\"none\" stroke=\"#000000\" cx=\"57.4971\" cy=\"-234\" rx=\"35.194\" ry=\"18\"/>\n<text text-anchor=\"middle\" x=\"57.4971\" y=\"-230.3\" font-family=\"Times,serif\" font-size=\"14.00\" fill=\"#000000\">smoke</text>\n</g>\n<!-- smoke&#45;&gt;lung -->\n<g id=\"edge3\" class=\"edge\">\n<title>smoke&#45;&gt;lung</title>\n<path fill=\"none\" stroke=\"#000000\" d=\"M65.16,-216.2022C68.6888,-208.0064 72.953,-198.1024 76.8659,-189.0145\"/>\n<polygon fill=\"#000000\" stroke=\"#000000\" points=\"80.1824,-190.162 80.9223,-179.593 73.753,-187.3938 80.1824,-190.162\"/>\n</g>\n<!-- smoke&#45;&gt;bronc -->\n<g id=\"edge4\" class=\"edge\">\n<title>smoke&#45;&gt;bronc</title>\n<path fill=\"none\" stroke=\"#000000\" d=\"M54.3814,-216.0535C50.1147,-191.4774 42.4104,-147.1008 37.3751,-118.0974\"/>\n<polygon fill=\"#000000\" stroke=\"#000000\" points=\"40.8111,-117.4266 35.6521,-108.1727 33.9143,-118.624 40.8111,-117.4266\"/>\n</g>\n</g>\n</svg>\n"
          },
          "metadata": {
            "tags": []
          }
        },
        {
          "output_type": "execute_result",
          "data": {
            "application/vnd.google.colaboratory.intrinsic+json": {
              "type": "string"
            },
            "text/plain": [
              "'Digraph.gv.pdf'"
            ]
          },
          "metadata": {
            "tags": []
          },
          "execution_count": 9
        }
      ]
    },
    {
      "cell_type": "markdown",
      "metadata": {
        "id": "3s_MxAup4Ol2"
      },
      "source": [
        "# Inference"
      ]
    },
    {
      "cell_type": "code",
      "metadata": {
        "id": "dJwoaVgi47Oe"
      },
      "source": [
        "from pgmpy.inference import VariableElimination\n",
        "infer = VariableElimination(model)\n"
      ],
      "execution_count": 10,
      "outputs": []
    },
    {
      "cell_type": "code",
      "metadata": {
        "id": "RENNeAKA9nbj"
      },
      "source": [
        "def get_marginals(evidence = {}):\n",
        "  nodes = model.nodes()\n",
        "  num_nodes = len(nodes)\n",
        "  marginals = dict()\n",
        "  for n in nodes:\n",
        "    if n in evidence: # observed nodes\n",
        "      v = evidence[n]\n",
        "      if v == 1:      \n",
        "        marginals[n] = 1.0 # clamped to state 1\n",
        "      else:\n",
        "        marginals[n] = 0.0 # clamped to state 0\n",
        "    else:\n",
        "      probs = infer.query([n], evidence=evidence).values\n",
        "      marginals[n] = probs[1] # probability in state 1\n",
        "  return marginals\n",
        "\n"
      ],
      "execution_count": 39,
      "outputs": []
    },
    {
      "cell_type": "markdown",
      "metadata": {
        "id": "Fo1Z_lqa4fnB"
      },
      "source": [
        "## Prior marginals"
      ]
    },
    {
      "cell_type": "code",
      "metadata": {
        "colab": {
          "base_uri": "https://localhost:8080/"
        },
        "id": "wIj_U9mC-Q3M",
        "outputId": "9bc88803-a0b3-4e96-b6b9-84d60c3f4184"
      },
      "source": [
        "marginals = get_marginals()\n",
        "for k, v in marginals.items():\n",
        "  print(k, v)\n",
        "\n",
        "assert np.allclose(asia_prior_true, marginals['asia'])"
      ],
      "execution_count": 46,
      "outputs": [
        {
          "output_type": "stream",
          "text": [
            "Finding Elimination Order: : 100%|██████████| 7/7 [00:00<00:00, 1105.14it/s]\n",
            "Eliminating: smoke: 100%|██████████| 7/7 [00:00<00:00, 212.60it/s]\n",
            "Finding Elimination Order: : 100%|██████████| 7/7 [00:00<00:00, 1855.42it/s]\n",
            "Eliminating: smoke: 100%|██████████| 7/7 [00:00<00:00, 253.45it/s]\n",
            "Finding Elimination Order: : 100%|██████████| 7/7 [00:00<00:00, 1708.57it/s]\n",
            "Eliminating: tub: 100%|██████████| 7/7 [00:00<00:00, 253.45it/s]\n",
            "Finding Elimination Order: : 100%|██████████| 7/7 [00:00<00:00, 2207.86it/s]\n",
            "Eliminating: smoke: 100%|██████████| 7/7 [00:00<00:00, 203.44it/s]\n",
            "Finding Elimination Order: : 100%|██████████| 7/7 [00:00<00:00, 1384.78it/s]\n",
            "Eliminating: smoke: 100%|██████████| 7/7 [00:00<00:00, 147.33it/s]\n",
            "Finding Elimination Order: : 100%|██████████| 7/7 [00:00<00:00, 1233.52it/s]\n",
            "Eliminating: smoke: 100%|██████████| 7/7 [00:00<00:00, 170.93it/s]\n",
            "Finding Elimination Order: : 100%|██████████| 7/7 [00:00<00:00, 1354.00it/s]\n",
            "Eliminating: smoke: 100%|██████████| 7/7 [00:00<00:00, 163.20it/s]\n",
            "Finding Elimination Order: : 100%|██████████| 7/7 [00:00<00:00, 1909.23it/s]\n",
            "Eliminating: smoke: 100%|██████████| 7/7 [00:00<00:00, 234.35it/s]"
          ],
          "name": "stderr"
        },
        {
          "output_type": "stream",
          "text": [
            "asia 0.99\n",
            "tub 0.9896\n",
            "smoke 0.5\n",
            "lung 0.9450000000000001\n",
            "bronc 0.55\n",
            "either 0.935172\n",
            "xray 0.88970996\n",
            "dysp 0.5640294\n"
          ],
          "name": "stdout"
        },
        {
          "output_type": "stream",
          "text": [
            "\n"
          ],
          "name": "stderr"
        }
      ]
    },
    {
      "cell_type": "markdown",
      "metadata": {
        "id": "StB-XG1z7FEP"
      },
      "source": [
        "## Posterior marginals given dsypnea=present"
      ]
    },
    {
      "cell_type": "code",
      "metadata": {
        "colab": {
          "base_uri": "https://localhost:8080/"
        },
        "id": "ZMcpy_pA67bi",
        "outputId": "ed8e8c58-6736-4f07-92b1-373d707110bb"
      },
      "source": [
        "\n",
        "evidence  = {'dysp': 0}\n",
        "marginals = get_marginals(evidence)\n",
        "print('\\n')\n",
        "for k, v in marginals.items():\n",
        "  print(k, v)\n"
      ],
      "execution_count": 48,
      "outputs": [
        {
          "output_type": "stream",
          "text": [
            "/usr/local/lib/python3.7/dist-packages/pgmpy/factors/discrete/DiscreteFactor.py:519: UserWarning: Found unknown state name. Trying to switch to using all state names as state numbers\n",
            "  \"Found unknown state name. Trying to switch to using all state names as state numbers\"\n",
            "Finding Elimination Order: : 100%|██████████| 6/6 [00:00<00:00, 800.95it/s]\n",
            "Eliminating: smoke: 100%|██████████| 6/6 [00:00<00:00, 262.45it/s]\n",
            "Finding Elimination Order: : 100%|██████████| 6/6 [00:00<00:00, 2407.98it/s]\n",
            "Eliminating: smoke: 100%|██████████| 6/6 [00:00<00:00, 285.62it/s]\n",
            "Finding Elimination Order: : 100%|██████████| 6/6 [00:00<00:00, 1405.91it/s]\n",
            "Eliminating: tub: 100%|██████████| 6/6 [00:00<00:00, 338.03it/s]\n",
            "Finding Elimination Order: : 100%|██████████| 6/6 [00:00<00:00, 1559.51it/s]\n",
            "Eliminating: smoke: 100%|██████████| 6/6 [00:00<00:00, 307.83it/s]\n",
            "Finding Elimination Order: : 100%|██████████| 6/6 [00:00<00:00, 664.92it/s]\n",
            "Eliminating: smoke: 100%|██████████| 6/6 [00:00<00:00, 179.23it/s]\n",
            "Finding Elimination Order: : 100%|██████████| 6/6 [00:00<00:00, 1198.77it/s]\n",
            "Eliminating: smoke: 100%|██████████| 6/6 [00:00<00:00, 207.58it/s]\n",
            "Finding Elimination Order: : 100%|██████████| 6/6 [00:00<00:00, 1075.78it/s]\n",
            "Eliminating: either: 100%|██████████| 6/6 [00:00<00:00, 143.99it/s]"
          ],
          "name": "stderr"
        },
        {
          "output_type": "stream",
          "text": [
            "\n",
            "\n",
            "asia 0.9896750491890968\n",
            "tub 0.9811546925411943\n",
            "smoke 0.36600312039389815\n",
            "lung 0.8972407772450711\n",
            "bronc 0.1660326636704402\n",
            "either 0.8794641657029166\n",
            "xray 0.8379016741037125\n",
            "dysp 0.0\n"
          ],
          "name": "stdout"
        },
        {
          "output_type": "stream",
          "text": [
            "\n"
          ],
          "name": "stderr"
        }
      ]
    },
    {
      "cell_type": "markdown",
      "metadata": {
        "id": "4xM1w8qR8wgG"
      },
      "source": [
        "## Posterior marginals given dsypnea=present, asia=visit"
      ]
    },
    {
      "cell_type": "code",
      "metadata": {
        "colab": {
          "base_uri": "https://localhost:8080/"
        },
        "id": "eJJhZFWf70pl",
        "outputId": "15cba04b-e5d4-4eba-9f31-d3858c24b5fe"
      },
      "source": [
        "evidence  = {'dysp': 0, 'asia': 0}\n",
        "marginals = get_marginals(evidence)\n",
        "print('\\n')\n",
        "for k, v in marginals.items():\n",
        "  print(k, v)\n",
        "\n"
      ],
      "execution_count": 49,
      "outputs": [
        {
          "output_type": "stream",
          "text": [
            "/usr/local/lib/python3.7/dist-packages/pgmpy/factors/discrete/DiscreteFactor.py:519: UserWarning: Found unknown state name. Trying to switch to using all state names as state numbers\n",
            "  \"Found unknown state name. Trying to switch to using all state names as state numbers\"\n",
            "Finding Elimination Order: : 100%|██████████| 5/5 [00:00<00:00, 793.92it/s]\n",
            "Eliminating: smoke: 100%|██████████| 5/5 [00:00<00:00, 169.81it/s]\n",
            "Finding Elimination Order: : 100%|██████████| 5/5 [00:00<00:00, 548.26it/s]\n",
            "Eliminating: tub: 100%|██████████| 5/5 [00:00<00:00, 315.21it/s]\n",
            "Finding Elimination Order: : 100%|██████████| 5/5 [00:00<00:00, 1036.91it/s]\n",
            "Eliminating: smoke: 100%|██████████| 5/5 [00:00<00:00, 242.01it/s]\n",
            "Finding Elimination Order: : 100%|██████████| 5/5 [00:00<00:00, 991.70it/s]\n",
            "Eliminating: smoke: 100%|██████████| 5/5 [00:00<00:00, 259.59it/s]\n",
            "Finding Elimination Order: : 100%|██████████| 5/5 [00:00<00:00, 934.06it/s]\n",
            "Eliminating: smoke: 100%|██████████| 5/5 [00:00<00:00, 221.69it/s]\n",
            "Finding Elimination Order: : 100%|██████████| 5/5 [00:00<00:00, 1050.26it/s]\n",
            "Eliminating: either: 100%|██████████| 5/5 [00:00<00:00, 262.77it/s]"
          ],
          "name": "stderr"
        },
        {
          "output_type": "stream",
          "text": [
            "\n",
            "\n",
            "asia 0.0\n",
            "tub 0.9122490350170781\n",
            "smoke 0.3740801421787787\n",
            "lung 0.9004748549054455\n",
            "bronc 0.1885979284107634\n",
            "either 0.8177001471772514\n",
            "xray 0.7804611368748438\n",
            "dysp 0.0\n"
          ],
          "name": "stdout"
        },
        {
          "output_type": "stream",
          "text": [
            "\n"
          ],
          "name": "stderr"
        }
      ]
    },
    {
      "cell_type": "markdown",
      "metadata": {
        "id": "hyALNuUaCNza"
      },
      "source": [
        "## Posterior marginals given dsypnea=present, asia=visit, smoking=true"
      ]
    },
    {
      "cell_type": "code",
      "metadata": {
        "colab": {
          "base_uri": "https://localhost:8080/"
        },
        "id": "gDydpbab9Svz",
        "outputId": "90f2cb6a-27f8-437d-b5e4-edd6a76c280d"
      },
      "source": [
        "evidence  = {'dysp': 0, 'asia': 0, 'smoke': 0}\n",
        "marginals = get_marginals(evidence)\n",
        "print('\\n')\n",
        "for k, v in marginals.items():\n",
        "  print(k, v)\n"
      ],
      "execution_count": 52,
      "outputs": [
        {
          "output_type": "stream",
          "text": [
            "/usr/local/lib/python3.7/dist-packages/pgmpy/factors/discrete/DiscreteFactor.py:519: UserWarning: Found unknown state name. Trying to switch to using all state names as state numbers\n",
            "  \"Found unknown state name. Trying to switch to using all state names as state numbers\"\n",
            "Finding Elimination Order: : 100%|██████████| 4/4 [00:00<00:00, 536.58it/s]\n",
            "Eliminating: either: 100%|██████████| 4/4 [00:00<00:00, 273.28it/s]\n",
            "Finding Elimination Order: : 100%|██████████| 4/4 [00:00<00:00, 517.74it/s]\n",
            "Eliminating: tub: 100%|██████████| 4/4 [00:00<00:00, 167.26it/s]\n",
            "Finding Elimination Order: : 100%|██████████| 4/4 [00:00<00:00, 474.11it/s]\n",
            "Eliminating: tub: 100%|██████████| 4/4 [00:00<00:00, 259.67it/s]\n",
            "Finding Elimination Order: : 100%|██████████| 4/4 [00:00<00:00, 838.90it/s]\n",
            "Eliminating: tub: 100%|██████████| 4/4 [00:00<00:00, 163.91it/s]\n",
            "Finding Elimination Order: : 100%|██████████| 4/4 [00:00<00:00, 365.01it/s]\n",
            "Eliminating: either: 100%|██████████| 4/4 [00:00<00:00, 183.07it/s]\n"
          ],
          "name": "stderr"
        },
        {
          "output_type": "stream",
          "text": [
            "\n",
            "\n",
            "asia 0.0\n",
            "tub 0.927240461401952\n",
            "smoke 0.0\n",
            "lung 0.8544809228039041\n",
            "bronc 0.13274179236912156\n",
            "either 0.7889973380656611\n",
            "xray 0.7537675244010646\n",
            "dysp 0.0\n"
          ],
          "name": "stdout"
        }
      ]
    },
    {
      "cell_type": "markdown",
      "metadata": {
        "id": "fxLt4NZEHEGp"
      },
      "source": [
        "# Visualization of posterior marginals"
      ]
    },
    {
      "cell_type": "markdown",
      "metadata": {
        "id": "1ZgEQUrOHIyK"
      },
      "source": [
        "\n",
        "<img src=\"https://user-images.githubusercontent.com/4632336/118872284-40b65700-b89d-11eb-8739-bc94fce6808a.png?raw=true\">\n",
        "\n"
      ]
    },
    {
      "cell_type": "markdown",
      "metadata": {
        "id": "C62naP3VJFbV"
      },
      "source": [
        "# Explanatory text from the book.\n",
        "\n",
        "In this section,\n",
        "we consider a hypothetical medical\n",
        "model proposed in \\citep{Lauritzen88}\n",
        "which is\n",
        "known in the literature as the ``\\keywordDef{Asia network}''.\n",
        "(The name comes  from the fact\n",
        "that was designed to diagnoise various\n",
        "lung diseases in Western patients returning from a trip to Asia.\n",
        "Note that this example predates \n",
        "the \\COVID pandemic by many years, and is a purely fictitious model.)\n",
        "\n",
        "\\cref{fig:pgmAsia1} shows the model, as well as the prior\n",
        "marginal distributions over each node (assumed to be binary).\n",
        "Now suppose the patient reports that they have \\keywordDef{Dyspnea},\n",
        "aka shortness of breath.\n",
        "We can represent this fact\n",
        "``clamping'' the distribution to be 100\\% probability\n",
        "that Dyspnea=Present, and 0\\% probability that Dyspnea=Absent.\n",
        "We then propagate this new  information  through the network\n",
        "to get the updated marginal distributions shown in\n",
        "\\cref{fig:pgmAsia2}.\n",
        "We see that the probability\n",
        "of lung cancer has gone up from 5\\% to 10\\%,\n",
        "and probability of bronchitis has gone up  from 45\\% to 83\\%.\n",
        "\n",
        "However, it could also be a an undiagnosed case of TB (tuberculosis),\n",
        "which may have been caused by exposure to an infectious lung disease\n",
        "that was prevalent in Asia at the time.\n",
        "So he doctor asks the patient if they have recently been to Asia,\n",
        "and they say yes.  \\cref{fig:pgmAsia3} shows the new belief state of each node.\n",
        "We see that the probability of TB has increased from 2\\% to 9\\%.\n",
        "However, Bronchitis remains the most likely explanation of the symptoms.\n",
        "\n",
        "To gain more information the doctor asks\n",
        "if the patient smokes, and they say yes.\n",
        "\\cref{fig:pgmAsia3} shows the new belief state of each node.\n",
        "Now the probability of cancer and bronchitis have both gone up.\n",
        "In addition, the posterior predicted probability that an X-ray\n",
        "will show an abnormal result has gone up to 24\\%, so the doctor may decide\n",
        "it is now worth ordering a test to verify this hypothesis.\n",
        "\n",
        "This example illustrates the nature of recursive Bayesian updating,\n",
        "and how it can be useful for active learning and sequential decision making,\n",
        "We will see more examples later in the book."
      ]
    },
    {
      "cell_type": "code",
      "metadata": {
        "id": "24L0MlUXCgDw"
      },
      "source": [
        ""
      ],
      "execution_count": null,
      "outputs": []
    }
  ]
}