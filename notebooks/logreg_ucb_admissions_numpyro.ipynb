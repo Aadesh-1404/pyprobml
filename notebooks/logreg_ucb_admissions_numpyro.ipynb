{
  "nbformat": 4,
  "nbformat_minor": 0,
  "metadata": {
    "colab": {
      "name": "logreg_ucb_admissions_numpyro.ipynb",
      "provenance": [],
      "toc_visible": true,
      "authorship_tag": "ABX9TyM/7p8U3zcn6Ut66VC5Z7LT",
      "include_colab_link": true
    },
    "kernelspec": {
      "name": "python3",
      "display_name": "Python 3"
    },
    "language_info": {
      "name": "python"
    }
  },
  "cells": [
    {
      "cell_type": "markdown",
      "metadata": {
        "id": "view-in-github",
        "colab_type": "text"
      },
      "source": [
        "<a href=\"https://colab.research.google.com/github/probml/pyprobml/blob/master/notebooks/logreg_ucb_admissions_numpyro.ipynb\" target=\"_parent\"><img src=\"https://colab.research.google.com/assets/colab-badge.svg\" alt=\"Open In Colab\"/></a>"
      ]
    },
    {
      "cell_type": "markdown",
      "metadata": {
        "id": "bZmPN5Gu1zna"
      },
      "source": [
        "# Logistic regression for UCB admissions\n",
        "\n",
        "We illustrate binary logistic regression on 2 discrete inputs using the example in sec 11.1.4  of [Statistical Rethinking ed 2](https://xcelab.net/rm/statistical-rethinking/). \n",
        "The numpyro code is from [Du Phan's site](https://fehiepsi.github.io/rethinking-numpyro/11-god-spiked-the-integers.html)\n",
        "\n"
      ]
    },
    {
      "cell_type": "code",
      "metadata": {
        "id": "_y0aLBbR1zMh"
      },
      "source": [
        "!pip install -q numpyro@git+https://github.com/pyro-ppl/numpyro\n",
        "!pip install -q arviz\n"
      ],
      "execution_count": null,
      "outputs": []
    },
    {
      "cell_type": "code",
      "metadata": {
        "colab": {
          "base_uri": "https://localhost:8080/"
        },
        "id": "WKy5McPCB8R_",
        "outputId": "baa78d0e-c075-4964-bff6-c7f04d6c2162"
      },
      "source": [
        "!pip install causalgraphicalmodels"
      ],
      "execution_count": null,
      "outputs": [
        {
          "output_type": "stream",
          "text": [
            "Requirement already satisfied: causalgraphicalmodels in /usr/local/lib/python3.7/dist-packages (0.0.4)\n",
            "Requirement already satisfied: numpy in /usr/local/lib/python3.7/dist-packages (from causalgraphicalmodels) (1.19.5)\n",
            "Requirement already satisfied: networkx in /usr/local/lib/python3.7/dist-packages (from causalgraphicalmodels) (2.5.1)\n",
            "Requirement already satisfied: pandas in /usr/local/lib/python3.7/dist-packages (from causalgraphicalmodels) (1.1.5)\n",
            "Requirement already satisfied: graphviz in /usr/local/lib/python3.7/dist-packages (from causalgraphicalmodels) (0.10.1)\n",
            "Requirement already satisfied: decorator<5,>=4.3 in /usr/local/lib/python3.7/dist-packages (from networkx->causalgraphicalmodels) (4.4.2)\n",
            "Requirement already satisfied: pytz>=2017.2 in /usr/local/lib/python3.7/dist-packages (from pandas->causalgraphicalmodels) (2018.9)\n",
            "Requirement already satisfied: python-dateutil>=2.7.3 in /usr/local/lib/python3.7/dist-packages (from pandas->causalgraphicalmodels) (2.8.1)\n",
            "Requirement already satisfied: six>=1.5 in /usr/local/lib/python3.7/dist-packages (from python-dateutil>=2.7.3->pandas->causalgraphicalmodels) (1.15.0)\n"
          ],
          "name": "stdout"
        }
      ]
    },
    {
      "cell_type": "code",
      "metadata": {
        "colab": {
          "base_uri": "https://localhost:8080/"
        },
        "id": "q2Nn5H_nDK7P",
        "outputId": "db0cf4c9-9b31-4f60-ad0e-68272a29be98"
      },
      "source": [
        "#!pip install -U daft"
      ],
      "execution_count": null,
      "outputs": [
        {
          "output_type": "stream",
          "text": [
            "Collecting daft\n",
            "  Downloading https://files.pythonhosted.org/packages/8c/bb/a9260db73c24cfb587c5d504c8fccacdbaae1bfb651386f605fd2cff30fa/daft-0.1.2-py3-none-any.whl\n",
            "Requirement already satisfied, skipping upgrade: numpy in /usr/local/lib/python3.7/dist-packages (from daft) (1.19.5)\n",
            "Requirement already satisfied, skipping upgrade: setuptools in /usr/local/lib/python3.7/dist-packages (from daft) (56.1.0)\n",
            "Requirement already satisfied, skipping upgrade: matplotlib in /usr/local/lib/python3.7/dist-packages (from daft) (3.2.2)\n",
            "Requirement already satisfied, skipping upgrade: pyparsing!=2.0.4,!=2.1.2,!=2.1.6,>=2.0.1 in /usr/local/lib/python3.7/dist-packages (from matplotlib->daft) (2.4.7)\n",
            "Requirement already satisfied, skipping upgrade: cycler>=0.10 in /usr/local/lib/python3.7/dist-packages (from matplotlib->daft) (0.10.0)\n",
            "Requirement already satisfied, skipping upgrade: kiwisolver>=1.0.1 in /usr/local/lib/python3.7/dist-packages (from matplotlib->daft) (1.3.1)\n",
            "Requirement already satisfied, skipping upgrade: python-dateutil>=2.1 in /usr/local/lib/python3.7/dist-packages (from matplotlib->daft) (2.8.1)\n",
            "Requirement already satisfied, skipping upgrade: six in /usr/local/lib/python3.7/dist-packages (from cycler>=0.10->matplotlib->daft) (1.15.0)\n",
            "Installing collected packages: daft\n",
            "  Found existing installation: daft 0.0.4\n",
            "    Uninstalling daft-0.0.4:\n",
            "      Successfully uninstalled daft-0.0.4\n",
            "Successfully installed daft-0.1.2\n"
          ],
          "name": "stdout"
        }
      ]
    },
    {
      "cell_type": "code",
      "metadata": {
        "colab": {
          "base_uri": "https://localhost:8080/"
        },
        "id": "HxnMvcA72EPS",
        "outputId": "efadf68c-0e6e-41de-813c-a9839881823f"
      },
      "source": [
        "import numpy as np\n",
        "np.set_printoptions(precision=3)\n",
        "import matplotlib.pyplot as plt\n",
        "import math\n",
        "import os\n",
        "import warnings\n",
        "import pandas as pd\n",
        "\n",
        "import jax\n",
        "print(\"jax version {}\".format(jax.__version__))\n",
        "print(\"jax backend {}\".format(jax.lib.xla_bridge.get_backend().platform))\n",
        "\n",
        "import jax.numpy as jnp\n",
        "from jax import random, vmap\n",
        "from jax.scipy.special import expit\n",
        "\n",
        "rng_key = random.PRNGKey(0)\n",
        "rng_key, rng_key_ = random.split(rng_key)\n",
        "\n",
        "import numpyro\n",
        "import numpyro.distributions as dist\n",
        "from numpyro.distributions import constraints\n",
        "from numpyro.distributions.transforms import AffineTransform\n",
        "from numpyro.diagnostics import hpdi, print_summary\n",
        "from numpyro.infer import Predictive\n",
        "from numpyro.infer import MCMC, NUTS\n",
        "from numpyro.infer import SVI, Trace_ELBO, init_to_value\n",
        "from numpyro.infer.autoguide import AutoLaplaceApproximation\n",
        "import numpyro.optim as optim\n",
        "\n",
        "\n",
        "import arviz as az\n",
        "\n",
        "import daft\n",
        "from causalgraphicalmodels import CausalGraphicalModel\n",
        "\n",
        "from sklearn.preprocessing import StandardScaler"
      ],
      "execution_count": null,
      "outputs": [
        {
          "output_type": "stream",
          "text": [
            "jax version 0.2.12\n",
            "jax backend cpu\n"
          ],
          "name": "stdout"
        }
      ]
    },
    {
      "cell_type": "code",
      "metadata": {
        "colab": {
          "base_uri": "https://localhost:8080/"
        },
        "id": "oKZlhvtKcDVs",
        "outputId": "24e0d5c9-72a1-4a6b-d6ed-6b70172382c0"
      },
      "source": [
        "n = jax.local_device_count()\n",
        "print(n)"
      ],
      "execution_count": null,
      "outputs": [
        {
          "output_type": "stream",
          "text": [
            "1\n"
          ],
          "name": "stdout"
        }
      ]
    },
    {
      "cell_type": "markdown",
      "metadata": {
        "id": "JK9wTe4b2MBq"
      },
      "source": [
        "# Data"
      ]
    },
    {
      "cell_type": "code",
      "metadata": {
        "colab": {
          "base_uri": "https://localhost:8080/",
          "height": 392
        },
        "id": "DmV4wYiI2F1c",
        "outputId": "a71450bb-8f47-4931-ba70-8caab0fd9e38"
      },
      "source": [
        "\n",
        "url = 'https://raw.githubusercontent.com/fehiepsi/rethinking-numpyro/master/data/UCBadmit.csv'\n",
        "UCBadmit = pd.read_csv(url, sep=\";\")\n",
        "d = UCBadmit\n",
        "display(d)\n"
      ],
      "execution_count": null,
      "outputs": [
        {
          "output_type": "display_data",
          "data": {
            "text/html": [
              "<div>\n",
              "<style scoped>\n",
              "    .dataframe tbody tr th:only-of-type {\n",
              "        vertical-align: middle;\n",
              "    }\n",
              "\n",
              "    .dataframe tbody tr th {\n",
              "        vertical-align: top;\n",
              "    }\n",
              "\n",
              "    .dataframe thead th {\n",
              "        text-align: right;\n",
              "    }\n",
              "</style>\n",
              "<table border=\"1\" class=\"dataframe\">\n",
              "  <thead>\n",
              "    <tr style=\"text-align: right;\">\n",
              "      <th></th>\n",
              "      <th>dept</th>\n",
              "      <th>applicant.gender</th>\n",
              "      <th>admit</th>\n",
              "      <th>reject</th>\n",
              "      <th>applications</th>\n",
              "    </tr>\n",
              "  </thead>\n",
              "  <tbody>\n",
              "    <tr>\n",
              "      <th>1</th>\n",
              "      <td>A</td>\n",
              "      <td>male</td>\n",
              "      <td>512</td>\n",
              "      <td>313</td>\n",
              "      <td>825</td>\n",
              "    </tr>\n",
              "    <tr>\n",
              "      <th>2</th>\n",
              "      <td>A</td>\n",
              "      <td>female</td>\n",
              "      <td>89</td>\n",
              "      <td>19</td>\n",
              "      <td>108</td>\n",
              "    </tr>\n",
              "    <tr>\n",
              "      <th>3</th>\n",
              "      <td>B</td>\n",
              "      <td>male</td>\n",
              "      <td>353</td>\n",
              "      <td>207</td>\n",
              "      <td>560</td>\n",
              "    </tr>\n",
              "    <tr>\n",
              "      <th>4</th>\n",
              "      <td>B</td>\n",
              "      <td>female</td>\n",
              "      <td>17</td>\n",
              "      <td>8</td>\n",
              "      <td>25</td>\n",
              "    </tr>\n",
              "    <tr>\n",
              "      <th>5</th>\n",
              "      <td>C</td>\n",
              "      <td>male</td>\n",
              "      <td>120</td>\n",
              "      <td>205</td>\n",
              "      <td>325</td>\n",
              "    </tr>\n",
              "    <tr>\n",
              "      <th>6</th>\n",
              "      <td>C</td>\n",
              "      <td>female</td>\n",
              "      <td>202</td>\n",
              "      <td>391</td>\n",
              "      <td>593</td>\n",
              "    </tr>\n",
              "    <tr>\n",
              "      <th>7</th>\n",
              "      <td>D</td>\n",
              "      <td>male</td>\n",
              "      <td>138</td>\n",
              "      <td>279</td>\n",
              "      <td>417</td>\n",
              "    </tr>\n",
              "    <tr>\n",
              "      <th>8</th>\n",
              "      <td>D</td>\n",
              "      <td>female</td>\n",
              "      <td>131</td>\n",
              "      <td>244</td>\n",
              "      <td>375</td>\n",
              "    </tr>\n",
              "    <tr>\n",
              "      <th>9</th>\n",
              "      <td>E</td>\n",
              "      <td>male</td>\n",
              "      <td>53</td>\n",
              "      <td>138</td>\n",
              "      <td>191</td>\n",
              "    </tr>\n",
              "    <tr>\n",
              "      <th>10</th>\n",
              "      <td>E</td>\n",
              "      <td>female</td>\n",
              "      <td>94</td>\n",
              "      <td>299</td>\n",
              "      <td>393</td>\n",
              "    </tr>\n",
              "    <tr>\n",
              "      <th>11</th>\n",
              "      <td>F</td>\n",
              "      <td>male</td>\n",
              "      <td>22</td>\n",
              "      <td>351</td>\n",
              "      <td>373</td>\n",
              "    </tr>\n",
              "    <tr>\n",
              "      <th>12</th>\n",
              "      <td>F</td>\n",
              "      <td>female</td>\n",
              "      <td>24</td>\n",
              "      <td>317</td>\n",
              "      <td>341</td>\n",
              "    </tr>\n",
              "  </tbody>\n",
              "</table>\n",
              "</div>"
            ],
            "text/plain": [
              "   dept applicant.gender  admit  reject  applications\n",
              "1     A             male    512     313           825\n",
              "2     A           female     89      19           108\n",
              "3     B             male    353     207           560\n",
              "4     B           female     17       8            25\n",
              "5     C             male    120     205           325\n",
              "6     C           female    202     391           593\n",
              "7     D             male    138     279           417\n",
              "8     D           female    131     244           375\n",
              "9     E             male     53     138           191\n",
              "10    E           female     94     299           393\n",
              "11    F             male     22     351           373\n",
              "12    F           female     24     317           341"
            ]
          },
          "metadata": {
            "tags": []
          }
        }
      ]
    },
    {
      "cell_type": "code",
      "metadata": {
        "colab": {
          "base_uri": "https://localhost:8080/"
        },
        "id": "WNXUcstfgMb7",
        "outputId": "997f273b-2704-41a3-ce9c-c43b2854ac0a"
      },
      "source": [
        "print(d.to_latex(index=False))"
      ],
      "execution_count": null,
      "outputs": [
        {
          "output_type": "stream",
          "text": [
            "\\begin{tabular}{llrrr}\n",
            "\\toprule\n",
            "dept & applicant.gender &  admit &  reject &  applications \\\\\n",
            "\\midrule\n",
            "   A &             male &    512 &     313 &           825 \\\\\n",
            "   A &           female &     89 &      19 &           108 \\\\\n",
            "   B &             male &    353 &     207 &           560 \\\\\n",
            "   B &           female &     17 &       8 &            25 \\\\\n",
            "   C &             male &    120 &     205 &           325 \\\\\n",
            "   C &           female &    202 &     391 &           593 \\\\\n",
            "   D &             male &    138 &     279 &           417 \\\\\n",
            "   D &           female &    131 &     244 &           375 \\\\\n",
            "   E &             male &     53 &     138 &           191 \\\\\n",
            "   E &           female &     94 &     299 &           393 \\\\\n",
            "   F &             male &     22 &     351 &           373 \\\\\n",
            "   F &           female &     24 &     317 &           341 \\\\\n",
            "\\bottomrule\n",
            "\\end{tabular}\n",
            "\n"
          ],
          "name": "stdout"
        }
      ]
    },
    {
      "cell_type": "code",
      "metadata": {
        "colab": {
          "base_uri": "https://localhost:8080/"
        },
        "id": "4s0itZ74AVD8",
        "outputId": "2d62b7f2-9760-4029-f423-4b572bd5adaf"
      },
      "source": [
        "\n",
        "dat_list = dict(\n",
        "    admit=d.admit.values,\n",
        "    applications=d.applications.values,\n",
        "    gid=(d[\"applicant.gender\"] != \"male\").astype(int).values,\n",
        ")\n",
        "\n",
        "\n",
        "print(dat_list)"
      ],
      "execution_count": null,
      "outputs": [
        {
          "output_type": "stream",
          "text": [
            "{'admit': array([512,  89, 353,  17, 120, 202, 138, 131,  53,  94,  22,  24]), 'applications': array([825, 108, 560,  25, 325, 593, 417, 375, 191, 393, 373, 341]), 'gid': array([0, 1, 0, 1, 0, 1, 0, 1, 0, 1, 0, 1])}\n"
          ],
          "name": "stdout"
        }
      ]
    },
    {
      "cell_type": "code",
      "metadata": {
        "colab": {
          "base_uri": "https://localhost:8080/"
        },
        "id": "awteD7M-Asri",
        "outputId": "cf7a274c-91dc-4ab0-d178-0f9d9a40a733"
      },
      "source": [
        "# extract number of applicaitons for dept 2 (C)\n",
        "d.applications[dat_list[\"dept_id\"].copy() == 2]\n",
        "               "
      ],
      "execution_count": null,
      "outputs": [
        {
          "output_type": "execute_result",
          "data": {
            "text/plain": [
              "5    325\n",
              "6    593\n",
              "Name: applications, dtype: int64"
            ]
          },
          "metadata": {
            "tags": []
          },
          "execution_count": 17
        }
      ]
    },
    {
      "cell_type": "code",
      "metadata": {
        "colab": {
          "base_uri": "https://localhost:8080/"
        },
        "id": "tso5iKGVZ1A3",
        "outputId": "fd440e81-46bf-4606-d3de-fcb9928c2aa6"
      },
      "source": [
        "d.applications[dat_list[\"dept_id\"].copy() == 2].sum()"
      ],
      "execution_count": null,
      "outputs": [
        {
          "output_type": "execute_result",
          "data": {
            "text/plain": [
              "918"
            ]
          },
          "metadata": {
            "tags": []
          },
          "execution_count": 18
        }
      ]
    },
    {
      "cell_type": "code",
      "metadata": {
        "colab": {
          "base_uri": "https://localhost:8080/",
          "height": 251
        },
        "id": "rjKvZC7w9F_t",
        "outputId": "c813ce36-d493-4413-dd38-44dbde0dc145"
      },
      "source": [
        "# application rate per department\n",
        "pg = jnp.stack(\n",
        "    list(\n",
        "        map(\n",
        "            lambda k: jnp.divide(\n",
        "                d.applications[dat_list[\"dept_id\"].copy() == k].values,\n",
        "                d.applications[dat_list[\"dept_id\"].copy() == k].sum(),\n",
        "            ),\n",
        "            range(6),\n",
        "        )\n",
        "    ),\n",
        "    axis=0,\n",
        ").T\n",
        "pg = pd.DataFrame(pg, index=[\"male\", \"female\"], columns=d.dept.unique())\n",
        "display(pg.round(2))\n",
        "print(pg.to_latex())"
      ],
      "execution_count": null,
      "outputs": [
        {
          "output_type": "display_data",
          "data": {
            "text/html": [
              "<div>\n",
              "<style scoped>\n",
              "    .dataframe tbody tr th:only-of-type {\n",
              "        vertical-align: middle;\n",
              "    }\n",
              "\n",
              "    .dataframe tbody tr th {\n",
              "        vertical-align: top;\n",
              "    }\n",
              "\n",
              "    .dataframe thead th {\n",
              "        text-align: right;\n",
              "    }\n",
              "</style>\n",
              "<table border=\"1\" class=\"dataframe\">\n",
              "  <thead>\n",
              "    <tr style=\"text-align: right;\">\n",
              "      <th></th>\n",
              "      <th>A</th>\n",
              "      <th>B</th>\n",
              "      <th>C</th>\n",
              "      <th>D</th>\n",
              "      <th>E</th>\n",
              "      <th>F</th>\n",
              "    </tr>\n",
              "  </thead>\n",
              "  <tbody>\n",
              "    <tr>\n",
              "      <th>male</th>\n",
              "      <td>0.88</td>\n",
              "      <td>0.96</td>\n",
              "      <td>0.35</td>\n",
              "      <td>0.53</td>\n",
              "      <td>0.33</td>\n",
              "      <td>0.52</td>\n",
              "    </tr>\n",
              "    <tr>\n",
              "      <th>female</th>\n",
              "      <td>0.12</td>\n",
              "      <td>0.04</td>\n",
              "      <td>0.65</td>\n",
              "      <td>0.47</td>\n",
              "      <td>0.67</td>\n",
              "      <td>0.48</td>\n",
              "    </tr>\n",
              "  </tbody>\n",
              "</table>\n",
              "</div>"
            ],
            "text/plain": [
              "           A     B     C     D     E     F\n",
              "male    0.88  0.96  0.35  0.53  0.33  0.52\n",
              "female  0.12  0.04  0.65  0.47  0.67  0.48"
            ]
          },
          "metadata": {
            "tags": []
          }
        },
        {
          "output_type": "stream",
          "text": [
            "\\begin{tabular}{lrrrrrr}\n",
            "\\toprule\n",
            "{} &         A &         B &        C &         D &         E &         F \\\\\n",
            "\\midrule\n",
            "male   &  0.884244 &  0.957265 &  0.35403 &  0.526515 &  0.327055 &  0.522409 \\\\\n",
            "female &  0.115756 &  0.042735 &  0.64597 &  0.473485 &  0.672945 &  0.477591 \\\\\n",
            "\\bottomrule\n",
            "\\end{tabular}\n",
            "\n"
          ],
          "name": "stdout"
        }
      ]
    },
    {
      "cell_type": "code",
      "metadata": {
        "colab": {
          "base_uri": "https://localhost:8080/",
          "height": 251
        },
        "id": "OLoWrfLyaZrw",
        "outputId": "ebc4f282-6964-4808-c387-6c4d88c3ffab"
      },
      "source": [
        "# admisions rate per department\n",
        "pg = jnp.stack(\n",
        "    list(\n",
        "        map(\n",
        "            lambda k: jnp.divide(\n",
        "                d.admit[dat_list[\"dept_id\"].copy() == k].values,\n",
        "                d.applications[dat_list[\"dept_id\"].copy() == k].values,\n",
        "            ),\n",
        "            range(6),\n",
        "        )\n",
        "    ),\n",
        "    axis=0,\n",
        ").T\n",
        "pg = pd.DataFrame(pg, index=[\"male\", \"female\"], columns=d.dept.unique())\n",
        "display(pg.round(2))\n",
        "print(pg.to_latex())"
      ],
      "execution_count": null,
      "outputs": [
        {
          "output_type": "display_data",
          "data": {
            "text/html": [
              "<div>\n",
              "<style scoped>\n",
              "    .dataframe tbody tr th:only-of-type {\n",
              "        vertical-align: middle;\n",
              "    }\n",
              "\n",
              "    .dataframe tbody tr th {\n",
              "        vertical-align: top;\n",
              "    }\n",
              "\n",
              "    .dataframe thead th {\n",
              "        text-align: right;\n",
              "    }\n",
              "</style>\n",
              "<table border=\"1\" class=\"dataframe\">\n",
              "  <thead>\n",
              "    <tr style=\"text-align: right;\">\n",
              "      <th></th>\n",
              "      <th>A</th>\n",
              "      <th>B</th>\n",
              "      <th>C</th>\n",
              "      <th>D</th>\n",
              "      <th>E</th>\n",
              "      <th>F</th>\n",
              "    </tr>\n",
              "  </thead>\n",
              "  <tbody>\n",
              "    <tr>\n",
              "      <th>male</th>\n",
              "      <td>0.62</td>\n",
              "      <td>0.63</td>\n",
              "      <td>0.37</td>\n",
              "      <td>0.33</td>\n",
              "      <td>0.28</td>\n",
              "      <td>0.06</td>\n",
              "    </tr>\n",
              "    <tr>\n",
              "      <th>female</th>\n",
              "      <td>0.82</td>\n",
              "      <td>0.68</td>\n",
              "      <td>0.34</td>\n",
              "      <td>0.35</td>\n",
              "      <td>0.24</td>\n",
              "      <td>0.07</td>\n",
              "    </tr>\n",
              "  </tbody>\n",
              "</table>\n",
              "</div>"
            ],
            "text/plain": [
              "           A     B     C     D     E     F\n",
              "male    0.62  0.63  0.37  0.33  0.28  0.06\n",
              "female  0.82  0.68  0.34  0.35  0.24  0.07"
            ]
          },
          "metadata": {
            "tags": []
          }
        },
        {
          "output_type": "stream",
          "text": [
            "\\begin{tabular}{lrrrrrr}\n",
            "\\toprule\n",
            "{} &         A &         B &         C &         D &         E &         F \\\\\n",
            "\\midrule\n",
            "male   &  0.620606 &  0.630357 &  0.369231 &  0.330935 &  0.277487 &  0.058981 \\\\\n",
            "female &  0.824074 &  0.680000 &  0.340641 &  0.349333 &  0.239186 &  0.070381 \\\\\n",
            "\\bottomrule\n",
            "\\end{tabular}\n",
            "\n"
          ],
          "name": "stdout"
        }
      ]
    },
    {
      "cell_type": "markdown",
      "metadata": {
        "id": "lIH__8Bz2Vhf"
      },
      "source": [
        "# Model 1"
      ]
    },
    {
      "cell_type": "code",
      "metadata": {
        "colab": {
          "base_uri": "https://localhost:8080/"
        },
        "id": "DCchW_SRb2tJ",
        "outputId": "af8d9a1b-d3bb-4f6c-eb85-516a5838b140"
      },
      "source": [
        "dat_list = dict(\n",
        "    admit=d.admit.values,\n",
        "    applications=d.applications.values,\n",
        "    gid=(d[\"applicant.gender\"] != \"male\").astype(int).values,\n",
        ")\n",
        "\n",
        "\n",
        "def model(gid, applications, admit=None):\n",
        "    a = numpyro.sample(\"a\", dist.Normal(0, 1.5).expand([2]))\n",
        "    logit_p = a[gid]\n",
        "    numpyro.sample(\"admit\", dist.Binomial(applications, logits=logit_p), obs=admit)\n",
        "\n",
        "\n",
        "m11_7 = MCMC(NUTS(model), 500, 500, num_chains=4)\n",
        "m11_7.run(random.PRNGKey(0), **dat_list)\n",
        "m11_7.print_summary(0.89)"
      ],
      "execution_count": null,
      "outputs": [
        {
          "output_type": "stream",
          "text": [
            "/usr/local/lib/python3.7/dist-packages/numpyro/infer/mcmc.py:269: UserWarning: There are not enough devices to run parallel chains: expected 4 but got 1. Chains will be drawn sequentially. If you are running MCMC in CPU, consider using `numpyro.set_host_device_count(4)` at the beginning of your program. You can double-check how many devices are available in your system using `jax.local_device_count()`.\n",
            "  self.num_chains, local_device_count(), self.num_chains\n",
            "sample: 100%|██████████| 1000/1000 [00:03<00:00, 256.31it/s, 1 steps of size 9.77e-01. acc. prob=0.90]\n",
            "sample: 100%|██████████| 1000/1000 [00:01<00:00, 812.37it/s, 3 steps of size 9.47e-01. acc. prob=0.90]\n",
            "sample: 100%|██████████| 1000/1000 [00:01<00:00, 867.10it/s, 3 steps of size 7.58e-01. acc. prob=0.93]\n",
            "sample: 100%|██████████| 1000/1000 [00:01<00:00, 816.41it/s, 3 steps of size 8.87e-01. acc. prob=0.91]\n"
          ],
          "name": "stderr"
        },
        {
          "output_type": "stream",
          "text": [
            "\n",
            "                mean       std    median      5.5%     94.5%     n_eff     r_hat\n",
            "      a[0]     -0.22      0.04     -0.22     -0.29     -0.16   2008.99      1.00\n",
            "      a[1]     -0.83      0.05     -0.83     -0.91     -0.75   1810.07      1.00\n",
            "\n",
            "Number of divergences: 0\n"
          ],
          "name": "stdout"
        }
      ]
    },
    {
      "cell_type": "code",
      "metadata": {
        "colab": {
          "base_uri": "https://localhost:8080/"
        },
        "id": "YrkAgHHH2zvJ",
        "outputId": "5f9960cf-024c-4a5c-8510-54b062ef7ee3"
      },
      "source": [
        "post = m11_7.get_samples()\n",
        "diff_a = post[\"a\"][:, 0] - post[\"a\"][:, 1]\n",
        "diff_p = expit(post[\"a\"][:, 0]) - expit(post[\"a\"][:, 1])\n",
        "print_summary({\"diff_a\": diff_a, \"diff_p\": diff_p}, 0.89, False)"
      ],
      "execution_count": null,
      "outputs": [
        {
          "output_type": "stream",
          "text": [
            "\n",
            "                mean       std    median      5.5%     94.5%     n_eff     r_hat\n",
            "    diff_a      0.61      0.06      0.61      0.50      0.71   1926.84      1.00\n",
            "    diff_p      0.14      0.01      0.14      0.12      0.16   1948.02      1.00\n",
            "\n"
          ],
          "name": "stdout"
        }
      ]
    },
    {
      "cell_type": "markdown",
      "metadata": {
        "id": "aIEJ5zrH288g"
      },
      "source": [
        "# Posterior predictive check"
      ]
    },
    {
      "cell_type": "code",
      "metadata": {
        "id": "jY1URpYA4_TJ"
      },
      "source": [
        "def ppc(mcmc_run, model_args):\n",
        "  post = mcmc_run.get_samples()\n",
        "  pred = Predictive(mcmc_run.sampler.model, post)(random.PRNGKey(2), **model_args)\n",
        "  admit_pred = pred[\"admit\"]\n",
        "  admit_rate = admit_pred / d.applications.values\n",
        "  plt.errorbar(\n",
        "      range(1, 13),\n",
        "      jnp.mean(admit_rate, 0),\n",
        "      jnp.std(admit_rate, 0) / 2,\n",
        "      fmt=\"o\",\n",
        "      c=\"k\",\n",
        "      mfc=\"none\",\n",
        "      ms=7,\n",
        "      elinewidth=1,\n",
        "  )\n",
        "  plt.plot(range(1, 13), jnp.percentile(admit_rate, 5.5, 0), \"k+\")\n",
        "  plt.plot(range(1, 13), jnp.percentile(admit_rate, 94.5, 0), \"k+\")\n",
        "  # draw lines connecting points from same dept\n",
        "  for i in range(1, 7):\n",
        "      x = 1 + 2 * (i - 1) # 1,3,5,7,9,11\n",
        "      y1 = d.admit.iloc[x - 1] / d.applications.iloc[x - 1] # male\n",
        "      y2 = d.admit.iloc[x] / d.applications.iloc[x] # female\n",
        "      plt.plot((x, x + 1), (y1, y2), \"bo-\")\n",
        "      plt.annotate(\n",
        "          d.dept.iloc[x], (x + 0.5, (y1 + y2) / 2 + 0.05), ha=\"center\", color=\"royalblue\"\n",
        "      )\n",
        "  plt.gca().set(ylim=(0, 1), xticks=range(1, 13), ylabel=\"admit\", xlabel=\"case\")"
      ],
      "execution_count": null,
      "outputs": []
    },
    {
      "cell_type": "code",
      "metadata": {
        "colab": {
          "base_uri": "https://localhost:8080/",
          "height": 282
        },
        "id": "FyrzH_Yi30N2",
        "outputId": "595e2020-5f53-4e22-dc05-2153795a6fee"
      },
      "source": [
        "ppc(m11_7, {'gid': dat_list[\"gid\"], 'applications': dat_list[\"applications\"]})\n",
        "plt.savefig('admissions_ppc.pdf', dpi=300)\n",
        "plt.show()"
      ],
      "execution_count": null,
      "outputs": [
        {
          "output_type": "display_data",
          "data": {
            "image/png": "[encoded data removed]",
            "text/plain": [
              "<Figure size 432x288 with 1 Axes>"
            ]
          },
          "metadata": {
            "tags": [],
            "needs_background": "light"
          }
        }
      ]
    },
    {
      "cell_type": "markdown",
      "metadata": {
        "id": "KlJGu63T4Jew"
      },
      "source": [
        "# Model 2 (departmental-specific offset)"
      ]
    },
    {
      "cell_type": "code",
      "metadata": {
        "colab": {
          "base_uri": "https://localhost:8080/"
        },
        "id": "EgepyNLf4E9H",
        "outputId": "9fd04877-613f-45f9-eed1-c1d209b7450b"
      },
      "source": [
        "\n",
        "\n",
        "dat_list[\"dept_id\"] = jnp.repeat(jnp.arange(6), 2)\n",
        "\n",
        "def model(gid, dept_id, applications, admit=None):\n",
        "    a = numpyro.sample(\"a\", dist.Normal(0, 1.5).expand([2]))\n",
        "    delta = numpyro.sample(\"delta\", dist.Normal(0, 1.5).expand([6]))\n",
        "    logit_p = a[gid] + delta[dept_id]\n",
        "    numpyro.sample(\"admit\", dist.Binomial(applications, logits=logit_p), obs=admit)\n",
        "\n",
        "\n",
        "m11_8 = MCMC(NUTS(model), 2000, 2000, num_chains=4)\n",
        "m11_8.run(random.PRNGKey(0), **dat_list)\n",
        "m11_8.print_summary(0.89)"
      ],
      "execution_count": null,
      "outputs": [
        {
          "output_type": "stream",
          "text": [
            "/usr/local/lib/python3.7/dist-packages/numpyro/infer/mcmc.py:269: UserWarning: There are not enough devices to run parallel chains: expected 4 but got 1. Chains will be drawn sequentially. If you are running MCMC in CPU, consider using `numpyro.set_host_device_count(4)` at the beginning of your program. You can double-check how many devices are available in your system using `jax.local_device_count()`.\n",
            "  self.num_chains, local_device_count(), self.num_chains\n",
            "sample: 100%|██████████| 4000/4000 [00:08<00:00, 498.31it/s, 15 steps of size 7.18e-02. acc. prob=0.91]\n",
            "sample: 100%|██████████| 4000/4000 [00:05<00:00, 749.91it/s, 15 steps of size 7.13e-02. acc. prob=0.92]\n",
            "sample: 100%|██████████| 4000/4000 [00:05<00:00, 764.68it/s, 7 steps of size 6.88e-02. acc. prob=0.91] \n",
            "sample: 100%|██████████| 4000/4000 [00:05<00:00, 743.37it/s, 15 steps of size 6.43e-02. acc. prob=0.92]\n"
          ],
          "name": "stderr"
        },
        {
          "output_type": "stream",
          "text": [
            "\n",
            "                mean       std    median      5.5%     94.5%     n_eff     r_hat\n",
            "      a[0]     -0.54      0.55     -0.54     -1.38      0.35    581.04      1.01\n",
            "      a[1]     -0.44      0.55     -0.44     -1.31      0.42    579.82      1.01\n",
            "  delta[0]      1.12      0.55      1.12      0.25      1.99    584.56      1.01\n",
            "  delta[1]      1.08      0.55      1.07      0.20      1.95    589.21      1.01\n",
            "  delta[2]     -0.14      0.55     -0.14     -1.02      0.73    583.25      1.01\n",
            "  delta[3]     -0.17      0.55     -0.17     -1.03      0.72    588.07      1.01\n",
            "  delta[4]     -0.62      0.55     -0.62     -1.50      0.25    584.70      1.01\n",
            "  delta[5]     -2.17      0.57     -2.17     -3.12     -1.31    602.85      1.00\n",
            "\n",
            "Number of divergences: 0\n"
          ],
          "name": "stdout"
        }
      ]
    },
    {
      "cell_type": "code",
      "metadata": {
        "colab": {
          "base_uri": "https://localhost:8080/"
        },
        "id": "8CYrU2uN4nli",
        "outputId": "4c0a296b-1f1e-4dda-ec60-23955cac73dc"
      },
      "source": [
        "post = m11_8.get_samples()\n",
        "diff_a = post[\"a\"][:, 0] - post[\"a\"][:, 1]\n",
        "diff_p = expit(post[\"a\"][:, 0]) - expit(post[\"a\"][:, 1])\n",
        "print_summary({\"diff_a\": diff_a, \"diff_p\": diff_p}, 0.89, False)"
      ],
      "execution_count": null,
      "outputs": [
        {
          "output_type": "stream",
          "text": [
            "\n",
            "                mean       std    median      5.5%     94.5%     n_eff     r_hat\n",
            "    diff_a     -0.10      0.08     -0.10     -0.22      0.03   9440.98      1.00\n",
            "    diff_p     -0.02      0.02     -0.02     -0.05      0.01   6953.82      1.00\n",
            "\n"
          ],
          "name": "stdout"
        }
      ]
    },
    {
      "cell_type": "code",
      "metadata": {
        "colab": {
          "base_uri": "https://localhost:8080/",
          "height": 282
        },
        "id": "BFXYpYYh4gZL",
        "outputId": "8cdb29b1-f55d-4836-e1e8-adffb3220f8d"
      },
      "source": [
        "data_dict = {'gid': dat_list[\"gid\"],\n",
        "             'dept_id': dat_list[\"dept_id\"],\n",
        "             'applications': dat_list[\"applications\"]}\n",
        "ppc(m11_8, data_dict)\n",
        "#ppc(m11_8, dat_list) # must exclude 'admit' for predictive distribution\n",
        "plt.savefig('admissions_ppc_per_dept.pdf', dpi=300)\n",
        "plt.show()"
      ],
      "execution_count": null,
      "outputs": [
        {
          "output_type": "display_data",
          "data": {
            "image/png": "[encoded data removed]",
            "text/plain": [
              "<Figure size 432x288 with 1 Axes>"
            ]
          },
          "metadata": {
            "tags": [],
            "needs_background": "light"
          }
        }
      ]
    },
    {
      "cell_type": "code",
      "metadata": {
        "colab": {
          "base_uri": "https://localhost:8080/"
        },
        "id": "yRun70NFc6_7",
        "outputId": "813eedfe-e432-4522-90be-df65cb569bef"
      },
      "source": [
        "dat_list"
      ],
      "execution_count": null,
      "outputs": [
        {
          "output_type": "execute_result",
          "data": {
            "text/plain": [
              "{'admit': array([512,  89, 353,  17, 120, 202, 138, 131,  53,  94,  22,  24]),\n",
              " 'applications': array([825, 108, 560,  25, 325, 593, 417, 375, 191, 393, 373, 341]),\n",
              " 'dept_id': DeviceArray([0, 0, 1, 1, 2, 2, 3, 3, 4, 4, 5, 5], dtype=int32),\n",
              " 'gid': array([0, 1, 0, 1, 0, 1, 0, 1, 0, 1, 0, 1])}"
            ]
          },
          "metadata": {
            "tags": []
          },
          "execution_count": 39
        }
      ]
    },
    {
      "cell_type": "markdown",
      "metadata": {
        "id": "hVaUNn1mBt0F"
      },
      "source": [
        "# PGMs"
      ]
    },
    {
      "cell_type": "code",
      "metadata": {
        "colab": {
          "base_uri": "https://localhost:8080/",
          "height": 288
        },
        "id": "EOYJu0IvYyP9",
        "outputId": "56004afa-e301-485c-8b1e-785a516f1873"
      },
      "source": [
        "\n",
        "# p344\n",
        "dag = CausalGraphicalModel(\n",
        "    nodes=[\"G\", \"D\", \"A\"], edges=[(\"G\", \"D\"), (\"G\", \"A\"), (\"D\", \"A\")]\n",
        ")\n",
        "out = dag.draw()\n",
        "display(out)  \n",
        "out.render(filename='admissions_dag', format='pdf')"
      ],
      "execution_count": null,
      "outputs": [
        {
          "output_type": "display_data",
          "data": {
            "text/plain": [
              "<graphviz.dot.Digraph at 0x7fc7f358fdd0>"
            ],
            "image/svg+xml": "<?xml version=\"1.0\" encoding=\"UTF-8\" standalone=\"no\"?>\n<!DOCTYPE svg PUBLIC \"-//W3C//DTD SVG 1.1//EN\"\n \"http://www.w3.org/Graphics/SVG/1.1/DTD/svg11.dtd\">\n<!-- Generated by graphviz version 2.40.1 (20161225.0304)\n -->\n<!-- Title: %3 Pages: 1 -->\n<svg width=\"90pt\" height=\"188pt\"\n viewBox=\"0.00 0.00 90.00 188.00\" xmlns=\"http://www.w3.org/2000/svg\" xmlns:xlink=\"http://www.w3.org/1999/xlink\">\n<g id=\"graph0\" class=\"graph\" transform=\"scale(1 1) rotate(0) translate(4 184)\">\n<title>%3</title>\n<polygon fill=\"#ffffff\" stroke=\"transparent\" points=\"-4,4 -4,-184 86,-184 86,4 -4,4\"/>\n<!-- A -->\n<g id=\"node1\" class=\"node\">\n<title>A</title>\n<ellipse fill=\"none\" stroke=\"#000000\" cx=\"27\" cy=\"-18\" rx=\"27\" ry=\"18\"/>\n<text text-anchor=\"middle\" x=\"27\" y=\"-14.3\" font-family=\"Times,serif\" font-size=\"14.00\" fill=\"#000000\">A</text>\n</g>\n<!-- G -->\n<g id=\"node2\" class=\"node\">\n<title>G</title>\n<ellipse fill=\"none\" stroke=\"#000000\" cx=\"27\" cy=\"-162\" rx=\"27\" ry=\"18\"/>\n<text text-anchor=\"middle\" x=\"27\" y=\"-158.3\" font-family=\"Times,serif\" font-size=\"14.00\" fill=\"#000000\">G</text>\n</g>\n<!-- G&#45;&gt;A -->\n<g id=\"edge2\" class=\"edge\">\n<title>G&#45;&gt;A</title>\n<path fill=\"none\" stroke=\"#000000\" d=\"M23.6685,-144.0736C21.8913,-133.5982 19.8913,-120.0982 19,-108 17.8244,-92.0432 17.8244,-87.9568 19,-72 19.6267,-63.4935 20.8015,-54.2939 22.0616,-45.9399\"/>\n<polygon fill=\"#000000\" stroke=\"#000000\" points=\"25.5398,-46.3546 23.6685,-35.9264 18.6282,-45.2455 25.5398,-46.3546\"/>\n</g>\n<!-- D -->\n<g id=\"node3\" class=\"node\">\n<title>D</title>\n<ellipse fill=\"none\" stroke=\"#000000\" cx=\"55\" cy=\"-90\" rx=\"27\" ry=\"18\"/>\n<text text-anchor=\"middle\" x=\"55\" y=\"-86.3\" font-family=\"Times,serif\" font-size=\"14.00\" fill=\"#000000\">D</text>\n</g>\n<!-- G&#45;&gt;D -->\n<g id=\"edge1\" class=\"edge\">\n<title>G&#45;&gt;D</title>\n<path fill=\"none\" stroke=\"#000000\" d=\"M33.778,-144.5708C36.9872,-136.3187 40.8935,-126.2738 44.4758,-117.0623\"/>\n<polygon fill=\"#000000\" stroke=\"#000000\" points=\"47.8248,-118.1069 48.1874,-107.5182 41.3008,-115.5697 47.8248,-118.1069\"/>\n</g>\n<!-- D&#45;&gt;A -->\n<g id=\"edge3\" class=\"edge\">\n<title>D&#45;&gt;A</title>\n<path fill=\"none\" stroke=\"#000000\" d=\"M48.222,-72.5708C45.0128,-64.3187 41.1065,-54.2738 37.5242,-45.0623\"/>\n<polygon fill=\"#000000\" stroke=\"#000000\" points=\"40.6992,-43.5697 33.8126,-35.5182 34.1752,-46.1069 40.6992,-43.5697\"/>\n</g>\n</g>\n</svg>\n"
          },
          "metadata": {
            "tags": []
          }
        },
        {
          "output_type": "execute_result",
          "data": {
            "application/vnd.google.colaboratory.intrinsic+json": {
              "type": "string"
            },
            "text/plain": [
              "'admissions_dag.pdf'"
            ]
          },
          "metadata": {
            "tags": []
          },
          "execution_count": 12
        }
      ]
    },
    {
      "cell_type": "code",
      "metadata": {
        "colab": {
          "base_uri": "https://localhost:8080/",
          "height": 288
        },
        "id": "fzcGU936ZIK2",
        "outputId": "d97808fd-6715-43c8-9930-3709f4c42b93"
      },
      "source": [
        "# p345\n",
        "dag = CausalGraphicalModel(\n",
        "    nodes=[\"G\", \"D\", \"A\"],\n",
        "    edges=[(\"G\", \"D\"), (\"G\", \"A\"), (\"D\", \"A\")],\n",
        "    latent_edges = [(\"D\", \"A\")]\n",
        ")\n",
        "out = dag.draw()\n",
        "display(out)  \n",
        "out.render(filename='admissions_dag_hidden', format='pdf')"
      ],
      "execution_count": null,
      "outputs": [
        {
          "output_type": "display_data",
          "data": {
            "text/plain": [
              "<graphviz.dot.Digraph at 0x7fc7f358ff10>"
            ],
            "image/svg+xml": "<?xml version=\"1.0\" encoding=\"UTF-8\" standalone=\"no\"?>\n<!DOCTYPE svg PUBLIC \"-//W3C//DTD SVG 1.1//EN\"\n \"http://www.w3.org/Graphics/SVG/1.1/DTD/svg11.dtd\">\n<!-- Generated by graphviz version 2.40.1 (20161225.0304)\n -->\n<!-- Title: %3 Pages: 1 -->\n<svg width=\"100pt\" height=\"188pt\"\n viewBox=\"0.00 0.00 100.50 188.00\" xmlns=\"http://www.w3.org/2000/svg\" xmlns:xlink=\"http://www.w3.org/1999/xlink\">\n<g id=\"graph0\" class=\"graph\" transform=\"scale(1 1) rotate(0) translate(4 184)\">\n<title>%3</title>\n<polygon fill=\"#ffffff\" stroke=\"transparent\" points=\"-4,4 -4,-184 96.497,-184 96.497,4 -4,4\"/>\n<!-- A -->\n<g id=\"node1\" class=\"node\">\n<title>A</title>\n<ellipse fill=\"none\" stroke=\"#000000\" cx=\"53\" cy=\"-18\" rx=\"27\" ry=\"18\"/>\n<text text-anchor=\"middle\" x=\"53\" y=\"-14.3\" font-family=\"Times,serif\" font-size=\"14.00\" fill=\"#000000\">A</text>\n</g>\n<!-- G -->\n<g id=\"node2\" class=\"node\">\n<title>G</title>\n<ellipse fill=\"none\" stroke=\"#000000\" cx=\"27\" cy=\"-162\" rx=\"27\" ry=\"18\"/>\n<text text-anchor=\"middle\" x=\"27\" y=\"-158.3\" font-family=\"Times,serif\" font-size=\"14.00\" fill=\"#000000\">G</text>\n</g>\n<!-- G&#45;&gt;A -->\n<g id=\"edge2\" class=\"edge\">\n<title>G&#45;&gt;A</title>\n<path fill=\"none\" stroke=\"#000000\" d=\"M20.9601,-144.3674C15.5846,-125.9414 9.6197,-96.3755 17,-72 20.2661,-61.2127 26.4764,-50.6108 32.8313,-41.6963\"/>\n<polygon fill=\"#000000\" stroke=\"#000000\" points=\"35.6285,-43.8001 38.8771,-33.7156 30.0487,-39.5732 35.6285,-43.8001\"/>\n</g>\n<!-- D -->\n<g id=\"node3\" class=\"node\">\n<title>D</title>\n<ellipse fill=\"none\" stroke=\"#000000\" cx=\"53\" cy=\"-90\" rx=\"27\" ry=\"18\"/>\n<text text-anchor=\"middle\" x=\"53\" y=\"-86.3\" font-family=\"Times,serif\" font-size=\"14.00\" fill=\"#000000\">D</text>\n</g>\n<!-- G&#45;&gt;D -->\n<g id=\"edge1\" class=\"edge\">\n<title>G&#45;&gt;D</title>\n<path fill=\"none\" stroke=\"#000000\" d=\"M33.427,-144.2022C36.3866,-136.0064 39.963,-126.1024 43.2447,-117.0145\"/>\n<polygon fill=\"#000000\" stroke=\"#000000\" points=\"46.5424,-118.1874 46.647,-107.593 39.9585,-115.8098 46.5424,-118.1874\"/>\n</g>\n<!-- D&#45;&gt;A -->\n<g id=\"edge3\" class=\"edge\">\n<title>D&#45;&gt;A</title>\n<path fill=\"none\" stroke=\"#000000\" d=\"M53,-71.8314C53,-64.131 53,-54.9743 53,-46.4166\"/>\n<polygon fill=\"#000000\" stroke=\"#000000\" points=\"56.5001,-46.4132 53,-36.4133 49.5001,-46.4133 56.5001,-46.4132\"/>\n</g>\n<!-- Unobserved_0 -->\n<g id=\"node4\" class=\"node\">\n<title>Unobserved_0</title>\n<ellipse fill=\"#000000\" stroke=\"#000000\" cx=\"78\" cy=\"-162\" rx=\"1.8\" ry=\"1.8\"/>\n</g>\n<!-- Unobserved_0&#45;&gt;A -->\n<g id=\"edge5\" class=\"edge\">\n<title>Unobserved_0&#45;&gt;A</title>\n<path fill=\"none\" stroke=\"#000000\" stroke-dasharray=\"5,2\" d=\"M78.7392,-160.2383C82.5497,-150.9033 99.4004,-106.3501 89,-72 85.7339,-61.2127 79.5236,-50.6108 73.1687,-41.6963\"/>\n<polygon fill=\"#000000\" stroke=\"#000000\" points=\"75.9513,-39.5732 67.1229,-33.7156 70.3715,-43.8001 75.9513,-39.5732\"/>\n</g>\n<!-- Unobserved_0&#45;&gt;D -->\n<g id=\"edge4\" class=\"edge\">\n<title>Unobserved_0&#45;&gt;D</title>\n<path fill=\"none\" stroke=\"#000000\" stroke-dasharray=\"5,2\" d=\"M77.382,-160.2202C75.3078,-154.2465 68.3908,-134.3255 62.4516,-117.2206\"/>\n<polygon fill=\"#000000\" stroke=\"#000000\" points=\"65.6982,-115.9003 59.1117,-107.6017 59.0855,-118.1965 65.6982,-115.9003\"/>\n</g>\n</g>\n</svg>\n"
          },
          "metadata": {
            "tags": []
          }
        },
        {
          "output_type": "execute_result",
          "data": {
            "application/vnd.google.colaboratory.intrinsic+json": {
              "type": "string"
            },
            "text/plain": [
              "'admissions_dag_hidden.pdf'"
            ]
          },
          "metadata": {
            "tags": []
          },
          "execution_count": 13
        }
      ]
    },
    {
      "cell_type": "markdown",
      "metadata": {
        "id": "dMRqbhs1q3Uy"
      },
      "source": [
        "# Causal inference with  the latent DAG\n",
        "\n",
        "This is based on sec 6.3 (collider bias) of the Rethinking book.\n",
        "Code is from [Du Phan](https://fehiepsi.github.io/rethinking-numpyro/06-the-haunted-dag-and-the-causal-terror.html), code snippet 6.25. We change the names to match our current example: P (parents) -> D (department), C (child) -> A (admit)."
      ]
    },
    {
      "cell_type": "markdown",
      "metadata": {
        "id": "P--fqICIuKH9"
      },
      "source": [
        "## Linear regression version"
      ]
    },
    {
      "cell_type": "code",
      "metadata": {
        "id": "Styoo0wXVIqv"
      },
      "source": [
        "N = 200  # number of samples\n",
        "b_GP = 1  # direct effect of G on P\n",
        "b_GC = 0  # direct effect of G on C\n",
        "b_PC = 1  # direct effect of P on C\n",
        "b_U = 2  # direct effect of U on P and C\n",
        "\n",
        "with numpyro.handlers.seed(rng_seed=1):\n",
        "    U = 2 * numpyro.sample(\"U\", dist.Bernoulli(0.5).expand([N])) - 1\n",
        "    G = numpyro.sample(\"G\", dist.Normal().expand([N]))\n",
        "    P = numpyro.sample(\"P\", dist.Normal(b_GP * G + b_U * U))\n",
        "    C = numpyro.sample(\"C\", dist.Normal(b_PC * P + b_GC * G + b_U * U))\n",
        "    df_gauss = pd.DataFrame({\"C\": C, \"P\": P, \"G\": G, \"U\": U})"
      ],
      "execution_count": null,
      "outputs": []
    },
    {
      "cell_type": "code",
      "metadata": {
        "colab": {
          "base_uri": "https://localhost:8080/"
        },
        "id": "17Tj_YW3uR8a",
        "outputId": "7b3b7578-9618-49ae-b62d-4a420c625c14"
      },
      "source": [
        "def model_linreg(P, G, C):\n",
        "    a = numpyro.sample(\"a\", dist.Normal(0, 1))\n",
        "    b_PC = numpyro.sample(\"b_PC\", dist.Normal(0, 1))\n",
        "    b_GC = numpyro.sample(\"b_GC\", dist.Normal(0, 1))\n",
        "    sigma = numpyro.sample(\"sigma\", dist.Exponential(1))\n",
        "    mu = a + b_PC * P + b_GC * G\n",
        "    numpyro.sample(\"C\", dist.Normal(mu, sigma), obs=C)\n",
        "\n",
        "data_gauss = {'P': df_gauss.P.values, 'G': df_gauss.G.values, 'C': df_gauss.C.values}\n",
        "\n",
        "m6_11 = AutoLaplaceApproximation(model_linreg)\n",
        "svi = SVI(model_linreg, m6_11, optim.Adam(0.3), Trace_ELBO(), **data_gauss)\n",
        "p6_11, losses = svi.run(random.PRNGKey(0), 1000)\n",
        "post = m6_11.sample_posterior(random.PRNGKey(1), p6_11, (1000,))\n",
        "print_summary(post, 0.89, False)\n",
        "\n",
        "mcmc_run = MCMC(NUTS(model_linreg), 200, 200, num_chains=4)\n",
        "mcmc_run.run(random.PRNGKey(0), **data)\n",
        "mcmc_run.print_summary(0.89)"
      ],
      "execution_count": null,
      "outputs": [
        {
          "output_type": "stream",
          "text": [
            "100%|██████████| 1000/1000 [00:01<00:00, 558.33it/s, init loss: 4805.8169, avg. loss [951-1000]: 355.4688]\n",
            "/usr/local/lib/python3.7/dist-packages/numpyro/infer/mcmc.py:269: UserWarning: There are not enough devices to run parallel chains: expected 4 but got 1. Chains will be drawn sequentially. If you are running MCMC in CPU, consider using `numpyro.set_host_device_count(4)` at the beginning of your program. You can double-check how many devices are available in your system using `jax.local_device_count()`.\n",
            "  self.num_chains, local_device_count(), self.num_chains\n",
            "  0%|          | 0/400 [00:00<?, ?it/s]"
          ],
          "name": "stderr"
        },
        {
          "output_type": "stream",
          "text": [
            "\n",
            "                mean       std    median      5.5%     94.5%     n_eff     r_hat\n",
            "         a     -0.08      0.10     -0.09     -0.24      0.06   1049.96      1.00\n",
            "      b_GC     -0.71      0.11     -0.71     -0.89     -0.55    813.76      1.00\n",
            "      b_PC      1.72      0.04      1.72      1.65      1.79    982.64      1.00\n",
            "     sigma      1.39      0.07      1.39      1.28      1.49    968.54      1.00\n",
            "\n"
          ],
          "name": "stdout"
        },
        {
          "output_type": "stream",
          "text": [
            "sample: 100%|██████████| 400/400 [00:03<00:00, 100.68it/s, 7 steps of size 6.63e-01. acc. prob=0.94]\n",
            "sample: 100%|██████████| 400/400 [00:00<00:00, 663.14it/s, 3 steps of size 7.26e-01. acc. prob=0.90]\n",
            "sample: 100%|██████████| 400/400 [00:00<00:00, 668.47it/s, 3 steps of size 6.27e-01. acc. prob=0.89]\n",
            "sample: 100%|██████████| 400/400 [00:00<00:00, 685.82it/s, 7 steps of size 7.86e-01. acc. prob=0.91]\n"
          ],
          "name": "stderr"
        },
        {
          "output_type": "stream",
          "text": [
            "\n",
            "                mean       std    median      5.5%     94.5%     n_eff     r_hat\n",
            "         a     -0.08      0.10     -0.08     -0.24      0.07    913.17      1.00\n",
            "      b_GC     -0.71      0.10     -0.71     -0.87     -0.55    664.31      1.00\n",
            "      b_PC      1.72      0.04      1.72      1.65      1.79    707.30      1.00\n",
            "     sigma      1.40      0.07      1.40      1.30      1.51    799.91      1.00\n",
            "\n",
            "Number of divergences: 0\n"
          ],
          "name": "stdout"
        }
      ]
    },
    {
      "cell_type": "code",
      "metadata": {
        "colab": {
          "base_uri": "https://localhost:8080/"
        },
        "id": "1WJ0MO-yun23",
        "outputId": "a94bd75c-8986-46d6-fc27-c73d394e0cb9"
      },
      "source": [
        "def model_linreg_hidden(P, G, U, C):\n",
        "    a = numpyro.sample(\"a\", dist.Normal(0, 1))\n",
        "    b_PC = numpyro.sample(\"b_PC\", dist.Normal(0, 1))\n",
        "    b_GC = numpyro.sample(\"b_GC\", dist.Normal(0, 1))\n",
        "    b_U = numpyro.sample(\"U\", dist.Normal(0, 1))\n",
        "    sigma = numpyro.sample(\"sigma\", dist.Exponential(1))\n",
        "    mu = a + b_PC * P + b_GC * G + b_U * U\n",
        "    numpyro.sample(\"C\", dist.Normal(mu, sigma), obs=C)\n",
        "\n",
        "\n",
        "m6_12 = AutoLaplaceApproximation(model_linreg_hidden)\n",
        "svi = SVI(\n",
        "    model_linreg_hidden,\n",
        "    m6_12,\n",
        "    optim.Adam(1),\n",
        "    Trace_ELBO(),\n",
        "    P=d.P.values,\n",
        "    G=d.G.values,\n",
        "    U=d.U.values,\n",
        "    C=d.C.values,\n",
        ")\n",
        "p6_12, losses = svi.run(random.PRNGKey(0), 1000)\n",
        "post = m6_12.sample_posterior(random.PRNGKey(1), p6_12, (1000,))\n",
        "print_summary(post, 0.89, False)"
      ],
      "execution_count": null,
      "outputs": [
        {
          "output_type": "stream",
          "text": [
            "100%|██████████| 1000/1000 [00:02<00:00, 479.99it/s, init loss: 565.4859, avg. loss [951-1000]: 307.1190]\n"
          ],
          "name": "stderr"
        },
        {
          "output_type": "stream",
          "text": [
            "\n",
            "                mean       std    median      5.5%     94.5%     n_eff     r_hat\n",
            "         U      1.87      0.17      1.88      1.59      2.11   1009.20      1.00\n",
            "         a     -0.06      0.08     -0.05     -0.18      0.07    766.03      1.00\n",
            "      b_GC      0.01      0.10      0.01     -0.15      0.17   1031.98      1.00\n",
            "      b_PC      0.99      0.07      0.99      0.88      1.11   1106.62      1.00\n",
            "     sigma      1.08      0.05      1.08      0.99      1.16    797.58      1.00\n",
            "\n"
          ],
          "name": "stdout"
        }
      ]
    },
    {
      "cell_type": "markdown",
      "metadata": {
        "id": "T29wJN6AuTHr"
      },
      "source": [
        "## Logistic regression version\n",
        "\n",
        "We modify the scenario to match the UC Berkeley admissions scenario (with binary data) in sec 11.1.4."
      ]
    },
    {
      "cell_type": "code",
      "metadata": {
        "colab": {
          "base_uri": "https://localhost:8080/",
          "height": 335
        },
        "id": "01b-kAurskxC",
        "outputId": "1241dffa-8481-43a7-aad5-7dfe459599d3"
      },
      "source": [
        "N = 200  # number of samples\n",
        "b_GP = 1  # direct effect of G on P\n",
        "b_GC = 0  # direct effect of G on C\n",
        "b_PC = 1  # direct effect of P on C\n",
        "b_U = 2  # direct effect of U on P and C\n",
        "\n",
        "with numpyro.handlers.seed(rng_seed=1):\n",
        "    #U = 2 * numpyro.sample(\"U\", dist.Bernoulli(0.5).expand([N])) - 1\n",
        "    U = numpyro.sample(\"U\", dist.Normal().expand([N]))\n",
        "    #G = numpyro.sample(\"G\", dist.Normal().expand([N]))\n",
        "    G = numpyro.sample(\"G\", dist.Bernoulli(0.5).expand([N])) \n",
        "    P = numpyro.sample(\"P\", dist.Normal(b_GP * G + b_U * U))\n",
        "    #C = numpyro.sample(\"C\", dist.Normal(b_PC * P + b_GC * G + b_U * U))\n",
        "    logits = b_PC * P + b_GC * G + b_U * U\n",
        "    probs = expit(logits)\n",
        "    C = numpyro.sample(\"C\", dist.BernoulliProbs(probs))\n",
        "    df_binary = pd.DataFrame({\"C\": C, \"G\": G, \"P\": P,  \"U\": U, \"probs\": probs})\n",
        "\n",
        "display(df_binary.head(10))"
      ],
      "execution_count": null,
      "outputs": [
        {
          "output_type": "display_data",
          "data": {
            "text/html": [
              "<div>\n",
              "<style scoped>\n",
              "    .dataframe tbody tr th:only-of-type {\n",
              "        vertical-align: middle;\n",
              "    }\n",
              "\n",
              "    .dataframe tbody tr th {\n",
              "        vertical-align: top;\n",
              "    }\n",
              "\n",
              "    .dataframe thead th {\n",
              "        text-align: right;\n",
              "    }\n",
              "</style>\n",
              "<table border=\"1\" class=\"dataframe\">\n",
              "  <thead>\n",
              "    <tr style=\"text-align: right;\">\n",
              "      <th></th>\n",
              "      <th>C</th>\n",
              "      <th>P</th>\n",
              "      <th>G</th>\n",
              "      <th>U</th>\n",
              "      <th>probs</th>\n",
              "    </tr>\n",
              "  </thead>\n",
              "  <tbody>\n",
              "    <tr>\n",
              "      <th>0</th>\n",
              "      <td>1</td>\n",
              "      <td>2.760981</td>\n",
              "      <td>0</td>\n",
              "      <td>0.921780</td>\n",
              "      <td>0.990093</td>\n",
              "    </tr>\n",
              "    <tr>\n",
              "      <th>1</th>\n",
              "      <td>1</td>\n",
              "      <td>-0.477833</td>\n",
              "      <td>0</td>\n",
              "      <td>-0.646999</td>\n",
              "      <td>0.145315</td>\n",
              "    </tr>\n",
              "    <tr>\n",
              "      <th>2</th>\n",
              "      <td>0</td>\n",
              "      <td>-1.092095</td>\n",
              "      <td>-1</td>\n",
              "      <td>-1.108740</td>\n",
              "      <td>0.035244</td>\n",
              "    </tr>\n",
              "    <tr>\n",
              "      <th>3</th>\n",
              "      <td>0</td>\n",
              "      <td>-3.478733</td>\n",
              "      <td>0</td>\n",
              "      <td>-1.700618</td>\n",
              "      <td>0.001027</td>\n",
              "    </tr>\n",
              "    <tr>\n",
              "      <th>4</th>\n",
              "      <td>1</td>\n",
              "      <td>-0.999583</td>\n",
              "      <td>0</td>\n",
              "      <td>-0.570333</td>\n",
              "      <td>0.105246</td>\n",
              "    </tr>\n",
              "    <tr>\n",
              "      <th>5</th>\n",
              "      <td>1</td>\n",
              "      <td>-0.972953</td>\n",
              "      <td>-1</td>\n",
              "      <td>0.398886</td>\n",
              "      <td>0.456317</td>\n",
              "    </tr>\n",
              "    <tr>\n",
              "      <th>6</th>\n",
              "      <td>0</td>\n",
              "      <td>-0.821708</td>\n",
              "      <td>0</td>\n",
              "      <td>-0.773144</td>\n",
              "      <td>0.085646</td>\n",
              "    </tr>\n",
              "    <tr>\n",
              "      <th>7</th>\n",
              "      <td>1</td>\n",
              "      <td>3.061834</td>\n",
              "      <td>-1</td>\n",
              "      <td>1.711392</td>\n",
              "      <td>0.998476</td>\n",
              "    </tr>\n",
              "    <tr>\n",
              "      <th>8</th>\n",
              "      <td>1</td>\n",
              "      <td>4.175874</td>\n",
              "      <td>0</td>\n",
              "      <td>1.578928</td>\n",
              "      <td>0.999347</td>\n",
              "    </tr>\n",
              "    <tr>\n",
              "      <th>9</th>\n",
              "      <td>0</td>\n",
              "      <td>-0.802110</td>\n",
              "      <td>0</td>\n",
              "      <td>-0.601525</td>\n",
              "      <td>0.118662</td>\n",
              "    </tr>\n",
              "  </tbody>\n",
              "</table>\n",
              "</div>"
            ],
            "text/plain": [
              "   C         P  G         U     probs\n",
              "0  1  2.760981  0  0.921780  0.990093\n",
              "1  1 -0.477833  0 -0.646999  0.145315\n",
              "2  0 -1.092095 -1 -1.108740  0.035244\n",
              "3  0 -3.478733  0 -1.700618  0.001027\n",
              "4  1 -0.999583  0 -0.570333  0.105246\n",
              "5  1 -0.972953 -1  0.398886  0.456317\n",
              "6  0 -0.821708  0 -0.773144  0.085646\n",
              "7  1  3.061834 -1  1.711392  0.998476\n",
              "8  1  4.175874  0  1.578928  0.999347\n",
              "9  0 -0.802110  0 -0.601525  0.118662"
            ]
          },
          "metadata": {
            "tags": []
          }
        }
      ]
    },
    {
      "cell_type": "code",
      "metadata": {
        "colab": {
          "base_uri": "https://localhost:8080/",
          "height": 191
        },
        "id": "N5i75UBY7hNj",
        "outputId": "7824d886-0a63-4946-e8d3-6bbfc9129dad"
      },
      "source": [
        "def model_causal(C=None, G=None, P=None, U=None):\n",
        "    U = numpyro.sample(\"U\", dist.Normal(), obs=U)\n",
        "    G = numpyro.sample(\"G\", dist.Bernoulli(0.5), obs=G)\n",
        "    P = numpyro.sample(\"P\", dist.Normal(b_GP * G + b_U * U), obs=P) \n",
        "    logits = b_PC * P + b_GC * G + b_U * U\n",
        "    probs = expit(logits)\n",
        "    C = numpyro.sample(\"C\", dist.BernoulliProbs(probs), obs=C)\n",
        "    return np.array([C, G, P, U])\n"
      ],
      "execution_count": null,
      "outputs": [
        {
          "output_type": "display_data",
          "data": {
            "text/html": [
              "<div>\n",
              "<style scoped>\n",
              "    .dataframe tbody tr th:only-of-type {\n",
              "        vertical-align: middle;\n",
              "    }\n",
              "\n",
              "    .dataframe tbody tr th {\n",
              "        vertical-align: top;\n",
              "    }\n",
              "\n",
              "    .dataframe thead th {\n",
              "        text-align: right;\n",
              "    }\n",
              "</style>\n",
              "<table border=\"1\" class=\"dataframe\">\n",
              "  <thead>\n",
              "    <tr style=\"text-align: right;\">\n",
              "      <th></th>\n",
              "      <th>C</th>\n",
              "      <th>G</th>\n",
              "      <th>P</th>\n",
              "      <th>U</th>\n",
              "    </tr>\n",
              "  </thead>\n",
              "  <tbody>\n",
              "    <tr>\n",
              "      <th>0</th>\n",
              "      <td>0.0</td>\n",
              "      <td>1.0</td>\n",
              "      <td>-1.016595</td>\n",
              "      <td>-1.251539</td>\n",
              "    </tr>\n",
              "    <tr>\n",
              "      <th>1</th>\n",
              "      <td>0.0</td>\n",
              "      <td>0.0</td>\n",
              "      <td>-0.258828</td>\n",
              "      <td>-0.648633</td>\n",
              "    </tr>\n",
              "    <tr>\n",
              "      <th>2</th>\n",
              "      <td>0.0</td>\n",
              "      <td>1.0</td>\n",
              "      <td>-2.297220</td>\n",
              "      <td>-0.604780</td>\n",
              "    </tr>\n",
              "    <tr>\n",
              "      <th>3</th>\n",
              "      <td>1.0</td>\n",
              "      <td>1.0</td>\n",
              "      <td>5.914941</td>\n",
              "      <td>2.049074</td>\n",
              "    </tr>\n",
              "    <tr>\n",
              "      <th>4</th>\n",
              "      <td>1.0</td>\n",
              "      <td>0.0</td>\n",
              "      <td>4.471634</td>\n",
              "      <td>2.095908</td>\n",
              "    </tr>\n",
              "  </tbody>\n",
              "</table>\n",
              "</div>"
            ],
            "text/plain": [
              "     C    G         P         U\n",
              "0  0.0  1.0 -1.016595 -1.251539\n",
              "1  0.0  0.0 -0.258828 -0.648633\n",
              "2  0.0  1.0 -2.297220 -0.604780\n",
              "3  1.0  1.0  5.914941  2.049074\n",
              "4  1.0  0.0  4.471634  2.095908"
            ]
          },
          "metadata": {
            "tags": []
          }
        }
      ]
    },
    {
      "cell_type": "code",
      "metadata": {
        "colab": {
          "base_uri": "https://localhost:8080/",
          "height": 191
        },
        "id": "Q8SRcep98R5I",
        "outputId": "556e8551-5db2-4898-dfbf-60bc32999bb1"
      },
      "source": [
        "def make_samples(C=None, G=None, P=None, U=None, nsamples=200):\n",
        "  data_list = []\n",
        "  with numpyro.handlers.seed(rng_seed=0):\n",
        "    for i in range(nsamples):\n",
        "      out = model_causal(C, G, P, U)\n",
        "      data_list.append(out)\n",
        "  df = pd.DataFrame.from_records(data_list, columns=['C','G','P','U'])\n",
        "  return df\n",
        "\n",
        "df_binary = make_samples() \n",
        "display(df_binary.head())\n",
        "\n"
      ],
      "execution_count": null,
      "outputs": [
        {
          "output_type": "display_data",
          "data": {
            "text/html": [
              "<div>\n",
              "<style scoped>\n",
              "    .dataframe tbody tr th:only-of-type {\n",
              "        vertical-align: middle;\n",
              "    }\n",
              "\n",
              "    .dataframe tbody tr th {\n",
              "        vertical-align: top;\n",
              "    }\n",
              "\n",
              "    .dataframe thead th {\n",
              "        text-align: right;\n",
              "    }\n",
              "</style>\n",
              "<table border=\"1\" class=\"dataframe\">\n",
              "  <thead>\n",
              "    <tr style=\"text-align: right;\">\n",
              "      <th></th>\n",
              "      <th>C</th>\n",
              "      <th>G</th>\n",
              "      <th>P</th>\n",
              "      <th>U</th>\n",
              "    </tr>\n",
              "  </thead>\n",
              "  <tbody>\n",
              "    <tr>\n",
              "      <th>0</th>\n",
              "      <td>0.0</td>\n",
              "      <td>1.0</td>\n",
              "      <td>-1.016595</td>\n",
              "      <td>-1.251539</td>\n",
              "    </tr>\n",
              "    <tr>\n",
              "      <th>1</th>\n",
              "      <td>0.0</td>\n",
              "      <td>0.0</td>\n",
              "      <td>-0.258828</td>\n",
              "      <td>-0.648633</td>\n",
              "    </tr>\n",
              "    <tr>\n",
              "      <th>2</th>\n",
              "      <td>0.0</td>\n",
              "      <td>1.0</td>\n",
              "      <td>-2.297220</td>\n",
              "      <td>-0.604780</td>\n",
              "    </tr>\n",
              "    <tr>\n",
              "      <th>3</th>\n",
              "      <td>1.0</td>\n",
              "      <td>1.0</td>\n",
              "      <td>5.914941</td>\n",
              "      <td>2.049074</td>\n",
              "    </tr>\n",
              "    <tr>\n",
              "      <th>4</th>\n",
              "      <td>1.0</td>\n",
              "      <td>0.0</td>\n",
              "      <td>4.471634</td>\n",
              "      <td>2.095908</td>\n",
              "    </tr>\n",
              "  </tbody>\n",
              "</table>\n",
              "</div>"
            ],
            "text/plain": [
              "     C    G         P         U\n",
              "0  0.0  1.0 -1.016595 -1.251539\n",
              "1  0.0  0.0 -0.258828 -0.648633\n",
              "2  0.0  1.0 -2.297220 -0.604780\n",
              "3  1.0  1.0  5.914941  2.049074\n",
              "4  1.0  0.0  4.471634  2.095908"
            ]
          },
          "metadata": {
            "tags": []
          }
        }
      ]
    },
    {
      "cell_type": "code",
      "metadata": {
        "colab": {
          "base_uri": "https://localhost:8080/"
        },
        "id": "n4lGYRcMB1vF",
        "outputId": "c75e257f-2021-4a6a-d871-555e5ef37aed"
      },
      "source": [
        "\n",
        "Cbar = df_binary['C'].values.mean()\n",
        "Gbar = df_binary['G'].values.mean()\n",
        "Pbar = df_binary['P'].values.mean()\n",
        "Ubar = df_binary['U'].values.mean()\n",
        "print([Cbar, Gbar, Pbar, Ubar])\n",
        "print(b_GP * Gbar + b_U * Ubar) # expected Pbar\n",
        "\n"
      ],
      "execution_count": null,
      "outputs": [
        {
          "output_type": "stream",
          "text": [
            "[0.65, 0.465, 0.9102400523796678, 0.15905934125650675]\n",
            "0.7831186825130135\n"
          ],
          "name": "stdout"
        }
      ]
    },
    {
      "cell_type": "code",
      "metadata": {
        "colab": {
          "base_uri": "https://localhost:8080/"
        },
        "id": "RA1ltAvl9Mjj",
        "outputId": "2f24b298-be6a-4e0c-ed87-5743c99742e7"
      },
      "source": [
        "N = len(df0)\n",
        "prob_admitted0 = np.sum(df0.C.values)/N\n",
        "prob_admitted1 = np.sum(df1.C.values)/N\n",
        "print([prob_admitted0, prob_admitted1])"
      ],
      "execution_count": null,
      "outputs": [
        {
          "output_type": "stream",
          "text": [
            "[0.5, 0.59]\n"
          ],
          "name": "stdout"
        }
      ]
    },
    {
      "cell_type": "code",
      "metadata": {
        "colab": {
          "base_uri": "https://localhost:8080/"
        },
        "id": "9jKjNnLdrPFS",
        "outputId": "dcb479b4-6def-4918-b61c-e4e9a70365e2"
      },
      "source": [
        "def model_logreg(C=None, G=None, P=None):\n",
        "    a = numpyro.sample(\"a\", dist.Normal(0, 1))\n",
        "    b_PC = numpyro.sample(\"b_PC\", dist.Normal(0, 0.1))\n",
        "    b_GC = numpyro.sample(\"b_GC\", dist.Normal(0, 0.1))\n",
        "    logits = a + b_PC * P + b_GC * G\n",
        "    numpyro.sample(\"C\", dist.Bernoulli(logits=logits), obs=C)\n",
        "\n",
        "data_binary = {'P': df_binary.P.values, 'G': df_binary.G.values, 'C': df_binary.C.values}\n",
        "\n",
        "warmup  = 1000\n",
        "samples = 500\n",
        "mcmc_run = MCMC(NUTS(model_logreg), warmup, samples, num_chains=4)\n",
        "mcmc_run.run(random.PRNGKey(0), **data)\n",
        "mcmc_run.print_summary(0.89)"
      ],
      "execution_count": null,
      "outputs": [
        {
          "output_type": "stream",
          "text": [
            "/usr/local/lib/python3.7/dist-packages/numpyro/infer/mcmc.py:269: UserWarning: There are not enough devices to run parallel chains: expected 4 but got 1. Chains will be drawn sequentially. If you are running MCMC in CPU, consider using `numpyro.set_host_device_count(4)` at the beginning of your program. You can double-check how many devices are available in your system using `jax.local_device_count()`.\n",
            "  self.num_chains, local_device_count(), self.num_chains\n",
            "sample: 100%|██████████| 1500/1500 [00:06<00:00, 241.87it/s, 5 steps of size 7.40e-01. acc. prob=0.94]\n",
            "sample: 100%|██████████| 1500/1500 [00:02<00:00, 663.74it/s, 3 steps of size 7.51e-01. acc. prob=0.93]\n",
            "sample: 100%|██████████| 1500/1500 [00:02<00:00, 662.48it/s, 3 steps of size 8.86e-01. acc. prob=0.90]\n",
            "sample: 100%|██████████| 1500/1500 [00:02<00:00, 670.65it/s, 3 steps of size 8.32e-01. acc. prob=0.90]"
          ],
          "name": "stderr"
        },
        {
          "output_type": "stream",
          "text": [
            "\n",
            "                mean       std    median      5.5%     94.5%     n_eff     r_hat\n",
            "         a    -22.18      0.70    -22.17    -23.33    -21.08   2259.97      1.00\n",
            "      b_GC      2.09      0.10      2.09      1.94      2.25   1966.21      1.00\n",
            "      b_PC     18.12      0.10     18.12     17.96     18.29   2010.51      1.00\n",
            "\n",
            "Number of divergences: 0\n"
          ],
          "name": "stdout"
        },
        {
          "output_type": "stream",
          "text": [
            "\n"
          ],
          "name": "stderr"
        }
      ]
    },
    {
      "cell_type": "markdown",
      "metadata": {
        "id": "aZCWR2nW6lyz"
      },
      "source": [
        "## Counterfactual plot\n",
        "\n",
        "Similar to p140"
      ]
    },
    {
      "cell_type": "code",
      "metadata": {
        "colab": {
          "base_uri": "https://localhost:8080/",
          "height": 381
        },
        "id": "bjhP_mPtDINb",
        "outputId": "cdff0f28-3263-48c5-8006-9c788d8f1f96"
      },
      "source": [
        "# p(C | do(G), do(P))\n",
        "Pfixed = 0\n",
        "\n",
        "df0 = make_samples(G=0, P=Pfixed, nsamples=200) \n",
        "display(df0.head())\n",
        "Cbar0 = df0['C'].values.mean()\n",
        "\n",
        "df1 = make_samples(G=1, P=Pfixed, nsamples=200) \n",
        "display(df1.head())\n",
        "Cbar1 = df1['C'].values.mean()\n",
        "\n",
        "print([Cbar0, Cbar1])"
      ],
      "execution_count": null,
      "outputs": [
        {
          "output_type": "display_data",
          "data": {
            "text/html": [
              "<div>\n",
              "<style scoped>\n",
              "    .dataframe tbody tr th:only-of-type {\n",
              "        vertical-align: middle;\n",
              "    }\n",
              "\n",
              "    .dataframe tbody tr th {\n",
              "        vertical-align: top;\n",
              "    }\n",
              "\n",
              "    .dataframe thead th {\n",
              "        text-align: right;\n",
              "    }\n",
              "</style>\n",
              "<table border=\"1\" class=\"dataframe\">\n",
              "  <thead>\n",
              "    <tr style=\"text-align: right;\">\n",
              "      <th></th>\n",
              "      <th>C</th>\n",
              "      <th>G</th>\n",
              "      <th>P</th>\n",
              "      <th>U</th>\n",
              "    </tr>\n",
              "  </thead>\n",
              "  <tbody>\n",
              "    <tr>\n",
              "      <th>0</th>\n",
              "      <td>0.0</td>\n",
              "      <td>0.0</td>\n",
              "      <td>0.0</td>\n",
              "      <td>-1.251539</td>\n",
              "    </tr>\n",
              "    <tr>\n",
              "      <th>1</th>\n",
              "      <td>1.0</td>\n",
              "      <td>0.0</td>\n",
              "      <td>0.0</td>\n",
              "      <td>0.486483</td>\n",
              "    </tr>\n",
              "    <tr>\n",
              "      <th>2</th>\n",
              "      <td>0.0</td>\n",
              "      <td>0.0</td>\n",
              "      <td>0.0</td>\n",
              "      <td>-0.648633</td>\n",
              "    </tr>\n",
              "    <tr>\n",
              "      <th>3</th>\n",
              "      <td>1.0</td>\n",
              "      <td>0.0</td>\n",
              "      <td>0.0</td>\n",
              "      <td>1.038439</td>\n",
              "    </tr>\n",
              "    <tr>\n",
              "      <th>4</th>\n",
              "      <td>1.0</td>\n",
              "      <td>0.0</td>\n",
              "      <td>0.0</td>\n",
              "      <td>-0.604780</td>\n",
              "    </tr>\n",
              "  </tbody>\n",
              "</table>\n",
              "</div>"
            ],
            "text/plain": [
              "     C    G    P         U\n",
              "0  0.0  0.0  0.0 -1.251539\n",
              "1  1.0  0.0  0.0  0.486483\n",
              "2  0.0  0.0  0.0 -0.648633\n",
              "3  1.0  0.0  0.0  1.038439\n",
              "4  1.0  0.0  0.0 -0.604780"
            ]
          },
          "metadata": {
            "tags": []
          }
        },
        {
          "output_type": "display_data",
          "data": {
            "text/html": [
              "<div>\n",
              "<style scoped>\n",
              "    .dataframe tbody tr th:only-of-type {\n",
              "        vertical-align: middle;\n",
              "    }\n",
              "\n",
              "    .dataframe tbody tr th {\n",
              "        vertical-align: top;\n",
              "    }\n",
              "\n",
              "    .dataframe thead th {\n",
              "        text-align: right;\n",
              "    }\n",
              "</style>\n",
              "<table border=\"1\" class=\"dataframe\">\n",
              "  <thead>\n",
              "    <tr style=\"text-align: right;\">\n",
              "      <th></th>\n",
              "      <th>C</th>\n",
              "      <th>G</th>\n",
              "      <th>P</th>\n",
              "      <th>U</th>\n",
              "    </tr>\n",
              "  </thead>\n",
              "  <tbody>\n",
              "    <tr>\n",
              "      <th>0</th>\n",
              "      <td>0.0</td>\n",
              "      <td>1.0</td>\n",
              "      <td>0.0</td>\n",
              "      <td>-1.251539</td>\n",
              "    </tr>\n",
              "    <tr>\n",
              "      <th>1</th>\n",
              "      <td>1.0</td>\n",
              "      <td>1.0</td>\n",
              "      <td>0.0</td>\n",
              "      <td>0.486483</td>\n",
              "    </tr>\n",
              "    <tr>\n",
              "      <th>2</th>\n",
              "      <td>0.0</td>\n",
              "      <td>1.0</td>\n",
              "      <td>0.0</td>\n",
              "      <td>-0.648633</td>\n",
              "    </tr>\n",
              "    <tr>\n",
              "      <th>3</th>\n",
              "      <td>1.0</td>\n",
              "      <td>1.0</td>\n",
              "      <td>0.0</td>\n",
              "      <td>1.038439</td>\n",
              "    </tr>\n",
              "    <tr>\n",
              "      <th>4</th>\n",
              "      <td>1.0</td>\n",
              "      <td>1.0</td>\n",
              "      <td>0.0</td>\n",
              "      <td>-0.604780</td>\n",
              "    </tr>\n",
              "  </tbody>\n",
              "</table>\n",
              "</div>"
            ],
            "text/plain": [
              "     C    G    P         U\n",
              "0  0.0  1.0  0.0 -1.251539\n",
              "1  1.0  1.0  0.0  0.486483\n",
              "2  0.0  1.0  0.0 -0.648633\n",
              "3  1.0  1.0  0.0  1.038439\n",
              "4  1.0  1.0  0.0 -0.604780"
            ]
          },
          "metadata": {
            "tags": []
          }
        },
        {
          "output_type": "stream",
          "text": [
            "[0.565, 0.565]\n"
          ],
          "name": "stdout"
        }
      ]
    },
    {
      "cell_type": "code",
      "metadata": {
        "colab": {
          "base_uri": "https://localhost:8080/"
        },
        "id": "KRONqS_twABe",
        "outputId": "e18a2327-4529-4834-9ac9-da225964942f"
      },
      "source": [
        "sim_dat = dict(G=jnp.array([0,1]), P=jnp.array(Pfixed))\n",
        "post = mcmc_run.get_samples()\n",
        "pred = Predictive(model_logreg, post)(random.PRNGKey(22), **sim_dat)\n",
        "print(pred['C'].shape)\n",
        "print(np.mean(pred['C'], axis=0))\n"
      ],
      "execution_count": null,
      "outputs": [
        {
          "output_type": "stream",
          "text": [
            "(2000, 2)\n",
            "[0.000 0.000]\n"
          ],
          "name": "stdout"
        }
      ]
    },
    {
      "cell_type": "code",
      "metadata": {
        "colab": {
          "base_uri": "https://localhost:8080/"
        },
        "id": "RLd_WHLm7zzb",
        "outputId": "6a7d6877-059e-44f6-d973-7de76eb82c22"
      },
      "source": [
        "a_est = post['a'].mean()\n",
        "b_PC_est = post['b_PC'].mean()\n",
        "b_GC_est = post['b_GC'].mean()\n",
        "P = Pfixed\n",
        "\n",
        "G = np.array([0,1])\n",
        "logits = a_est + b_PC_est * P + b_GC_est * G\n",
        "np.set_printoptions(formatter={'float': lambda x: \"{0:0.3f}\".format(x)})\n",
        "print(expit(logits))"
      ],
      "execution_count": null,
      "outputs": [
        {
          "output_type": "stream",
          "text": [
            "[0.000 0.000]\n"
          ],
          "name": "stdout"
        }
      ]
    },
    {
      "cell_type": "code",
      "metadata": {
        "colab": {
          "base_uri": "https://localhost:8080/"
        },
        "id": "WoXQNbK_BXGF",
        "outputId": "a8ad53a5-7cfe-48c5-fb78-cef0ba29e6e7"
      },
      "source": [
        "pred"
      ],
      "execution_count": null,
      "outputs": [
        {
          "output_type": "execute_result",
          "data": {
            "text/plain": [
              "{'C': DeviceArray([[0, 1],\n",
              "              [0, 1],\n",
              "              [0, 1],\n",
              "              ...,\n",
              "              [0, 1],\n",
              "              [0, 1],\n",
              "              [0, 1]], dtype=int32)}"
            ]
          },
          "metadata": {
            "tags": []
          },
          "execution_count": 142
        }
      ]
    },
    {
      "cell_type": "code",
      "metadata": {
        "id": "97wFDtiqG3Mv"
      },
      "source": [
        ""
      ],
      "execution_count": null,
      "outputs": []
    }
  ]
}